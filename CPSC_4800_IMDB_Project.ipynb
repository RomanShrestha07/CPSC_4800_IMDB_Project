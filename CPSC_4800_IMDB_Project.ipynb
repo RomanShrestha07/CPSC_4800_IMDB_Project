{
 "cells": [
  {
   "cell_type": "markdown",
   "id": "f1c82f5b8f564572",
   "metadata": {
    "collapsed": false
   },
   "source": [
    "# TABLE OF CONTENTS"
   ]
  },
  {
   "cell_type": "markdown",
   "id": "c40fb3c23b777608",
   "metadata": {
    "collapsed": false
   },
   "source": [
    "## 1. PROBLEM DESCRIPTION"
   ]
  },
  {
   "cell_type": "markdown",
   "id": "e3480de8862f3dab",
   "metadata": {
    "collapsed": false
   },
   "source": [
    "In our Python group project revolving around IMDb Non-Commercial Datasets, we delve into a similar journey of data exploration and utilization. Our project centers around accessing subsets of IMDb data, tailored for personal and non-commercial use by customers. The dataset repository offers various subsets of IMDb data, each meticulously crafted and structured to facilitate analysis and exploration. Our objective is to harness these datasets to extract valuable insights and trends within the realm of IMDb content. The project encompasses a myriad of datasets, each offering unique perspectives and facets of IMDb content, ranging from title details to cast and crew information, and user ratings. With each dataset encapsulating valuable information, our aim is to unravel the intricacies of IMDb content and unveil noteworthy patterns and trends within the realm of entertainment."
   ]
  },
  {
   "cell_type": "markdown",
   "id": "1746b23a255471c2",
   "metadata": {
    "collapsed": false
   },
   "source": [
    "## 2. THE DATA"
   ]
  },
  {
   "cell_type": "markdown",
   "id": "30b2dbaea3c2af1f",
   "metadata": {
    "collapsed": false
   },
   "source": [
    "IMDb, short for Internet Movie Database, is a comprehensive online database that was launched in 1990 and has been a subsidiary of Amazon.com since 1998. It stands as the most popular and authoritative source for movie, TV, and celebrity content, providing a platform for fans to explore the world of entertainment and make informed decisions about what to watch.\n",
    "\n",
    "The database boasts millions of entries, including movies, TV shows, entertainment programs, and information about cast and crew members.\n",
    "\n",
    "Data Location:\n",
    "\n",
    "The dataset files are available for download from https://datasets.imdbws.com/. The data is updated daily to ensure relevance and accuracy."
   ]
  },
  {
   "cell_type": "markdown",
   "id": "5e272c3bf27f86d5",
   "metadata": {
    "collapsed": false
   },
   "source": [
    "Main datasets:\n",
    "\n",
    "1. title.basics.tsv\n",
    "\n",
    "* tconst (string) - alphanumeric unique identifier of the title\n",
    "* titleType (string) – the type/format of the title (e.g. movie, short, tvseries, tvepisode, video, etc)\n",
    "* primaryTitle (string) – the more popular title / the title used by the filmmakers on promotional materials at the point of release\n",
    "* originalTitle (string) - original title, in the original language\n",
    "* isAdult (boolean) - 0: non-adult title; 1: adult title\n",
    "* startYear (YYYY) – represents the release year of a title. In the case of TV Series, it is the series start year\n",
    "* endYear (YYYY) – TV Series end year. ‘\\N’ for all other title types\n",
    "* runtimeMinutes – primary runtime of the title, in minutes\n",
    "* genres (string array) – includes up to three genres associated with the title\n",
    "\n",
    "2. title.ratings.tsv\n",
    "* tconst (string): Alphanumeric unique identifier of the title.\n",
    "* averageRating: Weighted average of all individual user ratings for the title.\n",
    "* numVotes: Number of votes the title has received.\n",
    "\n",
    "3. name.basics.tsv\n",
    "* nconst (string): Alphanumeric unique identifier of the name/person.\n",
    "* primaryName: Name by which the person is most often credited.\n",
    "* birthYear: Year of birth in YYYY format.\n",
    "* deathYear: Year of death in YYYY format if applicable; otherwise '\\N'.\n",
    "* primaryProfession (array of strings): Top-3 professions of the person.\n",
    "* knownForTitles (array of tconsts): Titles the person is known for."
   ]
  },
  {
   "cell_type": "code",
   "execution_count": 50,
   "id": "29df1f251db6ed36",
   "metadata": {
    "collapsed": false,
    "ExecuteTime": {
     "end_time": "2024-03-25T03:38:26.626192Z",
     "start_time": "2024-03-25T03:38:26.621667Z"
    }
   },
   "outputs": [],
   "source": [
    "import pandas as pd\n",
    "import numpy as np\n",
    "import matplotlib.pyplot as plt\n",
    "import seaborn as sns\n",
    "\n",
    "%matplotlib inline"
   ]
  },
  {
   "cell_type": "code",
   "execution_count": 51,
   "id": "ca057b0ea458fef",
   "metadata": {
    "collapsed": false,
    "ExecuteTime": {
     "end_time": "2024-03-25T03:38:28.829389Z",
     "start_time": "2024-03-25T03:38:26.846765Z"
    }
   },
   "outputs": [
    {
     "data": {
      "text/plain": "      tconst titleType            primaryTitle           originalTitle  \\\n0  tt0000001     short              Carmencita              Carmencita   \n1  tt0000002     short  Le clown et ses chiens  Le clown et ses chiens   \n2  tt0000003     short          Pauvre Pierrot          Pauvre Pierrot   \n3  tt0000004     short             Un bon bock             Un bon bock   \n4  tt0000005     short        Blacksmith Scene        Blacksmith Scene   \n\n   isAdult startYear endYear runtimeMinutes                    genres  \n0        0      1894      \\N              1         Documentary,Short  \n1        0      1892      \\N              5           Animation,Short  \n2        0      1892      \\N              4  Animation,Comedy,Romance  \n3        0      1892      \\N             12           Animation,Short  \n4        0      1893      \\N              1              Comedy,Short  ",
      "text/html": "<div>\n<style scoped>\n    .dataframe tbody tr th:only-of-type {\n        vertical-align: middle;\n    }\n\n    .dataframe tbody tr th {\n        vertical-align: top;\n    }\n\n    .dataframe thead th {\n        text-align: right;\n    }\n</style>\n<table border=\"1\" class=\"dataframe\">\n  <thead>\n    <tr style=\"text-align: right;\">\n      <th></th>\n      <th>tconst</th>\n      <th>titleType</th>\n      <th>primaryTitle</th>\n      <th>originalTitle</th>\n      <th>isAdult</th>\n      <th>startYear</th>\n      <th>endYear</th>\n      <th>runtimeMinutes</th>\n      <th>genres</th>\n    </tr>\n  </thead>\n  <tbody>\n    <tr>\n      <th>0</th>\n      <td>tt0000001</td>\n      <td>short</td>\n      <td>Carmencita</td>\n      <td>Carmencita</td>\n      <td>0</td>\n      <td>1894</td>\n      <td>\\N</td>\n      <td>1</td>\n      <td>Documentary,Short</td>\n    </tr>\n    <tr>\n      <th>1</th>\n      <td>tt0000002</td>\n      <td>short</td>\n      <td>Le clown et ses chiens</td>\n      <td>Le clown et ses chiens</td>\n      <td>0</td>\n      <td>1892</td>\n      <td>\\N</td>\n      <td>5</td>\n      <td>Animation,Short</td>\n    </tr>\n    <tr>\n      <th>2</th>\n      <td>tt0000003</td>\n      <td>short</td>\n      <td>Pauvre Pierrot</td>\n      <td>Pauvre Pierrot</td>\n      <td>0</td>\n      <td>1892</td>\n      <td>\\N</td>\n      <td>4</td>\n      <td>Animation,Comedy,Romance</td>\n    </tr>\n    <tr>\n      <th>3</th>\n      <td>tt0000004</td>\n      <td>short</td>\n      <td>Un bon bock</td>\n      <td>Un bon bock</td>\n      <td>0</td>\n      <td>1892</td>\n      <td>\\N</td>\n      <td>12</td>\n      <td>Animation,Short</td>\n    </tr>\n    <tr>\n      <th>4</th>\n      <td>tt0000005</td>\n      <td>short</td>\n      <td>Blacksmith Scene</td>\n      <td>Blacksmith Scene</td>\n      <td>0</td>\n      <td>1893</td>\n      <td>\\N</td>\n      <td>1</td>\n      <td>Comedy,Short</td>\n    </tr>\n  </tbody>\n</table>\n</div>"
     },
     "execution_count": 51,
     "metadata": {},
     "output_type": "execute_result"
    }
   ],
   "source": [
    "# Reading the dataset \"title_basics\"\n",
    "\n",
    "title_basics_data = pd.read_csv('data/title_basics_data.tsv', sep='\\t')\n",
    "\n",
    "title_basics_data.head()"
   ]
  },
  {
   "cell_type": "code",
   "execution_count": 52,
   "id": "10ac42bb8af055",
   "metadata": {
    "collapsed": false,
    "ExecuteTime": {
     "end_time": "2024-03-25T03:38:29.857338Z",
     "start_time": "2024-03-25T03:38:28.830939Z"
    }
   },
   "outputs": [
    {
     "name": "stdout",
     "output_type": "stream",
     "text": [
      "<class 'pandas.core.frame.DataFrame'>\n",
      "RangeIndex: 1048575 entries, 0 to 1048574\n",
      "Data columns (total 9 columns):\n",
      " #   Column          Non-Null Count    Dtype \n",
      "---  ------          --------------    ----- \n",
      " 0   tconst          1048575 non-null  object\n",
      " 1   titleType       1048575 non-null  object\n",
      " 2   primaryTitle    1048575 non-null  object\n",
      " 3   originalTitle   1048575 non-null  object\n",
      " 4   isAdult         1048575 non-null  int64 \n",
      " 5   startYear       1048575 non-null  object\n",
      " 6   endYear         1048575 non-null  object\n",
      " 7   runtimeMinutes  1048575 non-null  object\n",
      " 8   genres          1048575 non-null  object\n",
      "dtypes: int64(1), object(8)\n",
      "memory usage: 72.0+ MB\n"
     ]
    }
   ],
   "source": [
    "# Summary of the \"title_basics\" dataset\n",
    "\n",
    "title_basics_data.info()"
   ]
  },
  {
   "cell_type": "code",
   "execution_count": 53,
   "id": "75c7160e3ee0c511",
   "metadata": {
    "collapsed": false,
    "ExecuteTime": {
     "end_time": "2024-03-25T03:38:31.660273Z",
     "start_time": "2024-03-25T03:38:29.858384Z"
    }
   },
   "outputs": [
    {
     "data": {
      "text/plain": "      nconst      primaryName birthYear deathYear  \\\n0  nm0000001     Fred Astaire      1899      1987   \n1  nm0000002    Lauren Bacall      1924      2014   \n2  nm0000003  Brigitte Bardot      1934        \\N   \n3  nm0000004     John Belushi      1949      1982   \n4  nm0000005   Ingmar Bergman      1918      2007   \n\n                     primaryProfession  \\\n0       soundtrack,actor,miscellaneous   \n1                   actress,soundtrack   \n2  actress,soundtrack,music_department   \n3              actor,soundtrack,writer   \n4                writer,director,actor   \n\n                            knownForTitles  \n0  tt0027125,tt0050419,tt0053137,tt0072308  \n1  tt0038355,tt0037382,tt0075213,tt0117057  \n2  tt0049189,tt0054452,tt0056404,tt0057345  \n3  tt0078723,tt0080455,tt0072562,tt0077975  \n4  tt0083922,tt0069467,tt0050976,tt0050986  ",
      "text/html": "<div>\n<style scoped>\n    .dataframe tbody tr th:only-of-type {\n        vertical-align: middle;\n    }\n\n    .dataframe tbody tr th {\n        vertical-align: top;\n    }\n\n    .dataframe thead th {\n        text-align: right;\n    }\n</style>\n<table border=\"1\" class=\"dataframe\">\n  <thead>\n    <tr style=\"text-align: right;\">\n      <th></th>\n      <th>nconst</th>\n      <th>primaryName</th>\n      <th>birthYear</th>\n      <th>deathYear</th>\n      <th>primaryProfession</th>\n      <th>knownForTitles</th>\n    </tr>\n  </thead>\n  <tbody>\n    <tr>\n      <th>0</th>\n      <td>nm0000001</td>\n      <td>Fred Astaire</td>\n      <td>1899</td>\n      <td>1987</td>\n      <td>soundtrack,actor,miscellaneous</td>\n      <td>tt0027125,tt0050419,tt0053137,tt0072308</td>\n    </tr>\n    <tr>\n      <th>1</th>\n      <td>nm0000002</td>\n      <td>Lauren Bacall</td>\n      <td>1924</td>\n      <td>2014</td>\n      <td>actress,soundtrack</td>\n      <td>tt0038355,tt0037382,tt0075213,tt0117057</td>\n    </tr>\n    <tr>\n      <th>2</th>\n      <td>nm0000003</td>\n      <td>Brigitte Bardot</td>\n      <td>1934</td>\n      <td>\\N</td>\n      <td>actress,soundtrack,music_department</td>\n      <td>tt0049189,tt0054452,tt0056404,tt0057345</td>\n    </tr>\n    <tr>\n      <th>3</th>\n      <td>nm0000004</td>\n      <td>John Belushi</td>\n      <td>1949</td>\n      <td>1982</td>\n      <td>actor,soundtrack,writer</td>\n      <td>tt0078723,tt0080455,tt0072562,tt0077975</td>\n    </tr>\n    <tr>\n      <th>4</th>\n      <td>nm0000005</td>\n      <td>Ingmar Bergman</td>\n      <td>1918</td>\n      <td>2007</td>\n      <td>writer,director,actor</td>\n      <td>tt0083922,tt0069467,tt0050976,tt0050986</td>\n    </tr>\n  </tbody>\n</table>\n</div>"
     },
     "execution_count": 53,
     "metadata": {},
     "output_type": "execute_result"
    }
   ],
   "source": [
    "# Reading the dataset \"name_basics\"\n",
    "\n",
    "name_basics_data = pd.read_csv('data/name_basics_data.tsv', sep='\\t')\n",
    "\n",
    "name_basics_data.head()"
   ]
  },
  {
   "cell_type": "code",
   "execution_count": 54,
   "id": "57938a33a5898e0",
   "metadata": {
    "collapsed": false,
    "ExecuteTime": {
     "end_time": "2024-03-25T03:38:32.259134Z",
     "start_time": "2024-03-25T03:38:31.661792Z"
    }
   },
   "outputs": [
    {
     "data": {
      "text/plain": "      tconst  averageRating  numVotes\n0  tt0000001            5.7      2032\n1  tt0000002            5.7       272\n2  tt0000003            6.5      1973\n3  tt0000004            5.4       178\n4  tt0000005            6.2      2731",
      "text/html": "<div>\n<style scoped>\n    .dataframe tbody tr th:only-of-type {\n        vertical-align: middle;\n    }\n\n    .dataframe tbody tr th {\n        vertical-align: top;\n    }\n\n    .dataframe thead th {\n        text-align: right;\n    }\n</style>\n<table border=\"1\" class=\"dataframe\">\n  <thead>\n    <tr style=\"text-align: right;\">\n      <th></th>\n      <th>tconst</th>\n      <th>averageRating</th>\n      <th>numVotes</th>\n    </tr>\n  </thead>\n  <tbody>\n    <tr>\n      <th>0</th>\n      <td>tt0000001</td>\n      <td>5.7</td>\n      <td>2032</td>\n    </tr>\n    <tr>\n      <th>1</th>\n      <td>tt0000002</td>\n      <td>5.7</td>\n      <td>272</td>\n    </tr>\n    <tr>\n      <th>2</th>\n      <td>tt0000003</td>\n      <td>6.5</td>\n      <td>1973</td>\n    </tr>\n    <tr>\n      <th>3</th>\n      <td>tt0000004</td>\n      <td>5.4</td>\n      <td>178</td>\n    </tr>\n    <tr>\n      <th>4</th>\n      <td>tt0000005</td>\n      <td>6.2</td>\n      <td>2731</td>\n    </tr>\n  </tbody>\n</table>\n</div>"
     },
     "execution_count": 54,
     "metadata": {},
     "output_type": "execute_result"
    }
   ],
   "source": [
    "# Reading the dataset \"title_ratings\"\n",
    "\n",
    "title_ratings_data = pd.read_csv('data/title_ratings_data.tsv', sep='\\t')\n",
    "\n",
    "title_ratings_data.head()"
   ]
  },
  {
   "cell_type": "markdown",
   "id": "64ebad0a5099dcf2",
   "metadata": {
    "collapsed": false
   },
   "source": [
    "## 3. BACKGROUND RESEARCH"
   ]
  },
  {
   "cell_type": "markdown",
   "id": "be9390853143cb61",
   "metadata": {
    "collapsed": false
   },
   "source": [
    "These datasets offer subsets of IMDb data accessible to customers for personal and non-commercial use, providing valuable insights into diverse facets of IMDb content, such as titles, cast and crew details, and user ratings.\n",
    "\n",
    "- Title Basics Dataset: Contains over 1 million entries (1,048,575), each uniquely identified by an alphanumeric code (tconst). Provides details such as title type/format, primary and original titles, adult content indicator, start and end years, runtime duration, and associated genres.\n",
    "- Name Basics Dataset: Also comprises over 1 million entries (1,048,575), with each entry identified by an alphanumeric code (nconst). Includes information about the primary name of individuals, birth and death years, primary professions, and titles they are known for.\n",
    "- Title Ratings Dataset: Consists of more than 1 million entries (1,048,575), identified by an alphanumeric code (tconst). Contains data on the average rating and number of votes received for each title.\n",
    "\n",
    "Upon researching each of the aforementioned topics and scrutinizing the associated metadata file for each dataset, the following conclusions can be drawn:\n",
    "\n",
    "* Identification of the top 10 movies by decade.\n",
    "* Compilation of the top 10 actors based on the highest number of appearances in movies and their ratings.\n",
    "* Determination of the top 10 rated movies, considering both ratings and the number of votes received.\n",
    "* Analysis of the most prevalent genres across the IMDb database."
   ]
  },
  {
   "cell_type": "markdown",
   "id": "f71031f7b0f7db14",
   "metadata": {
    "collapsed": false
   },
   "source": [
    "## 4. READ IN THE DATA"
   ]
  },
  {
   "cell_type": "markdown",
   "id": "b0443ba95d65c690",
   "metadata": {
    "collapsed": false
   },
   "source": [
    "Let's read each file into a pandas dataframe, and then store all of the dataframes in a dictionary. This will give us a convenient way to store them, and a quick way to reference them later on. "
   ]
  },
  {
   "cell_type": "code",
   "execution_count": 55,
   "id": "19a471e1dcb55307",
   "metadata": {
    "collapsed": false,
    "ExecuteTime": {
     "end_time": "2024-03-25T03:38:36.330470Z",
     "start_time": "2024-03-25T03:38:32.260134Z"
    }
   },
   "outputs": [],
   "source": [
    "data_files = [\n",
    "    \"title_basics_data.tsv\",\n",
    "    \"title_ratings_data.tsv\",\n",
    "    \"name_basics_data.tsv\"\n",
    "]\n",
    "\n",
    "imdb_data = {}\n",
    "\n",
    "for file in data_files:\n",
    "    d = pd.read_csv(\"data/{0}\".format(file), sep='\\t')\n",
    "    key = file.replace(\".tsv\", \"\")\n",
    "    imdb_data[key] = d"
   ]
  },
  {
   "cell_type": "markdown",
   "id": "aa93edb8f615b424",
   "metadata": {
    "collapsed": false
   },
   "source": [
    "### A. Data Selection"
   ]
  },
  {
   "cell_type": "markdown",
   "id": "bc9b752fe9c4212d",
   "metadata": {
    "collapsed": false
   },
   "source": [
    "We'll have to filter the data to remove the unnecessary one \"runtimeMinutes\" in the title_basics_data. Working with fewer columns will make it easier to print the dataframe out and find correlations within it."
   ]
  },
  {
   "cell_type": "code",
   "execution_count": 56,
   "id": "bdf9065dabbfbf73",
   "metadata": {
    "collapsed": false,
    "ExecuteTime": {
     "end_time": "2024-03-25T03:38:36.428531Z",
     "start_time": "2024-03-25T03:38:36.331520Z"
    }
   },
   "outputs": [],
   "source": [
    "# Removing the column : \"runtimeMinutes\"\n",
    "\n",
    "imdb_data[\"title_basics_data\"] = imdb_data[\"title_basics_data\"].drop(columns=[\"runtimeMinutes\"])"
   ]
  },
  {
   "cell_type": "markdown",
   "id": "3dc439484ef07f5f",
   "metadata": {
    "collapsed": false
   },
   "source": [
    "## 5. GETTING TO KNOW THE DATA"
   ]
  },
  {
   "cell_type": "code",
   "execution_count": 57,
   "id": "cb4591cd398c3914",
   "metadata": {
    "collapsed": false,
    "ExecuteTime": {
     "end_time": "2024-03-25T03:38:36.446403Z",
     "start_time": "2024-03-25T03:38:36.429578Z"
    }
   },
   "outputs": [
    {
     "name": "stdout",
     "output_type": "stream",
     "text": [
      "\n",
      "\u001B[1m title_basics_data \u001B[0m\n"
     ]
    },
    {
     "data": {
      "text/plain": "      tconst titleType            primaryTitle           originalTitle  \\\n0  tt0000001     short              Carmencita              Carmencita   \n1  tt0000002     short  Le clown et ses chiens  Le clown et ses chiens   \n2  tt0000003     short          Pauvre Pierrot          Pauvre Pierrot   \n3  tt0000004     short             Un bon bock             Un bon bock   \n4  tt0000005     short        Blacksmith Scene        Blacksmith Scene   \n\n   isAdult startYear endYear                    genres  \n0        0      1894      \\N         Documentary,Short  \n1        0      1892      \\N           Animation,Short  \n2        0      1892      \\N  Animation,Comedy,Romance  \n3        0      1892      \\N           Animation,Short  \n4        0      1893      \\N              Comedy,Short  ",
      "text/html": "<div>\n<style scoped>\n    .dataframe tbody tr th:only-of-type {\n        vertical-align: middle;\n    }\n\n    .dataframe tbody tr th {\n        vertical-align: top;\n    }\n\n    .dataframe thead th {\n        text-align: right;\n    }\n</style>\n<table border=\"1\" class=\"dataframe\">\n  <thead>\n    <tr style=\"text-align: right;\">\n      <th></th>\n      <th>tconst</th>\n      <th>titleType</th>\n      <th>primaryTitle</th>\n      <th>originalTitle</th>\n      <th>isAdult</th>\n      <th>startYear</th>\n      <th>endYear</th>\n      <th>genres</th>\n    </tr>\n  </thead>\n  <tbody>\n    <tr>\n      <th>0</th>\n      <td>tt0000001</td>\n      <td>short</td>\n      <td>Carmencita</td>\n      <td>Carmencita</td>\n      <td>0</td>\n      <td>1894</td>\n      <td>\\N</td>\n      <td>Documentary,Short</td>\n    </tr>\n    <tr>\n      <th>1</th>\n      <td>tt0000002</td>\n      <td>short</td>\n      <td>Le clown et ses chiens</td>\n      <td>Le clown et ses chiens</td>\n      <td>0</td>\n      <td>1892</td>\n      <td>\\N</td>\n      <td>Animation,Short</td>\n    </tr>\n    <tr>\n      <th>2</th>\n      <td>tt0000003</td>\n      <td>short</td>\n      <td>Pauvre Pierrot</td>\n      <td>Pauvre Pierrot</td>\n      <td>0</td>\n      <td>1892</td>\n      <td>\\N</td>\n      <td>Animation,Comedy,Romance</td>\n    </tr>\n    <tr>\n      <th>3</th>\n      <td>tt0000004</td>\n      <td>short</td>\n      <td>Un bon bock</td>\n      <td>Un bon bock</td>\n      <td>0</td>\n      <td>1892</td>\n      <td>\\N</td>\n      <td>Animation,Short</td>\n    </tr>\n    <tr>\n      <th>4</th>\n      <td>tt0000005</td>\n      <td>short</td>\n      <td>Blacksmith Scene</td>\n      <td>Blacksmith Scene</td>\n      <td>0</td>\n      <td>1893</td>\n      <td>\\N</td>\n      <td>Comedy,Short</td>\n    </tr>\n  </tbody>\n</table>\n</div>"
     },
     "metadata": {},
     "output_type": "display_data"
    },
    {
     "name": "stdout",
     "output_type": "stream",
     "text": [
      "\n",
      "\u001B[1m title_ratings_data \u001B[0m\n"
     ]
    },
    {
     "data": {
      "text/plain": "      tconst  averageRating  numVotes\n0  tt0000001            5.7      2032\n1  tt0000002            5.7       272\n2  tt0000003            6.5      1973\n3  tt0000004            5.4       178\n4  tt0000005            6.2      2731",
      "text/html": "<div>\n<style scoped>\n    .dataframe tbody tr th:only-of-type {\n        vertical-align: middle;\n    }\n\n    .dataframe tbody tr th {\n        vertical-align: top;\n    }\n\n    .dataframe thead th {\n        text-align: right;\n    }\n</style>\n<table border=\"1\" class=\"dataframe\">\n  <thead>\n    <tr style=\"text-align: right;\">\n      <th></th>\n      <th>tconst</th>\n      <th>averageRating</th>\n      <th>numVotes</th>\n    </tr>\n  </thead>\n  <tbody>\n    <tr>\n      <th>0</th>\n      <td>tt0000001</td>\n      <td>5.7</td>\n      <td>2032</td>\n    </tr>\n    <tr>\n      <th>1</th>\n      <td>tt0000002</td>\n      <td>5.7</td>\n      <td>272</td>\n    </tr>\n    <tr>\n      <th>2</th>\n      <td>tt0000003</td>\n      <td>6.5</td>\n      <td>1973</td>\n    </tr>\n    <tr>\n      <th>3</th>\n      <td>tt0000004</td>\n      <td>5.4</td>\n      <td>178</td>\n    </tr>\n    <tr>\n      <th>4</th>\n      <td>tt0000005</td>\n      <td>6.2</td>\n      <td>2731</td>\n    </tr>\n  </tbody>\n</table>\n</div>"
     },
     "metadata": {},
     "output_type": "display_data"
    },
    {
     "name": "stdout",
     "output_type": "stream",
     "text": [
      "\n",
      "\u001B[1m name_basics_data \u001B[0m\n"
     ]
    },
    {
     "data": {
      "text/plain": "      nconst      primaryName birthYear deathYear  \\\n0  nm0000001     Fred Astaire      1899      1987   \n1  nm0000002    Lauren Bacall      1924      2014   \n2  nm0000003  Brigitte Bardot      1934        \\N   \n3  nm0000004     John Belushi      1949      1982   \n4  nm0000005   Ingmar Bergman      1918      2007   \n\n                     primaryProfession  \\\n0       soundtrack,actor,miscellaneous   \n1                   actress,soundtrack   \n2  actress,soundtrack,music_department   \n3              actor,soundtrack,writer   \n4                writer,director,actor   \n\n                            knownForTitles  \n0  tt0027125,tt0050419,tt0053137,tt0072308  \n1  tt0038355,tt0037382,tt0075213,tt0117057  \n2  tt0049189,tt0054452,tt0056404,tt0057345  \n3  tt0078723,tt0080455,tt0072562,tt0077975  \n4  tt0083922,tt0069467,tt0050976,tt0050986  ",
      "text/html": "<div>\n<style scoped>\n    .dataframe tbody tr th:only-of-type {\n        vertical-align: middle;\n    }\n\n    .dataframe tbody tr th {\n        vertical-align: top;\n    }\n\n    .dataframe thead th {\n        text-align: right;\n    }\n</style>\n<table border=\"1\" class=\"dataframe\">\n  <thead>\n    <tr style=\"text-align: right;\">\n      <th></th>\n      <th>nconst</th>\n      <th>primaryName</th>\n      <th>birthYear</th>\n      <th>deathYear</th>\n      <th>primaryProfession</th>\n      <th>knownForTitles</th>\n    </tr>\n  </thead>\n  <tbody>\n    <tr>\n      <th>0</th>\n      <td>nm0000001</td>\n      <td>Fred Astaire</td>\n      <td>1899</td>\n      <td>1987</td>\n      <td>soundtrack,actor,miscellaneous</td>\n      <td>tt0027125,tt0050419,tt0053137,tt0072308</td>\n    </tr>\n    <tr>\n      <th>1</th>\n      <td>nm0000002</td>\n      <td>Lauren Bacall</td>\n      <td>1924</td>\n      <td>2014</td>\n      <td>actress,soundtrack</td>\n      <td>tt0038355,tt0037382,tt0075213,tt0117057</td>\n    </tr>\n    <tr>\n      <th>2</th>\n      <td>nm0000003</td>\n      <td>Brigitte Bardot</td>\n      <td>1934</td>\n      <td>\\N</td>\n      <td>actress,soundtrack,music_department</td>\n      <td>tt0049189,tt0054452,tt0056404,tt0057345</td>\n    </tr>\n    <tr>\n      <th>3</th>\n      <td>nm0000004</td>\n      <td>John Belushi</td>\n      <td>1949</td>\n      <td>1982</td>\n      <td>actor,soundtrack,writer</td>\n      <td>tt0078723,tt0080455,tt0072562,tt0077975</td>\n    </tr>\n    <tr>\n      <th>4</th>\n      <td>nm0000005</td>\n      <td>Ingmar Bergman</td>\n      <td>1918</td>\n      <td>2007</td>\n      <td>writer,director,actor</td>\n      <td>tt0083922,tt0069467,tt0050976,tt0050986</td>\n    </tr>\n  </tbody>\n</table>\n</div>"
     },
     "metadata": {},
     "output_type": "display_data"
    }
   ],
   "source": [
    "for key, value in imdb_data.items():\n",
    "    print(\"\\n\\033[1m\", key, \"\\033[0m\")\n",
    "    display(value.head())"
   ]
  },
  {
   "cell_type": "markdown",
   "id": "97c7c3b44c1118f5",
   "metadata": {
    "collapsed": false
   },
   "source": [
    "The primary key in each dataset is as follows:\n",
    "\n",
    "- title_basics_data: Primary Key: tconst\n",
    "\n",
    "- name_basics_data: Primary Key: nconst\n",
    "\n",
    "- title_ratings_data: Primary Key: tconst\n",
    "\n",
    "\n",
    "To combine the three datasets, we can perform a merge operation based on the common key, which is \"tconst\" in both the title basics dataset and the title ratings dataset.\n",
    "\n",
    "We can then merge the resulting DataFrame with the name basics dataset based on the common key \"tconst\", which will be extracted from the \"knownForTitles\" column in name_basics_data. We'll split the comma-separated values in the \"knownForTitles\" column of the name_basics_data dataset and explode them into separate rows. This transformation ensures that each 'tconst' value appears in its own row, facilitating the merge operation.\n",
    "\n",
    "This merge combines information from all three datasets, resulting in a single DataFrame that contains comprehensive information about titles, ratings, and cast/crew members."
   ]
  },
  {
   "cell_type": "markdown",
   "id": "debc6ae1ecaed63",
   "metadata": {
    "ExecuteTime": {
     "end_time": "2024-03-16T21:46:14.521966Z",
     "start_time": "2024-03-16T21:46:14.518770Z"
    },
    "collapsed": false
   },
   "source": [
    "# 5. Getting to know the data"
   ]
  },
  {
   "cell_type": "markdown",
   "id": "1ee3a923",
   "metadata": {},
   "source": [
    "## 5.1 Dataframe 'title_basics_data'"
   ]
  },
  {
   "cell_type": "code",
   "execution_count": 58,
   "id": "117ea1a7",
   "metadata": {
    "ExecuteTime": {
     "end_time": "2024-03-25T03:38:36.455475Z",
     "start_time": "2024-03-25T03:38:36.447653Z"
    }
   },
   "outputs": [
    {
     "data": {
      "text/plain": "      tconst titleType            primaryTitle           originalTitle  \\\n0  tt0000001     short              Carmencita              Carmencita   \n1  tt0000002     short  Le clown et ses chiens  Le clown et ses chiens   \n2  tt0000003     short          Pauvre Pierrot          Pauvre Pierrot   \n3  tt0000004     short             Un bon bock             Un bon bock   \n4  tt0000005     short        Blacksmith Scene        Blacksmith Scene   \n\n   isAdult startYear endYear                    genres  \n0        0      1894      \\N         Documentary,Short  \n1        0      1892      \\N           Animation,Short  \n2        0      1892      \\N  Animation,Comedy,Romance  \n3        0      1892      \\N           Animation,Short  \n4        0      1893      \\N              Comedy,Short  ",
      "text/html": "<div>\n<style scoped>\n    .dataframe tbody tr th:only-of-type {\n        vertical-align: middle;\n    }\n\n    .dataframe tbody tr th {\n        vertical-align: top;\n    }\n\n    .dataframe thead th {\n        text-align: right;\n    }\n</style>\n<table border=\"1\" class=\"dataframe\">\n  <thead>\n    <tr style=\"text-align: right;\">\n      <th></th>\n      <th>tconst</th>\n      <th>titleType</th>\n      <th>primaryTitle</th>\n      <th>originalTitle</th>\n      <th>isAdult</th>\n      <th>startYear</th>\n      <th>endYear</th>\n      <th>genres</th>\n    </tr>\n  </thead>\n  <tbody>\n    <tr>\n      <th>0</th>\n      <td>tt0000001</td>\n      <td>short</td>\n      <td>Carmencita</td>\n      <td>Carmencita</td>\n      <td>0</td>\n      <td>1894</td>\n      <td>\\N</td>\n      <td>Documentary,Short</td>\n    </tr>\n    <tr>\n      <th>1</th>\n      <td>tt0000002</td>\n      <td>short</td>\n      <td>Le clown et ses chiens</td>\n      <td>Le clown et ses chiens</td>\n      <td>0</td>\n      <td>1892</td>\n      <td>\\N</td>\n      <td>Animation,Short</td>\n    </tr>\n    <tr>\n      <th>2</th>\n      <td>tt0000003</td>\n      <td>short</td>\n      <td>Pauvre Pierrot</td>\n      <td>Pauvre Pierrot</td>\n      <td>0</td>\n      <td>1892</td>\n      <td>\\N</td>\n      <td>Animation,Comedy,Romance</td>\n    </tr>\n    <tr>\n      <th>3</th>\n      <td>tt0000004</td>\n      <td>short</td>\n      <td>Un bon bock</td>\n      <td>Un bon bock</td>\n      <td>0</td>\n      <td>1892</td>\n      <td>\\N</td>\n      <td>Animation,Short</td>\n    </tr>\n    <tr>\n      <th>4</th>\n      <td>tt0000005</td>\n      <td>short</td>\n      <td>Blacksmith Scene</td>\n      <td>Blacksmith Scene</td>\n      <td>0</td>\n      <td>1893</td>\n      <td>\\N</td>\n      <td>Comedy,Short</td>\n    </tr>\n  </tbody>\n</table>\n</div>"
     },
     "execution_count": 58,
     "metadata": {},
     "output_type": "execute_result"
    }
   ],
   "source": [
    "imdb_data['title_basics_data'].head()"
   ]
  },
  {
   "cell_type": "markdown",
   "id": "4df8bd1a",
   "metadata": {},
   "source": [
    "### Column 'isAdult'"
   ]
  },
  {
   "cell_type": "code",
   "execution_count": 59,
   "id": "d02ee8f9",
   "metadata": {
    "ExecuteTime": {
     "end_time": "2024-03-25T03:38:36.466943Z",
     "start_time": "2024-03-25T03:38:36.456506Z"
    }
   },
   "outputs": [
    {
     "data": {
      "text/plain": "0    0.9592\n1    0.0408\nName: isAdult, dtype: float64"
     },
     "execution_count": 59,
     "metadata": {},
     "output_type": "execute_result"
    }
   ],
   "source": [
    "#display(imdb_data['title_basics_data']['isAdult'].value_counts())\n",
    "round(imdb_data['title_basics_data']['isAdult'].value_counts(normalize=True), 4)"
   ]
  },
  {
   "cell_type": "markdown",
   "id": "9a61eba1",
   "metadata": {},
   "source": [
    "There are only 4.08% of movies in df 'title_basics_data' classified for only adults."
   ]
  },
  {
   "cell_type": "markdown",
   "id": "4fb964fb",
   "metadata": {},
   "source": [
    "### Columns 'startYear'"
   ]
  },
  {
   "cell_type": "code",
   "execution_count": 60,
   "id": "76bc2850",
   "metadata": {
    "ExecuteTime": {
     "end_time": "2024-03-25T03:38:36.474444Z",
     "start_time": "2024-03-25T03:38:36.469044Z"
    }
   },
   "outputs": [
    {
     "data": {
      "text/plain": "0          1894\n1          1892\n2          1892\n3          1892\n4          1893\n           ... \n1048570    2011\n1048571    2019\n1048572    2013\n1048573    2013\n1048574    2004\nName: startYear, Length: 1048575, dtype: object"
     },
     "execution_count": 60,
     "metadata": {},
     "output_type": "execute_result"
    }
   ],
   "source": [
    "imdb_data['title_basics_data']['startYear']"
   ]
  },
  {
   "cell_type": "markdown",
   "id": "7553de2f",
   "metadata": {},
   "source": [
    "## 5.2 Dataframe 'title_ratings_data'"
   ]
  },
  {
   "cell_type": "code",
   "execution_count": 61,
   "id": "54aae63f",
   "metadata": {
    "ExecuteTime": {
     "end_time": "2024-03-25T03:38:36.482168Z",
     "start_time": "2024-03-25T03:38:36.475466Z"
    }
   },
   "outputs": [
    {
     "data": {
      "text/plain": "      tconst  averageRating  numVotes\n0  tt0000001            5.7      2032\n1  tt0000002            5.7       272\n2  tt0000003            6.5      1973\n3  tt0000004            5.4       178\n4  tt0000005            6.2      2731",
      "text/html": "<div>\n<style scoped>\n    .dataframe tbody tr th:only-of-type {\n        vertical-align: middle;\n    }\n\n    .dataframe tbody tr th {\n        vertical-align: top;\n    }\n\n    .dataframe thead th {\n        text-align: right;\n    }\n</style>\n<table border=\"1\" class=\"dataframe\">\n  <thead>\n    <tr style=\"text-align: right;\">\n      <th></th>\n      <th>tconst</th>\n      <th>averageRating</th>\n      <th>numVotes</th>\n    </tr>\n  </thead>\n  <tbody>\n    <tr>\n      <th>0</th>\n      <td>tt0000001</td>\n      <td>5.7</td>\n      <td>2032</td>\n    </tr>\n    <tr>\n      <th>1</th>\n      <td>tt0000002</td>\n      <td>5.7</td>\n      <td>272</td>\n    </tr>\n    <tr>\n      <th>2</th>\n      <td>tt0000003</td>\n      <td>6.5</td>\n      <td>1973</td>\n    </tr>\n    <tr>\n      <th>3</th>\n      <td>tt0000004</td>\n      <td>5.4</td>\n      <td>178</td>\n    </tr>\n    <tr>\n      <th>4</th>\n      <td>tt0000005</td>\n      <td>6.2</td>\n      <td>2731</td>\n    </tr>\n  </tbody>\n</table>\n</div>"
     },
     "execution_count": 61,
     "metadata": {},
     "output_type": "execute_result"
    }
   ],
   "source": [
    "imdb_data['title_ratings_data'].head()"
   ]
  },
  {
   "cell_type": "markdown",
   "id": "c1463f9b",
   "metadata": {},
   "source": [
    "### Column 'Average rating'"
   ]
  },
  {
   "cell_type": "code",
   "execution_count": 62,
   "id": "4764ef37",
   "metadata": {
    "ExecuteTime": {
     "end_time": "2024-03-25T03:38:36.512950Z",
     "start_time": "2024-03-25T03:38:36.482844Z"
    }
   },
   "outputs": [
    {
     "data": {
      "text/plain": "count    1,048,575.0\nmean            6.91\nstd             1.38\nmin              1.0\n25%              6.2\n50%              7.1\n75%              7.8\nmax             10.0\nName: averageRating, dtype: object"
     },
     "execution_count": 62,
     "metadata": {},
     "output_type": "execute_result"
    }
   ],
   "source": [
    "imdb_data['title_ratings_data']['averageRating'].describe().apply(lambda x: format(round(x, 2), ','))"
   ]
  },
  {
   "cell_type": "code",
   "execution_count": 63,
   "id": "df34ca90",
   "metadata": {
    "ExecuteTime": {
     "end_time": "2024-03-25T03:38:36.748391Z",
     "start_time": "2024-03-25T03:38:36.513988Z"
    }
   },
   "outputs": [
    {
     "data": {
      "text/plain": "<Figure size 640x480 with 1 Axes>",
      "image/png": "[encoded data removed]"
     },
     "metadata": {},
     "output_type": "display_data"
    }
   ],
   "source": [
    "imdb_data['title_ratings_data']['averageRating'].plot(kind='hist', xlabel='Average rating', ylabel='Number of movies',\n",
    "                                                      title=\"Distribution of movies by 'Average rating'\")\n",
    "plt.show()"
   ]
  },
  {
   "cell_type": "markdown",
   "id": "422d7f59",
   "metadata": {},
   "source": [
    "The distribution of the values of 'Average rating' column is left-skewed. And its median is 7.1."
   ]
  },
  {
   "cell_type": "markdown",
   "id": "4fcfd412",
   "metadata": {},
   "source": [
    "### Column 'Number of votes'"
   ]
  },
  {
   "cell_type": "code",
   "execution_count": 64,
   "id": "0cda7a93",
   "metadata": {
    "ExecuteTime": {
     "end_time": "2024-03-25T03:38:36.777309Z",
     "start_time": "2024-03-25T03:38:36.749592Z"
    }
   },
   "outputs": [
    {
     "data": {
      "text/plain": "count    1,048,575\nmean         1,153\nstd         19,494\nmin              5\n25%             12\n50%             28\n75%            107\nmax      2,865,377\nName: numVotes, dtype: object"
     },
     "execution_count": 64,
     "metadata": {},
     "output_type": "execute_result"
    }
   ],
   "source": [
    "imdb_data['title_ratings_data']['numVotes'].describe().apply(lambda x: format(int(x), ','))"
   ]
  },
  {
   "cell_type": "markdown",
   "id": "17060517",
   "metadata": {},
   "source": [
    "The number of votes for the 4th quantile of movies is within 107 and 2,865,377 votes."
   ]
  },
  {
   "cell_type": "markdown",
   "id": "51a4592b",
   "metadata": {},
   "source": [
    "## 5.3 Dataframe 'name_basics_data'"
   ]
  },
  {
   "cell_type": "markdown",
   "id": "5dafe13c",
   "metadata": {},
   "source": [
    "### Column 'birthYear'"
   ]
  },
  {
   "cell_type": "code",
   "execution_count": 65,
   "id": "5417c71b",
   "metadata": {
    "ExecuteTime": {
     "end_time": "2024-03-25T03:38:37.678866Z",
     "start_time": "2024-03-25T03:38:36.778363Z"
    }
   },
   "outputs": [
    {
     "data": {
      "text/plain": "<Figure size 640x480 with 1 Axes>",
      "image/png": "[encoded data removed]"
     },
     "metadata": {},
     "output_type": "display_data"
    }
   ],
   "source": [
    "birthyear = pd.to_numeric(imdb_data['name_basics_data']['birthYear'], errors='coerce').dropna()\n",
    "plt.hist(birthyear[birthyear >= 1900])\n",
    "plt.show()"
   ]
  },
  {
   "cell_type": "markdown",
   "id": "8df75620",
   "metadata": {},
   "source": [
    "The most frequent decades of birth of workers stored in the dataframe are:"
   ]
  },
  {
   "cell_type": "code",
   "execution_count": 66,
   "id": "df37b6fa",
   "metadata": {
    "ExecuteTime": {
     "end_time": "2024-03-25T03:38:37.696649Z",
     "start_time": "2024-03-25T03:38:37.679912Z"
    }
   },
   "outputs": [
    {
     "data": {
      "text/plain": "1940.0    33640\n1960.0    32809\n1950.0    31380\n1930.0    29051\n1920.0    28123\nName: birthYear, dtype: int64"
     },
     "execution_count": 66,
     "metadata": {},
     "output_type": "execute_result"
    }
   ],
   "source": [
    "birthyear_decade = (birthyear[birthyear >= 1900] // 10 * 10)\n",
    "birthyear_decade.value_counts().head()"
   ]
  },
  {
   "cell_type": "markdown",
   "id": "e17ab236",
   "metadata": {},
   "source": [
    "### Column 'primaryProfession'"
   ]
  },
  {
   "cell_type": "markdown",
   "id": "3e1ca763",
   "metadata": {},
   "source": [
    "The most frequent professions are:"
   ]
  },
  {
   "cell_type": "code",
   "execution_count": 67,
   "id": "027c1cbd",
   "metadata": {
    "ExecuteTime": {
     "end_time": "2024-03-25T03:38:40.147861Z",
     "start_time": "2024-03-25T03:38:37.697668Z"
    }
   },
   "outputs": [
    {
     "data": {
      "text/plain": "actor                353678\nactress              214971\nmiscellaneous        134326\nwriter               122557\nproducer             116475\ndirector              87240\ncamera_department     65885\nart_department        51083\nsoundtrack            44794\nsound_department      34284\ndtype: int64"
     },
     "execution_count": 67,
     "metadata": {},
     "output_type": "execute_result"
    }
   ],
   "source": [
    "proffession = imdb_data['name_basics_data']['primaryProfession'].str.split(',', expand=True).stack().reset_index(\n",
    "    drop=True)\n",
    "proffession.value_counts()[:10]"
   ]
  },
  {
   "cell_type": "markdown",
   "id": "05513126",
   "metadata": {},
   "source": [
    "### Column 'name_basics_data'"
   ]
  },
  {
   "cell_type": "code",
   "execution_count": 68,
   "id": "29fc11fe",
   "metadata": {
    "ExecuteTime": {
     "end_time": "2024-03-25T03:38:40.893075Z",
     "start_time": "2024-03-25T03:38:40.148893Z"
    }
   },
   "outputs": [
    {
     "data": {
      "text/plain": "<Figure size 640x480 with 1 Axes>",
      "image/png": "[encoded data removed]"
     },
     "metadata": {},
     "output_type": "display_data"
    }
   ],
   "source": [
    "birthyear = pd.to_numeric(imdb_data['name_basics_data']['birthYear'], errors='coerce').dropna()\n",
    "plt.boxplot(birthyear, vert=False)\n",
    "plt.show()"
   ]
  },
  {
   "cell_type": "markdown",
   "id": "a543d562",
   "metadata": {},
   "source": [
    "# 6. Data preparation"
   ]
  },
  {
   "cell_type": "markdown",
   "id": "95fe2695",
   "metadata": {},
   "source": [
    "## 6.1 Create calculated columns"
   ]
  },
  {
   "cell_type": "markdown",
   "id": "fb1e19d1",
   "metadata": {},
   "source": [
    "### Spliting the key for 'title_basics_data'"
   ]
  },
  {
   "cell_type": "code",
   "execution_count": 69,
   "id": "c67ae228",
   "metadata": {
    "ExecuteTime": {
     "end_time": "2024-03-25T03:38:43.504932Z",
     "start_time": "2024-03-25T03:38:40.894120Z"
    }
   },
   "outputs": [
    {
     "data": {
      "text/plain": "              genre1  genre2   genre3\n0        Documentary   Short     None\n1          Animation   Short     None\n2          Animation  Comedy  Romance\n3          Animation   Short     None\n4             Comedy   Short     None\n...              ...     ...      ...\n1048570        Drama    None     None\n1048571        Short    None     None\n1048572       Comedy    None     None\n1048573       Comedy    None     None\n1048574       Comedy    None     None\n\n[1048575 rows x 3 columns]",
      "text/html": "<div>\n<style scoped>\n    .dataframe tbody tr th:only-of-type {\n        vertical-align: middle;\n    }\n\n    .dataframe tbody tr th {\n        vertical-align: top;\n    }\n\n    .dataframe thead th {\n        text-align: right;\n    }\n</style>\n<table border=\"1\" class=\"dataframe\">\n  <thead>\n    <tr style=\"text-align: right;\">\n      <th></th>\n      <th>genre1</th>\n      <th>genre2</th>\n      <th>genre3</th>\n    </tr>\n  </thead>\n  <tbody>\n    <tr>\n      <th>0</th>\n      <td>Documentary</td>\n      <td>Short</td>\n      <td>None</td>\n    </tr>\n    <tr>\n      <th>1</th>\n      <td>Animation</td>\n      <td>Short</td>\n      <td>None</td>\n    </tr>\n    <tr>\n      <th>2</th>\n      <td>Animation</td>\n      <td>Comedy</td>\n      <td>Romance</td>\n    </tr>\n    <tr>\n      <th>3</th>\n      <td>Animation</td>\n      <td>Short</td>\n      <td>None</td>\n    </tr>\n    <tr>\n      <th>4</th>\n      <td>Comedy</td>\n      <td>Short</td>\n      <td>None</td>\n    </tr>\n    <tr>\n      <th>...</th>\n      <td>...</td>\n      <td>...</td>\n      <td>...</td>\n    </tr>\n    <tr>\n      <th>1048570</th>\n      <td>Drama</td>\n      <td>None</td>\n      <td>None</td>\n    </tr>\n    <tr>\n      <th>1048571</th>\n      <td>Short</td>\n      <td>None</td>\n      <td>None</td>\n    </tr>\n    <tr>\n      <th>1048572</th>\n      <td>Comedy</td>\n      <td>None</td>\n      <td>None</td>\n    </tr>\n    <tr>\n      <th>1048573</th>\n      <td>Comedy</td>\n      <td>None</td>\n      <td>None</td>\n    </tr>\n    <tr>\n      <th>1048574</th>\n      <td>Comedy</td>\n      <td>None</td>\n      <td>None</td>\n    </tr>\n  </tbody>\n</table>\n<p>1048575 rows × 3 columns</p>\n</div>"
     },
     "execution_count": 69,
     "metadata": {},
     "output_type": "execute_result"
    }
   ],
   "source": [
    "# df_titles = imdb_data['title_basics_data'].loc[imdb_data['title_basics_data']['titleType'] == 'movie']\n",
    "df_titles = imdb_data['title_basics_data']\n",
    "\n",
    "key_titles = df_titles['genres'].str.split(',', expand=True)\n",
    "\n",
    "new_genre_columns = ['genre1', 'genre2', 'genre3']\n",
    "\n",
    "key_titles.columns = new_genre_columns\n",
    "key_titles"
   ]
  },
  {
   "cell_type": "code",
   "execution_count": 70,
   "id": "85639fbb",
   "metadata": {
    "ExecuteTime": {
     "end_time": "2024-03-25T03:38:43.609655Z",
     "start_time": "2024-03-25T03:38:43.505999Z"
    }
   },
   "outputs": [
    {
     "data": {
      "text/plain": "      tconst titleType            primaryTitle           originalTitle  \\\n0  tt0000001     short              Carmencita              Carmencita   \n1  tt0000002     short  Le clown et ses chiens  Le clown et ses chiens   \n2  tt0000003     short          Pauvre Pierrot          Pauvre Pierrot   \n3  tt0000004     short             Un bon bock             Un bon bock   \n4  tt0000005     short        Blacksmith Scene        Blacksmith Scene   \n\n   isAdult startYear endYear                    genres       genre1  genre2  \\\n0        0      1894      \\N         Documentary,Short  Documentary   Short   \n1        0      1892      \\N           Animation,Short    Animation   Short   \n2        0      1892      \\N  Animation,Comedy,Romance    Animation  Comedy   \n3        0      1892      \\N           Animation,Short    Animation   Short   \n4        0      1893      \\N              Comedy,Short       Comedy   Short   \n\n    genre3  \n0     None  \n1     None  \n2  Romance  \n3     None  \n4     None  ",
      "text/html": "<div>\n<style scoped>\n    .dataframe tbody tr th:only-of-type {\n        vertical-align: middle;\n    }\n\n    .dataframe tbody tr th {\n        vertical-align: top;\n    }\n\n    .dataframe thead th {\n        text-align: right;\n    }\n</style>\n<table border=\"1\" class=\"dataframe\">\n  <thead>\n    <tr style=\"text-align: right;\">\n      <th></th>\n      <th>tconst</th>\n      <th>titleType</th>\n      <th>primaryTitle</th>\n      <th>originalTitle</th>\n      <th>isAdult</th>\n      <th>startYear</th>\n      <th>endYear</th>\n      <th>genres</th>\n      <th>genre1</th>\n      <th>genre2</th>\n      <th>genre3</th>\n    </tr>\n  </thead>\n  <tbody>\n    <tr>\n      <th>0</th>\n      <td>tt0000001</td>\n      <td>short</td>\n      <td>Carmencita</td>\n      <td>Carmencita</td>\n      <td>0</td>\n      <td>1894</td>\n      <td>\\N</td>\n      <td>Documentary,Short</td>\n      <td>Documentary</td>\n      <td>Short</td>\n      <td>None</td>\n    </tr>\n    <tr>\n      <th>1</th>\n      <td>tt0000002</td>\n      <td>short</td>\n      <td>Le clown et ses chiens</td>\n      <td>Le clown et ses chiens</td>\n      <td>0</td>\n      <td>1892</td>\n      <td>\\N</td>\n      <td>Animation,Short</td>\n      <td>Animation</td>\n      <td>Short</td>\n      <td>None</td>\n    </tr>\n    <tr>\n      <th>2</th>\n      <td>tt0000003</td>\n      <td>short</td>\n      <td>Pauvre Pierrot</td>\n      <td>Pauvre Pierrot</td>\n      <td>0</td>\n      <td>1892</td>\n      <td>\\N</td>\n      <td>Animation,Comedy,Romance</td>\n      <td>Animation</td>\n      <td>Comedy</td>\n      <td>Romance</td>\n    </tr>\n    <tr>\n      <th>3</th>\n      <td>tt0000004</td>\n      <td>short</td>\n      <td>Un bon bock</td>\n      <td>Un bon bock</td>\n      <td>0</td>\n      <td>1892</td>\n      <td>\\N</td>\n      <td>Animation,Short</td>\n      <td>Animation</td>\n      <td>Short</td>\n      <td>None</td>\n    </tr>\n    <tr>\n      <th>4</th>\n      <td>tt0000005</td>\n      <td>short</td>\n      <td>Blacksmith Scene</td>\n      <td>Blacksmith Scene</td>\n      <td>0</td>\n      <td>1893</td>\n      <td>\\N</td>\n      <td>Comedy,Short</td>\n      <td>Comedy</td>\n      <td>Short</td>\n      <td>None</td>\n    </tr>\n  </tbody>\n</table>\n</div>"
     },
     "execution_count": 70,
     "metadata": {},
     "output_type": "execute_result"
    }
   ],
   "source": [
    "df_titles = pd.concat([df_titles, key_titles], axis=1)\n",
    "df_titles.head()"
   ]
  },
  {
   "cell_type": "markdown",
   "id": "b52f80f1",
   "metadata": {},
   "source": [
    "### Calculating decade of the movie"
   ]
  },
  {
   "cell_type": "code",
   "execution_count": 88,
   "id": "906785d2",
   "metadata": {
    "ExecuteTime": {
     "end_time": "2024-03-25T04:07:39.287971Z",
     "start_time": "2024-03-25T04:07:37.854328Z"
    }
   },
   "outputs": [
    {
     "data": {
      "text/plain": "      tconst titleType            primaryTitle           originalTitle  \\\n0  tt0000001     short              Carmencita              Carmencita   \n1  tt0000002     short  Le clown et ses chiens  Le clown et ses chiens   \n2  tt0000003     short          Pauvre Pierrot          Pauvre Pierrot   \n3  tt0000004     short             Un bon bock             Un bon bock   \n4  tt0000005     short        Blacksmith Scene        Blacksmith Scene   \n\n   isAdult startYear endYear                    genres       genre1  genre2  \\\n0        0      1894      \\N         Documentary,Short  Documentary   Short   \n1        0      1892      \\N           Animation,Short    Animation   Short   \n2        0      1892      \\N  Animation,Comedy,Romance    Animation  Comedy   \n3        0      1892      \\N           Animation,Short    Animation   Short   \n4        0      1893      \\N              Comedy,Short       Comedy   Short   \n\n    genre3  startDecade  \n0     None         1894  \n1     None         1892  \n2  Romance         1892  \n3     None         1892  \n4     None         1893  ",
      "text/html": "<div>\n<style scoped>\n    .dataframe tbody tr th:only-of-type {\n        vertical-align: middle;\n    }\n\n    .dataframe tbody tr th {\n        vertical-align: top;\n    }\n\n    .dataframe thead th {\n        text-align: right;\n    }\n</style>\n<table border=\"1\" class=\"dataframe\">\n  <thead>\n    <tr style=\"text-align: right;\">\n      <th></th>\n      <th>tconst</th>\n      <th>titleType</th>\n      <th>primaryTitle</th>\n      <th>originalTitle</th>\n      <th>isAdult</th>\n      <th>startYear</th>\n      <th>endYear</th>\n      <th>genres</th>\n      <th>genre1</th>\n      <th>genre2</th>\n      <th>genre3</th>\n      <th>startDecade</th>\n    </tr>\n  </thead>\n  <tbody>\n    <tr>\n      <th>0</th>\n      <td>tt0000001</td>\n      <td>short</td>\n      <td>Carmencita</td>\n      <td>Carmencita</td>\n      <td>0</td>\n      <td>1894</td>\n      <td>\\N</td>\n      <td>Documentary,Short</td>\n      <td>Documentary</td>\n      <td>Short</td>\n      <td>None</td>\n      <td>1894</td>\n    </tr>\n    <tr>\n      <th>1</th>\n      <td>tt0000002</td>\n      <td>short</td>\n      <td>Le clown et ses chiens</td>\n      <td>Le clown et ses chiens</td>\n      <td>0</td>\n      <td>1892</td>\n      <td>\\N</td>\n      <td>Animation,Short</td>\n      <td>Animation</td>\n      <td>Short</td>\n      <td>None</td>\n      <td>1892</td>\n    </tr>\n    <tr>\n      <th>2</th>\n      <td>tt0000003</td>\n      <td>short</td>\n      <td>Pauvre Pierrot</td>\n      <td>Pauvre Pierrot</td>\n      <td>0</td>\n      <td>1892</td>\n      <td>\\N</td>\n      <td>Animation,Comedy,Romance</td>\n      <td>Animation</td>\n      <td>Comedy</td>\n      <td>Romance</td>\n      <td>1892</td>\n    </tr>\n    <tr>\n      <th>3</th>\n      <td>tt0000004</td>\n      <td>short</td>\n      <td>Un bon bock</td>\n      <td>Un bon bock</td>\n      <td>0</td>\n      <td>1892</td>\n      <td>\\N</td>\n      <td>Animation,Short</td>\n      <td>Animation</td>\n      <td>Short</td>\n      <td>None</td>\n      <td>1892</td>\n    </tr>\n    <tr>\n      <th>4</th>\n      <td>tt0000005</td>\n      <td>short</td>\n      <td>Blacksmith Scene</td>\n      <td>Blacksmith Scene</td>\n      <td>0</td>\n      <td>1893</td>\n      <td>\\N</td>\n      <td>Comedy,Short</td>\n      <td>Comedy</td>\n      <td>Short</td>\n      <td>None</td>\n      <td>1893</td>\n    </tr>\n  </tbody>\n</table>\n</div>"
     },
     "execution_count": 88,
     "metadata": {},
     "output_type": "execute_result"
    }
   ],
   "source": [
    "decades = pd.to_numeric(df_titles['startYear'], errors='coerce')\n",
    "decades = decades.apply(lambda x: int(x) if pd.notna(x) else 0)\n",
    "df_titles['startDecade'] = decades\n",
    "\n",
    "# df_titles = df_titles[df_titles['startDecade'] >= 1970]\n",
    "\n",
    "df_titles.head()"
   ]
  },
  {
   "cell_type": "markdown",
   "id": "5dd7b41c",
   "metadata": {},
   "source": [
    "### Spliting the key for 'name_basics_data'"
   ]
  },
  {
   "cell_type": "code",
   "execution_count": 72,
   "id": "5cf634bf",
   "metadata": {
    "ExecuteTime": {
     "end_time": "2024-03-25T03:38:47.401469Z",
     "start_time": "2024-03-25T03:38:44.843496Z"
    }
   },
   "outputs": [
    {
     "data": {
      "text/plain": "            title1     title2     title3     title4 title5 title6 title7\n0        tt0027125  tt0050419  tt0053137  tt0072308   None   None   None\n1        tt0038355  tt0037382  tt0075213  tt0117057   None   None   None\n2        tt0049189  tt0054452  tt0056404  tt0057345   None   None   None\n3        tt0078723  tt0080455  tt0072562  tt0077975   None   None   None\n4        tt0083922  tt0069467  tt0050976  tt0050986   None   None   None\n...            ...        ...        ...        ...    ...    ...    ...\n1048570  tt9028956       None       None       None   None   None   None\n1048571  tt9013146  tt9490002       None       None   None   None   None\n1048572  tt4368588       None       None       None   None   None   None\n1048573         \\N       None       None       None   None   None   None\n1048574         \\N       None       None       None   None   None   None\n\n[1048575 rows x 7 columns]",
      "text/html": "<div>\n<style scoped>\n    .dataframe tbody tr th:only-of-type {\n        vertical-align: middle;\n    }\n\n    .dataframe tbody tr th {\n        vertical-align: top;\n    }\n\n    .dataframe thead th {\n        text-align: right;\n    }\n</style>\n<table border=\"1\" class=\"dataframe\">\n  <thead>\n    <tr style=\"text-align: right;\">\n      <th></th>\n      <th>title1</th>\n      <th>title2</th>\n      <th>title3</th>\n      <th>title4</th>\n      <th>title5</th>\n      <th>title6</th>\n      <th>title7</th>\n    </tr>\n  </thead>\n  <tbody>\n    <tr>\n      <th>0</th>\n      <td>tt0027125</td>\n      <td>tt0050419</td>\n      <td>tt0053137</td>\n      <td>tt0072308</td>\n      <td>None</td>\n      <td>None</td>\n      <td>None</td>\n    </tr>\n    <tr>\n      <th>1</th>\n      <td>tt0038355</td>\n      <td>tt0037382</td>\n      <td>tt0075213</td>\n      <td>tt0117057</td>\n      <td>None</td>\n      <td>None</td>\n      <td>None</td>\n    </tr>\n    <tr>\n      <th>2</th>\n      <td>tt0049189</td>\n      <td>tt0054452</td>\n      <td>tt0056404</td>\n      <td>tt0057345</td>\n      <td>None</td>\n      <td>None</td>\n      <td>None</td>\n    </tr>\n    <tr>\n      <th>3</th>\n      <td>tt0078723</td>\n      <td>tt0080455</td>\n      <td>tt0072562</td>\n      <td>tt0077975</td>\n      <td>None</td>\n      <td>None</td>\n      <td>None</td>\n    </tr>\n    <tr>\n      <th>4</th>\n      <td>tt0083922</td>\n      <td>tt0069467</td>\n      <td>tt0050976</td>\n      <td>tt0050986</td>\n      <td>None</td>\n      <td>None</td>\n      <td>None</td>\n    </tr>\n    <tr>\n      <th>...</th>\n      <td>...</td>\n      <td>...</td>\n      <td>...</td>\n      <td>...</td>\n      <td>...</td>\n      <td>...</td>\n      <td>...</td>\n    </tr>\n    <tr>\n      <th>1048570</th>\n      <td>tt9028956</td>\n      <td>None</td>\n      <td>None</td>\n      <td>None</td>\n      <td>None</td>\n      <td>None</td>\n      <td>None</td>\n    </tr>\n    <tr>\n      <th>1048571</th>\n      <td>tt9013146</td>\n      <td>tt9490002</td>\n      <td>None</td>\n      <td>None</td>\n      <td>None</td>\n      <td>None</td>\n      <td>None</td>\n    </tr>\n    <tr>\n      <th>1048572</th>\n      <td>tt4368588</td>\n      <td>None</td>\n      <td>None</td>\n      <td>None</td>\n      <td>None</td>\n      <td>None</td>\n      <td>None</td>\n    </tr>\n    <tr>\n      <th>1048573</th>\n      <td>\\N</td>\n      <td>None</td>\n      <td>None</td>\n      <td>None</td>\n      <td>None</td>\n      <td>None</td>\n      <td>None</td>\n    </tr>\n    <tr>\n      <th>1048574</th>\n      <td>\\N</td>\n      <td>None</td>\n      <td>None</td>\n      <td>None</td>\n      <td>None</td>\n      <td>None</td>\n      <td>None</td>\n    </tr>\n  </tbody>\n</table>\n<p>1048575 rows × 7 columns</p>\n</div>"
     },
     "execution_count": 72,
     "metadata": {},
     "output_type": "execute_result"
    }
   ],
   "source": [
    "df_names = imdb_data['name_basics_data']\n",
    "# df_names = df_names.loc[\n",
    "#     (df_names['primaryProfession'].str.contains(\"actor\")) | df_names['primaryProfession'].str.contains(\"actress\")]\n",
    "\n",
    "key_names = df_names['knownForTitles'].str.split(',', expand=True)\n",
    "\n",
    "new_title_columns = ['title1', 'title2', 'title3', 'title4', 'title5', 'title6', 'title7']\n",
    "\n",
    "key_names.columns = new_title_columns\n",
    "key_names"
   ]
  },
  {
   "cell_type": "code",
   "execution_count": 73,
   "id": "fb67a6dc",
   "metadata": {
    "ExecuteTime": {
     "end_time": "2024-03-25T03:38:47.537139Z",
     "start_time": "2024-03-25T03:38:47.402012Z"
    }
   },
   "outputs": [
    {
     "data": {
      "text/plain": "      nconst      primaryName birthYear deathYear  \\\n0  nm0000001     Fred Astaire      1899      1987   \n1  nm0000002    Lauren Bacall      1924      2014   \n2  nm0000003  Brigitte Bardot      1934        \\N   \n3  nm0000004     John Belushi      1949      1982   \n4  nm0000005   Ingmar Bergman      1918      2007   \n\n                     primaryProfession  \\\n0       soundtrack,actor,miscellaneous   \n1                   actress,soundtrack   \n2  actress,soundtrack,music_department   \n3              actor,soundtrack,writer   \n4                writer,director,actor   \n\n                            knownForTitles     title1     title2     title3  \\\n0  tt0027125,tt0050419,tt0053137,tt0072308  tt0027125  tt0050419  tt0053137   \n1  tt0038355,tt0037382,tt0075213,tt0117057  tt0038355  tt0037382  tt0075213   \n2  tt0049189,tt0054452,tt0056404,tt0057345  tt0049189  tt0054452  tt0056404   \n3  tt0078723,tt0080455,tt0072562,tt0077975  tt0078723  tt0080455  tt0072562   \n4  tt0083922,tt0069467,tt0050976,tt0050986  tt0083922  tt0069467  tt0050976   \n\n      title4 title5 title6 title7  \n0  tt0072308   None   None   None  \n1  tt0117057   None   None   None  \n2  tt0057345   None   None   None  \n3  tt0077975   None   None   None  \n4  tt0050986   None   None   None  ",
      "text/html": "<div>\n<style scoped>\n    .dataframe tbody tr th:only-of-type {\n        vertical-align: middle;\n    }\n\n    .dataframe tbody tr th {\n        vertical-align: top;\n    }\n\n    .dataframe thead th {\n        text-align: right;\n    }\n</style>\n<table border=\"1\" class=\"dataframe\">\n  <thead>\n    <tr style=\"text-align: right;\">\n      <th></th>\n      <th>nconst</th>\n      <th>primaryName</th>\n      <th>birthYear</th>\n      <th>deathYear</th>\n      <th>primaryProfession</th>\n      <th>knownForTitles</th>\n      <th>title1</th>\n      <th>title2</th>\n      <th>title3</th>\n      <th>title4</th>\n      <th>title5</th>\n      <th>title6</th>\n      <th>title7</th>\n    </tr>\n  </thead>\n  <tbody>\n    <tr>\n      <th>0</th>\n      <td>nm0000001</td>\n      <td>Fred Astaire</td>\n      <td>1899</td>\n      <td>1987</td>\n      <td>soundtrack,actor,miscellaneous</td>\n      <td>tt0027125,tt0050419,tt0053137,tt0072308</td>\n      <td>tt0027125</td>\n      <td>tt0050419</td>\n      <td>tt0053137</td>\n      <td>tt0072308</td>\n      <td>None</td>\n      <td>None</td>\n      <td>None</td>\n    </tr>\n    <tr>\n      <th>1</th>\n      <td>nm0000002</td>\n      <td>Lauren Bacall</td>\n      <td>1924</td>\n      <td>2014</td>\n      <td>actress,soundtrack</td>\n      <td>tt0038355,tt0037382,tt0075213,tt0117057</td>\n      <td>tt0038355</td>\n      <td>tt0037382</td>\n      <td>tt0075213</td>\n      <td>tt0117057</td>\n      <td>None</td>\n      <td>None</td>\n      <td>None</td>\n    </tr>\n    <tr>\n      <th>2</th>\n      <td>nm0000003</td>\n      <td>Brigitte Bardot</td>\n      <td>1934</td>\n      <td>\\N</td>\n      <td>actress,soundtrack,music_department</td>\n      <td>tt0049189,tt0054452,tt0056404,tt0057345</td>\n      <td>tt0049189</td>\n      <td>tt0054452</td>\n      <td>tt0056404</td>\n      <td>tt0057345</td>\n      <td>None</td>\n      <td>None</td>\n      <td>None</td>\n    </tr>\n    <tr>\n      <th>3</th>\n      <td>nm0000004</td>\n      <td>John Belushi</td>\n      <td>1949</td>\n      <td>1982</td>\n      <td>actor,soundtrack,writer</td>\n      <td>tt0078723,tt0080455,tt0072562,tt0077975</td>\n      <td>tt0078723</td>\n      <td>tt0080455</td>\n      <td>tt0072562</td>\n      <td>tt0077975</td>\n      <td>None</td>\n      <td>None</td>\n      <td>None</td>\n    </tr>\n    <tr>\n      <th>4</th>\n      <td>nm0000005</td>\n      <td>Ingmar Bergman</td>\n      <td>1918</td>\n      <td>2007</td>\n      <td>writer,director,actor</td>\n      <td>tt0083922,tt0069467,tt0050976,tt0050986</td>\n      <td>tt0083922</td>\n      <td>tt0069467</td>\n      <td>tt0050976</td>\n      <td>tt0050986</td>\n      <td>None</td>\n      <td>None</td>\n      <td>None</td>\n    </tr>\n  </tbody>\n</table>\n</div>"
     },
     "execution_count": 73,
     "metadata": {},
     "output_type": "execute_result"
    }
   ],
   "source": [
    "df_names = pd.concat([df_names, key_names], axis=1)\n",
    "df_names.head()"
   ]
  },
  {
   "cell_type": "code",
   "outputs": [
    {
     "data": {
      "text/plain": "      tconst  averageRating  numVotes\n0  tt0000001            5.7      2032\n1  tt0000002            5.7       272\n2  tt0000003            6.5      1973\n3  tt0000004            5.4       178\n4  tt0000005            6.2      2731",
      "text/html": "<div>\n<style scoped>\n    .dataframe tbody tr th:only-of-type {\n        vertical-align: middle;\n    }\n\n    .dataframe tbody tr th {\n        vertical-align: top;\n    }\n\n    .dataframe thead th {\n        text-align: right;\n    }\n</style>\n<table border=\"1\" class=\"dataframe\">\n  <thead>\n    <tr style=\"text-align: right;\">\n      <th></th>\n      <th>tconst</th>\n      <th>averageRating</th>\n      <th>numVotes</th>\n    </tr>\n  </thead>\n  <tbody>\n    <tr>\n      <th>0</th>\n      <td>tt0000001</td>\n      <td>5.7</td>\n      <td>2032</td>\n    </tr>\n    <tr>\n      <th>1</th>\n      <td>tt0000002</td>\n      <td>5.7</td>\n      <td>272</td>\n    </tr>\n    <tr>\n      <th>2</th>\n      <td>tt0000003</td>\n      <td>6.5</td>\n      <td>1973</td>\n    </tr>\n    <tr>\n      <th>3</th>\n      <td>tt0000004</td>\n      <td>5.4</td>\n      <td>178</td>\n    </tr>\n    <tr>\n      <th>4</th>\n      <td>tt0000005</td>\n      <td>6.2</td>\n      <td>2731</td>\n    </tr>\n  </tbody>\n</table>\n</div>"
     },
     "execution_count": 74,
     "metadata": {},
     "output_type": "execute_result"
    }
   ],
   "source": [
    "df_ratings = imdb_data['title_ratings_data']\n",
    "df_ratings.head()"
   ],
   "metadata": {
    "collapsed": false,
    "ExecuteTime": {
     "end_time": "2024-03-25T03:38:47.544284Z",
     "start_time": "2024-03-25T03:38:47.538169Z"
    }
   },
   "id": "9d21fea614888774",
   "execution_count": 74
  },
  {
   "cell_type": "markdown",
   "id": "9773b8ad",
   "metadata": {},
   "source": [
    "# 7. Combine the datasets"
   ]
  },
  {
   "cell_type": "markdown",
   "source": [
    "Finally, we are now in a position to combine all of these datasets. Before starting the merge, let’s quickly visualize the number of  rows in each of the cleaned datasets. This will help us decide which of the four merge strategies (left, right, inner, or outer) we should be using."
   ],
   "metadata": {
    "collapsed": false
   },
   "id": "4138b612a5d560b6"
  },
  {
   "cell_type": "code",
   "outputs": [
    {
     "name": "stdout",
     "output_type": "stream",
     "text": [
      "{'df_titles': 1.048575, 'df_ratings': 1.048575, 'df_names': 1.048575}\n"
     ]
    }
   ],
   "source": [
    "row_counts = {\n",
    "    'df_titles': df_titles.shape[0] / 1000000,\n",
    "    'df_ratings': df_ratings.shape[0] / 1000000,\n",
    "    'df_names': df_names.shape[0] / 1000000\n",
    "}\n",
    "\n",
    "print(row_counts)"
   ],
   "metadata": {
    "collapsed": false,
    "ExecuteTime": {
     "end_time": "2024-03-25T03:38:47.548623Z",
     "start_time": "2024-03-25T03:38:47.545307Z"
    }
   },
   "id": "5834a21b22774af4",
   "execution_count": 75
  },
  {
   "cell_type": "code",
   "outputs": [
    {
     "data": {
      "text/plain": "<Figure size 640x480 with 0 Axes>"
     },
     "metadata": {},
     "output_type": "display_data"
    },
    {
     "data": {
      "text/plain": "<Figure size 640x480 with 1 Axes>",
      "image/png": "[encoded data removed]"
     },
     "metadata": {},
     "output_type": "display_data"
    }
   ],
   "source": [
    "plt.figure()\n",
    "\n",
    "row_num_df = pd.DataFrame(row_counts, index=[0])\n",
    "row_num_df.plot.bar()\n",
    "\n",
    "plt.xlabel('Datasets')\n",
    "plt.ylabel('Number of Rows (in millions)')\n",
    "plt.show()"
   ],
   "metadata": {
    "collapsed": false,
    "ExecuteTime": {
     "end_time": "2024-03-25T03:38:47.666642Z",
     "start_time": "2024-03-25T03:38:47.549726Z"
    }
   },
   "id": "96bf3b0a2a0029cd",
   "execution_count": 76
  },
  {
   "cell_type": "markdown",
   "source": [
    "We will first merge \"df_titles\" with the dataframes \"df_ratings\" and then \"df_names\". We can see that all the dataframes to be merged have equal amount of row values than \"df_titles\", but we only care about the data in the \"df_titles\". So we'll use a left join."
   ],
   "metadata": {
    "collapsed": false
   },
   "id": "acc1b7a40ebe2e00"
  },
  {
   "cell_type": "code",
   "outputs": [
    {
     "data": {
      "text/plain": "      tconst titleType            primaryTitle           originalTitle  \\\n0  tt0000001     short              Carmencita              Carmencita   \n1  tt0000002     short  Le clown et ses chiens  Le clown et ses chiens   \n2  tt0000003     short          Pauvre Pierrot          Pauvre Pierrot   \n3  tt0000004     short             Un bon bock             Un bon bock   \n4  tt0000005     short        Blacksmith Scene        Blacksmith Scene   \n\n   isAdult startYear endYear                    genres       genre1  genre2  \\\n0        0      1894      \\N         Documentary,Short  Documentary   Short   \n1        0      1892      \\N           Animation,Short    Animation   Short   \n2        0      1892      \\N  Animation,Comedy,Romance    Animation  Comedy   \n3        0      1892      \\N           Animation,Short    Animation   Short   \n4        0      1893      \\N              Comedy,Short       Comedy   Short   \n\n    genre3  startDecade  averageRating  numVotes  \n0     None         1894            5.7      2032  \n1     None         1892            5.7       272  \n2  Romance         1892            6.5      1973  \n3     None         1892            5.4       178  \n4     None         1893            6.2      2731  ",
      "text/html": "<div>\n<style scoped>\n    .dataframe tbody tr th:only-of-type {\n        vertical-align: middle;\n    }\n\n    .dataframe tbody tr th {\n        vertical-align: top;\n    }\n\n    .dataframe thead th {\n        text-align: right;\n    }\n</style>\n<table border=\"1\" class=\"dataframe\">\n  <thead>\n    <tr style=\"text-align: right;\">\n      <th></th>\n      <th>tconst</th>\n      <th>titleType</th>\n      <th>primaryTitle</th>\n      <th>originalTitle</th>\n      <th>isAdult</th>\n      <th>startYear</th>\n      <th>endYear</th>\n      <th>genres</th>\n      <th>genre1</th>\n      <th>genre2</th>\n      <th>genre3</th>\n      <th>startDecade</th>\n      <th>averageRating</th>\n      <th>numVotes</th>\n    </tr>\n  </thead>\n  <tbody>\n    <tr>\n      <th>0</th>\n      <td>tt0000001</td>\n      <td>short</td>\n      <td>Carmencita</td>\n      <td>Carmencita</td>\n      <td>0</td>\n      <td>1894</td>\n      <td>\\N</td>\n      <td>Documentary,Short</td>\n      <td>Documentary</td>\n      <td>Short</td>\n      <td>None</td>\n      <td>1894</td>\n      <td>5.7</td>\n      <td>2032</td>\n    </tr>\n    <tr>\n      <th>1</th>\n      <td>tt0000002</td>\n      <td>short</td>\n      <td>Le clown et ses chiens</td>\n      <td>Le clown et ses chiens</td>\n      <td>0</td>\n      <td>1892</td>\n      <td>\\N</td>\n      <td>Animation,Short</td>\n      <td>Animation</td>\n      <td>Short</td>\n      <td>None</td>\n      <td>1892</td>\n      <td>5.7</td>\n      <td>272</td>\n    </tr>\n    <tr>\n      <th>2</th>\n      <td>tt0000003</td>\n      <td>short</td>\n      <td>Pauvre Pierrot</td>\n      <td>Pauvre Pierrot</td>\n      <td>0</td>\n      <td>1892</td>\n      <td>\\N</td>\n      <td>Animation,Comedy,Romance</td>\n      <td>Animation</td>\n      <td>Comedy</td>\n      <td>Romance</td>\n      <td>1892</td>\n      <td>6.5</td>\n      <td>1973</td>\n    </tr>\n    <tr>\n      <th>3</th>\n      <td>tt0000004</td>\n      <td>short</td>\n      <td>Un bon bock</td>\n      <td>Un bon bock</td>\n      <td>0</td>\n      <td>1892</td>\n      <td>\\N</td>\n      <td>Animation,Short</td>\n      <td>Animation</td>\n      <td>Short</td>\n      <td>None</td>\n      <td>1892</td>\n      <td>5.4</td>\n      <td>178</td>\n    </tr>\n    <tr>\n      <th>4</th>\n      <td>tt0000005</td>\n      <td>short</td>\n      <td>Blacksmith Scene</td>\n      <td>Blacksmith Scene</td>\n      <td>0</td>\n      <td>1893</td>\n      <td>\\N</td>\n      <td>Comedy,Short</td>\n      <td>Comedy</td>\n      <td>Short</td>\n      <td>None</td>\n      <td>1893</td>\n      <td>6.2</td>\n      <td>2731</td>\n    </tr>\n  </tbody>\n</table>\n</div>"
     },
     "execution_count": 89,
     "metadata": {},
     "output_type": "execute_result"
    }
   ],
   "source": [
    "##### check for duplicates guys: imdb_data[\"title_basics_data\"][imdb_data[\"title_basics_data\"].duplicated(['tconst'], keep=False)]\n",
    "\n",
    "merged_df = df_titles.merge(df_ratings, on=\"tconst\")\n",
    "merged_df.head()"
   ],
   "metadata": {
    "collapsed": false,
    "ExecuteTime": {
     "end_time": "2024-03-25T04:08:05.148067Z",
     "start_time": "2024-03-25T04:08:03.706657Z"
    }
   },
   "id": "b9211ab826efb751",
   "execution_count": 89
  },
  {
   "cell_type": "code",
   "outputs": [
    {
     "data": {
      "text/plain": "             tconst titleType                                 primaryTitle  \\\n0         tt0000003     short                               Pauvre Pierrot   \n1         tt0000007     short  Corbett and Courtney Before the Kinetograph   \n2         tt0000008     short       Edison Kinetoscopic Record of a Sneeze   \n3         tt0000009     movie                                   Miss Jerry   \n4         tt0000009     movie                                   Miss Jerry   \n...             ...       ...                                          ...   \n1904917  tt10145122     movie                           The Perfect Secret   \n1904918  tt10145122     movie                           The Perfect Secret   \n1904919  tt10145122     movie                           The Perfect Secret   \n1904920  tt10145122     movie                           The Perfect Secret   \n1904921  tt10145122     movie                           The Perfect Secret   \n\n                                       originalTitle  isAdult startYear  \\\n0                                     Pauvre Pierrot        0      1892   \n1        Corbett and Courtney Before the Kinetograph        0      1894   \n2             Edison Kinetoscopic Record of a Sneeze        0      1894   \n3                                         Miss Jerry        0      1894   \n4                                         Miss Jerry        0      1894   \n...                                              ...      ...       ...   \n1904917                       Das perfekte Geheimnis        0      2019   \n1904918                       Das perfekte Geheimnis        0      2019   \n1904919                       Das perfekte Geheimnis        0      2019   \n1904920                       Das perfekte Geheimnis        0      2019   \n1904921                       Das perfekte Geheimnis        0      2019   \n\n        endYear                    genres       genre1  genre2  ... deathYear  \\\n0            \\N  Animation,Comedy,Romance    Animation  Comedy  ...      1918   \n1            \\N               Short,Sport        Short   Sport  ...      1896   \n2            \\N         Documentary,Short  Documentary   Short  ...      1936   \n3            \\N                   Romance      Romance    None  ...      1951   \n4            \\N                   Romance      Romance    None  ...      1940   \n...         ...                       ...          ...     ...  ...       ...   \n1904917      \\N      Comedy,Drama,Romance       Comedy   Drama  ...        \\N   \n1904918      \\N      Comedy,Drama,Romance       Comedy   Drama  ...        \\N   \n1904919      \\N      Comedy,Drama,Romance       Comedy   Drama  ...        \\N   \n1904920      \\N      Comedy,Drama,Romance       Comedy   Drama  ...        \\N   \n1904921      \\N      Comedy,Drama,Romance       Comedy   Drama  ...        \\N   \n\n                                     primaryProfession  \\\n0               director,animation_department,producer   \n1                                                actor   \n2                                   assistant_director   \n3                                              actress   \n4                      director,writer,cinematographer   \n...                                                ...   \n1904917                   art_department,miscellaneous   \n1904918                              camera_department   \n1904919                      sound_department,composer   \n1904920  camera_department,set_decorator,miscellaneous   \n1904921              camera_department,cinematographer   \n\n                                     knownForTitles      title1      title2  \\\n0        tt0000003,tt16763674,tt16763740,tt13125956   tt0000003  tt16763674   \n1                                         tt0000007   tt0000007        None   \n2                     tt0285265,tt0000008,tt0240514   tt0285265   tt0000008   \n3                                         tt0000009   tt0000009        None   \n4                                         tt0000009   tt0000009        None   \n...                                             ...         ...         ...   \n1904917    tt10145122,tt0388858,tt0806910,tt5698320  tt10145122   tt0388858   \n1904918    tt0114019,tt10145122,tt0117788,tt0139429   tt0114019  tt10145122   \n1904919    tt10145122,tt5651338,tt0367181,tt0100240  tt10145122   tt5651338   \n1904920    tt2088003,tt1704142,tt0119331,tt10145122   tt2088003   tt1704142   \n1904921   tt6902676,tt10145122,tt17495410,tt9185162   tt6902676  tt10145122   \n\n             title3      title4 title5 title6 title7  \n0        tt16763740  tt13125956   None   None   None  \n1              None        None   None   None   None  \n2         tt0240514        None   None   None   None  \n3              None        None   None   None   None  \n4              None        None   None   None   None  \n...             ...         ...    ...    ...    ...  \n1904917   tt0806910   tt5698320   None   None   None  \n1904918   tt0117788   tt0139429   None   None   None  \n1904919   tt0367181   tt0100240   None   None   None  \n1904920   tt0119331  tt10145122   None   None   None  \n1904921  tt17495410   tt9185162   None   None   None  \n\n[1904922 rows x 27 columns]",
      "text/html": "<div>\n<style scoped>\n    .dataframe tbody tr th:only-of-type {\n        vertical-align: middle;\n    }\n\n    .dataframe tbody tr th {\n        vertical-align: top;\n    }\n\n    .dataframe thead th {\n        text-align: right;\n    }\n</style>\n<table border=\"1\" class=\"dataframe\">\n  <thead>\n    <tr style=\"text-align: right;\">\n      <th></th>\n      <th>tconst</th>\n      <th>titleType</th>\n      <th>primaryTitle</th>\n      <th>originalTitle</th>\n      <th>isAdult</th>\n      <th>startYear</th>\n      <th>endYear</th>\n      <th>genres</th>\n      <th>genre1</th>\n      <th>genre2</th>\n      <th>...</th>\n      <th>deathYear</th>\n      <th>primaryProfession</th>\n      <th>knownForTitles</th>\n      <th>title1</th>\n      <th>title2</th>\n      <th>title3</th>\n      <th>title4</th>\n      <th>title5</th>\n      <th>title6</th>\n      <th>title7</th>\n    </tr>\n  </thead>\n  <tbody>\n    <tr>\n      <th>0</th>\n      <td>tt0000003</td>\n      <td>short</td>\n      <td>Pauvre Pierrot</td>\n      <td>Pauvre Pierrot</td>\n      <td>0</td>\n      <td>1892</td>\n      <td>\\N</td>\n      <td>Animation,Comedy,Romance</td>\n      <td>Animation</td>\n      <td>Comedy</td>\n      <td>...</td>\n      <td>1918</td>\n      <td>director,animation_department,producer</td>\n      <td>tt0000003,tt16763674,tt16763740,tt13125956</td>\n      <td>tt0000003</td>\n      <td>tt16763674</td>\n      <td>tt16763740</td>\n      <td>tt13125956</td>\n      <td>None</td>\n      <td>None</td>\n      <td>None</td>\n    </tr>\n    <tr>\n      <th>1</th>\n      <td>tt0000007</td>\n      <td>short</td>\n      <td>Corbett and Courtney Before the Kinetograph</td>\n      <td>Corbett and Courtney Before the Kinetograph</td>\n      <td>0</td>\n      <td>1894</td>\n      <td>\\N</td>\n      <td>Short,Sport</td>\n      <td>Short</td>\n      <td>Sport</td>\n      <td>...</td>\n      <td>1896</td>\n      <td>actor</td>\n      <td>tt0000007</td>\n      <td>tt0000007</td>\n      <td>None</td>\n      <td>None</td>\n      <td>None</td>\n      <td>None</td>\n      <td>None</td>\n      <td>None</td>\n    </tr>\n    <tr>\n      <th>2</th>\n      <td>tt0000008</td>\n      <td>short</td>\n      <td>Edison Kinetoscopic Record of a Sneeze</td>\n      <td>Edison Kinetoscopic Record of a Sneeze</td>\n      <td>0</td>\n      <td>1894</td>\n      <td>\\N</td>\n      <td>Documentary,Short</td>\n      <td>Documentary</td>\n      <td>Short</td>\n      <td>...</td>\n      <td>1936</td>\n      <td>assistant_director</td>\n      <td>tt0285265,tt0000008,tt0240514</td>\n      <td>tt0285265</td>\n      <td>tt0000008</td>\n      <td>tt0240514</td>\n      <td>None</td>\n      <td>None</td>\n      <td>None</td>\n      <td>None</td>\n    </tr>\n    <tr>\n      <th>3</th>\n      <td>tt0000009</td>\n      <td>movie</td>\n      <td>Miss Jerry</td>\n      <td>Miss Jerry</td>\n      <td>0</td>\n      <td>1894</td>\n      <td>\\N</td>\n      <td>Romance</td>\n      <td>Romance</td>\n      <td>None</td>\n      <td>...</td>\n      <td>1951</td>\n      <td>actress</td>\n      <td>tt0000009</td>\n      <td>tt0000009</td>\n      <td>None</td>\n      <td>None</td>\n      <td>None</td>\n      <td>None</td>\n      <td>None</td>\n      <td>None</td>\n    </tr>\n    <tr>\n      <th>4</th>\n      <td>tt0000009</td>\n      <td>movie</td>\n      <td>Miss Jerry</td>\n      <td>Miss Jerry</td>\n      <td>0</td>\n      <td>1894</td>\n      <td>\\N</td>\n      <td>Romance</td>\n      <td>Romance</td>\n      <td>None</td>\n      <td>...</td>\n      <td>1940</td>\n      <td>director,writer,cinematographer</td>\n      <td>tt0000009</td>\n      <td>tt0000009</td>\n      <td>None</td>\n      <td>None</td>\n      <td>None</td>\n      <td>None</td>\n      <td>None</td>\n      <td>None</td>\n    </tr>\n    <tr>\n      <th>...</th>\n      <td>...</td>\n      <td>...</td>\n      <td>...</td>\n      <td>...</td>\n      <td>...</td>\n      <td>...</td>\n      <td>...</td>\n      <td>...</td>\n      <td>...</td>\n      <td>...</td>\n      <td>...</td>\n      <td>...</td>\n      <td>...</td>\n      <td>...</td>\n      <td>...</td>\n      <td>...</td>\n      <td>...</td>\n      <td>...</td>\n      <td>...</td>\n      <td>...</td>\n      <td>...</td>\n    </tr>\n    <tr>\n      <th>1904917</th>\n      <td>tt10145122</td>\n      <td>movie</td>\n      <td>The Perfect Secret</td>\n      <td>Das perfekte Geheimnis</td>\n      <td>0</td>\n      <td>2019</td>\n      <td>\\N</td>\n      <td>Comedy,Drama,Romance</td>\n      <td>Comedy</td>\n      <td>Drama</td>\n      <td>...</td>\n      <td>\\N</td>\n      <td>art_department,miscellaneous</td>\n      <td>tt10145122,tt0388858,tt0806910,tt5698320</td>\n      <td>tt10145122</td>\n      <td>tt0388858</td>\n      <td>tt0806910</td>\n      <td>tt5698320</td>\n      <td>None</td>\n      <td>None</td>\n      <td>None</td>\n    </tr>\n    <tr>\n      <th>1904918</th>\n      <td>tt10145122</td>\n      <td>movie</td>\n      <td>The Perfect Secret</td>\n      <td>Das perfekte Geheimnis</td>\n      <td>0</td>\n      <td>2019</td>\n      <td>\\N</td>\n      <td>Comedy,Drama,Romance</td>\n      <td>Comedy</td>\n      <td>Drama</td>\n      <td>...</td>\n      <td>\\N</td>\n      <td>camera_department</td>\n      <td>tt0114019,tt10145122,tt0117788,tt0139429</td>\n      <td>tt0114019</td>\n      <td>tt10145122</td>\n      <td>tt0117788</td>\n      <td>tt0139429</td>\n      <td>None</td>\n      <td>None</td>\n      <td>None</td>\n    </tr>\n    <tr>\n      <th>1904919</th>\n      <td>tt10145122</td>\n      <td>movie</td>\n      <td>The Perfect Secret</td>\n      <td>Das perfekte Geheimnis</td>\n      <td>0</td>\n      <td>2019</td>\n      <td>\\N</td>\n      <td>Comedy,Drama,Romance</td>\n      <td>Comedy</td>\n      <td>Drama</td>\n      <td>...</td>\n      <td>\\N</td>\n      <td>sound_department,composer</td>\n      <td>tt10145122,tt5651338,tt0367181,tt0100240</td>\n      <td>tt10145122</td>\n      <td>tt5651338</td>\n      <td>tt0367181</td>\n      <td>tt0100240</td>\n      <td>None</td>\n      <td>None</td>\n      <td>None</td>\n    </tr>\n    <tr>\n      <th>1904920</th>\n      <td>tt10145122</td>\n      <td>movie</td>\n      <td>The Perfect Secret</td>\n      <td>Das perfekte Geheimnis</td>\n      <td>0</td>\n      <td>2019</td>\n      <td>\\N</td>\n      <td>Comedy,Drama,Romance</td>\n      <td>Comedy</td>\n      <td>Drama</td>\n      <td>...</td>\n      <td>\\N</td>\n      <td>camera_department,set_decorator,miscellaneous</td>\n      <td>tt2088003,tt1704142,tt0119331,tt10145122</td>\n      <td>tt2088003</td>\n      <td>tt1704142</td>\n      <td>tt0119331</td>\n      <td>tt10145122</td>\n      <td>None</td>\n      <td>None</td>\n      <td>None</td>\n    </tr>\n    <tr>\n      <th>1904921</th>\n      <td>tt10145122</td>\n      <td>movie</td>\n      <td>The Perfect Secret</td>\n      <td>Das perfekte Geheimnis</td>\n      <td>0</td>\n      <td>2019</td>\n      <td>\\N</td>\n      <td>Comedy,Drama,Romance</td>\n      <td>Comedy</td>\n      <td>Drama</td>\n      <td>...</td>\n      <td>\\N</td>\n      <td>camera_department,cinematographer</td>\n      <td>tt6902676,tt10145122,tt17495410,tt9185162</td>\n      <td>tt6902676</td>\n      <td>tt10145122</td>\n      <td>tt17495410</td>\n      <td>tt9185162</td>\n      <td>None</td>\n      <td>None</td>\n      <td>None</td>\n    </tr>\n  </tbody>\n</table>\n<p>1904922 rows × 27 columns</p>\n</div>"
     },
     "execution_count": 80,
     "metadata": {},
     "output_type": "execute_result"
    }
   ],
   "source": [
    "actors_split = df_names.assign(tconst=df_names['knownForTitles'].str.split(',')).explode('tconst')\n",
    "\n",
    "movies_and_actors_df = pd.merge(merged_df, actors_split, left_on='tconst', right_on='tconst')\n",
    "movies_and_actors_df"
   ],
   "metadata": {
    "collapsed": false,
    "ExecuteTime": {
     "end_time": "2024-03-25T03:50:15.080435Z",
     "start_time": "2024-03-25T03:50:03.299398Z"
    }
   },
   "id": "8deae76cf1483006",
   "execution_count": 80
  },
  {
   "cell_type": "markdown",
   "source": [
    "# COMBINED DATA PREPARATION"
   ],
   "metadata": {
    "collapsed": false
   },
   "id": "56cd1e1a73a6de3e"
  },
  {
   "cell_type": "code",
   "outputs": [],
   "source": [
    "from functions import col_info"
   ],
   "metadata": {
    "collapsed": false,
    "ExecuteTime": {
     "end_time": "2024-03-25T03:57:19.185854Z",
     "start_time": "2024-03-25T03:57:19.180983Z"
    }
   },
   "id": "897cfd070540902a",
   "execution_count": 85
  },
  {
   "cell_type": "code",
   "outputs": [
    {
     "name": "stdout",
     "output_type": "stream",
     "text": [
      "The full dataset contains: 1904922 rows and 23 columns. Details for the requested column(s) are as follows:\n",
      "\n",
      "\u001B[1m tconst \u001B[0m: object : 191822 levels\n",
      "['tt0000003', 'tt0000007', 'tt0000008', 'tt0000009', 'tt0000012'] ...\n",
      "\u001B[1m titleType \u001B[0m: object : 10 levels\n",
      "['short', 'movie', 'tvMovie', 'tvSeries', 'tvMiniSeries', 'tvShort', 'tvSpecial'] ...\n",
      "\u001B[1m primaryTitle \u001B[0m: object : 171093 levels\n",
      "['Pauvre Pierrot', 'Corbett and Courtney Before the Kinetograph'] ...\n",
      "\u001B[1m originalTitle \u001B[0m: object : 174873 levels\n",
      "['Pauvre Pierrot', 'Corbett and Courtney Before the Kinetograph'] ...\n",
      "\n",
      "\u001B[1m startYear \u001B[0m: object : 133 levels\n",
      "['1892', '1894', '1896', '1895', '1897', '1898', '1899', '1900', '1901', '1902', '1903', '1904'] ...\n",
      "\n",
      "\u001B[1m endYear \u001B[0m: object : 80 levels\n",
      "['\\\\N', '1945', '1949', '1958', '1951', '1950', '1954', '1957', '1952', '1956', '1967', '1971'] ...\n",
      "\u001B[1m genres \u001B[0m: object : 1505 levels\n",
      "['Animation,Comedy,Romance', 'Short,Sport'] ...\n",
      "\n",
      "\u001B[1m genre1 \u001B[0m: object : 29 levels\n",
      "['Animation', 'Short', 'Documentary', 'Romance', 'Comedy', 'News'] ...\n",
      "\u001B[1m genre2 \u001B[0m: object : 28 levels\n",
      "['Comedy', 'Sport', 'Short', None, 'News', 'Horror', 'Family', 'Fantasy', 'Crime'] ...\n",
      "\n",
      "\u001B[1m genre3 \u001B[0m: object : 27 levels\n",
      "['Romance', None, 'Sport', 'Short', 'Fantasy', 'Horror', 'Drama', 'Comedy'] ...\n",
      "\u001B[1m nconst \u001B[0m: object : 839960 levels\n",
      "['nm0721526', 'nm0183947', 'nm0653028', 'nm0063086', 'nm0085156'] ...\n",
      "\u001B[1m primaryName \u001B[0m: object : 795678 levels\n",
      "['Émile Reynaud', 'Peter Courtney', 'Fred Ott', 'Blanche Bayliss'] ...\n",
      "\n",
      "\u001B[1m birthYear \u001B[0m: object : 356 levels\n",
      "['1844', '1867', '1860', '1878', '1859', '1875', '1874', '1862', '\\\\N', '1881', '1864', '1854'] ...\n",
      "\n",
      "\u001B[1m deathYear \u001B[0m: object : 321 levels\n",
      "['1918', '1896', '1936', '1951', '1940', '1933', '1963', '1954', '\\\\N', '1948', '1921', '1941'] ...\n",
      "\u001B[1m primaryProfession \u001B[0m: object : 11507 levels\n",
      "['director,animation_department,producer'] ...\n",
      "\u001B[1m knownForTitles \u001B[0m: object : 669353 levels\n",
      "['tt0000003,tt16763674,tt16763740,tt13125956'] ...\n",
      "\u001B[1m title1 \u001B[0m: object : 232585 levels\n",
      "['tt0000003', 'tt0000007', 'tt0285265', 'tt0000009', 'tt0020403'] ...\n",
      "\u001B[1m title2 \u001B[0m: object : 222794 levels\n",
      "['tt16763674', None, 'tt0000008', 'tt0021535', 'tt0791136'] ...\n",
      "\n",
      "\u001B[1m title3 \u001B[0m: object : 203487 levels\n",
      "['tt16763740', None, 'tt0240514', 'tt0020355', 'tt0000012'] ...\n",
      "\u001B[1m title4 \u001B[0m: object : 186555 levels\n",
      "['tt13125956', None, 'tt0000009', 'tt0221930', 'tt8485720'] ...\n",
      "\n",
      "\u001B[1m title5 \u001B[0m: object : 37 levels\n",
      "[None, 'tt0038146', 'tt0156217', 'tt0053628', 'tt0460681', 'tt0088559'] ...\n",
      "\n",
      "\u001B[1m title6 \u001B[0m: object : 3 levels\n",
      "[None, 'tt0252111', 'tt5994668'] \n",
      "\n",
      "\u001B[1m title7 \u001B[0m: object : 2 levels\n",
      "[None, 'tt1159931'] \n"
     ]
    }
   ],
   "source": [
    "col_info(movies_and_actors_df.select_dtypes(include='object'))"
   ],
   "metadata": {
    "collapsed": false,
    "ExecuteTime": {
     "end_time": "2024-03-25T03:58:13.513974Z",
     "start_time": "2024-03-25T03:58:02.749531Z"
    }
   },
   "id": "ede08f04de6390a5",
   "execution_count": 87
  },
  {
   "cell_type": "markdown",
   "source": [
    "# Data Replacement"
   ],
   "metadata": {
    "collapsed": false
   },
   "id": "3814287db7fd18a9"
  },
  {
   "cell_type": "markdown",
   "source": [
    "We can see that there are quite a few columns in \"movie_and_actor_df\" such as 'startYear' which are actually int type but are stored as object type and have incorrect values '\\\\\\N'. We need to remove '\\\\\\N' values from the number-like value string to ensure that data conversion afterward is successful.\n",
    "\n",
    "Let's get a list of all the column names we need."
   ],
   "metadata": {
    "collapsed": false
   },
   "id": "e04d85437eec118a"
  },
  {
   "cell_type": "code",
   "outputs": [],
   "source": [
    "## get all the ones with year in the name, also those suspected to be int\n",
    "\n",
    "## remove redundant data like titleName and originalName, genre and genre123, knownForTitle and title123\n",
    "\n",
    "## Deal with the missing data\n",
    "\n",
    "## Do the final data conversion\n",
    "\n",
    "## Round off floats\n",
    "\n",
    "## Rename the columns to proper names"
   ],
   "metadata": {
    "collapsed": false
   },
   "id": "cad47983d945256f"
  },
  {
   "cell_type": "markdown",
   "id": "1751b58f",
   "metadata": {},
   "source": [
    "## Top 10 rated movies (based on ratings then # of votes)"
   ]
  },
  {
   "cell_type": "code",
   "outputs": [],
   "source": [],
   "metadata": {
    "collapsed": false,
    "ExecuteTime": {
     "end_time": "2024-03-25T03:39:00.974734Z",
     "start_time": "2024-03-25T03:39:00.972617Z"
    }
   },
   "id": "fdbe9a7dec03b1ab",
   "execution_count": 78
  },
  {
   "cell_type": "markdown",
   "id": "f768ff62",
   "metadata": {},
   "source": [
    "## Top 10 actors (by most movies with highest ratings)"
   ]
  },
  {
   "cell_type": "markdown",
   "id": "00a31214",
   "metadata": {},
   "source": [
    "## Top 10 movies by decades"
   ]
  },
  {
   "cell_type": "markdown",
   "id": "fba8e6bd",
   "metadata": {},
   "source": [
    "## Top genres overall and by decades"
   ]
  }
 ],
 "metadata": {
  "kernelspec": {
   "display_name": "Python 3",
   "language": "python",
   "name": "python3"
  },
  "language_info": {
   "codemirror_mode": {
    "name": "ipython",
    "version": 3
   },
   "file_extension": ".py",
   "mimetype": "text/x-python",
   "name": "python",
   "nbconvert_exporter": "python",
   "pygments_lexer": "ipython3",
   "version": "3.11.4"
  }
 },
 "nbformat": 4,
 "nbformat_minor": 5
}
