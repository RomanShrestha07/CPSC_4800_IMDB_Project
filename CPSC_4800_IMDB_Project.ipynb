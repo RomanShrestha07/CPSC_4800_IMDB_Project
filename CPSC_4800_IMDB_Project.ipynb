{
 "cells": [
  {
   "cell_type": "markdown",
   "id": "f1c82f5b8f564572",
   "metadata": {},
   "source": [
    "# TABLE OF CONTENTS"
   ]
  },
  {
   "cell_type": "markdown",
   "id": "c40fb3c23b777608",
   "metadata": {},
   "source": [
    "## 1. PROBLEM DESCRIPTION"
   ]
  },
  {
   "cell_type": "markdown",
   "id": "e3480de8862f3dab",
   "metadata": {},
   "source": [
    "In our Python group project revolving around IMDb Non-Commercial Datasets, we delve into a similar journey of data exploration and utilization. Our project centers around accessing subsets of IMDb data, tailored for personal and non-commercial use by customers. The dataset repository offers various subsets of IMDb data, each meticulously crafted and structured to facilitate analysis and exploration. Our objective is to harness these datasets to extract valuable insights and trends within the realm of IMDb content. The project encompasses a myriad of datasets, each offering unique perspectives and facets of IMDb content, ranging from title details to cast and crew information, and user ratings. With each dataset encapsulating valuable information, our aim is to unravel the intricacies of IMDb content and unveil noteworthy patterns and trends within the realm of entertainment."
   ]
  },
  {
   "cell_type": "markdown",
   "id": "1746b23a255471c2",
   "metadata": {},
   "source": [
    "## 2. THE DATA"
   ]
  },
  {
   "cell_type": "markdown",
   "id": "30b2dbaea3c2af1f",
   "metadata": {},
   "source": [
    "IMDb, short for Internet Movie Database, is a comprehensive online database that was launched in 1990 and has been a subsidiary of Amazon.com since 1998. It stands as the most popular and authoritative source for movie, TV, and celebrity content, providing a platform for fans to explore the world of entertainment and make informed decisions about what to watch.\n",
    "\n",
    "The database boasts millions of entries, including movies, TV shows, entertainment programs, and information about cast and crew members.\n",
    "\n",
    "Data Location:\n",
    "\n",
    "The dataset files are available for download from https://datasets.imdbws.com/. The data is updated daily to ensure relevance and accuracy."
   ]
  },
  {
   "cell_type": "markdown",
   "id": "5e272c3bf27f86d5",
   "metadata": {},
   "source": [
    "Main datasets:\n",
    "\n",
    "1. title.basics.tsv\n",
    "\n",
    "* tconst (string) - alphanumeric unique identifier of the title\n",
    "* titleType (string) – the type/format of the title (e.g. movie, short, tvseries, tvepisode, video, etc.)\n",
    "* primaryTitle (string) – the more popular title / the title used by the filmmakers on promotional materials at the point of release\n",
    "* originalTitle (string) - original title, in the original language\n",
    "* isAdult (boolean) - 0: non-adult title; 1: adult title\n",
    "* startYear (YYYY) – represents the release year of a title. In the case of TV Series, it is the series start year\n",
    "* endYear (YYYY) – TV Series end year. ‘\\N’ for all other title types\n",
    "* runtimeMinutes – primary runtime of the title, in minutes\n",
    "* genres (string array) – includes up to three genres associated with the title\n",
    "\n",
    "2. title.ratings.tsv\n",
    "* tconst (string): Alphanumeric unique identifier of the title.\n",
    "* averageRating: Weighted average of all individual user ratings for the title.\n",
    "* numVotes: Number of votes the title has received.\n",
    "\n",
    "3. name.basics.tsv\n",
    "* nconst (string): Alphanumeric unique identifier of the name/person.\n",
    "* primaryName: Name by which the person is most often credited.\n",
    "* birthYear: Year of birth in YYYY format.\n",
    "* deathYear: Year of death in YYYY format if applicable; otherwise '\\N'.\n",
    "* primaryProfession (array of strings): Top-3 professions of the person.\n",
    "* knownForTitles (array of tconsts): Titles the person is known for."
   ]
  },
  {
   "cell_type": "code",
   "execution_count": 4,
   "id": "29df1f251db6ed36",
   "metadata": {
    "ExecuteTime": {
     "end_time": "2024-03-28T00:36:51.568791Z",
     "start_time": "2024-03-28T00:36:51.564329Z"
    }
   },
   "outputs": [],
   "source": [
    "import pandas as pd\n",
    "import numpy as np\n",
    "import matplotlib.pyplot as plt\n",
    "import seaborn as sns\n",
    "\n",
    "%matplotlib inline"
   ]
  },
  {
   "cell_type": "code",
   "execution_count": 5,
   "id": "ca057b0ea458fef",
   "metadata": {
    "ExecuteTime": {
     "end_time": "2024-03-28T00:36:53.942972Z",
     "start_time": "2024-03-28T00:36:52.046061Z"
    }
   },
   "outputs": [
    {
     "data": {
      "text/html": [
       "<div>\n",
       "<style scoped>\n",
       "    .dataframe tbody tr th:only-of-type {\n",
       "        vertical-align: middle;\n",
       "    }\n",
       "\n",
       "    .dataframe tbody tr th {\n",
       "        vertical-align: top;\n",
       "    }\n",
       "\n",
       "    .dataframe thead th {\n",
       "        text-align: right;\n",
       "    }\n",
       "</style>\n",
       "<table border=\"1\" class=\"dataframe\">\n",
       "  <thead>\n",
       "    <tr style=\"text-align: right;\">\n",
       "      <th></th>\n",
       "      <th>tconst</th>\n",
       "      <th>titleType</th>\n",
       "      <th>primaryTitle</th>\n",
       "      <th>originalTitle</th>\n",
       "      <th>isAdult</th>\n",
       "      <th>startYear</th>\n",
       "      <th>endYear</th>\n",
       "      <th>runtimeMinutes</th>\n",
       "      <th>genres</th>\n",
       "    </tr>\n",
       "  </thead>\n",
       "  <tbody>\n",
       "    <tr>\n",
       "      <th>0</th>\n",
       "      <td>tt0000001</td>\n",
       "      <td>short</td>\n",
       "      <td>Carmencita</td>\n",
       "      <td>Carmencita</td>\n",
       "      <td>0</td>\n",
       "      <td>1894</td>\n",
       "      <td>\\N</td>\n",
       "      <td>1</td>\n",
       "      <td>Documentary,Short</td>\n",
       "    </tr>\n",
       "    <tr>\n",
       "      <th>1</th>\n",
       "      <td>tt0000002</td>\n",
       "      <td>short</td>\n",
       "      <td>Le clown et ses chiens</td>\n",
       "      <td>Le clown et ses chiens</td>\n",
       "      <td>0</td>\n",
       "      <td>1892</td>\n",
       "      <td>\\N</td>\n",
       "      <td>5</td>\n",
       "      <td>Animation,Short</td>\n",
       "    </tr>\n",
       "    <tr>\n",
       "      <th>2</th>\n",
       "      <td>tt0000003</td>\n",
       "      <td>short</td>\n",
       "      <td>Pauvre Pierrot</td>\n",
       "      <td>Pauvre Pierrot</td>\n",
       "      <td>0</td>\n",
       "      <td>1892</td>\n",
       "      <td>\\N</td>\n",
       "      <td>4</td>\n",
       "      <td>Animation,Comedy,Romance</td>\n",
       "    </tr>\n",
       "    <tr>\n",
       "      <th>3</th>\n",
       "      <td>tt0000004</td>\n",
       "      <td>short</td>\n",
       "      <td>Un bon bock</td>\n",
       "      <td>Un bon bock</td>\n",
       "      <td>0</td>\n",
       "      <td>1892</td>\n",
       "      <td>\\N</td>\n",
       "      <td>12</td>\n",
       "      <td>Animation,Short</td>\n",
       "    </tr>\n",
       "    <tr>\n",
       "      <th>4</th>\n",
       "      <td>tt0000005</td>\n",
       "      <td>short</td>\n",
       "      <td>Blacksmith Scene</td>\n",
       "      <td>Blacksmith Scene</td>\n",
       "      <td>0</td>\n",
       "      <td>1893</td>\n",
       "      <td>\\N</td>\n",
       "      <td>1</td>\n",
       "      <td>Comedy,Short</td>\n",
       "    </tr>\n",
       "  </tbody>\n",
       "</table>\n",
       "</div>"
      ],
      "text/plain": [
       "      tconst titleType            primaryTitle           originalTitle  \\\n",
       "0  tt0000001     short              Carmencita              Carmencita   \n",
       "1  tt0000002     short  Le clown et ses chiens  Le clown et ses chiens   \n",
       "2  tt0000003     short          Pauvre Pierrot          Pauvre Pierrot   \n",
       "3  tt0000004     short             Un bon bock             Un bon bock   \n",
       "4  tt0000005     short        Blacksmith Scene        Blacksmith Scene   \n",
       "\n",
       "   isAdult startYear endYear runtimeMinutes                    genres  \n",
       "0        0      1894      \\N              1         Documentary,Short  \n",
       "1        0      1892      \\N              5           Animation,Short  \n",
       "2        0      1892      \\N              4  Animation,Comedy,Romance  \n",
       "3        0      1892      \\N             12           Animation,Short  \n",
       "4        0      1893      \\N              1              Comedy,Short  "
      ]
     },
     "execution_count": 5,
     "metadata": {},
     "output_type": "execute_result"
    }
   ],
   "source": [
    "# Reading the dataset \"title_basics\"\n",
    "\n",
    "title_basics_data = pd.read_csv('data/title_basics_data.tsv', sep='\\t')\n",
    "\n",
    "title_basics_data.head()"
   ]
  },
  {
   "cell_type": "code",
   "execution_count": 6,
   "id": "10ac42bb8af055",
   "metadata": {
    "ExecuteTime": {
     "end_time": "2024-03-28T00:36:55.732156Z",
     "start_time": "2024-03-28T00:36:54.587645Z"
    }
   },
   "outputs": [
    {
     "name": "stdout",
     "output_type": "stream",
     "text": [
      "<class 'pandas.core.frame.DataFrame'>\n",
      "RangeIndex: 1048575 entries, 0 to 1048574\n",
      "Data columns (total 9 columns):\n",
      " #   Column          Non-Null Count    Dtype \n",
      "---  ------          --------------    ----- \n",
      " 0   tconst          1048575 non-null  object\n",
      " 1   titleType       1048575 non-null  object\n",
      " 2   primaryTitle    1048575 non-null  object\n",
      " 3   originalTitle   1048575 non-null  object\n",
      " 4   isAdult         1048575 non-null  int64 \n",
      " 5   startYear       1048575 non-null  object\n",
      " 6   endYear         1048575 non-null  object\n",
      " 7   runtimeMinutes  1048575 non-null  object\n",
      " 8   genres          1048575 non-null  object\n",
      "dtypes: int64(1), object(8)\n",
      "memory usage: 72.0+ MB\n"
     ]
    }
   ],
   "source": [
    "# Summary of the \"title_basics\" dataset\n",
    "\n",
    "title_basics_data.info()"
   ]
  },
  {
   "cell_type": "code",
   "execution_count": 7,
   "id": "75c7160e3ee0c511",
   "metadata": {
    "ExecuteTime": {
     "end_time": "2024-03-28T00:36:58.121045Z",
     "start_time": "2024-03-28T00:36:56.292163Z"
    }
   },
   "outputs": [
    {
     "data": {
      "text/html": [
       "<div>\n",
       "<style scoped>\n",
       "    .dataframe tbody tr th:only-of-type {\n",
       "        vertical-align: middle;\n",
       "    }\n",
       "\n",
       "    .dataframe tbody tr th {\n",
       "        vertical-align: top;\n",
       "    }\n",
       "\n",
       "    .dataframe thead th {\n",
       "        text-align: right;\n",
       "    }\n",
       "</style>\n",
       "<table border=\"1\" class=\"dataframe\">\n",
       "  <thead>\n",
       "    <tr style=\"text-align: right;\">\n",
       "      <th></th>\n",
       "      <th>nconst</th>\n",
       "      <th>primaryName</th>\n",
       "      <th>birthYear</th>\n",
       "      <th>deathYear</th>\n",
       "      <th>primaryProfession</th>\n",
       "      <th>knownForTitles</th>\n",
       "    </tr>\n",
       "  </thead>\n",
       "  <tbody>\n",
       "    <tr>\n",
       "      <th>0</th>\n",
       "      <td>nm0000001</td>\n",
       "      <td>Fred Astaire</td>\n",
       "      <td>1899</td>\n",
       "      <td>1987</td>\n",
       "      <td>soundtrack,actor,miscellaneous</td>\n",
       "      <td>tt0027125,tt0050419,tt0053137,tt0072308</td>\n",
       "    </tr>\n",
       "    <tr>\n",
       "      <th>1</th>\n",
       "      <td>nm0000002</td>\n",
       "      <td>Lauren Bacall</td>\n",
       "      <td>1924</td>\n",
       "      <td>2014</td>\n",
       "      <td>actress,soundtrack</td>\n",
       "      <td>tt0038355,tt0037382,tt0075213,tt0117057</td>\n",
       "    </tr>\n",
       "    <tr>\n",
       "      <th>2</th>\n",
       "      <td>nm0000003</td>\n",
       "      <td>Brigitte Bardot</td>\n",
       "      <td>1934</td>\n",
       "      <td>\\N</td>\n",
       "      <td>actress,soundtrack,music_department</td>\n",
       "      <td>tt0049189,tt0054452,tt0056404,tt0057345</td>\n",
       "    </tr>\n",
       "    <tr>\n",
       "      <th>3</th>\n",
       "      <td>nm0000004</td>\n",
       "      <td>John Belushi</td>\n",
       "      <td>1949</td>\n",
       "      <td>1982</td>\n",
       "      <td>actor,soundtrack,writer</td>\n",
       "      <td>tt0078723,tt0080455,tt0072562,tt0077975</td>\n",
       "    </tr>\n",
       "    <tr>\n",
       "      <th>4</th>\n",
       "      <td>nm0000005</td>\n",
       "      <td>Ingmar Bergman</td>\n",
       "      <td>1918</td>\n",
       "      <td>2007</td>\n",
       "      <td>writer,director,actor</td>\n",
       "      <td>tt0083922,tt0069467,tt0050976,tt0050986</td>\n",
       "    </tr>\n",
       "  </tbody>\n",
       "</table>\n",
       "</div>"
      ],
      "text/plain": [
       "      nconst      primaryName birthYear deathYear  \\\n",
       "0  nm0000001     Fred Astaire      1899      1987   \n",
       "1  nm0000002    Lauren Bacall      1924      2014   \n",
       "2  nm0000003  Brigitte Bardot      1934        \\N   \n",
       "3  nm0000004     John Belushi      1949      1982   \n",
       "4  nm0000005   Ingmar Bergman      1918      2007   \n",
       "\n",
       "                     primaryProfession  \\\n",
       "0       soundtrack,actor,miscellaneous   \n",
       "1                   actress,soundtrack   \n",
       "2  actress,soundtrack,music_department   \n",
       "3              actor,soundtrack,writer   \n",
       "4                writer,director,actor   \n",
       "\n",
       "                            knownForTitles  \n",
       "0  tt0027125,tt0050419,tt0053137,tt0072308  \n",
       "1  tt0038355,tt0037382,tt0075213,tt0117057  \n",
       "2  tt0049189,tt0054452,tt0056404,tt0057345  \n",
       "3  tt0078723,tt0080455,tt0072562,tt0077975  \n",
       "4  tt0083922,tt0069467,tt0050976,tt0050986  "
      ]
     },
     "execution_count": 7,
     "metadata": {},
     "output_type": "execute_result"
    }
   ],
   "source": [
    "# Reading the dataset \"name_basics\"\n",
    "\n",
    "name_basics_data = pd.read_csv('data/name_basics_data.tsv', sep='\\t')\n",
    "\n",
    "name_basics_data.head()"
   ]
  },
  {
   "cell_type": "code",
   "execution_count": 8,
   "id": "57938a33a5898e0",
   "metadata": {
    "ExecuteTime": {
     "end_time": "2024-03-28T00:36:59.272370Z",
     "start_time": "2024-03-28T00:36:58.715358Z"
    }
   },
   "outputs": [
    {
     "data": {
      "text/html": [
       "<div>\n",
       "<style scoped>\n",
       "    .dataframe tbody tr th:only-of-type {\n",
       "        vertical-align: middle;\n",
       "    }\n",
       "\n",
       "    .dataframe tbody tr th {\n",
       "        vertical-align: top;\n",
       "    }\n",
       "\n",
       "    .dataframe thead th {\n",
       "        text-align: right;\n",
       "    }\n",
       "</style>\n",
       "<table border=\"1\" class=\"dataframe\">\n",
       "  <thead>\n",
       "    <tr style=\"text-align: right;\">\n",
       "      <th></th>\n",
       "      <th>tconst</th>\n",
       "      <th>averageRating</th>\n",
       "      <th>numVotes</th>\n",
       "    </tr>\n",
       "  </thead>\n",
       "  <tbody>\n",
       "    <tr>\n",
       "      <th>0</th>\n",
       "      <td>tt0000001</td>\n",
       "      <td>5.7</td>\n",
       "      <td>2032</td>\n",
       "    </tr>\n",
       "    <tr>\n",
       "      <th>1</th>\n",
       "      <td>tt0000002</td>\n",
       "      <td>5.7</td>\n",
       "      <td>272</td>\n",
       "    </tr>\n",
       "    <tr>\n",
       "      <th>2</th>\n",
       "      <td>tt0000003</td>\n",
       "      <td>6.5</td>\n",
       "      <td>1973</td>\n",
       "    </tr>\n",
       "    <tr>\n",
       "      <th>3</th>\n",
       "      <td>tt0000004</td>\n",
       "      <td>5.4</td>\n",
       "      <td>178</td>\n",
       "    </tr>\n",
       "    <tr>\n",
       "      <th>4</th>\n",
       "      <td>tt0000005</td>\n",
       "      <td>6.2</td>\n",
       "      <td>2731</td>\n",
       "    </tr>\n",
       "  </tbody>\n",
       "</table>\n",
       "</div>"
      ],
      "text/plain": [
       "      tconst  averageRating  numVotes\n",
       "0  tt0000001            5.7      2032\n",
       "1  tt0000002            5.7       272\n",
       "2  tt0000003            6.5      1973\n",
       "3  tt0000004            5.4       178\n",
       "4  tt0000005            6.2      2731"
      ]
     },
     "execution_count": 8,
     "metadata": {},
     "output_type": "execute_result"
    }
   ],
   "source": [
    "# Reading the dataset \"title_ratings\"\n",
    "\n",
    "title_ratings_data = pd.read_csv('data/title_ratings_data.tsv', sep='\\t')\n",
    "\n",
    "title_ratings_data.head()"
   ]
  },
  {
   "cell_type": "markdown",
   "id": "64ebad0a5099dcf2",
   "metadata": {},
   "source": [
    "## 3. BACKGROUND RESEARCH"
   ]
  },
  {
   "cell_type": "markdown",
   "id": "be9390853143cb61",
   "metadata": {},
   "source": [
    "These datasets offer subsets of IMDb data accessible to customers for personal and non-commercial use, providing valuable insights into diverse facets of IMDb content, such as titles, cast and crew details, and user ratings.\n",
    "\n",
    "- Title Basics Dataset: Contains over 1 million entries (1,048,575), each uniquely identified by an alphanumeric code (tconst). Provides details such as title type/format, primary and original titles, adult content indicator, start and end years, runtime duration, and associated genres.\n",
    "- Name Basics Dataset: Also comprises over 1 million entries (1,048,575), with each entry identified by an alphanumeric code (nconst). Includes information about the primary name of individuals, birth and death years, primary professions, and titles they are known for.\n",
    "- Title Ratings Dataset: Consists of more than 1 million entries (1,048,575), identified by an alphanumeric code (tconst). Contains data on the average rating and number of votes received for each title.\n",
    "\n",
    "Upon researching each of the aforementioned topics and scrutinizing the associated metadata file for each dataset, the following conclusions can be drawn:\n",
    "\n",
    "* Identification of the top 10 movies by decade.\n",
    "* Compilation of the top 10 actors based on the highest number of appearances in movies and their ratings.\n",
    "* Determination of the top 10 rated movies, considering both ratings and the number of votes received.\n",
    "* Analysis of the most prevalent genres across the IMDb database."
   ]
  },
  {
   "cell_type": "markdown",
   "id": "f71031f7b0f7db14",
   "metadata": {},
   "source": [
    "## 4. READ IN THE DATA"
   ]
  },
  {
   "cell_type": "markdown",
   "id": "b0443ba95d65c690",
   "metadata": {},
   "source": [
    "Let's read each file into a pandas dataframe, and then store all the dataframes in a dictionary. This will give us a convenient way to store them, and a quick way to reference them later on. "
   ]
  },
  {
   "cell_type": "code",
   "execution_count": 9,
   "id": "19a471e1dcb55307",
   "metadata": {
    "ExecuteTime": {
     "end_time": "2024-03-28T00:37:06.409149Z",
     "start_time": "2024-03-28T00:37:02.904932Z"
    }
   },
   "outputs": [],
   "source": [
    "data_files = [\n",
    "    \"title_basics_data.tsv\",\n",
    "    \"title_ratings_data.tsv\",\n",
    "    \"name_basics_data.tsv\"\n",
    "]\n",
    "\n",
    "imdb_data = {}\n",
    "\n",
    "for file in data_files:\n",
    "    d = pd.read_csv(\"data/{0}\".format(file), sep='\\t')\n",
    "    key = file.replace(\".tsv\", \"\")\n",
    "    imdb_data[key] = d"
   ]
  },
  {
   "cell_type": "markdown",
   "id": "aa93edb8f615b424",
   "metadata": {},
   "source": [
    "### A. Data Selection"
   ]
  },
  {
   "cell_type": "markdown",
   "id": "bc9b752fe9c4212d",
   "metadata": {},
   "source": [
    "We'll have to filter the data to remove the unnecessary one \"runtimeMinutes\" in the title_basics_data. Working with fewer columns will make it easier to print the dataframe out and find correlations within it."
   ]
  },
  {
   "cell_type": "code",
   "execution_count": 10,
   "id": "bdf9065dabbfbf73",
   "metadata": {
    "ExecuteTime": {
     "end_time": "2024-03-28T00:37:08.346943Z",
     "start_time": "2024-03-28T00:37:08.251726Z"
    }
   },
   "outputs": [],
   "source": [
    "# Removing the column : \"runtimeMinutes\"\n",
    "\n",
    "imdb_data[\"title_basics_data\"] = imdb_data[\"title_basics_data\"].drop(columns=[\"runtimeMinutes\"])"
   ]
  },
  {
   "cell_type": "markdown",
   "id": "3dc439484ef07f5f",
   "metadata": {},
   "source": [
    "## 5. GETTING TO KNOW THE DATA"
   ]
  },
  {
   "cell_type": "code",
   "execution_count": 11,
   "id": "cb4591cd398c3914",
   "metadata": {
    "ExecuteTime": {
     "end_time": "2024-03-28T00:37:11.789774Z",
     "start_time": "2024-03-28T00:37:11.774968Z"
    }
   },
   "outputs": [
    {
     "name": "stdout",
     "output_type": "stream",
     "text": [
      "\n",
      "\u001b[1m title_basics_data \u001b[0m\n"
     ]
    },
    {
     "data": {
      "text/html": [
       "<div>\n",
       "<style scoped>\n",
       "    .dataframe tbody tr th:only-of-type {\n",
       "        vertical-align: middle;\n",
       "    }\n",
       "\n",
       "    .dataframe tbody tr th {\n",
       "        vertical-align: top;\n",
       "    }\n",
       "\n",
       "    .dataframe thead th {\n",
       "        text-align: right;\n",
       "    }\n",
       "</style>\n",
       "<table border=\"1\" class=\"dataframe\">\n",
       "  <thead>\n",
       "    <tr style=\"text-align: right;\">\n",
       "      <th></th>\n",
       "      <th>tconst</th>\n",
       "      <th>titleType</th>\n",
       "      <th>primaryTitle</th>\n",
       "      <th>originalTitle</th>\n",
       "      <th>isAdult</th>\n",
       "      <th>startYear</th>\n",
       "      <th>endYear</th>\n",
       "      <th>genres</th>\n",
       "    </tr>\n",
       "  </thead>\n",
       "  <tbody>\n",
       "    <tr>\n",
       "      <th>0</th>\n",
       "      <td>tt0000001</td>\n",
       "      <td>short</td>\n",
       "      <td>Carmencita</td>\n",
       "      <td>Carmencita</td>\n",
       "      <td>0</td>\n",
       "      <td>1894</td>\n",
       "      <td>\\N</td>\n",
       "      <td>Documentary,Short</td>\n",
       "    </tr>\n",
       "    <tr>\n",
       "      <th>1</th>\n",
       "      <td>tt0000002</td>\n",
       "      <td>short</td>\n",
       "      <td>Le clown et ses chiens</td>\n",
       "      <td>Le clown et ses chiens</td>\n",
       "      <td>0</td>\n",
       "      <td>1892</td>\n",
       "      <td>\\N</td>\n",
       "      <td>Animation,Short</td>\n",
       "    </tr>\n",
       "    <tr>\n",
       "      <th>2</th>\n",
       "      <td>tt0000003</td>\n",
       "      <td>short</td>\n",
       "      <td>Pauvre Pierrot</td>\n",
       "      <td>Pauvre Pierrot</td>\n",
       "      <td>0</td>\n",
       "      <td>1892</td>\n",
       "      <td>\\N</td>\n",
       "      <td>Animation,Comedy,Romance</td>\n",
       "    </tr>\n",
       "    <tr>\n",
       "      <th>3</th>\n",
       "      <td>tt0000004</td>\n",
       "      <td>short</td>\n",
       "      <td>Un bon bock</td>\n",
       "      <td>Un bon bock</td>\n",
       "      <td>0</td>\n",
       "      <td>1892</td>\n",
       "      <td>\\N</td>\n",
       "      <td>Animation,Short</td>\n",
       "    </tr>\n",
       "    <tr>\n",
       "      <th>4</th>\n",
       "      <td>tt0000005</td>\n",
       "      <td>short</td>\n",
       "      <td>Blacksmith Scene</td>\n",
       "      <td>Blacksmith Scene</td>\n",
       "      <td>0</td>\n",
       "      <td>1893</td>\n",
       "      <td>\\N</td>\n",
       "      <td>Comedy,Short</td>\n",
       "    </tr>\n",
       "  </tbody>\n",
       "</table>\n",
       "</div>"
      ],
      "text/plain": [
       "      tconst titleType            primaryTitle           originalTitle  \\\n",
       "0  tt0000001     short              Carmencita              Carmencita   \n",
       "1  tt0000002     short  Le clown et ses chiens  Le clown et ses chiens   \n",
       "2  tt0000003     short          Pauvre Pierrot          Pauvre Pierrot   \n",
       "3  tt0000004     short             Un bon bock             Un bon bock   \n",
       "4  tt0000005     short        Blacksmith Scene        Blacksmith Scene   \n",
       "\n",
       "   isAdult startYear endYear                    genres  \n",
       "0        0      1894      \\N         Documentary,Short  \n",
       "1        0      1892      \\N           Animation,Short  \n",
       "2        0      1892      \\N  Animation,Comedy,Romance  \n",
       "3        0      1892      \\N           Animation,Short  \n",
       "4        0      1893      \\N              Comedy,Short  "
      ]
     },
     "metadata": {},
     "output_type": "display_data"
    },
    {
     "name": "stdout",
     "output_type": "stream",
     "text": [
      "\n",
      "\u001b[1m title_ratings_data \u001b[0m\n"
     ]
    },
    {
     "data": {
      "text/html": [
       "<div>\n",
       "<style scoped>\n",
       "    .dataframe tbody tr th:only-of-type {\n",
       "        vertical-align: middle;\n",
       "    }\n",
       "\n",
       "    .dataframe tbody tr th {\n",
       "        vertical-align: top;\n",
       "    }\n",
       "\n",
       "    .dataframe thead th {\n",
       "        text-align: right;\n",
       "    }\n",
       "</style>\n",
       "<table border=\"1\" class=\"dataframe\">\n",
       "  <thead>\n",
       "    <tr style=\"text-align: right;\">\n",
       "      <th></th>\n",
       "      <th>tconst</th>\n",
       "      <th>averageRating</th>\n",
       "      <th>numVotes</th>\n",
       "    </tr>\n",
       "  </thead>\n",
       "  <tbody>\n",
       "    <tr>\n",
       "      <th>0</th>\n",
       "      <td>tt0000001</td>\n",
       "      <td>5.7</td>\n",
       "      <td>2032</td>\n",
       "    </tr>\n",
       "    <tr>\n",
       "      <th>1</th>\n",
       "      <td>tt0000002</td>\n",
       "      <td>5.7</td>\n",
       "      <td>272</td>\n",
       "    </tr>\n",
       "    <tr>\n",
       "      <th>2</th>\n",
       "      <td>tt0000003</td>\n",
       "      <td>6.5</td>\n",
       "      <td>1973</td>\n",
       "    </tr>\n",
       "    <tr>\n",
       "      <th>3</th>\n",
       "      <td>tt0000004</td>\n",
       "      <td>5.4</td>\n",
       "      <td>178</td>\n",
       "    </tr>\n",
       "    <tr>\n",
       "      <th>4</th>\n",
       "      <td>tt0000005</td>\n",
       "      <td>6.2</td>\n",
       "      <td>2731</td>\n",
       "    </tr>\n",
       "  </tbody>\n",
       "</table>\n",
       "</div>"
      ],
      "text/plain": [
       "      tconst  averageRating  numVotes\n",
       "0  tt0000001            5.7      2032\n",
       "1  tt0000002            5.7       272\n",
       "2  tt0000003            6.5      1973\n",
       "3  tt0000004            5.4       178\n",
       "4  tt0000005            6.2      2731"
      ]
     },
     "metadata": {},
     "output_type": "display_data"
    },
    {
     "name": "stdout",
     "output_type": "stream",
     "text": [
      "\n",
      "\u001b[1m name_basics_data \u001b[0m\n"
     ]
    },
    {
     "data": {
      "text/html": [
       "<div>\n",
       "<style scoped>\n",
       "    .dataframe tbody tr th:only-of-type {\n",
       "        vertical-align: middle;\n",
       "    }\n",
       "\n",
       "    .dataframe tbody tr th {\n",
       "        vertical-align: top;\n",
       "    }\n",
       "\n",
       "    .dataframe thead th {\n",
       "        text-align: right;\n",
       "    }\n",
       "</style>\n",
       "<table border=\"1\" class=\"dataframe\">\n",
       "  <thead>\n",
       "    <tr style=\"text-align: right;\">\n",
       "      <th></th>\n",
       "      <th>nconst</th>\n",
       "      <th>primaryName</th>\n",
       "      <th>birthYear</th>\n",
       "      <th>deathYear</th>\n",
       "      <th>primaryProfession</th>\n",
       "      <th>knownForTitles</th>\n",
       "    </tr>\n",
       "  </thead>\n",
       "  <tbody>\n",
       "    <tr>\n",
       "      <th>0</th>\n",
       "      <td>nm0000001</td>\n",
       "      <td>Fred Astaire</td>\n",
       "      <td>1899</td>\n",
       "      <td>1987</td>\n",
       "      <td>soundtrack,actor,miscellaneous</td>\n",
       "      <td>tt0027125,tt0050419,tt0053137,tt0072308</td>\n",
       "    </tr>\n",
       "    <tr>\n",
       "      <th>1</th>\n",
       "      <td>nm0000002</td>\n",
       "      <td>Lauren Bacall</td>\n",
       "      <td>1924</td>\n",
       "      <td>2014</td>\n",
       "      <td>actress,soundtrack</td>\n",
       "      <td>tt0038355,tt0037382,tt0075213,tt0117057</td>\n",
       "    </tr>\n",
       "    <tr>\n",
       "      <th>2</th>\n",
       "      <td>nm0000003</td>\n",
       "      <td>Brigitte Bardot</td>\n",
       "      <td>1934</td>\n",
       "      <td>\\N</td>\n",
       "      <td>actress,soundtrack,music_department</td>\n",
       "      <td>tt0049189,tt0054452,tt0056404,tt0057345</td>\n",
       "    </tr>\n",
       "    <tr>\n",
       "      <th>3</th>\n",
       "      <td>nm0000004</td>\n",
       "      <td>John Belushi</td>\n",
       "      <td>1949</td>\n",
       "      <td>1982</td>\n",
       "      <td>actor,soundtrack,writer</td>\n",
       "      <td>tt0078723,tt0080455,tt0072562,tt0077975</td>\n",
       "    </tr>\n",
       "    <tr>\n",
       "      <th>4</th>\n",
       "      <td>nm0000005</td>\n",
       "      <td>Ingmar Bergman</td>\n",
       "      <td>1918</td>\n",
       "      <td>2007</td>\n",
       "      <td>writer,director,actor</td>\n",
       "      <td>tt0083922,tt0069467,tt0050976,tt0050986</td>\n",
       "    </tr>\n",
       "  </tbody>\n",
       "</table>\n",
       "</div>"
      ],
      "text/plain": [
       "      nconst      primaryName birthYear deathYear  \\\n",
       "0  nm0000001     Fred Astaire      1899      1987   \n",
       "1  nm0000002    Lauren Bacall      1924      2014   \n",
       "2  nm0000003  Brigitte Bardot      1934        \\N   \n",
       "3  nm0000004     John Belushi      1949      1982   \n",
       "4  nm0000005   Ingmar Bergman      1918      2007   \n",
       "\n",
       "                     primaryProfession  \\\n",
       "0       soundtrack,actor,miscellaneous   \n",
       "1                   actress,soundtrack   \n",
       "2  actress,soundtrack,music_department   \n",
       "3              actor,soundtrack,writer   \n",
       "4                writer,director,actor   \n",
       "\n",
       "                            knownForTitles  \n",
       "0  tt0027125,tt0050419,tt0053137,tt0072308  \n",
       "1  tt0038355,tt0037382,tt0075213,tt0117057  \n",
       "2  tt0049189,tt0054452,tt0056404,tt0057345  \n",
       "3  tt0078723,tt0080455,tt0072562,tt0077975  \n",
       "4  tt0083922,tt0069467,tt0050976,tt0050986  "
      ]
     },
     "metadata": {},
     "output_type": "display_data"
    }
   ],
   "source": [
    "for key, value in imdb_data.items():\n",
    "    print(\"\\n\\033[1m\", key, \"\\033[0m\")\n",
    "    display(value.head())"
   ]
  },
  {
   "cell_type": "markdown",
   "id": "97c7c3b44c1118f5",
   "metadata": {},
   "source": [
    "The primary key in each dataset is as follows:\n",
    "\n",
    "- title_basics_data: Primary Key: tconst\n",
    "\n",
    "- name_basics_data: Primary Key: nconst\n",
    "\n",
    "- title_ratings_data: Primary Key: tconst\n",
    "\n",
    "\n",
    "To combine the three datasets, we can perform a merge operation based on the common key, which is \"tconst\" in both the title basics dataset and the title ratings dataset.\n",
    "\n",
    "We can then merge the resulting DataFrame with the name basics dataset based on the common key \"tconst\", which will be extracted from the \"knownForTitles\" column in name_basics_data. We'll split the comma-separated values in the \"knownForTitles\" column of the name_basics_data dataset and explode them into separate rows. This transformation ensures that each 'tconst' value appears in its own row, facilitating the merge operation.\n",
    "\n",
    "This merge combines information from all three datasets, resulting in a single DataFrame that contains comprehensive information about titles, ratings, and cast/crew members."
   ]
  },
  {
   "cell_type": "markdown",
   "id": "debc6ae1ecaed63",
   "metadata": {
    "ExecuteTime": {
     "end_time": "2024-03-16T21:46:14.521966Z",
     "start_time": "2024-03-16T21:46:14.518770Z"
    }
   },
   "source": [
    "# 5. Getting to know the data"
   ]
  },
  {
   "cell_type": "markdown",
   "id": "1ee3a923",
   "metadata": {},
   "source": [
    "## 5.1 Dataframe 'title_basics_data'"
   ]
  },
  {
   "cell_type": "code",
   "execution_count": 12,
   "id": "117ea1a7",
   "metadata": {
    "ExecuteTime": {
     "end_time": "2024-03-28T00:37:15.309019Z",
     "start_time": "2024-03-28T00:37:15.301284Z"
    }
   },
   "outputs": [
    {
     "data": {
      "text/html": [
       "<div>\n",
       "<style scoped>\n",
       "    .dataframe tbody tr th:only-of-type {\n",
       "        vertical-align: middle;\n",
       "    }\n",
       "\n",
       "    .dataframe tbody tr th {\n",
       "        vertical-align: top;\n",
       "    }\n",
       "\n",
       "    .dataframe thead th {\n",
       "        text-align: right;\n",
       "    }\n",
       "</style>\n",
       "<table border=\"1\" class=\"dataframe\">\n",
       "  <thead>\n",
       "    <tr style=\"text-align: right;\">\n",
       "      <th></th>\n",
       "      <th>tconst</th>\n",
       "      <th>titleType</th>\n",
       "      <th>primaryTitle</th>\n",
       "      <th>originalTitle</th>\n",
       "      <th>isAdult</th>\n",
       "      <th>startYear</th>\n",
       "      <th>endYear</th>\n",
       "      <th>genres</th>\n",
       "    </tr>\n",
       "  </thead>\n",
       "  <tbody>\n",
       "    <tr>\n",
       "      <th>0</th>\n",
       "      <td>tt0000001</td>\n",
       "      <td>short</td>\n",
       "      <td>Carmencita</td>\n",
       "      <td>Carmencita</td>\n",
       "      <td>0</td>\n",
       "      <td>1894</td>\n",
       "      <td>\\N</td>\n",
       "      <td>Documentary,Short</td>\n",
       "    </tr>\n",
       "    <tr>\n",
       "      <th>1</th>\n",
       "      <td>tt0000002</td>\n",
       "      <td>short</td>\n",
       "      <td>Le clown et ses chiens</td>\n",
       "      <td>Le clown et ses chiens</td>\n",
       "      <td>0</td>\n",
       "      <td>1892</td>\n",
       "      <td>\\N</td>\n",
       "      <td>Animation,Short</td>\n",
       "    </tr>\n",
       "    <tr>\n",
       "      <th>2</th>\n",
       "      <td>tt0000003</td>\n",
       "      <td>short</td>\n",
       "      <td>Pauvre Pierrot</td>\n",
       "      <td>Pauvre Pierrot</td>\n",
       "      <td>0</td>\n",
       "      <td>1892</td>\n",
       "      <td>\\N</td>\n",
       "      <td>Animation,Comedy,Romance</td>\n",
       "    </tr>\n",
       "    <tr>\n",
       "      <th>3</th>\n",
       "      <td>tt0000004</td>\n",
       "      <td>short</td>\n",
       "      <td>Un bon bock</td>\n",
       "      <td>Un bon bock</td>\n",
       "      <td>0</td>\n",
       "      <td>1892</td>\n",
       "      <td>\\N</td>\n",
       "      <td>Animation,Short</td>\n",
       "    </tr>\n",
       "    <tr>\n",
       "      <th>4</th>\n",
       "      <td>tt0000005</td>\n",
       "      <td>short</td>\n",
       "      <td>Blacksmith Scene</td>\n",
       "      <td>Blacksmith Scene</td>\n",
       "      <td>0</td>\n",
       "      <td>1893</td>\n",
       "      <td>\\N</td>\n",
       "      <td>Comedy,Short</td>\n",
       "    </tr>\n",
       "  </tbody>\n",
       "</table>\n",
       "</div>"
      ],
      "text/plain": [
       "      tconst titleType            primaryTitle           originalTitle  \\\n",
       "0  tt0000001     short              Carmencita              Carmencita   \n",
       "1  tt0000002     short  Le clown et ses chiens  Le clown et ses chiens   \n",
       "2  tt0000003     short          Pauvre Pierrot          Pauvre Pierrot   \n",
       "3  tt0000004     short             Un bon bock             Un bon bock   \n",
       "4  tt0000005     short        Blacksmith Scene        Blacksmith Scene   \n",
       "\n",
       "   isAdult startYear endYear                    genres  \n",
       "0        0      1894      \\N         Documentary,Short  \n",
       "1        0      1892      \\N           Animation,Short  \n",
       "2        0      1892      \\N  Animation,Comedy,Romance  \n",
       "3        0      1892      \\N           Animation,Short  \n",
       "4        0      1893      \\N              Comedy,Short  "
      ]
     },
     "execution_count": 12,
     "metadata": {},
     "output_type": "execute_result"
    }
   ],
   "source": [
    "imdb_data['title_basics_data'].head()"
   ]
  },
  {
   "cell_type": "markdown",
   "id": "4df8bd1a",
   "metadata": {},
   "source": [
    "### Column 'isAdult'"
   ]
  },
  {
   "cell_type": "code",
   "execution_count": 13,
   "id": "d02ee8f9",
   "metadata": {
    "ExecuteTime": {
     "end_time": "2024-03-28T00:37:16.818222Z",
     "start_time": "2024-03-28T00:37:16.808599Z"
    }
   },
   "outputs": [
    {
     "data": {
      "text/plain": [
       "0    0.9592\n",
       "1    0.0408\n",
       "Name: isAdult, dtype: float64"
      ]
     },
     "execution_count": 13,
     "metadata": {},
     "output_type": "execute_result"
    }
   ],
   "source": [
    "#display(imdb_data['title_basics_data']['isAdult'].value_counts())\n",
    "round(imdb_data['title_basics_data']['isAdult'].value_counts(normalize=True), 4)"
   ]
  },
  {
   "cell_type": "markdown",
   "id": "9a61eba1",
   "metadata": {},
   "source": [
    "There are only 4.08% of movies in df 'title_basics_data' classified for only adults."
   ]
  },
  {
   "cell_type": "markdown",
   "id": "4fb964fb",
   "metadata": {},
   "source": [
    "### Columns 'startYear'"
   ]
  },
  {
   "cell_type": "code",
   "execution_count": 14,
   "id": "76bc2850",
   "metadata": {
    "ExecuteTime": {
     "end_time": "2024-03-28T00:37:19.067909Z",
     "start_time": "2024-03-28T00:37:19.062896Z"
    }
   },
   "outputs": [
    {
     "data": {
      "text/plain": [
       "0          1894\n",
       "1          1892\n",
       "2          1892\n",
       "3          1892\n",
       "4          1893\n",
       "           ... \n",
       "1048570    2011\n",
       "1048571    2019\n",
       "1048572    2013\n",
       "1048573    2013\n",
       "1048574    2004\n",
       "Name: startYear, Length: 1048575, dtype: object"
      ]
     },
     "execution_count": 14,
     "metadata": {},
     "output_type": "execute_result"
    }
   ],
   "source": [
    "imdb_data['title_basics_data']['startYear']"
   ]
  },
  {
   "cell_type": "markdown",
   "id": "7553de2f",
   "metadata": {},
   "source": [
    "## 5.2 Dataframe 'title_ratings_data'"
   ]
  },
  {
   "cell_type": "code",
   "execution_count": 15,
   "id": "54aae63f",
   "metadata": {
    "ExecuteTime": {
     "end_time": "2024-03-28T00:37:20.991636Z",
     "start_time": "2024-03-28T00:37:20.985429Z"
    }
   },
   "outputs": [
    {
     "data": {
      "text/html": [
       "<div>\n",
       "<style scoped>\n",
       "    .dataframe tbody tr th:only-of-type {\n",
       "        vertical-align: middle;\n",
       "    }\n",
       "\n",
       "    .dataframe tbody tr th {\n",
       "        vertical-align: top;\n",
       "    }\n",
       "\n",
       "    .dataframe thead th {\n",
       "        text-align: right;\n",
       "    }\n",
       "</style>\n",
       "<table border=\"1\" class=\"dataframe\">\n",
       "  <thead>\n",
       "    <tr style=\"text-align: right;\">\n",
       "      <th></th>\n",
       "      <th>tconst</th>\n",
       "      <th>averageRating</th>\n",
       "      <th>numVotes</th>\n",
       "    </tr>\n",
       "  </thead>\n",
       "  <tbody>\n",
       "    <tr>\n",
       "      <th>0</th>\n",
       "      <td>tt0000001</td>\n",
       "      <td>5.7</td>\n",
       "      <td>2032</td>\n",
       "    </tr>\n",
       "    <tr>\n",
       "      <th>1</th>\n",
       "      <td>tt0000002</td>\n",
       "      <td>5.7</td>\n",
       "      <td>272</td>\n",
       "    </tr>\n",
       "    <tr>\n",
       "      <th>2</th>\n",
       "      <td>tt0000003</td>\n",
       "      <td>6.5</td>\n",
       "      <td>1973</td>\n",
       "    </tr>\n",
       "    <tr>\n",
       "      <th>3</th>\n",
       "      <td>tt0000004</td>\n",
       "      <td>5.4</td>\n",
       "      <td>178</td>\n",
       "    </tr>\n",
       "    <tr>\n",
       "      <th>4</th>\n",
       "      <td>tt0000005</td>\n",
       "      <td>6.2</td>\n",
       "      <td>2731</td>\n",
       "    </tr>\n",
       "  </tbody>\n",
       "</table>\n",
       "</div>"
      ],
      "text/plain": [
       "      tconst  averageRating  numVotes\n",
       "0  tt0000001            5.7      2032\n",
       "1  tt0000002            5.7       272\n",
       "2  tt0000003            6.5      1973\n",
       "3  tt0000004            5.4       178\n",
       "4  tt0000005            6.2      2731"
      ]
     },
     "execution_count": 15,
     "metadata": {},
     "output_type": "execute_result"
    }
   ],
   "source": [
    "imdb_data['title_ratings_data'].head()"
   ]
  },
  {
   "cell_type": "markdown",
   "id": "c1463f9b",
   "metadata": {},
   "source": [
    "### Column 'Average rating'"
   ]
  },
  {
   "cell_type": "code",
   "execution_count": 16,
   "id": "4764ef37",
   "metadata": {
    "ExecuteTime": {
     "end_time": "2024-03-28T00:37:22.291151Z",
     "start_time": "2024-03-28T00:37:22.261225Z"
    }
   },
   "outputs": [
    {
     "data": {
      "text/plain": [
       "count    1,048,575.0\n",
       "mean            6.91\n",
       "std             1.38\n",
       "min              1.0\n",
       "25%              6.2\n",
       "50%              7.1\n",
       "75%              7.8\n",
       "max             10.0\n",
       "Name: averageRating, dtype: object"
      ]
     },
     "execution_count": 16,
     "metadata": {},
     "output_type": "execute_result"
    }
   ],
   "source": [
    "imdb_data['title_ratings_data']['averageRating'].describe().apply(lambda x: format(round(x, 2), ','))"
   ]
  },
  {
   "cell_type": "code",
   "execution_count": 17,
   "id": "df34ca90",
   "metadata": {
    "ExecuteTime": {
     "end_time": "2024-03-28T00:37:23.116615Z",
     "start_time": "2024-03-28T00:37:22.897263Z"
    }
   },
   "outputs": [
    {
     "data": {
      "image/png": "[encoded data removed]",
      "text/plain": [
       "<Figure size 640x480 with 1 Axes>"
      ]
     },
     "metadata": {},
     "output_type": "display_data"
    }
   ],
   "source": [
    "imdb_data['title_ratings_data']['averageRating'].plot(kind='hist', xlabel='Average rating', ylabel='Number of movies',\n",
    "                                                      title=\"Distribution of movies by 'Average rating'\")\n",
    "plt.show()"
   ]
  },
  {
   "cell_type": "markdown",
   "id": "422d7f59",
   "metadata": {},
   "source": [
    "The distribution of the values of 'Average rating' column is left-skewed. And its median is 7.1."
   ]
  },
  {
   "cell_type": "markdown",
   "id": "4fcfd412",
   "metadata": {},
   "source": [
    "### Column 'Number of votes'"
   ]
  },
  {
   "cell_type": "code",
   "execution_count": 18,
   "id": "0cda7a93",
   "metadata": {
    "ExecuteTime": {
     "end_time": "2024-03-28T00:37:25.776222Z",
     "start_time": "2024-03-28T00:37:25.754395Z"
    }
   },
   "outputs": [
    {
     "data": {
      "text/plain": [
       "count    1,048,575\n",
       "mean         1,153\n",
       "std         19,494\n",
       "min              5\n",
       "25%             12\n",
       "50%             28\n",
       "75%            107\n",
       "max      2,865,377\n",
       "Name: numVotes, dtype: object"
      ]
     },
     "execution_count": 18,
     "metadata": {},
     "output_type": "execute_result"
    }
   ],
   "source": [
    "imdb_data['title_ratings_data']['numVotes'].describe().apply(lambda x: format(int(x), ','))"
   ]
  },
  {
   "cell_type": "markdown",
   "id": "17060517",
   "metadata": {},
   "source": [
    "The number of votes for the 4th quantile of movies is within 107 and 2,865,377 votes."
   ]
  },
  {
   "cell_type": "markdown",
   "id": "51a4592b",
   "metadata": {},
   "source": [
    "## 5.3 Dataframe 'name_basics_data'"
   ]
  },
  {
   "cell_type": "markdown",
   "id": "5dafe13c",
   "metadata": {},
   "source": [
    "### Column 'birthYear'"
   ]
  },
  {
   "cell_type": "code",
   "execution_count": 19,
   "id": "5417c71b",
   "metadata": {
    "ExecuteTime": {
     "end_time": "2024-03-28T00:37:29.164961Z",
     "start_time": "2024-03-28T00:37:28.404612Z"
    }
   },
   "outputs": [
    {
     "data": {
      "image/png": "[encoded data removed]",
      "text/plain": [
       "<Figure size 640x480 with 1 Axes>"
      ]
     },
     "metadata": {},
     "output_type": "display_data"
    }
   ],
   "source": [
    "birthyear = pd.to_numeric(imdb_data['name_basics_data']['birthYear'], errors='coerce').dropna()\n",
    "plt.hist(birthyear[birthyear >= 1900])\n",
    "plt.show()"
   ]
  },
  {
   "cell_type": "markdown",
   "id": "8df75620",
   "metadata": {},
   "source": [
    "The most frequent decades of birth of workers stored in the dataframe are:"
   ]
  },
  {
   "cell_type": "code",
   "execution_count": 20,
   "id": "df37b6fa",
   "metadata": {
    "ExecuteTime": {
     "end_time": "2024-03-28T00:37:30.752758Z",
     "start_time": "2024-03-28T00:37:30.736576Z"
    }
   },
   "outputs": [
    {
     "data": {
      "text/plain": [
       "1940.0    33640\n",
       "1960.0    32809\n",
       "1950.0    31380\n",
       "1930.0    29051\n",
       "1920.0    28123\n",
       "Name: birthYear, dtype: int64"
      ]
     },
     "execution_count": 20,
     "metadata": {},
     "output_type": "execute_result"
    }
   ],
   "source": [
    "birthyear_decade = (birthyear[birthyear >= 1900] // 10 * 10)\n",
    "birthyear_decade.value_counts().head()"
   ]
  },
  {
   "cell_type": "markdown",
   "id": "e17ab236",
   "metadata": {},
   "source": [
    "### Column 'primaryProfession'"
   ]
  },
  {
   "cell_type": "markdown",
   "id": "3e1ca763",
   "metadata": {},
   "source": [
    "The most frequent professions are:"
   ]
  },
  {
   "cell_type": "code",
   "execution_count": 21,
   "id": "027c1cbd",
   "metadata": {
    "ExecuteTime": {
     "end_time": "2024-03-28T00:37:35.152525Z",
     "start_time": "2024-03-28T00:37:32.928194Z"
    }
   },
   "outputs": [
    {
     "data": {
      "text/plain": [
       "actor                353678\n",
       "actress              214971\n",
       "miscellaneous        134326\n",
       "writer               122557\n",
       "producer             116475\n",
       "director              87240\n",
       "camera_department     65885\n",
       "art_department        51083\n",
       "soundtrack            44794\n",
       "sound_department      34284\n",
       "dtype: int64"
      ]
     },
     "execution_count": 21,
     "metadata": {},
     "output_type": "execute_result"
    }
   ],
   "source": [
    "proffession = imdb_data['name_basics_data']['primaryProfession'].str.split(',', expand=True).stack().reset_index(\n",
    "    drop=True)\n",
    "proffession.value_counts()[:10]"
   ]
  },
  {
   "cell_type": "markdown",
   "id": "05513126",
   "metadata": {},
   "source": [
    "### Column 'name_basics_data'"
   ]
  },
  {
   "cell_type": "code",
   "execution_count": 22,
   "id": "29fc11fe",
   "metadata": {
    "ExecuteTime": {
     "end_time": "2024-03-28T00:37:35.900929Z",
     "start_time": "2024-03-28T00:37:35.153513Z"
    }
   },
   "outputs": [
    {
     "data": {
      "image/png": "[encoded data removed]",
      "text/plain": [
       "<Figure size 640x480 with 1 Axes>"
      ]
     },
     "metadata": {},
     "output_type": "display_data"
    }
   ],
   "source": [
    "birthyear = pd.to_numeric(imdb_data['name_basics_data']['birthYear'], errors='coerce').dropna()\n",
    "plt.boxplot(birthyear, vert=False)\n",
    "plt.show()"
   ]
  },
  {
   "cell_type": "markdown",
   "id": "a543d562",
   "metadata": {},
   "source": [
    "# 6. Data preparation"
   ]
  },
  {
   "cell_type": "markdown",
   "id": "95fe2695",
   "metadata": {},
   "source": [
    "## 6.1 Create calculated columns"
   ]
  },
  {
   "cell_type": "markdown",
   "id": "fb1e19d1",
   "metadata": {},
   "source": [
    "### Spliting the key for 'title_basics_data'"
   ]
  },
  {
   "cell_type": "code",
   "execution_count": 23,
   "id": "c67ae228",
   "metadata": {
    "ExecuteTime": {
     "end_time": "2024-03-28T00:37:40.524533Z",
     "start_time": "2024-03-28T00:37:38.343996Z"
    }
   },
   "outputs": [
    {
     "data": {
      "text/html": [
       "<div>\n",
       "<style scoped>\n",
       "    .dataframe tbody tr th:only-of-type {\n",
       "        vertical-align: middle;\n",
       "    }\n",
       "\n",
       "    .dataframe tbody tr th {\n",
       "        vertical-align: top;\n",
       "    }\n",
       "\n",
       "    .dataframe thead th {\n",
       "        text-align: right;\n",
       "    }\n",
       "</style>\n",
       "<table border=\"1\" class=\"dataframe\">\n",
       "  <thead>\n",
       "    <tr style=\"text-align: right;\">\n",
       "      <th></th>\n",
       "      <th>genre1</th>\n",
       "      <th>genre2</th>\n",
       "      <th>genre3</th>\n",
       "    </tr>\n",
       "  </thead>\n",
       "  <tbody>\n",
       "    <tr>\n",
       "      <th>0</th>\n",
       "      <td>Documentary</td>\n",
       "      <td>Short</td>\n",
       "      <td>None</td>\n",
       "    </tr>\n",
       "    <tr>\n",
       "      <th>1</th>\n",
       "      <td>Animation</td>\n",
       "      <td>Short</td>\n",
       "      <td>None</td>\n",
       "    </tr>\n",
       "    <tr>\n",
       "      <th>2</th>\n",
       "      <td>Animation</td>\n",
       "      <td>Comedy</td>\n",
       "      <td>Romance</td>\n",
       "    </tr>\n",
       "    <tr>\n",
       "      <th>3</th>\n",
       "      <td>Animation</td>\n",
       "      <td>Short</td>\n",
       "      <td>None</td>\n",
       "    </tr>\n",
       "    <tr>\n",
       "      <th>4</th>\n",
       "      <td>Comedy</td>\n",
       "      <td>Short</td>\n",
       "      <td>None</td>\n",
       "    </tr>\n",
       "    <tr>\n",
       "      <th>...</th>\n",
       "      <td>...</td>\n",
       "      <td>...</td>\n",
       "      <td>...</td>\n",
       "    </tr>\n",
       "    <tr>\n",
       "      <th>1048570</th>\n",
       "      <td>Drama</td>\n",
       "      <td>None</td>\n",
       "      <td>None</td>\n",
       "    </tr>\n",
       "    <tr>\n",
       "      <th>1048571</th>\n",
       "      <td>Short</td>\n",
       "      <td>None</td>\n",
       "      <td>None</td>\n",
       "    </tr>\n",
       "    <tr>\n",
       "      <th>1048572</th>\n",
       "      <td>Comedy</td>\n",
       "      <td>None</td>\n",
       "      <td>None</td>\n",
       "    </tr>\n",
       "    <tr>\n",
       "      <th>1048573</th>\n",
       "      <td>Comedy</td>\n",
       "      <td>None</td>\n",
       "      <td>None</td>\n",
       "    </tr>\n",
       "    <tr>\n",
       "      <th>1048574</th>\n",
       "      <td>Comedy</td>\n",
       "      <td>None</td>\n",
       "      <td>None</td>\n",
       "    </tr>\n",
       "  </tbody>\n",
       "</table>\n",
       "<p>1048575 rows × 3 columns</p>\n",
       "</div>"
      ],
      "text/plain": [
       "              genre1  genre2   genre3\n",
       "0        Documentary   Short     None\n",
       "1          Animation   Short     None\n",
       "2          Animation  Comedy  Romance\n",
       "3          Animation   Short     None\n",
       "4             Comedy   Short     None\n",
       "...              ...     ...      ...\n",
       "1048570        Drama    None     None\n",
       "1048571        Short    None     None\n",
       "1048572       Comedy    None     None\n",
       "1048573       Comedy    None     None\n",
       "1048574       Comedy    None     None\n",
       "\n",
       "[1048575 rows x 3 columns]"
      ]
     },
     "execution_count": 23,
     "metadata": {},
     "output_type": "execute_result"
    }
   ],
   "source": [
    "# df_titles = imdb_data['title_basics_data'].loc[imdb_data['title_basics_data']['titleType'] == 'movie']\n",
    "df_titles = imdb_data['title_basics_data']\n",
    "\n",
    "key_titles = df_titles['genres'].str.split(',', expand=True)\n",
    "\n",
    "new_genre_columns = ['genre1', 'genre2', 'genre3']\n",
    "\n",
    "key_titles.columns = new_genre_columns\n",
    "key_titles"
   ]
  },
  {
   "cell_type": "code",
   "execution_count": 24,
   "id": "85639fbb",
   "metadata": {
    "ExecuteTime": {
     "end_time": "2024-03-28T00:37:42.373548Z",
     "start_time": "2024-03-28T00:37:42.275400Z"
    }
   },
   "outputs": [
    {
     "data": {
      "text/html": [
       "<div>\n",
       "<style scoped>\n",
       "    .dataframe tbody tr th:only-of-type {\n",
       "        vertical-align: middle;\n",
       "    }\n",
       "\n",
       "    .dataframe tbody tr th {\n",
       "        vertical-align: top;\n",
       "    }\n",
       "\n",
       "    .dataframe thead th {\n",
       "        text-align: right;\n",
       "    }\n",
       "</style>\n",
       "<table border=\"1\" class=\"dataframe\">\n",
       "  <thead>\n",
       "    <tr style=\"text-align: right;\">\n",
       "      <th></th>\n",
       "      <th>tconst</th>\n",
       "      <th>titleType</th>\n",
       "      <th>primaryTitle</th>\n",
       "      <th>originalTitle</th>\n",
       "      <th>isAdult</th>\n",
       "      <th>startYear</th>\n",
       "      <th>endYear</th>\n",
       "      <th>genres</th>\n",
       "      <th>genre1</th>\n",
       "      <th>genre2</th>\n",
       "      <th>genre3</th>\n",
       "    </tr>\n",
       "  </thead>\n",
       "  <tbody>\n",
       "    <tr>\n",
       "      <th>0</th>\n",
       "      <td>tt0000001</td>\n",
       "      <td>short</td>\n",
       "      <td>Carmencita</td>\n",
       "      <td>Carmencita</td>\n",
       "      <td>0</td>\n",
       "      <td>1894</td>\n",
       "      <td>\\N</td>\n",
       "      <td>Documentary,Short</td>\n",
       "      <td>Documentary</td>\n",
       "      <td>Short</td>\n",
       "      <td>None</td>\n",
       "    </tr>\n",
       "    <tr>\n",
       "      <th>1</th>\n",
       "      <td>tt0000002</td>\n",
       "      <td>short</td>\n",
       "      <td>Le clown et ses chiens</td>\n",
       "      <td>Le clown et ses chiens</td>\n",
       "      <td>0</td>\n",
       "      <td>1892</td>\n",
       "      <td>\\N</td>\n",
       "      <td>Animation,Short</td>\n",
       "      <td>Animation</td>\n",
       "      <td>Short</td>\n",
       "      <td>None</td>\n",
       "    </tr>\n",
       "    <tr>\n",
       "      <th>2</th>\n",
       "      <td>tt0000003</td>\n",
       "      <td>short</td>\n",
       "      <td>Pauvre Pierrot</td>\n",
       "      <td>Pauvre Pierrot</td>\n",
       "      <td>0</td>\n",
       "      <td>1892</td>\n",
       "      <td>\\N</td>\n",
       "      <td>Animation,Comedy,Romance</td>\n",
       "      <td>Animation</td>\n",
       "      <td>Comedy</td>\n",
       "      <td>Romance</td>\n",
       "    </tr>\n",
       "    <tr>\n",
       "      <th>3</th>\n",
       "      <td>tt0000004</td>\n",
       "      <td>short</td>\n",
       "      <td>Un bon bock</td>\n",
       "      <td>Un bon bock</td>\n",
       "      <td>0</td>\n",
       "      <td>1892</td>\n",
       "      <td>\\N</td>\n",
       "      <td>Animation,Short</td>\n",
       "      <td>Animation</td>\n",
       "      <td>Short</td>\n",
       "      <td>None</td>\n",
       "    </tr>\n",
       "    <tr>\n",
       "      <th>4</th>\n",
       "      <td>tt0000005</td>\n",
       "      <td>short</td>\n",
       "      <td>Blacksmith Scene</td>\n",
       "      <td>Blacksmith Scene</td>\n",
       "      <td>0</td>\n",
       "      <td>1893</td>\n",
       "      <td>\\N</td>\n",
       "      <td>Comedy,Short</td>\n",
       "      <td>Comedy</td>\n",
       "      <td>Short</td>\n",
       "      <td>None</td>\n",
       "    </tr>\n",
       "  </tbody>\n",
       "</table>\n",
       "</div>"
      ],
      "text/plain": [
       "      tconst titleType            primaryTitle           originalTitle  \\\n",
       "0  tt0000001     short              Carmencita              Carmencita   \n",
       "1  tt0000002     short  Le clown et ses chiens  Le clown et ses chiens   \n",
       "2  tt0000003     short          Pauvre Pierrot          Pauvre Pierrot   \n",
       "3  tt0000004     short             Un bon bock             Un bon bock   \n",
       "4  tt0000005     short        Blacksmith Scene        Blacksmith Scene   \n",
       "\n",
       "   isAdult startYear endYear                    genres       genre1  genre2  \\\n",
       "0        0      1894      \\N         Documentary,Short  Documentary   Short   \n",
       "1        0      1892      \\N           Animation,Short    Animation   Short   \n",
       "2        0      1892      \\N  Animation,Comedy,Romance    Animation  Comedy   \n",
       "3        0      1892      \\N           Animation,Short    Animation   Short   \n",
       "4        0      1893      \\N              Comedy,Short       Comedy   Short   \n",
       "\n",
       "    genre3  \n",
       "0     None  \n",
       "1     None  \n",
       "2  Romance  \n",
       "3     None  \n",
       "4     None  "
      ]
     },
     "execution_count": 24,
     "metadata": {},
     "output_type": "execute_result"
    }
   ],
   "source": [
    "df_titles = pd.concat([df_titles, key_titles], axis=1)\n",
    "df_titles.head()"
   ]
  },
  {
   "cell_type": "markdown",
   "id": "b52f80f1",
   "metadata": {},
   "source": [
    "### Calculating decade of the movie"
   ]
  },
  {
   "cell_type": "code",
   "execution_count": 25,
   "id": "906785d2",
   "metadata": {
    "ExecuteTime": {
     "end_time": "2024-03-28T00:37:44.794773Z",
     "start_time": "2024-03-28T00:37:43.692327Z"
    }
   },
   "outputs": [
    {
     "data": {
      "text/html": [
       "<div>\n",
       "<style scoped>\n",
       "    .dataframe tbody tr th:only-of-type {\n",
       "        vertical-align: middle;\n",
       "    }\n",
       "\n",
       "    .dataframe tbody tr th {\n",
       "        vertical-align: top;\n",
       "    }\n",
       "\n",
       "    .dataframe thead th {\n",
       "        text-align: right;\n",
       "    }\n",
       "</style>\n",
       "<table border=\"1\" class=\"dataframe\">\n",
       "  <thead>\n",
       "    <tr style=\"text-align: right;\">\n",
       "      <th></th>\n",
       "      <th>tconst</th>\n",
       "      <th>titleType</th>\n",
       "      <th>primaryTitle</th>\n",
       "      <th>originalTitle</th>\n",
       "      <th>isAdult</th>\n",
       "      <th>startYear</th>\n",
       "      <th>endYear</th>\n",
       "      <th>genres</th>\n",
       "      <th>genre1</th>\n",
       "      <th>genre2</th>\n",
       "      <th>genre3</th>\n",
       "      <th>startDecade</th>\n",
       "    </tr>\n",
       "  </thead>\n",
       "  <tbody>\n",
       "    <tr>\n",
       "      <th>0</th>\n",
       "      <td>tt0000001</td>\n",
       "      <td>short</td>\n",
       "      <td>Carmencita</td>\n",
       "      <td>Carmencita</td>\n",
       "      <td>0</td>\n",
       "      <td>1894</td>\n",
       "      <td>\\N</td>\n",
       "      <td>Documentary,Short</td>\n",
       "      <td>Documentary</td>\n",
       "      <td>Short</td>\n",
       "      <td>None</td>\n",
       "      <td>1894</td>\n",
       "    </tr>\n",
       "    <tr>\n",
       "      <th>1</th>\n",
       "      <td>tt0000002</td>\n",
       "      <td>short</td>\n",
       "      <td>Le clown et ses chiens</td>\n",
       "      <td>Le clown et ses chiens</td>\n",
       "      <td>0</td>\n",
       "      <td>1892</td>\n",
       "      <td>\\N</td>\n",
       "      <td>Animation,Short</td>\n",
       "      <td>Animation</td>\n",
       "      <td>Short</td>\n",
       "      <td>None</td>\n",
       "      <td>1892</td>\n",
       "    </tr>\n",
       "    <tr>\n",
       "      <th>2</th>\n",
       "      <td>tt0000003</td>\n",
       "      <td>short</td>\n",
       "      <td>Pauvre Pierrot</td>\n",
       "      <td>Pauvre Pierrot</td>\n",
       "      <td>0</td>\n",
       "      <td>1892</td>\n",
       "      <td>\\N</td>\n",
       "      <td>Animation,Comedy,Romance</td>\n",
       "      <td>Animation</td>\n",
       "      <td>Comedy</td>\n",
       "      <td>Romance</td>\n",
       "      <td>1892</td>\n",
       "    </tr>\n",
       "    <tr>\n",
       "      <th>3</th>\n",
       "      <td>tt0000004</td>\n",
       "      <td>short</td>\n",
       "      <td>Un bon bock</td>\n",
       "      <td>Un bon bock</td>\n",
       "      <td>0</td>\n",
       "      <td>1892</td>\n",
       "      <td>\\N</td>\n",
       "      <td>Animation,Short</td>\n",
       "      <td>Animation</td>\n",
       "      <td>Short</td>\n",
       "      <td>None</td>\n",
       "      <td>1892</td>\n",
       "    </tr>\n",
       "    <tr>\n",
       "      <th>4</th>\n",
       "      <td>tt0000005</td>\n",
       "      <td>short</td>\n",
       "      <td>Blacksmith Scene</td>\n",
       "      <td>Blacksmith Scene</td>\n",
       "      <td>0</td>\n",
       "      <td>1893</td>\n",
       "      <td>\\N</td>\n",
       "      <td>Comedy,Short</td>\n",
       "      <td>Comedy</td>\n",
       "      <td>Short</td>\n",
       "      <td>None</td>\n",
       "      <td>1893</td>\n",
       "    </tr>\n",
       "  </tbody>\n",
       "</table>\n",
       "</div>"
      ],
      "text/plain": [
       "      tconst titleType            primaryTitle           originalTitle  \\\n",
       "0  tt0000001     short              Carmencita              Carmencita   \n",
       "1  tt0000002     short  Le clown et ses chiens  Le clown et ses chiens   \n",
       "2  tt0000003     short          Pauvre Pierrot          Pauvre Pierrot   \n",
       "3  tt0000004     short             Un bon bock             Un bon bock   \n",
       "4  tt0000005     short        Blacksmith Scene        Blacksmith Scene   \n",
       "\n",
       "   isAdult startYear endYear                    genres       genre1  genre2  \\\n",
       "0        0      1894      \\N         Documentary,Short  Documentary   Short   \n",
       "1        0      1892      \\N           Animation,Short    Animation   Short   \n",
       "2        0      1892      \\N  Animation,Comedy,Romance    Animation  Comedy   \n",
       "3        0      1892      \\N           Animation,Short    Animation   Short   \n",
       "4        0      1893      \\N              Comedy,Short       Comedy   Short   \n",
       "\n",
       "    genre3  startDecade  \n",
       "0     None         1894  \n",
       "1     None         1892  \n",
       "2  Romance         1892  \n",
       "3     None         1892  \n",
       "4     None         1893  "
      ]
     },
     "execution_count": 25,
     "metadata": {},
     "output_type": "execute_result"
    }
   ],
   "source": [
    "decades = pd.to_numeric(df_titles['startYear'], errors='coerce')\n",
    "decades = decades.apply(lambda x: int(x) if pd.notna(x) else 0)\n",
    "df_titles['startDecade'] = decades\n",
    "\n",
    "# df_titles = df_titles[df_titles['startDecade'] >= 1970]\n",
    "\n",
    "df_titles.head()"
   ]
  },
  {
   "cell_type": "markdown",
   "id": "5dd7b41c",
   "metadata": {},
   "source": [
    "### Splitting the key for 'name_basics_data'"
   ]
  },
  {
   "cell_type": "code",
   "execution_count": 26,
   "id": "5cf634bf",
   "metadata": {
    "ExecuteTime": {
     "end_time": "2024-03-28T00:37:48.559578Z",
     "start_time": "2024-03-28T00:37:45.841436Z"
    }
   },
   "outputs": [
    {
     "data": {
      "text/html": [
       "<div>\n",
       "<style scoped>\n",
       "    .dataframe tbody tr th:only-of-type {\n",
       "        vertical-align: middle;\n",
       "    }\n",
       "\n",
       "    .dataframe tbody tr th {\n",
       "        vertical-align: top;\n",
       "    }\n",
       "\n",
       "    .dataframe thead th {\n",
       "        text-align: right;\n",
       "    }\n",
       "</style>\n",
       "<table border=\"1\" class=\"dataframe\">\n",
       "  <thead>\n",
       "    <tr style=\"text-align: right;\">\n",
       "      <th></th>\n",
       "      <th>title1</th>\n",
       "      <th>title2</th>\n",
       "      <th>title3</th>\n",
       "      <th>title4</th>\n",
       "      <th>title5</th>\n",
       "      <th>title6</th>\n",
       "      <th>title7</th>\n",
       "    </tr>\n",
       "  </thead>\n",
       "  <tbody>\n",
       "    <tr>\n",
       "      <th>0</th>\n",
       "      <td>tt0027125</td>\n",
       "      <td>tt0050419</td>\n",
       "      <td>tt0053137</td>\n",
       "      <td>tt0072308</td>\n",
       "      <td>None</td>\n",
       "      <td>None</td>\n",
       "      <td>None</td>\n",
       "    </tr>\n",
       "    <tr>\n",
       "      <th>1</th>\n",
       "      <td>tt0038355</td>\n",
       "      <td>tt0037382</td>\n",
       "      <td>tt0075213</td>\n",
       "      <td>tt0117057</td>\n",
       "      <td>None</td>\n",
       "      <td>None</td>\n",
       "      <td>None</td>\n",
       "    </tr>\n",
       "    <tr>\n",
       "      <th>2</th>\n",
       "      <td>tt0049189</td>\n",
       "      <td>tt0054452</td>\n",
       "      <td>tt0056404</td>\n",
       "      <td>tt0057345</td>\n",
       "      <td>None</td>\n",
       "      <td>None</td>\n",
       "      <td>None</td>\n",
       "    </tr>\n",
       "    <tr>\n",
       "      <th>3</th>\n",
       "      <td>tt0078723</td>\n",
       "      <td>tt0080455</td>\n",
       "      <td>tt0072562</td>\n",
       "      <td>tt0077975</td>\n",
       "      <td>None</td>\n",
       "      <td>None</td>\n",
       "      <td>None</td>\n",
       "    </tr>\n",
       "    <tr>\n",
       "      <th>4</th>\n",
       "      <td>tt0083922</td>\n",
       "      <td>tt0069467</td>\n",
       "      <td>tt0050976</td>\n",
       "      <td>tt0050986</td>\n",
       "      <td>None</td>\n",
       "      <td>None</td>\n",
       "      <td>None</td>\n",
       "    </tr>\n",
       "    <tr>\n",
       "      <th>...</th>\n",
       "      <td>...</td>\n",
       "      <td>...</td>\n",
       "      <td>...</td>\n",
       "      <td>...</td>\n",
       "      <td>...</td>\n",
       "      <td>...</td>\n",
       "      <td>...</td>\n",
       "    </tr>\n",
       "    <tr>\n",
       "      <th>1048570</th>\n",
       "      <td>tt9028956</td>\n",
       "      <td>None</td>\n",
       "      <td>None</td>\n",
       "      <td>None</td>\n",
       "      <td>None</td>\n",
       "      <td>None</td>\n",
       "      <td>None</td>\n",
       "    </tr>\n",
       "    <tr>\n",
       "      <th>1048571</th>\n",
       "      <td>tt9013146</td>\n",
       "      <td>tt9490002</td>\n",
       "      <td>None</td>\n",
       "      <td>None</td>\n",
       "      <td>None</td>\n",
       "      <td>None</td>\n",
       "      <td>None</td>\n",
       "    </tr>\n",
       "    <tr>\n",
       "      <th>1048572</th>\n",
       "      <td>tt4368588</td>\n",
       "      <td>None</td>\n",
       "      <td>None</td>\n",
       "      <td>None</td>\n",
       "      <td>None</td>\n",
       "      <td>None</td>\n",
       "      <td>None</td>\n",
       "    </tr>\n",
       "    <tr>\n",
       "      <th>1048573</th>\n",
       "      <td>\\N</td>\n",
       "      <td>None</td>\n",
       "      <td>None</td>\n",
       "      <td>None</td>\n",
       "      <td>None</td>\n",
       "      <td>None</td>\n",
       "      <td>None</td>\n",
       "    </tr>\n",
       "    <tr>\n",
       "      <th>1048574</th>\n",
       "      <td>\\N</td>\n",
       "      <td>None</td>\n",
       "      <td>None</td>\n",
       "      <td>None</td>\n",
       "      <td>None</td>\n",
       "      <td>None</td>\n",
       "      <td>None</td>\n",
       "    </tr>\n",
       "  </tbody>\n",
       "</table>\n",
       "<p>1048575 rows × 7 columns</p>\n",
       "</div>"
      ],
      "text/plain": [
       "            title1     title2     title3     title4 title5 title6 title7\n",
       "0        tt0027125  tt0050419  tt0053137  tt0072308   None   None   None\n",
       "1        tt0038355  tt0037382  tt0075213  tt0117057   None   None   None\n",
       "2        tt0049189  tt0054452  tt0056404  tt0057345   None   None   None\n",
       "3        tt0078723  tt0080455  tt0072562  tt0077975   None   None   None\n",
       "4        tt0083922  tt0069467  tt0050976  tt0050986   None   None   None\n",
       "...            ...        ...        ...        ...    ...    ...    ...\n",
       "1048570  tt9028956       None       None       None   None   None   None\n",
       "1048571  tt9013146  tt9490002       None       None   None   None   None\n",
       "1048572  tt4368588       None       None       None   None   None   None\n",
       "1048573         \\N       None       None       None   None   None   None\n",
       "1048574         \\N       None       None       None   None   None   None\n",
       "\n",
       "[1048575 rows x 7 columns]"
      ]
     },
     "execution_count": 26,
     "metadata": {},
     "output_type": "execute_result"
    }
   ],
   "source": [
    "df_names = imdb_data['name_basics_data']\n",
    "# df_names = df_names.loc[\n",
    "#     (df_names['primaryProfession'].str.contains(\"actor\")) | df_names['primaryProfession'].str.contains(\"actress\")]\n",
    "\n",
    "key_names = df_names['knownForTitles'].str.split(',', expand=True)\n",
    "\n",
    "new_title_columns = ['title1', 'title2', 'title3', 'title4', 'title5', 'title6', 'title7']\n",
    "\n",
    "key_names.columns = new_title_columns\n",
    "key_names"
   ]
  },
  {
   "cell_type": "code",
   "execution_count": 27,
   "id": "fb67a6dc",
   "metadata": {
    "ExecuteTime": {
     "end_time": "2024-03-28T00:37:48.699146Z",
     "start_time": "2024-03-28T00:37:48.561083Z"
    }
   },
   "outputs": [
    {
     "data": {
      "text/html": [
       "<div>\n",
       "<style scoped>\n",
       "    .dataframe tbody tr th:only-of-type {\n",
       "        vertical-align: middle;\n",
       "    }\n",
       "\n",
       "    .dataframe tbody tr th {\n",
       "        vertical-align: top;\n",
       "    }\n",
       "\n",
       "    .dataframe thead th {\n",
       "        text-align: right;\n",
       "    }\n",
       "</style>\n",
       "<table border=\"1\" class=\"dataframe\">\n",
       "  <thead>\n",
       "    <tr style=\"text-align: right;\">\n",
       "      <th></th>\n",
       "      <th>nconst</th>\n",
       "      <th>primaryName</th>\n",
       "      <th>birthYear</th>\n",
       "      <th>deathYear</th>\n",
       "      <th>primaryProfession</th>\n",
       "      <th>knownForTitles</th>\n",
       "      <th>title1</th>\n",
       "      <th>title2</th>\n",
       "      <th>title3</th>\n",
       "      <th>title4</th>\n",
       "      <th>title5</th>\n",
       "      <th>title6</th>\n",
       "      <th>title7</th>\n",
       "    </tr>\n",
       "  </thead>\n",
       "  <tbody>\n",
       "    <tr>\n",
       "      <th>0</th>\n",
       "      <td>nm0000001</td>\n",
       "      <td>Fred Astaire</td>\n",
       "      <td>1899</td>\n",
       "      <td>1987</td>\n",
       "      <td>soundtrack,actor,miscellaneous</td>\n",
       "      <td>tt0027125,tt0050419,tt0053137,tt0072308</td>\n",
       "      <td>tt0027125</td>\n",
       "      <td>tt0050419</td>\n",
       "      <td>tt0053137</td>\n",
       "      <td>tt0072308</td>\n",
       "      <td>None</td>\n",
       "      <td>None</td>\n",
       "      <td>None</td>\n",
       "    </tr>\n",
       "    <tr>\n",
       "      <th>1</th>\n",
       "      <td>nm0000002</td>\n",
       "      <td>Lauren Bacall</td>\n",
       "      <td>1924</td>\n",
       "      <td>2014</td>\n",
       "      <td>actress,soundtrack</td>\n",
       "      <td>tt0038355,tt0037382,tt0075213,tt0117057</td>\n",
       "      <td>tt0038355</td>\n",
       "      <td>tt0037382</td>\n",
       "      <td>tt0075213</td>\n",
       "      <td>tt0117057</td>\n",
       "      <td>None</td>\n",
       "      <td>None</td>\n",
       "      <td>None</td>\n",
       "    </tr>\n",
       "    <tr>\n",
       "      <th>2</th>\n",
       "      <td>nm0000003</td>\n",
       "      <td>Brigitte Bardot</td>\n",
       "      <td>1934</td>\n",
       "      <td>\\N</td>\n",
       "      <td>actress,soundtrack,music_department</td>\n",
       "      <td>tt0049189,tt0054452,tt0056404,tt0057345</td>\n",
       "      <td>tt0049189</td>\n",
       "      <td>tt0054452</td>\n",
       "      <td>tt0056404</td>\n",
       "      <td>tt0057345</td>\n",
       "      <td>None</td>\n",
       "      <td>None</td>\n",
       "      <td>None</td>\n",
       "    </tr>\n",
       "    <tr>\n",
       "      <th>3</th>\n",
       "      <td>nm0000004</td>\n",
       "      <td>John Belushi</td>\n",
       "      <td>1949</td>\n",
       "      <td>1982</td>\n",
       "      <td>actor,soundtrack,writer</td>\n",
       "      <td>tt0078723,tt0080455,tt0072562,tt0077975</td>\n",
       "      <td>tt0078723</td>\n",
       "      <td>tt0080455</td>\n",
       "      <td>tt0072562</td>\n",
       "      <td>tt0077975</td>\n",
       "      <td>None</td>\n",
       "      <td>None</td>\n",
       "      <td>None</td>\n",
       "    </tr>\n",
       "    <tr>\n",
       "      <th>4</th>\n",
       "      <td>nm0000005</td>\n",
       "      <td>Ingmar Bergman</td>\n",
       "      <td>1918</td>\n",
       "      <td>2007</td>\n",
       "      <td>writer,director,actor</td>\n",
       "      <td>tt0083922,tt0069467,tt0050976,tt0050986</td>\n",
       "      <td>tt0083922</td>\n",
       "      <td>tt0069467</td>\n",
       "      <td>tt0050976</td>\n",
       "      <td>tt0050986</td>\n",
       "      <td>None</td>\n",
       "      <td>None</td>\n",
       "      <td>None</td>\n",
       "    </tr>\n",
       "  </tbody>\n",
       "</table>\n",
       "</div>"
      ],
      "text/plain": [
       "      nconst      primaryName birthYear deathYear  \\\n",
       "0  nm0000001     Fred Astaire      1899      1987   \n",
       "1  nm0000002    Lauren Bacall      1924      2014   \n",
       "2  nm0000003  Brigitte Bardot      1934        \\N   \n",
       "3  nm0000004     John Belushi      1949      1982   \n",
       "4  nm0000005   Ingmar Bergman      1918      2007   \n",
       "\n",
       "                     primaryProfession  \\\n",
       "0       soundtrack,actor,miscellaneous   \n",
       "1                   actress,soundtrack   \n",
       "2  actress,soundtrack,music_department   \n",
       "3              actor,soundtrack,writer   \n",
       "4                writer,director,actor   \n",
       "\n",
       "                            knownForTitles     title1     title2     title3  \\\n",
       "0  tt0027125,tt0050419,tt0053137,tt0072308  tt0027125  tt0050419  tt0053137   \n",
       "1  tt0038355,tt0037382,tt0075213,tt0117057  tt0038355  tt0037382  tt0075213   \n",
       "2  tt0049189,tt0054452,tt0056404,tt0057345  tt0049189  tt0054452  tt0056404   \n",
       "3  tt0078723,tt0080455,tt0072562,tt0077975  tt0078723  tt0080455  tt0072562   \n",
       "4  tt0083922,tt0069467,tt0050976,tt0050986  tt0083922  tt0069467  tt0050976   \n",
       "\n",
       "      title4 title5 title6 title7  \n",
       "0  tt0072308   None   None   None  \n",
       "1  tt0117057   None   None   None  \n",
       "2  tt0057345   None   None   None  \n",
       "3  tt0077975   None   None   None  \n",
       "4  tt0050986   None   None   None  "
      ]
     },
     "execution_count": 27,
     "metadata": {},
     "output_type": "execute_result"
    }
   ],
   "source": [
    "df_names = pd.concat([df_names, key_names], axis=1)\n",
    "df_names.head()"
   ]
  },
  {
   "cell_type": "code",
   "execution_count": 28,
   "id": "9d21fea614888774",
   "metadata": {
    "ExecuteTime": {
     "end_time": "2024-03-28T00:37:52.705946Z",
     "start_time": "2024-03-28T00:37:52.699423Z"
    }
   },
   "outputs": [
    {
     "data": {
      "text/html": [
       "<div>\n",
       "<style scoped>\n",
       "    .dataframe tbody tr th:only-of-type {\n",
       "        vertical-align: middle;\n",
       "    }\n",
       "\n",
       "    .dataframe tbody tr th {\n",
       "        vertical-align: top;\n",
       "    }\n",
       "\n",
       "    .dataframe thead th {\n",
       "        text-align: right;\n",
       "    }\n",
       "</style>\n",
       "<table border=\"1\" class=\"dataframe\">\n",
       "  <thead>\n",
       "    <tr style=\"text-align: right;\">\n",
       "      <th></th>\n",
       "      <th>tconst</th>\n",
       "      <th>averageRating</th>\n",
       "      <th>numVotes</th>\n",
       "    </tr>\n",
       "  </thead>\n",
       "  <tbody>\n",
       "    <tr>\n",
       "      <th>0</th>\n",
       "      <td>tt0000001</td>\n",
       "      <td>5.7</td>\n",
       "      <td>2032</td>\n",
       "    </tr>\n",
       "    <tr>\n",
       "      <th>1</th>\n",
       "      <td>tt0000002</td>\n",
       "      <td>5.7</td>\n",
       "      <td>272</td>\n",
       "    </tr>\n",
       "    <tr>\n",
       "      <th>2</th>\n",
       "      <td>tt0000003</td>\n",
       "      <td>6.5</td>\n",
       "      <td>1973</td>\n",
       "    </tr>\n",
       "    <tr>\n",
       "      <th>3</th>\n",
       "      <td>tt0000004</td>\n",
       "      <td>5.4</td>\n",
       "      <td>178</td>\n",
       "    </tr>\n",
       "    <tr>\n",
       "      <th>4</th>\n",
       "      <td>tt0000005</td>\n",
       "      <td>6.2</td>\n",
       "      <td>2731</td>\n",
       "    </tr>\n",
       "  </tbody>\n",
       "</table>\n",
       "</div>"
      ],
      "text/plain": [
       "      tconst  averageRating  numVotes\n",
       "0  tt0000001            5.7      2032\n",
       "1  tt0000002            5.7       272\n",
       "2  tt0000003            6.5      1973\n",
       "3  tt0000004            5.4       178\n",
       "4  tt0000005            6.2      2731"
      ]
     },
     "execution_count": 28,
     "metadata": {},
     "output_type": "execute_result"
    }
   ],
   "source": [
    "df_ratings = imdb_data['title_ratings_data']\n",
    "df_ratings.head()"
   ]
  },
  {
   "cell_type": "markdown",
   "id": "9773b8ad",
   "metadata": {},
   "source": [
    "# 7. Combine the datasets"
   ]
  },
  {
   "cell_type": "markdown",
   "id": "4138b612a5d560b6",
   "metadata": {},
   "source": [
    "Finally, we are now in a position to combine all of these datasets. Before starting the merge, let’s quickly visualize the number of  rows in each of the cleaned datasets. This will help us decide which of the four merge strategies (left, right, inner, or outer) we should be using."
   ]
  },
  {
   "cell_type": "code",
   "execution_count": 29,
   "id": "5834a21b22774af4",
   "metadata": {
    "ExecuteTime": {
     "end_time": "2024-03-28T00:37:56.544837Z",
     "start_time": "2024-03-28T00:37:56.540825Z"
    }
   },
   "outputs": [
    {
     "name": "stdout",
     "output_type": "stream",
     "text": [
      "{'df_titles': 1.048575, 'df_ratings': 1.048575, 'df_names': 1.048575}\n"
     ]
    }
   ],
   "source": [
    "row_counts = {\n",
    "    'df_titles': df_titles.shape[0] / 1000000,\n",
    "    'df_ratings': df_ratings.shape[0] / 1000000,\n",
    "    'df_names': df_names.shape[0] / 1000000\n",
    "}\n",
    "\n",
    "print(row_counts)"
   ]
  },
  {
   "cell_type": "code",
   "execution_count": 30,
   "id": "96bf3b0a2a0029cd",
   "metadata": {
    "ExecuteTime": {
     "end_time": "2024-03-28T00:37:57.866392Z",
     "start_time": "2024-03-28T00:37:57.756507Z"
    }
   },
   "outputs": [
    {
     "data": {
      "text/plain": [
       "<Figure size 640x480 with 0 Axes>"
      ]
     },
     "metadata": {},
     "output_type": "display_data"
    },
    {
     "data": {
      "image/png": "[encoded data removed]",
      "text/plain": [
       "<Figure size 640x480 with 1 Axes>"
      ]
     },
     "metadata": {},
     "output_type": "display_data"
    }
   ],
   "source": [
    "plt.figure()\n",
    "\n",
    "row_num_df = pd.DataFrame(row_counts, index=[0])\n",
    "row_num_df.plot.bar()\n",
    "\n",
    "plt.xlabel('Datasets')\n",
    "plt.ylabel('Number of Rows (in millions)')\n",
    "plt.show()"
   ]
  },
  {
   "cell_type": "markdown",
   "id": "acc1b7a40ebe2e00",
   "metadata": {},
   "source": [
    "We will first merge \"df_titles\" with the dataframes \"df_ratings\" and then \"df_names\". We can see that all the dataframes to be merged have equal amount of row values than \"df_titles\", but we only care about the data in the \"df_titles\". So we'll use a left join."
   ]
  },
  {
   "cell_type": "code",
   "execution_count": 31,
   "id": "b9211ab826efb751",
   "metadata": {
    "ExecuteTime": {
     "end_time": "2024-03-28T00:38:00.454411Z",
     "start_time": "2024-03-28T00:37:59.289754Z"
    }
   },
   "outputs": [
    {
     "data": {
      "text/html": [
       "<div>\n",
       "<style scoped>\n",
       "    .dataframe tbody tr th:only-of-type {\n",
       "        vertical-align: middle;\n",
       "    }\n",
       "\n",
       "    .dataframe tbody tr th {\n",
       "        vertical-align: top;\n",
       "    }\n",
       "\n",
       "    .dataframe thead th {\n",
       "        text-align: right;\n",
       "    }\n",
       "</style>\n",
       "<table border=\"1\" class=\"dataframe\">\n",
       "  <thead>\n",
       "    <tr style=\"text-align: right;\">\n",
       "      <th></th>\n",
       "      <th>tconst</th>\n",
       "      <th>titleType</th>\n",
       "      <th>primaryTitle</th>\n",
       "      <th>originalTitle</th>\n",
       "      <th>isAdult</th>\n",
       "      <th>startYear</th>\n",
       "      <th>endYear</th>\n",
       "      <th>genres</th>\n",
       "      <th>genre1</th>\n",
       "      <th>genre2</th>\n",
       "      <th>genre3</th>\n",
       "      <th>startDecade</th>\n",
       "      <th>averageRating</th>\n",
       "      <th>numVotes</th>\n",
       "    </tr>\n",
       "  </thead>\n",
       "  <tbody>\n",
       "    <tr>\n",
       "      <th>0</th>\n",
       "      <td>tt0000001</td>\n",
       "      <td>short</td>\n",
       "      <td>Carmencita</td>\n",
       "      <td>Carmencita</td>\n",
       "      <td>0</td>\n",
       "      <td>1894</td>\n",
       "      <td>\\N</td>\n",
       "      <td>Documentary,Short</td>\n",
       "      <td>Documentary</td>\n",
       "      <td>Short</td>\n",
       "      <td>None</td>\n",
       "      <td>1894</td>\n",
       "      <td>5.7</td>\n",
       "      <td>2032</td>\n",
       "    </tr>\n",
       "    <tr>\n",
       "      <th>1</th>\n",
       "      <td>tt0000002</td>\n",
       "      <td>short</td>\n",
       "      <td>Le clown et ses chiens</td>\n",
       "      <td>Le clown et ses chiens</td>\n",
       "      <td>0</td>\n",
       "      <td>1892</td>\n",
       "      <td>\\N</td>\n",
       "      <td>Animation,Short</td>\n",
       "      <td>Animation</td>\n",
       "      <td>Short</td>\n",
       "      <td>None</td>\n",
       "      <td>1892</td>\n",
       "      <td>5.7</td>\n",
       "      <td>272</td>\n",
       "    </tr>\n",
       "    <tr>\n",
       "      <th>2</th>\n",
       "      <td>tt0000003</td>\n",
       "      <td>short</td>\n",
       "      <td>Pauvre Pierrot</td>\n",
       "      <td>Pauvre Pierrot</td>\n",
       "      <td>0</td>\n",
       "      <td>1892</td>\n",
       "      <td>\\N</td>\n",
       "      <td>Animation,Comedy,Romance</td>\n",
       "      <td>Animation</td>\n",
       "      <td>Comedy</td>\n",
       "      <td>Romance</td>\n",
       "      <td>1892</td>\n",
       "      <td>6.5</td>\n",
       "      <td>1973</td>\n",
       "    </tr>\n",
       "    <tr>\n",
       "      <th>3</th>\n",
       "      <td>tt0000004</td>\n",
       "      <td>short</td>\n",
       "      <td>Un bon bock</td>\n",
       "      <td>Un bon bock</td>\n",
       "      <td>0</td>\n",
       "      <td>1892</td>\n",
       "      <td>\\N</td>\n",
       "      <td>Animation,Short</td>\n",
       "      <td>Animation</td>\n",
       "      <td>Short</td>\n",
       "      <td>None</td>\n",
       "      <td>1892</td>\n",
       "      <td>5.4</td>\n",
       "      <td>178</td>\n",
       "    </tr>\n",
       "    <tr>\n",
       "      <th>4</th>\n",
       "      <td>tt0000005</td>\n",
       "      <td>short</td>\n",
       "      <td>Blacksmith Scene</td>\n",
       "      <td>Blacksmith Scene</td>\n",
       "      <td>0</td>\n",
       "      <td>1893</td>\n",
       "      <td>\\N</td>\n",
       "      <td>Comedy,Short</td>\n",
       "      <td>Comedy</td>\n",
       "      <td>Short</td>\n",
       "      <td>None</td>\n",
       "      <td>1893</td>\n",
       "      <td>6.2</td>\n",
       "      <td>2731</td>\n",
       "    </tr>\n",
       "  </tbody>\n",
       "</table>\n",
       "</div>"
      ],
      "text/plain": [
       "      tconst titleType            primaryTitle           originalTitle  \\\n",
       "0  tt0000001     short              Carmencita              Carmencita   \n",
       "1  tt0000002     short  Le clown et ses chiens  Le clown et ses chiens   \n",
       "2  tt0000003     short          Pauvre Pierrot          Pauvre Pierrot   \n",
       "3  tt0000004     short             Un bon bock             Un bon bock   \n",
       "4  tt0000005     short        Blacksmith Scene        Blacksmith Scene   \n",
       "\n",
       "   isAdult startYear endYear                    genres       genre1  genre2  \\\n",
       "0        0      1894      \\N         Documentary,Short  Documentary   Short   \n",
       "1        0      1892      \\N           Animation,Short    Animation   Short   \n",
       "2        0      1892      \\N  Animation,Comedy,Romance    Animation  Comedy   \n",
       "3        0      1892      \\N           Animation,Short    Animation   Short   \n",
       "4        0      1893      \\N              Comedy,Short       Comedy   Short   \n",
       "\n",
       "    genre3  startDecade  averageRating  numVotes  \n",
       "0     None         1894            5.7      2032  \n",
       "1     None         1892            5.7       272  \n",
       "2  Romance         1892            6.5      1973  \n",
       "3     None         1892            5.4       178  \n",
       "4     None         1893            6.2      2731  "
      ]
     },
     "execution_count": 31,
     "metadata": {},
     "output_type": "execute_result"
    }
   ],
   "source": [
    "merged_df = df_titles.merge(df_ratings, on=\"tconst\")\n",
    "merged_df.head()"
   ]
  },
  {
   "cell_type": "code",
   "execution_count": 32,
   "id": "8deae76cf1483006",
   "metadata": {
    "ExecuteTime": {
     "end_time": "2024-03-28T00:38:11.690606Z",
     "start_time": "2024-03-28T00:38:01.133117Z"
    }
   },
   "outputs": [
    {
     "data": {
      "text/html": [
       "<div>\n",
       "<style scoped>\n",
       "    .dataframe tbody tr th:only-of-type {\n",
       "        vertical-align: middle;\n",
       "    }\n",
       "\n",
       "    .dataframe tbody tr th {\n",
       "        vertical-align: top;\n",
       "    }\n",
       "\n",
       "    .dataframe thead th {\n",
       "        text-align: right;\n",
       "    }\n",
       "</style>\n",
       "<table border=\"1\" class=\"dataframe\">\n",
       "  <thead>\n",
       "    <tr style=\"text-align: right;\">\n",
       "      <th></th>\n",
       "      <th>tconst</th>\n",
       "      <th>titleType</th>\n",
       "      <th>primaryTitle</th>\n",
       "      <th>originalTitle</th>\n",
       "      <th>isAdult</th>\n",
       "      <th>startYear</th>\n",
       "      <th>endYear</th>\n",
       "      <th>genres</th>\n",
       "      <th>genre1</th>\n",
       "      <th>genre2</th>\n",
       "      <th>...</th>\n",
       "      <th>deathYear</th>\n",
       "      <th>primaryProfession</th>\n",
       "      <th>knownForTitles</th>\n",
       "      <th>title1</th>\n",
       "      <th>title2</th>\n",
       "      <th>title3</th>\n",
       "      <th>title4</th>\n",
       "      <th>title5</th>\n",
       "      <th>title6</th>\n",
       "      <th>title7</th>\n",
       "    </tr>\n",
       "  </thead>\n",
       "  <tbody>\n",
       "    <tr>\n",
       "      <th>0</th>\n",
       "      <td>tt0000003</td>\n",
       "      <td>short</td>\n",
       "      <td>Pauvre Pierrot</td>\n",
       "      <td>Pauvre Pierrot</td>\n",
       "      <td>0</td>\n",
       "      <td>1892</td>\n",
       "      <td>\\N</td>\n",
       "      <td>Animation,Comedy,Romance</td>\n",
       "      <td>Animation</td>\n",
       "      <td>Comedy</td>\n",
       "      <td>...</td>\n",
       "      <td>1918</td>\n",
       "      <td>director,animation_department,producer</td>\n",
       "      <td>tt0000003,tt16763674,tt16763740,tt13125956</td>\n",
       "      <td>tt0000003</td>\n",
       "      <td>tt16763674</td>\n",
       "      <td>tt16763740</td>\n",
       "      <td>tt13125956</td>\n",
       "      <td>None</td>\n",
       "      <td>None</td>\n",
       "      <td>None</td>\n",
       "    </tr>\n",
       "    <tr>\n",
       "      <th>1</th>\n",
       "      <td>tt0000007</td>\n",
       "      <td>short</td>\n",
       "      <td>Corbett and Courtney Before the Kinetograph</td>\n",
       "      <td>Corbett and Courtney Before the Kinetograph</td>\n",
       "      <td>0</td>\n",
       "      <td>1894</td>\n",
       "      <td>\\N</td>\n",
       "      <td>Short,Sport</td>\n",
       "      <td>Short</td>\n",
       "      <td>Sport</td>\n",
       "      <td>...</td>\n",
       "      <td>1896</td>\n",
       "      <td>actor</td>\n",
       "      <td>tt0000007</td>\n",
       "      <td>tt0000007</td>\n",
       "      <td>None</td>\n",
       "      <td>None</td>\n",
       "      <td>None</td>\n",
       "      <td>None</td>\n",
       "      <td>None</td>\n",
       "      <td>None</td>\n",
       "    </tr>\n",
       "    <tr>\n",
       "      <th>2</th>\n",
       "      <td>tt0000008</td>\n",
       "      <td>short</td>\n",
       "      <td>Edison Kinetoscopic Record of a Sneeze</td>\n",
       "      <td>Edison Kinetoscopic Record of a Sneeze</td>\n",
       "      <td>0</td>\n",
       "      <td>1894</td>\n",
       "      <td>\\N</td>\n",
       "      <td>Documentary,Short</td>\n",
       "      <td>Documentary</td>\n",
       "      <td>Short</td>\n",
       "      <td>...</td>\n",
       "      <td>1936</td>\n",
       "      <td>assistant_director</td>\n",
       "      <td>tt0285265,tt0000008,tt0240514</td>\n",
       "      <td>tt0285265</td>\n",
       "      <td>tt0000008</td>\n",
       "      <td>tt0240514</td>\n",
       "      <td>None</td>\n",
       "      <td>None</td>\n",
       "      <td>None</td>\n",
       "      <td>None</td>\n",
       "    </tr>\n",
       "    <tr>\n",
       "      <th>3</th>\n",
       "      <td>tt0000009</td>\n",
       "      <td>movie</td>\n",
       "      <td>Miss Jerry</td>\n",
       "      <td>Miss Jerry</td>\n",
       "      <td>0</td>\n",
       "      <td>1894</td>\n",
       "      <td>\\N</td>\n",
       "      <td>Romance</td>\n",
       "      <td>Romance</td>\n",
       "      <td>None</td>\n",
       "      <td>...</td>\n",
       "      <td>1951</td>\n",
       "      <td>actress</td>\n",
       "      <td>tt0000009</td>\n",
       "      <td>tt0000009</td>\n",
       "      <td>None</td>\n",
       "      <td>None</td>\n",
       "      <td>None</td>\n",
       "      <td>None</td>\n",
       "      <td>None</td>\n",
       "      <td>None</td>\n",
       "    </tr>\n",
       "    <tr>\n",
       "      <th>4</th>\n",
       "      <td>tt0000009</td>\n",
       "      <td>movie</td>\n",
       "      <td>Miss Jerry</td>\n",
       "      <td>Miss Jerry</td>\n",
       "      <td>0</td>\n",
       "      <td>1894</td>\n",
       "      <td>\\N</td>\n",
       "      <td>Romance</td>\n",
       "      <td>Romance</td>\n",
       "      <td>None</td>\n",
       "      <td>...</td>\n",
       "      <td>1940</td>\n",
       "      <td>director,writer,cinematographer</td>\n",
       "      <td>tt0000009</td>\n",
       "      <td>tt0000009</td>\n",
       "      <td>None</td>\n",
       "      <td>None</td>\n",
       "      <td>None</td>\n",
       "      <td>None</td>\n",
       "      <td>None</td>\n",
       "      <td>None</td>\n",
       "    </tr>\n",
       "    <tr>\n",
       "      <th>...</th>\n",
       "      <td>...</td>\n",
       "      <td>...</td>\n",
       "      <td>...</td>\n",
       "      <td>...</td>\n",
       "      <td>...</td>\n",
       "      <td>...</td>\n",
       "      <td>...</td>\n",
       "      <td>...</td>\n",
       "      <td>...</td>\n",
       "      <td>...</td>\n",
       "      <td>...</td>\n",
       "      <td>...</td>\n",
       "      <td>...</td>\n",
       "      <td>...</td>\n",
       "      <td>...</td>\n",
       "      <td>...</td>\n",
       "      <td>...</td>\n",
       "      <td>...</td>\n",
       "      <td>...</td>\n",
       "      <td>...</td>\n",
       "      <td>...</td>\n",
       "    </tr>\n",
       "    <tr>\n",
       "      <th>1904917</th>\n",
       "      <td>tt10145122</td>\n",
       "      <td>movie</td>\n",
       "      <td>The Perfect Secret</td>\n",
       "      <td>Das perfekte Geheimnis</td>\n",
       "      <td>0</td>\n",
       "      <td>2019</td>\n",
       "      <td>\\N</td>\n",
       "      <td>Comedy,Drama,Romance</td>\n",
       "      <td>Comedy</td>\n",
       "      <td>Drama</td>\n",
       "      <td>...</td>\n",
       "      <td>\\N</td>\n",
       "      <td>art_department,miscellaneous</td>\n",
       "      <td>tt10145122,tt0388858,tt0806910,tt5698320</td>\n",
       "      <td>tt10145122</td>\n",
       "      <td>tt0388858</td>\n",
       "      <td>tt0806910</td>\n",
       "      <td>tt5698320</td>\n",
       "      <td>None</td>\n",
       "      <td>None</td>\n",
       "      <td>None</td>\n",
       "    </tr>\n",
       "    <tr>\n",
       "      <th>1904918</th>\n",
       "      <td>tt10145122</td>\n",
       "      <td>movie</td>\n",
       "      <td>The Perfect Secret</td>\n",
       "      <td>Das perfekte Geheimnis</td>\n",
       "      <td>0</td>\n",
       "      <td>2019</td>\n",
       "      <td>\\N</td>\n",
       "      <td>Comedy,Drama,Romance</td>\n",
       "      <td>Comedy</td>\n",
       "      <td>Drama</td>\n",
       "      <td>...</td>\n",
       "      <td>\\N</td>\n",
       "      <td>camera_department</td>\n",
       "      <td>tt0114019,tt10145122,tt0117788,tt0139429</td>\n",
       "      <td>tt0114019</td>\n",
       "      <td>tt10145122</td>\n",
       "      <td>tt0117788</td>\n",
       "      <td>tt0139429</td>\n",
       "      <td>None</td>\n",
       "      <td>None</td>\n",
       "      <td>None</td>\n",
       "    </tr>\n",
       "    <tr>\n",
       "      <th>1904919</th>\n",
       "      <td>tt10145122</td>\n",
       "      <td>movie</td>\n",
       "      <td>The Perfect Secret</td>\n",
       "      <td>Das perfekte Geheimnis</td>\n",
       "      <td>0</td>\n",
       "      <td>2019</td>\n",
       "      <td>\\N</td>\n",
       "      <td>Comedy,Drama,Romance</td>\n",
       "      <td>Comedy</td>\n",
       "      <td>Drama</td>\n",
       "      <td>...</td>\n",
       "      <td>\\N</td>\n",
       "      <td>sound_department,composer</td>\n",
       "      <td>tt10145122,tt5651338,tt0367181,tt0100240</td>\n",
       "      <td>tt10145122</td>\n",
       "      <td>tt5651338</td>\n",
       "      <td>tt0367181</td>\n",
       "      <td>tt0100240</td>\n",
       "      <td>None</td>\n",
       "      <td>None</td>\n",
       "      <td>None</td>\n",
       "    </tr>\n",
       "    <tr>\n",
       "      <th>1904920</th>\n",
       "      <td>tt10145122</td>\n",
       "      <td>movie</td>\n",
       "      <td>The Perfect Secret</td>\n",
       "      <td>Das perfekte Geheimnis</td>\n",
       "      <td>0</td>\n",
       "      <td>2019</td>\n",
       "      <td>\\N</td>\n",
       "      <td>Comedy,Drama,Romance</td>\n",
       "      <td>Comedy</td>\n",
       "      <td>Drama</td>\n",
       "      <td>...</td>\n",
       "      <td>\\N</td>\n",
       "      <td>camera_department,set_decorator,miscellaneous</td>\n",
       "      <td>tt2088003,tt1704142,tt0119331,tt10145122</td>\n",
       "      <td>tt2088003</td>\n",
       "      <td>tt1704142</td>\n",
       "      <td>tt0119331</td>\n",
       "      <td>tt10145122</td>\n",
       "      <td>None</td>\n",
       "      <td>None</td>\n",
       "      <td>None</td>\n",
       "    </tr>\n",
       "    <tr>\n",
       "      <th>1904921</th>\n",
       "      <td>tt10145122</td>\n",
       "      <td>movie</td>\n",
       "      <td>The Perfect Secret</td>\n",
       "      <td>Das perfekte Geheimnis</td>\n",
       "      <td>0</td>\n",
       "      <td>2019</td>\n",
       "      <td>\\N</td>\n",
       "      <td>Comedy,Drama,Romance</td>\n",
       "      <td>Comedy</td>\n",
       "      <td>Drama</td>\n",
       "      <td>...</td>\n",
       "      <td>\\N</td>\n",
       "      <td>camera_department,cinematographer</td>\n",
       "      <td>tt6902676,tt10145122,tt17495410,tt9185162</td>\n",
       "      <td>tt6902676</td>\n",
       "      <td>tt10145122</td>\n",
       "      <td>tt17495410</td>\n",
       "      <td>tt9185162</td>\n",
       "      <td>None</td>\n",
       "      <td>None</td>\n",
       "      <td>None</td>\n",
       "    </tr>\n",
       "  </tbody>\n",
       "</table>\n",
       "<p>1904922 rows × 27 columns</p>\n",
       "</div>"
      ],
      "text/plain": [
       "             tconst titleType                                 primaryTitle  \\\n",
       "0         tt0000003     short                               Pauvre Pierrot   \n",
       "1         tt0000007     short  Corbett and Courtney Before the Kinetograph   \n",
       "2         tt0000008     short       Edison Kinetoscopic Record of a Sneeze   \n",
       "3         tt0000009     movie                                   Miss Jerry   \n",
       "4         tt0000009     movie                                   Miss Jerry   \n",
       "...             ...       ...                                          ...   \n",
       "1904917  tt10145122     movie                           The Perfect Secret   \n",
       "1904918  tt10145122     movie                           The Perfect Secret   \n",
       "1904919  tt10145122     movie                           The Perfect Secret   \n",
       "1904920  tt10145122     movie                           The Perfect Secret   \n",
       "1904921  tt10145122     movie                           The Perfect Secret   \n",
       "\n",
       "                                       originalTitle  isAdult startYear  \\\n",
       "0                                     Pauvre Pierrot        0      1892   \n",
       "1        Corbett and Courtney Before the Kinetograph        0      1894   \n",
       "2             Edison Kinetoscopic Record of a Sneeze        0      1894   \n",
       "3                                         Miss Jerry        0      1894   \n",
       "4                                         Miss Jerry        0      1894   \n",
       "...                                              ...      ...       ...   \n",
       "1904917                       Das perfekte Geheimnis        0      2019   \n",
       "1904918                       Das perfekte Geheimnis        0      2019   \n",
       "1904919                       Das perfekte Geheimnis        0      2019   \n",
       "1904920                       Das perfekte Geheimnis        0      2019   \n",
       "1904921                       Das perfekte Geheimnis        0      2019   \n",
       "\n",
       "        endYear                    genres       genre1  genre2  ... deathYear  \\\n",
       "0            \\N  Animation,Comedy,Romance    Animation  Comedy  ...      1918   \n",
       "1            \\N               Short,Sport        Short   Sport  ...      1896   \n",
       "2            \\N         Documentary,Short  Documentary   Short  ...      1936   \n",
       "3            \\N                   Romance      Romance    None  ...      1951   \n",
       "4            \\N                   Romance      Romance    None  ...      1940   \n",
       "...         ...                       ...          ...     ...  ...       ...   \n",
       "1904917      \\N      Comedy,Drama,Romance       Comedy   Drama  ...        \\N   \n",
       "1904918      \\N      Comedy,Drama,Romance       Comedy   Drama  ...        \\N   \n",
       "1904919      \\N      Comedy,Drama,Romance       Comedy   Drama  ...        \\N   \n",
       "1904920      \\N      Comedy,Drama,Romance       Comedy   Drama  ...        \\N   \n",
       "1904921      \\N      Comedy,Drama,Romance       Comedy   Drama  ...        \\N   \n",
       "\n",
       "                                     primaryProfession  \\\n",
       "0               director,animation_department,producer   \n",
       "1                                                actor   \n",
       "2                                   assistant_director   \n",
       "3                                              actress   \n",
       "4                      director,writer,cinematographer   \n",
       "...                                                ...   \n",
       "1904917                   art_department,miscellaneous   \n",
       "1904918                              camera_department   \n",
       "1904919                      sound_department,composer   \n",
       "1904920  camera_department,set_decorator,miscellaneous   \n",
       "1904921              camera_department,cinematographer   \n",
       "\n",
       "                                     knownForTitles      title1      title2  \\\n",
       "0        tt0000003,tt16763674,tt16763740,tt13125956   tt0000003  tt16763674   \n",
       "1                                         tt0000007   tt0000007        None   \n",
       "2                     tt0285265,tt0000008,tt0240514   tt0285265   tt0000008   \n",
       "3                                         tt0000009   tt0000009        None   \n",
       "4                                         tt0000009   tt0000009        None   \n",
       "...                                             ...         ...         ...   \n",
       "1904917    tt10145122,tt0388858,tt0806910,tt5698320  tt10145122   tt0388858   \n",
       "1904918    tt0114019,tt10145122,tt0117788,tt0139429   tt0114019  tt10145122   \n",
       "1904919    tt10145122,tt5651338,tt0367181,tt0100240  tt10145122   tt5651338   \n",
       "1904920    tt2088003,tt1704142,tt0119331,tt10145122   tt2088003   tt1704142   \n",
       "1904921   tt6902676,tt10145122,tt17495410,tt9185162   tt6902676  tt10145122   \n",
       "\n",
       "             title3      title4 title5 title6 title7  \n",
       "0        tt16763740  tt13125956   None   None   None  \n",
       "1              None        None   None   None   None  \n",
       "2         tt0240514        None   None   None   None  \n",
       "3              None        None   None   None   None  \n",
       "4              None        None   None   None   None  \n",
       "...             ...         ...    ...    ...    ...  \n",
       "1904917   tt0806910   tt5698320   None   None   None  \n",
       "1904918   tt0117788   tt0139429   None   None   None  \n",
       "1904919   tt0367181   tt0100240   None   None   None  \n",
       "1904920   tt0119331  tt10145122   None   None   None  \n",
       "1904921  tt17495410   tt9185162   None   None   None  \n",
       "\n",
       "[1904922 rows x 27 columns]"
      ]
     },
     "execution_count": 32,
     "metadata": {},
     "output_type": "execute_result"
    }
   ],
   "source": [
    "actors_split = df_names.assign(tconst=df_names['knownForTitles'].str.split(',')).explode('tconst')\n",
    "\n",
    "movies_people_df = pd.merge(merged_df, actors_split, left_on='tconst', right_on='tconst')\n",
    "movies_people_df"
   ]
  },
  {
   "cell_type": "markdown",
   "id": "56cd1e1a73a6de3e",
   "metadata": {},
   "source": [
    "# COMBINED DATA PREPARATION"
   ]
  },
  {
   "cell_type": "code",
   "execution_count": 33,
   "id": "897cfd070540902a",
   "metadata": {
    "ExecuteTime": {
     "end_time": "2024-03-28T00:39:05.264258Z",
     "start_time": "2024-03-28T00:39:05.261671Z"
    }
   },
   "outputs": [],
   "source": [
    "from functions import col_info"
   ]
  },
  {
   "cell_type": "code",
   "execution_count": 34,
   "id": "ede08f04de6390a5",
   "metadata": {
    "ExecuteTime": {
     "end_time": "2024-03-28T00:39:17.003686Z",
     "start_time": "2024-03-28T00:39:06.551193Z"
    }
   },
   "outputs": [
    {
     "name": "stdout",
     "output_type": "stream",
     "text": [
      "The full dataset contains: 1904922 rows and 23 columns. Details for the requested column(s) are as follows:\n",
      "\n",
      "\u001b[1m tconst \u001b[0m: object : 191822 levels\n",
      "['tt0000003', 'tt0000007', 'tt0000008', 'tt0000009', 'tt0000012'] ...\n",
      "\n",
      "\u001b[1m titleType \u001b[0m: object : 10 levels\n",
      "['short', 'movie', 'tvMovie', 'tvSeries', 'tvMiniSeries', 'tvShort', 'tvSpecial'] ...\n",
      "\n",
      "\u001b[1m primaryTitle \u001b[0m: object : 171093 levels\n",
      "['Pauvre Pierrot', 'Corbett and Courtney Before the Kinetograph'] ...\n",
      "\n",
      "\u001b[1m originalTitle \u001b[0m: object : 174873 levels\n",
      "['Pauvre Pierrot', 'Corbett and Courtney Before the Kinetograph'] ...\n",
      "\n",
      "\u001b[1m startYear \u001b[0m: object : 133 levels\n",
      "['1892', '1894', '1896', '1895', '1897', '1898', '1899', '1900', '1901', '1902', '1903', '1904'] ...\n",
      "\n",
      "\u001b[1m endYear \u001b[0m: object : 80 levels\n",
      "['\\\\N', '1945', '1949', '1958', '1951', '1950', '1954', '1957', '1952', '1956', '1967', '1971'] ...\n",
      "\n",
      "\u001b[1m genres \u001b[0m: object : 1505 levels\n",
      "['Animation,Comedy,Romance', 'Short,Sport'] ...\n",
      "\n",
      "\u001b[1m genre1 \u001b[0m: object : 29 levels\n",
      "['Animation', 'Short', 'Documentary', 'Romance', 'Comedy', 'News'] ...\n",
      "\n",
      "\u001b[1m genre2 \u001b[0m: object : 28 levels\n",
      "['Comedy', 'Sport', 'Short', None, 'News', 'Horror', 'Family', 'Fantasy', 'Crime'] ...\n",
      "\n",
      "\u001b[1m genre3 \u001b[0m: object : 27 levels\n",
      "['Romance', None, 'Sport', 'Short', 'Fantasy', 'Horror', 'Drama', 'Comedy'] ...\n",
      "\n",
      "\u001b[1m nconst \u001b[0m: object : 839960 levels\n",
      "['nm0721526', 'nm0183947', 'nm0653028', 'nm0063086', 'nm0085156'] ...\n",
      "\n",
      "\u001b[1m primaryName \u001b[0m: object : 795678 levels\n",
      "['Émile Reynaud', 'Peter Courtney', 'Fred Ott', 'Blanche Bayliss'] ...\n",
      "\n",
      "\u001b[1m birthYear \u001b[0m: object : 356 levels\n",
      "['1844', '1867', '1860', '1878', '1859', '1875', '1874', '1862', '\\\\N', '1881', '1864', '1854'] ...\n",
      "\n",
      "\u001b[1m deathYear \u001b[0m: object : 321 levels\n",
      "['1918', '1896', '1936', '1951', '1940', '1933', '1963', '1954', '\\\\N', '1948', '1921', '1941'] ...\n",
      "\n",
      "\u001b[1m primaryProfession \u001b[0m: object : 11507 levels\n",
      "['director,animation_department,producer'] ...\n",
      "\n",
      "\u001b[1m knownForTitles \u001b[0m: object : 669353 levels\n",
      "['tt0000003,tt16763674,tt16763740,tt13125956'] ...\n",
      "\n",
      "\u001b[1m title1 \u001b[0m: object : 232585 levels\n",
      "['tt0000003', 'tt0000007', 'tt0285265', 'tt0000009', 'tt0020403'] ...\n",
      "\n",
      "\u001b[1m title2 \u001b[0m: object : 222794 levels\n",
      "['tt16763674', None, 'tt0000008', 'tt0021535', 'tt0791136'] ...\n",
      "\n",
      "\u001b[1m title3 \u001b[0m: object : 203487 levels\n",
      "['tt16763740', None, 'tt0240514', 'tt0020355', 'tt0000012'] ...\n",
      "\n",
      "\u001b[1m title4 \u001b[0m: object : 186555 levels\n",
      "['tt13125956', None, 'tt0000009', 'tt0221930', 'tt8485720'] ...\n",
      "\n",
      "\u001b[1m title5 \u001b[0m: object : 37 levels\n",
      "[None, 'tt0038146', 'tt0156217', 'tt0053628', 'tt0460681', 'tt0088559'] ...\n",
      "\n",
      "\u001b[1m title6 \u001b[0m: object : 3 levels\n",
      "[None, 'tt0252111', 'tt5994668'] \n",
      "\n",
      "\u001b[1m title7 \u001b[0m: object : 2 levels\n",
      "[None, 'tt1159931'] \n",
      "\n"
     ]
    }
   ],
   "source": [
    "col_info(movies_people_df.select_dtypes(include='object'))"
   ]
  },
  {
   "cell_type": "markdown",
   "id": "3814287db7fd18a9",
   "metadata": {},
   "source": [
    "# Data Replacement"
   ]
  },
  {
   "cell_type": "markdown",
   "id": "e04d85437eec118a",
   "metadata": {},
   "source": [
    "We can see that there are quite a few columns in \"movie_and_actor_df\" such as 'startYear' which are actually int type but are stored as object type and have incorrect values '\\N'. We need to remove '\\N' values from the number-like value string to ensure that data conversion afterward is successful.\n",
    "\n",
    "Let's get a list of all the column names we need."
   ]
  },
  {
   "cell_type": "code",
   "execution_count": 35,
   "id": "cad47983d945256f",
   "metadata": {
    "ExecuteTime": {
     "end_time": "2024-03-28T00:39:17.942314Z",
     "start_time": "2024-03-28T00:39:17.004669Z"
    }
   },
   "outputs": [
    {
     "data": {
      "text/plain": [
       "Index(['startYear', 'endYear', 'birthYear', 'deathYear'], dtype='object')"
      ]
     },
     "execution_count": 35,
     "metadata": {},
     "output_type": "execute_result"
    }
   ],
   "source": [
    "movies_people_df.filter(regex='(?i)year').columns"
   ]
  },
  {
   "cell_type": "markdown",
   "id": "f4659eec3ccc6d51",
   "metadata": {},
   "source": [
    "Before converting  the values of each of the above columns to integer however, we must first ensure that all are values are stored correctly with no missing or incorrect values."
   ]
  },
  {
   "cell_type": "markdown",
   "id": "db039c0bc2a76628",
   "metadata": {},
   "source": [
    "# Initial Data Conversion"
   ]
  },
  {
   "cell_type": "code",
   "execution_count": 36,
   "id": "288f37fd2b87db8c",
   "metadata": {
    "ExecuteTime": {
     "end_time": "2024-03-28T00:39:27.362558Z",
     "start_time": "2024-03-28T00:39:24.819097Z"
    }
   },
   "outputs": [],
   "source": [
    "year_cols = columns_with_year = [col for col in movies_people_df.columns if 'year' in col.lower()]\n",
    "\n",
    "for col in year_cols:\n",
    "    movies_people_df[col] = movies_people_df[col].fillna(0)\n",
    "    movies_people_df[col] = movies_people_df[col].replace(['\\\\N'], 0)"
   ]
  },
  {
   "cell_type": "code",
   "execution_count": 37,
   "id": "ebffdc859e563f4",
   "metadata": {
    "ExecuteTime": {
     "end_time": "2024-03-28T00:39:28.814124Z",
     "start_time": "2024-03-28T00:39:28.555566Z"
    }
   },
   "outputs": [
    {
     "name": "stdout",
     "output_type": "stream",
     "text": [
      "\u001b[1mstartYear\u001b[0m\n"
     ]
    },
    {
     "data": {
      "text/plain": [
       "1997    74678\n",
       "1998    73404\n",
       "1999    73298\n",
       "2000    69009\n",
       "1996    68898\n",
       "        ...  \n",
       "0          16\n",
       "1902       15\n",
       "1904       15\n",
       "1891        6\n",
       "1892        1\n",
       "Name: startYear, Length: 133, dtype: int64"
      ]
     },
     "metadata": {},
     "output_type": "display_data"
    },
    {
     "name": "stdout",
     "output_type": "stream",
     "text": [
      "\u001b[1mendYear\u001b[0m\n"
     ]
    },
    {
     "data": {
      "text/plain": [
       "0       1618400\n",
       "2001      11270\n",
       "1998      10596\n",
       "1999      10533\n",
       "2000       9247\n",
       "         ...   \n",
       "1950         81\n",
       "2025         77\n",
       "1949         28\n",
       "1938         15\n",
       "1945          8\n",
       "Name: endYear, Length: 80, dtype: int64"
      ]
     },
     "metadata": {},
     "output_type": "display_data"
    },
    {
     "name": "stdout",
     "output_type": "stream",
     "text": [
      "\u001b[1mbirthYear\u001b[0m\n"
     ]
    },
    {
     "data": {
      "text/plain": [
       "0       1251915\n",
       "1947      10782\n",
       "1946      10344\n",
       "1948      10036\n",
       "1943       9876\n",
       "         ...   \n",
       "1641          1\n",
       "1474          1\n",
       "1768          1\n",
       "2006          1\n",
       "2004          1\n",
       "Name: birthYear, Length: 356, dtype: int64"
      ]
     },
     "metadata": {},
     "output_type": "display_data"
    },
    {
     "name": "stdout",
     "output_type": "stream",
     "text": [
      "\u001b[1mdeathYear\u001b[0m\n"
     ]
    },
    {
     "data": {
      "text/plain": [
       "0       1540069\n",
       "2020       8379\n",
       "2021       8173\n",
       "2011       7636\n",
       "2018       7570\n",
       "         ...   \n",
       "1786          1\n",
       "1527          1\n",
       "1591          1\n",
       "1726          1\n",
       "1463          1\n",
       "Name: deathYear, Length: 321, dtype: int64"
      ]
     },
     "metadata": {},
     "output_type": "display_data"
    }
   ],
   "source": [
    "for col in year_cols:\n",
    "    print(f'\\033[1m{col}\\033[0m')\n",
    "    display(movies_people_df[col].value_counts())"
   ]
  },
  {
   "cell_type": "markdown",
   "id": "3be06caee4674373",
   "metadata": {},
   "source": [
    "# Redundant Data"
   ]
  },
  {
   "cell_type": "code",
   "execution_count": 38,
   "id": "f3774fda18b0a4c1",
   "metadata": {
    "ExecuteTime": {
     "end_time": "2024-03-28T00:40:14.376800Z",
     "start_time": "2024-03-28T00:40:05.836405Z"
    }
   },
   "outputs": [
    {
     "name": "stdout",
     "output_type": "stream",
     "text": [
      "The full dataset contains: 1904922 rows and 27 columns. Details for the requested column(s) are as follows:\n",
      "\n",
      "\u001b[1m tconst \u001b[0m: object : 191822 levels\n",
      "['tt0000003', 'tt0000007', 'tt0000008', 'tt0000009', 'tt0000012'] ...\n",
      "\n",
      "\u001b[1m titleType \u001b[0m: object : 10 levels\n",
      "['short', 'movie', 'tvMovie', 'tvSeries', 'tvMiniSeries', 'tvShort', 'tvSpecial'] ...\n",
      "\n",
      "\u001b[1m primaryTitle \u001b[0m: object : 171093 levels\n",
      "['Pauvre Pierrot', 'Corbett and Courtney Before the Kinetograph'] ...\n",
      "\n",
      "\u001b[1m originalTitle \u001b[0m: object : 174873 levels\n",
      "['Pauvre Pierrot', 'Corbett and Courtney Before the Kinetograph'] ...\n",
      "\n",
      "\u001b[1m isAdult \u001b[0m: int64 : 2 levels\n",
      "[0, 1] \n",
      "\n",
      "\u001b[1m startYear \u001b[0m: object : 133 levels\n",
      "['1892', '1894', '1896', '1895', '1897', '1898', '1899', '1900', '1901', '1902', '1903', '1904'] ...\n",
      "\n",
      "\u001b[1m endYear \u001b[0m: object : 80 levels\n",
      "[0, '1945', '1949', '1958', '1951', '1950', '1954', '1957', '1952', '1956', '1967', '1971'] ...\n",
      "\n",
      "\u001b[1m genres \u001b[0m: object : 1505 levels\n",
      "['Animation,Comedy,Romance', 'Short,Sport'] ...\n",
      "\n",
      "\u001b[1m genre1 \u001b[0m: object : 29 levels\n",
      "['Animation', 'Short', 'Documentary', 'Romance', 'Comedy', 'News'] ...\n",
      "\n",
      "\u001b[1m genre2 \u001b[0m: object : 28 levels\n",
      "['Comedy', 'Sport', 'Short', None, 'News', 'Horror', 'Family', 'Fantasy', 'Crime'] ...\n",
      "\n",
      "\u001b[1m genre3 \u001b[0m: object : 27 levels\n",
      "['Romance', None, 'Sport', 'Short', 'Fantasy', 'Horror', 'Drama', 'Comedy'] ...\n",
      "\n",
      "\u001b[1m startDecade \u001b[0m: int64 : 133 levels\n",
      "[1892, 1894, 1896, 1895, 1897, 1898, 1899, 1900, 1901, 1902, 1903, 1904] ...\n",
      "\n",
      "\u001b[1m averageRating \u001b[0m: float64 : 91 levels\n",
      "[6.5, 5.4, 5.3, 7.4, 7.1, 3.9, 5.2, 5.0, 3.3, 3.0, 6.3, 6.7] ...\n",
      "\n",
      "\u001b[1m numVotes \u001b[0m: int64 : 13608 levels\n",
      "[1973, 848, 2175, 208, 12746, 5780, 124, 43, 880, 430, 19, 23] ...\n",
      "\n",
      "\u001b[1m nconst \u001b[0m: object : 839960 levels\n",
      "['nm0721526', 'nm0183947', 'nm0653028', 'nm0063086', 'nm0085156'] ...\n",
      "\n",
      "\u001b[1m primaryName \u001b[0m: object : 795678 levels\n",
      "['Émile Reynaud', 'Peter Courtney', 'Fred Ott', 'Blanche Bayliss'] ...\n",
      "\n",
      "\u001b[1m birthYear \u001b[0m: object : 356 levels\n",
      "['1844', '1867', '1860', '1878', '1859', '1875', '1874', '1862', 0, '1881', '1864', '1854'] ...\n",
      "\n",
      "\u001b[1m deathYear \u001b[0m: object : 321 levels\n",
      "['1918', '1896', '1936', '1951', '1940', '1933', '1963', '1954', 0, '1948', '1921', '1941'] ...\n",
      "\n",
      "\u001b[1m primaryProfession \u001b[0m: object : 11507 levels\n",
      "['director,animation_department,producer'] ...\n",
      "\n",
      "\u001b[1m knownForTitles \u001b[0m: object : 669353 levels\n",
      "['tt0000003,tt16763674,tt16763740,tt13125956'] ...\n",
      "\n",
      "\u001b[1m title1 \u001b[0m: object : 232585 levels\n",
      "['tt0000003', 'tt0000007', 'tt0285265', 'tt0000009', 'tt0020403'] ...\n",
      "\n",
      "\u001b[1m title2 \u001b[0m: object : 222794 levels\n",
      "['tt16763674', None, 'tt0000008', 'tt0021535', 'tt0791136'] ...\n",
      "\n",
      "\u001b[1m title3 \u001b[0m: object : 203487 levels\n",
      "['tt16763740', None, 'tt0240514', 'tt0020355', 'tt0000012'] ...\n",
      "\n",
      "\u001b[1m title4 \u001b[0m: object : 186555 levels\n",
      "['tt13125956', None, 'tt0000009', 'tt0221930', 'tt8485720'] ...\n",
      "\n",
      "\u001b[1m title5 \u001b[0m: object : 37 levels\n",
      "[None, 'tt0038146', 'tt0156217', 'tt0053628', 'tt0460681', 'tt0088559'] ...\n",
      "\n",
      "\u001b[1m title6 \u001b[0m: object : 3 levels\n",
      "[None, 'tt0252111', 'tt5994668'] \n",
      "\n",
      "\u001b[1m title7 \u001b[0m: object : 2 levels\n",
      "[None, 'tt1159931'] \n",
      "\n"
     ]
    }
   ],
   "source": [
    "col_info(movies_people_df)"
   ]
  },
  {
   "cell_type": "markdown",
   "id": "ed4c6adc99ade068",
   "metadata": {},
   "source": [
    "From the column info above, we can see that there are a few columns which seem to contain the same information. These columns and the individual datasets they came from are as follows:"
   ]
  },
  {
   "cell_type": "markdown",
   "id": "23af37e30189e9f6",
   "metadata": {},
   "source": [
    "- primaryTitle and originalTitle\n",
    "- genres and genre1, genre2 & genre3\n",
    "- knownForTitles and title1, title2, title3, title4, title5, title6 & title7"
   ]
  },
  {
   "cell_type": "markdown",
   "id": "97fb030b9918d5b3",
   "metadata": {},
   "source": [
    "So let's filter the combined dataset to include only these columns and then have a look at it more closely."
   ]
  },
  {
   "cell_type": "code",
   "execution_count": 39,
   "id": "c94f399e6ba1ef7",
   "metadata": {
    "ExecuteTime": {
     "end_time": "2024-03-28T00:47:58.033711Z",
     "start_time": "2024-03-28T00:47:58.001700Z"
    }
   },
   "outputs": [
    {
     "data": {
      "text/html": [
       "<div>\n",
       "<style scoped>\n",
       "    .dataframe tbody tr th:only-of-type {\n",
       "        vertical-align: middle;\n",
       "    }\n",
       "\n",
       "    .dataframe tbody tr th {\n",
       "        vertical-align: top;\n",
       "    }\n",
       "\n",
       "    .dataframe thead th {\n",
       "        text-align: right;\n",
       "    }\n",
       "</style>\n",
       "<table border=\"1\" class=\"dataframe\">\n",
       "  <thead>\n",
       "    <tr style=\"text-align: right;\">\n",
       "      <th></th>\n",
       "      <th>primaryTitle</th>\n",
       "      <th>originalTitle</th>\n",
       "    </tr>\n",
       "  </thead>\n",
       "  <tbody>\n",
       "    <tr>\n",
       "      <th>0</th>\n",
       "      <td>Pauvre Pierrot</td>\n",
       "      <td>Pauvre Pierrot</td>\n",
       "    </tr>\n",
       "    <tr>\n",
       "      <th>1</th>\n",
       "      <td>Corbett and Courtney Before the Kinetograph</td>\n",
       "      <td>Corbett and Courtney Before the Kinetograph</td>\n",
       "    </tr>\n",
       "    <tr>\n",
       "      <th>2</th>\n",
       "      <td>Edison Kinetoscopic Record of a Sneeze</td>\n",
       "      <td>Edison Kinetoscopic Record of a Sneeze</td>\n",
       "    </tr>\n",
       "    <tr>\n",
       "      <th>3</th>\n",
       "      <td>Miss Jerry</td>\n",
       "      <td>Miss Jerry</td>\n",
       "    </tr>\n",
       "    <tr>\n",
       "      <th>4</th>\n",
       "      <td>Miss Jerry</td>\n",
       "      <td>Miss Jerry</td>\n",
       "    </tr>\n",
       "    <tr>\n",
       "      <th>5</th>\n",
       "      <td>Miss Jerry</td>\n",
       "      <td>Miss Jerry</td>\n",
       "    </tr>\n",
       "    <tr>\n",
       "      <th>6</th>\n",
       "      <td>The Arrival of a Train</td>\n",
       "      <td>L'arrivée d'un train à La Ciotat</td>\n",
       "    </tr>\n",
       "    <tr>\n",
       "      <th>7</th>\n",
       "      <td>The Arrival of a Train</td>\n",
       "      <td>L'arrivée d'un train à La Ciotat</td>\n",
       "    </tr>\n",
       "    <tr>\n",
       "      <th>8</th>\n",
       "      <td>The Waterer Watered</td>\n",
       "      <td>L'arroseur arrosé</td>\n",
       "    </tr>\n",
       "    <tr>\n",
       "      <th>9</th>\n",
       "      <td>The Waterer Watered</td>\n",
       "      <td>L'arroseur arrosé</td>\n",
       "    </tr>\n",
       "  </tbody>\n",
       "</table>\n",
       "</div>"
      ],
      "text/plain": [
       "                                  primaryTitle  \\\n",
       "0                               Pauvre Pierrot   \n",
       "1  Corbett and Courtney Before the Kinetograph   \n",
       "2       Edison Kinetoscopic Record of a Sneeze   \n",
       "3                                   Miss Jerry   \n",
       "4                                   Miss Jerry   \n",
       "5                                   Miss Jerry   \n",
       "6                       The Arrival of a Train   \n",
       "7                       The Arrival of a Train   \n",
       "8                          The Waterer Watered   \n",
       "9                          The Waterer Watered   \n",
       "\n",
       "                                 originalTitle  \n",
       "0                               Pauvre Pierrot  \n",
       "1  Corbett and Courtney Before the Kinetograph  \n",
       "2       Edison Kinetoscopic Record of a Sneeze  \n",
       "3                                   Miss Jerry  \n",
       "4                                   Miss Jerry  \n",
       "5                                   Miss Jerry  \n",
       "6             L'arrivée d'un train à La Ciotat  \n",
       "7             L'arrivée d'un train à La Ciotat  \n",
       "8                            L'arroseur arrosé  \n",
       "9                            L'arroseur arrosé  "
      ]
     },
     "execution_count": 39,
     "metadata": {},
     "output_type": "execute_result"
    }
   ],
   "source": [
    "title = movies_people_df[['primaryTitle', 'originalTitle']]\n",
    "title.head(10)"
   ]
  },
  {
   "cell_type": "markdown",
   "id": "ee940dadd94aec02",
   "metadata": {},
   "source": [
    "In the case of primaryTitle and originalTitle they contain some information. originalTitle contains the names in their original language this is not very relevant as we only care about the english names of the titles in this analysis so we can remove the originalTitle column."
   ]
  },
  {
   "cell_type": "code",
   "execution_count": 40,
   "id": "292e8b9be7a2b92c",
   "metadata": {
    "ExecuteTime": {
     "end_time": "2024-03-28T00:48:02.472814Z",
     "start_time": "2024-03-28T00:48:01.851659Z"
    }
   },
   "outputs": [],
   "source": [
    "movies_people_df.drop('originalTitle', axis=1, inplace=True)"
   ]
  },
  {
   "cell_type": "code",
   "execution_count": 41,
   "id": "dfb8a74cfd9971c1",
   "metadata": {
    "ExecuteTime": {
     "end_time": "2024-03-28T00:48:03.835383Z",
     "start_time": "2024-03-28T00:48:03.766617Z"
    }
   },
   "outputs": [
    {
     "data": {
      "text/html": [
       "<div>\n",
       "<style scoped>\n",
       "    .dataframe tbody tr th:only-of-type {\n",
       "        vertical-align: middle;\n",
       "    }\n",
       "\n",
       "    .dataframe tbody tr th {\n",
       "        vertical-align: top;\n",
       "    }\n",
       "\n",
       "    .dataframe thead th {\n",
       "        text-align: right;\n",
       "    }\n",
       "</style>\n",
       "<table border=\"1\" class=\"dataframe\">\n",
       "  <thead>\n",
       "    <tr style=\"text-align: right;\">\n",
       "      <th></th>\n",
       "      <th>genres</th>\n",
       "      <th>genre1</th>\n",
       "      <th>genre2</th>\n",
       "      <th>genre3</th>\n",
       "    </tr>\n",
       "  </thead>\n",
       "  <tbody>\n",
       "    <tr>\n",
       "      <th>0</th>\n",
       "      <td>Animation,Comedy,Romance</td>\n",
       "      <td>Animation</td>\n",
       "      <td>Comedy</td>\n",
       "      <td>Romance</td>\n",
       "    </tr>\n",
       "    <tr>\n",
       "      <th>1</th>\n",
       "      <td>Short,Sport</td>\n",
       "      <td>Short</td>\n",
       "      <td>Sport</td>\n",
       "      <td>None</td>\n",
       "    </tr>\n",
       "    <tr>\n",
       "      <th>2</th>\n",
       "      <td>Documentary,Short</td>\n",
       "      <td>Documentary</td>\n",
       "      <td>Short</td>\n",
       "      <td>None</td>\n",
       "    </tr>\n",
       "    <tr>\n",
       "      <th>3</th>\n",
       "      <td>Romance</td>\n",
       "      <td>Romance</td>\n",
       "      <td>None</td>\n",
       "      <td>None</td>\n",
       "    </tr>\n",
       "    <tr>\n",
       "      <th>4</th>\n",
       "      <td>Romance</td>\n",
       "      <td>Romance</td>\n",
       "      <td>None</td>\n",
       "      <td>None</td>\n",
       "    </tr>\n",
       "    <tr>\n",
       "      <th>...</th>\n",
       "      <td>...</td>\n",
       "      <td>...</td>\n",
       "      <td>...</td>\n",
       "      <td>...</td>\n",
       "    </tr>\n",
       "    <tr>\n",
       "      <th>1904917</th>\n",
       "      <td>Comedy,Drama,Romance</td>\n",
       "      <td>Comedy</td>\n",
       "      <td>Drama</td>\n",
       "      <td>Romance</td>\n",
       "    </tr>\n",
       "    <tr>\n",
       "      <th>1904918</th>\n",
       "      <td>Comedy,Drama,Romance</td>\n",
       "      <td>Comedy</td>\n",
       "      <td>Drama</td>\n",
       "      <td>Romance</td>\n",
       "    </tr>\n",
       "    <tr>\n",
       "      <th>1904919</th>\n",
       "      <td>Comedy,Drama,Romance</td>\n",
       "      <td>Comedy</td>\n",
       "      <td>Drama</td>\n",
       "      <td>Romance</td>\n",
       "    </tr>\n",
       "    <tr>\n",
       "      <th>1904920</th>\n",
       "      <td>Comedy,Drama,Romance</td>\n",
       "      <td>Comedy</td>\n",
       "      <td>Drama</td>\n",
       "      <td>Romance</td>\n",
       "    </tr>\n",
       "    <tr>\n",
       "      <th>1904921</th>\n",
       "      <td>Comedy,Drama,Romance</td>\n",
       "      <td>Comedy</td>\n",
       "      <td>Drama</td>\n",
       "      <td>Romance</td>\n",
       "    </tr>\n",
       "  </tbody>\n",
       "</table>\n",
       "<p>1904922 rows × 4 columns</p>\n",
       "</div>"
      ],
      "text/plain": [
       "                           genres       genre1  genre2   genre3\n",
       "0        Animation,Comedy,Romance    Animation  Comedy  Romance\n",
       "1                     Short,Sport        Short   Sport     None\n",
       "2               Documentary,Short  Documentary   Short     None\n",
       "3                         Romance      Romance    None     None\n",
       "4                         Romance      Romance    None     None\n",
       "...                           ...          ...     ...      ...\n",
       "1904917      Comedy,Drama,Romance       Comedy   Drama  Romance\n",
       "1904918      Comedy,Drama,Romance       Comedy   Drama  Romance\n",
       "1904919      Comedy,Drama,Romance       Comedy   Drama  Romance\n",
       "1904920      Comedy,Drama,Romance       Comedy   Drama  Romance\n",
       "1904921      Comedy,Drama,Romance       Comedy   Drama  Romance\n",
       "\n",
       "[1904922 rows x 4 columns]"
      ]
     },
     "execution_count": 41,
     "metadata": {},
     "output_type": "execute_result"
    }
   ],
   "source": [
    "genre = movies_people_df[['genres', 'genre1', 'genre2', 'genre3']]\n",
    "genre"
   ]
  },
  {
   "cell_type": "markdown",
   "id": "952edb1f1c083da2",
   "metadata": {},
   "source": [
    "They contain redundant data as the columns genre1, 2 & 3 are derived from the genres' column. So we drop this column. Similar reasoning for the knownForTitles column."
   ]
  },
  {
   "cell_type": "code",
   "execution_count": 42,
   "id": "a66cc7feeddf2089",
   "metadata": {
    "ExecuteTime": {
     "end_time": "2024-03-28T00:48:37.381096Z",
     "start_time": "2024-03-28T00:48:36.211771Z"
    }
   },
   "outputs": [],
   "source": [
    "movies_people_df.drop('genres', axis=1, inplace=True)\n",
    "\n",
    "movies_people_df.drop('knownForTitles', axis=1, inplace=True)"
   ]
  },
  {
   "cell_type": "markdown",
   "id": "8b727e3f94b0b7e6",
   "metadata": {},
   "source": [
    "# Missing Data"
   ]
  },
  {
   "cell_type": "code",
   "execution_count": 43,
   "id": "6d18c9ec9e2b50b6",
   "metadata": {
    "ExecuteTime": {
     "end_time": "2024-03-28T00:48:48.366042Z",
     "start_time": "2024-03-28T00:48:43.112036Z"
    }
   },
   "outputs": [
    {
     "data": {
      "text/plain": [
       "primaryProfession      16201\n",
       "title2                222703\n",
       "title3                368182\n",
       "title4                498788\n",
       "genre2                507871\n",
       "genre3               1048020\n",
       "title5               1904825\n",
       "title6               1904917\n",
       "title7               1904920\n",
       "dtype: int64"
      ]
     },
     "execution_count": 43,
     "metadata": {},
     "output_type": "execute_result"
    }
   ],
   "source": [
    "missing_counts = movies_people_df.isna().sum().sort_values()\n",
    "missing_one_plus = missing_counts[missing_counts >= 1]\n",
    "missing_one_plus"
   ]
  },
  {
   "cell_type": "code",
   "execution_count": 44,
   "id": "b235b06547afcc89",
   "metadata": {
    "ExecuteTime": {
     "end_time": "2024-03-28T00:48:49.893950Z",
     "start_time": "2024-03-28T00:48:49.714549Z"
    }
   },
   "outputs": [
    {
     "data": {
      "image/png": "[encoded data removed]",
      "text/plain": [
       "<Figure size 640x480 with 1 Axes>"
      ]
     },
     "metadata": {},
     "output_type": "display_data"
    }
   ],
   "source": [
    "fig, ax = plt.subplots()\n",
    "missing_one_plus.plot(kind='barh')\n",
    "plt.grid(axis='x')\n",
    "sns.despine(left=True, bottom=False)"
   ]
  },
  {
   "cell_type": "markdown",
   "id": "49e8738386ec2a1b",
   "metadata": {},
   "source": [
    "The only column with missing values among those on the graph above is primaryProfession. All the other missing values are caused by separating one column into multiple."
   ]
  },
  {
   "cell_type": "code",
   "execution_count": 45,
   "id": "c4787eb3c89ceeff",
   "metadata": {
    "ExecuteTime": {
     "end_time": "2024-03-28T00:49:03.595447Z",
     "start_time": "2024-03-28T00:49:03.592149Z"
    }
   },
   "outputs": [
    {
     "name": "stdout",
     "output_type": "stream",
     "text": [
      "Percentage of empty data in column 'primaryProfession': 0.8504810170705153\n"
     ]
    }
   ],
   "source": [
    "empty_percent_profession = (missing_one_plus['primaryProfession'] / len(movies_people_df)) * 100\n",
    "print(\"Percentage of empty data in column 'primaryProfession':\", empty_percent_profession)"
   ]
  },
  {
   "cell_type": "code",
   "execution_count": 46,
   "id": "14f582f09b115bcc",
   "metadata": {
    "ExecuteTime": {
     "end_time": "2024-03-28T00:49:05.757704Z",
     "start_time": "2024-03-28T00:49:05.617928Z"
    }
   },
   "outputs": [
    {
     "data": {
      "text/plain": [
       "actor                371321\n",
       "actress              264228\n",
       "miscellaneous         52287\n",
       "camera_department     42526\n",
       "writer                35655\n",
       "Name: primaryProfession, dtype: int64"
      ]
     },
     "execution_count": 46,
     "metadata": {},
     "output_type": "execute_result"
    }
   ],
   "source": [
    "movies_people_df['primaryProfession'].value_counts().head()"
   ]
  },
  {
   "cell_type": "markdown",
   "id": "3445c413db4d5dba",
   "metadata": {},
   "source": [
    "Since the column has less than 1% missing values, we can now go ahead and impute the missing values for the column with the mode value for that column."
   ]
  },
  {
   "cell_type": "code",
   "execution_count": 47,
   "id": "b64770e2abf6d020",
   "metadata": {
    "ExecuteTime": {
     "end_time": "2024-03-28T00:49:08.483188Z",
     "start_time": "2024-03-28T00:49:07.767647Z"
    }
   },
   "outputs": [
    {
     "data": {
      "text/plain": [
       "actor                387522\n",
       "actress              264228\n",
       "miscellaneous         52287\n",
       "camera_department     42526\n",
       "writer                35655\n",
       "Name: primaryProfession, dtype: int64"
      ]
     },
     "execution_count": 47,
     "metadata": {},
     "output_type": "execute_result"
    }
   ],
   "source": [
    "movies_people_df['primaryProfession'] = movies_people_df['primaryProfession'].fillna(\n",
    "    movies_people_df['primaryProfession'].mode()[0])\n",
    "\n",
    "movies_people_df['primaryProfession'].value_counts().head()"
   ]
  },
  {
   "cell_type": "markdown",
   "id": "2cb7d7dad6da4d73",
   "metadata": {},
   "source": [
    "Let's confirm that there are no more missing values in our 'primaryProfessions' column."
   ]
  },
  {
   "cell_type": "code",
   "execution_count": 48,
   "id": "9320f2b3025647ba",
   "metadata": {
    "ExecuteTime": {
     "end_time": "2024-03-28T00:49:13.008493Z",
     "start_time": "2024-03-28T00:49:12.953467Z"
    }
   },
   "outputs": [
    {
     "data": {
      "text/plain": [
       "0"
      ]
     },
     "execution_count": 48,
     "metadata": {},
     "output_type": "execute_result"
    }
   ],
   "source": [
    "movies_people_df['primaryProfession'].isna().sum()"
   ]
  },
  {
   "cell_type": "code",
   "execution_count": 49,
   "id": "b2aa0f28737e0d6a",
   "metadata": {
    "ExecuteTime": {
     "end_time": "2024-03-28T00:49:20.941426Z",
     "start_time": "2024-03-28T00:49:14.344285Z"
    }
   },
   "outputs": [
    {
     "data": {
      "text/plain": [
       "tconst                   0\n",
       "titleType                0\n",
       "primaryTitle             0\n",
       "isAdult                  0\n",
       "startYear                0\n",
       "endYear                  0\n",
       "genre1               25209\n",
       "genre2                   0\n",
       "genre3                   0\n",
       "startDecade              0\n",
       "averageRating            0\n",
       "numVotes                 0\n",
       "nconst                   0\n",
       "primaryName              0\n",
       "birthYear                0\n",
       "deathYear                0\n",
       "primaryProfession        0\n",
       "title1                   0\n",
       "title2                   0\n",
       "title3                   0\n",
       "title4                   0\n",
       "title5                   0\n",
       "title6                   0\n",
       "title7                   0\n",
       "dtype: int64"
      ]
     },
     "execution_count": 49,
     "metadata": {},
     "output_type": "execute_result"
    }
   ],
   "source": [
    "count_N_values = movies_people_df.applymap(lambda x: x == '\\\\N').sum()\n",
    "count_N_values"
   ]
  },
  {
   "cell_type": "code",
   "execution_count": 50,
   "id": "c6966ca19c2d9b21",
   "metadata": {
    "ExecuteTime": {
     "end_time": "2024-03-28T00:50:04.438711Z",
     "start_time": "2024-03-28T00:50:04.434443Z"
    }
   },
   "outputs": [
    {
     "name": "stdout",
     "output_type": "stream",
     "text": [
      "Percentage of empty data in column 'genre1': 1.3233612714851317\n"
     ]
    }
   ],
   "source": [
    "empty_percent_genre = (count_N_values['genre1'] / len(movies_people_df)) * 100\n",
    "print(\"Percentage of empty data in column 'genre1':\", empty_percent_genre)"
   ]
  },
  {
   "cell_type": "markdown",
   "id": "4c0303e7426c07ee",
   "metadata": {},
   "source": [
    "Here we can see that genre1 has less than 2% of '\\N' values (incorrectly inputted data). As we have done above we will replace these with the mode value of this column."
   ]
  },
  {
   "cell_type": "code",
   "execution_count": 51,
   "id": "19f05445ad666d3f",
   "metadata": {
    "ExecuteTime": {
     "end_time": "2024-03-28T00:50:11.240213Z",
     "start_time": "2024-03-28T00:50:11.142138Z"
    }
   },
   "outputs": [
    {
     "data": {
      "text/plain": [
       "Drama        475911\n",
       "Comedy       453898\n",
       "Action       389275\n",
       "Crime        150841\n",
       "Adventure    125185\n",
       "Name: genre1, dtype: int64"
      ]
     },
     "execution_count": 51,
     "metadata": {},
     "output_type": "execute_result"
    }
   ],
   "source": [
    "movies_people_df['genre1'].value_counts().head()"
   ]
  },
  {
   "cell_type": "code",
   "execution_count": 52,
   "id": "c9d388928dc998b1",
   "metadata": {
    "ExecuteTime": {
     "end_time": "2024-03-28T00:50:13.327357Z",
     "start_time": "2024-03-28T00:50:12.685404Z"
    }
   },
   "outputs": [],
   "source": [
    "movies_people_df['genre1'] = movies_people_df['genre1'].replace(['\\\\N'], movies_people_df['genre1'].mode()[0])"
   ]
  },
  {
   "cell_type": "markdown",
   "id": "9daf971e8f6f8cf7",
   "metadata": {},
   "source": [
    "Let's confirm that there are no more missing values in our 'genre1' column."
   ]
  },
  {
   "cell_type": "code",
   "execution_count": 53,
   "id": "b7dec286fe47e431",
   "metadata": {
    "ExecuteTime": {
     "end_time": "2024-03-28T00:50:16.537069Z",
     "start_time": "2024-03-28T00:50:16.447037Z"
    }
   },
   "outputs": [
    {
     "data": {
      "text/plain": [
       "0"
      ]
     },
     "execution_count": 53,
     "metadata": {},
     "output_type": "execute_result"
    }
   ],
   "source": [
    "count_N_values_2 = (movies_people_df['genre1'] == '\\\\N').sum()\n",
    "count_N_values_2"
   ]
  },
  {
   "cell_type": "markdown",
   "id": "6e238e9279e80e70",
   "metadata": {},
   "source": [
    "# Final Data Conversion"
   ]
  },
  {
   "cell_type": "markdown",
   "id": "afb8df06cb0863ef",
   "metadata": {},
   "source": [
    "Now that we have dealt with missing data and done some initial data conversion, we can now go ahead and convert columns that are stored as float/object type into integer type."
   ]
  },
  {
   "cell_type": "markdown",
   "id": "bb7a32ef9a8d9bd5",
   "metadata": {},
   "source": [
    "## Convert to Integer"
   ]
  },
  {
   "cell_type": "code",
   "execution_count": 54,
   "id": "2f48a35fac71bf0c",
   "metadata": {
    "ExecuteTime": {
     "end_time": "2024-03-28T00:50:28.254420Z",
     "start_time": "2024-03-28T00:50:20.273103Z"
    }
   },
   "outputs": [
    {
     "name": "stdout",
     "output_type": "stream",
     "text": [
      "The full dataset contains: 1904922 rows and 20 columns. Details for the requested column(s) are as follows:\n",
      "\n",
      "\u001b[1m tconst \u001b[0m: object : 191822 levels\n",
      "['tt0000003', 'tt0000007', 'tt0000008', 'tt0000009', 'tt0000012'] ...\n",
      "\n",
      "\u001b[1m titleType \u001b[0m: object : 10 levels\n",
      "['short', 'movie', 'tvMovie', 'tvSeries', 'tvMiniSeries', 'tvShort', 'tvSpecial'] ...\n",
      "\n",
      "\u001b[1m primaryTitle \u001b[0m: object : 171093 levels\n",
      "['Pauvre Pierrot', 'Corbett and Courtney Before the Kinetograph'] ...\n",
      "\n",
      "\u001b[1m startYear \u001b[0m: object : 133 levels\n",
      "['1892', '1894', '1896', '1895', '1897', '1898', '1899', '1900', '1901', '1902', '1903', '1904'] ...\n",
      "\n",
      "\u001b[1m endYear \u001b[0m: object : 80 levels\n",
      "[0, '1945', '1949', '1958', '1951', '1950', '1954', '1957', '1952', '1956', '1967', '1971'] ...\n",
      "\n",
      "\u001b[1m genre1 \u001b[0m: object : 28 levels\n",
      "['Animation', 'Short', 'Documentary', 'Romance', 'Comedy', 'News'] ...\n",
      "\n",
      "\u001b[1m genre2 \u001b[0m: object : 28 levels\n",
      "['Comedy', 'Sport', 'Short', None, 'News', 'Horror', 'Family', 'Fantasy', 'Crime'] ...\n",
      "\n",
      "\u001b[1m genre3 \u001b[0m: object : 27 levels\n",
      "['Romance', None, 'Sport', 'Short', 'Fantasy', 'Horror', 'Drama', 'Comedy'] ...\n",
      "\n",
      "\u001b[1m nconst \u001b[0m: object : 839960 levels\n",
      "['nm0721526', 'nm0183947', 'nm0653028', 'nm0063086', 'nm0085156'] ...\n",
      "\n",
      "\u001b[1m primaryName \u001b[0m: object : 795678 levels\n",
      "['Émile Reynaud', 'Peter Courtney', 'Fred Ott', 'Blanche Bayliss'] ...\n",
      "\n",
      "\u001b[1m birthYear \u001b[0m: object : 356 levels\n",
      "['1844', '1867', '1860', '1878', '1859', '1875', '1874', '1862', 0, '1881', '1864', '1854'] ...\n",
      "\n",
      "\u001b[1m deathYear \u001b[0m: object : 321 levels\n",
      "['1918', '1896', '1936', '1951', '1940', '1933', '1963', '1954', 0, '1948', '1921', '1941'] ...\n",
      "\n",
      "\u001b[1m primaryProfession \u001b[0m: object : 11506 levels\n",
      "['director,animation_department,producer'] ...\n",
      "\n",
      "\u001b[1m title1 \u001b[0m: object : 232585 levels\n",
      "['tt0000003', 'tt0000007', 'tt0285265', 'tt0000009', 'tt0020403'] ...\n",
      "\n",
      "\u001b[1m title2 \u001b[0m: object : 222794 levels\n",
      "['tt16763674', None, 'tt0000008', 'tt0021535', 'tt0791136'] ...\n",
      "\n",
      "\u001b[1m title3 \u001b[0m: object : 203487 levels\n",
      "['tt16763740', None, 'tt0240514', 'tt0020355', 'tt0000012'] ...\n",
      "\n",
      "\u001b[1m title4 \u001b[0m: object : 186555 levels\n",
      "['tt13125956', None, 'tt0000009', 'tt0221930', 'tt8485720'] ...\n",
      "\n",
      "\u001b[1m title5 \u001b[0m: object : 37 levels\n",
      "[None, 'tt0038146', 'tt0156217', 'tt0053628', 'tt0460681', 'tt0088559'] ...\n",
      "\n",
      "\u001b[1m title6 \u001b[0m: object : 3 levels\n",
      "[None, 'tt0252111', 'tt5994668'] \n",
      "\n",
      "\u001b[1m title7 \u001b[0m: object : 2 levels\n",
      "[None, 'tt1159931'] \n",
      "\n"
     ]
    }
   ],
   "source": [
    "col_info(movies_people_df.select_dtypes(include='object'))"
   ]
  },
  {
   "cell_type": "code",
   "execution_count": 55,
   "id": "91abcf5088b1b19e",
   "metadata": {
    "ExecuteTime": {
     "end_time": "2024-03-28T00:50:31.214891Z",
     "start_time": "2024-03-28T00:50:30.259669Z"
    }
   },
   "outputs": [
    {
     "data": {
      "text/html": [
       "<div>\n",
       "<style scoped>\n",
       "    .dataframe tbody tr th:only-of-type {\n",
       "        vertical-align: middle;\n",
       "    }\n",
       "\n",
       "    .dataframe tbody tr th {\n",
       "        vertical-align: top;\n",
       "    }\n",
       "\n",
       "    .dataframe thead th {\n",
       "        text-align: right;\n",
       "    }\n",
       "</style>\n",
       "<table border=\"1\" class=\"dataframe\">\n",
       "  <thead>\n",
       "    <tr style=\"text-align: right;\">\n",
       "      <th></th>\n",
       "      <th>startYear</th>\n",
       "      <th>endYear</th>\n",
       "      <th>birthYear</th>\n",
       "      <th>deathYear</th>\n",
       "    </tr>\n",
       "  </thead>\n",
       "  <tbody>\n",
       "    <tr>\n",
       "      <th>0</th>\n",
       "      <td>1892</td>\n",
       "      <td>0</td>\n",
       "      <td>1844</td>\n",
       "      <td>1918</td>\n",
       "    </tr>\n",
       "    <tr>\n",
       "      <th>1</th>\n",
       "      <td>1894</td>\n",
       "      <td>0</td>\n",
       "      <td>1867</td>\n",
       "      <td>1896</td>\n",
       "    </tr>\n",
       "    <tr>\n",
       "      <th>2</th>\n",
       "      <td>1894</td>\n",
       "      <td>0</td>\n",
       "      <td>1860</td>\n",
       "      <td>1936</td>\n",
       "    </tr>\n",
       "    <tr>\n",
       "      <th>3</th>\n",
       "      <td>1894</td>\n",
       "      <td>0</td>\n",
       "      <td>1878</td>\n",
       "      <td>1951</td>\n",
       "    </tr>\n",
       "    <tr>\n",
       "      <th>4</th>\n",
       "      <td>1894</td>\n",
       "      <td>0</td>\n",
       "      <td>1859</td>\n",
       "      <td>1940</td>\n",
       "    </tr>\n",
       "  </tbody>\n",
       "</table>\n",
       "</div>"
      ],
      "text/plain": [
       "  startYear endYear birthYear deathYear\n",
       "0      1892       0      1844      1918\n",
       "1      1894       0      1867      1896\n",
       "2      1894       0      1860      1936\n",
       "3      1894       0      1878      1951\n",
       "4      1894       0      1859      1940"
      ]
     },
     "execution_count": 55,
     "metadata": {},
     "output_type": "execute_result"
    }
   ],
   "source": [
    "movies_people_df[year_cols].head()"
   ]
  },
  {
   "cell_type": "code",
   "execution_count": 56,
   "id": "970c837bf56bd4ae",
   "metadata": {
    "ExecuteTime": {
     "end_time": "2024-03-28T00:50:34.602333Z",
     "start_time": "2024-03-28T00:50:32.618278Z"
    }
   },
   "outputs": [
    {
     "data": {
      "text/html": [
       "<div>\n",
       "<style scoped>\n",
       "    .dataframe tbody tr th:only-of-type {\n",
       "        vertical-align: middle;\n",
       "    }\n",
       "\n",
       "    .dataframe tbody tr th {\n",
       "        vertical-align: top;\n",
       "    }\n",
       "\n",
       "    .dataframe thead th {\n",
       "        text-align: right;\n",
       "    }\n",
       "</style>\n",
       "<table border=\"1\" class=\"dataframe\">\n",
       "  <thead>\n",
       "    <tr style=\"text-align: right;\">\n",
       "      <th></th>\n",
       "      <th>startYear</th>\n",
       "      <th>endYear</th>\n",
       "      <th>birthYear</th>\n",
       "      <th>deathYear</th>\n",
       "    </tr>\n",
       "  </thead>\n",
       "  <tbody>\n",
       "    <tr>\n",
       "      <th>0</th>\n",
       "      <td>1892</td>\n",
       "      <td>0</td>\n",
       "      <td>1844</td>\n",
       "      <td>1918</td>\n",
       "    </tr>\n",
       "    <tr>\n",
       "      <th>1</th>\n",
       "      <td>1894</td>\n",
       "      <td>0</td>\n",
       "      <td>1867</td>\n",
       "      <td>1896</td>\n",
       "    </tr>\n",
       "    <tr>\n",
       "      <th>2</th>\n",
       "      <td>1894</td>\n",
       "      <td>0</td>\n",
       "      <td>1860</td>\n",
       "      <td>1936</td>\n",
       "    </tr>\n",
       "    <tr>\n",
       "      <th>3</th>\n",
       "      <td>1894</td>\n",
       "      <td>0</td>\n",
       "      <td>1878</td>\n",
       "      <td>1951</td>\n",
       "    </tr>\n",
       "    <tr>\n",
       "      <th>4</th>\n",
       "      <td>1894</td>\n",
       "      <td>0</td>\n",
       "      <td>1859</td>\n",
       "      <td>1940</td>\n",
       "    </tr>\n",
       "  </tbody>\n",
       "</table>\n",
       "</div>"
      ],
      "text/plain": [
       "   startYear  endYear  birthYear  deathYear\n",
       "0       1892        0       1844       1918\n",
       "1       1894        0       1867       1896\n",
       "2       1894        0       1860       1936\n",
       "3       1894        0       1878       1951\n",
       "4       1894        0       1859       1940"
      ]
     },
     "execution_count": 56,
     "metadata": {},
     "output_type": "execute_result"
    }
   ],
   "source": [
    "movies_people_df[year_cols] = movies_people_df[year_cols].astype('int64')\n",
    "\n",
    "movies_people_df[year_cols].head()"
   ]
  },
  {
   "cell_type": "code",
   "execution_count": 57,
   "id": "cd7ad562725d2d35",
   "metadata": {
    "ExecuteTime": {
     "end_time": "2024-03-28T00:50:35.928142Z",
     "start_time": "2024-03-28T00:50:35.924421Z"
    }
   },
   "outputs": [
    {
     "name": "stdout",
     "output_type": "stream",
     "text": [
      "Column 'startYear' data type: int64\n",
      "Column 'endYear' data type: int64\n",
      "Column 'birthYear' data type: int64\n",
      "Column 'deathYear' data type: int64\n"
     ]
    }
   ],
   "source": [
    "for col in year_cols:\n",
    "    print(f\"Column '{col}' data type: {movies_people_df[col].dtype}\")"
   ]
  },
  {
   "cell_type": "markdown",
   "id": "c9843b6d26dc291e",
   "metadata": {},
   "source": [
    "# Rename Columns"
   ]
  },
  {
   "cell_type": "markdown",
   "id": "48758b88edd3a799",
   "metadata": {},
   "source": [
    "We can now rename all the columns to some meaningful names that can be understood right away without looking into the metadata of the data files for each of the individual datasets the columns came from. For example 'tconst' doesn't indicate what the column is about but 'media_id' does."
   ]
  },
  {
   "cell_type": "code",
   "execution_count": 58,
   "id": "a8b1959834e41e55",
   "metadata": {
    "ExecuteTime": {
     "end_time": "2024-03-28T00:50:38.543710Z",
     "start_time": "2024-03-28T00:50:38.540476Z"
    }
   },
   "outputs": [
    {
     "data": {
      "text/plain": [
       "Index(['tconst', 'titleType', 'primaryTitle', 'isAdult', 'startYear',\n",
       "       'endYear', 'genre1', 'genre2', 'genre3', 'startDecade', 'averageRating',\n",
       "       'numVotes', 'nconst', 'primaryName', 'birthYear', 'deathYear',\n",
       "       'primaryProfession', 'title1', 'title2', 'title3', 'title4', 'title5',\n",
       "       'title6', 'title7'],\n",
       "      dtype='object')"
      ]
     },
     "execution_count": 58,
     "metadata": {},
     "output_type": "execute_result"
    }
   ],
   "source": [
    "movies_people_df.columns"
   ]
  },
  {
   "cell_type": "code",
   "execution_count": 59,
   "id": "3cc2fb593a448085",
   "metadata": {
    "ExecuteTime": {
     "end_time": "2024-03-28T00:50:39.548740Z",
     "start_time": "2024-03-28T00:50:39.544729Z"
    }
   },
   "outputs": [],
   "source": [
    "rename_dict = {\n",
    "    'tconst': 'Media ID',\n",
    "    'titleType': 'Media Type',\n",
    "    'primaryTitle': 'Title',\n",
    "    'isAdult': 'Is an Adult',\n",
    "    'startYear': 'Start Year',\n",
    "    'endYear': 'End Year',\n",
    "    'genre1': 'Genre 1',\n",
    "    'genre2': 'Genre 2',\n",
    "    'genre3': 'Genre 3',\n",
    "    'startDecade': 'Start Decade',\n",
    "    'averageRating': 'Rating',\n",
    "    'numVotes': 'Number of Votes',\n",
    "    'nconst': 'Person ID',\n",
    "    'primaryName': 'Person Name',\n",
    "    'birthYear': 'Birth Year',\n",
    "    'deathYear': 'Death Year',\n",
    "    'primaryProfession': 'Profession',\n",
    "    'title1': 'Media ID 1',\n",
    "    'title2': 'Media ID 2',\n",
    "    'title3': 'Media ID 3',\n",
    "    'title4': 'Media ID 4',\n",
    "    'title5': 'Media ID 5',\n",
    "    'title6': 'Media ID 6',\n",
    "    'title7': 'Media ID 7'\n",
    "}"
   ]
  },
  {
   "cell_type": "code",
   "execution_count": 60,
   "id": "feee2e6cb51addde",
   "metadata": {
    "ExecuteTime": {
     "end_time": "2024-03-28T00:50:40.748640Z",
     "start_time": "2024-03-28T00:50:40.745775Z"
    }
   },
   "outputs": [],
   "source": [
    "movies_people_df.rename(rename_dict, axis=1, inplace=True)"
   ]
  },
  {
   "cell_type": "code",
   "execution_count": 61,
   "id": "d853b3d9c5414d80",
   "metadata": {
    "ExecuteTime": {
     "end_time": "2024-03-28T00:50:43.708289Z",
     "start_time": "2024-03-28T00:50:42.216301Z"
    }
   },
   "outputs": [
    {
     "data": {
      "text/html": [
       "<div>\n",
       "<style scoped>\n",
       "    .dataframe tbody tr th:only-of-type {\n",
       "        vertical-align: middle;\n",
       "    }\n",
       "\n",
       "    .dataframe tbody tr th {\n",
       "        vertical-align: top;\n",
       "    }\n",
       "\n",
       "    .dataframe thead th {\n",
       "        text-align: right;\n",
       "    }\n",
       "</style>\n",
       "<table border=\"1\" class=\"dataframe\">\n",
       "  <thead>\n",
       "    <tr style=\"text-align: right;\">\n",
       "      <th></th>\n",
       "      <th>Media ID</th>\n",
       "      <th>Media Type</th>\n",
       "      <th>Title</th>\n",
       "      <th>Is an Adult</th>\n",
       "      <th>Start Year</th>\n",
       "      <th>End Year</th>\n",
       "      <th>Genre 1</th>\n",
       "      <th>Genre 2</th>\n",
       "      <th>Genre 3</th>\n",
       "      <th>Start Decade</th>\n",
       "      <th>Rating</th>\n",
       "      <th>Number of Votes</th>\n",
       "      <th>Person ID</th>\n",
       "      <th>Person Name</th>\n",
       "      <th>Birth Year</th>\n",
       "      <th>Death Year</th>\n",
       "      <th>Profession</th>\n",
       "      <th>Media ID 1</th>\n",
       "      <th>Media ID 2</th>\n",
       "      <th>Media ID 3</th>\n",
       "      <th>Media ID 4</th>\n",
       "      <th>Media ID 5</th>\n",
       "      <th>Media ID 6</th>\n",
       "      <th>Media ID 7</th>\n",
       "    </tr>\n",
       "  </thead>\n",
       "  <tbody>\n",
       "    <tr>\n",
       "      <th>0</th>\n",
       "      <td>tt0000003</td>\n",
       "      <td>short</td>\n",
       "      <td>Pauvre Pierrot</td>\n",
       "      <td>0</td>\n",
       "      <td>1892</td>\n",
       "      <td>0</td>\n",
       "      <td>Animation</td>\n",
       "      <td>Comedy</td>\n",
       "      <td>Romance</td>\n",
       "      <td>1892</td>\n",
       "      <td>6.5</td>\n",
       "      <td>1973</td>\n",
       "      <td>nm0721526</td>\n",
       "      <td>Émile Reynaud</td>\n",
       "      <td>1844</td>\n",
       "      <td>1918</td>\n",
       "      <td>director,animation_department,producer</td>\n",
       "      <td>tt0000003</td>\n",
       "      <td>tt16763674</td>\n",
       "      <td>tt16763740</td>\n",
       "      <td>tt13125956</td>\n",
       "      <td>None</td>\n",
       "      <td>None</td>\n",
       "      <td>None</td>\n",
       "    </tr>\n",
       "    <tr>\n",
       "      <th>1</th>\n",
       "      <td>tt0000007</td>\n",
       "      <td>short</td>\n",
       "      <td>Corbett and Courtney Before the Kinetograph</td>\n",
       "      <td>0</td>\n",
       "      <td>1894</td>\n",
       "      <td>0</td>\n",
       "      <td>Short</td>\n",
       "      <td>Sport</td>\n",
       "      <td>None</td>\n",
       "      <td>1894</td>\n",
       "      <td>5.4</td>\n",
       "      <td>848</td>\n",
       "      <td>nm0183947</td>\n",
       "      <td>Peter Courtney</td>\n",
       "      <td>1867</td>\n",
       "      <td>1896</td>\n",
       "      <td>actor</td>\n",
       "      <td>tt0000007</td>\n",
       "      <td>None</td>\n",
       "      <td>None</td>\n",
       "      <td>None</td>\n",
       "      <td>None</td>\n",
       "      <td>None</td>\n",
       "      <td>None</td>\n",
       "    </tr>\n",
       "    <tr>\n",
       "      <th>2</th>\n",
       "      <td>tt0000008</td>\n",
       "      <td>short</td>\n",
       "      <td>Edison Kinetoscopic Record of a Sneeze</td>\n",
       "      <td>0</td>\n",
       "      <td>1894</td>\n",
       "      <td>0</td>\n",
       "      <td>Documentary</td>\n",
       "      <td>Short</td>\n",
       "      <td>None</td>\n",
       "      <td>1894</td>\n",
       "      <td>5.4</td>\n",
       "      <td>2175</td>\n",
       "      <td>nm0653028</td>\n",
       "      <td>Fred Ott</td>\n",
       "      <td>1860</td>\n",
       "      <td>1936</td>\n",
       "      <td>assistant_director</td>\n",
       "      <td>tt0285265</td>\n",
       "      <td>tt0000008</td>\n",
       "      <td>tt0240514</td>\n",
       "      <td>None</td>\n",
       "      <td>None</td>\n",
       "      <td>None</td>\n",
       "      <td>None</td>\n",
       "    </tr>\n",
       "    <tr>\n",
       "      <th>3</th>\n",
       "      <td>tt0000009</td>\n",
       "      <td>movie</td>\n",
       "      <td>Miss Jerry</td>\n",
       "      <td>0</td>\n",
       "      <td>1894</td>\n",
       "      <td>0</td>\n",
       "      <td>Romance</td>\n",
       "      <td>None</td>\n",
       "      <td>None</td>\n",
       "      <td>1894</td>\n",
       "      <td>5.3</td>\n",
       "      <td>208</td>\n",
       "      <td>nm0063086</td>\n",
       "      <td>Blanche Bayliss</td>\n",
       "      <td>1878</td>\n",
       "      <td>1951</td>\n",
       "      <td>actress</td>\n",
       "      <td>tt0000009</td>\n",
       "      <td>None</td>\n",
       "      <td>None</td>\n",
       "      <td>None</td>\n",
       "      <td>None</td>\n",
       "      <td>None</td>\n",
       "      <td>None</td>\n",
       "    </tr>\n",
       "    <tr>\n",
       "      <th>4</th>\n",
       "      <td>tt0000009</td>\n",
       "      <td>movie</td>\n",
       "      <td>Miss Jerry</td>\n",
       "      <td>0</td>\n",
       "      <td>1894</td>\n",
       "      <td>0</td>\n",
       "      <td>Romance</td>\n",
       "      <td>None</td>\n",
       "      <td>None</td>\n",
       "      <td>1894</td>\n",
       "      <td>5.3</td>\n",
       "      <td>208</td>\n",
       "      <td>nm0085156</td>\n",
       "      <td>Alexander Black</td>\n",
       "      <td>1859</td>\n",
       "      <td>1940</td>\n",
       "      <td>director,writer,cinematographer</td>\n",
       "      <td>tt0000009</td>\n",
       "      <td>None</td>\n",
       "      <td>None</td>\n",
       "      <td>None</td>\n",
       "      <td>None</td>\n",
       "      <td>None</td>\n",
       "      <td>None</td>\n",
       "    </tr>\n",
       "    <tr>\n",
       "      <th>...</th>\n",
       "      <td>...</td>\n",
       "      <td>...</td>\n",
       "      <td>...</td>\n",
       "      <td>...</td>\n",
       "      <td>...</td>\n",
       "      <td>...</td>\n",
       "      <td>...</td>\n",
       "      <td>...</td>\n",
       "      <td>...</td>\n",
       "      <td>...</td>\n",
       "      <td>...</td>\n",
       "      <td>...</td>\n",
       "      <td>...</td>\n",
       "      <td>...</td>\n",
       "      <td>...</td>\n",
       "      <td>...</td>\n",
       "      <td>...</td>\n",
       "      <td>...</td>\n",
       "      <td>...</td>\n",
       "      <td>...</td>\n",
       "      <td>...</td>\n",
       "      <td>...</td>\n",
       "      <td>...</td>\n",
       "      <td>...</td>\n",
       "    </tr>\n",
       "    <tr>\n",
       "      <th>1904917</th>\n",
       "      <td>tt10145122</td>\n",
       "      <td>movie</td>\n",
       "      <td>The Perfect Secret</td>\n",
       "      <td>0</td>\n",
       "      <td>2019</td>\n",
       "      <td>0</td>\n",
       "      <td>Comedy</td>\n",
       "      <td>Drama</td>\n",
       "      <td>Romance</td>\n",
       "      <td>2019</td>\n",
       "      <td>6.6</td>\n",
       "      <td>7056</td>\n",
       "      <td>nm0737467</td>\n",
       "      <td>Daniela Schwartz</td>\n",
       "      <td>1973</td>\n",
       "      <td>0</td>\n",
       "      <td>art_department,miscellaneous</td>\n",
       "      <td>tt10145122</td>\n",
       "      <td>tt0388858</td>\n",
       "      <td>tt0806910</td>\n",
       "      <td>tt5698320</td>\n",
       "      <td>None</td>\n",
       "      <td>None</td>\n",
       "      <td>None</td>\n",
       "    </tr>\n",
       "    <tr>\n",
       "      <th>1904918</th>\n",
       "      <td>tt10145122</td>\n",
       "      <td>movie</td>\n",
       "      <td>The Perfect Secret</td>\n",
       "      <td>0</td>\n",
       "      <td>2019</td>\n",
       "      <td>0</td>\n",
       "      <td>Comedy</td>\n",
       "      <td>Drama</td>\n",
       "      <td>Romance</td>\n",
       "      <td>2019</td>\n",
       "      <td>6.6</td>\n",
       "      <td>7056</td>\n",
       "      <td>nm0770547</td>\n",
       "      <td>Stephan Scheibengraber</td>\n",
       "      <td>1967</td>\n",
       "      <td>0</td>\n",
       "      <td>camera_department</td>\n",
       "      <td>tt0114019</td>\n",
       "      <td>tt10145122</td>\n",
       "      <td>tt0117788</td>\n",
       "      <td>tt0139429</td>\n",
       "      <td>None</td>\n",
       "      <td>None</td>\n",
       "      <td>None</td>\n",
       "    </tr>\n",
       "    <tr>\n",
       "      <th>1904919</th>\n",
       "      <td>tt10145122</td>\n",
       "      <td>movie</td>\n",
       "      <td>The Perfect Secret</td>\n",
       "      <td>0</td>\n",
       "      <td>2019</td>\n",
       "      <td>0</td>\n",
       "      <td>Comedy</td>\n",
       "      <td>Drama</td>\n",
       "      <td>Romance</td>\n",
       "      <td>2019</td>\n",
       "      <td>6.6</td>\n",
       "      <td>7056</td>\n",
       "      <td>nm0777416</td>\n",
       "      <td>Roman Schwartz</td>\n",
       "      <td>0</td>\n",
       "      <td>0</td>\n",
       "      <td>sound_department,composer</td>\n",
       "      <td>tt10145122</td>\n",
       "      <td>tt5651338</td>\n",
       "      <td>tt0367181</td>\n",
       "      <td>tt0100240</td>\n",
       "      <td>None</td>\n",
       "      <td>None</td>\n",
       "      <td>None</td>\n",
       "    </tr>\n",
       "    <tr>\n",
       "      <th>1904920</th>\n",
       "      <td>tt10145122</td>\n",
       "      <td>movie</td>\n",
       "      <td>The Perfect Secret</td>\n",
       "      <td>0</td>\n",
       "      <td>2019</td>\n",
       "      <td>0</td>\n",
       "      <td>Comedy</td>\n",
       "      <td>Drama</td>\n",
       "      <td>Romance</td>\n",
       "      <td>2019</td>\n",
       "      <td>6.6</td>\n",
       "      <td>7056</td>\n",
       "      <td>nm0872339</td>\n",
       "      <td>Till Treutler</td>\n",
       "      <td>0</td>\n",
       "      <td>0</td>\n",
       "      <td>camera_department,set_decorator,miscellaneous</td>\n",
       "      <td>tt2088003</td>\n",
       "      <td>tt1704142</td>\n",
       "      <td>tt0119331</td>\n",
       "      <td>tt10145122</td>\n",
       "      <td>None</td>\n",
       "      <td>None</td>\n",
       "      <td>None</td>\n",
       "    </tr>\n",
       "    <tr>\n",
       "      <th>1904921</th>\n",
       "      <td>tt10145122</td>\n",
       "      <td>movie</td>\n",
       "      <td>The Perfect Secret</td>\n",
       "      <td>0</td>\n",
       "      <td>2019</td>\n",
       "      <td>0</td>\n",
       "      <td>Comedy</td>\n",
       "      <td>Drama</td>\n",
       "      <td>Romance</td>\n",
       "      <td>2019</td>\n",
       "      <td>6.6</td>\n",
       "      <td>7056</td>\n",
       "      <td>nm10064534</td>\n",
       "      <td>Michael Basche</td>\n",
       "      <td>0</td>\n",
       "      <td>0</td>\n",
       "      <td>camera_department,cinematographer</td>\n",
       "      <td>tt6902676</td>\n",
       "      <td>tt10145122</td>\n",
       "      <td>tt17495410</td>\n",
       "      <td>tt9185162</td>\n",
       "      <td>None</td>\n",
       "      <td>None</td>\n",
       "      <td>None</td>\n",
       "    </tr>\n",
       "  </tbody>\n",
       "</table>\n",
       "<p>1904922 rows × 24 columns</p>\n",
       "</div>"
      ],
      "text/plain": [
       "           Media ID Media Type                                        Title  \\\n",
       "0         tt0000003      short                               Pauvre Pierrot   \n",
       "1         tt0000007      short  Corbett and Courtney Before the Kinetograph   \n",
       "2         tt0000008      short       Edison Kinetoscopic Record of a Sneeze   \n",
       "3         tt0000009      movie                                   Miss Jerry   \n",
       "4         tt0000009      movie                                   Miss Jerry   \n",
       "...             ...        ...                                          ...   \n",
       "1904917  tt10145122      movie                           The Perfect Secret   \n",
       "1904918  tt10145122      movie                           The Perfect Secret   \n",
       "1904919  tt10145122      movie                           The Perfect Secret   \n",
       "1904920  tt10145122      movie                           The Perfect Secret   \n",
       "1904921  tt10145122      movie                           The Perfect Secret   \n",
       "\n",
       "         Is an Adult  Start Year  End Year      Genre 1 Genre 2  Genre 3  \\\n",
       "0                  0        1892         0    Animation  Comedy  Romance   \n",
       "1                  0        1894         0        Short   Sport     None   \n",
       "2                  0        1894         0  Documentary   Short     None   \n",
       "3                  0        1894         0      Romance    None     None   \n",
       "4                  0        1894         0      Romance    None     None   \n",
       "...              ...         ...       ...          ...     ...      ...   \n",
       "1904917            0        2019         0       Comedy   Drama  Romance   \n",
       "1904918            0        2019         0       Comedy   Drama  Romance   \n",
       "1904919            0        2019         0       Comedy   Drama  Romance   \n",
       "1904920            0        2019         0       Comedy   Drama  Romance   \n",
       "1904921            0        2019         0       Comedy   Drama  Romance   \n",
       "\n",
       "         Start Decade  Rating  Number of Votes   Person ID  \\\n",
       "0                1892     6.5             1973   nm0721526   \n",
       "1                1894     5.4              848   nm0183947   \n",
       "2                1894     5.4             2175   nm0653028   \n",
       "3                1894     5.3              208   nm0063086   \n",
       "4                1894     5.3              208   nm0085156   \n",
       "...               ...     ...              ...         ...   \n",
       "1904917          2019     6.6             7056   nm0737467   \n",
       "1904918          2019     6.6             7056   nm0770547   \n",
       "1904919          2019     6.6             7056   nm0777416   \n",
       "1904920          2019     6.6             7056   nm0872339   \n",
       "1904921          2019     6.6             7056  nm10064534   \n",
       "\n",
       "                    Person Name  Birth Year  Death Year  \\\n",
       "0                 Émile Reynaud        1844        1918   \n",
       "1                Peter Courtney        1867        1896   \n",
       "2                      Fred Ott        1860        1936   \n",
       "3               Blanche Bayliss        1878        1951   \n",
       "4               Alexander Black        1859        1940   \n",
       "...                         ...         ...         ...   \n",
       "1904917        Daniela Schwartz        1973           0   \n",
       "1904918  Stephan Scheibengraber        1967           0   \n",
       "1904919          Roman Schwartz           0           0   \n",
       "1904920           Till Treutler           0           0   \n",
       "1904921          Michael Basche           0           0   \n",
       "\n",
       "                                            Profession  Media ID 1  \\\n",
       "0               director,animation_department,producer   tt0000003   \n",
       "1                                                actor   tt0000007   \n",
       "2                                   assistant_director   tt0285265   \n",
       "3                                              actress   tt0000009   \n",
       "4                      director,writer,cinematographer   tt0000009   \n",
       "...                                                ...         ...   \n",
       "1904917                   art_department,miscellaneous  tt10145122   \n",
       "1904918                              camera_department   tt0114019   \n",
       "1904919                      sound_department,composer  tt10145122   \n",
       "1904920  camera_department,set_decorator,miscellaneous   tt2088003   \n",
       "1904921              camera_department,cinematographer   tt6902676   \n",
       "\n",
       "         Media ID 2  Media ID 3  Media ID 4 Media ID 5 Media ID 6 Media ID 7  \n",
       "0        tt16763674  tt16763740  tt13125956       None       None       None  \n",
       "1              None        None        None       None       None       None  \n",
       "2         tt0000008   tt0240514        None       None       None       None  \n",
       "3              None        None        None       None       None       None  \n",
       "4              None        None        None       None       None       None  \n",
       "...             ...         ...         ...        ...        ...        ...  \n",
       "1904917   tt0388858   tt0806910   tt5698320       None       None       None  \n",
       "1904918  tt10145122   tt0117788   tt0139429       None       None       None  \n",
       "1904919   tt5651338   tt0367181   tt0100240       None       None       None  \n",
       "1904920   tt1704142   tt0119331  tt10145122       None       None       None  \n",
       "1904921  tt10145122  tt17495410   tt9185162       None       None       None  \n",
       "\n",
       "[1904922 rows x 24 columns]"
      ]
     },
     "execution_count": 61,
     "metadata": {},
     "output_type": "execute_result"
    }
   ],
   "source": [
    "pd.set_option('display.max_columns', None)\n",
    "movies_people_df"
   ]
  },
  {
   "cell_type": "markdown",
   "id": "1751b58f",
   "metadata": {},
   "source": [
    "## Top 10 rated movies (based on ratings then # of votes)"
   ]
  },
  {
   "cell_type": "code",
   "execution_count": 62,
   "id": "fdbe9a7dec03b1ab",
   "metadata": {
    "ExecuteTime": {
     "end_time": "2024-03-28T00:28:44.845068Z",
     "start_time": "2024-03-28T00:28:44.654186Z"
    }
   },
   "outputs": [
    {
     "ename": "KeyError",
     "evalue": "Index(['tconst'], dtype='object')",
     "output_type": "error",
     "traceback": [
      "\u001b[1;31m---------------------------------------------------------------------------\u001b[0m",
      "\u001b[1;31mKeyError\u001b[0m                                  Traceback (most recent call last)",
      "Cell \u001b[1;32mIn[62], line 1\u001b[0m\n\u001b[1;32m----> 1\u001b[0m unique_movies_people_df \u001b[38;5;241m=\u001b[39m movies_people_df\u001b[38;5;241m.\u001b[39mdrop_duplicates(subset\u001b[38;5;241m=\u001b[39m[\u001b[38;5;124m'\u001b[39m\u001b[38;5;124mtconst\u001b[39m\u001b[38;5;124m'\u001b[39m])\n\u001b[0;32m      3\u001b[0m sorted_movies_df \u001b[38;5;241m=\u001b[39m unique_movies_people_df[unique_movies_people_df[\u001b[38;5;124m'\u001b[39m\u001b[38;5;124mMedia Type\u001b[39m\u001b[38;5;124m'\u001b[39m] \u001b[38;5;241m==\u001b[39m \u001b[38;5;124m'\u001b[39m\u001b[38;5;124mmovie\u001b[39m\u001b[38;5;124m'\u001b[39m]\u001b[38;5;241m.\u001b[39msort_values(\n\u001b[0;32m      4\u001b[0m     by\u001b[38;5;241m=\u001b[39m[\u001b[38;5;124m'\u001b[39m\u001b[38;5;124mRating\u001b[39m\u001b[38;5;124m'\u001b[39m, \u001b[38;5;124m'\u001b[39m\u001b[38;5;124mNumber of Votes\u001b[39m\u001b[38;5;124m'\u001b[39m], ascending\u001b[38;5;241m=\u001b[39m[\u001b[38;5;28;01mFalse\u001b[39;00m, \u001b[38;5;28;01mFalse\u001b[39;00m])\n\u001b[0;32m      6\u001b[0m top_10_movies \u001b[38;5;241m=\u001b[39m sorted_movies_df\u001b[38;5;241m.\u001b[39mhead(\u001b[38;5;241m10\u001b[39m)\n",
      "File \u001b[1;32m~\\anaconda3\\Lib\\site-packages\\pandas\\util\\_decorators.py:331\u001b[0m, in \u001b[0;36mdeprecate_nonkeyword_arguments.<locals>.decorate.<locals>.wrapper\u001b[1;34m(*args, **kwargs)\u001b[0m\n\u001b[0;32m    325\u001b[0m \u001b[38;5;28;01mif\u001b[39;00m \u001b[38;5;28mlen\u001b[39m(args) \u001b[38;5;241m>\u001b[39m num_allow_args:\n\u001b[0;32m    326\u001b[0m     warnings\u001b[38;5;241m.\u001b[39mwarn(\n\u001b[0;32m    327\u001b[0m         msg\u001b[38;5;241m.\u001b[39mformat(arguments\u001b[38;5;241m=\u001b[39m_format_argument_list(allow_args)),\n\u001b[0;32m    328\u001b[0m         \u001b[38;5;167;01mFutureWarning\u001b[39;00m,\n\u001b[0;32m    329\u001b[0m         stacklevel\u001b[38;5;241m=\u001b[39mfind_stack_level(),\n\u001b[0;32m    330\u001b[0m     )\n\u001b[1;32m--> 331\u001b[0m \u001b[38;5;28;01mreturn\u001b[39;00m func(\u001b[38;5;241m*\u001b[39margs, \u001b[38;5;241m*\u001b[39m\u001b[38;5;241m*\u001b[39mkwargs)\n",
      "File \u001b[1;32m~\\anaconda3\\Lib\\site-packages\\pandas\\core\\frame.py:6672\u001b[0m, in \u001b[0;36mDataFrame.drop_duplicates\u001b[1;34m(self, subset, keep, inplace, ignore_index)\u001b[0m\n\u001b[0;32m   6670\u001b[0m inplace \u001b[38;5;241m=\u001b[39m validate_bool_kwarg(inplace, \u001b[38;5;124m\"\u001b[39m\u001b[38;5;124minplace\u001b[39m\u001b[38;5;124m\"\u001b[39m)\n\u001b[0;32m   6671\u001b[0m ignore_index \u001b[38;5;241m=\u001b[39m validate_bool_kwarg(ignore_index, \u001b[38;5;124m\"\u001b[39m\u001b[38;5;124mignore_index\u001b[39m\u001b[38;5;124m\"\u001b[39m)\n\u001b[1;32m-> 6672\u001b[0m duplicated \u001b[38;5;241m=\u001b[39m \u001b[38;5;28mself\u001b[39m\u001b[38;5;241m.\u001b[39mduplicated(subset, keep\u001b[38;5;241m=\u001b[39mkeep)\n\u001b[0;32m   6674\u001b[0m result \u001b[38;5;241m=\u001b[39m \u001b[38;5;28mself\u001b[39m[\u001b[38;5;241m-\u001b[39mduplicated]\n\u001b[0;32m   6675\u001b[0m \u001b[38;5;28;01mif\u001b[39;00m ignore_index:\n",
      "File \u001b[1;32m~\\anaconda3\\Lib\\site-packages\\pandas\\core\\frame.py:6806\u001b[0m, in \u001b[0;36mDataFrame.duplicated\u001b[1;34m(self, subset, keep)\u001b[0m\n\u001b[0;32m   6804\u001b[0m diff \u001b[38;5;241m=\u001b[39m \u001b[38;5;28mset\u001b[39m(subset) \u001b[38;5;241m-\u001b[39m \u001b[38;5;28mset\u001b[39m(\u001b[38;5;28mself\u001b[39m\u001b[38;5;241m.\u001b[39mcolumns)\n\u001b[0;32m   6805\u001b[0m \u001b[38;5;28;01mif\u001b[39;00m diff:\n\u001b[1;32m-> 6806\u001b[0m     \u001b[38;5;28;01mraise\u001b[39;00m \u001b[38;5;167;01mKeyError\u001b[39;00m(Index(diff))\n\u001b[0;32m   6808\u001b[0m \u001b[38;5;28;01mif\u001b[39;00m \u001b[38;5;28mlen\u001b[39m(subset) \u001b[38;5;241m==\u001b[39m \u001b[38;5;241m1\u001b[39m \u001b[38;5;129;01mand\u001b[39;00m \u001b[38;5;28mself\u001b[39m\u001b[38;5;241m.\u001b[39mcolumns\u001b[38;5;241m.\u001b[39mis_unique:\n\u001b[0;32m   6809\u001b[0m     \u001b[38;5;66;03m# GH#45236 This is faster than get_group_index below\u001b[39;00m\n\u001b[0;32m   6810\u001b[0m     result \u001b[38;5;241m=\u001b[39m \u001b[38;5;28mself\u001b[39m[subset[\u001b[38;5;241m0\u001b[39m]]\u001b[38;5;241m.\u001b[39mduplicated(keep)\n",
      "\u001b[1;31mKeyError\u001b[0m: Index(['tconst'], dtype='object')"
     ]
    }
   ],
   "source": [
    "unique_movies_people_df = movies_people_df.drop_duplicates(subset=['tconst'])\n",
    "\n",
    "sorted_movies_df = unique_movies_people_df[unique_movies_people_df['Media Type'] == 'movie'].sort_values(\n",
    "    by=['Rating', 'Number of Votes'], ascending=[False, False])\n",
    "\n",
    "top_10_movies = sorted_movies_df.head(10)\n",
    "\n",
    "top_10_movies"
   ]
  },
  {
   "cell_type": "markdown",
   "id": "f768ff62",
   "metadata": {},
   "source": [
    "## Top 10 actors (by most movies with highest ratings)"
   ]
  },
  {
   "cell_type": "code",
   "execution_count": 63,
   "id": "8ab6acaf3257ab4a",
   "metadata": {
    "ExecuteTime": {
     "end_time": "2024-03-28T00:28:48.769180Z",
     "start_time": "2024-03-28T00:28:44.846070Z"
    }
   },
   "outputs": [
    {
     "ename": "NameError",
     "evalue": "name 'sorted_movies_df' is not defined",
     "output_type": "error",
     "traceback": [
      "\u001b[1;31m---------------------------------------------------------------------------\u001b[0m",
      "\u001b[1;31mNameError\u001b[0m                                 Traceback (most recent call last)",
      "Cell \u001b[1;32mIn[63], line 3\u001b[0m\n\u001b[0;32m      1\u001b[0m unique_actors \u001b[38;5;241m=\u001b[39m \u001b[38;5;28mset\u001b[39m()\n\u001b[1;32m----> 3\u001b[0m \u001b[38;5;28;01mfor\u001b[39;00m index, row \u001b[38;5;129;01min\u001b[39;00m sorted_movies_df\u001b[38;5;241m.\u001b[39miterrows():\n\u001b[0;32m      4\u001b[0m     \u001b[38;5;28;01mif\u001b[39;00m \u001b[38;5;124m'\u001b[39m\u001b[38;5;124mactor\u001b[39m\u001b[38;5;124m'\u001b[39m \u001b[38;5;129;01min\u001b[39;00m row[\u001b[38;5;124m'\u001b[39m\u001b[38;5;124mProfession\u001b[39m\u001b[38;5;124m'\u001b[39m]:\n\u001b[0;32m      5\u001b[0m         unique_actors\u001b[38;5;241m.\u001b[39mupdate(row[\u001b[38;5;124m'\u001b[39m\u001b[38;5;124mPerson ID\u001b[39m\u001b[38;5;124m'\u001b[39m]\u001b[38;5;241m.\u001b[39msplit(\u001b[38;5;124m'\u001b[39m\u001b[38;5;124m,\u001b[39m\u001b[38;5;124m'\u001b[39m))\n",
      "\u001b[1;31mNameError\u001b[0m: name 'sorted_movies_df' is not defined"
     ]
    }
   ],
   "source": [
    "unique_actors = set()\n",
    "\n",
    "for index, row in sorted_movies_df.iterrows():\n",
    "    if 'actor' in row['Profession']:\n",
    "        unique_actors.update(row['Person ID'].split(','))\n",
    "\n",
    "top_10_actors = list(unique_actors)[:10]\n",
    "\n",
    "unique_movies_people_df[unique_movies_people_df['Person ID'].isin(top_10_actors)][:10]"
   ]
  },
  {
   "cell_type": "markdown",
   "id": "00a31214",
   "metadata": {},
   "source": [
    "## Top 10 movies by decades"
   ]
  },
  {
   "cell_type": "code",
   "execution_count": 64,
   "id": "9ac1da102f121ee1",
   "metadata": {
    "ExecuteTime": {
     "end_time": "2024-03-28T00:28:49.214618Z",
     "start_time": "2024-03-28T00:28:48.769180Z"
    },
    "scrolled": true
   },
   "outputs": [
    {
     "ename": "NameError",
     "evalue": "name 'unique_movies_people_df' is not defined",
     "output_type": "error",
     "traceback": [
      "\u001b[1;31m---------------------------------------------------------------------------\u001b[0m",
      "\u001b[1;31mNameError\u001b[0m                                 Traceback (most recent call last)",
      "Cell \u001b[1;32mIn[64], line 1\u001b[0m\n\u001b[1;32m----> 1\u001b[0m decade_df \u001b[38;5;241m=\u001b[39m unique_movies_people_df[unique_movies_people_df[\u001b[38;5;124m'\u001b[39m\u001b[38;5;124mStart Decade\u001b[39m\u001b[38;5;124m'\u001b[39m] \u001b[38;5;241m!=\u001b[39m \u001b[38;5;241m0\u001b[39m]\n\u001b[0;32m      3\u001b[0m decade_df[\u001b[38;5;124m'\u001b[39m\u001b[38;5;124mDecade\u001b[39m\u001b[38;5;124m'\u001b[39m] \u001b[38;5;241m=\u001b[39m (decade_df[\u001b[38;5;124m'\u001b[39m\u001b[38;5;124mStart Decade\u001b[39m\u001b[38;5;124m'\u001b[39m] \u001b[38;5;241m/\u001b[39m\u001b[38;5;241m/\u001b[39m \u001b[38;5;241m10\u001b[39m) \u001b[38;5;241m*\u001b[39m \u001b[38;5;241m10\u001b[39m\n\u001b[0;32m      5\u001b[0m grouped_by_decade \u001b[38;5;241m=\u001b[39m decade_df\u001b[38;5;241m.\u001b[39mgroupby(\u001b[38;5;124m'\u001b[39m\u001b[38;5;124mDecade\u001b[39m\u001b[38;5;124m'\u001b[39m)\n",
      "\u001b[1;31mNameError\u001b[0m: name 'unique_movies_people_df' is not defined"
     ]
    }
   ],
   "source": [
    "decade_df = unique_movies_people_df[unique_movies_people_df['Start Decade'] != 0]\n",
    "\n",
    "decade_df['Decade'] = (decade_df['Start Decade'] // 10) * 10\n",
    "\n",
    "grouped_by_decade = decade_df.groupby('Decade')\n",
    "\n",
    "top_movies_by_decade = pd.DataFrame()\n",
    "\n",
    "for decade, group_df in grouped_by_decade:\n",
    "    top_movies_of_decade = group_df[group_df['Media Type'] == 'movie'].sort_values(by=['Rating', 'Number of Votes'],\n",
    "                                                                                   ascending=[False, False]).head(10)\n",
    "    top_movies_by_decade = pd.concat([top_movies_by_decade, top_movies_of_decade])\n",
    "\n",
    "top_movies_by_decade = top_movies_by_decade.reset_index(drop=True)\n",
    "\n",
    "top_movies_by_decade"
   ]
  },
  {
   "cell_type": "markdown",
   "id": "fba8e6bd",
   "metadata": {},
   "source": [
    "## Top genres overall and by decades"
   ]
  },
  {
   "cell_type": "code",
   "execution_count": 65,
   "id": "963ceff185b97a32",
   "metadata": {
    "ExecuteTime": {
     "end_time": "2024-03-28T00:28:49.423950Z",
     "start_time": "2024-03-28T00:28:49.215610Z"
    }
   },
   "outputs": [
    {
     "ename": "NameError",
     "evalue": "name 'grouped_by_decade' is not defined",
     "output_type": "error",
     "traceback": [
      "\u001b[1;31m---------------------------------------------------------------------------\u001b[0m",
      "\u001b[1;31mNameError\u001b[0m                                 Traceback (most recent call last)",
      "Cell \u001b[1;32mIn[65], line 3\u001b[0m\n\u001b[0;32m      1\u001b[0m top_genre_by_decade \u001b[38;5;241m=\u001b[39m pd\u001b[38;5;241m.\u001b[39mDataFrame()\n\u001b[1;32m----> 3\u001b[0m \u001b[38;5;28;01mfor\u001b[39;00m decade, group_df \u001b[38;5;129;01min\u001b[39;00m grouped_by_decade:\n\u001b[0;32m      4\u001b[0m     genre_counts \u001b[38;5;241m=\u001b[39m pd\u001b[38;5;241m.\u001b[39mconcat([group_df[\u001b[38;5;124m'\u001b[39m\u001b[38;5;124mGenre 1\u001b[39m\u001b[38;5;124m'\u001b[39m], group_df[\u001b[38;5;124m'\u001b[39m\u001b[38;5;124mGenre 2\u001b[39m\u001b[38;5;124m'\u001b[39m], group_df[\u001b[38;5;124m'\u001b[39m\u001b[38;5;124mGenre 3\u001b[39m\u001b[38;5;124m'\u001b[39m]])\u001b[38;5;241m.\u001b[39mvalue_counts()\n\u001b[0;32m      5\u001b[0m     top_genre \u001b[38;5;241m=\u001b[39m genre_counts\u001b[38;5;241m.\u001b[39midxmax()\n",
      "\u001b[1;31mNameError\u001b[0m: name 'grouped_by_decade' is not defined"
     ]
    }
   ],
   "source": [
    "top_genre_by_decade = pd.DataFrame()\n",
    "\n",
    "for decade, group_df in grouped_by_decade:\n",
    "    genre_counts = pd.concat([group_df['Genre 1'], group_df['Genre 2'], group_df['Genre 3']]).value_counts()\n",
    "    top_genre = genre_counts.idxmax()\n",
    "    top_genre_by_decade = top_genre_by_decade.append({'decade': decade, 'top_genre': top_genre}, ignore_index=True)\n",
    "\n",
    "top_genre_by_decade"
   ]
  },
  {
   "cell_type": "markdown",
   "id": "b60574c0",
   "metadata": {},
   "source": [
    "# ANDREW'S PART STARTS HERE"
   ]
  },
  {
   "cell_type": "markdown",
   "id": "b21ba796",
   "metadata": {},
   "source": [
    "# 8. Analysis"
   ]
  },
  {
   "cell_type": "markdown",
   "id": "2d9dffa2",
   "metadata": {},
   "source": [
    "## Scatterplot of Rating and Number of Votes"
   ]
  },
  {
   "cell_type": "markdown",
   "id": "008e4cbf",
   "metadata": {},
   "source": [
    "We are interested in finding whether there is any association between rating and number of votes for all media listed in the IMDB table. To graph scatterplot between rating and number of votes, first we need to drop duplicates title from the dataframe."
   ]
  },
  {
   "cell_type": "code",
   "execution_count": 107,
   "id": "07c14dcf",
   "metadata": {
    "scrolled": false
   },
   "outputs": [],
   "source": [
    "movies_title_df_unique = movies_people_df.drop_duplicates(subset=['Title'])\n"
   ]
  },
  {
   "cell_type": "markdown",
   "id": "1826cc4e",
   "metadata": {},
   "source": [
    "Now we are going to graph the scatterplot between 'Rating' and 'Number of Votes'"
   ]
  },
  {
   "cell_type": "code",
   "execution_count": 108,
   "id": "b3341a7a",
   "metadata": {},
   "outputs": [
    {
     "data": {
      "image/png": "[encoded data removed]",
      "text/plain": [
       "<Figure size 1000x600 with 1 Axes>"
      ]
     },
     "metadata": {},
     "output_type": "display_data"
    }
   ],
   "source": [
    "import matplotlib.pyplot as plt\n",
    "plt.figure(figsize=(10, 6))\n",
    "plt.scatter(movies_title_df_unique['Number of Votes'], movies_title_df_unique['Rating'])\n",
    "plt.title('Scatterplot of Number of Votes vs. Rating')\n",
    "plt.xlabel('Number of Votes')\n",
    "plt.ylabel('Rating')\n",
    "plt.show()\n"
   ]
  },
  {
   "cell_type": "markdown",
   "id": "ea2f0655",
   "metadata": {},
   "source": [
    "We can observe from the scatterplot that most of the data has less than 1 million number of votes. Our initial hypothesis is that there is no linear relationship between 'Number of Votes' and 'Rating', but we will formally calculate the correlation coefficient in the next section."
   ]
  },
  {
   "cell_type": "markdown",
   "id": "a39f3b07",
   "metadata": {},
   "source": [
    "## Correlation coefficient of Rating and Number of Votes"
   ]
  },
  {
   "cell_type": "markdown",
   "id": "f00e5db2",
   "metadata": {},
   "source": [
    "Now we will formally calculate the correlation coefficient between the two variables."
   ]
  },
  {
   "cell_type": "code",
   "execution_count": 109,
   "id": "49206d63",
   "metadata": {},
   "outputs": [
    {
     "name": "stdout",
     "output_type": "stream",
     "text": [
      "The correlation coefficient between Number of Votes and Rating is 0.069\n"
     ]
    }
   ],
   "source": [
    "correlation = movies_title_df_unique[['Number of Votes', 'Rating']].corr().iloc[0, 1]\n",
    "print(\"The correlation coefficient between Number of Votes and Rating is\",round(correlation,4))"
   ]
  },
  {
   "cell_type": "markdown",
   "id": "7be67d92",
   "metadata": {},
   "source": [
    "It shows that our initial hypothesis based on the scatterplot is corrent that the two variables are not correlated."
   ]
  },
  {
   "cell_type": "markdown",
   "id": "42bd5f43",
   "metadata": {},
   "source": [
    "## Top 10 movies of all time"
   ]
  },
  {
   "cell_type": "markdown",
   "id": "9890af87",
   "metadata": {},
   "source": [
    "We want to find the top 10 movies based on ratings and then sorted based on number of votes.\n",
    "To accomplish this first we are going to isolate movies only from the sorted "
   ]
  },
  {
   "cell_type": "code",
   "execution_count": 111,
   "id": "ce6c1690",
   "metadata": {},
   "outputs": [
    {
     "data": {
      "text/html": [
       "<div>\n",
       "<style scoped>\n",
       "    .dataframe tbody tr th:only-of-type {\n",
       "        vertical-align: middle;\n",
       "    }\n",
       "\n",
       "    .dataframe tbody tr th {\n",
       "        vertical-align: top;\n",
       "    }\n",
       "\n",
       "    .dataframe thead th {\n",
       "        text-align: right;\n",
       "    }\n",
       "</style>\n",
       "<table border=\"1\" class=\"dataframe\">\n",
       "  <thead>\n",
       "    <tr style=\"text-align: right;\">\n",
       "      <th></th>\n",
       "      <th>Title</th>\n",
       "      <th>Rating</th>\n",
       "      <th>Number of Votes</th>\n",
       "    </tr>\n",
       "  </thead>\n",
       "  <tbody>\n",
       "    <tr>\n",
       "      <th>1409376</th>\n",
       "      <td>The Last Enemy</td>\n",
       "      <td>10.0</td>\n",
       "      <td>6</td>\n",
       "    </tr>\n",
       "    <tr>\n",
       "      <th>748470</th>\n",
       "      <td>All I Know Is</td>\n",
       "      <td>9.9</td>\n",
       "      <td>10</td>\n",
       "    </tr>\n",
       "    <tr>\n",
       "      <th>1749394</th>\n",
       "      <td>The People's Story</td>\n",
       "      <td>9.7</td>\n",
       "      <td>22</td>\n",
       "    </tr>\n",
       "    <tr>\n",
       "      <th>1154380</th>\n",
       "      <td>Nicole's Revenge</td>\n",
       "      <td>9.6</td>\n",
       "      <td>25</td>\n",
       "    </tr>\n",
       "    <tr>\n",
       "      <th>1901630</th>\n",
       "      <td>Cafe Coexistence</td>\n",
       "      <td>9.6</td>\n",
       "      <td>13</td>\n",
       "    </tr>\n",
       "    <tr>\n",
       "      <th>970902</th>\n",
       "      <td>Pepper's Pow Wow</td>\n",
       "      <td>9.6</td>\n",
       "      <td>8</td>\n",
       "    </tr>\n",
       "    <tr>\n",
       "      <th>1550877</th>\n",
       "      <td>Against Reason and by Force</td>\n",
       "      <td>9.6</td>\n",
       "      <td>5</td>\n",
       "    </tr>\n",
       "    <tr>\n",
       "      <th>1827113</th>\n",
       "      <td>Di bale na lang</td>\n",
       "      <td>9.5</td>\n",
       "      <td>34</td>\n",
       "    </tr>\n",
       "    <tr>\n",
       "      <th>1859215</th>\n",
       "      <td>Soul of Justice: Thelton Henderson's American ...</td>\n",
       "      <td>9.5</td>\n",
       "      <td>22</td>\n",
       "    </tr>\n",
       "    <tr>\n",
       "      <th>779731</th>\n",
       "      <td>Wiping the Tears of Seven Generations</td>\n",
       "      <td>9.5</td>\n",
       "      <td>19</td>\n",
       "    </tr>\n",
       "  </tbody>\n",
       "</table>\n",
       "</div>"
      ],
      "text/plain": [
       "                                                     Title  Rating  \\\n",
       "1409376                                     The Last Enemy    10.0   \n",
       "748470                                       All I Know Is     9.9   \n",
       "1749394                                 The People's Story     9.7   \n",
       "1154380                                   Nicole's Revenge     9.6   \n",
       "1901630                                   Cafe Coexistence     9.6   \n",
       "970902                                    Pepper's Pow Wow     9.6   \n",
       "1550877                        Against Reason and by Force     9.6   \n",
       "1827113                                    Di bale na lang     9.5   \n",
       "1859215  Soul of Justice: Thelton Henderson's American ...     9.5   \n",
       "779731               Wiping the Tears of Seven Generations     9.5   \n",
       "\n",
       "         Number of Votes  \n",
       "1409376                6  \n",
       "748470                10  \n",
       "1749394               22  \n",
       "1154380               25  \n",
       "1901630               13  \n",
       "970902                 8  \n",
       "1550877                5  \n",
       "1827113               34  \n",
       "1859215               22  \n",
       "779731                19  "
      ]
     },
     "execution_count": 111,
     "metadata": {},
     "output_type": "execute_result"
    }
   ],
   "source": [
    "movies_title_df_unique[movies_title_df_unique['Media Type'] == 'movie'].sort_values(by=['Rating', 'Number of Votes'], ascending=[False, False]).head(10)[['Title','Rating','Number of Votes']]"
   ]
  },
  {
   "cell_type": "markdown",
   "id": "863918e0",
   "metadata": {},
   "source": [
    "The results is not reliable since it produces a list of top 10 movies with highest ratings and low number of votes.\n",
    "As corrective measure, we want to now sort the top 10 movies based on the number of votes first and then the rating."
   ]
  },
  {
   "cell_type": "code",
   "execution_count": 112,
   "id": "e820a2be",
   "metadata": {
    "scrolled": true
   },
   "outputs": [
    {
     "data": {
      "text/html": [
       "<div>\n",
       "<style scoped>\n",
       "    .dataframe tbody tr th:only-of-type {\n",
       "        vertical-align: middle;\n",
       "    }\n",
       "\n",
       "    .dataframe tbody tr th {\n",
       "        vertical-align: top;\n",
       "    }\n",
       "\n",
       "    .dataframe thead th {\n",
       "        text-align: right;\n",
       "    }\n",
       "</style>\n",
       "<table border=\"1\" class=\"dataframe\">\n",
       "  <thead>\n",
       "    <tr style=\"text-align: right;\">\n",
       "      <th></th>\n",
       "      <th>Title</th>\n",
       "      <th>Rating</th>\n",
       "      <th>Number of Votes</th>\n",
       "    </tr>\n",
       "  </thead>\n",
       "  <tbody>\n",
       "    <tr>\n",
       "      <th>865789</th>\n",
       "      <td>The Shawshank Redemption</td>\n",
       "      <td>9.3</td>\n",
       "      <td>2865377</td>\n",
       "    </tr>\n",
       "    <tr>\n",
       "      <th>1131049</th>\n",
       "      <td>Fight Club</td>\n",
       "      <td>8.8</td>\n",
       "      <td>2300555</td>\n",
       "    </tr>\n",
       "    <tr>\n",
       "      <th>845715</th>\n",
       "      <td>Forrest Gump</td>\n",
       "      <td>8.8</td>\n",
       "      <td>2237034</td>\n",
       "    </tr>\n",
       "    <tr>\n",
       "      <th>861861</th>\n",
       "      <td>Pulp Fiction</td>\n",
       "      <td>8.9</td>\n",
       "      <td>2200398</td>\n",
       "    </tr>\n",
       "    <tr>\n",
       "      <th>1862436</th>\n",
       "      <td>Interstellar</td>\n",
       "      <td>8.7</td>\n",
       "      <td>2068242</td>\n",
       "    </tr>\n",
       "    <tr>\n",
       "      <th>1114406</th>\n",
       "      <td>The Matrix</td>\n",
       "      <td>8.7</td>\n",
       "      <td>2035803</td>\n",
       "    </tr>\n",
       "    <tr>\n",
       "      <th>292472</th>\n",
       "      <td>The Godfather</td>\n",
       "      <td>9.2</td>\n",
       "      <td>1995899</td>\n",
       "    </tr>\n",
       "    <tr>\n",
       "      <th>1051004</th>\n",
       "      <td>The Lord of the Rings: The Fellowship of the Ring</td>\n",
       "      <td>8.9</td>\n",
       "      <td>1990492</td>\n",
       "    </tr>\n",
       "    <tr>\n",
       "      <th>1233100</th>\n",
       "      <td>The Lord of the Rings: The Return of the King</td>\n",
       "      <td>9.0</td>\n",
       "      <td>1962595</td>\n",
       "    </tr>\n",
       "    <tr>\n",
       "      <th>918599</th>\n",
       "      <td>Se7en</td>\n",
       "      <td>8.6</td>\n",
       "      <td>1782687</td>\n",
       "    </tr>\n",
       "  </tbody>\n",
       "</table>\n",
       "</div>"
      ],
      "text/plain": [
       "                                                     Title  Rating  \\\n",
       "865789                            The Shawshank Redemption     9.3   \n",
       "1131049                                         Fight Club     8.8   \n",
       "845715                                        Forrest Gump     8.8   \n",
       "861861                                        Pulp Fiction     8.9   \n",
       "1862436                                       Interstellar     8.7   \n",
       "1114406                                         The Matrix     8.7   \n",
       "292472                                       The Godfather     9.2   \n",
       "1051004  The Lord of the Rings: The Fellowship of the Ring     8.9   \n",
       "1233100      The Lord of the Rings: The Return of the King     9.0   \n",
       "918599                                               Se7en     8.6   \n",
       "\n",
       "         Number of Votes  \n",
       "865789           2865377  \n",
       "1131049          2300555  \n",
       "845715           2237034  \n",
       "861861           2200398  \n",
       "1862436          2068242  \n",
       "1114406          2035803  \n",
       "292472           1995899  \n",
       "1051004          1990492  \n",
       "1233100          1962595  \n",
       "918599           1782687  "
      ]
     },
     "execution_count": 112,
     "metadata": {},
     "output_type": "execute_result"
    }
   ],
   "source": [
    "movies_df = movies_title_df_unique[movies_title_df_unique['Media Type'] == 'movie'].sort_values(by=['Number of Votes','Rating'], ascending=[False, False]).head(10)[['Title','Rating','Number of Votes']]\n",
    "movies_df.head(10)"
   ]
  },
  {
   "cell_type": "markdown",
   "id": "1d321b64",
   "metadata": {},
   "source": [
    "This method produces better results since now we are taking into account the popularity of the movies (as evident with the large number of votes) and the audiences' preference (as evident with the high ratings).\n",
    "\n",
    "To add visualization to our findings, we are going to create a bar graph for this."
   ]
  },
  {
   "cell_type": "code",
   "execution_count": 113,
   "id": "e460427a",
   "metadata": {},
   "outputs": [
    {
     "data": {
      "image/png": "[encoded data removed]",
      "text/plain": [
       "<Figure size 1000x600 with 1 Axes>"
      ]
     },
     "metadata": {},
     "output_type": "display_data"
    }
   ],
   "source": [
    "import matplotlib.pyplot as plt\n",
    "plt.figure(figsize=(10, 6))\n",
    "colors = plt.cm.viridis(np.linspace(0, 1, len(movies_df)))\n",
    "plt.bar(movies_df['Title'], movies_df['Number of Votes'], color=colors)\n",
    "plt.title('Top 10 Movies by Number of Votes')\n",
    "plt.xlabel('Title')\n",
    "plt.ylabel('Number of Votes')\n",
    "plt.xticks(rotation=45, ha='right')\n",
    "plt.tight_layout()\n",
    "plt.show()\n"
   ]
  },
  {
   "cell_type": "markdown",
   "id": "3c5cee70",
   "metadata": {},
   "source": [
    "## Top 10 Actors/Actress of all time"
   ]
  },
  {
   "cell_type": "markdown",
   "id": "ce89ed74",
   "metadata": {},
   "source": [
    "We want to find the top 10 actor of all time, to do this we need to create a new dataframe in which the profession column is filtered such that it contains the word 'actor' or 'actress'."
   ]
  },
  {
   "cell_type": "code",
   "execution_count": 114,
   "id": "7da62d2d",
   "metadata": {},
   "outputs": [
    {
     "data": {
      "text/html": [
       "<div>\n",
       "<style scoped>\n",
       "    .dataframe tbody tr th:only-of-type {\n",
       "        vertical-align: middle;\n",
       "    }\n",
       "\n",
       "    .dataframe tbody tr th {\n",
       "        vertical-align: top;\n",
       "    }\n",
       "\n",
       "    .dataframe thead th {\n",
       "        text-align: right;\n",
       "    }\n",
       "</style>\n",
       "<table border=\"1\" class=\"dataframe\">\n",
       "  <thead>\n",
       "    <tr style=\"text-align: right;\">\n",
       "      <th></th>\n",
       "      <th>Media ID</th>\n",
       "      <th>Media Type</th>\n",
       "      <th>Title</th>\n",
       "      <th>Is an Adult</th>\n",
       "      <th>Start Year</th>\n",
       "      <th>End Year</th>\n",
       "      <th>Genre 1</th>\n",
       "      <th>Genre 2</th>\n",
       "      <th>Genre 3</th>\n",
       "      <th>Start Decade</th>\n",
       "      <th>Rating</th>\n",
       "      <th>Number of Votes</th>\n",
       "      <th>Person ID</th>\n",
       "      <th>Person Name</th>\n",
       "      <th>Birth Year</th>\n",
       "      <th>Death Year</th>\n",
       "      <th>Profession</th>\n",
       "      <th>Media ID 1</th>\n",
       "      <th>Media ID 2</th>\n",
       "      <th>Media ID 3</th>\n",
       "      <th>Media ID 4</th>\n",
       "      <th>Media ID 5</th>\n",
       "      <th>Media ID 6</th>\n",
       "      <th>Media ID 7</th>\n",
       "    </tr>\n",
       "  </thead>\n",
       "  <tbody>\n",
       "    <tr>\n",
       "      <th>1</th>\n",
       "      <td>tt0000007</td>\n",
       "      <td>short</td>\n",
       "      <td>Corbett and Courtney Before the Kinetograph</td>\n",
       "      <td>0</td>\n",
       "      <td>1894</td>\n",
       "      <td>0</td>\n",
       "      <td>Short</td>\n",
       "      <td>Sport</td>\n",
       "      <td>None</td>\n",
       "      <td>1894</td>\n",
       "      <td>5.4</td>\n",
       "      <td>848</td>\n",
       "      <td>nm0183947</td>\n",
       "      <td>Peter Courtney</td>\n",
       "      <td>1867</td>\n",
       "      <td>1896</td>\n",
       "      <td>actor</td>\n",
       "      <td>tt0000007</td>\n",
       "      <td>None</td>\n",
       "      <td>None</td>\n",
       "      <td>None</td>\n",
       "      <td>None</td>\n",
       "      <td>None</td>\n",
       "      <td>None</td>\n",
       "    </tr>\n",
       "    <tr>\n",
       "      <th>3</th>\n",
       "      <td>tt0000009</td>\n",
       "      <td>movie</td>\n",
       "      <td>Miss Jerry</td>\n",
       "      <td>0</td>\n",
       "      <td>1894</td>\n",
       "      <td>0</td>\n",
       "      <td>Romance</td>\n",
       "      <td>None</td>\n",
       "      <td>None</td>\n",
       "      <td>1894</td>\n",
       "      <td>5.3</td>\n",
       "      <td>208</td>\n",
       "      <td>nm0063086</td>\n",
       "      <td>Blanche Bayliss</td>\n",
       "      <td>1878</td>\n",
       "      <td>1951</td>\n",
       "      <td>actress</td>\n",
       "      <td>tt0000009</td>\n",
       "      <td>None</td>\n",
       "      <td>None</td>\n",
       "      <td>None</td>\n",
       "      <td>None</td>\n",
       "      <td>None</td>\n",
       "      <td>None</td>\n",
       "    </tr>\n",
       "    <tr>\n",
       "      <th>5</th>\n",
       "      <td>tt0000009</td>\n",
       "      <td>movie</td>\n",
       "      <td>Miss Jerry</td>\n",
       "      <td>0</td>\n",
       "      <td>1894</td>\n",
       "      <td>0</td>\n",
       "      <td>Romance</td>\n",
       "      <td>None</td>\n",
       "      <td>None</td>\n",
       "      <td>1894</td>\n",
       "      <td>5.3</td>\n",
       "      <td>208</td>\n",
       "      <td>nm0183823</td>\n",
       "      <td>William Courtenay</td>\n",
       "      <td>1875</td>\n",
       "      <td>1933</td>\n",
       "      <td>actor</td>\n",
       "      <td>tt0020403</td>\n",
       "      <td>tt0021535</td>\n",
       "      <td>tt0020355</td>\n",
       "      <td>tt0000009</td>\n",
       "      <td>None</td>\n",
       "      <td>None</td>\n",
       "      <td>None</td>\n",
       "    </tr>\n",
       "    <tr>\n",
       "      <th>6</th>\n",
       "      <td>tt0000012</td>\n",
       "      <td>short</td>\n",
       "      <td>The Arrival of a Train</td>\n",
       "      <td>0</td>\n",
       "      <td>1896</td>\n",
       "      <td>0</td>\n",
       "      <td>Documentary</td>\n",
       "      <td>Short</td>\n",
       "      <td>None</td>\n",
       "      <td>1896</td>\n",
       "      <td>7.4</td>\n",
       "      <td>12746</td>\n",
       "      <td>nm0525900</td>\n",
       "      <td>Mrs. Auguste Lumiere</td>\n",
       "      <td>1874</td>\n",
       "      <td>1963</td>\n",
       "      <td>actor</td>\n",
       "      <td>tt0222259</td>\n",
       "      <td>tt0791136</td>\n",
       "      <td>tt0000012</td>\n",
       "      <td>tt0221930</td>\n",
       "      <td>None</td>\n",
       "      <td>None</td>\n",
       "      <td>None</td>\n",
       "    </tr>\n",
       "    <tr>\n",
       "      <th>7</th>\n",
       "      <td>tt0000012</td>\n",
       "      <td>short</td>\n",
       "      <td>The Arrival of a Train</td>\n",
       "      <td>0</td>\n",
       "      <td>1896</td>\n",
       "      <td>0</td>\n",
       "      <td>Documentary</td>\n",
       "      <td>Short</td>\n",
       "      <td>None</td>\n",
       "      <td>1896</td>\n",
       "      <td>7.4</td>\n",
       "      <td>12746</td>\n",
       "      <td>nm0525908</td>\n",
       "      <td>Auguste Lumière</td>\n",
       "      <td>1862</td>\n",
       "      <td>1954</td>\n",
       "      <td>producer,director,actor</td>\n",
       "      <td>tt0000012</td>\n",
       "      <td>tt1740508</td>\n",
       "      <td>tt8488118</td>\n",
       "      <td>tt8485720</td>\n",
       "      <td>None</td>\n",
       "      <td>None</td>\n",
       "      <td>None</td>\n",
       "    </tr>\n",
       "  </tbody>\n",
       "</table>\n",
       "</div>"
      ],
      "text/plain": [
       "    Media ID Media Type                                        Title  \\\n",
       "1  tt0000007      short  Corbett and Courtney Before the Kinetograph   \n",
       "3  tt0000009      movie                                   Miss Jerry   \n",
       "5  tt0000009      movie                                   Miss Jerry   \n",
       "6  tt0000012      short                       The Arrival of a Train   \n",
       "7  tt0000012      short                       The Arrival of a Train   \n",
       "\n",
       "   Is an Adult  Start Year  End Year      Genre 1 Genre 2 Genre 3  \\\n",
       "1            0        1894         0        Short   Sport    None   \n",
       "3            0        1894         0      Romance    None    None   \n",
       "5            0        1894         0      Romance    None    None   \n",
       "6            0        1896         0  Documentary   Short    None   \n",
       "7            0        1896         0  Documentary   Short    None   \n",
       "\n",
       "   Start Decade  Rating  Number of Votes  Person ID           Person Name  \\\n",
       "1          1894     5.4              848  nm0183947        Peter Courtney   \n",
       "3          1894     5.3              208  nm0063086       Blanche Bayliss   \n",
       "5          1894     5.3              208  nm0183823     William Courtenay   \n",
       "6          1896     7.4            12746  nm0525900  Mrs. Auguste Lumiere   \n",
       "7          1896     7.4            12746  nm0525908       Auguste Lumière   \n",
       "\n",
       "   Birth Year  Death Year               Profession Media ID 1 Media ID 2  \\\n",
       "1        1867        1896                    actor  tt0000007       None   \n",
       "3        1878        1951                  actress  tt0000009       None   \n",
       "5        1875        1933                    actor  tt0020403  tt0021535   \n",
       "6        1874        1963                    actor  tt0222259  tt0791136   \n",
       "7        1862        1954  producer,director,actor  tt0000012  tt1740508   \n",
       "\n",
       "  Media ID 3 Media ID 4 Media ID 5 Media ID 6 Media ID 7  \n",
       "1       None       None       None       None       None  \n",
       "3       None       None       None       None       None  \n",
       "5  tt0020355  tt0000009       None       None       None  \n",
       "6  tt0000012  tt0221930       None       None       None  \n",
       "7  tt8488118  tt8485720       None       None       None  "
      ]
     },
     "execution_count": 114,
     "metadata": {},
     "output_type": "execute_result"
    }
   ],
   "source": [
    "actors_df = movies_people_df[movies_people_df['Profession'].str.contains('actor|actress', na=False)]\n",
    "actors_df.head(5)"
   ]
  },
  {
   "cell_type": "markdown",
   "id": "9e177a6c",
   "metadata": {},
   "source": [
    "We have successfully created the new dataframe of actors and actress. Now we want to find top 10 actors based on number of times they appeared in any media.\n",
    "\n",
    "To do this we will group the data by 'Person Name' and count the number of titles for each person. The last step is to sort the counts descending order to get the most frequent names at the top and display the top 10."
   ]
  },
  {
   "cell_type": "code",
   "execution_count": 115,
   "id": "5552ff6b",
   "metadata": {},
   "outputs": [
    {
     "name": "stdout",
     "output_type": "stream",
     "text": [
      "Person Name\n",
      "John Williams     34\n",
      "Paul Williams     30\n",
      "John Scott        24\n",
      "Richard Smith     23\n",
      "David Williams    22\n",
      "John Kelly        22\n",
      "John Taylor       22\n",
      "David Allen       21\n",
      "Paul Smith        21\n",
      "David Thomas      20\n",
      "Name: Title, dtype: int64\n"
     ]
    }
   ],
   "source": [
    "title_counts = actors_df.groupby('Person Name')['Title'].count().sort_values(ascending=False)\n",
    "top_10_person_names = title_counts.head(10)\n",
    "print(top_10_person_names)"
   ]
  },
  {
   "cell_type": "markdown",
   "id": "3d90ac7d",
   "metadata": {},
   "source": [
    "## Top 10 movies for each decade starting in 1900 by number of votes"
   ]
  },
  {
   "cell_type": "markdown",
   "id": "63f2825f",
   "metadata": {},
   "source": [
    "To accomplish this task we will utilize loop to filter the dataframe into separate decade (excluding endpoints). We then sort the title of the movies based on the largest number of votes and select the top 10."
   ]
  },
  {
   "cell_type": "code",
   "execution_count": 116,
   "id": "d81d65f1",
   "metadata": {},
   "outputs": [
    {
     "name": "stdout",
     "output_type": "stream",
     "text": [
      "Top 10 Titles for 1881-1889 Decade:\n",
      "Empty DataFrame\n",
      "Columns: [Title, Number of Votes]\n",
      "Index: [] \n",
      "\n",
      "Top 10 Titles for 1891-1899 Decade:\n",
      "                                                     Title  Number of Votes\n",
      "6                                   The Arrival of a Train            12746\n",
      "8                                      The Waterer Watered             5780\n",
      "20                                  The House of the Devil             3930\n",
      "1111620              The Execution of Mary, Queen of Scots             2517\n",
      "2                   Edison Kinetoscopic Record of a Sneeze             2175\n",
      "19       The Conjuring of a Woman at the House of Rober...             2025\n",
      "0                                           Pauvre Pierrot             1973\n",
      "1417771                           After the Ball, the Bath             1477\n",
      "1408864                   The Boxing Cats (Prof. Welton's)             1410\n",
      "1457112                                         Men Boxing             1099 \n",
      "\n",
      "Top 10 Titles for 1901-1909 Decade:\n",
      "                                              Title  Number of Votes\n",
      "89                               A Trip to the Moon            55221\n",
      "93                          The Great Train Robbery            20828\n",
      "90                              Alice in Wonderland             2853\n",
      "271                               A Corner in Wheat             2715\n",
      "123                        Dream of a Rarebit Fiend             1977\n",
      "97                       The Kingdom of the Fairies             1791\n",
      "1396992  The Eclipse: Courtship of the Sun and Moon             1382\n",
      "127                     The 400 Tricks of the Devil             1349\n",
      "102                                Rescued by Rover             1302\n",
      "96                               Mary Jane's Mishap             1021 \n",
      "\n",
      "Top 10 Titles for 1911-1919 Decade:\n",
      "                           Title  Number of Votes\n",
      "2013       The Birth of a Nation            26199\n",
      "3209                 Intolerance            16624\n",
      "5588             Broken Blossoms            11000\n",
      "2675                Les vampires             5387\n",
      "3512                    The Rink             4222\n",
      "1349                     Cabiria             3910\n",
      "1895  Tillie's Punctured Romance             3699\n",
      "2663                   The Tramp             3699\n",
      "1462         Gertie the Dinosaur             3618\n",
      "708              Dante's Inferno             3391 \n",
      "\n",
      "Top 10 Titles for 1921-1929 Decade:\n",
      "                            Title  Number of Votes\n",
      "13848                  Metropolis           184337\n",
      "7892                      The Kid           133962\n",
      "12045               The Gold Rush           117936\n",
      "8956                    Nosferatu           104689\n",
      "14975                 The General            97544\n",
      "11720         Battleship Potemkin            61132\n",
      "16842  The Passion of Joan of Arc            60101\n",
      "11339                Sherlock Jr.            56271\n",
      "15726                     Sunrise            53558\n",
      "19269           An Andalusian Dog            53486 \n",
      "\n",
      "Top 10 Titles for 1931-1939 Decade:\n",
      "                                 Title  Number of Votes\n",
      "51105               Gone with the Wind           332273\n",
      "39445                     Modern Times           257713\n",
      "45089  Snow White and the Seven Dwarfs           214105\n",
      "22351                      City Lights           194860\n",
      "23223                                M           167399\n",
      "52378     Mr. Smith Goes to Washington           120842\n",
      "31220            It Happened One Night           111505\n",
      "28250                        King Kong            90375\n",
      "46479                 Bringing Up Baby            65713\n",
      "33424                     The 39 Steps            61138 \n",
      "\n",
      "Top 10 Titles for 1941-1949 Decade:\n",
      "                                  Title  Number of Votes\n",
      "62534                        Casablanca           602529\n",
      "77714             It's a Wonderful Life           496359\n",
      "58625                      Citizen Kane           463467\n",
      "94158                     The Third Man           180755\n",
      "86921                   Bicycle Thieves           174017\n",
      "70087                  Double Indemnity           166453\n",
      "62245                             Bambi           153144\n",
      "88073                              Rope           152737\n",
      "58902                             Dumbo           141235\n",
      "88725  The Treasure of the Sierra Madre           131733 \n",
      "\n",
      "Top 10 Titles for 1951-1959 Decade:\n",
      "                               Title  Number of Votes\n",
      "144036                  12 Angry Men           856479\n",
      "124973                   Rear Window           519032\n",
      "158868                       Vertigo           424409\n",
      "125484                 Seven Samurai           364574\n",
      "165088            North by Northwest           344275\n",
      "112034           Singin' in the Rain           258856\n",
      "162050                       Ben-Hur           251839\n",
      "144822  The Bridge on the River Kwai           232163\n",
      "148571                Paths of Glory           210843\n",
      "149447              The Seventh Seal           197152 \n",
      "\n",
      "Top 10 Titles for 1961-1969 Decade:\n",
      "                                                    Title  Number of Votes\n",
      "225049                     The Good, the Bad and the Ugly           805609\n",
      "243456                              2001: A Space Odyssey           714225\n",
      "198316  Dr. Strangelove or: How I Learned to Stop Worr...           515151\n",
      "255063                       Once Upon a Time in the West           347328\n",
      "192093                              To Kill a Mockingbird           331162\n",
      "189168                                 Lawrence of Arabia           311980\n",
      "235955                                       The Graduate           287245\n",
      "219180                             For a Few Dollars More           272724\n",
      "220232                                 The Sound of Music           258595\n",
      "199036                                   The Great Escape           257428 \n",
      "\n",
      "Top 10 Titles for 1971-1979 Decade:\n",
      "                                     Title  Number of Votes\n",
      "292472                       The Godfather          1995899\n",
      "363349  Star Wars: Episode IV - A New Hope          1440422\n",
      "317453               The Godfather Part II          1354193\n",
      "332440     One Flew Over the Cuckoo's Nest          1065685\n",
      "386132                               Alien           942518\n",
      "276505                  A Clockwork Orange           876233\n",
      "386729                      Apocalypse Now           705275\n",
      "330636                                Jaws           654826\n",
      "347787                               Rocky           624002\n",
      "319795     Monty Python and the Holy Grail           567350 \n",
      "\n",
      "Top 10 Titles for 1981-1989 Decade:\n",
      "                                             Title  Number of Votes\n",
      "515646                          Back to the Future          1296279\n",
      "474730  Star Wars: Episode VI - Return of the Jedi          1113893\n",
      "435609                     Raiders of the Lost Ark          1031407\n",
      "614092                                    Die Hard           939752\n",
      "505450                              The Terminator           917943\n",
      "445019                                Blade Runner           817270\n",
      "655374          Indiana Jones and the Last Crusade           806528\n",
      "580094                           Full Metal Jacket           785462\n",
      "542457                                      Aliens           757764\n",
      "644114                  Back to the Future Part II           568882 \n",
      "\n",
      "Top 10 Titles for 1991-1999 Decade:\n",
      "                            Title  Number of Votes\n",
      "865789   The Shawshank Redemption          2865377\n",
      "1131049                Fight Club          2300555\n",
      "845715               Forrest Gump          2237034\n",
      "861861               Pulp Fiction          2200398\n",
      "1114406                The Matrix          2035803\n",
      "918599                      Se7en          1782687\n",
      "736405   The Silence of the Lambs          1535912\n",
      "1056872       Saving Private Ryan          1485434\n",
      "816228           Schindler's List          1439288\n",
      "1049538            The Green Mile          1395815 \n",
      "\n",
      "Top 10 Titles for 2001-2009 Decade:\n",
      "                                                     Title  Number of Votes\n",
      "1883077                                       Breaking Bad          2111357\n",
      "1051004  The Lord of the Rings: The Fellowship of the Ring          1990492\n",
      "1233100      The Lord of the Rings: The Return of the King          1962595\n",
      "1233386              The Lord of the Rings: The Two Towers          1769410\n",
      "1686539                               Inglourious Basterds          1569218\n",
      "1704801                                      Batman Begins          1566644\n",
      "1823600                                       The Prestige          1429367\n",
      "1746405                                       The Departed          1412019\n",
      "1645346  Pirates of the Caribbean: The Curse of the Bla...          1201158\n",
      "1884789                                             WALL·E          1191330 \n",
      "\n",
      "Top 10 Titles for 2011-2019 Decade:\n",
      "                                      Title  Number of Votes\n",
      "1890543                     Game of Thrones          2263115\n",
      "1862436                        Interstellar          2068242\n",
      "1849072                                Thor           895404\n",
      "1801104  Captain America: The First Avenger           891760\n",
      "1882932   The Hobbit: An Unexpected Journey           867953\n",
      "1819425                             Ant-Man           717536\n",
      "1862594                         World War Z           714387\n",
      "1700732                      Jurassic World           675810\n",
      "1797083                          Life of Pi           663070\n",
      "1812403                          Ex Machina           582279 \n",
      "\n",
      "Top 10 Titles for 2021-2029 Decade:\n",
      "                                  Title  Number of Votes\n",
      "1875681                   Jungle Cruise           210861\n",
      "1900512                Army of the Dead           186371\n",
      "1902655              Laal Singh Chaddha           177738\n",
      "1902454               The Little Things           122887\n",
      "1849785                      Foundation            93761\n",
      "1835541                 Without Remorse            64065\n",
      "1903654             Gangubai Kathiawadi            61480\n",
      "1904289                   Thunder Force            45244\n",
      "1902286  The Last Voyage of the Demeter            45041\n",
      "1903812          The Tragedy of Macbeth            39205 \n",
      "\n"
     ]
    }
   ],
   "source": [
    "top_titles_by_decade = {}\n",
    "for start_year in range(1880, 2024, 10):\n",
    "    end_year = start_year + 10\n",
    "    decade_df = movies_title_df_unique[(movies_title_df_unique['Start Year'] > start_year) & (movies_title_df_unique['Start Year'] < end_year)]\n",
    "    top_10_titles = decade_df.sort_values(by='Number of Votes', ascending=False).head(10)\n",
    "    top_titles_by_decade[f\"{start_year+1}-{end_year-1}\"] = top_10_titles[['Title', 'Number of Votes']]\n",
    "\n",
    "for decade, titles in top_titles_by_decade.items():\n",
    "    print(f\"Top 10 Titles for {decade} Decade:\")\n",
    "    print(titles, \"\\n\")\n"
   ]
  },
  {
   "cell_type": "markdown",
   "id": "2dc288be",
   "metadata": {},
   "source": [
    "## Top 3 movies genres for each decade"
   ]
  },
  {
   "cell_type": "markdown",
   "id": "e6ae613e",
   "metadata": {},
   "source": [
    "Now we will display the top 3 movies genres for each decade. To accomplish this, we are going to combine the three genre columns into a single column using concat, making sure we drop 'None' values.\n",
    "\n",
    "We will count the occurences of each genre and store the results in dictionary. We then display the top three."
   ]
  },
  {
   "cell_type": "code",
   "execution_count": 121,
   "id": "5d32412b",
   "metadata": {},
   "outputs": [
    {
     "name": "stdout",
     "output_type": "stream",
     "text": [
      "Top 3 Genres for 1881-1889 Decade:\n",
      "Series([], dtype: int64) \n",
      "\n",
      "Top 3 Genres for 1891-1899 Decade:\n",
      "Short          165\n",
      "Documentary     43\n",
      "News            31\n",
      "dtype: int64 \n",
      "\n",
      "Top 3 Genres for 1901-1909 Decade:\n",
      "Short     191\n",
      "Drama     108\n",
      "Comedy     44\n",
      "dtype: int64 \n",
      "\n",
      "Top 3 Genres for 1911-1919 Decade:\n",
      "Drama     1034\n",
      "Short      479\n",
      "Comedy     434\n",
      "dtype: int64 \n",
      "\n",
      "Top 3 Genres for 1921-1929 Decade:\n",
      "Drama      1785\n",
      "Comedy      968\n",
      "Romance     694\n",
      "dtype: int64 \n",
      "\n",
      "Top 3 Genres for 1931-1939 Decade:\n",
      "Drama      3732\n",
      "Comedy     2912\n",
      "Romance    1739\n",
      "dtype: int64 \n",
      "\n",
      "Top 3 Genres for 1941-1949 Decade:\n",
      "Drama      3776\n",
      "Comedy     2412\n",
      "Romance    1223\n",
      "dtype: int64 \n",
      "\n",
      "Top 3 Genres for 1951-1959 Decade:\n",
      "Drama      5505\n",
      "Comedy     3128\n",
      "Romance    1507\n",
      "dtype: int64 \n",
      "\n",
      "Top 3 Genres for 1961-1969 Decade:\n",
      "Drama      7092\n",
      "Comedy     4137\n",
      "Romance    1605\n",
      "dtype: int64 \n",
      "\n",
      "Top 3 Genres for 1971-1979 Decade:\n",
      "Drama     9280\n",
      "Comedy    5131\n",
      "Crime     2097\n",
      "dtype: int64 \n",
      "\n",
      "Top 3 Genres for 1981-1989 Decade:\n",
      "Drama     11135\n",
      "Comedy     6428\n",
      "Action     2856\n",
      "dtype: int64 \n",
      "\n",
      "Top 3 Genres for 1991-1999 Decade:\n",
      "Drama     14575\n",
      "Comedy     8923\n",
      "Action     4060\n",
      "dtype: int64 \n",
      "\n",
      "Top 3 Genres for 2001-2009 Decade:\n",
      "Drama          14006\n",
      "Comedy          9607\n",
      "Documentary     4432\n",
      "dtype: int64 \n",
      "\n",
      "Top 3 Genres for 2011-2019 Decade:\n",
      "Drama          237\n",
      "Comedy         158\n",
      "Documentary     98\n",
      "dtype: int64 \n",
      "\n",
      "Top 3 Genres for 2021-2029 Decade:\n",
      "Drama     42\n",
      "Comedy    24\n",
      "Horror    15\n",
      "dtype: int64 \n",
      "\n"
     ]
    }
   ],
   "source": [
    "top_genres_by_decade = {}\n",
    "\n",
    "for start_year in range(1880, 2024, 10):\n",
    "    end_year = start_year + 10\n",
    "    decade_df = movies_title_df_unique[(movies_title_df_unique['Start Year'] > start_year) & (movies_title_df_unique['Start Year'] < end_year)]\n",
    "    all_genres = pd.concat([decade_df['Genre 1'], decade_df['Genre 2'], decade_df['Genre 3']]).dropna()\n",
    "    top_genres = all_genres.value_counts().head(3)\n",
    "    top_genres_by_decade[f\"{start_year+1}-{end_year-1}\"] = top_genres\n",
    "\n",
    "for decade, genres in top_genres_by_decade.items():\n",
    "    print(f\"Top 3 Genres for {decade} Decade:\")\n",
    "    print(genres, \"\\n\")\n"
   ]
  },
  {
   "cell_type": "markdown",
   "id": "f9401b6f",
   "metadata": {},
   "source": [
    "## Summary of key findings"
   ]
  },
  {
   "cell_type": "markdown",
   "id": "94eaff06",
   "metadata": {},
   "source": [
    "- There is no correlation between number of votes and ratings for any shows listed in IMDb\n",
    "- The top 10 movies of all time (sorted by number of votes) are dominated by movies released in the 1990's\n",
    "- Drama and Comedy are consistently making the top 3 movies for any decade starting in 1900's\n",
    "- Although 'Avatar' and 'Avengers: Endgame' are two highest grossing movies of all time, they do not make any of top movies list by decade, suggesting that number of votes and ratings on IMDb website does not has any effect on box office performance. "
   ]
  }
 ],
 "metadata": {
  "kernelspec": {
   "display_name": "Python 3 (ipykernel)",
   "language": "python",
   "name": "python3"
  },
  "language_info": {
   "codemirror_mode": {
    "name": "ipython",
    "version": 3
   },
   "file_extension": ".py",
   "mimetype": "text/x-python",
   "name": "python",
   "nbconvert_exporter": "python",
   "pygments_lexer": "ipython3",
   "version": "3.11.4"
  }
 },
 "nbformat": 4,
 "nbformat_minor": 5
}
