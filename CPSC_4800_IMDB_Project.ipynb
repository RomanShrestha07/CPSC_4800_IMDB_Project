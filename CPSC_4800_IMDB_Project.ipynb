{
 "cells": [
  {
   "cell_type": "markdown",
   "id": "f1c82f5b8f564572",
   "metadata": {},
   "source": [
    "## TABLE OF CONTENTS\n",
    "\n",
    "1. [PROBLEM DESCRIPTION]()\n",
    "2. [THE DATA]()\n",
    "3. [BACKGROUND RESEARCH]()\n",
    "4. [READ IN THE DATA]()\n",
    "    1. [Data Selection]()\n",
    "5. [GETTING TO KNOW THE DATA]()\n",
    "    1. [Dataframe 'title_basics_data']()\n",
    "    2. [Dataframe 'title_ratings_data']()\n",
    "    3. [Dataframe 'name_basics_data']()\n",
    "6. [DATA PREPARATION]()\n",
    "    1. [Create calculated columns]()\n",
    "        1. [Splitting the key for 'title_basics_data']()\n",
    "        2. [Calculating the decade of titles]()\n",
    "        3. [Splitting the key for 'name_basics_data']()\n",
    "7. [GETTING READY TO COMBINE THE DATASETS]()\n",
    "8. [COMBINE THE DATASETS]()\n",
    "9. [COMBINED DATA PREPARATION]()\n",
    "    1. [Data Replacement]()\n",
    "    2. [Initial Data Conversion]()\n",
    "    3. [Redundant Data]()\n",
    "    4. [Missing Data]()\n",
    "    5. [Final Data Conversion]()\n",
    "        1. [Convert to Integer]()\n",
    "    6. [Rename Columns]()\n",
    "10. [ANALYSIS]()\n",
    "    1. [Scatterplot of Rating and Number of Votes]()\n",
    "    2. [Correlation coefficient of Rating and Number of Votes]()\n",
    "    3. [Top 10 movies of all time]()\n",
    "    4. [Top 10 actors/actresses of all time]()\n",
    "    5. [Top 10 movies for each decade]()\n",
    "    6. [Top 10 movie genres for each decade]()\n",
    "11. [SUMMARY OF KEY FINDINGS]()"
   ]
  },
  {
   "cell_type": "markdown",
   "id": "c40fb3c23b777608",
   "metadata": {},
   "source": [
    "## 1. PROBLEM DESCRIPTION"
   ]
  },
  {
   "cell_type": "markdown",
   "id": "e3480de8862f3dab",
   "metadata": {},
   "source": [
    "In our Python group project revolving around IMDb Non-Commercial Datasets, we delve into a similar journey of data exploration and utilization. Our project centers around accessing subsets of IMDb data, tailored for personal and non-commercial use by customers. The dataset repository offers various subsets of IMDb data, each meticulously crafted and structured to facilitate analysis and exploration. Our objective is to harness these datasets to extract valuable insights and trends within the realm of IMDb content. The project encompasses a myriad of datasets, each offering unique perspectives and facets of IMDb content, ranging from title details to cast and crew information, and user ratings. With each dataset encapsulating valuable information, our aim is to unravel the intricacies of IMDb content and unveil noteworthy patterns and trends within the realm of entertainment."
   ]
  },
  {
   "cell_type": "markdown",
   "id": "1746b23a255471c2",
   "metadata": {},
   "source": [
    "## 2. THE DATA"
   ]
  },
  {
   "cell_type": "markdown",
   "id": "30b2dbaea3c2af1f",
   "metadata": {},
   "source": [
    "IMDb, short for Internet Movie Database, is a comprehensive online database that was launched in 1990 and has been a subsidiary of Amazon.com since 1998. It stands as the most popular and authoritative source for movie, TV, and celebrity content, providing a platform for fans to explore the world of entertainment and make informed decisions about what to watch.\n",
    "\n",
    "The database boasts millions of entries, including movies, TV shows, entertainment programs, and information about cast and crew members.\n",
    "\n",
    "Data Location:\n",
    "\n",
    "The dataset files are available for download from https://datasets.imdbws.com/. The data is updated daily to ensure relevance and accuracy."
   ]
  },
  {
   "cell_type": "markdown",
   "id": "5e272c3bf27f86d5",
   "metadata": {},
   "source": [
    "Main datasets:\n",
    "\n",
    "1. title.basics.tsv\n",
    "\n",
    "* tconst (string) - alphanumeric unique identifier of the title\n",
    "* titleType (string) – the type/format of the title (e.g. movie, short, tvseries, tvepisode, video, etc.)\n",
    "* primaryTitle (string) – the more popular title / the title used by the filmmakers on promotional materials at the point of release\n",
    "* originalTitle (string) - original title, in the original language\n",
    "* isAdult (boolean) - 0: non-adult title; 1: adult title\n",
    "* startYear (YYYY) – represents the release year of a title. In the case of TV Series, it is the series start year\n",
    "* endYear (YYYY) – TV Series end year. ‘\\N’ for all other title types\n",
    "* runtimeMinutes – primary runtime of the title, in minutes\n",
    "* genres (string array) – includes up to three genres associated with the title\n",
    "\n",
    "2. title.ratings.tsv\n",
    "* tconst (string): Alphanumeric unique identifier of the title.\n",
    "* averageRating: Weighted average of all individual user ratings for the title.\n",
    "* numVotes: Number of votes the title has received.\n",
    "\n",
    "3. name.basics.tsv\n",
    "* nconst (string): Alphanumeric unique identifier of the name/person.\n",
    "* primaryName: Name by which the person is most often credited.\n",
    "* birthYear: Year of birth in YYYY format.\n",
    "* deathYear: Year of death in YYYY format if applicable; otherwise '\\N'.\n",
    "* primaryProfession (array of strings): Top-3 professions of the person.\n",
    "* knownForTitles (array of tconsts): Titles the person is known for."
   ]
  },
  {
   "cell_type": "code",
   "execution_count": 283,
   "id": "29df1f251db6ed36",
   "metadata": {
    "ExecuteTime": {
     "end_time": "2024-03-29T21:50:26.685522Z",
     "start_time": "2024-03-29T21:50:26.681741Z"
    }
   },
   "outputs": [],
   "source": [
    "import pandas as pd\n",
    "import numpy as np\n",
    "import matplotlib.pyplot as plt\n",
    "import seaborn as sns\n",
    "from datetime import datetime\n",
    "\n",
    "%matplotlib inline"
   ]
  },
  {
   "cell_type": "markdown",
   "source": [
    "Taking a look at \"title_basics_data\""
   ],
   "metadata": {
    "collapsed": false
   },
   "id": "d41cebadb64d503b"
  },
  {
   "cell_type": "code",
   "execution_count": 284,
   "id": "ca057b0ea458fef",
   "metadata": {
    "ExecuteTime": {
     "end_time": "2024-03-29T21:50:29.472385Z",
     "start_time": "2024-03-29T21:50:27.549883Z"
    }
   },
   "outputs": [
    {
     "data": {
      "text/plain": "      tconst titleType            primaryTitle           originalTitle  \\\n0  tt0000001     short              Carmencita              Carmencita   \n1  tt0000002     short  Le clown et ses chiens  Le clown et ses chiens   \n2  tt0000003     short          Pauvre Pierrot          Pauvre Pierrot   \n3  tt0000004     short             Un bon bock             Un bon bock   \n4  tt0000005     short        Blacksmith Scene        Blacksmith Scene   \n\n   isAdult startYear endYear runtimeMinutes                    genres  \n0        0      1894      \\N              1         Documentary,Short  \n1        0      1892      \\N              5           Animation,Short  \n2        0      1892      \\N              4  Animation,Comedy,Romance  \n3        0      1892      \\N             12           Animation,Short  \n4        0      1893      \\N              1              Comedy,Short  ",
      "text/html": "<div>\n<style scoped>\n    .dataframe tbody tr th:only-of-type {\n        vertical-align: middle;\n    }\n\n    .dataframe tbody tr th {\n        vertical-align: top;\n    }\n\n    .dataframe thead th {\n        text-align: right;\n    }\n</style>\n<table border=\"1\" class=\"dataframe\">\n  <thead>\n    <tr style=\"text-align: right;\">\n      <th></th>\n      <th>tconst</th>\n      <th>titleType</th>\n      <th>primaryTitle</th>\n      <th>originalTitle</th>\n      <th>isAdult</th>\n      <th>startYear</th>\n      <th>endYear</th>\n      <th>runtimeMinutes</th>\n      <th>genres</th>\n    </tr>\n  </thead>\n  <tbody>\n    <tr>\n      <th>0</th>\n      <td>tt0000001</td>\n      <td>short</td>\n      <td>Carmencita</td>\n      <td>Carmencita</td>\n      <td>0</td>\n      <td>1894</td>\n      <td>\\N</td>\n      <td>1</td>\n      <td>Documentary,Short</td>\n    </tr>\n    <tr>\n      <th>1</th>\n      <td>tt0000002</td>\n      <td>short</td>\n      <td>Le clown et ses chiens</td>\n      <td>Le clown et ses chiens</td>\n      <td>0</td>\n      <td>1892</td>\n      <td>\\N</td>\n      <td>5</td>\n      <td>Animation,Short</td>\n    </tr>\n    <tr>\n      <th>2</th>\n      <td>tt0000003</td>\n      <td>short</td>\n      <td>Pauvre Pierrot</td>\n      <td>Pauvre Pierrot</td>\n      <td>0</td>\n      <td>1892</td>\n      <td>\\N</td>\n      <td>4</td>\n      <td>Animation,Comedy,Romance</td>\n    </tr>\n    <tr>\n      <th>3</th>\n      <td>tt0000004</td>\n      <td>short</td>\n      <td>Un bon bock</td>\n      <td>Un bon bock</td>\n      <td>0</td>\n      <td>1892</td>\n      <td>\\N</td>\n      <td>12</td>\n      <td>Animation,Short</td>\n    </tr>\n    <tr>\n      <th>4</th>\n      <td>tt0000005</td>\n      <td>short</td>\n      <td>Blacksmith Scene</td>\n      <td>Blacksmith Scene</td>\n      <td>0</td>\n      <td>1893</td>\n      <td>\\N</td>\n      <td>1</td>\n      <td>Comedy,Short</td>\n    </tr>\n  </tbody>\n</table>\n</div>"
     },
     "execution_count": 284,
     "metadata": {},
     "output_type": "execute_result"
    }
   ],
   "source": [
    "title_basics_data = pd.read_csv('data/title_basics_data.tsv', sep='\\t')\n",
    "\n",
    "title_basics_data.head()"
   ]
  },
  {
   "cell_type": "markdown",
   "source": [
    "Summary of \"title_basics_data\""
   ],
   "metadata": {
    "collapsed": false
   },
   "id": "3529b690bd4126eb"
  },
  {
   "cell_type": "code",
   "execution_count": 285,
   "id": "10ac42bb8af055",
   "metadata": {
    "ExecuteTime": {
     "end_time": "2024-03-29T21:50:30.287613Z",
     "start_time": "2024-03-29T21:50:29.473387Z"
    }
   },
   "outputs": [
    {
     "name": "stdout",
     "output_type": "stream",
     "text": [
      "<class 'pandas.core.frame.DataFrame'>\n",
      "RangeIndex: 1048575 entries, 0 to 1048574\n",
      "Data columns (total 9 columns):\n",
      " #   Column          Non-Null Count    Dtype \n",
      "---  ------          --------------    ----- \n",
      " 0   tconst          1048575 non-null  object\n",
      " 1   titleType       1048575 non-null  object\n",
      " 2   primaryTitle    1048575 non-null  object\n",
      " 3   originalTitle   1048575 non-null  object\n",
      " 4   isAdult         1048575 non-null  int64 \n",
      " 5   startYear       1048575 non-null  object\n",
      " 6   endYear         1048575 non-null  object\n",
      " 7   runtimeMinutes  1048575 non-null  object\n",
      " 8   genres          1048575 non-null  object\n",
      "dtypes: int64(1), object(8)\n",
      "memory usage: 72.0+ MB\n"
     ]
    }
   ],
   "source": [
    "title_basics_data.info()"
   ]
  },
  {
   "cell_type": "markdown",
   "source": [
    "Taking a look at \"name_basics_data\""
   ],
   "metadata": {
    "collapsed": false
   },
   "id": "7dc4e64541b9e82c"
  },
  {
   "cell_type": "code",
   "execution_count": 286,
   "id": "75c7160e3ee0c511",
   "metadata": {
    "ExecuteTime": {
     "end_time": "2024-03-29T21:50:31.972920Z",
     "start_time": "2024-03-29T21:50:30.288607Z"
    }
   },
   "outputs": [
    {
     "data": {
      "text/plain": "      nconst      primaryName birthYear deathYear  \\\n0  nm0000001     Fred Astaire      1899      1987   \n1  nm0000002    Lauren Bacall      1924      2014   \n2  nm0000003  Brigitte Bardot      1934        \\N   \n3  nm0000004     John Belushi      1949      1982   \n4  nm0000005   Ingmar Bergman      1918      2007   \n\n                     primaryProfession  \\\n0       soundtrack,actor,miscellaneous   \n1                   actress,soundtrack   \n2  actress,soundtrack,music_department   \n3              actor,soundtrack,writer   \n4                writer,director,actor   \n\n                            knownForTitles  \n0  tt0027125,tt0050419,tt0053137,tt0072308  \n1  tt0038355,tt0037382,tt0075213,tt0117057  \n2  tt0049189,tt0054452,tt0056404,tt0057345  \n3  tt0078723,tt0080455,tt0072562,tt0077975  \n4  tt0083922,tt0069467,tt0050976,tt0050986  ",
      "text/html": "<div>\n<style scoped>\n    .dataframe tbody tr th:only-of-type {\n        vertical-align: middle;\n    }\n\n    .dataframe tbody tr th {\n        vertical-align: top;\n    }\n\n    .dataframe thead th {\n        text-align: right;\n    }\n</style>\n<table border=\"1\" class=\"dataframe\">\n  <thead>\n    <tr style=\"text-align: right;\">\n      <th></th>\n      <th>nconst</th>\n      <th>primaryName</th>\n      <th>birthYear</th>\n      <th>deathYear</th>\n      <th>primaryProfession</th>\n      <th>knownForTitles</th>\n    </tr>\n  </thead>\n  <tbody>\n    <tr>\n      <th>0</th>\n      <td>nm0000001</td>\n      <td>Fred Astaire</td>\n      <td>1899</td>\n      <td>1987</td>\n      <td>soundtrack,actor,miscellaneous</td>\n      <td>tt0027125,tt0050419,tt0053137,tt0072308</td>\n    </tr>\n    <tr>\n      <th>1</th>\n      <td>nm0000002</td>\n      <td>Lauren Bacall</td>\n      <td>1924</td>\n      <td>2014</td>\n      <td>actress,soundtrack</td>\n      <td>tt0038355,tt0037382,tt0075213,tt0117057</td>\n    </tr>\n    <tr>\n      <th>2</th>\n      <td>nm0000003</td>\n      <td>Brigitte Bardot</td>\n      <td>1934</td>\n      <td>\\N</td>\n      <td>actress,soundtrack,music_department</td>\n      <td>tt0049189,tt0054452,tt0056404,tt0057345</td>\n    </tr>\n    <tr>\n      <th>3</th>\n      <td>nm0000004</td>\n      <td>John Belushi</td>\n      <td>1949</td>\n      <td>1982</td>\n      <td>actor,soundtrack,writer</td>\n      <td>tt0078723,tt0080455,tt0072562,tt0077975</td>\n    </tr>\n    <tr>\n      <th>4</th>\n      <td>nm0000005</td>\n      <td>Ingmar Bergman</td>\n      <td>1918</td>\n      <td>2007</td>\n      <td>writer,director,actor</td>\n      <td>tt0083922,tt0069467,tt0050976,tt0050986</td>\n    </tr>\n  </tbody>\n</table>\n</div>"
     },
     "execution_count": 286,
     "metadata": {},
     "output_type": "execute_result"
    }
   ],
   "source": [
    "name_basics_data = pd.read_csv('data/name_basics_data.tsv', sep='\\t')\n",
    "\n",
    "name_basics_data.head()"
   ]
  },
  {
   "cell_type": "markdown",
   "source": [
    "Taking a look at \"title_ratings_data\""
   ],
   "metadata": {
    "collapsed": false
   },
   "id": "771753a6a0c742ab"
  },
  {
   "cell_type": "code",
   "execution_count": 287,
   "id": "57938a33a5898e0",
   "metadata": {
    "ExecuteTime": {
     "end_time": "2024-03-29T21:50:32.449618Z",
     "start_time": "2024-03-29T21:50:31.973916Z"
    }
   },
   "outputs": [
    {
     "data": {
      "text/plain": "      tconst  averageRating  numVotes\n0  tt0000001            5.7      2032\n1  tt0000002            5.7       272\n2  tt0000003            6.5      1973\n3  tt0000004            5.4       178\n4  tt0000005            6.2      2731",
      "text/html": "<div>\n<style scoped>\n    .dataframe tbody tr th:only-of-type {\n        vertical-align: middle;\n    }\n\n    .dataframe tbody tr th {\n        vertical-align: top;\n    }\n\n    .dataframe thead th {\n        text-align: right;\n    }\n</style>\n<table border=\"1\" class=\"dataframe\">\n  <thead>\n    <tr style=\"text-align: right;\">\n      <th></th>\n      <th>tconst</th>\n      <th>averageRating</th>\n      <th>numVotes</th>\n    </tr>\n  </thead>\n  <tbody>\n    <tr>\n      <th>0</th>\n      <td>tt0000001</td>\n      <td>5.7</td>\n      <td>2032</td>\n    </tr>\n    <tr>\n      <th>1</th>\n      <td>tt0000002</td>\n      <td>5.7</td>\n      <td>272</td>\n    </tr>\n    <tr>\n      <th>2</th>\n      <td>tt0000003</td>\n      <td>6.5</td>\n      <td>1973</td>\n    </tr>\n    <tr>\n      <th>3</th>\n      <td>tt0000004</td>\n      <td>5.4</td>\n      <td>178</td>\n    </tr>\n    <tr>\n      <th>4</th>\n      <td>tt0000005</td>\n      <td>6.2</td>\n      <td>2731</td>\n    </tr>\n  </tbody>\n</table>\n</div>"
     },
     "execution_count": 287,
     "metadata": {},
     "output_type": "execute_result"
    }
   ],
   "source": [
    "title_ratings_data = pd.read_csv('data/title_ratings_data.tsv', sep='\\t')\n",
    "\n",
    "title_ratings_data.head()"
   ]
  },
  {
   "cell_type": "markdown",
   "id": "64ebad0a5099dcf2",
   "metadata": {},
   "source": [
    "## 3. BACKGROUND RESEARCH"
   ]
  },
  {
   "cell_type": "markdown",
   "id": "be9390853143cb61",
   "metadata": {},
   "source": [
    "These datasets offer subsets of IMDb data accessible to customers for personal and non-commercial use, providing valuable insights into diverse facets of IMDb content, such as titles, cast and crew details, and user ratings.\n",
    "\n",
    "- Title Basics Dataset: Contains over 1 million entries (1,048,575), each uniquely identified by an alphanumeric code (tconst). Provides details such as title type/format, primary and original titles, adult content indicator, start and end years, runtime duration, and associated genres.\n",
    "- Name Basics Dataset: Also comprises over 1 million entries (1,048,575), with each entry identified by an alphanumeric code (nconst). Includes information about the primary name of individuals, birth and death years, primary professions, and titles they are known for.\n",
    "- Title Ratings Dataset: Consists of more than 1 million entries (1,048,575), identified by an alphanumeric code (tconst). Contains data on the average rating and number of votes received for each title.\n",
    "\n",
    "Upon researching each of the aforementioned topics and scrutinizing the associated metadata file for each dataset, the following conclusions can be drawn:\n",
    "\n",
    "* Identification of the top 10 movies by decade.\n",
    "* Compilation of the top 10 actors based on the highest number of appearances in movies and their ratings.\n",
    "* Determination of the top 10 rated movies, considering both ratings and the number of votes received.\n",
    "* Analysis of the most prevalent genres across the IMDb database."
   ]
  },
  {
   "cell_type": "markdown",
   "id": "f71031f7b0f7db14",
   "metadata": {},
   "source": [
    "## 4. READ IN THE DATA"
   ]
  },
  {
   "cell_type": "markdown",
   "id": "b0443ba95d65c690",
   "metadata": {},
   "source": [
    "Let's read each file into a pandas dataframe, and then store all the dataframes in a dictionary. This will give us a convenient way to store them, and a quick way to reference them later on. "
   ]
  },
  {
   "cell_type": "code",
   "execution_count": 288,
   "id": "19a471e1dcb55307",
   "metadata": {
    "ExecuteTime": {
     "end_time": "2024-03-29T21:50:36.229517Z",
     "start_time": "2024-03-29T21:50:32.450612Z"
    }
   },
   "outputs": [],
   "source": [
    "data_files = [\n",
    "    \"title_basics_data.tsv\",\n",
    "    \"title_ratings_data.tsv\",\n",
    "    \"name_basics_data.tsv\"\n",
    "]\n",
    "\n",
    "imdb_data = {}\n",
    "\n",
    "for file in data_files:\n",
    "    d = pd.read_csv(\"data/{0}\".format(file), sep='\\t')\n",
    "    key = file.replace(\".tsv\", \"\")\n",
    "    imdb_data[key] = d"
   ]
  },
  {
   "cell_type": "markdown",
   "id": "aa93edb8f615b424",
   "metadata": {},
   "source": [
    "### 4.1 Data Selection"
   ]
  },
  {
   "cell_type": "markdown",
   "id": "bc9b752fe9c4212d",
   "metadata": {},
   "source": [
    "We'll have to filter the data to remove the unnecessary one \"runtimeMinutes\" in the title_basics_data. Working with fewer columns will make it easier to print the dataframe out and find correlations within it."
   ]
  },
  {
   "cell_type": "code",
   "execution_count": 289,
   "id": "bdf9065dabbfbf73",
   "metadata": {
    "ExecuteTime": {
     "end_time": "2024-03-29T21:50:36.328107Z",
     "start_time": "2024-03-29T21:50:36.230513Z"
    }
   },
   "outputs": [],
   "source": [
    "imdb_data[\"title_basics_data\"] = imdb_data[\"title_basics_data\"].drop(columns=[\"runtimeMinutes\"])"
   ]
  },
  {
   "cell_type": "markdown",
   "id": "3dc439484ef07f5f",
   "metadata": {},
   "source": [
    "## 5. GETTING TO KNOW THE DATA"
   ]
  },
  {
   "cell_type": "code",
   "execution_count": 290,
   "id": "cb4591cd398c3914",
   "metadata": {
    "ExecuteTime": {
     "end_time": "2024-03-29T21:50:36.342538Z",
     "start_time": "2024-03-29T21:50:36.329103Z"
    }
   },
   "outputs": [
    {
     "name": "stdout",
     "output_type": "stream",
     "text": [
      "\n",
      "\u001B[1m title_basics_data \u001B[0m\n"
     ]
    },
    {
     "data": {
      "text/plain": "      tconst titleType            primaryTitle           originalTitle  \\\n0  tt0000001     short              Carmencita              Carmencita   \n1  tt0000002     short  Le clown et ses chiens  Le clown et ses chiens   \n2  tt0000003     short          Pauvre Pierrot          Pauvre Pierrot   \n3  tt0000004     short             Un bon bock             Un bon bock   \n4  tt0000005     short        Blacksmith Scene        Blacksmith Scene   \n\n   isAdult startYear endYear                    genres  \n0        0      1894      \\N         Documentary,Short  \n1        0      1892      \\N           Animation,Short  \n2        0      1892      \\N  Animation,Comedy,Romance  \n3        0      1892      \\N           Animation,Short  \n4        0      1893      \\N              Comedy,Short  ",
      "text/html": "<div>\n<style scoped>\n    .dataframe tbody tr th:only-of-type {\n        vertical-align: middle;\n    }\n\n    .dataframe tbody tr th {\n        vertical-align: top;\n    }\n\n    .dataframe thead th {\n        text-align: right;\n    }\n</style>\n<table border=\"1\" class=\"dataframe\">\n  <thead>\n    <tr style=\"text-align: right;\">\n      <th></th>\n      <th>tconst</th>\n      <th>titleType</th>\n      <th>primaryTitle</th>\n      <th>originalTitle</th>\n      <th>isAdult</th>\n      <th>startYear</th>\n      <th>endYear</th>\n      <th>genres</th>\n    </tr>\n  </thead>\n  <tbody>\n    <tr>\n      <th>0</th>\n      <td>tt0000001</td>\n      <td>short</td>\n      <td>Carmencita</td>\n      <td>Carmencita</td>\n      <td>0</td>\n      <td>1894</td>\n      <td>\\N</td>\n      <td>Documentary,Short</td>\n    </tr>\n    <tr>\n      <th>1</th>\n      <td>tt0000002</td>\n      <td>short</td>\n      <td>Le clown et ses chiens</td>\n      <td>Le clown et ses chiens</td>\n      <td>0</td>\n      <td>1892</td>\n      <td>\\N</td>\n      <td>Animation,Short</td>\n    </tr>\n    <tr>\n      <th>2</th>\n      <td>tt0000003</td>\n      <td>short</td>\n      <td>Pauvre Pierrot</td>\n      <td>Pauvre Pierrot</td>\n      <td>0</td>\n      <td>1892</td>\n      <td>\\N</td>\n      <td>Animation,Comedy,Romance</td>\n    </tr>\n    <tr>\n      <th>3</th>\n      <td>tt0000004</td>\n      <td>short</td>\n      <td>Un bon bock</td>\n      <td>Un bon bock</td>\n      <td>0</td>\n      <td>1892</td>\n      <td>\\N</td>\n      <td>Animation,Short</td>\n    </tr>\n    <tr>\n      <th>4</th>\n      <td>tt0000005</td>\n      <td>short</td>\n      <td>Blacksmith Scene</td>\n      <td>Blacksmith Scene</td>\n      <td>0</td>\n      <td>1893</td>\n      <td>\\N</td>\n      <td>Comedy,Short</td>\n    </tr>\n  </tbody>\n</table>\n</div>"
     },
     "metadata": {},
     "output_type": "display_data"
    },
    {
     "name": "stdout",
     "output_type": "stream",
     "text": [
      "\n",
      "\u001B[1m title_ratings_data \u001B[0m\n"
     ]
    },
    {
     "data": {
      "text/plain": "      tconst  averageRating  numVotes\n0  tt0000001            5.7      2032\n1  tt0000002            5.7       272\n2  tt0000003            6.5      1973\n3  tt0000004            5.4       178\n4  tt0000005            6.2      2731",
      "text/html": "<div>\n<style scoped>\n    .dataframe tbody tr th:only-of-type {\n        vertical-align: middle;\n    }\n\n    .dataframe tbody tr th {\n        vertical-align: top;\n    }\n\n    .dataframe thead th {\n        text-align: right;\n    }\n</style>\n<table border=\"1\" class=\"dataframe\">\n  <thead>\n    <tr style=\"text-align: right;\">\n      <th></th>\n      <th>tconst</th>\n      <th>averageRating</th>\n      <th>numVotes</th>\n    </tr>\n  </thead>\n  <tbody>\n    <tr>\n      <th>0</th>\n      <td>tt0000001</td>\n      <td>5.7</td>\n      <td>2032</td>\n    </tr>\n    <tr>\n      <th>1</th>\n      <td>tt0000002</td>\n      <td>5.7</td>\n      <td>272</td>\n    </tr>\n    <tr>\n      <th>2</th>\n      <td>tt0000003</td>\n      <td>6.5</td>\n      <td>1973</td>\n    </tr>\n    <tr>\n      <th>3</th>\n      <td>tt0000004</td>\n      <td>5.4</td>\n      <td>178</td>\n    </tr>\n    <tr>\n      <th>4</th>\n      <td>tt0000005</td>\n      <td>6.2</td>\n      <td>2731</td>\n    </tr>\n  </tbody>\n</table>\n</div>"
     },
     "metadata": {},
     "output_type": "display_data"
    },
    {
     "name": "stdout",
     "output_type": "stream",
     "text": [
      "\n",
      "\u001B[1m name_basics_data \u001B[0m\n"
     ]
    },
    {
     "data": {
      "text/plain": "      nconst      primaryName birthYear deathYear  \\\n0  nm0000001     Fred Astaire      1899      1987   \n1  nm0000002    Lauren Bacall      1924      2014   \n2  nm0000003  Brigitte Bardot      1934        \\N   \n3  nm0000004     John Belushi      1949      1982   \n4  nm0000005   Ingmar Bergman      1918      2007   \n\n                     primaryProfession  \\\n0       soundtrack,actor,miscellaneous   \n1                   actress,soundtrack   \n2  actress,soundtrack,music_department   \n3              actor,soundtrack,writer   \n4                writer,director,actor   \n\n                            knownForTitles  \n0  tt0027125,tt0050419,tt0053137,tt0072308  \n1  tt0038355,tt0037382,tt0075213,tt0117057  \n2  tt0049189,tt0054452,tt0056404,tt0057345  \n3  tt0078723,tt0080455,tt0072562,tt0077975  \n4  tt0083922,tt0069467,tt0050976,tt0050986  ",
      "text/html": "<div>\n<style scoped>\n    .dataframe tbody tr th:only-of-type {\n        vertical-align: middle;\n    }\n\n    .dataframe tbody tr th {\n        vertical-align: top;\n    }\n\n    .dataframe thead th {\n        text-align: right;\n    }\n</style>\n<table border=\"1\" class=\"dataframe\">\n  <thead>\n    <tr style=\"text-align: right;\">\n      <th></th>\n      <th>nconst</th>\n      <th>primaryName</th>\n      <th>birthYear</th>\n      <th>deathYear</th>\n      <th>primaryProfession</th>\n      <th>knownForTitles</th>\n    </tr>\n  </thead>\n  <tbody>\n    <tr>\n      <th>0</th>\n      <td>nm0000001</td>\n      <td>Fred Astaire</td>\n      <td>1899</td>\n      <td>1987</td>\n      <td>soundtrack,actor,miscellaneous</td>\n      <td>tt0027125,tt0050419,tt0053137,tt0072308</td>\n    </tr>\n    <tr>\n      <th>1</th>\n      <td>nm0000002</td>\n      <td>Lauren Bacall</td>\n      <td>1924</td>\n      <td>2014</td>\n      <td>actress,soundtrack</td>\n      <td>tt0038355,tt0037382,tt0075213,tt0117057</td>\n    </tr>\n    <tr>\n      <th>2</th>\n      <td>nm0000003</td>\n      <td>Brigitte Bardot</td>\n      <td>1934</td>\n      <td>\\N</td>\n      <td>actress,soundtrack,music_department</td>\n      <td>tt0049189,tt0054452,tt0056404,tt0057345</td>\n    </tr>\n    <tr>\n      <th>3</th>\n      <td>nm0000004</td>\n      <td>John Belushi</td>\n      <td>1949</td>\n      <td>1982</td>\n      <td>actor,soundtrack,writer</td>\n      <td>tt0078723,tt0080455,tt0072562,tt0077975</td>\n    </tr>\n    <tr>\n      <th>4</th>\n      <td>nm0000005</td>\n      <td>Ingmar Bergman</td>\n      <td>1918</td>\n      <td>2007</td>\n      <td>writer,director,actor</td>\n      <td>tt0083922,tt0069467,tt0050976,tt0050986</td>\n    </tr>\n  </tbody>\n</table>\n</div>"
     },
     "metadata": {},
     "output_type": "display_data"
    }
   ],
   "source": [
    "for key, value in imdb_data.items():\n",
    "    print(\"\\n\\033[1m\", key, \"\\033[0m\")\n",
    "    display(value.head())"
   ]
  },
  {
   "cell_type": "markdown",
   "id": "97c7c3b44c1118f5",
   "metadata": {},
   "source": [
    "The primary key in each dataset is as follows:\n",
    "\n",
    "- title_basics_data: Primary Key: tconst\n",
    "\n",
    "- name_basics_data: Primary Key: nconst\n",
    "\n",
    "- title_ratings_data: Primary Key: tconst\n",
    "\n",
    "\n",
    "To combine the three datasets, we can perform a merge operation based on the common key, which is \"tconst\" in both the title basics dataset and the title ratings dataset.\n",
    "\n",
    "We can then merge the resulting DataFrame with the name basics dataset based on the common key \"tconst\", which will be extracted from the \"knownForTitles\" column in name_basics_data. We'll split the comma-separated values in the \"knownForTitles\" column of the name_basics_data dataset and explode them into separate rows. This transformation ensures that each 'tconst' value appears in its own row, facilitating the merge operation.\n",
    "\n",
    "This merge combines information from all three datasets, resulting in a single DataFrame that contains comprehensive information about titles, ratings, and cast/crew members."
   ]
  },
  {
   "cell_type": "markdown",
   "id": "1ee3a923",
   "metadata": {},
   "source": [
    "### 5.1 Dataframe 'title_basics_data'"
   ]
  },
  {
   "cell_type": "code",
   "execution_count": 291,
   "id": "117ea1a7",
   "metadata": {
    "ExecuteTime": {
     "end_time": "2024-03-29T21:50:36.350452Z",
     "start_time": "2024-03-29T21:50:36.343535Z"
    }
   },
   "outputs": [
    {
     "data": {
      "text/plain": "      tconst titleType            primaryTitle           originalTitle  \\\n0  tt0000001     short              Carmencita              Carmencita   \n1  tt0000002     short  Le clown et ses chiens  Le clown et ses chiens   \n2  tt0000003     short          Pauvre Pierrot          Pauvre Pierrot   \n3  tt0000004     short             Un bon bock             Un bon bock   \n4  tt0000005     short        Blacksmith Scene        Blacksmith Scene   \n\n   isAdult startYear endYear                    genres  \n0        0      1894      \\N         Documentary,Short  \n1        0      1892      \\N           Animation,Short  \n2        0      1892      \\N  Animation,Comedy,Romance  \n3        0      1892      \\N           Animation,Short  \n4        0      1893      \\N              Comedy,Short  ",
      "text/html": "<div>\n<style scoped>\n    .dataframe tbody tr th:only-of-type {\n        vertical-align: middle;\n    }\n\n    .dataframe tbody tr th {\n        vertical-align: top;\n    }\n\n    .dataframe thead th {\n        text-align: right;\n    }\n</style>\n<table border=\"1\" class=\"dataframe\">\n  <thead>\n    <tr style=\"text-align: right;\">\n      <th></th>\n      <th>tconst</th>\n      <th>titleType</th>\n      <th>primaryTitle</th>\n      <th>originalTitle</th>\n      <th>isAdult</th>\n      <th>startYear</th>\n      <th>endYear</th>\n      <th>genres</th>\n    </tr>\n  </thead>\n  <tbody>\n    <tr>\n      <th>0</th>\n      <td>tt0000001</td>\n      <td>short</td>\n      <td>Carmencita</td>\n      <td>Carmencita</td>\n      <td>0</td>\n      <td>1894</td>\n      <td>\\N</td>\n      <td>Documentary,Short</td>\n    </tr>\n    <tr>\n      <th>1</th>\n      <td>tt0000002</td>\n      <td>short</td>\n      <td>Le clown et ses chiens</td>\n      <td>Le clown et ses chiens</td>\n      <td>0</td>\n      <td>1892</td>\n      <td>\\N</td>\n      <td>Animation,Short</td>\n    </tr>\n    <tr>\n      <th>2</th>\n      <td>tt0000003</td>\n      <td>short</td>\n      <td>Pauvre Pierrot</td>\n      <td>Pauvre Pierrot</td>\n      <td>0</td>\n      <td>1892</td>\n      <td>\\N</td>\n      <td>Animation,Comedy,Romance</td>\n    </tr>\n    <tr>\n      <th>3</th>\n      <td>tt0000004</td>\n      <td>short</td>\n      <td>Un bon bock</td>\n      <td>Un bon bock</td>\n      <td>0</td>\n      <td>1892</td>\n      <td>\\N</td>\n      <td>Animation,Short</td>\n    </tr>\n    <tr>\n      <th>4</th>\n      <td>tt0000005</td>\n      <td>short</td>\n      <td>Blacksmith Scene</td>\n      <td>Blacksmith Scene</td>\n      <td>0</td>\n      <td>1893</td>\n      <td>\\N</td>\n      <td>Comedy,Short</td>\n    </tr>\n  </tbody>\n</table>\n</div>"
     },
     "execution_count": 291,
     "metadata": {},
     "output_type": "execute_result"
    }
   ],
   "source": [
    "imdb_data['title_basics_data'].head()"
   ]
  },
  {
   "cell_type": "markdown",
   "id": "4df8bd1a",
   "metadata": {},
   "source": [
    "#### A. Column 'isAdult'"
   ]
  },
  {
   "cell_type": "code",
   "execution_count": 292,
   "id": "d02ee8f9",
   "metadata": {
    "ExecuteTime": {
     "end_time": "2024-03-29T21:50:36.360689Z",
     "start_time": "2024-03-29T21:50:36.351448Z"
    }
   },
   "outputs": [
    {
     "data": {
      "text/plain": "0    0.9592\n1    0.0408\nName: isAdult, dtype: float64"
     },
     "execution_count": 292,
     "metadata": {},
     "output_type": "execute_result"
    }
   ],
   "source": [
    "round(imdb_data['title_basics_data']['isAdult'].value_counts(normalize=True), 4)"
   ]
  },
  {
   "cell_type": "markdown",
   "id": "9a61eba1",
   "metadata": {},
   "source": [
    "There are only 4.08% of movies in df 'title_basics_data' classified for only adults."
   ]
  },
  {
   "cell_type": "markdown",
   "id": "4fb964fb",
   "metadata": {},
   "source": [
    "#### B. Columns 'startYear'"
   ]
  },
  {
   "cell_type": "code",
   "execution_count": 293,
   "id": "76bc2850",
   "metadata": {
    "ExecuteTime": {
     "end_time": "2024-03-29T21:50:36.367423Z",
     "start_time": "2024-03-29T21:50:36.362685Z"
    }
   },
   "outputs": [
    {
     "data": {
      "text/plain": "0          1894\n1          1892\n2          1892\n3          1892\n4          1893\n           ... \n1048570    2011\n1048571    2019\n1048572    2013\n1048573    2013\n1048574    2004\nName: startYear, Length: 1048575, dtype: object"
     },
     "execution_count": 293,
     "metadata": {},
     "output_type": "execute_result"
    }
   ],
   "source": [
    "imdb_data['title_basics_data']['startYear']"
   ]
  },
  {
   "cell_type": "markdown",
   "id": "7553de2f",
   "metadata": {},
   "source": [
    "### 5.2 Dataframe 'title_ratings_data'"
   ]
  },
  {
   "cell_type": "code",
   "execution_count": 294,
   "id": "54aae63f",
   "metadata": {
    "ExecuteTime": {
     "end_time": "2024-03-29T21:50:36.373897Z",
     "start_time": "2024-03-29T21:50:36.368418Z"
    }
   },
   "outputs": [
    {
     "data": {
      "text/plain": "      tconst  averageRating  numVotes\n0  tt0000001            5.7      2032\n1  tt0000002            5.7       272\n2  tt0000003            6.5      1973\n3  tt0000004            5.4       178\n4  tt0000005            6.2      2731",
      "text/html": "<div>\n<style scoped>\n    .dataframe tbody tr th:only-of-type {\n        vertical-align: middle;\n    }\n\n    .dataframe tbody tr th {\n        vertical-align: top;\n    }\n\n    .dataframe thead th {\n        text-align: right;\n    }\n</style>\n<table border=\"1\" class=\"dataframe\">\n  <thead>\n    <tr style=\"text-align: right;\">\n      <th></th>\n      <th>tconst</th>\n      <th>averageRating</th>\n      <th>numVotes</th>\n    </tr>\n  </thead>\n  <tbody>\n    <tr>\n      <th>0</th>\n      <td>tt0000001</td>\n      <td>5.7</td>\n      <td>2032</td>\n    </tr>\n    <tr>\n      <th>1</th>\n      <td>tt0000002</td>\n      <td>5.7</td>\n      <td>272</td>\n    </tr>\n    <tr>\n      <th>2</th>\n      <td>tt0000003</td>\n      <td>6.5</td>\n      <td>1973</td>\n    </tr>\n    <tr>\n      <th>3</th>\n      <td>tt0000004</td>\n      <td>5.4</td>\n      <td>178</td>\n    </tr>\n    <tr>\n      <th>4</th>\n      <td>tt0000005</td>\n      <td>6.2</td>\n      <td>2731</td>\n    </tr>\n  </tbody>\n</table>\n</div>"
     },
     "execution_count": 294,
     "metadata": {},
     "output_type": "execute_result"
    }
   ],
   "source": [
    "imdb_data['title_ratings_data'].head()"
   ]
  },
  {
   "cell_type": "markdown",
   "id": "c1463f9b",
   "metadata": {},
   "source": [
    "#### A. Column 'Average rating'"
   ]
  },
  {
   "cell_type": "code",
   "execution_count": 295,
   "id": "4764ef37",
   "metadata": {
    "ExecuteTime": {
     "end_time": "2024-03-29T21:50:36.403584Z",
     "start_time": "2024-03-29T21:50:36.374892Z"
    }
   },
   "outputs": [
    {
     "data": {
      "text/plain": "count    1,048,575.0\nmean            6.91\nstd             1.38\nmin              1.0\n25%              6.2\n50%              7.1\n75%              7.8\nmax             10.0\nName: averageRating, dtype: object"
     },
     "execution_count": 295,
     "metadata": {},
     "output_type": "execute_result"
    }
   ],
   "source": [
    "imdb_data['title_ratings_data']['averageRating'].describe().apply(lambda x: format(round(x, 2), ','))"
   ]
  },
  {
   "cell_type": "code",
   "execution_count": 296,
   "id": "df34ca90",
   "metadata": {
    "ExecuteTime": {
     "end_time": "2024-03-29T21:50:36.624742Z",
     "start_time": "2024-03-29T21:50:36.404586Z"
    }
   },
   "outputs": [
    {
     "data": {
      "text/plain": "<Figure size 640x480 with 1 Axes>",
      "image/png": "[encoded data removed]"
     },
     "metadata": {},
     "output_type": "display_data"
    }
   ],
   "source": [
    "imdb_data['title_ratings_data']['averageRating'].plot(kind='hist', xlabel='Average rating', ylabel='Number of movies',\n",
    "                                                      title=\"Distribution of movies by 'Average rating'\")\n",
    "plt.show()"
   ]
  },
  {
   "cell_type": "markdown",
   "id": "422d7f59",
   "metadata": {},
   "source": [
    "The distribution of the values of 'Average rating' column is left-skewed. And its median is 7.1."
   ]
  },
  {
   "cell_type": "markdown",
   "id": "4fcfd412",
   "metadata": {},
   "source": [
    "#### B. Column 'Number of votes'"
   ]
  },
  {
   "cell_type": "code",
   "execution_count": 297,
   "id": "0cda7a93",
   "metadata": {
    "ExecuteTime": {
     "end_time": "2024-03-29T21:50:36.649247Z",
     "start_time": "2024-03-29T21:50:36.625744Z"
    }
   },
   "outputs": [
    {
     "data": {
      "text/plain": "count    1,048,575\nmean         1,153\nstd         19,494\nmin              5\n25%             12\n50%             28\n75%            107\nmax      2,865,377\nName: numVotes, dtype: object"
     },
     "execution_count": 297,
     "metadata": {},
     "output_type": "execute_result"
    }
   ],
   "source": [
    "imdb_data['title_ratings_data']['numVotes'].describe().apply(lambda x: format(int(x), ','))"
   ]
  },
  {
   "cell_type": "markdown",
   "id": "17060517",
   "metadata": {},
   "source": [
    "The number of votes for the 4th quantile of movies is within 107 and 2,865,377 votes."
   ]
  },
  {
   "cell_type": "markdown",
   "id": "51a4592b",
   "metadata": {},
   "source": [
    "### 5.3 Dataframe 'name_basics_data'"
   ]
  },
  {
   "cell_type": "markdown",
   "id": "5dafe13c",
   "metadata": {},
   "source": [
    "#### A. Column 'birthYear'"
   ]
  },
  {
   "cell_type": "code",
   "execution_count": 298,
   "id": "5417c71b",
   "metadata": {
    "ExecuteTime": {
     "end_time": "2024-03-29T21:50:37.536368Z",
     "start_time": "2024-03-29T21:50:36.650249Z"
    }
   },
   "outputs": [
    {
     "data": {
      "text/plain": "<Figure size 640x480 with 1 Axes>",
      "image/png": "[encoded data removed]"
     },
     "metadata": {},
     "output_type": "display_data"
    }
   ],
   "source": [
    "birthyear = pd.to_numeric(imdb_data['name_basics_data']['birthYear'], errors='coerce').dropna()\n",
    "plt.hist(birthyear[birthyear >= 1900])\n",
    "plt.show()"
   ]
  },
  {
   "cell_type": "markdown",
   "id": "8df75620",
   "metadata": {},
   "source": [
    "The most frequent decades of birth of workers stored in the dataframe are:"
   ]
  },
  {
   "cell_type": "code",
   "execution_count": 299,
   "id": "df37b6fa",
   "metadata": {
    "ExecuteTime": {
     "end_time": "2024-03-29T21:50:37.553928Z",
     "start_time": "2024-03-29T21:50:37.537363Z"
    }
   },
   "outputs": [
    {
     "data": {
      "text/plain": "1940.0    33640\n1960.0    32809\n1950.0    31380\n1930.0    29051\n1920.0    28123\nName: birthYear, dtype: int64"
     },
     "execution_count": 299,
     "metadata": {},
     "output_type": "execute_result"
    }
   ],
   "source": [
    "birthyear_decade = (birthyear[birthyear >= 1900] // 10 * 10)\n",
    "birthyear_decade.value_counts().head()"
   ]
  },
  {
   "cell_type": "markdown",
   "id": "e17ab236",
   "metadata": {},
   "source": [
    "#### B. Column 'primaryProfession'"
   ]
  },
  {
   "cell_type": "markdown",
   "id": "3e1ca763",
   "metadata": {},
   "source": [
    "The most frequent professions are:"
   ]
  },
  {
   "cell_type": "code",
   "execution_count": 300,
   "id": "027c1cbd",
   "metadata": {
    "ExecuteTime": {
     "end_time": "2024-03-29T21:50:39.850027Z",
     "start_time": "2024-03-29T21:50:37.554924Z"
    }
   },
   "outputs": [
    {
     "data": {
      "text/plain": "actor                353678\nactress              214971\nmiscellaneous        134326\nwriter               122557\nproducer             116475\ndirector              87240\ncamera_department     65885\nart_department        51083\nsoundtrack            44794\nsound_department      34284\ndtype: int64"
     },
     "execution_count": 300,
     "metadata": {},
     "output_type": "execute_result"
    }
   ],
   "source": [
    "profession = imdb_data['name_basics_data']['primaryProfession'].str.split(',', expand=True).stack().reset_index(\n",
    "    drop=True)\n",
    "profession.value_counts()[:10]"
   ]
  },
  {
   "cell_type": "markdown",
   "id": "05513126",
   "metadata": {},
   "source": [
    "#### C. Column 'name_basics_data'"
   ]
  },
  {
   "cell_type": "code",
   "execution_count": 301,
   "id": "29fc11fe",
   "metadata": {
    "ExecuteTime": {
     "end_time": "2024-03-29T21:50:40.587018Z",
     "start_time": "2024-03-29T21:50:39.851024Z"
    }
   },
   "outputs": [
    {
     "data": {
      "text/plain": "<Figure size 640x480 with 1 Axes>",
      "image/png": "[encoded data removed]"
     },
     "metadata": {},
     "output_type": "display_data"
    }
   ],
   "source": [
    "birthyear = pd.to_numeric(imdb_data['name_basics_data']['birthYear'], errors='coerce').dropna()\n",
    "plt.boxplot(birthyear, vert=False)\n",
    "plt.show()"
   ]
  },
  {
   "cell_type": "markdown",
   "id": "a543d562",
   "metadata": {},
   "source": [
    "## 6. DATA PREPARATION"
   ]
  },
  {
   "cell_type": "markdown",
   "id": "95fe2695",
   "metadata": {},
   "source": [
    "### 6.1 Create calculated columns"
   ]
  },
  {
   "cell_type": "markdown",
   "id": "fb1e19d1",
   "metadata": {},
   "source": [
    "#### A. Splitting the key for 'title_basics_data'"
   ]
  },
  {
   "cell_type": "code",
   "execution_count": 302,
   "id": "c67ae228",
   "metadata": {
    "ExecuteTime": {
     "end_time": "2024-03-29T21:50:43.003074Z",
     "start_time": "2024-03-29T21:50:40.588013Z"
    }
   },
   "outputs": [
    {
     "data": {
      "text/plain": "              genre1  genre2   genre3\n0        Documentary   Short     None\n1          Animation   Short     None\n2          Animation  Comedy  Romance\n3          Animation   Short     None\n4             Comedy   Short     None\n...              ...     ...      ...\n1048570        Drama    None     None\n1048571        Short    None     None\n1048572       Comedy    None     None\n1048573       Comedy    None     None\n1048574       Comedy    None     None\n\n[1048575 rows x 3 columns]",
      "text/html": "<div>\n<style scoped>\n    .dataframe tbody tr th:only-of-type {\n        vertical-align: middle;\n    }\n\n    .dataframe tbody tr th {\n        vertical-align: top;\n    }\n\n    .dataframe thead th {\n        text-align: right;\n    }\n</style>\n<table border=\"1\" class=\"dataframe\">\n  <thead>\n    <tr style=\"text-align: right;\">\n      <th></th>\n      <th>genre1</th>\n      <th>genre2</th>\n      <th>genre3</th>\n    </tr>\n  </thead>\n  <tbody>\n    <tr>\n      <th>0</th>\n      <td>Documentary</td>\n      <td>Short</td>\n      <td>None</td>\n    </tr>\n    <tr>\n      <th>1</th>\n      <td>Animation</td>\n      <td>Short</td>\n      <td>None</td>\n    </tr>\n    <tr>\n      <th>2</th>\n      <td>Animation</td>\n      <td>Comedy</td>\n      <td>Romance</td>\n    </tr>\n    <tr>\n      <th>3</th>\n      <td>Animation</td>\n      <td>Short</td>\n      <td>None</td>\n    </tr>\n    <tr>\n      <th>4</th>\n      <td>Comedy</td>\n      <td>Short</td>\n      <td>None</td>\n    </tr>\n    <tr>\n      <th>...</th>\n      <td>...</td>\n      <td>...</td>\n      <td>...</td>\n    </tr>\n    <tr>\n      <th>1048570</th>\n      <td>Drama</td>\n      <td>None</td>\n      <td>None</td>\n    </tr>\n    <tr>\n      <th>1048571</th>\n      <td>Short</td>\n      <td>None</td>\n      <td>None</td>\n    </tr>\n    <tr>\n      <th>1048572</th>\n      <td>Comedy</td>\n      <td>None</td>\n      <td>None</td>\n    </tr>\n    <tr>\n      <th>1048573</th>\n      <td>Comedy</td>\n      <td>None</td>\n      <td>None</td>\n    </tr>\n    <tr>\n      <th>1048574</th>\n      <td>Comedy</td>\n      <td>None</td>\n      <td>None</td>\n    </tr>\n  </tbody>\n</table>\n<p>1048575 rows × 3 columns</p>\n</div>"
     },
     "execution_count": 302,
     "metadata": {},
     "output_type": "execute_result"
    }
   ],
   "source": [
    "df_titles = imdb_data['title_basics_data']\n",
    "key_titles = df_titles['genres'].str.split(',', expand=True)\n",
    "\n",
    "new_genre_columns = ['genre1', 'genre2', 'genre3']\n",
    "\n",
    "key_titles.columns = new_genre_columns\n",
    "key_titles"
   ]
  },
  {
   "cell_type": "code",
   "execution_count": 303,
   "id": "85639fbb",
   "metadata": {
    "ExecuteTime": {
     "end_time": "2024-03-29T21:50:43.120297Z",
     "start_time": "2024-03-29T21:50:43.003583Z"
    }
   },
   "outputs": [
    {
     "data": {
      "text/plain": "      tconst titleType            primaryTitle           originalTitle  \\\n0  tt0000001     short              Carmencita              Carmencita   \n1  tt0000002     short  Le clown et ses chiens  Le clown et ses chiens   \n2  tt0000003     short          Pauvre Pierrot          Pauvre Pierrot   \n3  tt0000004     short             Un bon bock             Un bon bock   \n4  tt0000005     short        Blacksmith Scene        Blacksmith Scene   \n\n   isAdult startYear endYear                    genres       genre1  genre2  \\\n0        0      1894      \\N         Documentary,Short  Documentary   Short   \n1        0      1892      \\N           Animation,Short    Animation   Short   \n2        0      1892      \\N  Animation,Comedy,Romance    Animation  Comedy   \n3        0      1892      \\N           Animation,Short    Animation   Short   \n4        0      1893      \\N              Comedy,Short       Comedy   Short   \n\n    genre3  \n0     None  \n1     None  \n2  Romance  \n3     None  \n4     None  ",
      "text/html": "<div>\n<style scoped>\n    .dataframe tbody tr th:only-of-type {\n        vertical-align: middle;\n    }\n\n    .dataframe tbody tr th {\n        vertical-align: top;\n    }\n\n    .dataframe thead th {\n        text-align: right;\n    }\n</style>\n<table border=\"1\" class=\"dataframe\">\n  <thead>\n    <tr style=\"text-align: right;\">\n      <th></th>\n      <th>tconst</th>\n      <th>titleType</th>\n      <th>primaryTitle</th>\n      <th>originalTitle</th>\n      <th>isAdult</th>\n      <th>startYear</th>\n      <th>endYear</th>\n      <th>genres</th>\n      <th>genre1</th>\n      <th>genre2</th>\n      <th>genre3</th>\n    </tr>\n  </thead>\n  <tbody>\n    <tr>\n      <th>0</th>\n      <td>tt0000001</td>\n      <td>short</td>\n      <td>Carmencita</td>\n      <td>Carmencita</td>\n      <td>0</td>\n      <td>1894</td>\n      <td>\\N</td>\n      <td>Documentary,Short</td>\n      <td>Documentary</td>\n      <td>Short</td>\n      <td>None</td>\n    </tr>\n    <tr>\n      <th>1</th>\n      <td>tt0000002</td>\n      <td>short</td>\n      <td>Le clown et ses chiens</td>\n      <td>Le clown et ses chiens</td>\n      <td>0</td>\n      <td>1892</td>\n      <td>\\N</td>\n      <td>Animation,Short</td>\n      <td>Animation</td>\n      <td>Short</td>\n      <td>None</td>\n    </tr>\n    <tr>\n      <th>2</th>\n      <td>tt0000003</td>\n      <td>short</td>\n      <td>Pauvre Pierrot</td>\n      <td>Pauvre Pierrot</td>\n      <td>0</td>\n      <td>1892</td>\n      <td>\\N</td>\n      <td>Animation,Comedy,Romance</td>\n      <td>Animation</td>\n      <td>Comedy</td>\n      <td>Romance</td>\n    </tr>\n    <tr>\n      <th>3</th>\n      <td>tt0000004</td>\n      <td>short</td>\n      <td>Un bon bock</td>\n      <td>Un bon bock</td>\n      <td>0</td>\n      <td>1892</td>\n      <td>\\N</td>\n      <td>Animation,Short</td>\n      <td>Animation</td>\n      <td>Short</td>\n      <td>None</td>\n    </tr>\n    <tr>\n      <th>4</th>\n      <td>tt0000005</td>\n      <td>short</td>\n      <td>Blacksmith Scene</td>\n      <td>Blacksmith Scene</td>\n      <td>0</td>\n      <td>1893</td>\n      <td>\\N</td>\n      <td>Comedy,Short</td>\n      <td>Comedy</td>\n      <td>Short</td>\n      <td>None</td>\n    </tr>\n  </tbody>\n</table>\n</div>"
     },
     "execution_count": 303,
     "metadata": {},
     "output_type": "execute_result"
    }
   ],
   "source": [
    "df_titles = pd.concat([df_titles, key_titles], axis=1)\n",
    "df_titles.head()"
   ]
  },
  {
   "cell_type": "markdown",
   "id": "b52f80f1",
   "metadata": {},
   "source": [
    "#### B. Calculating the decade of titles"
   ]
  },
  {
   "cell_type": "code",
   "execution_count": 304,
   "id": "906785d2",
   "metadata": {
    "ExecuteTime": {
     "end_time": "2024-03-29T21:50:44.345628Z",
     "start_time": "2024-03-29T21:50:43.121292Z"
    }
   },
   "outputs": [
    {
     "data": {
      "text/plain": "      tconst titleType            primaryTitle           originalTitle  \\\n0  tt0000001     short              Carmencita              Carmencita   \n1  tt0000002     short  Le clown et ses chiens  Le clown et ses chiens   \n2  tt0000003     short          Pauvre Pierrot          Pauvre Pierrot   \n3  tt0000004     short             Un bon bock             Un bon bock   \n4  tt0000005     short        Blacksmith Scene        Blacksmith Scene   \n\n   isAdult startYear endYear                    genres       genre1  genre2  \\\n0        0      1894      \\N         Documentary,Short  Documentary   Short   \n1        0      1892      \\N           Animation,Short    Animation   Short   \n2        0      1892      \\N  Animation,Comedy,Romance    Animation  Comedy   \n3        0      1892      \\N           Animation,Short    Animation   Short   \n4        0      1893      \\N              Comedy,Short       Comedy   Short   \n\n    genre3  startDecade  \n0     None         1894  \n1     None         1892  \n2  Romance         1892  \n3     None         1892  \n4     None         1893  ",
      "text/html": "<div>\n<style scoped>\n    .dataframe tbody tr th:only-of-type {\n        vertical-align: middle;\n    }\n\n    .dataframe tbody tr th {\n        vertical-align: top;\n    }\n\n    .dataframe thead th {\n        text-align: right;\n    }\n</style>\n<table border=\"1\" class=\"dataframe\">\n  <thead>\n    <tr style=\"text-align: right;\">\n      <th></th>\n      <th>tconst</th>\n      <th>titleType</th>\n      <th>primaryTitle</th>\n      <th>originalTitle</th>\n      <th>isAdult</th>\n      <th>startYear</th>\n      <th>endYear</th>\n      <th>genres</th>\n      <th>genre1</th>\n      <th>genre2</th>\n      <th>genre3</th>\n      <th>startDecade</th>\n    </tr>\n  </thead>\n  <tbody>\n    <tr>\n      <th>0</th>\n      <td>tt0000001</td>\n      <td>short</td>\n      <td>Carmencita</td>\n      <td>Carmencita</td>\n      <td>0</td>\n      <td>1894</td>\n      <td>\\N</td>\n      <td>Documentary,Short</td>\n      <td>Documentary</td>\n      <td>Short</td>\n      <td>None</td>\n      <td>1894</td>\n    </tr>\n    <tr>\n      <th>1</th>\n      <td>tt0000002</td>\n      <td>short</td>\n      <td>Le clown et ses chiens</td>\n      <td>Le clown et ses chiens</td>\n      <td>0</td>\n      <td>1892</td>\n      <td>\\N</td>\n      <td>Animation,Short</td>\n      <td>Animation</td>\n      <td>Short</td>\n      <td>None</td>\n      <td>1892</td>\n    </tr>\n    <tr>\n      <th>2</th>\n      <td>tt0000003</td>\n      <td>short</td>\n      <td>Pauvre Pierrot</td>\n      <td>Pauvre Pierrot</td>\n      <td>0</td>\n      <td>1892</td>\n      <td>\\N</td>\n      <td>Animation,Comedy,Romance</td>\n      <td>Animation</td>\n      <td>Comedy</td>\n      <td>Romance</td>\n      <td>1892</td>\n    </tr>\n    <tr>\n      <th>3</th>\n      <td>tt0000004</td>\n      <td>short</td>\n      <td>Un bon bock</td>\n      <td>Un bon bock</td>\n      <td>0</td>\n      <td>1892</td>\n      <td>\\N</td>\n      <td>Animation,Short</td>\n      <td>Animation</td>\n      <td>Short</td>\n      <td>None</td>\n      <td>1892</td>\n    </tr>\n    <tr>\n      <th>4</th>\n      <td>tt0000005</td>\n      <td>short</td>\n      <td>Blacksmith Scene</td>\n      <td>Blacksmith Scene</td>\n      <td>0</td>\n      <td>1893</td>\n      <td>\\N</td>\n      <td>Comedy,Short</td>\n      <td>Comedy</td>\n      <td>Short</td>\n      <td>None</td>\n      <td>1893</td>\n    </tr>\n  </tbody>\n</table>\n</div>"
     },
     "execution_count": 304,
     "metadata": {},
     "output_type": "execute_result"
    }
   ],
   "source": [
    "decades = pd.to_numeric(df_titles['startYear'], errors='coerce')\n",
    "decades = decades.apply(lambda x: int(x) if pd.notna(x) else 0)\n",
    "df_titles['startDecade'] = decades\n",
    "\n",
    "df_titles.head()"
   ]
  },
  {
   "cell_type": "markdown",
   "id": "5dd7b41c",
   "metadata": {},
   "source": [
    "#### C. Splitting the key for 'name_basics_data'"
   ]
  },
  {
   "cell_type": "code",
   "execution_count": 305,
   "id": "5cf634bf",
   "metadata": {
    "ExecuteTime": {
     "end_time": "2024-03-29T21:50:46.850842Z",
     "start_time": "2024-03-29T21:50:44.345628Z"
    }
   },
   "outputs": [
    {
     "data": {
      "text/plain": "            title1     title2     title3     title4 title5 title6 title7\n0        tt0027125  tt0050419  tt0053137  tt0072308   None   None   None\n1        tt0038355  tt0037382  tt0075213  tt0117057   None   None   None\n2        tt0049189  tt0054452  tt0056404  tt0057345   None   None   None\n3        tt0078723  tt0080455  tt0072562  tt0077975   None   None   None\n4        tt0083922  tt0069467  tt0050976  tt0050986   None   None   None\n...            ...        ...        ...        ...    ...    ...    ...\n1048570  tt9028956       None       None       None   None   None   None\n1048571  tt9013146  tt9490002       None       None   None   None   None\n1048572  tt4368588       None       None       None   None   None   None\n1048573         \\N       None       None       None   None   None   None\n1048574         \\N       None       None       None   None   None   None\n\n[1048575 rows x 7 columns]",
      "text/html": "<div>\n<style scoped>\n    .dataframe tbody tr th:only-of-type {\n        vertical-align: middle;\n    }\n\n    .dataframe tbody tr th {\n        vertical-align: top;\n    }\n\n    .dataframe thead th {\n        text-align: right;\n    }\n</style>\n<table border=\"1\" class=\"dataframe\">\n  <thead>\n    <tr style=\"text-align: right;\">\n      <th></th>\n      <th>title1</th>\n      <th>title2</th>\n      <th>title3</th>\n      <th>title4</th>\n      <th>title5</th>\n      <th>title6</th>\n      <th>title7</th>\n    </tr>\n  </thead>\n  <tbody>\n    <tr>\n      <th>0</th>\n      <td>tt0027125</td>\n      <td>tt0050419</td>\n      <td>tt0053137</td>\n      <td>tt0072308</td>\n      <td>None</td>\n      <td>None</td>\n      <td>None</td>\n    </tr>\n    <tr>\n      <th>1</th>\n      <td>tt0038355</td>\n      <td>tt0037382</td>\n      <td>tt0075213</td>\n      <td>tt0117057</td>\n      <td>None</td>\n      <td>None</td>\n      <td>None</td>\n    </tr>\n    <tr>\n      <th>2</th>\n      <td>tt0049189</td>\n      <td>tt0054452</td>\n      <td>tt0056404</td>\n      <td>tt0057345</td>\n      <td>None</td>\n      <td>None</td>\n      <td>None</td>\n    </tr>\n    <tr>\n      <th>3</th>\n      <td>tt0078723</td>\n      <td>tt0080455</td>\n      <td>tt0072562</td>\n      <td>tt0077975</td>\n      <td>None</td>\n      <td>None</td>\n      <td>None</td>\n    </tr>\n    <tr>\n      <th>4</th>\n      <td>tt0083922</td>\n      <td>tt0069467</td>\n      <td>tt0050976</td>\n      <td>tt0050986</td>\n      <td>None</td>\n      <td>None</td>\n      <td>None</td>\n    </tr>\n    <tr>\n      <th>...</th>\n      <td>...</td>\n      <td>...</td>\n      <td>...</td>\n      <td>...</td>\n      <td>...</td>\n      <td>...</td>\n      <td>...</td>\n    </tr>\n    <tr>\n      <th>1048570</th>\n      <td>tt9028956</td>\n      <td>None</td>\n      <td>None</td>\n      <td>None</td>\n      <td>None</td>\n      <td>None</td>\n      <td>None</td>\n    </tr>\n    <tr>\n      <th>1048571</th>\n      <td>tt9013146</td>\n      <td>tt9490002</td>\n      <td>None</td>\n      <td>None</td>\n      <td>None</td>\n      <td>None</td>\n      <td>None</td>\n    </tr>\n    <tr>\n      <th>1048572</th>\n      <td>tt4368588</td>\n      <td>None</td>\n      <td>None</td>\n      <td>None</td>\n      <td>None</td>\n      <td>None</td>\n      <td>None</td>\n    </tr>\n    <tr>\n      <th>1048573</th>\n      <td>\\N</td>\n      <td>None</td>\n      <td>None</td>\n      <td>None</td>\n      <td>None</td>\n      <td>None</td>\n      <td>None</td>\n    </tr>\n    <tr>\n      <th>1048574</th>\n      <td>\\N</td>\n      <td>None</td>\n      <td>None</td>\n      <td>None</td>\n      <td>None</td>\n      <td>None</td>\n      <td>None</td>\n    </tr>\n  </tbody>\n</table>\n<p>1048575 rows × 7 columns</p>\n</div>"
     },
     "execution_count": 305,
     "metadata": {},
     "output_type": "execute_result"
    }
   ],
   "source": [
    "df_names = imdb_data['name_basics_data']\n",
    "key_names = df_names['knownForTitles'].str.split(',', expand=True)\n",
    "\n",
    "new_title_columns = ['title1', 'title2', 'title3', 'title4', 'title5', 'title6', 'title7']\n",
    "\n",
    "key_names.columns = new_title_columns\n",
    "key_names"
   ]
  },
  {
   "cell_type": "code",
   "execution_count": 306,
   "id": "fb67a6dc",
   "metadata": {
    "ExecuteTime": {
     "end_time": "2024-03-29T21:50:46.976188Z",
     "start_time": "2024-03-29T21:50:46.851838Z"
    }
   },
   "outputs": [
    {
     "data": {
      "text/plain": "      nconst      primaryName birthYear deathYear  \\\n0  nm0000001     Fred Astaire      1899      1987   \n1  nm0000002    Lauren Bacall      1924      2014   \n2  nm0000003  Brigitte Bardot      1934        \\N   \n3  nm0000004     John Belushi      1949      1982   \n4  nm0000005   Ingmar Bergman      1918      2007   \n\n                     primaryProfession  \\\n0       soundtrack,actor,miscellaneous   \n1                   actress,soundtrack   \n2  actress,soundtrack,music_department   \n3              actor,soundtrack,writer   \n4                writer,director,actor   \n\n                            knownForTitles     title1     title2     title3  \\\n0  tt0027125,tt0050419,tt0053137,tt0072308  tt0027125  tt0050419  tt0053137   \n1  tt0038355,tt0037382,tt0075213,tt0117057  tt0038355  tt0037382  tt0075213   \n2  tt0049189,tt0054452,tt0056404,tt0057345  tt0049189  tt0054452  tt0056404   \n3  tt0078723,tt0080455,tt0072562,tt0077975  tt0078723  tt0080455  tt0072562   \n4  tt0083922,tt0069467,tt0050976,tt0050986  tt0083922  tt0069467  tt0050976   \n\n      title4 title5 title6 title7  \n0  tt0072308   None   None   None  \n1  tt0117057   None   None   None  \n2  tt0057345   None   None   None  \n3  tt0077975   None   None   None  \n4  tt0050986   None   None   None  ",
      "text/html": "<div>\n<style scoped>\n    .dataframe tbody tr th:only-of-type {\n        vertical-align: middle;\n    }\n\n    .dataframe tbody tr th {\n        vertical-align: top;\n    }\n\n    .dataframe thead th {\n        text-align: right;\n    }\n</style>\n<table border=\"1\" class=\"dataframe\">\n  <thead>\n    <tr style=\"text-align: right;\">\n      <th></th>\n      <th>nconst</th>\n      <th>primaryName</th>\n      <th>birthYear</th>\n      <th>deathYear</th>\n      <th>primaryProfession</th>\n      <th>knownForTitles</th>\n      <th>title1</th>\n      <th>title2</th>\n      <th>title3</th>\n      <th>title4</th>\n      <th>title5</th>\n      <th>title6</th>\n      <th>title7</th>\n    </tr>\n  </thead>\n  <tbody>\n    <tr>\n      <th>0</th>\n      <td>nm0000001</td>\n      <td>Fred Astaire</td>\n      <td>1899</td>\n      <td>1987</td>\n      <td>soundtrack,actor,miscellaneous</td>\n      <td>tt0027125,tt0050419,tt0053137,tt0072308</td>\n      <td>tt0027125</td>\n      <td>tt0050419</td>\n      <td>tt0053137</td>\n      <td>tt0072308</td>\n      <td>None</td>\n      <td>None</td>\n      <td>None</td>\n    </tr>\n    <tr>\n      <th>1</th>\n      <td>nm0000002</td>\n      <td>Lauren Bacall</td>\n      <td>1924</td>\n      <td>2014</td>\n      <td>actress,soundtrack</td>\n      <td>tt0038355,tt0037382,tt0075213,tt0117057</td>\n      <td>tt0038355</td>\n      <td>tt0037382</td>\n      <td>tt0075213</td>\n      <td>tt0117057</td>\n      <td>None</td>\n      <td>None</td>\n      <td>None</td>\n    </tr>\n    <tr>\n      <th>2</th>\n      <td>nm0000003</td>\n      <td>Brigitte Bardot</td>\n      <td>1934</td>\n      <td>\\N</td>\n      <td>actress,soundtrack,music_department</td>\n      <td>tt0049189,tt0054452,tt0056404,tt0057345</td>\n      <td>tt0049189</td>\n      <td>tt0054452</td>\n      <td>tt0056404</td>\n      <td>tt0057345</td>\n      <td>None</td>\n      <td>None</td>\n      <td>None</td>\n    </tr>\n    <tr>\n      <th>3</th>\n      <td>nm0000004</td>\n      <td>John Belushi</td>\n      <td>1949</td>\n      <td>1982</td>\n      <td>actor,soundtrack,writer</td>\n      <td>tt0078723,tt0080455,tt0072562,tt0077975</td>\n      <td>tt0078723</td>\n      <td>tt0080455</td>\n      <td>tt0072562</td>\n      <td>tt0077975</td>\n      <td>None</td>\n      <td>None</td>\n      <td>None</td>\n    </tr>\n    <tr>\n      <th>4</th>\n      <td>nm0000005</td>\n      <td>Ingmar Bergman</td>\n      <td>1918</td>\n      <td>2007</td>\n      <td>writer,director,actor</td>\n      <td>tt0083922,tt0069467,tt0050976,tt0050986</td>\n      <td>tt0083922</td>\n      <td>tt0069467</td>\n      <td>tt0050976</td>\n      <td>tt0050986</td>\n      <td>None</td>\n      <td>None</td>\n      <td>None</td>\n    </tr>\n  </tbody>\n</table>\n</div>"
     },
     "execution_count": 306,
     "metadata": {},
     "output_type": "execute_result"
    }
   ],
   "source": [
    "df_names = pd.concat([df_names, key_names], axis=1)\n",
    "df_names.head()"
   ]
  },
  {
   "cell_type": "code",
   "execution_count": 307,
   "id": "9d21fea614888774",
   "metadata": {
    "ExecuteTime": {
     "end_time": "2024-03-29T21:50:46.982279Z",
     "start_time": "2024-03-29T21:50:46.976188Z"
    }
   },
   "outputs": [
    {
     "data": {
      "text/plain": "      tconst  averageRating  numVotes\n0  tt0000001            5.7      2032\n1  tt0000002            5.7       272\n2  tt0000003            6.5      1973\n3  tt0000004            5.4       178\n4  tt0000005            6.2      2731",
      "text/html": "<div>\n<style scoped>\n    .dataframe tbody tr th:only-of-type {\n        vertical-align: middle;\n    }\n\n    .dataframe tbody tr th {\n        vertical-align: top;\n    }\n\n    .dataframe thead th {\n        text-align: right;\n    }\n</style>\n<table border=\"1\" class=\"dataframe\">\n  <thead>\n    <tr style=\"text-align: right;\">\n      <th></th>\n      <th>tconst</th>\n      <th>averageRating</th>\n      <th>numVotes</th>\n    </tr>\n  </thead>\n  <tbody>\n    <tr>\n      <th>0</th>\n      <td>tt0000001</td>\n      <td>5.7</td>\n      <td>2032</td>\n    </tr>\n    <tr>\n      <th>1</th>\n      <td>tt0000002</td>\n      <td>5.7</td>\n      <td>272</td>\n    </tr>\n    <tr>\n      <th>2</th>\n      <td>tt0000003</td>\n      <td>6.5</td>\n      <td>1973</td>\n    </tr>\n    <tr>\n      <th>3</th>\n      <td>tt0000004</td>\n      <td>5.4</td>\n      <td>178</td>\n    </tr>\n    <tr>\n      <th>4</th>\n      <td>tt0000005</td>\n      <td>6.2</td>\n      <td>2731</td>\n    </tr>\n  </tbody>\n</table>\n</div>"
     },
     "execution_count": 307,
     "metadata": {},
     "output_type": "execute_result"
    }
   ],
   "source": [
    "df_ratings = imdb_data['title_ratings_data']\n",
    "df_ratings.head()"
   ]
  },
  {
   "cell_type": "markdown",
   "source": [
    "## 7. GETTING READY TO COMBINE THE DATASETS"
   ],
   "metadata": {
    "collapsed": false
   },
   "id": "25a687a04d942af4"
  },
  {
   "cell_type": "markdown",
   "source": [
    "Before combining the datasets, we need to look for a unique column that can be used as the key for the df.merge() method. As we already know from the data files for each dataset, 'tconst' is the unique column for 'title_basics_data' and 'title_ratings_data', but for 'name_basics_data' it is 'nconst'. However, even if we don't know beforehand whether a certain column is unique and fit to be used as a key, we can use the following function to verify whether a column is unique and can be used as the key."
   ],
   "metadata": {
    "collapsed": false
   },
   "id": "507704808ff0bc5a"
  },
  {
   "cell_type": "code",
   "outputs": [],
   "source": [
    "def can_serve_as_key(df, col_names):\n",
    "    col_name = col_names[0]\n",
    "\n",
    "    if col_name not in df.columns:\n",
    "        col_name = col_names[1]\n",
    "\n",
    "    nb_unique_values = len(df.loc[:, col_name].unique())\n",
    "    nb_rows = df.shape[0]\n",
    "\n",
    "    if nb_unique_values == nb_rows:\n",
    "        print(\"YES:\", nb_unique_values, \"unique\", col_name, \"values,\", nb_rows, \"rows\", \"\\n\")\n",
    "    else:\n",
    "        print(\"NO:\", nb_unique_values, \"unique\", col_name, \"values,\", nb_rows, \"rows\", \"\\n\")"
   ],
   "metadata": {
    "collapsed": false,
    "ExecuteTime": {
     "end_time": "2024-03-29T21:50:46.987132Z",
     "start_time": "2024-03-29T21:50:46.983281Z"
    }
   },
   "id": "beb2d6a4ff3ee028",
   "execution_count": 308
  },
  {
   "cell_type": "markdown",
   "source": [
    "So let's check each column and verify whether each row has a unique 'tconst'."
   ],
   "metadata": {
    "collapsed": false
   },
   "id": "11902f7fe3646e33"
  },
  {
   "cell_type": "code",
   "outputs": [
    {
     "name": "stdout",
     "output_type": "stream",
     "text": [
      "\u001B[1m title_basics_data \u001B[0m\n",
      "YES: 1048575 unique tconst values, 1048575 rows \n",
      "\n",
      "\u001B[1m title_ratings_data \u001B[0m\n",
      "YES: 1048575 unique tconst values, 1048575 rows \n",
      "\n",
      "\u001B[1m name_basics_data \u001B[0m\n",
      "YES: 1048575 unique nconst values, 1048575 rows \n"
     ]
    }
   ],
   "source": [
    "for key, value in imdb_data.items():\n",
    "    print(\"\\033[1m\", key, \"\\033[0m\")\n",
    "    can_serve_as_key(value, [\"tconst\", \"nconst\"])"
   ],
   "metadata": {
    "collapsed": false,
    "ExecuteTime": {
     "end_time": "2024-03-29T21:50:47.417294Z",
     "start_time": "2024-03-29T21:50:46.988133Z"
    }
   },
   "id": "d75d345d771a7d2d",
   "execution_count": 309
  },
  {
   "cell_type": "markdown",
   "source": [
    "We can see that for 'title_basics_data' and 'title_ratings_data' datasets for which the number of unique 'tconst' values is same as the number of rows. But for the 'name_basics_data' it is 'nconst', which cannot be used to merge it to the other two datasets. We know from experience and looking at the dataset that we need to merge the 'name_basics_data' with the other two datasets on the 'knownForTitles' columns. So, lets take a closer look at the 'name_basics_data'."
   ],
   "metadata": {
    "collapsed": false
   },
   "id": "8de663a2b335a5b2"
  },
  {
   "cell_type": "code",
   "outputs": [
    {
     "data": {
      "text/plain": "      nconst      primaryName birthYear deathYear  \\\n0  nm0000001     Fred Astaire      1899      1987   \n1  nm0000002    Lauren Bacall      1924      2014   \n2  nm0000003  Brigitte Bardot      1934        \\N   \n3  nm0000004     John Belushi      1949      1982   \n4  nm0000005   Ingmar Bergman      1918      2007   \n\n                     primaryProfession  \\\n0       soundtrack,actor,miscellaneous   \n1                   actress,soundtrack   \n2  actress,soundtrack,music_department   \n3              actor,soundtrack,writer   \n4                writer,director,actor   \n\n                            knownForTitles  \n0  tt0027125,tt0050419,tt0053137,tt0072308  \n1  tt0038355,tt0037382,tt0075213,tt0117057  \n2  tt0049189,tt0054452,tt0056404,tt0057345  \n3  tt0078723,tt0080455,tt0072562,tt0077975  \n4  tt0083922,tt0069467,tt0050976,tt0050986  ",
      "text/html": "<div>\n<style scoped>\n    .dataframe tbody tr th:only-of-type {\n        vertical-align: middle;\n    }\n\n    .dataframe tbody tr th {\n        vertical-align: top;\n    }\n\n    .dataframe thead th {\n        text-align: right;\n    }\n</style>\n<table border=\"1\" class=\"dataframe\">\n  <thead>\n    <tr style=\"text-align: right;\">\n      <th></th>\n      <th>nconst</th>\n      <th>primaryName</th>\n      <th>birthYear</th>\n      <th>deathYear</th>\n      <th>primaryProfession</th>\n      <th>knownForTitles</th>\n    </tr>\n  </thead>\n  <tbody>\n    <tr>\n      <th>0</th>\n      <td>nm0000001</td>\n      <td>Fred Astaire</td>\n      <td>1899</td>\n      <td>1987</td>\n      <td>soundtrack,actor,miscellaneous</td>\n      <td>tt0027125,tt0050419,tt0053137,tt0072308</td>\n    </tr>\n    <tr>\n      <th>1</th>\n      <td>nm0000002</td>\n      <td>Lauren Bacall</td>\n      <td>1924</td>\n      <td>2014</td>\n      <td>actress,soundtrack</td>\n      <td>tt0038355,tt0037382,tt0075213,tt0117057</td>\n    </tr>\n    <tr>\n      <th>2</th>\n      <td>nm0000003</td>\n      <td>Brigitte Bardot</td>\n      <td>1934</td>\n      <td>\\N</td>\n      <td>actress,soundtrack,music_department</td>\n      <td>tt0049189,tt0054452,tt0056404,tt0057345</td>\n    </tr>\n    <tr>\n      <th>3</th>\n      <td>nm0000004</td>\n      <td>John Belushi</td>\n      <td>1949</td>\n      <td>1982</td>\n      <td>actor,soundtrack,writer</td>\n      <td>tt0078723,tt0080455,tt0072562,tt0077975</td>\n    </tr>\n    <tr>\n      <th>4</th>\n      <td>nm0000005</td>\n      <td>Ingmar Bergman</td>\n      <td>1918</td>\n      <td>2007</td>\n      <td>writer,director,actor</td>\n      <td>tt0083922,tt0069467,tt0050976,tt0050986</td>\n    </tr>\n  </tbody>\n</table>\n</div>"
     },
     "execution_count": 310,
     "metadata": {},
     "output_type": "execute_result"
    }
   ],
   "source": [
    "imdb_data['name_basics_data'].head()"
   ],
   "metadata": {
    "collapsed": false,
    "ExecuteTime": {
     "end_time": "2024-03-29T21:50:47.424349Z",
     "start_time": "2024-03-29T21:50:47.418296Z"
    }
   },
   "id": "2c35585614f22fa0",
   "execution_count": 310
  },
  {
   "cell_type": "markdown",
   "source": [
    "As we can see the 'knowForTitles' column contains the 'tconst' values to merge with the two other datasets. Here, the underlying logic is that each row in the dataset (which is a person) can work in multiple titles (movies, tv series) in the 'title_basics_data' dataset. "
   ],
   "metadata": {
    "collapsed": false
   },
   "id": "62b767f17d2e3dd9"
  },
  {
   "cell_type": "markdown",
   "id": "9773b8ad",
   "metadata": {},
   "source": [
    "## 8. COMBINE THE DATASET"
   ]
  },
  {
   "cell_type": "markdown",
   "id": "4138b612a5d560b6",
   "metadata": {},
   "source": [
    "Finally, we are now in a position to combine all of these datasets. Before starting the merge, let’s quickly visualize the number of  rows in each of the cleaned datasets. This will help us decide which of the four merge strategies (left, right, inner, or outer) we should be using."
   ]
  },
  {
   "cell_type": "code",
   "execution_count": 311,
   "id": "5834a21b22774af4",
   "metadata": {
    "ExecuteTime": {
     "end_time": "2024-03-29T21:50:47.431236Z",
     "start_time": "2024-03-29T21:50:47.428352Z"
    }
   },
   "outputs": [
    {
     "name": "stdout",
     "output_type": "stream",
     "text": [
      "{'df_titles': 1.048575, 'df_ratings': 1.048575, 'df_names': 1.048575}\n"
     ]
    }
   ],
   "source": [
    "row_counts = {\n",
    "    'df_titles': df_titles.shape[0] / 1000000,\n",
    "    'df_ratings': df_ratings.shape[0] / 1000000,\n",
    "    'df_names': df_names.shape[0] / 1000000\n",
    "}\n",
    "\n",
    "print(row_counts)"
   ]
  },
  {
   "cell_type": "code",
   "execution_count": 312,
   "id": "96bf3b0a2a0029cd",
   "metadata": {
    "ExecuteTime": {
     "end_time": "2024-03-29T21:50:47.540816Z",
     "start_time": "2024-03-29T21:50:47.432238Z"
    }
   },
   "outputs": [
    {
     "data": {
      "text/plain": "<Figure size 640x480 with 0 Axes>"
     },
     "metadata": {},
     "output_type": "display_data"
    },
    {
     "data": {
      "text/plain": "<Figure size 640x480 with 1 Axes>",
      "image/png": "[encoded data removed]"
     },
     "metadata": {},
     "output_type": "display_data"
    }
   ],
   "source": [
    "plt.figure()\n",
    "\n",
    "row_num_df = pd.DataFrame(row_counts, index=[0])\n",
    "row_num_df.plot.bar()\n",
    "\n",
    "plt.xlabel('Datasets')\n",
    "plt.ylabel('Number of Rows (in millions)')\n",
    "plt.show()"
   ]
  },
  {
   "cell_type": "markdown",
   "id": "acc1b7a40ebe2e00",
   "metadata": {},
   "source": [
    "We will first merge \"df_titles\" with the dataframes \"df_ratings\" and then \"df_names\". We can see that all the dataframes to be merged have equal amount of row values than \"df_titles\", but we only care about the data in the \"df_titles\". So we'll use a left join."
   ]
  },
  {
   "cell_type": "code",
   "execution_count": 313,
   "id": "b9211ab826efb751",
   "metadata": {
    "ExecuteTime": {
     "end_time": "2024-03-29T21:50:48.975035Z",
     "start_time": "2024-03-29T21:50:47.541817Z"
    }
   },
   "outputs": [
    {
     "data": {
      "text/plain": "      tconst titleType            primaryTitle           originalTitle  \\\n0  tt0000001     short              Carmencita              Carmencita   \n1  tt0000002     short  Le clown et ses chiens  Le clown et ses chiens   \n2  tt0000003     short          Pauvre Pierrot          Pauvre Pierrot   \n3  tt0000004     short             Un bon bock             Un bon bock   \n4  tt0000005     short        Blacksmith Scene        Blacksmith Scene   \n\n   isAdult startYear endYear                    genres       genre1  genre2  \\\n0        0      1894      \\N         Documentary,Short  Documentary   Short   \n1        0      1892      \\N           Animation,Short    Animation   Short   \n2        0      1892      \\N  Animation,Comedy,Romance    Animation  Comedy   \n3        0      1892      \\N           Animation,Short    Animation   Short   \n4        0      1893      \\N              Comedy,Short       Comedy   Short   \n\n    genre3  startDecade  averageRating  numVotes  \n0     None         1894            5.7      2032  \n1     None         1892            5.7       272  \n2  Romance         1892            6.5      1973  \n3     None         1892            5.4       178  \n4     None         1893            6.2      2731  ",
      "text/html": "<div>\n<style scoped>\n    .dataframe tbody tr th:only-of-type {\n        vertical-align: middle;\n    }\n\n    .dataframe tbody tr th {\n        vertical-align: top;\n    }\n\n    .dataframe thead th {\n        text-align: right;\n    }\n</style>\n<table border=\"1\" class=\"dataframe\">\n  <thead>\n    <tr style=\"text-align: right;\">\n      <th></th>\n      <th>tconst</th>\n      <th>titleType</th>\n      <th>primaryTitle</th>\n      <th>originalTitle</th>\n      <th>isAdult</th>\n      <th>startYear</th>\n      <th>endYear</th>\n      <th>genres</th>\n      <th>genre1</th>\n      <th>genre2</th>\n      <th>genre3</th>\n      <th>startDecade</th>\n      <th>averageRating</th>\n      <th>numVotes</th>\n    </tr>\n  </thead>\n  <tbody>\n    <tr>\n      <th>0</th>\n      <td>tt0000001</td>\n      <td>short</td>\n      <td>Carmencita</td>\n      <td>Carmencita</td>\n      <td>0</td>\n      <td>1894</td>\n      <td>\\N</td>\n      <td>Documentary,Short</td>\n      <td>Documentary</td>\n      <td>Short</td>\n      <td>None</td>\n      <td>1894</td>\n      <td>5.7</td>\n      <td>2032</td>\n    </tr>\n    <tr>\n      <th>1</th>\n      <td>tt0000002</td>\n      <td>short</td>\n      <td>Le clown et ses chiens</td>\n      <td>Le clown et ses chiens</td>\n      <td>0</td>\n      <td>1892</td>\n      <td>\\N</td>\n      <td>Animation,Short</td>\n      <td>Animation</td>\n      <td>Short</td>\n      <td>None</td>\n      <td>1892</td>\n      <td>5.7</td>\n      <td>272</td>\n    </tr>\n    <tr>\n      <th>2</th>\n      <td>tt0000003</td>\n      <td>short</td>\n      <td>Pauvre Pierrot</td>\n      <td>Pauvre Pierrot</td>\n      <td>0</td>\n      <td>1892</td>\n      <td>\\N</td>\n      <td>Animation,Comedy,Romance</td>\n      <td>Animation</td>\n      <td>Comedy</td>\n      <td>Romance</td>\n      <td>1892</td>\n      <td>6.5</td>\n      <td>1973</td>\n    </tr>\n    <tr>\n      <th>3</th>\n      <td>tt0000004</td>\n      <td>short</td>\n      <td>Un bon bock</td>\n      <td>Un bon bock</td>\n      <td>0</td>\n      <td>1892</td>\n      <td>\\N</td>\n      <td>Animation,Short</td>\n      <td>Animation</td>\n      <td>Short</td>\n      <td>None</td>\n      <td>1892</td>\n      <td>5.4</td>\n      <td>178</td>\n    </tr>\n    <tr>\n      <th>4</th>\n      <td>tt0000005</td>\n      <td>short</td>\n      <td>Blacksmith Scene</td>\n      <td>Blacksmith Scene</td>\n      <td>0</td>\n      <td>1893</td>\n      <td>\\N</td>\n      <td>Comedy,Short</td>\n      <td>Comedy</td>\n      <td>Short</td>\n      <td>None</td>\n      <td>1893</td>\n      <td>6.2</td>\n      <td>2731</td>\n    </tr>\n  </tbody>\n</table>\n</div>"
     },
     "execution_count": 313,
     "metadata": {},
     "output_type": "execute_result"
    }
   ],
   "source": [
    "merged_df = df_titles.merge(df_ratings, on=\"tconst\")\n",
    "merged_df.head()"
   ]
  },
  {
   "cell_type": "markdown",
   "source": [
    "Next, we will create a 'tconst' column by breaking the 'knownForTitles' column, in order to be able to merge the 'name_basics_data' dataset with the combined 'title_basics_data' and 'title_ratings_data' datasets."
   ],
   "metadata": {
    "collapsed": false
   },
   "id": "cd5e0895c6c69b4b"
  },
  {
   "cell_type": "code",
   "execution_count": 314,
   "id": "8deae76cf1483006",
   "metadata": {
    "ExecuteTime": {
     "end_time": "2024-03-29T21:50:55.324454Z",
     "start_time": "2024-03-29T21:50:48.975035Z"
    }
   },
   "outputs": [
    {
     "data": {
      "text/plain": "      nconst    primaryName birthYear deathYear  \\\n0  nm0000001   Fred Astaire      1899      1987   \n0  nm0000001   Fred Astaire      1899      1987   \n0  nm0000001   Fred Astaire      1899      1987   \n0  nm0000001   Fred Astaire      1899      1987   \n1  nm0000002  Lauren Bacall      1924      2014   \n\n                primaryProfession                           knownForTitles  \\\n0  soundtrack,actor,miscellaneous  tt0027125,tt0050419,tt0053137,tt0072308   \n0  soundtrack,actor,miscellaneous  tt0027125,tt0050419,tt0053137,tt0072308   \n0  soundtrack,actor,miscellaneous  tt0027125,tt0050419,tt0053137,tt0072308   \n0  soundtrack,actor,miscellaneous  tt0027125,tt0050419,tt0053137,tt0072308   \n1              actress,soundtrack  tt0038355,tt0037382,tt0075213,tt0117057   \n\n      title1     title2     title3     title4 title5 title6 title7     tconst  \n0  tt0027125  tt0050419  tt0053137  tt0072308   None   None   None  tt0027125  \n0  tt0027125  tt0050419  tt0053137  tt0072308   None   None   None  tt0050419  \n0  tt0027125  tt0050419  tt0053137  tt0072308   None   None   None  tt0053137  \n0  tt0027125  tt0050419  tt0053137  tt0072308   None   None   None  tt0072308  \n1  tt0038355  tt0037382  tt0075213  tt0117057   None   None   None  tt0038355  ",
      "text/html": "<div>\n<style scoped>\n    .dataframe tbody tr th:only-of-type {\n        vertical-align: middle;\n    }\n\n    .dataframe tbody tr th {\n        vertical-align: top;\n    }\n\n    .dataframe thead th {\n        text-align: right;\n    }\n</style>\n<table border=\"1\" class=\"dataframe\">\n  <thead>\n    <tr style=\"text-align: right;\">\n      <th></th>\n      <th>nconst</th>\n      <th>primaryName</th>\n      <th>birthYear</th>\n      <th>deathYear</th>\n      <th>primaryProfession</th>\n      <th>knownForTitles</th>\n      <th>title1</th>\n      <th>title2</th>\n      <th>title3</th>\n      <th>title4</th>\n      <th>title5</th>\n      <th>title6</th>\n      <th>title7</th>\n      <th>tconst</th>\n    </tr>\n  </thead>\n  <tbody>\n    <tr>\n      <th>0</th>\n      <td>nm0000001</td>\n      <td>Fred Astaire</td>\n      <td>1899</td>\n      <td>1987</td>\n      <td>soundtrack,actor,miscellaneous</td>\n      <td>tt0027125,tt0050419,tt0053137,tt0072308</td>\n      <td>tt0027125</td>\n      <td>tt0050419</td>\n      <td>tt0053137</td>\n      <td>tt0072308</td>\n      <td>None</td>\n      <td>None</td>\n      <td>None</td>\n      <td>tt0027125</td>\n    </tr>\n    <tr>\n      <th>0</th>\n      <td>nm0000001</td>\n      <td>Fred Astaire</td>\n      <td>1899</td>\n      <td>1987</td>\n      <td>soundtrack,actor,miscellaneous</td>\n      <td>tt0027125,tt0050419,tt0053137,tt0072308</td>\n      <td>tt0027125</td>\n      <td>tt0050419</td>\n      <td>tt0053137</td>\n      <td>tt0072308</td>\n      <td>None</td>\n      <td>None</td>\n      <td>None</td>\n      <td>tt0050419</td>\n    </tr>\n    <tr>\n      <th>0</th>\n      <td>nm0000001</td>\n      <td>Fred Astaire</td>\n      <td>1899</td>\n      <td>1987</td>\n      <td>soundtrack,actor,miscellaneous</td>\n      <td>tt0027125,tt0050419,tt0053137,tt0072308</td>\n      <td>tt0027125</td>\n      <td>tt0050419</td>\n      <td>tt0053137</td>\n      <td>tt0072308</td>\n      <td>None</td>\n      <td>None</td>\n      <td>None</td>\n      <td>tt0053137</td>\n    </tr>\n    <tr>\n      <th>0</th>\n      <td>nm0000001</td>\n      <td>Fred Astaire</td>\n      <td>1899</td>\n      <td>1987</td>\n      <td>soundtrack,actor,miscellaneous</td>\n      <td>tt0027125,tt0050419,tt0053137,tt0072308</td>\n      <td>tt0027125</td>\n      <td>tt0050419</td>\n      <td>tt0053137</td>\n      <td>tt0072308</td>\n      <td>None</td>\n      <td>None</td>\n      <td>None</td>\n      <td>tt0072308</td>\n    </tr>\n    <tr>\n      <th>1</th>\n      <td>nm0000002</td>\n      <td>Lauren Bacall</td>\n      <td>1924</td>\n      <td>2014</td>\n      <td>actress,soundtrack</td>\n      <td>tt0038355,tt0037382,tt0075213,tt0117057</td>\n      <td>tt0038355</td>\n      <td>tt0037382</td>\n      <td>tt0075213</td>\n      <td>tt0117057</td>\n      <td>None</td>\n      <td>None</td>\n      <td>None</td>\n      <td>tt0038355</td>\n    </tr>\n  </tbody>\n</table>\n</div>"
     },
     "execution_count": 314,
     "metadata": {},
     "output_type": "execute_result"
    }
   ],
   "source": [
    "actors_split = df_names.assign(tconst=df_names['knownForTitles'].str.split(',')).explode('tconst')\n",
    "actors_split.head()"
   ]
  },
  {
   "cell_type": "markdown",
   "source": [
    "Finally, we merge all three datasets."
   ],
   "metadata": {
    "collapsed": false
   },
   "id": "50aba995585078d6"
  },
  {
   "cell_type": "code",
   "outputs": [
    {
     "data": {
      "text/plain": "             tconst titleType                                 primaryTitle  \\\n0         tt0000003     short                               Pauvre Pierrot   \n1         tt0000007     short  Corbett and Courtney Before the Kinetograph   \n2         tt0000008     short       Edison Kinetoscopic Record of a Sneeze   \n3         tt0000009     movie                                   Miss Jerry   \n4         tt0000009     movie                                   Miss Jerry   \n...             ...       ...                                          ...   \n1904917  tt10145122     movie                           The Perfect Secret   \n1904918  tt10145122     movie                           The Perfect Secret   \n1904919  tt10145122     movie                           The Perfect Secret   \n1904920  tt10145122     movie                           The Perfect Secret   \n1904921  tt10145122     movie                           The Perfect Secret   \n\n                                       originalTitle  isAdult startYear  \\\n0                                     Pauvre Pierrot        0      1892   \n1        Corbett and Courtney Before the Kinetograph        0      1894   \n2             Edison Kinetoscopic Record of a Sneeze        0      1894   \n3                                         Miss Jerry        0      1894   \n4                                         Miss Jerry        0      1894   \n...                                              ...      ...       ...   \n1904917                       Das perfekte Geheimnis        0      2019   \n1904918                       Das perfekte Geheimnis        0      2019   \n1904919                       Das perfekte Geheimnis        0      2019   \n1904920                       Das perfekte Geheimnis        0      2019   \n1904921                       Das perfekte Geheimnis        0      2019   \n\n        endYear                    genres       genre1  genre2   genre3  \\\n0            \\N  Animation,Comedy,Romance    Animation  Comedy  Romance   \n1            \\N               Short,Sport        Short   Sport     None   \n2            \\N         Documentary,Short  Documentary   Short     None   \n3            \\N                   Romance      Romance    None     None   \n4            \\N                   Romance      Romance    None     None   \n...         ...                       ...          ...     ...      ...   \n1904917      \\N      Comedy,Drama,Romance       Comedy   Drama  Romance   \n1904918      \\N      Comedy,Drama,Romance       Comedy   Drama  Romance   \n1904919      \\N      Comedy,Drama,Romance       Comedy   Drama  Romance   \n1904920      \\N      Comedy,Drama,Romance       Comedy   Drama  Romance   \n1904921      \\N      Comedy,Drama,Romance       Comedy   Drama  Romance   \n\n         startDecade  averageRating  numVotes      nconst  \\\n0               1892            6.5      1973   nm0721526   \n1               1894            5.4       848   nm0183947   \n2               1894            5.4      2175   nm0653028   \n3               1894            5.3       208   nm0063086   \n4               1894            5.3       208   nm0085156   \n...              ...            ...       ...         ...   \n1904917         2019            6.6      7056   nm0737467   \n1904918         2019            6.6      7056   nm0770547   \n1904919         2019            6.6      7056   nm0777416   \n1904920         2019            6.6      7056   nm0872339   \n1904921         2019            6.6      7056  nm10064534   \n\n                    primaryName birthYear deathYear  \\\n0                 Émile Reynaud      1844      1918   \n1                Peter Courtney      1867      1896   \n2                      Fred Ott      1860      1936   \n3               Blanche Bayliss      1878      1951   \n4               Alexander Black      1859      1940   \n...                         ...       ...       ...   \n1904917        Daniela Schwartz      1973        \\N   \n1904918  Stephan Scheibengraber      1967        \\N   \n1904919          Roman Schwartz        \\N        \\N   \n1904920           Till Treutler        \\N        \\N   \n1904921          Michael Basche        \\N        \\N   \n\n                                     primaryProfession  \\\n0               director,animation_department,producer   \n1                                                actor   \n2                                   assistant_director   \n3                                              actress   \n4                      director,writer,cinematographer   \n...                                                ...   \n1904917                   art_department,miscellaneous   \n1904918                              camera_department   \n1904919                      sound_department,composer   \n1904920  camera_department,set_decorator,miscellaneous   \n1904921              camera_department,cinematographer   \n\n                                     knownForTitles      title1      title2  \\\n0        tt0000003,tt16763674,tt16763740,tt13125956   tt0000003  tt16763674   \n1                                         tt0000007   tt0000007        None   \n2                     tt0285265,tt0000008,tt0240514   tt0285265   tt0000008   \n3                                         tt0000009   tt0000009        None   \n4                                         tt0000009   tt0000009        None   \n...                                             ...         ...         ...   \n1904917    tt10145122,tt0388858,tt0806910,tt5698320  tt10145122   tt0388858   \n1904918    tt0114019,tt10145122,tt0117788,tt0139429   tt0114019  tt10145122   \n1904919    tt10145122,tt5651338,tt0367181,tt0100240  tt10145122   tt5651338   \n1904920    tt2088003,tt1704142,tt0119331,tt10145122   tt2088003   tt1704142   \n1904921   tt6902676,tt10145122,tt17495410,tt9185162   tt6902676  tt10145122   \n\n             title3      title4 title5 title6 title7  \n0        tt16763740  tt13125956   None   None   None  \n1              None        None   None   None   None  \n2         tt0240514        None   None   None   None  \n3              None        None   None   None   None  \n4              None        None   None   None   None  \n...             ...         ...    ...    ...    ...  \n1904917   tt0806910   tt5698320   None   None   None  \n1904918   tt0117788   tt0139429   None   None   None  \n1904919   tt0367181   tt0100240   None   None   None  \n1904920   tt0119331  tt10145122   None   None   None  \n1904921  tt17495410   tt9185162   None   None   None  \n\n[1904922 rows x 27 columns]",
      "text/html": "<div>\n<style scoped>\n    .dataframe tbody tr th:only-of-type {\n        vertical-align: middle;\n    }\n\n    .dataframe tbody tr th {\n        vertical-align: top;\n    }\n\n    .dataframe thead th {\n        text-align: right;\n    }\n</style>\n<table border=\"1\" class=\"dataframe\">\n  <thead>\n    <tr style=\"text-align: right;\">\n      <th></th>\n      <th>tconst</th>\n      <th>titleType</th>\n      <th>primaryTitle</th>\n      <th>originalTitle</th>\n      <th>isAdult</th>\n      <th>startYear</th>\n      <th>endYear</th>\n      <th>genres</th>\n      <th>genre1</th>\n      <th>genre2</th>\n      <th>genre3</th>\n      <th>startDecade</th>\n      <th>averageRating</th>\n      <th>numVotes</th>\n      <th>nconst</th>\n      <th>primaryName</th>\n      <th>birthYear</th>\n      <th>deathYear</th>\n      <th>primaryProfession</th>\n      <th>knownForTitles</th>\n      <th>title1</th>\n      <th>title2</th>\n      <th>title3</th>\n      <th>title4</th>\n      <th>title5</th>\n      <th>title6</th>\n      <th>title7</th>\n    </tr>\n  </thead>\n  <tbody>\n    <tr>\n      <th>0</th>\n      <td>tt0000003</td>\n      <td>short</td>\n      <td>Pauvre Pierrot</td>\n      <td>Pauvre Pierrot</td>\n      <td>0</td>\n      <td>1892</td>\n      <td>\\N</td>\n      <td>Animation,Comedy,Romance</td>\n      <td>Animation</td>\n      <td>Comedy</td>\n      <td>Romance</td>\n      <td>1892</td>\n      <td>6.5</td>\n      <td>1973</td>\n      <td>nm0721526</td>\n      <td>Émile Reynaud</td>\n      <td>1844</td>\n      <td>1918</td>\n      <td>director,animation_department,producer</td>\n      <td>tt0000003,tt16763674,tt16763740,tt13125956</td>\n      <td>tt0000003</td>\n      <td>tt16763674</td>\n      <td>tt16763740</td>\n      <td>tt13125956</td>\n      <td>None</td>\n      <td>None</td>\n      <td>None</td>\n    </tr>\n    <tr>\n      <th>1</th>\n      <td>tt0000007</td>\n      <td>short</td>\n      <td>Corbett and Courtney Before the Kinetograph</td>\n      <td>Corbett and Courtney Before the Kinetograph</td>\n      <td>0</td>\n      <td>1894</td>\n      <td>\\N</td>\n      <td>Short,Sport</td>\n      <td>Short</td>\n      <td>Sport</td>\n      <td>None</td>\n      <td>1894</td>\n      <td>5.4</td>\n      <td>848</td>\n      <td>nm0183947</td>\n      <td>Peter Courtney</td>\n      <td>1867</td>\n      <td>1896</td>\n      <td>actor</td>\n      <td>tt0000007</td>\n      <td>tt0000007</td>\n      <td>None</td>\n      <td>None</td>\n      <td>None</td>\n      <td>None</td>\n      <td>None</td>\n      <td>None</td>\n    </tr>\n    <tr>\n      <th>2</th>\n      <td>tt0000008</td>\n      <td>short</td>\n      <td>Edison Kinetoscopic Record of a Sneeze</td>\n      <td>Edison Kinetoscopic Record of a Sneeze</td>\n      <td>0</td>\n      <td>1894</td>\n      <td>\\N</td>\n      <td>Documentary,Short</td>\n      <td>Documentary</td>\n      <td>Short</td>\n      <td>None</td>\n      <td>1894</td>\n      <td>5.4</td>\n      <td>2175</td>\n      <td>nm0653028</td>\n      <td>Fred Ott</td>\n      <td>1860</td>\n      <td>1936</td>\n      <td>assistant_director</td>\n      <td>tt0285265,tt0000008,tt0240514</td>\n      <td>tt0285265</td>\n      <td>tt0000008</td>\n      <td>tt0240514</td>\n      <td>None</td>\n      <td>None</td>\n      <td>None</td>\n      <td>None</td>\n    </tr>\n    <tr>\n      <th>3</th>\n      <td>tt0000009</td>\n      <td>movie</td>\n      <td>Miss Jerry</td>\n      <td>Miss Jerry</td>\n      <td>0</td>\n      <td>1894</td>\n      <td>\\N</td>\n      <td>Romance</td>\n      <td>Romance</td>\n      <td>None</td>\n      <td>None</td>\n      <td>1894</td>\n      <td>5.3</td>\n      <td>208</td>\n      <td>nm0063086</td>\n      <td>Blanche Bayliss</td>\n      <td>1878</td>\n      <td>1951</td>\n      <td>actress</td>\n      <td>tt0000009</td>\n      <td>tt0000009</td>\n      <td>None</td>\n      <td>None</td>\n      <td>None</td>\n      <td>None</td>\n      <td>None</td>\n      <td>None</td>\n    </tr>\n    <tr>\n      <th>4</th>\n      <td>tt0000009</td>\n      <td>movie</td>\n      <td>Miss Jerry</td>\n      <td>Miss Jerry</td>\n      <td>0</td>\n      <td>1894</td>\n      <td>\\N</td>\n      <td>Romance</td>\n      <td>Romance</td>\n      <td>None</td>\n      <td>None</td>\n      <td>1894</td>\n      <td>5.3</td>\n      <td>208</td>\n      <td>nm0085156</td>\n      <td>Alexander Black</td>\n      <td>1859</td>\n      <td>1940</td>\n      <td>director,writer,cinematographer</td>\n      <td>tt0000009</td>\n      <td>tt0000009</td>\n      <td>None</td>\n      <td>None</td>\n      <td>None</td>\n      <td>None</td>\n      <td>None</td>\n      <td>None</td>\n    </tr>\n    <tr>\n      <th>...</th>\n      <td>...</td>\n      <td>...</td>\n      <td>...</td>\n      <td>...</td>\n      <td>...</td>\n      <td>...</td>\n      <td>...</td>\n      <td>...</td>\n      <td>...</td>\n      <td>...</td>\n      <td>...</td>\n      <td>...</td>\n      <td>...</td>\n      <td>...</td>\n      <td>...</td>\n      <td>...</td>\n      <td>...</td>\n      <td>...</td>\n      <td>...</td>\n      <td>...</td>\n      <td>...</td>\n      <td>...</td>\n      <td>...</td>\n      <td>...</td>\n      <td>...</td>\n      <td>...</td>\n      <td>...</td>\n    </tr>\n    <tr>\n      <th>1904917</th>\n      <td>tt10145122</td>\n      <td>movie</td>\n      <td>The Perfect Secret</td>\n      <td>Das perfekte Geheimnis</td>\n      <td>0</td>\n      <td>2019</td>\n      <td>\\N</td>\n      <td>Comedy,Drama,Romance</td>\n      <td>Comedy</td>\n      <td>Drama</td>\n      <td>Romance</td>\n      <td>2019</td>\n      <td>6.6</td>\n      <td>7056</td>\n      <td>nm0737467</td>\n      <td>Daniela Schwartz</td>\n      <td>1973</td>\n      <td>\\N</td>\n      <td>art_department,miscellaneous</td>\n      <td>tt10145122,tt0388858,tt0806910,tt5698320</td>\n      <td>tt10145122</td>\n      <td>tt0388858</td>\n      <td>tt0806910</td>\n      <td>tt5698320</td>\n      <td>None</td>\n      <td>None</td>\n      <td>None</td>\n    </tr>\n    <tr>\n      <th>1904918</th>\n      <td>tt10145122</td>\n      <td>movie</td>\n      <td>The Perfect Secret</td>\n      <td>Das perfekte Geheimnis</td>\n      <td>0</td>\n      <td>2019</td>\n      <td>\\N</td>\n      <td>Comedy,Drama,Romance</td>\n      <td>Comedy</td>\n      <td>Drama</td>\n      <td>Romance</td>\n      <td>2019</td>\n      <td>6.6</td>\n      <td>7056</td>\n      <td>nm0770547</td>\n      <td>Stephan Scheibengraber</td>\n      <td>1967</td>\n      <td>\\N</td>\n      <td>camera_department</td>\n      <td>tt0114019,tt10145122,tt0117788,tt0139429</td>\n      <td>tt0114019</td>\n      <td>tt10145122</td>\n      <td>tt0117788</td>\n      <td>tt0139429</td>\n      <td>None</td>\n      <td>None</td>\n      <td>None</td>\n    </tr>\n    <tr>\n      <th>1904919</th>\n      <td>tt10145122</td>\n      <td>movie</td>\n      <td>The Perfect Secret</td>\n      <td>Das perfekte Geheimnis</td>\n      <td>0</td>\n      <td>2019</td>\n      <td>\\N</td>\n      <td>Comedy,Drama,Romance</td>\n      <td>Comedy</td>\n      <td>Drama</td>\n      <td>Romance</td>\n      <td>2019</td>\n      <td>6.6</td>\n      <td>7056</td>\n      <td>nm0777416</td>\n      <td>Roman Schwartz</td>\n      <td>\\N</td>\n      <td>\\N</td>\n      <td>sound_department,composer</td>\n      <td>tt10145122,tt5651338,tt0367181,tt0100240</td>\n      <td>tt10145122</td>\n      <td>tt5651338</td>\n      <td>tt0367181</td>\n      <td>tt0100240</td>\n      <td>None</td>\n      <td>None</td>\n      <td>None</td>\n    </tr>\n    <tr>\n      <th>1904920</th>\n      <td>tt10145122</td>\n      <td>movie</td>\n      <td>The Perfect Secret</td>\n      <td>Das perfekte Geheimnis</td>\n      <td>0</td>\n      <td>2019</td>\n      <td>\\N</td>\n      <td>Comedy,Drama,Romance</td>\n      <td>Comedy</td>\n      <td>Drama</td>\n      <td>Romance</td>\n      <td>2019</td>\n      <td>6.6</td>\n      <td>7056</td>\n      <td>nm0872339</td>\n      <td>Till Treutler</td>\n      <td>\\N</td>\n      <td>\\N</td>\n      <td>camera_department,set_decorator,miscellaneous</td>\n      <td>tt2088003,tt1704142,tt0119331,tt10145122</td>\n      <td>tt2088003</td>\n      <td>tt1704142</td>\n      <td>tt0119331</td>\n      <td>tt10145122</td>\n      <td>None</td>\n      <td>None</td>\n      <td>None</td>\n    </tr>\n    <tr>\n      <th>1904921</th>\n      <td>tt10145122</td>\n      <td>movie</td>\n      <td>The Perfect Secret</td>\n      <td>Das perfekte Geheimnis</td>\n      <td>0</td>\n      <td>2019</td>\n      <td>\\N</td>\n      <td>Comedy,Drama,Romance</td>\n      <td>Comedy</td>\n      <td>Drama</td>\n      <td>Romance</td>\n      <td>2019</td>\n      <td>6.6</td>\n      <td>7056</td>\n      <td>nm10064534</td>\n      <td>Michael Basche</td>\n      <td>\\N</td>\n      <td>\\N</td>\n      <td>camera_department,cinematographer</td>\n      <td>tt6902676,tt10145122,tt17495410,tt9185162</td>\n      <td>tt6902676</td>\n      <td>tt10145122</td>\n      <td>tt17495410</td>\n      <td>tt9185162</td>\n      <td>None</td>\n      <td>None</td>\n      <td>None</td>\n    </tr>\n  </tbody>\n</table>\n<p>1904922 rows × 27 columns</p>\n</div>"
     },
     "execution_count": 315,
     "metadata": {},
     "output_type": "execute_result"
    }
   ],
   "source": [
    "movies_people_df = pd.merge(merged_df, actors_split, left_on='tconst', right_on='tconst')\n",
    "movies_people_df"
   ],
   "metadata": {
    "collapsed": false,
    "ExecuteTime": {
     "end_time": "2024-03-29T21:50:59.950963Z",
     "start_time": "2024-03-29T21:50:55.325454Z"
    }
   },
   "id": "925328c89c1edbd9",
   "execution_count": 315
  },
  {
   "cell_type": "markdown",
   "id": "56cd1e1a73a6de3e",
   "metadata": {},
   "source": [
    "## 9. COMBINED DATA PREPARATION"
   ]
  },
  {
   "cell_type": "code",
   "execution_count": 316,
   "id": "897cfd070540902a",
   "metadata": {
    "ExecuteTime": {
     "end_time": "2024-03-29T21:50:59.954428Z",
     "start_time": "2024-03-29T21:50:59.951959Z"
    }
   },
   "outputs": [],
   "source": [
    "from functions import col_info, get_decade"
   ]
  },
  {
   "cell_type": "code",
   "execution_count": 317,
   "id": "ede08f04de6390a5",
   "metadata": {
    "ExecuteTime": {
     "end_time": "2024-03-29T21:51:11.552798Z",
     "start_time": "2024-03-29T21:50:59.954428Z"
    }
   },
   "outputs": [
    {
     "name": "stdout",
     "output_type": "stream",
     "text": [
      "The full dataset contains: 1904922 rows and 23 columns. Details for the requested column(s) are as follows:\n",
      "\n",
      "\u001B[1m tconst \u001B[0m: object : 191822 levels\n",
      "['tt0000003', 'tt0000007', 'tt0000008', 'tt0000009', 'tt0000012'] ...\n",
      "\u001B[1m titleType \u001B[0m: object : 10 levels\n",
      "['short', 'movie', 'tvMovie', 'tvSeries', 'tvMiniSeries', 'tvShort', 'tvSpecial'] ...\n",
      "\u001B[1m primaryTitle \u001B[0m: object : 171093 levels\n",
      "['Pauvre Pierrot', 'Corbett and Courtney Before the Kinetograph'] ...\n",
      "\u001B[1m originalTitle \u001B[0m: object : 174873 levels\n",
      "['Pauvre Pierrot', 'Corbett and Courtney Before the Kinetograph'] ...\n",
      "\n",
      "\u001B[1m startYear \u001B[0m: object : 133 levels\n",
      "['1892', '1894', '1896', '1895', '1897', '1898', '1899', '1900', '1901', '1902', '1903', '1904'] ...\n",
      "\n",
      "\u001B[1m endYear \u001B[0m: object : 80 levels\n",
      "['\\\\N', '1945', '1949', '1958', '1951', '1950', '1954', '1957', '1952', '1956', '1967', '1971'] ...\n",
      "\u001B[1m genres \u001B[0m: object : 1505 levels\n",
      "['Animation,Comedy,Romance', 'Short,Sport'] ...\n",
      "\n",
      "\u001B[1m genre1 \u001B[0m: object : 29 levels\n",
      "['Animation', 'Short', 'Documentary', 'Romance', 'Comedy', 'News'] ...\n",
      "\u001B[1m genre2 \u001B[0m: object : 28 levels\n",
      "['Comedy', 'Sport', 'Short', None, 'News', 'Horror', 'Family', 'Fantasy', 'Crime'] ...\n",
      "\n",
      "\u001B[1m genre3 \u001B[0m: object : 27 levels\n",
      "['Romance', None, 'Sport', 'Short', 'Fantasy', 'Horror', 'Drama', 'Comedy'] ...\n",
      "\u001B[1m nconst \u001B[0m: object : 839960 levels\n",
      "['nm0721526', 'nm0183947', 'nm0653028', 'nm0063086', 'nm0085156'] ...\n",
      "\u001B[1m primaryName \u001B[0m: object : 795678 levels\n",
      "['Émile Reynaud', 'Peter Courtney', 'Fred Ott', 'Blanche Bayliss'] ...\n",
      "\n",
      "\u001B[1m birthYear \u001B[0m: object : 356 levels\n",
      "['1844', '1867', '1860', '1878', '1859', '1875', '1874', '1862', '\\\\N', '1881', '1864', '1854'] ...\n",
      "\n",
      "\u001B[1m deathYear \u001B[0m: object : 321 levels\n",
      "['1918', '1896', '1936', '1951', '1940', '1933', '1963', '1954', '\\\\N', '1948', '1921', '1941'] ...\n",
      "\u001B[1m primaryProfession \u001B[0m: object : 11507 levels\n",
      "['director,animation_department,producer'] ...\n",
      "\u001B[1m knownForTitles \u001B[0m: object : 669353 levels\n",
      "['tt0000003,tt16763674,tt16763740,tt13125956'] ...\n",
      "\u001B[1m title1 \u001B[0m: object : 232585 levels\n",
      "['tt0000003', 'tt0000007', 'tt0285265', 'tt0000009', 'tt0020403'] ...\n",
      "\u001B[1m title2 \u001B[0m: object : 222794 levels\n",
      "['tt16763674', None, 'tt0000008', 'tt0021535', 'tt0791136'] ...\n",
      "\n",
      "\u001B[1m title3 \u001B[0m: object : 203487 levels\n",
      "['tt16763740', None, 'tt0240514', 'tt0020355', 'tt0000012'] ...\n",
      "\u001B[1m title4 \u001B[0m: object : 186555 levels\n",
      "['tt13125956', None, 'tt0000009', 'tt0221930', 'tt8485720'] ...\n",
      "\n",
      "\u001B[1m title5 \u001B[0m: object : 37 levels\n",
      "[None, 'tt0038146', 'tt0156217', 'tt0053628', 'tt0460681', 'tt0088559'] ...\n",
      "\n",
      "\u001B[1m title6 \u001B[0m: object : 3 levels\n",
      "[None, 'tt0252111', 'tt5994668'] \n",
      "\n",
      "\u001B[1m title7 \u001B[0m: object : 2 levels\n",
      "[None, 'tt1159931'] \n"
     ]
    }
   ],
   "source": [
    "col_info(movies_people_df.select_dtypes(include='object'))"
   ]
  },
  {
   "cell_type": "markdown",
   "id": "3814287db7fd18a9",
   "metadata": {},
   "source": [
    "### 9.1 Data Replacement"
   ]
  },
  {
   "cell_type": "markdown",
   "id": "e04d85437eec118a",
   "metadata": {},
   "source": [
    "We can see that there are quite a few columns in \"movie_and_actor_df\" such as 'startYear' which are actually int type but are stored as object type and have incorrect values '\\N'. We need to remove '\\N' values from the number-like value string to ensure that data conversion afterward is successful.\n",
    "\n",
    "Let's get a list of all the column names we need."
   ]
  },
  {
   "cell_type": "code",
   "execution_count": 318,
   "id": "cad47983d945256f",
   "metadata": {
    "ExecuteTime": {
     "end_time": "2024-03-29T21:51:13.020343Z",
     "start_time": "2024-03-29T21:51:11.553798Z"
    }
   },
   "outputs": [
    {
     "data": {
      "text/plain": "Index(['startYear', 'endYear', 'birthYear', 'deathYear'], dtype='object')"
     },
     "execution_count": 318,
     "metadata": {},
     "output_type": "execute_result"
    }
   ],
   "source": [
    "movies_people_df.filter(regex='(?i)year').columns"
   ]
  },
  {
   "cell_type": "markdown",
   "id": "f4659eec3ccc6d51",
   "metadata": {},
   "source": [
    "Before converting  the values of each of the above columns to integer however, we must first ensure that all are values are stored correctly with no missing or incorrect values."
   ]
  },
  {
   "cell_type": "markdown",
   "id": "db039c0bc2a76628",
   "metadata": {},
   "source": [
    "### 9.2 Initial Data Conversion"
   ]
  },
  {
   "cell_type": "code",
   "execution_count": 319,
   "id": "288f37fd2b87db8c",
   "metadata": {
    "ExecuteTime": {
     "end_time": "2024-03-29T21:51:15.989807Z",
     "start_time": "2024-03-29T21:51:13.021270Z"
    }
   },
   "outputs": [],
   "source": [
    "year_cols = columns_with_year = [col for col in movies_people_df.columns if 'year' in col.lower()]\n",
    "\n",
    "for col in year_cols:\n",
    "    movies_people_df[col] = movies_people_df[col].fillna(0)\n",
    "    movies_people_df[col] = movies_people_df[col].replace(['\\\\N'], 0)"
   ]
  },
  {
   "cell_type": "code",
   "execution_count": 320,
   "id": "ebffdc859e563f4",
   "metadata": {
    "ExecuteTime": {
     "end_time": "2024-03-29T21:51:16.250059Z",
     "start_time": "2024-03-29T21:51:15.990777Z"
    }
   },
   "outputs": [
    {
     "name": "stdout",
     "output_type": "stream",
     "text": [
      "\u001B[1mstartYear\u001B[0m\n"
     ]
    },
    {
     "data": {
      "text/plain": "1997    74678\n1998    73404\n1999    73298\n2000    69009\n1996    68898\n        ...  \n0          16\n1902       15\n1904       15\n1891        6\n1892        1\nName: startYear, Length: 133, dtype: int64"
     },
     "metadata": {},
     "output_type": "display_data"
    },
    {
     "name": "stdout",
     "output_type": "stream",
     "text": [
      "\u001B[1mendYear\u001B[0m\n"
     ]
    },
    {
     "data": {
      "text/plain": "0       1618400\n2001      11270\n1998      10596\n1999      10533\n2000       9247\n         ...   \n1950         81\n2025         77\n1949         28\n1938         15\n1945          8\nName: endYear, Length: 80, dtype: int64"
     },
     "metadata": {},
     "output_type": "display_data"
    },
    {
     "name": "stdout",
     "output_type": "stream",
     "text": [
      "\u001B[1mbirthYear\u001B[0m\n"
     ]
    },
    {
     "data": {
      "text/plain": "0       1251915\n1947      10782\n1946      10344\n1948      10036\n1943       9876\n         ...   \n1641          1\n1474          1\n1768          1\n2006          1\n2004          1\nName: birthYear, Length: 356, dtype: int64"
     },
     "metadata": {},
     "output_type": "display_data"
    },
    {
     "name": "stdout",
     "output_type": "stream",
     "text": [
      "\u001B[1mdeathYear\u001B[0m\n"
     ]
    },
    {
     "data": {
      "text/plain": "0       1540069\n2020       8379\n2021       8173\n2011       7636\n2018       7570\n         ...   \n1786          1\n1527          1\n1591          1\n1726          1\n1463          1\nName: deathYear, Length: 321, dtype: int64"
     },
     "metadata": {},
     "output_type": "display_data"
    }
   ],
   "source": [
    "for col in year_cols:\n",
    "    print(f'\\033[1m{col}\\033[0m')\n",
    "    display(movies_people_df[col].value_counts())"
   ]
  },
  {
   "cell_type": "markdown",
   "id": "3be06caee4674373",
   "metadata": {},
   "source": [
    "### 9.3 Redundant Data"
   ]
  },
  {
   "cell_type": "code",
   "execution_count": 321,
   "id": "f3774fda18b0a4c1",
   "metadata": {
    "ExecuteTime": {
     "end_time": "2024-03-29T21:51:26.184287Z",
     "start_time": "2024-03-29T21:51:16.251051Z"
    }
   },
   "outputs": [
    {
     "name": "stdout",
     "output_type": "stream",
     "text": [
      "The full dataset contains: 1904922 rows and 27 columns. Details for the requested column(s) are as follows:\n",
      "\u001B[1m tconst \u001B[0m: object : 191822 levels\n",
      "['tt0000003', 'tt0000007', 'tt0000008', 'tt0000009', 'tt0000012'] ...\n",
      "\u001B[1m titleType \u001B[0m: object : 10 levels\n",
      "['short', 'movie', 'tvMovie', 'tvSeries', 'tvMiniSeries', 'tvShort', 'tvSpecial'] ...\n",
      "\u001B[1m primaryTitle \u001B[0m: object : 171093 levels\n",
      "['Pauvre Pierrot', 'Corbett and Courtney Before the Kinetograph'] ...\n",
      "\u001B[1m originalTitle \u001B[0m: object : 174873 levels\n",
      "['Pauvre Pierrot', 'Corbett and Courtney Before the Kinetograph'] ...\n",
      "\n",
      "\u001B[1m isAdult \u001B[0m: int64 : 2 levels\n",
      "[0, 1] \n",
      "\n",
      "\u001B[1m startYear \u001B[0m: object : 133 levels\n",
      "['1892', '1894', '1896', '1895', '1897', '1898', '1899', '1900', '1901', '1902', '1903', '1904'] ...\n",
      "\n",
      "\u001B[1m endYear \u001B[0m: object : 80 levels\n",
      "[0, '1945', '1949', '1958', '1951', '1950', '1954', '1957', '1952', '1956', '1967', '1971'] ...\n",
      "\u001B[1m genres \u001B[0m: object : 1505 levels\n",
      "['Animation,Comedy,Romance', 'Short,Sport'] ...\n",
      "\n",
      "\u001B[1m genre1 \u001B[0m: object : 29 levels\n",
      "['Animation', 'Short', 'Documentary', 'Romance', 'Comedy', 'News'] ...\n",
      "\u001B[1m genre2 \u001B[0m: object : 28 levels\n",
      "['Comedy', 'Sport', 'Short', None, 'News', 'Horror', 'Family', 'Fantasy', 'Crime'] ...\n",
      "\n",
      "\u001B[1m genre3 \u001B[0m: object : 27 levels\n",
      "['Romance', None, 'Sport', 'Short', 'Fantasy', 'Horror', 'Drama', 'Comedy'] ...\n",
      "\n",
      "\u001B[1m startDecade \u001B[0m: int64 : 133 levels\n",
      "[1892, 1894, 1896, 1895, 1897, 1898, 1899, 1900, 1901, 1902, 1903, 1904] ...\n",
      "\n",
      "\u001B[1m averageRating \u001B[0m: float64 : 91 levels\n",
      "[6.5, 5.4, 5.3, 7.4, 7.1, 3.9, 5.2, 5.0, 3.3, 3.0, 6.3, 6.7] ...\n",
      "\n",
      "\u001B[1m numVotes \u001B[0m: int64 : 13608 levels\n",
      "[1973, 848, 2175, 208, 12746, 5780, 124, 43, 880, 430, 19, 23] ...\n",
      "\u001B[1m nconst \u001B[0m: object : 839960 levels\n",
      "['nm0721526', 'nm0183947', 'nm0653028', 'nm0063086', 'nm0085156'] ...\n",
      "\u001B[1m primaryName \u001B[0m: object : 795678 levels\n",
      "['Émile Reynaud', 'Peter Courtney', 'Fred Ott', 'Blanche Bayliss'] ...\n",
      "\n",
      "\u001B[1m birthYear \u001B[0m: object : 356 levels\n",
      "['1844', '1867', '1860', '1878', '1859', '1875', '1874', '1862', 0, '1881', '1864', '1854'] ...\n",
      "\n",
      "\u001B[1m deathYear \u001B[0m: object : 321 levels\n",
      "['1918', '1896', '1936', '1951', '1940', '1933', '1963', '1954', 0, '1948', '1921', '1941'] ...\n",
      "\u001B[1m primaryProfession \u001B[0m: object : 11507 levels\n",
      "['director,animation_department,producer'] ...\n",
      "\u001B[1m knownForTitles \u001B[0m: object : 669353 levels\n",
      "['tt0000003,tt16763674,tt16763740,tt13125956'] ...\n",
      "\u001B[1m title1 \u001B[0m: object : 232585 levels\n",
      "['tt0000003', 'tt0000007', 'tt0285265', 'tt0000009', 'tt0020403'] ...\n",
      "\u001B[1m title2 \u001B[0m: object : 222794 levels\n",
      "['tt16763674', None, 'tt0000008', 'tt0021535', 'tt0791136'] ...\n",
      "\n",
      "\u001B[1m title3 \u001B[0m: object : 203487 levels\n",
      "['tt16763740', None, 'tt0240514', 'tt0020355', 'tt0000012'] ...\n",
      "\u001B[1m title4 \u001B[0m: object : 186555 levels\n",
      "['tt13125956', None, 'tt0000009', 'tt0221930', 'tt8485720'] ...\n",
      "\n",
      "\u001B[1m title5 \u001B[0m: object : 37 levels\n",
      "[None, 'tt0038146', 'tt0156217', 'tt0053628', 'tt0460681', 'tt0088559'] ...\n",
      "\n",
      "\u001B[1m title6 \u001B[0m: object : 3 levels\n",
      "[None, 'tt0252111', 'tt5994668'] \n",
      "\n",
      "\u001B[1m title7 \u001B[0m: object : 2 levels\n",
      "[None, 'tt1159931'] \n"
     ]
    }
   ],
   "source": [
    "col_info(movies_people_df)"
   ]
  },
  {
   "cell_type": "markdown",
   "id": "ed4c6adc99ade068",
   "metadata": {},
   "source": [
    "From the column info above, we can see that there are a few columns which seem to contain the same information. These columns and the individual datasets they came from are as follows:"
   ]
  },
  {
   "cell_type": "markdown",
   "id": "23af37e30189e9f6",
   "metadata": {},
   "source": [
    "- primaryTitle and originalTitle\n",
    "- genres and genre1, genre2 & genre3\n",
    "- knownForTitles and title1, title2, title3, title4, title5, title6 & title7"
   ]
  },
  {
   "cell_type": "markdown",
   "id": "97fb030b9918d5b3",
   "metadata": {},
   "source": [
    "So let's filter the combined dataset to include only these columns and then have a look at it more closely."
   ]
  },
  {
   "cell_type": "code",
   "execution_count": 322,
   "id": "c94f399e6ba1ef7",
   "metadata": {
    "ExecuteTime": {
     "end_time": "2024-03-29T21:51:27.250618Z",
     "start_time": "2024-03-29T21:51:26.184287Z"
    }
   },
   "outputs": [
    {
     "data": {
      "text/plain": "                                  primaryTitle  \\\n0                               Pauvre Pierrot   \n1  Corbett and Courtney Before the Kinetograph   \n2       Edison Kinetoscopic Record of a Sneeze   \n3                                   Miss Jerry   \n4                                   Miss Jerry   \n5                                   Miss Jerry   \n6                       The Arrival of a Train   \n7                       The Arrival of a Train   \n8                          The Waterer Watered   \n9                          The Waterer Watered   \n\n                                 originalTitle  \n0                               Pauvre Pierrot  \n1  Corbett and Courtney Before the Kinetograph  \n2       Edison Kinetoscopic Record of a Sneeze  \n3                                   Miss Jerry  \n4                                   Miss Jerry  \n5                                   Miss Jerry  \n6             L'arrivée d'un train à La Ciotat  \n7             L'arrivée d'un train à La Ciotat  \n8                            L'arroseur arrosé  \n9                            L'arroseur arrosé  ",
      "text/html": "<div>\n<style scoped>\n    .dataframe tbody tr th:only-of-type {\n        vertical-align: middle;\n    }\n\n    .dataframe tbody tr th {\n        vertical-align: top;\n    }\n\n    .dataframe thead th {\n        text-align: right;\n    }\n</style>\n<table border=\"1\" class=\"dataframe\">\n  <thead>\n    <tr style=\"text-align: right;\">\n      <th></th>\n      <th>primaryTitle</th>\n      <th>originalTitle</th>\n    </tr>\n  </thead>\n  <tbody>\n    <tr>\n      <th>0</th>\n      <td>Pauvre Pierrot</td>\n      <td>Pauvre Pierrot</td>\n    </tr>\n    <tr>\n      <th>1</th>\n      <td>Corbett and Courtney Before the Kinetograph</td>\n      <td>Corbett and Courtney Before the Kinetograph</td>\n    </tr>\n    <tr>\n      <th>2</th>\n      <td>Edison Kinetoscopic Record of a Sneeze</td>\n      <td>Edison Kinetoscopic Record of a Sneeze</td>\n    </tr>\n    <tr>\n      <th>3</th>\n      <td>Miss Jerry</td>\n      <td>Miss Jerry</td>\n    </tr>\n    <tr>\n      <th>4</th>\n      <td>Miss Jerry</td>\n      <td>Miss Jerry</td>\n    </tr>\n    <tr>\n      <th>5</th>\n      <td>Miss Jerry</td>\n      <td>Miss Jerry</td>\n    </tr>\n    <tr>\n      <th>6</th>\n      <td>The Arrival of a Train</td>\n      <td>L'arrivée d'un train à La Ciotat</td>\n    </tr>\n    <tr>\n      <th>7</th>\n      <td>The Arrival of a Train</td>\n      <td>L'arrivée d'un train à La Ciotat</td>\n    </tr>\n    <tr>\n      <th>8</th>\n      <td>The Waterer Watered</td>\n      <td>L'arroseur arrosé</td>\n    </tr>\n    <tr>\n      <th>9</th>\n      <td>The Waterer Watered</td>\n      <td>L'arroseur arrosé</td>\n    </tr>\n  </tbody>\n</table>\n</div>"
     },
     "execution_count": 322,
     "metadata": {},
     "output_type": "execute_result"
    }
   ],
   "source": [
    "title = movies_people_df[['primaryTitle', 'originalTitle']]\n",
    "title.head(10)"
   ]
  },
  {
   "cell_type": "markdown",
   "id": "ee940dadd94aec02",
   "metadata": {},
   "source": [
    "In the case of primaryTitle and originalTitle they contain some information. originalTitle contains the names in their original language this is not very relevant as we only care about the english names of the titles in this analysis so we can remove the originalTitle column."
   ]
  },
  {
   "cell_type": "code",
   "execution_count": 323,
   "id": "292e8b9be7a2b92c",
   "metadata": {
    "ExecuteTime": {
     "end_time": "2024-03-29T21:51:28.242864Z",
     "start_time": "2024-03-29T21:51:27.251614Z"
    }
   },
   "outputs": [],
   "source": [
    "movies_people_df.drop('originalTitle', axis=1, inplace=True)"
   ]
  },
  {
   "cell_type": "code",
   "execution_count": 324,
   "id": "dfb8a74cfd9971c1",
   "metadata": {
    "ExecuteTime": {
     "end_time": "2024-03-29T21:51:28.312373Z",
     "start_time": "2024-03-29T21:51:28.243865Z"
    }
   },
   "outputs": [
    {
     "data": {
      "text/plain": "                           genres       genre1  genre2   genre3\n0        Animation,Comedy,Romance    Animation  Comedy  Romance\n1                     Short,Sport        Short   Sport     None\n2               Documentary,Short  Documentary   Short     None\n3                         Romance      Romance    None     None\n4                         Romance      Romance    None     None\n...                           ...          ...     ...      ...\n1904917      Comedy,Drama,Romance       Comedy   Drama  Romance\n1904918      Comedy,Drama,Romance       Comedy   Drama  Romance\n1904919      Comedy,Drama,Romance       Comedy   Drama  Romance\n1904920      Comedy,Drama,Romance       Comedy   Drama  Romance\n1904921      Comedy,Drama,Romance       Comedy   Drama  Romance\n\n[1904922 rows x 4 columns]",
      "text/html": "<div>\n<style scoped>\n    .dataframe tbody tr th:only-of-type {\n        vertical-align: middle;\n    }\n\n    .dataframe tbody tr th {\n        vertical-align: top;\n    }\n\n    .dataframe thead th {\n        text-align: right;\n    }\n</style>\n<table border=\"1\" class=\"dataframe\">\n  <thead>\n    <tr style=\"text-align: right;\">\n      <th></th>\n      <th>genres</th>\n      <th>genre1</th>\n      <th>genre2</th>\n      <th>genre3</th>\n    </tr>\n  </thead>\n  <tbody>\n    <tr>\n      <th>0</th>\n      <td>Animation,Comedy,Romance</td>\n      <td>Animation</td>\n      <td>Comedy</td>\n      <td>Romance</td>\n    </tr>\n    <tr>\n      <th>1</th>\n      <td>Short,Sport</td>\n      <td>Short</td>\n      <td>Sport</td>\n      <td>None</td>\n    </tr>\n    <tr>\n      <th>2</th>\n      <td>Documentary,Short</td>\n      <td>Documentary</td>\n      <td>Short</td>\n      <td>None</td>\n    </tr>\n    <tr>\n      <th>3</th>\n      <td>Romance</td>\n      <td>Romance</td>\n      <td>None</td>\n      <td>None</td>\n    </tr>\n    <tr>\n      <th>4</th>\n      <td>Romance</td>\n      <td>Romance</td>\n      <td>None</td>\n      <td>None</td>\n    </tr>\n    <tr>\n      <th>...</th>\n      <td>...</td>\n      <td>...</td>\n      <td>...</td>\n      <td>...</td>\n    </tr>\n    <tr>\n      <th>1904917</th>\n      <td>Comedy,Drama,Romance</td>\n      <td>Comedy</td>\n      <td>Drama</td>\n      <td>Romance</td>\n    </tr>\n    <tr>\n      <th>1904918</th>\n      <td>Comedy,Drama,Romance</td>\n      <td>Comedy</td>\n      <td>Drama</td>\n      <td>Romance</td>\n    </tr>\n    <tr>\n      <th>1904919</th>\n      <td>Comedy,Drama,Romance</td>\n      <td>Comedy</td>\n      <td>Drama</td>\n      <td>Romance</td>\n    </tr>\n    <tr>\n      <th>1904920</th>\n      <td>Comedy,Drama,Romance</td>\n      <td>Comedy</td>\n      <td>Drama</td>\n      <td>Romance</td>\n    </tr>\n    <tr>\n      <th>1904921</th>\n      <td>Comedy,Drama,Romance</td>\n      <td>Comedy</td>\n      <td>Drama</td>\n      <td>Romance</td>\n    </tr>\n  </tbody>\n</table>\n<p>1904922 rows × 4 columns</p>\n</div>"
     },
     "execution_count": 324,
     "metadata": {},
     "output_type": "execute_result"
    }
   ],
   "source": [
    "genre = movies_people_df[['genres', 'genre1', 'genre2', 'genre3']]\n",
    "genre"
   ]
  },
  {
   "cell_type": "markdown",
   "id": "952edb1f1c083da2",
   "metadata": {},
   "source": [
    "They contain redundant data as the columns genre1, 2 & 3 are derived from the genres' column. And as we did not get to use the genre1, 2 & 3 columns. So we drop these column. Similar reasoning for the knownForTitles column."
   ]
  },
  {
   "cell_type": "code",
   "execution_count": 325,
   "id": "a66cc7feeddf2089",
   "metadata": {
    "ExecuteTime": {
     "end_time": "2024-03-29T21:51:29.785004Z",
     "start_time": "2024-03-29T21:51:28.313369Z"
    }
   },
   "outputs": [],
   "source": [
    "movies_people_df.drop(new_genre_columns, axis=1, inplace=True)\n",
    "\n",
    "movies_people_df.drop(new_title_columns, axis=1, inplace=True)"
   ]
  },
  {
   "cell_type": "markdown",
   "id": "8b727e3f94b0b7e6",
   "metadata": {},
   "source": [
    "### 9.4 Missing Data"
   ]
  },
  {
   "cell_type": "code",
   "execution_count": 326,
   "id": "6d18c9ec9e2b50b6",
   "metadata": {
    "ExecuteTime": {
     "end_time": "2024-03-29T21:51:32.300190Z",
     "start_time": "2024-03-29T21:51:29.786001Z"
    }
   },
   "outputs": [
    {
     "data": {
      "text/plain": "primaryProfession    16201\ndtype: int64"
     },
     "execution_count": 326,
     "metadata": {},
     "output_type": "execute_result"
    }
   ],
   "source": [
    "missing_counts = movies_people_df.isna().sum().sort_values()\n",
    "missing_one_plus = missing_counts[missing_counts >= 1]\n",
    "missing_one_plus"
   ]
  },
  {
   "cell_type": "code",
   "execution_count": 327,
   "id": "b235b06547afcc89",
   "metadata": {
    "ExecuteTime": {
     "end_time": "2024-03-29T21:51:32.452918Z",
     "start_time": "2024-03-29T21:51:32.300190Z"
    }
   },
   "outputs": [
    {
     "data": {
      "text/plain": "<Figure size 640x480 with 1 Axes>",
      "image/png": "[encoded data removed]"
     },
     "metadata": {},
     "output_type": "display_data"
    }
   ],
   "source": [
    "fig, ax = plt.subplots()\n",
    "missing_one_plus.plot(kind='barh')\n",
    "plt.grid(axis='x')\n",
    "sns.despine(left=True, bottom=False)"
   ]
  },
  {
   "cell_type": "markdown",
   "id": "49e8738386ec2a1b",
   "metadata": {},
   "source": [
    "The only column with missing values among those on the graph above is primaryProfession."
   ]
  },
  {
   "cell_type": "code",
   "execution_count": 328,
   "id": "c4787eb3c89ceeff",
   "metadata": {
    "ExecuteTime": {
     "end_time": "2024-03-29T21:51:32.456840Z",
     "start_time": "2024-03-29T21:51:32.453919Z"
    }
   },
   "outputs": [
    {
     "name": "stdout",
     "output_type": "stream",
     "text": [
      "Percentage of empty data in column 'primaryProfession': 0.8504810170705153\n"
     ]
    }
   ],
   "source": [
    "empty_percent_profession = (missing_one_plus['primaryProfession'] / len(movies_people_df)) * 100\n",
    "print(\"Percentage of empty data in column 'primaryProfession':\", empty_percent_profession)"
   ]
  },
  {
   "cell_type": "code",
   "execution_count": 329,
   "id": "14f582f09b115bcc",
   "metadata": {
    "ExecuteTime": {
     "end_time": "2024-03-29T21:51:32.607958Z",
     "start_time": "2024-03-29T21:51:32.457835Z"
    }
   },
   "outputs": [
    {
     "data": {
      "text/plain": "actor                371321\nactress              264228\nmiscellaneous         52287\ncamera_department     42526\nwriter                35655\nName: primaryProfession, dtype: int64"
     },
     "execution_count": 329,
     "metadata": {},
     "output_type": "execute_result"
    }
   ],
   "source": [
    "movies_people_df['primaryProfession'].value_counts().head()"
   ]
  },
  {
   "cell_type": "markdown",
   "id": "3445c413db4d5dba",
   "metadata": {},
   "source": [
    "Since the column has less than 1% missing values, we can now go ahead and impute the missing values for the column with the mode value for that column."
   ]
  },
  {
   "cell_type": "code",
   "execution_count": 330,
   "id": "b64770e2abf6d020",
   "metadata": {
    "ExecuteTime": {
     "end_time": "2024-03-29T21:51:33.226640Z",
     "start_time": "2024-03-29T21:51:32.608954Z"
    }
   },
   "outputs": [
    {
     "data": {
      "text/plain": "actor                387522\nactress              264228\nmiscellaneous         52287\ncamera_department     42526\nwriter                35655\nName: primaryProfession, dtype: int64"
     },
     "execution_count": 330,
     "metadata": {},
     "output_type": "execute_result"
    }
   ],
   "source": [
    "movies_people_df['primaryProfession'] = movies_people_df['primaryProfession'].fillna(\n",
    "    movies_people_df['primaryProfession'].mode()[0])\n",
    "\n",
    "movies_people_df['primaryProfession'].value_counts().head()"
   ]
  },
  {
   "cell_type": "markdown",
   "id": "2cb7d7dad6da4d73",
   "metadata": {},
   "source": [
    "Let's confirm that there are no more missing values in our 'primaryProfessions' column."
   ]
  },
  {
   "cell_type": "code",
   "execution_count": 331,
   "id": "9320f2b3025647ba",
   "metadata": {
    "ExecuteTime": {
     "end_time": "2024-03-29T21:51:33.288327Z",
     "start_time": "2024-03-29T21:51:33.227637Z"
    }
   },
   "outputs": [
    {
     "data": {
      "text/plain": "0"
     },
     "execution_count": 331,
     "metadata": {},
     "output_type": "execute_result"
    }
   ],
   "source": [
    "movies_people_df['primaryProfession'].isna().sum()"
   ]
  },
  {
   "cell_type": "code",
   "execution_count": 332,
   "id": "b2aa0f28737e0d6a",
   "metadata": {
    "ExecuteTime": {
     "end_time": "2024-03-29T21:51:37.712700Z",
     "start_time": "2024-03-29T21:51:33.289316Z"
    }
   },
   "outputs": [
    {
     "data": {
      "text/plain": "tconst                   0\ntitleType                0\nprimaryTitle             0\nisAdult                  0\nstartYear                0\nendYear                  0\ngenres               25209\nstartDecade              0\naverageRating            0\nnumVotes                 0\nnconst                   0\nprimaryName              0\nbirthYear                0\ndeathYear                0\nprimaryProfession        0\nknownForTitles           0\ndtype: int64"
     },
     "execution_count": 332,
     "metadata": {},
     "output_type": "execute_result"
    }
   ],
   "source": [
    "count_N_values = movies_people_df.applymap(lambda x: x == '\\\\N').sum()\n",
    "count_N_values"
   ]
  },
  {
   "cell_type": "code",
   "outputs": [
    {
     "name": "stdout",
     "output_type": "stream",
     "text": [
      "Percentage of empty data in column 'genres': 1.3233612714851317\n"
     ]
    }
   ],
   "source": [
    "empty_percent_genre = (count_N_values['genres'] / len(movies_people_df)) * 100\n",
    "print(\"Percentage of empty data in column 'genres':\", empty_percent_genre)"
   ],
   "metadata": {
    "collapsed": false,
    "ExecuteTime": {
     "end_time": "2024-03-29T21:51:37.716542Z",
     "start_time": "2024-03-29T21:51:37.713700Z"
    }
   },
   "id": "c6966ca19c2d9b21",
   "execution_count": 333
  },
  {
   "cell_type": "markdown",
   "id": "4c0303e7426c07ee",
   "metadata": {},
   "source": [
    "Here we can see that 'genres' has less than 2% of '\\N' values (incorrectly inputted data). As we have done above we will replace these with the mode value of this column."
   ]
  },
  {
   "cell_type": "code",
   "execution_count": 334,
   "id": "19f05445ad666d3f",
   "metadata": {
    "ExecuteTime": {
     "end_time": "2024-03-29T21:51:37.802758Z",
     "start_time": "2024-03-29T21:51:37.716542Z"
    }
   },
   "outputs": [
    {
     "data": {
      "text/plain": "Drama                 210500\nComedy                127140\nDrama,Romance          81654\nComedy,Drama           58071\nAction,Crime,Drama     51580\nName: genres, dtype: int64"
     },
     "execution_count": 334,
     "metadata": {},
     "output_type": "execute_result"
    }
   ],
   "source": [
    "movies_people_df['genres'].value_counts().head()"
   ]
  },
  {
   "cell_type": "code",
   "execution_count": 335,
   "id": "c9d388928dc998b1",
   "metadata": {
    "ExecuteTime": {
     "end_time": "2024-03-29T21:51:38.231314Z",
     "start_time": "2024-03-29T21:51:37.803771Z"
    }
   },
   "outputs": [],
   "source": [
    "movies_people_df['genres'] = movies_people_df['genres'].replace(['\\\\N'], movies_people_df['genres'].mode()[0])"
   ]
  },
  {
   "cell_type": "markdown",
   "id": "9daf971e8f6f8cf7",
   "metadata": {},
   "source": [
    "Let's confirm that there are no more missing values in our 'genre1' column."
   ]
  },
  {
   "cell_type": "code",
   "execution_count": 336,
   "id": "b7dec286fe47e431",
   "metadata": {
    "ExecuteTime": {
     "end_time": "2024-03-29T21:51:38.309603Z",
     "start_time": "2024-03-29T21:51:38.232310Z"
    }
   },
   "outputs": [
    {
     "data": {
      "text/plain": "0"
     },
     "execution_count": 336,
     "metadata": {},
     "output_type": "execute_result"
    }
   ],
   "source": [
    "count_N_values_2 = (movies_people_df['genres'] == '\\\\N').sum()\n",
    "count_N_values_2"
   ]
  },
  {
   "cell_type": "markdown",
   "id": "6e238e9279e80e70",
   "metadata": {},
   "source": [
    "### 9.5 Final Data Conversion"
   ]
  },
  {
   "cell_type": "markdown",
   "id": "afb8df06cb0863ef",
   "metadata": {},
   "source": [
    "Now that we have dealt with missing data and done some initial data conversion, we can now go ahead and convert columns that are stored as float/object type into integer type."
   ]
  },
  {
   "cell_type": "markdown",
   "id": "bb7a32ef9a8d9bd5",
   "metadata": {},
   "source": [
    "#### A. Convert to Integer"
   ]
  },
  {
   "cell_type": "code",
   "execution_count": 337,
   "id": "2f48a35fac71bf0c",
   "metadata": {
    "ExecuteTime": {
     "end_time": "2024-03-29T21:51:44.343273Z",
     "start_time": "2024-03-29T21:51:38.310599Z"
    }
   },
   "outputs": [
    {
     "name": "stdout",
     "output_type": "stream",
     "text": [
      "The full dataset contains: 1904922 rows and 12 columns. Details for the requested column(s) are as follows:\n",
      "\n",
      "\u001B[1m tconst \u001B[0m: object : 191822 levels\n",
      "['tt0000003', 'tt0000007', 'tt0000008', 'tt0000009', 'tt0000012'] ...\n",
      "\u001B[1m titleType \u001B[0m: object : 10 levels\n",
      "['short', 'movie', 'tvMovie', 'tvSeries', 'tvMiniSeries', 'tvShort', 'tvSpecial'] ...\n",
      "\u001B[1m primaryTitle \u001B[0m: object : 171093 levels\n",
      "['Pauvre Pierrot', 'Corbett and Courtney Before the Kinetograph'] ...\n",
      "\n",
      "\u001B[1m startYear \u001B[0m: object : 133 levels\n",
      "['1892', '1894', '1896', '1895', '1897', '1898', '1899', '1900', '1901', '1902', '1903', '1904'] ...\n",
      "\n",
      "\u001B[1m endYear \u001B[0m: object : 80 levels\n",
      "[0, '1945', '1949', '1958', '1951', '1950', '1954', '1957', '1952', '1956', '1967', '1971'] ...\n",
      "\u001B[1m genres \u001B[0m: object : 1504 levels\n",
      "['Animation,Comedy,Romance', 'Short,Sport'] ...\n",
      "\u001B[1m nconst \u001B[0m: object : 839960 levels\n",
      "['nm0721526', 'nm0183947', 'nm0653028', 'nm0063086', 'nm0085156'] ...\n",
      "\u001B[1m primaryName \u001B[0m: object : 795678 levels\n",
      "['Émile Reynaud', 'Peter Courtney', 'Fred Ott', 'Blanche Bayliss'] ...\n",
      "\n",
      "\u001B[1m birthYear \u001B[0m: object : 356 levels\n",
      "['1844', '1867', '1860', '1878', '1859', '1875', '1874', '1862', 0, '1881', '1864', '1854'] ...\n",
      "\n",
      "\u001B[1m deathYear \u001B[0m: object : 321 levels\n",
      "['1918', '1896', '1936', '1951', '1940', '1933', '1963', '1954', 0, '1948', '1921', '1941'] ...\n",
      "\u001B[1m primaryProfession \u001B[0m: object : 11506 levels\n",
      "['director,animation_department,producer'] ...\n",
      "\u001B[1m knownForTitles \u001B[0m: object : 669353 levels\n",
      "['tt0000003,tt16763674,tt16763740,tt13125956'] ...\n"
     ]
    }
   ],
   "source": [
    "col_info(movies_people_df.select_dtypes(include='object'))"
   ]
  },
  {
   "cell_type": "code",
   "execution_count": 338,
   "id": "91abcf5088b1b19e",
   "metadata": {
    "ExecuteTime": {
     "end_time": "2024-03-29T21:51:44.883636Z",
     "start_time": "2024-03-29T21:51:44.344267Z"
    }
   },
   "outputs": [
    {
     "data": {
      "text/plain": "  startYear endYear birthYear deathYear\n0      1892       0      1844      1918\n1      1894       0      1867      1896\n2      1894       0      1860      1936\n3      1894       0      1878      1951\n4      1894       0      1859      1940",
      "text/html": "<div>\n<style scoped>\n    .dataframe tbody tr th:only-of-type {\n        vertical-align: middle;\n    }\n\n    .dataframe tbody tr th {\n        vertical-align: top;\n    }\n\n    .dataframe thead th {\n        text-align: right;\n    }\n</style>\n<table border=\"1\" class=\"dataframe\">\n  <thead>\n    <tr style=\"text-align: right;\">\n      <th></th>\n      <th>startYear</th>\n      <th>endYear</th>\n      <th>birthYear</th>\n      <th>deathYear</th>\n    </tr>\n  </thead>\n  <tbody>\n    <tr>\n      <th>0</th>\n      <td>1892</td>\n      <td>0</td>\n      <td>1844</td>\n      <td>1918</td>\n    </tr>\n    <tr>\n      <th>1</th>\n      <td>1894</td>\n      <td>0</td>\n      <td>1867</td>\n      <td>1896</td>\n    </tr>\n    <tr>\n      <th>2</th>\n      <td>1894</td>\n      <td>0</td>\n      <td>1860</td>\n      <td>1936</td>\n    </tr>\n    <tr>\n      <th>3</th>\n      <td>1894</td>\n      <td>0</td>\n      <td>1878</td>\n      <td>1951</td>\n    </tr>\n    <tr>\n      <th>4</th>\n      <td>1894</td>\n      <td>0</td>\n      <td>1859</td>\n      <td>1940</td>\n    </tr>\n  </tbody>\n</table>\n</div>"
     },
     "execution_count": 338,
     "metadata": {},
     "output_type": "execute_result"
    }
   ],
   "source": [
    "movies_people_df[year_cols].head()"
   ]
  },
  {
   "cell_type": "code",
   "execution_count": 339,
   "id": "970c837bf56bd4ae",
   "metadata": {
    "ExecuteTime": {
     "end_time": "2024-03-29T21:51:46.506612Z",
     "start_time": "2024-03-29T21:51:44.884631Z"
    }
   },
   "outputs": [
    {
     "data": {
      "text/plain": "   startYear  endYear  birthYear  deathYear\n0       1892        0       1844       1918\n1       1894        0       1867       1896\n2       1894        0       1860       1936\n3       1894        0       1878       1951\n4       1894        0       1859       1940",
      "text/html": "<div>\n<style scoped>\n    .dataframe tbody tr th:only-of-type {\n        vertical-align: middle;\n    }\n\n    .dataframe tbody tr th {\n        vertical-align: top;\n    }\n\n    .dataframe thead th {\n        text-align: right;\n    }\n</style>\n<table border=\"1\" class=\"dataframe\">\n  <thead>\n    <tr style=\"text-align: right;\">\n      <th></th>\n      <th>startYear</th>\n      <th>endYear</th>\n      <th>birthYear</th>\n      <th>deathYear</th>\n    </tr>\n  </thead>\n  <tbody>\n    <tr>\n      <th>0</th>\n      <td>1892</td>\n      <td>0</td>\n      <td>1844</td>\n      <td>1918</td>\n    </tr>\n    <tr>\n      <th>1</th>\n      <td>1894</td>\n      <td>0</td>\n      <td>1867</td>\n      <td>1896</td>\n    </tr>\n    <tr>\n      <th>2</th>\n      <td>1894</td>\n      <td>0</td>\n      <td>1860</td>\n      <td>1936</td>\n    </tr>\n    <tr>\n      <th>3</th>\n      <td>1894</td>\n      <td>0</td>\n      <td>1878</td>\n      <td>1951</td>\n    </tr>\n    <tr>\n      <th>4</th>\n      <td>1894</td>\n      <td>0</td>\n      <td>1859</td>\n      <td>1940</td>\n    </tr>\n  </tbody>\n</table>\n</div>"
     },
     "execution_count": 339,
     "metadata": {},
     "output_type": "execute_result"
    }
   ],
   "source": [
    "movies_people_df[year_cols] = movies_people_df[year_cols].astype('int64')\n",
    "\n",
    "movies_people_df[year_cols].head()"
   ]
  },
  {
   "cell_type": "code",
   "execution_count": 340,
   "id": "cd7ad562725d2d35",
   "metadata": {
    "ExecuteTime": {
     "end_time": "2024-03-29T21:51:46.511238Z",
     "start_time": "2024-03-29T21:51:46.507605Z"
    }
   },
   "outputs": [
    {
     "name": "stdout",
     "output_type": "stream",
     "text": [
      "Column 'startYear' data type: int64\n",
      "Column 'endYear' data type: int64\n",
      "Column 'birthYear' data type: int64\n",
      "Column 'deathYear' data type: int64\n"
     ]
    }
   ],
   "source": [
    "for col in year_cols:\n",
    "    print(f\"Column '{col}' data type: {movies_people_df[col].dtype}\")"
   ]
  },
  {
   "cell_type": "markdown",
   "id": "c9843b6d26dc291e",
   "metadata": {},
   "source": [
    "### 9.6 Rename Columns"
   ]
  },
  {
   "cell_type": "markdown",
   "id": "48758b88edd3a799",
   "metadata": {},
   "source": [
    "We can now rename all the columns to some meaningful names that can be understood right away without looking into the metadata of the data files for each of the individual datasets the columns came from. For example 'tconst' doesn't indicate what the column is about but 'media_id' does."
   ]
  },
  {
   "cell_type": "code",
   "execution_count": 341,
   "id": "a8b1959834e41e55",
   "metadata": {
    "ExecuteTime": {
     "end_time": "2024-03-29T21:51:46.520106Z",
     "start_time": "2024-03-29T21:51:46.512117Z"
    }
   },
   "outputs": [
    {
     "data": {
      "text/plain": "Index(['tconst', 'titleType', 'primaryTitle', 'isAdult', 'startYear',\n       'endYear', 'genres', 'startDecade', 'averageRating', 'numVotes',\n       'nconst', 'primaryName', 'birthYear', 'deathYear', 'primaryProfession',\n       'knownForTitles'],\n      dtype='object')"
     },
     "execution_count": 341,
     "metadata": {},
     "output_type": "execute_result"
    }
   ],
   "source": [
    "movies_people_df.columns"
   ]
  },
  {
   "cell_type": "code",
   "execution_count": 342,
   "id": "3cc2fb593a448085",
   "metadata": {
    "ExecuteTime": {
     "end_time": "2024-03-29T21:51:46.524871Z",
     "start_time": "2024-03-29T21:51:46.521102Z"
    }
   },
   "outputs": [],
   "source": [
    "rename_dict = {\n",
    "    'tconst': 'Media ID',\n",
    "    'titleType': 'Media Type',\n",
    "    'primaryTitle': 'Title',\n",
    "    'isAdult': 'Is an Adult',\n",
    "    'startYear': 'Start Year',\n",
    "    'endYear': 'End Year',\n",
    "    'genres': 'Genre',\n",
    "    'startDecade': 'Start Decade',\n",
    "    'averageRating': 'Rating',\n",
    "    'numVotes': 'Number of Votes',\n",
    "    'nconst': 'Person ID',\n",
    "    'primaryName': 'Person Name',\n",
    "    'birthYear': 'Birth Year',\n",
    "    'deathYear': 'Death Year',\n",
    "    'primaryProfession': 'Profession',\n",
    "    'knownForTitles': 'Know For Media'\n",
    "}"
   ]
  },
  {
   "cell_type": "code",
   "execution_count": 343,
   "id": "feee2e6cb51addde",
   "metadata": {
    "ExecuteTime": {
     "end_time": "2024-03-29T21:51:46.529720Z",
     "start_time": "2024-03-29T21:51:46.525867Z"
    }
   },
   "outputs": [],
   "source": [
    "movies_people_df.rename(rename_dict, axis=1, inplace=True)"
   ]
  },
  {
   "cell_type": "code",
   "execution_count": 344,
   "id": "d853b3d9c5414d80",
   "metadata": {
    "ExecuteTime": {
     "end_time": "2024-03-29T21:51:46.545324Z",
     "start_time": "2024-03-29T21:51:46.530716Z"
    }
   },
   "outputs": [
    {
     "data": {
      "text/plain": "           Media ID Media Type                                        Title  \\\n0         tt0000003      short                               Pauvre Pierrot   \n1         tt0000007      short  Corbett and Courtney Before the Kinetograph   \n2         tt0000008      short       Edison Kinetoscopic Record of a Sneeze   \n3         tt0000009      movie                                   Miss Jerry   \n4         tt0000009      movie                                   Miss Jerry   \n...             ...        ...                                          ...   \n1904917  tt10145122      movie                           The Perfect Secret   \n1904918  tt10145122      movie                           The Perfect Secret   \n1904919  tt10145122      movie                           The Perfect Secret   \n1904920  tt10145122      movie                           The Perfect Secret   \n1904921  tt10145122      movie                           The Perfect Secret   \n\n         Is an Adult  Start Year  End Year                     Genre  \\\n0                  0        1892         0  Animation,Comedy,Romance   \n1                  0        1894         0               Short,Sport   \n2                  0        1894         0         Documentary,Short   \n3                  0        1894         0                   Romance   \n4                  0        1894         0                   Romance   \n...              ...         ...       ...                       ...   \n1904917            0        2019         0      Comedy,Drama,Romance   \n1904918            0        2019         0      Comedy,Drama,Romance   \n1904919            0        2019         0      Comedy,Drama,Romance   \n1904920            0        2019         0      Comedy,Drama,Romance   \n1904921            0        2019         0      Comedy,Drama,Romance   \n\n         Start Decade  Rating  Number of Votes   Person ID  \\\n0                1892     6.5             1973   nm0721526   \n1                1894     5.4              848   nm0183947   \n2                1894     5.4             2175   nm0653028   \n3                1894     5.3              208   nm0063086   \n4                1894     5.3              208   nm0085156   \n...               ...     ...              ...         ...   \n1904917          2019     6.6             7056   nm0737467   \n1904918          2019     6.6             7056   nm0770547   \n1904919          2019     6.6             7056   nm0777416   \n1904920          2019     6.6             7056   nm0872339   \n1904921          2019     6.6             7056  nm10064534   \n\n                    Person Name  Birth Year  Death Year  \\\n0                 Émile Reynaud        1844        1918   \n1                Peter Courtney        1867        1896   \n2                      Fred Ott        1860        1936   \n3               Blanche Bayliss        1878        1951   \n4               Alexander Black        1859        1940   \n...                         ...         ...         ...   \n1904917        Daniela Schwartz        1973           0   \n1904918  Stephan Scheibengraber        1967           0   \n1904919          Roman Schwartz           0           0   \n1904920           Till Treutler           0           0   \n1904921          Michael Basche           0           0   \n\n                                            Profession  \\\n0               director,animation_department,producer   \n1                                                actor   \n2                                   assistant_director   \n3                                              actress   \n4                      director,writer,cinematographer   \n...                                                ...   \n1904917                   art_department,miscellaneous   \n1904918                              camera_department   \n1904919                      sound_department,composer   \n1904920  camera_department,set_decorator,miscellaneous   \n1904921              camera_department,cinematographer   \n\n                                     Know For Media  \n0        tt0000003,tt16763674,tt16763740,tt13125956  \n1                                         tt0000007  \n2                     tt0285265,tt0000008,tt0240514  \n3                                         tt0000009  \n4                                         tt0000009  \n...                                             ...  \n1904917    tt10145122,tt0388858,tt0806910,tt5698320  \n1904918    tt0114019,tt10145122,tt0117788,tt0139429  \n1904919    tt10145122,tt5651338,tt0367181,tt0100240  \n1904920    tt2088003,tt1704142,tt0119331,tt10145122  \n1904921   tt6902676,tt10145122,tt17495410,tt9185162  \n\n[1904922 rows x 16 columns]",
      "text/html": "<div>\n<style scoped>\n    .dataframe tbody tr th:only-of-type {\n        vertical-align: middle;\n    }\n\n    .dataframe tbody tr th {\n        vertical-align: top;\n    }\n\n    .dataframe thead th {\n        text-align: right;\n    }\n</style>\n<table border=\"1\" class=\"dataframe\">\n  <thead>\n    <tr style=\"text-align: right;\">\n      <th></th>\n      <th>Media ID</th>\n      <th>Media Type</th>\n      <th>Title</th>\n      <th>Is an Adult</th>\n      <th>Start Year</th>\n      <th>End Year</th>\n      <th>Genre</th>\n      <th>Start Decade</th>\n      <th>Rating</th>\n      <th>Number of Votes</th>\n      <th>Person ID</th>\n      <th>Person Name</th>\n      <th>Birth Year</th>\n      <th>Death Year</th>\n      <th>Profession</th>\n      <th>Know For Media</th>\n    </tr>\n  </thead>\n  <tbody>\n    <tr>\n      <th>0</th>\n      <td>tt0000003</td>\n      <td>short</td>\n      <td>Pauvre Pierrot</td>\n      <td>0</td>\n      <td>1892</td>\n      <td>0</td>\n      <td>Animation,Comedy,Romance</td>\n      <td>1892</td>\n      <td>6.5</td>\n      <td>1973</td>\n      <td>nm0721526</td>\n      <td>Émile Reynaud</td>\n      <td>1844</td>\n      <td>1918</td>\n      <td>director,animation_department,producer</td>\n      <td>tt0000003,tt16763674,tt16763740,tt13125956</td>\n    </tr>\n    <tr>\n      <th>1</th>\n      <td>tt0000007</td>\n      <td>short</td>\n      <td>Corbett and Courtney Before the Kinetograph</td>\n      <td>0</td>\n      <td>1894</td>\n      <td>0</td>\n      <td>Short,Sport</td>\n      <td>1894</td>\n      <td>5.4</td>\n      <td>848</td>\n      <td>nm0183947</td>\n      <td>Peter Courtney</td>\n      <td>1867</td>\n      <td>1896</td>\n      <td>actor</td>\n      <td>tt0000007</td>\n    </tr>\n    <tr>\n      <th>2</th>\n      <td>tt0000008</td>\n      <td>short</td>\n      <td>Edison Kinetoscopic Record of a Sneeze</td>\n      <td>0</td>\n      <td>1894</td>\n      <td>0</td>\n      <td>Documentary,Short</td>\n      <td>1894</td>\n      <td>5.4</td>\n      <td>2175</td>\n      <td>nm0653028</td>\n      <td>Fred Ott</td>\n      <td>1860</td>\n      <td>1936</td>\n      <td>assistant_director</td>\n      <td>tt0285265,tt0000008,tt0240514</td>\n    </tr>\n    <tr>\n      <th>3</th>\n      <td>tt0000009</td>\n      <td>movie</td>\n      <td>Miss Jerry</td>\n      <td>0</td>\n      <td>1894</td>\n      <td>0</td>\n      <td>Romance</td>\n      <td>1894</td>\n      <td>5.3</td>\n      <td>208</td>\n      <td>nm0063086</td>\n      <td>Blanche Bayliss</td>\n      <td>1878</td>\n      <td>1951</td>\n      <td>actress</td>\n      <td>tt0000009</td>\n    </tr>\n    <tr>\n      <th>4</th>\n      <td>tt0000009</td>\n      <td>movie</td>\n      <td>Miss Jerry</td>\n      <td>0</td>\n      <td>1894</td>\n      <td>0</td>\n      <td>Romance</td>\n      <td>1894</td>\n      <td>5.3</td>\n      <td>208</td>\n      <td>nm0085156</td>\n      <td>Alexander Black</td>\n      <td>1859</td>\n      <td>1940</td>\n      <td>director,writer,cinematographer</td>\n      <td>tt0000009</td>\n    </tr>\n    <tr>\n      <th>...</th>\n      <td>...</td>\n      <td>...</td>\n      <td>...</td>\n      <td>...</td>\n      <td>...</td>\n      <td>...</td>\n      <td>...</td>\n      <td>...</td>\n      <td>...</td>\n      <td>...</td>\n      <td>...</td>\n      <td>...</td>\n      <td>...</td>\n      <td>...</td>\n      <td>...</td>\n      <td>...</td>\n    </tr>\n    <tr>\n      <th>1904917</th>\n      <td>tt10145122</td>\n      <td>movie</td>\n      <td>The Perfect Secret</td>\n      <td>0</td>\n      <td>2019</td>\n      <td>0</td>\n      <td>Comedy,Drama,Romance</td>\n      <td>2019</td>\n      <td>6.6</td>\n      <td>7056</td>\n      <td>nm0737467</td>\n      <td>Daniela Schwartz</td>\n      <td>1973</td>\n      <td>0</td>\n      <td>art_department,miscellaneous</td>\n      <td>tt10145122,tt0388858,tt0806910,tt5698320</td>\n    </tr>\n    <tr>\n      <th>1904918</th>\n      <td>tt10145122</td>\n      <td>movie</td>\n      <td>The Perfect Secret</td>\n      <td>0</td>\n      <td>2019</td>\n      <td>0</td>\n      <td>Comedy,Drama,Romance</td>\n      <td>2019</td>\n      <td>6.6</td>\n      <td>7056</td>\n      <td>nm0770547</td>\n      <td>Stephan Scheibengraber</td>\n      <td>1967</td>\n      <td>0</td>\n      <td>camera_department</td>\n      <td>tt0114019,tt10145122,tt0117788,tt0139429</td>\n    </tr>\n    <tr>\n      <th>1904919</th>\n      <td>tt10145122</td>\n      <td>movie</td>\n      <td>The Perfect Secret</td>\n      <td>0</td>\n      <td>2019</td>\n      <td>0</td>\n      <td>Comedy,Drama,Romance</td>\n      <td>2019</td>\n      <td>6.6</td>\n      <td>7056</td>\n      <td>nm0777416</td>\n      <td>Roman Schwartz</td>\n      <td>0</td>\n      <td>0</td>\n      <td>sound_department,composer</td>\n      <td>tt10145122,tt5651338,tt0367181,tt0100240</td>\n    </tr>\n    <tr>\n      <th>1904920</th>\n      <td>tt10145122</td>\n      <td>movie</td>\n      <td>The Perfect Secret</td>\n      <td>0</td>\n      <td>2019</td>\n      <td>0</td>\n      <td>Comedy,Drama,Romance</td>\n      <td>2019</td>\n      <td>6.6</td>\n      <td>7056</td>\n      <td>nm0872339</td>\n      <td>Till Treutler</td>\n      <td>0</td>\n      <td>0</td>\n      <td>camera_department,set_decorator,miscellaneous</td>\n      <td>tt2088003,tt1704142,tt0119331,tt10145122</td>\n    </tr>\n    <tr>\n      <th>1904921</th>\n      <td>tt10145122</td>\n      <td>movie</td>\n      <td>The Perfect Secret</td>\n      <td>0</td>\n      <td>2019</td>\n      <td>0</td>\n      <td>Comedy,Drama,Romance</td>\n      <td>2019</td>\n      <td>6.6</td>\n      <td>7056</td>\n      <td>nm10064534</td>\n      <td>Michael Basche</td>\n      <td>0</td>\n      <td>0</td>\n      <td>camera_department,cinematographer</td>\n      <td>tt6902676,tt10145122,tt17495410,tt9185162</td>\n    </tr>\n  </tbody>\n</table>\n<p>1904922 rows × 16 columns</p>\n</div>"
     },
     "execution_count": 344,
     "metadata": {},
     "output_type": "execute_result"
    }
   ],
   "source": [
    "pd.set_option('display.max_columns', None)\n",
    "movies_people_df"
   ]
  },
  {
   "cell_type": "markdown",
   "id": "b21ba796",
   "metadata": {},
   "source": [
    "## 10. ANALYSIS"
   ]
  },
  {
   "cell_type": "markdown",
   "id": "2d9dffa2",
   "metadata": {},
   "source": [
    "### 10.1 Scatterplot of Rating and Number of Votes"
   ]
  },
  {
   "cell_type": "markdown",
   "source": [
    "Since, we will be running analysis on 'Titles' we will remove all the duplicates."
   ],
   "metadata": {
    "collapsed": false
   },
   "id": "4aff86d4025c794c"
  },
  {
   "cell_type": "code",
   "execution_count": 345,
   "id": "07c14dcf",
   "metadata": {
    "scrolled": false,
    "ExecuteTime": {
     "end_time": "2024-03-29T21:51:46.694374Z",
     "start_time": "2024-03-29T21:51:46.546317Z"
    }
   },
   "outputs": [],
   "source": [
    "movies_title_df_unique = movies_people_df.drop_duplicates(subset=['Title'])"
   ]
  },
  {
   "cell_type": "markdown",
   "source": [
    "We are interested in finding whether there is any association between rating and number of votes for all media listed in the IMDB table. To graph scatterplot between rating and number of votes, first we need to drop duplicates title from the dataframe."
   ],
   "metadata": {},
   "id": "008e4cbf"
  },
  {
   "cell_type": "markdown",
   "id": "1826cc4e",
   "metadata": {},
   "source": [
    "Now we are going to graph the scatterplot between 'Rating' and 'Number of Votes'"
   ]
  },
  {
   "cell_type": "code",
   "execution_count": 346,
   "id": "b3341a7a",
   "metadata": {
    "ExecuteTime": {
     "end_time": "2024-03-29T21:51:47.201286Z",
     "start_time": "2024-03-29T21:51:46.694887Z"
    }
   },
   "outputs": [
    {
     "data": {
      "text/plain": "<Figure size 1000x600 with 1 Axes>",
      "image/png": "[encoded data removed]"
     },
     "metadata": {},
     "output_type": "display_data"
    }
   ],
   "source": [
    "plt.figure(figsize=(10, 6))\n",
    "plt.scatter(movies_title_df_unique['Number of Votes'], movies_title_df_unique['Rating'])\n",
    "plt.title('Scatterplot of Number of Votes vs. Rating')\n",
    "plt.xlabel('Number of Votes')\n",
    "plt.ylabel('Rating')\n",
    "plt.show()"
   ]
  },
  {
   "cell_type": "markdown",
   "id": "ea2f0655",
   "metadata": {},
   "source": [
    "We can observe from the scatterplot that most of the data has less than 1 million number of votes. Our initial hypothesis is that there is no linear relationship between 'Number of Votes' and 'Rating', but we will formally calculate the correlation coefficient in the next section."
   ]
  },
  {
   "cell_type": "markdown",
   "id": "a39f3b07",
   "metadata": {},
   "source": [
    "### 10.2 Correlation coefficient of Rating and Number of Votes"
   ]
  },
  {
   "cell_type": "markdown",
   "id": "f00e5db2",
   "metadata": {},
   "source": [
    "Now we will formally calculate the correlation coefficient between the two variables."
   ]
  },
  {
   "cell_type": "code",
   "execution_count": 347,
   "id": "49206d63",
   "metadata": {
    "ExecuteTime": {
     "end_time": "2024-03-29T21:51:47.210174Z",
     "start_time": "2024-03-29T21:51:47.201286Z"
    }
   },
   "outputs": [
    {
     "name": "stdout",
     "output_type": "stream",
     "text": [
      "The correlation coefficient between Number of Votes and Rating is 0.069\n"
     ]
    }
   ],
   "source": [
    "correlation = movies_title_df_unique[['Number of Votes', 'Rating']].corr().iloc[0, 1]\n",
    "print(\"The correlation coefficient between Number of Votes and Rating is\", round(correlation, 4))"
   ]
  },
  {
   "cell_type": "markdown",
   "id": "7be67d92",
   "metadata": {},
   "source": [
    "It shows that our initial hypothesis based on the scatterplot is correct that the two variables are not correlated."
   ]
  },
  {
   "cell_type": "markdown",
   "id": "42bd5f43",
   "metadata": {},
   "source": [
    "### 10.3 Top 10 movies of all time"
   ]
  },
  {
   "cell_type": "markdown",
   "id": "9890af87",
   "metadata": {},
   "source": [
    "We want to find the top 10 movies based on ratings and then sorted based on number of votes.\n",
    "To accomplish this first we are going to isolate movies only from the sorted "
   ]
  },
  {
   "cell_type": "code",
   "execution_count": 348,
   "id": "ce6c1690",
   "metadata": {
    "ExecuteTime": {
     "end_time": "2024-03-29T21:51:47.330868Z",
     "start_time": "2024-03-29T21:51:47.211170Z"
    }
   },
   "outputs": [
    {
     "data": {
      "text/plain": "                                                     Title  Rating  \\\n1409376                                     The Last Enemy    10.0   \n748470                                       All I Know Is     9.9   \n1749394                                 The People's Story     9.7   \n1154380                                   Nicole's Revenge     9.6   \n1901630                                   Cafe Coexistence     9.6   \n970902                                    Pepper's Pow Wow     9.6   \n1550877                        Against Reason and by Force     9.6   \n1827113                                    Di bale na lang     9.5   \n1859215  Soul of Justice: Thelton Henderson's American ...     9.5   \n779731               Wiping the Tears of Seven Generations     9.5   \n\n         Number of Votes  \n1409376                6  \n748470                10  \n1749394               22  \n1154380               25  \n1901630               13  \n970902                 8  \n1550877                5  \n1827113               34  \n1859215               22  \n779731                19  ",
      "text/html": "<div>\n<style scoped>\n    .dataframe tbody tr th:only-of-type {\n        vertical-align: middle;\n    }\n\n    .dataframe tbody tr th {\n        vertical-align: top;\n    }\n\n    .dataframe thead th {\n        text-align: right;\n    }\n</style>\n<table border=\"1\" class=\"dataframe\">\n  <thead>\n    <tr style=\"text-align: right;\">\n      <th></th>\n      <th>Title</th>\n      <th>Rating</th>\n      <th>Number of Votes</th>\n    </tr>\n  </thead>\n  <tbody>\n    <tr>\n      <th>1409376</th>\n      <td>The Last Enemy</td>\n      <td>10.0</td>\n      <td>6</td>\n    </tr>\n    <tr>\n      <th>748470</th>\n      <td>All I Know Is</td>\n      <td>9.9</td>\n      <td>10</td>\n    </tr>\n    <tr>\n      <th>1749394</th>\n      <td>The People's Story</td>\n      <td>9.7</td>\n      <td>22</td>\n    </tr>\n    <tr>\n      <th>1154380</th>\n      <td>Nicole's Revenge</td>\n      <td>9.6</td>\n      <td>25</td>\n    </tr>\n    <tr>\n      <th>1901630</th>\n      <td>Cafe Coexistence</td>\n      <td>9.6</td>\n      <td>13</td>\n    </tr>\n    <tr>\n      <th>970902</th>\n      <td>Pepper's Pow Wow</td>\n      <td>9.6</td>\n      <td>8</td>\n    </tr>\n    <tr>\n      <th>1550877</th>\n      <td>Against Reason and by Force</td>\n      <td>9.6</td>\n      <td>5</td>\n    </tr>\n    <tr>\n      <th>1827113</th>\n      <td>Di bale na lang</td>\n      <td>9.5</td>\n      <td>34</td>\n    </tr>\n    <tr>\n      <th>1859215</th>\n      <td>Soul of Justice: Thelton Henderson's American ...</td>\n      <td>9.5</td>\n      <td>22</td>\n    </tr>\n    <tr>\n      <th>779731</th>\n      <td>Wiping the Tears of Seven Generations</td>\n      <td>9.5</td>\n      <td>19</td>\n    </tr>\n  </tbody>\n</table>\n</div>"
     },
     "execution_count": 348,
     "metadata": {},
     "output_type": "execute_result"
    }
   ],
   "source": [
    "only_movies_df = movies_title_df_unique[movies_title_df_unique['Media Type'] == 'movie']\n",
    "display_list_1 = ['Title', 'Rating', 'Number of Votes']\n",
    "\n",
    "only_movies_df.sort_values(by=['Rating', 'Number of Votes'], ascending=[False, False]).head(10)[display_list_1]"
   ]
  },
  {
   "cell_type": "markdown",
   "id": "863918e0",
   "metadata": {},
   "source": [
    "The results are not reliable since it produces a list of top 10 movies with the highest ratings and low number of votes.\n",
    "As corrective measure, we want to now sort the top 10 movies based on the number of votes first and then the rating."
   ]
  },
  {
   "cell_type": "code",
   "execution_count": 349,
   "id": "e820a2be",
   "metadata": {
    "scrolled": true,
    "ExecuteTime": {
     "end_time": "2024-03-29T21:51:47.410356Z",
     "start_time": "2024-03-29T21:51:47.331865Z"
    }
   },
   "outputs": [
    {
     "data": {
      "text/plain": "                                                     Title  Rating  \\\n865789                            The Shawshank Redemption     9.3   \n1131049                                         Fight Club     8.8   \n845715                                        Forrest Gump     8.8   \n861861                                        Pulp Fiction     8.9   \n1862436                                       Interstellar     8.7   \n1114406                                         The Matrix     8.7   \n292472                                       The Godfather     9.2   \n1051004  The Lord of the Rings: The Fellowship of the Ring     8.9   \n1233100      The Lord of the Rings: The Return of the King     9.0   \n918599                                               Se7en     8.6   \n\n         Number of Votes  \n865789           2865377  \n1131049          2300555  \n845715           2237034  \n861861           2200398  \n1862436          2068242  \n1114406          2035803  \n292472           1995899  \n1051004          1990492  \n1233100          1962595  \n918599           1782687  ",
      "text/html": "<div>\n<style scoped>\n    .dataframe tbody tr th:only-of-type {\n        vertical-align: middle;\n    }\n\n    .dataframe tbody tr th {\n        vertical-align: top;\n    }\n\n    .dataframe thead th {\n        text-align: right;\n    }\n</style>\n<table border=\"1\" class=\"dataframe\">\n  <thead>\n    <tr style=\"text-align: right;\">\n      <th></th>\n      <th>Title</th>\n      <th>Rating</th>\n      <th>Number of Votes</th>\n    </tr>\n  </thead>\n  <tbody>\n    <tr>\n      <th>865789</th>\n      <td>The Shawshank Redemption</td>\n      <td>9.3</td>\n      <td>2865377</td>\n    </tr>\n    <tr>\n      <th>1131049</th>\n      <td>Fight Club</td>\n      <td>8.8</td>\n      <td>2300555</td>\n    </tr>\n    <tr>\n      <th>845715</th>\n      <td>Forrest Gump</td>\n      <td>8.8</td>\n      <td>2237034</td>\n    </tr>\n    <tr>\n      <th>861861</th>\n      <td>Pulp Fiction</td>\n      <td>8.9</td>\n      <td>2200398</td>\n    </tr>\n    <tr>\n      <th>1862436</th>\n      <td>Interstellar</td>\n      <td>8.7</td>\n      <td>2068242</td>\n    </tr>\n    <tr>\n      <th>1114406</th>\n      <td>The Matrix</td>\n      <td>8.7</td>\n      <td>2035803</td>\n    </tr>\n    <tr>\n      <th>292472</th>\n      <td>The Godfather</td>\n      <td>9.2</td>\n      <td>1995899</td>\n    </tr>\n    <tr>\n      <th>1051004</th>\n      <td>The Lord of the Rings: The Fellowship of the Ring</td>\n      <td>8.9</td>\n      <td>1990492</td>\n    </tr>\n    <tr>\n      <th>1233100</th>\n      <td>The Lord of the Rings: The Return of the King</td>\n      <td>9.0</td>\n      <td>1962595</td>\n    </tr>\n    <tr>\n      <th>918599</th>\n      <td>Se7en</td>\n      <td>8.6</td>\n      <td>1782687</td>\n    </tr>\n  </tbody>\n</table>\n</div>"
     },
     "execution_count": 349,
     "metadata": {},
     "output_type": "execute_result"
    }
   ],
   "source": [
    "top_10_movies_df = only_movies_df.sort_values(by=['Number of Votes', 'Rating'], ascending=[False, False]).head(10)[\n",
    "    display_list_1]\n",
    "\n",
    "top_10_movies_df.head(10)"
   ]
  },
  {
   "cell_type": "markdown",
   "id": "1d321b64",
   "metadata": {},
   "source": [
    "This method produces better results since now we are taking into account the popularity of the movies (as evident with the large number of votes) and the audiences' preference (as evident with the high ratings).\n",
    "\n",
    "To add visualization to our findings, we are going to create a bar graph for this."
   ]
  },
  {
   "cell_type": "code",
   "execution_count": 350,
   "id": "e460427a",
   "metadata": {
    "ExecuteTime": {
     "end_time": "2024-03-29T21:51:47.650720Z",
     "start_time": "2024-03-29T21:51:47.411350Z"
    }
   },
   "outputs": [
    {
     "data": {
      "text/plain": "<Figure size 1000x600 with 1 Axes>",
      "image/png": "[encoded data removed]"
     },
     "metadata": {},
     "output_type": "display_data"
    }
   ],
   "source": [
    "plt.figure(figsize=(10, 6))\n",
    "colors = plt.cm.viridis(np.linspace(0, 1, len(top_10_movies_df)))\n",
    "plt.bar(top_10_movies_df['Title'], top_10_movies_df['Number of Votes'], color=colors)\n",
    "plt.title('Top 10 Movies by Number of Votes')\n",
    "plt.xlabel('Titles')\n",
    "plt.ylabel('Number of Votes')\n",
    "plt.xticks(rotation=45, ha='right')\n",
    "plt.tight_layout()\n",
    "plt.show()"
   ]
  },
  {
   "cell_type": "markdown",
   "id": "3c5cee70",
   "metadata": {},
   "source": [
    "### 10.4 Top 10 Actors/Actress of all time"
   ]
  },
  {
   "cell_type": "markdown",
   "id": "ce89ed74",
   "metadata": {},
   "source": [
    "We want to find the top 10 actor of all time, to do this we need to create a new dataframe in which the profession column is filtered such that it contains the word 'actor' or 'actress'."
   ]
  },
  {
   "cell_type": "code",
   "execution_count": 351,
   "id": "7da62d2d",
   "metadata": {
    "ExecuteTime": {
     "end_time": "2024-03-29T21:51:48.743661Z",
     "start_time": "2024-03-29T21:51:47.651693Z"
    }
   },
   "outputs": [
    {
     "data": {
      "text/plain": "    Media ID Media Type                                        Title  \\\n1  tt0000007      short  Corbett and Courtney Before the Kinetograph   \n3  tt0000009      movie                                   Miss Jerry   \n5  tt0000009      movie                                   Miss Jerry   \n6  tt0000012      short                       The Arrival of a Train   \n7  tt0000012      short                       The Arrival of a Train   \n\n   Is an Adult  Start Year  End Year              Genre  Start Decade  Rating  \\\n1            0        1894         0        Short,Sport          1894     5.4   \n3            0        1894         0            Romance          1894     5.3   \n5            0        1894         0            Romance          1894     5.3   \n6            0        1896         0  Documentary,Short          1896     7.4   \n7            0        1896         0  Documentary,Short          1896     7.4   \n\n   Number of Votes  Person ID           Person Name  Birth Year  Death Year  \\\n1              848  nm0183947        Peter Courtney        1867        1896   \n3              208  nm0063086       Blanche Bayliss        1878        1951   \n5              208  nm0183823     William Courtenay        1875        1933   \n6            12746  nm0525900  Mrs. Auguste Lumiere        1874        1963   \n7            12746  nm0525908       Auguste Lumière        1862        1954   \n\n                Profession                           Know For Media  \n1                    actor                                tt0000007  \n3                  actress                                tt0000009  \n5                    actor  tt0020403,tt0021535,tt0020355,tt0000009  \n6                    actor  tt0222259,tt0791136,tt0000012,tt0221930  \n7  producer,director,actor  tt0000012,tt1740508,tt8488118,tt8485720  ",
      "text/html": "<div>\n<style scoped>\n    .dataframe tbody tr th:only-of-type {\n        vertical-align: middle;\n    }\n\n    .dataframe tbody tr th {\n        vertical-align: top;\n    }\n\n    .dataframe thead th {\n        text-align: right;\n    }\n</style>\n<table border=\"1\" class=\"dataframe\">\n  <thead>\n    <tr style=\"text-align: right;\">\n      <th></th>\n      <th>Media ID</th>\n      <th>Media Type</th>\n      <th>Title</th>\n      <th>Is an Adult</th>\n      <th>Start Year</th>\n      <th>End Year</th>\n      <th>Genre</th>\n      <th>Start Decade</th>\n      <th>Rating</th>\n      <th>Number of Votes</th>\n      <th>Person ID</th>\n      <th>Person Name</th>\n      <th>Birth Year</th>\n      <th>Death Year</th>\n      <th>Profession</th>\n      <th>Know For Media</th>\n    </tr>\n  </thead>\n  <tbody>\n    <tr>\n      <th>1</th>\n      <td>tt0000007</td>\n      <td>short</td>\n      <td>Corbett and Courtney Before the Kinetograph</td>\n      <td>0</td>\n      <td>1894</td>\n      <td>0</td>\n      <td>Short,Sport</td>\n      <td>1894</td>\n      <td>5.4</td>\n      <td>848</td>\n      <td>nm0183947</td>\n      <td>Peter Courtney</td>\n      <td>1867</td>\n      <td>1896</td>\n      <td>actor</td>\n      <td>tt0000007</td>\n    </tr>\n    <tr>\n      <th>3</th>\n      <td>tt0000009</td>\n      <td>movie</td>\n      <td>Miss Jerry</td>\n      <td>0</td>\n      <td>1894</td>\n      <td>0</td>\n      <td>Romance</td>\n      <td>1894</td>\n      <td>5.3</td>\n      <td>208</td>\n      <td>nm0063086</td>\n      <td>Blanche Bayliss</td>\n      <td>1878</td>\n      <td>1951</td>\n      <td>actress</td>\n      <td>tt0000009</td>\n    </tr>\n    <tr>\n      <th>5</th>\n      <td>tt0000009</td>\n      <td>movie</td>\n      <td>Miss Jerry</td>\n      <td>0</td>\n      <td>1894</td>\n      <td>0</td>\n      <td>Romance</td>\n      <td>1894</td>\n      <td>5.3</td>\n      <td>208</td>\n      <td>nm0183823</td>\n      <td>William Courtenay</td>\n      <td>1875</td>\n      <td>1933</td>\n      <td>actor</td>\n      <td>tt0020403,tt0021535,tt0020355,tt0000009</td>\n    </tr>\n    <tr>\n      <th>6</th>\n      <td>tt0000012</td>\n      <td>short</td>\n      <td>The Arrival of a Train</td>\n      <td>0</td>\n      <td>1896</td>\n      <td>0</td>\n      <td>Documentary,Short</td>\n      <td>1896</td>\n      <td>7.4</td>\n      <td>12746</td>\n      <td>nm0525900</td>\n      <td>Mrs. Auguste Lumiere</td>\n      <td>1874</td>\n      <td>1963</td>\n      <td>actor</td>\n      <td>tt0222259,tt0791136,tt0000012,tt0221930</td>\n    </tr>\n    <tr>\n      <th>7</th>\n      <td>tt0000012</td>\n      <td>short</td>\n      <td>The Arrival of a Train</td>\n      <td>0</td>\n      <td>1896</td>\n      <td>0</td>\n      <td>Documentary,Short</td>\n      <td>1896</td>\n      <td>7.4</td>\n      <td>12746</td>\n      <td>nm0525908</td>\n      <td>Auguste Lumière</td>\n      <td>1862</td>\n      <td>1954</td>\n      <td>producer,director,actor</td>\n      <td>tt0000012,tt1740508,tt8488118,tt8485720</td>\n    </tr>\n  </tbody>\n</table>\n</div>"
     },
     "execution_count": 351,
     "metadata": {},
     "output_type": "execute_result"
    }
   ],
   "source": [
    "actors_df = movies_people_df[movies_people_df['Profession'].str.contains('actor|actress', na=False)]\n",
    "actors_df.head(5)"
   ]
  },
  {
   "cell_type": "markdown",
   "id": "9e177a6c",
   "metadata": {},
   "source": [
    "We have successfully created the new dataframe of actors and actress. Now we want to find top 10 actors based on number of times they appeared in any media.\n",
    "\n",
    "To do this we will group the data by 'Person Name' and count the number of titles for each person. The last step is to sort the counts descending order to get the most frequent names at the top and display the top 10."
   ]
  },
  {
   "cell_type": "code",
   "execution_count": 352,
   "id": "5552ff6b",
   "metadata": {
    "ExecuteTime": {
     "end_time": "2024-03-29T21:51:50.372918Z",
     "start_time": "2024-03-29T21:51:48.744657Z"
    }
   },
   "outputs": [
    {
     "data": {
      "text/plain": "      Person Name  Count\n0   John Williams     34\n1   Paul Williams     30\n2      John Scott     24\n3   Richard Smith     23\n4  David Williams     22\n5      John Kelly     22\n6     John Taylor     22\n7     David Allen     21\n8      Paul Smith     21\n9    David Thomas     20",
      "text/html": "<div>\n<style scoped>\n    .dataframe tbody tr th:only-of-type {\n        vertical-align: middle;\n    }\n\n    .dataframe tbody tr th {\n        vertical-align: top;\n    }\n\n    .dataframe thead th {\n        text-align: right;\n    }\n</style>\n<table border=\"1\" class=\"dataframe\">\n  <thead>\n    <tr style=\"text-align: right;\">\n      <th></th>\n      <th>Person Name</th>\n      <th>Count</th>\n    </tr>\n  </thead>\n  <tbody>\n    <tr>\n      <th>0</th>\n      <td>John Williams</td>\n      <td>34</td>\n    </tr>\n    <tr>\n      <th>1</th>\n      <td>Paul Williams</td>\n      <td>30</td>\n    </tr>\n    <tr>\n      <th>2</th>\n      <td>John Scott</td>\n      <td>24</td>\n    </tr>\n    <tr>\n      <th>3</th>\n      <td>Richard Smith</td>\n      <td>23</td>\n    </tr>\n    <tr>\n      <th>4</th>\n      <td>David Williams</td>\n      <td>22</td>\n    </tr>\n    <tr>\n      <th>5</th>\n      <td>John Kelly</td>\n      <td>22</td>\n    </tr>\n    <tr>\n      <th>6</th>\n      <td>John Taylor</td>\n      <td>22</td>\n    </tr>\n    <tr>\n      <th>7</th>\n      <td>David Allen</td>\n      <td>21</td>\n    </tr>\n    <tr>\n      <th>8</th>\n      <td>Paul Smith</td>\n      <td>21</td>\n    </tr>\n    <tr>\n      <th>9</th>\n      <td>David Thomas</td>\n      <td>20</td>\n    </tr>\n  </tbody>\n</table>\n</div>"
     },
     "execution_count": 352,
     "metadata": {},
     "output_type": "execute_result"
    }
   ],
   "source": [
    "title_counts = actors_df.groupby('Person Name')['Title'].count().sort_values(ascending=False)\n",
    "top_10_person_names = title_counts.head(10)\n",
    "top_10_person_names.to_frame(name=\"Count\").reset_index()"
   ]
  },
  {
   "cell_type": "markdown",
   "id": "3d90ac7d",
   "metadata": {},
   "source": [
    "### 10.5 Top 10 movies for each decade starting in 1900 by number of votes"
   ]
  },
  {
   "cell_type": "markdown",
   "id": "63f2825f",
   "metadata": {},
   "source": [
    "To accomplish this task we will utilize loop to filter the dataframe into separate decade (excluding endpoints). We then sort the title of the movies based on the largest number of votes and select the top 10."
   ]
  },
  {
   "cell_type": "code",
   "outputs": [],
   "source": [
    "starting_year = 1900\n",
    "current_year = datetime.now().year"
   ],
   "metadata": {
    "collapsed": false,
    "ExecuteTime": {
     "end_time": "2024-03-29T21:51:50.376527Z",
     "start_time": "2024-03-29T21:51:50.373918Z"
    }
   },
   "id": "2ac8f4db951a06fb",
   "execution_count": 353
  },
  {
   "cell_type": "code",
   "execution_count": 354,
   "id": "d81d65f1",
   "metadata": {
    "ExecuteTime": {
     "end_time": "2024-03-29T21:51:50.606663Z",
     "start_time": "2024-03-29T21:51:50.377523Z"
    }
   },
   "outputs": [
    {
     "name": "stdout",
     "output_type": "stream",
     "text": [
      "\u001B[1mTop 10 Titles for 1900-1910 Decade:\u001B[0m\n"
     ]
    },
    {
     "data": {
      "text/plain": "     index                                       Title  Number of Votes\n0       89                          A Trip to the Moon            55221\n1       93                     The Great Train Robbery            20828\n2       90                         Alice in Wonderland             2853\n3      271                           A Corner in Wheat             2715\n4      123                    Dream of a Rarebit Fiend             1977\n5       97                  The Kingdom of the Fairies             1791\n6  1396992  The Eclipse: Courtship of the Sun and Moon             1382\n7      127                 The 400 Tricks of the Devil             1349\n8      102                            Rescued by Rover             1302\n9       96                          Mary Jane's Mishap             1021",
      "text/html": "<div>\n<style scoped>\n    .dataframe tbody tr th:only-of-type {\n        vertical-align: middle;\n    }\n\n    .dataframe tbody tr th {\n        vertical-align: top;\n    }\n\n    .dataframe thead th {\n        text-align: right;\n    }\n</style>\n<table border=\"1\" class=\"dataframe\">\n  <thead>\n    <tr style=\"text-align: right;\">\n      <th></th>\n      <th>index</th>\n      <th>Title</th>\n      <th>Number of Votes</th>\n    </tr>\n  </thead>\n  <tbody>\n    <tr>\n      <th>0</th>\n      <td>89</td>\n      <td>A Trip to the Moon</td>\n      <td>55221</td>\n    </tr>\n    <tr>\n      <th>1</th>\n      <td>93</td>\n      <td>The Great Train Robbery</td>\n      <td>20828</td>\n    </tr>\n    <tr>\n      <th>2</th>\n      <td>90</td>\n      <td>Alice in Wonderland</td>\n      <td>2853</td>\n    </tr>\n    <tr>\n      <th>3</th>\n      <td>271</td>\n      <td>A Corner in Wheat</td>\n      <td>2715</td>\n    </tr>\n    <tr>\n      <th>4</th>\n      <td>123</td>\n      <td>Dream of a Rarebit Fiend</td>\n      <td>1977</td>\n    </tr>\n    <tr>\n      <th>5</th>\n      <td>97</td>\n      <td>The Kingdom of the Fairies</td>\n      <td>1791</td>\n    </tr>\n    <tr>\n      <th>6</th>\n      <td>1396992</td>\n      <td>The Eclipse: Courtship of the Sun and Moon</td>\n      <td>1382</td>\n    </tr>\n    <tr>\n      <th>7</th>\n      <td>127</td>\n      <td>The 400 Tricks of the Devil</td>\n      <td>1349</td>\n    </tr>\n    <tr>\n      <th>8</th>\n      <td>102</td>\n      <td>Rescued by Rover</td>\n      <td>1302</td>\n    </tr>\n    <tr>\n      <th>9</th>\n      <td>96</td>\n      <td>Mary Jane's Mishap</td>\n      <td>1021</td>\n    </tr>\n  </tbody>\n</table>\n</div>"
     },
     "metadata": {},
     "output_type": "display_data"
    },
    {
     "name": "stdout",
     "output_type": "stream",
     "text": [
      "\u001B[1mTop 10 Titles for 1911-1920 Decade:\u001B[0m\n"
     ]
    },
    {
     "data": {
      "text/plain": "   index                       Title  Number of Votes\n0   2013       The Birth of a Nation            26199\n1   3209                 Intolerance            16624\n2   5588             Broken Blossoms            11000\n3   2675                Les vampires             5387\n4   3512                    The Rink             4222\n5   1349                     Cabiria             3910\n6   1895  Tillie's Punctured Romance             3699\n7   2663                   The Tramp             3699\n8   1462         Gertie the Dinosaur             3618\n9    708             Dante's Inferno             3391",
      "text/html": "<div>\n<style scoped>\n    .dataframe tbody tr th:only-of-type {\n        vertical-align: middle;\n    }\n\n    .dataframe tbody tr th {\n        vertical-align: top;\n    }\n\n    .dataframe thead th {\n        text-align: right;\n    }\n</style>\n<table border=\"1\" class=\"dataframe\">\n  <thead>\n    <tr style=\"text-align: right;\">\n      <th></th>\n      <th>index</th>\n      <th>Title</th>\n      <th>Number of Votes</th>\n    </tr>\n  </thead>\n  <tbody>\n    <tr>\n      <th>0</th>\n      <td>2013</td>\n      <td>The Birth of a Nation</td>\n      <td>26199</td>\n    </tr>\n    <tr>\n      <th>1</th>\n      <td>3209</td>\n      <td>Intolerance</td>\n      <td>16624</td>\n    </tr>\n    <tr>\n      <th>2</th>\n      <td>5588</td>\n      <td>Broken Blossoms</td>\n      <td>11000</td>\n    </tr>\n    <tr>\n      <th>3</th>\n      <td>2675</td>\n      <td>Les vampires</td>\n      <td>5387</td>\n    </tr>\n    <tr>\n      <th>4</th>\n      <td>3512</td>\n      <td>The Rink</td>\n      <td>4222</td>\n    </tr>\n    <tr>\n      <th>5</th>\n      <td>1349</td>\n      <td>Cabiria</td>\n      <td>3910</td>\n    </tr>\n    <tr>\n      <th>6</th>\n      <td>1895</td>\n      <td>Tillie's Punctured Romance</td>\n      <td>3699</td>\n    </tr>\n    <tr>\n      <th>7</th>\n      <td>2663</td>\n      <td>The Tramp</td>\n      <td>3699</td>\n    </tr>\n    <tr>\n      <th>8</th>\n      <td>1462</td>\n      <td>Gertie the Dinosaur</td>\n      <td>3618</td>\n    </tr>\n    <tr>\n      <th>9</th>\n      <td>708</td>\n      <td>Dante's Inferno</td>\n      <td>3391</td>\n    </tr>\n  </tbody>\n</table>\n</div>"
     },
     "metadata": {},
     "output_type": "display_data"
    },
    {
     "name": "stdout",
     "output_type": "stream",
     "text": [
      "\u001B[1mTop 10 Titles for 1921-1930 Decade:\u001B[0m\n"
     ]
    },
    {
     "data": {
      "text/plain": "   index                       Title  Number of Votes\n0  13848                  Metropolis           184337\n1   7892                     The Kid           133962\n2  12045               The Gold Rush           117936\n3   8956                   Nosferatu           104689\n4  14975                 The General            97544\n5  11720         Battleship Potemkin            61132\n6  16842  The Passion of Joan of Arc            60101\n7  11339                Sherlock Jr.            56271\n8  15726                     Sunrise            53558\n9  19269           An Andalusian Dog            53486",
      "text/html": "<div>\n<style scoped>\n    .dataframe tbody tr th:only-of-type {\n        vertical-align: middle;\n    }\n\n    .dataframe tbody tr th {\n        vertical-align: top;\n    }\n\n    .dataframe thead th {\n        text-align: right;\n    }\n</style>\n<table border=\"1\" class=\"dataframe\">\n  <thead>\n    <tr style=\"text-align: right;\">\n      <th></th>\n      <th>index</th>\n      <th>Title</th>\n      <th>Number of Votes</th>\n    </tr>\n  </thead>\n  <tbody>\n    <tr>\n      <th>0</th>\n      <td>13848</td>\n      <td>Metropolis</td>\n      <td>184337</td>\n    </tr>\n    <tr>\n      <th>1</th>\n      <td>7892</td>\n      <td>The Kid</td>\n      <td>133962</td>\n    </tr>\n    <tr>\n      <th>2</th>\n      <td>12045</td>\n      <td>The Gold Rush</td>\n      <td>117936</td>\n    </tr>\n    <tr>\n      <th>3</th>\n      <td>8956</td>\n      <td>Nosferatu</td>\n      <td>104689</td>\n    </tr>\n    <tr>\n      <th>4</th>\n      <td>14975</td>\n      <td>The General</td>\n      <td>97544</td>\n    </tr>\n    <tr>\n      <th>5</th>\n      <td>11720</td>\n      <td>Battleship Potemkin</td>\n      <td>61132</td>\n    </tr>\n    <tr>\n      <th>6</th>\n      <td>16842</td>\n      <td>The Passion of Joan of Arc</td>\n      <td>60101</td>\n    </tr>\n    <tr>\n      <th>7</th>\n      <td>11339</td>\n      <td>Sherlock Jr.</td>\n      <td>56271</td>\n    </tr>\n    <tr>\n      <th>8</th>\n      <td>15726</td>\n      <td>Sunrise</td>\n      <td>53558</td>\n    </tr>\n    <tr>\n      <th>9</th>\n      <td>19269</td>\n      <td>An Andalusian Dog</td>\n      <td>53486</td>\n    </tr>\n  </tbody>\n</table>\n</div>"
     },
     "metadata": {},
     "output_type": "display_data"
    },
    {
     "name": "stdout",
     "output_type": "stream",
     "text": [
      "\u001B[1mTop 10 Titles for 1931-1940 Decade:\u001B[0m\n"
     ]
    },
    {
     "data": {
      "text/plain": "   index                            Title  Number of Votes\n0  51105               Gone with the Wind           332273\n1  39445                     Modern Times           257713\n2  45089  Snow White and the Seven Dwarfs           214105\n3  22351                      City Lights           194860\n4  23223                                M           167399\n5  52378     Mr. Smith Goes to Washington           120842\n6  31220            It Happened One Night           111505\n7  28250                        King Kong            90375\n8  46479                 Bringing Up Baby            65713\n9  33424                     The 39 Steps            61138",
      "text/html": "<div>\n<style scoped>\n    .dataframe tbody tr th:only-of-type {\n        vertical-align: middle;\n    }\n\n    .dataframe tbody tr th {\n        vertical-align: top;\n    }\n\n    .dataframe thead th {\n        text-align: right;\n    }\n</style>\n<table border=\"1\" class=\"dataframe\">\n  <thead>\n    <tr style=\"text-align: right;\">\n      <th></th>\n      <th>index</th>\n      <th>Title</th>\n      <th>Number of Votes</th>\n    </tr>\n  </thead>\n  <tbody>\n    <tr>\n      <th>0</th>\n      <td>51105</td>\n      <td>Gone with the Wind</td>\n      <td>332273</td>\n    </tr>\n    <tr>\n      <th>1</th>\n      <td>39445</td>\n      <td>Modern Times</td>\n      <td>257713</td>\n    </tr>\n    <tr>\n      <th>2</th>\n      <td>45089</td>\n      <td>Snow White and the Seven Dwarfs</td>\n      <td>214105</td>\n    </tr>\n    <tr>\n      <th>3</th>\n      <td>22351</td>\n      <td>City Lights</td>\n      <td>194860</td>\n    </tr>\n    <tr>\n      <th>4</th>\n      <td>23223</td>\n      <td>M</td>\n      <td>167399</td>\n    </tr>\n    <tr>\n      <th>5</th>\n      <td>52378</td>\n      <td>Mr. Smith Goes to Washington</td>\n      <td>120842</td>\n    </tr>\n    <tr>\n      <th>6</th>\n      <td>31220</td>\n      <td>It Happened One Night</td>\n      <td>111505</td>\n    </tr>\n    <tr>\n      <th>7</th>\n      <td>28250</td>\n      <td>King Kong</td>\n      <td>90375</td>\n    </tr>\n    <tr>\n      <th>8</th>\n      <td>46479</td>\n      <td>Bringing Up Baby</td>\n      <td>65713</td>\n    </tr>\n    <tr>\n      <th>9</th>\n      <td>33424</td>\n      <td>The 39 Steps</td>\n      <td>61138</td>\n    </tr>\n  </tbody>\n</table>\n</div>"
     },
     "metadata": {},
     "output_type": "display_data"
    },
    {
     "name": "stdout",
     "output_type": "stream",
     "text": [
      "\u001B[1mTop 10 Titles for 1941-1950 Decade:\u001B[0m\n"
     ]
    },
    {
     "data": {
      "text/plain": "   index                             Title  Number of Votes\n0  62534                        Casablanca           602529\n1  77714             It's a Wonderful Life           496359\n2  58625                      Citizen Kane           463467\n3  94158                     The Third Man           180755\n4  86921                   Bicycle Thieves           174017\n5  70087                  Double Indemnity           166453\n6  62245                             Bambi           153144\n7  88073                              Rope           152737\n8  58902                             Dumbo           141235\n9  88725  The Treasure of the Sierra Madre           131733",
      "text/html": "<div>\n<style scoped>\n    .dataframe tbody tr th:only-of-type {\n        vertical-align: middle;\n    }\n\n    .dataframe tbody tr th {\n        vertical-align: top;\n    }\n\n    .dataframe thead th {\n        text-align: right;\n    }\n</style>\n<table border=\"1\" class=\"dataframe\">\n  <thead>\n    <tr style=\"text-align: right;\">\n      <th></th>\n      <th>index</th>\n      <th>Title</th>\n      <th>Number of Votes</th>\n    </tr>\n  </thead>\n  <tbody>\n    <tr>\n      <th>0</th>\n      <td>62534</td>\n      <td>Casablanca</td>\n      <td>602529</td>\n    </tr>\n    <tr>\n      <th>1</th>\n      <td>77714</td>\n      <td>It's a Wonderful Life</td>\n      <td>496359</td>\n    </tr>\n    <tr>\n      <th>2</th>\n      <td>58625</td>\n      <td>Citizen Kane</td>\n      <td>463467</td>\n    </tr>\n    <tr>\n      <th>3</th>\n      <td>94158</td>\n      <td>The Third Man</td>\n      <td>180755</td>\n    </tr>\n    <tr>\n      <th>4</th>\n      <td>86921</td>\n      <td>Bicycle Thieves</td>\n      <td>174017</td>\n    </tr>\n    <tr>\n      <th>5</th>\n      <td>70087</td>\n      <td>Double Indemnity</td>\n      <td>166453</td>\n    </tr>\n    <tr>\n      <th>6</th>\n      <td>62245</td>\n      <td>Bambi</td>\n      <td>153144</td>\n    </tr>\n    <tr>\n      <th>7</th>\n      <td>88073</td>\n      <td>Rope</td>\n      <td>152737</td>\n    </tr>\n    <tr>\n      <th>8</th>\n      <td>58902</td>\n      <td>Dumbo</td>\n      <td>141235</td>\n    </tr>\n    <tr>\n      <th>9</th>\n      <td>88725</td>\n      <td>The Treasure of the Sierra Madre</td>\n      <td>131733</td>\n    </tr>\n  </tbody>\n</table>\n</div>"
     },
     "metadata": {},
     "output_type": "display_data"
    },
    {
     "name": "stdout",
     "output_type": "stream",
     "text": [
      "\u001B[1mTop 10 Titles for 1951-1960 Decade:\u001B[0m\n"
     ]
    },
    {
     "data": {
      "text/plain": "    index                         Title  Number of Votes\n0  144036                  12 Angry Men           856479\n1  124973                   Rear Window           519032\n2  158868                       Vertigo           424409\n3  125484                 Seven Samurai           364574\n4  165088            North by Northwest           344275\n5  112034           Singin' in the Rain           258856\n6  162050                       Ben-Hur           251839\n7  144822  The Bridge on the River Kwai           232163\n8  148571                Paths of Glory           210843\n9  149447              The Seventh Seal           197152",
      "text/html": "<div>\n<style scoped>\n    .dataframe tbody tr th:only-of-type {\n        vertical-align: middle;\n    }\n\n    .dataframe tbody tr th {\n        vertical-align: top;\n    }\n\n    .dataframe thead th {\n        text-align: right;\n    }\n</style>\n<table border=\"1\" class=\"dataframe\">\n  <thead>\n    <tr style=\"text-align: right;\">\n      <th></th>\n      <th>index</th>\n      <th>Title</th>\n      <th>Number of Votes</th>\n    </tr>\n  </thead>\n  <tbody>\n    <tr>\n      <th>0</th>\n      <td>144036</td>\n      <td>12 Angry Men</td>\n      <td>856479</td>\n    </tr>\n    <tr>\n      <th>1</th>\n      <td>124973</td>\n      <td>Rear Window</td>\n      <td>519032</td>\n    </tr>\n    <tr>\n      <th>2</th>\n      <td>158868</td>\n      <td>Vertigo</td>\n      <td>424409</td>\n    </tr>\n    <tr>\n      <th>3</th>\n      <td>125484</td>\n      <td>Seven Samurai</td>\n      <td>364574</td>\n    </tr>\n    <tr>\n      <th>4</th>\n      <td>165088</td>\n      <td>North by Northwest</td>\n      <td>344275</td>\n    </tr>\n    <tr>\n      <th>5</th>\n      <td>112034</td>\n      <td>Singin' in the Rain</td>\n      <td>258856</td>\n    </tr>\n    <tr>\n      <th>6</th>\n      <td>162050</td>\n      <td>Ben-Hur</td>\n      <td>251839</td>\n    </tr>\n    <tr>\n      <th>7</th>\n      <td>144822</td>\n      <td>The Bridge on the River Kwai</td>\n      <td>232163</td>\n    </tr>\n    <tr>\n      <th>8</th>\n      <td>148571</td>\n      <td>Paths of Glory</td>\n      <td>210843</td>\n    </tr>\n    <tr>\n      <th>9</th>\n      <td>149447</td>\n      <td>The Seventh Seal</td>\n      <td>197152</td>\n    </tr>\n  </tbody>\n</table>\n</div>"
     },
     "metadata": {},
     "output_type": "display_data"
    },
    {
     "name": "stdout",
     "output_type": "stream",
     "text": [
      "\u001B[1mTop 10 Titles for 1961-1970 Decade:\u001B[0m\n"
     ]
    },
    {
     "data": {
      "text/plain": "    index                                              Title  Number of Votes\n0  225049                     The Good, the Bad and the Ugly           805609\n1  243456                              2001: A Space Odyssey           714225\n2  198316  Dr. Strangelove or: How I Learned to Stop Worr...           515151\n3  255063                       Once Upon a Time in the West           347328\n4  192093                              To Kill a Mockingbird           331162\n5  189168                                 Lawrence of Arabia           311980\n6  235955                                       The Graduate           287245\n7  219180                             For a Few Dollars More           272724\n8  220232                                 The Sound of Music           258595\n9  199036                                   The Great Escape           257428",
      "text/html": "<div>\n<style scoped>\n    .dataframe tbody tr th:only-of-type {\n        vertical-align: middle;\n    }\n\n    .dataframe tbody tr th {\n        vertical-align: top;\n    }\n\n    .dataframe thead th {\n        text-align: right;\n    }\n</style>\n<table border=\"1\" class=\"dataframe\">\n  <thead>\n    <tr style=\"text-align: right;\">\n      <th></th>\n      <th>index</th>\n      <th>Title</th>\n      <th>Number of Votes</th>\n    </tr>\n  </thead>\n  <tbody>\n    <tr>\n      <th>0</th>\n      <td>225049</td>\n      <td>The Good, the Bad and the Ugly</td>\n      <td>805609</td>\n    </tr>\n    <tr>\n      <th>1</th>\n      <td>243456</td>\n      <td>2001: A Space Odyssey</td>\n      <td>714225</td>\n    </tr>\n    <tr>\n      <th>2</th>\n      <td>198316</td>\n      <td>Dr. Strangelove or: How I Learned to Stop Worr...</td>\n      <td>515151</td>\n    </tr>\n    <tr>\n      <th>3</th>\n      <td>255063</td>\n      <td>Once Upon a Time in the West</td>\n      <td>347328</td>\n    </tr>\n    <tr>\n      <th>4</th>\n      <td>192093</td>\n      <td>To Kill a Mockingbird</td>\n      <td>331162</td>\n    </tr>\n    <tr>\n      <th>5</th>\n      <td>189168</td>\n      <td>Lawrence of Arabia</td>\n      <td>311980</td>\n    </tr>\n    <tr>\n      <th>6</th>\n      <td>235955</td>\n      <td>The Graduate</td>\n      <td>287245</td>\n    </tr>\n    <tr>\n      <th>7</th>\n      <td>219180</td>\n      <td>For a Few Dollars More</td>\n      <td>272724</td>\n    </tr>\n    <tr>\n      <th>8</th>\n      <td>220232</td>\n      <td>The Sound of Music</td>\n      <td>258595</td>\n    </tr>\n    <tr>\n      <th>9</th>\n      <td>199036</td>\n      <td>The Great Escape</td>\n      <td>257428</td>\n    </tr>\n  </tbody>\n</table>\n</div>"
     },
     "metadata": {},
     "output_type": "display_data"
    },
    {
     "name": "stdout",
     "output_type": "stream",
     "text": [
      "\u001B[1mTop 10 Titles for 1971-1980 Decade:\u001B[0m\n"
     ]
    },
    {
     "data": {
      "text/plain": "    index                               Title  Number of Votes\n0  292472                       The Godfather          1995899\n1  363349  Star Wars: Episode IV - A New Hope          1440422\n2  317453               The Godfather Part II          1354193\n3  332440     One Flew Over the Cuckoo's Nest          1065685\n4  386132                               Alien           942518\n5  276505                  A Clockwork Orange           876233\n6  386729                      Apocalypse Now           705275\n7  330636                                Jaws           654826\n8  347787                               Rocky           624002\n9  319795     Monty Python and the Holy Grail           567350",
      "text/html": "<div>\n<style scoped>\n    .dataframe tbody tr th:only-of-type {\n        vertical-align: middle;\n    }\n\n    .dataframe tbody tr th {\n        vertical-align: top;\n    }\n\n    .dataframe thead th {\n        text-align: right;\n    }\n</style>\n<table border=\"1\" class=\"dataframe\">\n  <thead>\n    <tr style=\"text-align: right;\">\n      <th></th>\n      <th>index</th>\n      <th>Title</th>\n      <th>Number of Votes</th>\n    </tr>\n  </thead>\n  <tbody>\n    <tr>\n      <th>0</th>\n      <td>292472</td>\n      <td>The Godfather</td>\n      <td>1995899</td>\n    </tr>\n    <tr>\n      <th>1</th>\n      <td>363349</td>\n      <td>Star Wars: Episode IV - A New Hope</td>\n      <td>1440422</td>\n    </tr>\n    <tr>\n      <th>2</th>\n      <td>317453</td>\n      <td>The Godfather Part II</td>\n      <td>1354193</td>\n    </tr>\n    <tr>\n      <th>3</th>\n      <td>332440</td>\n      <td>One Flew Over the Cuckoo's Nest</td>\n      <td>1065685</td>\n    </tr>\n    <tr>\n      <th>4</th>\n      <td>386132</td>\n      <td>Alien</td>\n      <td>942518</td>\n    </tr>\n    <tr>\n      <th>5</th>\n      <td>276505</td>\n      <td>A Clockwork Orange</td>\n      <td>876233</td>\n    </tr>\n    <tr>\n      <th>6</th>\n      <td>386729</td>\n      <td>Apocalypse Now</td>\n      <td>705275</td>\n    </tr>\n    <tr>\n      <th>7</th>\n      <td>330636</td>\n      <td>Jaws</td>\n      <td>654826</td>\n    </tr>\n    <tr>\n      <th>8</th>\n      <td>347787</td>\n      <td>Rocky</td>\n      <td>624002</td>\n    </tr>\n    <tr>\n      <th>9</th>\n      <td>319795</td>\n      <td>Monty Python and the Holy Grail</td>\n      <td>567350</td>\n    </tr>\n  </tbody>\n</table>\n</div>"
     },
     "metadata": {},
     "output_type": "display_data"
    },
    {
     "name": "stdout",
     "output_type": "stream",
     "text": [
      "\u001B[1mTop 10 Titles for 1981-1990 Decade:\u001B[0m\n"
     ]
    },
    {
     "data": {
      "text/plain": "    index                                       Title  Number of Votes\n0  515646                          Back to the Future          1296279\n1  474730  Star Wars: Episode VI - Return of the Jedi          1113893\n2  435609                     Raiders of the Lost Ark          1031407\n3  614092                                    Die Hard           939752\n4  505450                              The Terminator           917943\n5  445019                                Blade Runner           817270\n6  655374          Indiana Jones and the Last Crusade           806528\n7  580094                           Full Metal Jacket           785462\n8  542457                                      Aliens           757764\n9  644114                  Back to the Future Part II           568882",
      "text/html": "<div>\n<style scoped>\n    .dataframe tbody tr th:only-of-type {\n        vertical-align: middle;\n    }\n\n    .dataframe tbody tr th {\n        vertical-align: top;\n    }\n\n    .dataframe thead th {\n        text-align: right;\n    }\n</style>\n<table border=\"1\" class=\"dataframe\">\n  <thead>\n    <tr style=\"text-align: right;\">\n      <th></th>\n      <th>index</th>\n      <th>Title</th>\n      <th>Number of Votes</th>\n    </tr>\n  </thead>\n  <tbody>\n    <tr>\n      <th>0</th>\n      <td>515646</td>\n      <td>Back to the Future</td>\n      <td>1296279</td>\n    </tr>\n    <tr>\n      <th>1</th>\n      <td>474730</td>\n      <td>Star Wars: Episode VI - Return of the Jedi</td>\n      <td>1113893</td>\n    </tr>\n    <tr>\n      <th>2</th>\n      <td>435609</td>\n      <td>Raiders of the Lost Ark</td>\n      <td>1031407</td>\n    </tr>\n    <tr>\n      <th>3</th>\n      <td>614092</td>\n      <td>Die Hard</td>\n      <td>939752</td>\n    </tr>\n    <tr>\n      <th>4</th>\n      <td>505450</td>\n      <td>The Terminator</td>\n      <td>917943</td>\n    </tr>\n    <tr>\n      <th>5</th>\n      <td>445019</td>\n      <td>Blade Runner</td>\n      <td>817270</td>\n    </tr>\n    <tr>\n      <th>6</th>\n      <td>655374</td>\n      <td>Indiana Jones and the Last Crusade</td>\n      <td>806528</td>\n    </tr>\n    <tr>\n      <th>7</th>\n      <td>580094</td>\n      <td>Full Metal Jacket</td>\n      <td>785462</td>\n    </tr>\n    <tr>\n      <th>8</th>\n      <td>542457</td>\n      <td>Aliens</td>\n      <td>757764</td>\n    </tr>\n    <tr>\n      <th>9</th>\n      <td>644114</td>\n      <td>Back to the Future Part II</td>\n      <td>568882</td>\n    </tr>\n  </tbody>\n</table>\n</div>"
     },
     "metadata": {},
     "output_type": "display_data"
    },
    {
     "name": "stdout",
     "output_type": "stream",
     "text": [
      "\u001B[1mTop 10 Titles for 1991-2000 Decade:\u001B[0m\n"
     ]
    },
    {
     "data": {
      "text/plain": "     index                     Title  Number of Votes\n0   865789  The Shawshank Redemption          2865377\n1  1131049                Fight Club          2300555\n2   845715              Forrest Gump          2237034\n3   861861              Pulp Fiction          2200398\n4  1114406                The Matrix          2035803\n5   918599                     Se7en          1782687\n6   736405  The Silence of the Lambs          1535912\n7  1056872       Saving Private Ryan          1485434\n8   816228          Schindler's List          1439288\n9  1049538            The Green Mile          1395815",
      "text/html": "<div>\n<style scoped>\n    .dataframe tbody tr th:only-of-type {\n        vertical-align: middle;\n    }\n\n    .dataframe tbody tr th {\n        vertical-align: top;\n    }\n\n    .dataframe thead th {\n        text-align: right;\n    }\n</style>\n<table border=\"1\" class=\"dataframe\">\n  <thead>\n    <tr style=\"text-align: right;\">\n      <th></th>\n      <th>index</th>\n      <th>Title</th>\n      <th>Number of Votes</th>\n    </tr>\n  </thead>\n  <tbody>\n    <tr>\n      <th>0</th>\n      <td>865789</td>\n      <td>The Shawshank Redemption</td>\n      <td>2865377</td>\n    </tr>\n    <tr>\n      <th>1</th>\n      <td>1131049</td>\n      <td>Fight Club</td>\n      <td>2300555</td>\n    </tr>\n    <tr>\n      <th>2</th>\n      <td>845715</td>\n      <td>Forrest Gump</td>\n      <td>2237034</td>\n    </tr>\n    <tr>\n      <th>3</th>\n      <td>861861</td>\n      <td>Pulp Fiction</td>\n      <td>2200398</td>\n    </tr>\n    <tr>\n      <th>4</th>\n      <td>1114406</td>\n      <td>The Matrix</td>\n      <td>2035803</td>\n    </tr>\n    <tr>\n      <th>5</th>\n      <td>918599</td>\n      <td>Se7en</td>\n      <td>1782687</td>\n    </tr>\n    <tr>\n      <th>6</th>\n      <td>736405</td>\n      <td>The Silence of the Lambs</td>\n      <td>1535912</td>\n    </tr>\n    <tr>\n      <th>7</th>\n      <td>1056872</td>\n      <td>Saving Private Ryan</td>\n      <td>1485434</td>\n    </tr>\n    <tr>\n      <th>8</th>\n      <td>816228</td>\n      <td>Schindler's List</td>\n      <td>1439288</td>\n    </tr>\n    <tr>\n      <th>9</th>\n      <td>1049538</td>\n      <td>The Green Mile</td>\n      <td>1395815</td>\n    </tr>\n  </tbody>\n</table>\n</div>"
     },
     "metadata": {},
     "output_type": "display_data"
    },
    {
     "name": "stdout",
     "output_type": "stream",
     "text": [
      "\u001B[1mTop 10 Titles for 2001-2010 Decade:\u001B[0m\n"
     ]
    },
    {
     "data": {
      "text/plain": "     index                                              Title  Number of Votes\n0  1883077                                       Breaking Bad          2111357\n1  1051004  The Lord of the Rings: The Fellowship of the Ring          1990492\n2  1233100      The Lord of the Rings: The Return of the King          1962595\n3  1233386              The Lord of the Rings: The Two Towers          1769410\n4  1686539                               Inglourious Basterds          1569218\n5  1704801                                      Batman Begins          1566644\n6  1823600                                       The Prestige          1429367\n7  1746405                                       The Departed          1412019\n8  1645346  Pirates of the Caribbean: The Curse of the Bla...          1201158\n9  1884789                                             WALL·E          1191330",
      "text/html": "<div>\n<style scoped>\n    .dataframe tbody tr th:only-of-type {\n        vertical-align: middle;\n    }\n\n    .dataframe tbody tr th {\n        vertical-align: top;\n    }\n\n    .dataframe thead th {\n        text-align: right;\n    }\n</style>\n<table border=\"1\" class=\"dataframe\">\n  <thead>\n    <tr style=\"text-align: right;\">\n      <th></th>\n      <th>index</th>\n      <th>Title</th>\n      <th>Number of Votes</th>\n    </tr>\n  </thead>\n  <tbody>\n    <tr>\n      <th>0</th>\n      <td>1883077</td>\n      <td>Breaking Bad</td>\n      <td>2111357</td>\n    </tr>\n    <tr>\n      <th>1</th>\n      <td>1051004</td>\n      <td>The Lord of the Rings: The Fellowship of the Ring</td>\n      <td>1990492</td>\n    </tr>\n    <tr>\n      <th>2</th>\n      <td>1233100</td>\n      <td>The Lord of the Rings: The Return of the King</td>\n      <td>1962595</td>\n    </tr>\n    <tr>\n      <th>3</th>\n      <td>1233386</td>\n      <td>The Lord of the Rings: The Two Towers</td>\n      <td>1769410</td>\n    </tr>\n    <tr>\n      <th>4</th>\n      <td>1686539</td>\n      <td>Inglourious Basterds</td>\n      <td>1569218</td>\n    </tr>\n    <tr>\n      <th>5</th>\n      <td>1704801</td>\n      <td>Batman Begins</td>\n      <td>1566644</td>\n    </tr>\n    <tr>\n      <th>6</th>\n      <td>1823600</td>\n      <td>The Prestige</td>\n      <td>1429367</td>\n    </tr>\n    <tr>\n      <th>7</th>\n      <td>1746405</td>\n      <td>The Departed</td>\n      <td>1412019</td>\n    </tr>\n    <tr>\n      <th>8</th>\n      <td>1645346</td>\n      <td>Pirates of the Caribbean: The Curse of the Bla...</td>\n      <td>1201158</td>\n    </tr>\n    <tr>\n      <th>9</th>\n      <td>1884789</td>\n      <td>WALL·E</td>\n      <td>1191330</td>\n    </tr>\n  </tbody>\n</table>\n</div>"
     },
     "metadata": {},
     "output_type": "display_data"
    },
    {
     "name": "stdout",
     "output_type": "stream",
     "text": [
      "\u001B[1mTop 10 Titles for 2011-2020 Decade:\u001B[0m\n"
     ]
    },
    {
     "data": {
      "text/plain": "     index                               Title  Number of Votes\n0  1890543                     Game of Thrones          2263115\n1  1862436                        Interstellar          2068242\n2  1849072                                Thor           895404\n3  1801104  Captain America: The First Avenger           891760\n4  1882932   The Hobbit: An Unexpected Journey           867953\n5  1819425                             Ant-Man           717536\n6  1862594                         World War Z           714387\n7  1700732                      Jurassic World           675810\n8  1797083                          Life of Pi           663070\n9  1812403                          Ex Machina           582279",
      "text/html": "<div>\n<style scoped>\n    .dataframe tbody tr th:only-of-type {\n        vertical-align: middle;\n    }\n\n    .dataframe tbody tr th {\n        vertical-align: top;\n    }\n\n    .dataframe thead th {\n        text-align: right;\n    }\n</style>\n<table border=\"1\" class=\"dataframe\">\n  <thead>\n    <tr style=\"text-align: right;\">\n      <th></th>\n      <th>index</th>\n      <th>Title</th>\n      <th>Number of Votes</th>\n    </tr>\n  </thead>\n  <tbody>\n    <tr>\n      <th>0</th>\n      <td>1890543</td>\n      <td>Game of Thrones</td>\n      <td>2263115</td>\n    </tr>\n    <tr>\n      <th>1</th>\n      <td>1862436</td>\n      <td>Interstellar</td>\n      <td>2068242</td>\n    </tr>\n    <tr>\n      <th>2</th>\n      <td>1849072</td>\n      <td>Thor</td>\n      <td>895404</td>\n    </tr>\n    <tr>\n      <th>3</th>\n      <td>1801104</td>\n      <td>Captain America: The First Avenger</td>\n      <td>891760</td>\n    </tr>\n    <tr>\n      <th>4</th>\n      <td>1882932</td>\n      <td>The Hobbit: An Unexpected Journey</td>\n      <td>867953</td>\n    </tr>\n    <tr>\n      <th>5</th>\n      <td>1819425</td>\n      <td>Ant-Man</td>\n      <td>717536</td>\n    </tr>\n    <tr>\n      <th>6</th>\n      <td>1862594</td>\n      <td>World War Z</td>\n      <td>714387</td>\n    </tr>\n    <tr>\n      <th>7</th>\n      <td>1700732</td>\n      <td>Jurassic World</td>\n      <td>675810</td>\n    </tr>\n    <tr>\n      <th>8</th>\n      <td>1797083</td>\n      <td>Life of Pi</td>\n      <td>663070</td>\n    </tr>\n    <tr>\n      <th>9</th>\n      <td>1812403</td>\n      <td>Ex Machina</td>\n      <td>582279</td>\n    </tr>\n  </tbody>\n</table>\n</div>"
     },
     "metadata": {},
     "output_type": "display_data"
    },
    {
     "name": "stdout",
     "output_type": "stream",
     "text": [
      "\u001B[1mTop 10 Titles for 2021-2024 Decade:\u001B[0m\n"
     ]
    },
    {
     "data": {
      "text/plain": "     index                           Title  Number of Votes\n0  1875681                   Jungle Cruise           210861\n1  1900512                Army of the Dead           186371\n2  1902655              Laal Singh Chaddha           177738\n3  1902454               The Little Things           122887\n4  1849785                      Foundation            93761\n5  1835541                 Without Remorse            64065\n6  1903654             Gangubai Kathiawadi            61480\n7  1904289                   Thunder Force            45244\n8  1902286  The Last Voyage of the Demeter            45041\n9  1903812          The Tragedy of Macbeth            39205",
      "text/html": "<div>\n<style scoped>\n    .dataframe tbody tr th:only-of-type {\n        vertical-align: middle;\n    }\n\n    .dataframe tbody tr th {\n        vertical-align: top;\n    }\n\n    .dataframe thead th {\n        text-align: right;\n    }\n</style>\n<table border=\"1\" class=\"dataframe\">\n  <thead>\n    <tr style=\"text-align: right;\">\n      <th></th>\n      <th>index</th>\n      <th>Title</th>\n      <th>Number of Votes</th>\n    </tr>\n  </thead>\n  <tbody>\n    <tr>\n      <th>0</th>\n      <td>1875681</td>\n      <td>Jungle Cruise</td>\n      <td>210861</td>\n    </tr>\n    <tr>\n      <th>1</th>\n      <td>1900512</td>\n      <td>Army of the Dead</td>\n      <td>186371</td>\n    </tr>\n    <tr>\n      <th>2</th>\n      <td>1902655</td>\n      <td>Laal Singh Chaddha</td>\n      <td>177738</td>\n    </tr>\n    <tr>\n      <th>3</th>\n      <td>1902454</td>\n      <td>The Little Things</td>\n      <td>122887</td>\n    </tr>\n    <tr>\n      <th>4</th>\n      <td>1849785</td>\n      <td>Foundation</td>\n      <td>93761</td>\n    </tr>\n    <tr>\n      <th>5</th>\n      <td>1835541</td>\n      <td>Without Remorse</td>\n      <td>64065</td>\n    </tr>\n    <tr>\n      <th>6</th>\n      <td>1903654</td>\n      <td>Gangubai Kathiawadi</td>\n      <td>61480</td>\n    </tr>\n    <tr>\n      <th>7</th>\n      <td>1904289</td>\n      <td>Thunder Force</td>\n      <td>45244</td>\n    </tr>\n    <tr>\n      <th>8</th>\n      <td>1902286</td>\n      <td>The Last Voyage of the Demeter</td>\n      <td>45041</td>\n    </tr>\n    <tr>\n      <th>9</th>\n      <td>1903812</td>\n      <td>The Tragedy of Macbeth</td>\n      <td>39205</td>\n    </tr>\n  </tbody>\n</table>\n</div>"
     },
     "metadata": {},
     "output_type": "display_data"
    }
   ],
   "source": [
    "top_titles_by_decade = {}\n",
    "\n",
    "for start_year in range(starting_year, current_year, 10):\n",
    "    end_year = start_year + 10\n",
    "\n",
    "    if end_year > current_year:\n",
    "        end_year = current_year\n",
    "\n",
    "    decade_df = movies_title_df_unique[\n",
    "        (movies_title_df_unique['Start Year'] > start_year) & (movies_title_df_unique['Start Year'] < end_year)]\n",
    "\n",
    "    top_10_titles = decade_df.sort_values(by='Number of Votes', ascending=False).head(10)\n",
    "\n",
    "    display_start, display_end = get_decade(starting_year, current_year, start_year, end_year)\n",
    "\n",
    "    top_titles_by_decade[f\"{display_start}-{display_end}\"] = top_10_titles[['Title', 'Number of Votes']]\n",
    "\n",
    "for decade, titles in top_titles_by_decade.items():\n",
    "    print('\\033[1m' + f\"Top 10 Titles for {decade} Decade:\" + '\\033[0m')\n",
    "    display(titles.reset_index())"
   ]
  },
  {
   "cell_type": "markdown",
   "id": "2dc288be",
   "metadata": {},
   "source": [
    "### 10.6 Top 3 movies genres for each decade"
   ]
  },
  {
   "cell_type": "markdown",
   "id": "e6ae613e",
   "metadata": {},
   "source": [
    "Now we will display the top 3 movies genres for each decade. To accomplish this, we are going to combine the three genre columns into a single column using concat, making sure we drop 'None' values.\n",
    "\n",
    "We will count the occurrences of each genre and store the results in dictionary. We then display the top three."
   ]
  },
  {
   "cell_type": "code",
   "execution_count": 355,
   "id": "5d32412b",
   "metadata": {
    "ExecuteTime": {
     "end_time": "2024-03-29T21:51:51.558742Z",
     "start_time": "2024-03-29T21:51:50.607659Z"
    }
   },
   "outputs": [
    {
     "name": "stdout",
     "output_type": "stream",
     "text": [
      "\u001B[1mTop 3 Genres for 1900-1910 Decade:\u001B[0m\n"
     ]
    },
    {
     "data": {
      "text/plain": "  genreAnalysis  Count\n0         Short    191\n1         Drama    108\n2        Comedy     44",
      "text/html": "<div>\n<style scoped>\n    .dataframe tbody tr th:only-of-type {\n        vertical-align: middle;\n    }\n\n    .dataframe tbody tr th {\n        vertical-align: top;\n    }\n\n    .dataframe thead th {\n        text-align: right;\n    }\n</style>\n<table border=\"1\" class=\"dataframe\">\n  <thead>\n    <tr style=\"text-align: right;\">\n      <th></th>\n      <th>genreAnalysis</th>\n      <th>Count</th>\n    </tr>\n  </thead>\n  <tbody>\n    <tr>\n      <th>0</th>\n      <td>Short</td>\n      <td>191</td>\n    </tr>\n    <tr>\n      <th>1</th>\n      <td>Drama</td>\n      <td>108</td>\n    </tr>\n    <tr>\n      <th>2</th>\n      <td>Comedy</td>\n      <td>44</td>\n    </tr>\n  </tbody>\n</table>\n</div>"
     },
     "metadata": {},
     "output_type": "display_data"
    },
    {
     "name": "stdout",
     "output_type": "stream",
     "text": [
      "\u001B[1mTop 3 Genres for 1911-1920 Decade:\u001B[0m\n"
     ]
    },
    {
     "data": {
      "text/plain": "  genreAnalysis  Count\n0         Drama   1034\n1         Short    479\n2        Comedy    434",
      "text/html": "<div>\n<style scoped>\n    .dataframe tbody tr th:only-of-type {\n        vertical-align: middle;\n    }\n\n    .dataframe tbody tr th {\n        vertical-align: top;\n    }\n\n    .dataframe thead th {\n        text-align: right;\n    }\n</style>\n<table border=\"1\" class=\"dataframe\">\n  <thead>\n    <tr style=\"text-align: right;\">\n      <th></th>\n      <th>genreAnalysis</th>\n      <th>Count</th>\n    </tr>\n  </thead>\n  <tbody>\n    <tr>\n      <th>0</th>\n      <td>Drama</td>\n      <td>1034</td>\n    </tr>\n    <tr>\n      <th>1</th>\n      <td>Short</td>\n      <td>479</td>\n    </tr>\n    <tr>\n      <th>2</th>\n      <td>Comedy</td>\n      <td>434</td>\n    </tr>\n  </tbody>\n</table>\n</div>"
     },
     "metadata": {},
     "output_type": "display_data"
    },
    {
     "name": "stdout",
     "output_type": "stream",
     "text": [
      "\u001B[1mTop 3 Genres for 1921-1930 Decade:\u001B[0m\n"
     ]
    },
    {
     "data": {
      "text/plain": "  genreAnalysis  Count\n0         Drama   1785\n1        Comedy    968\n2       Romance    694",
      "text/html": "<div>\n<style scoped>\n    .dataframe tbody tr th:only-of-type {\n        vertical-align: middle;\n    }\n\n    .dataframe tbody tr th {\n        vertical-align: top;\n    }\n\n    .dataframe thead th {\n        text-align: right;\n    }\n</style>\n<table border=\"1\" class=\"dataframe\">\n  <thead>\n    <tr style=\"text-align: right;\">\n      <th></th>\n      <th>genreAnalysis</th>\n      <th>Count</th>\n    </tr>\n  </thead>\n  <tbody>\n    <tr>\n      <th>0</th>\n      <td>Drama</td>\n      <td>1785</td>\n    </tr>\n    <tr>\n      <th>1</th>\n      <td>Comedy</td>\n      <td>968</td>\n    </tr>\n    <tr>\n      <th>2</th>\n      <td>Romance</td>\n      <td>694</td>\n    </tr>\n  </tbody>\n</table>\n</div>"
     },
     "metadata": {},
     "output_type": "display_data"
    },
    {
     "name": "stdout",
     "output_type": "stream",
     "text": [
      "\u001B[1mTop 3 Genres for 1931-1940 Decade:\u001B[0m\n"
     ]
    },
    {
     "data": {
      "text/plain": "  genreAnalysis  Count\n0         Drama   3732\n1        Comedy   2912\n2       Romance   1739",
      "text/html": "<div>\n<style scoped>\n    .dataframe tbody tr th:only-of-type {\n        vertical-align: middle;\n    }\n\n    .dataframe tbody tr th {\n        vertical-align: top;\n    }\n\n    .dataframe thead th {\n        text-align: right;\n    }\n</style>\n<table border=\"1\" class=\"dataframe\">\n  <thead>\n    <tr style=\"text-align: right;\">\n      <th></th>\n      <th>genreAnalysis</th>\n      <th>Count</th>\n    </tr>\n  </thead>\n  <tbody>\n    <tr>\n      <th>0</th>\n      <td>Drama</td>\n      <td>3732</td>\n    </tr>\n    <tr>\n      <th>1</th>\n      <td>Comedy</td>\n      <td>2912</td>\n    </tr>\n    <tr>\n      <th>2</th>\n      <td>Romance</td>\n      <td>1739</td>\n    </tr>\n  </tbody>\n</table>\n</div>"
     },
     "metadata": {},
     "output_type": "display_data"
    },
    {
     "name": "stdout",
     "output_type": "stream",
     "text": [
      "\u001B[1mTop 3 Genres for 1941-1950 Decade:\u001B[0m\n"
     ]
    },
    {
     "data": {
      "text/plain": "  genreAnalysis  Count\n0         Drama   3776\n1        Comedy   2412\n2       Romance   1223",
      "text/html": "<div>\n<style scoped>\n    .dataframe tbody tr th:only-of-type {\n        vertical-align: middle;\n    }\n\n    .dataframe tbody tr th {\n        vertical-align: top;\n    }\n\n    .dataframe thead th {\n        text-align: right;\n    }\n</style>\n<table border=\"1\" class=\"dataframe\">\n  <thead>\n    <tr style=\"text-align: right;\">\n      <th></th>\n      <th>genreAnalysis</th>\n      <th>Count</th>\n    </tr>\n  </thead>\n  <tbody>\n    <tr>\n      <th>0</th>\n      <td>Drama</td>\n      <td>3776</td>\n    </tr>\n    <tr>\n      <th>1</th>\n      <td>Comedy</td>\n      <td>2412</td>\n    </tr>\n    <tr>\n      <th>2</th>\n      <td>Romance</td>\n      <td>1223</td>\n    </tr>\n  </tbody>\n</table>\n</div>"
     },
     "metadata": {},
     "output_type": "display_data"
    },
    {
     "name": "stdout",
     "output_type": "stream",
     "text": [
      "\u001B[1mTop 3 Genres for 1951-1960 Decade:\u001B[0m\n"
     ]
    },
    {
     "data": {
      "text/plain": "  genreAnalysis  Count\n0         Drama   5505\n1        Comedy   3128\n2       Romance   1507",
      "text/html": "<div>\n<style scoped>\n    .dataframe tbody tr th:only-of-type {\n        vertical-align: middle;\n    }\n\n    .dataframe tbody tr th {\n        vertical-align: top;\n    }\n\n    .dataframe thead th {\n        text-align: right;\n    }\n</style>\n<table border=\"1\" class=\"dataframe\">\n  <thead>\n    <tr style=\"text-align: right;\">\n      <th></th>\n      <th>genreAnalysis</th>\n      <th>Count</th>\n    </tr>\n  </thead>\n  <tbody>\n    <tr>\n      <th>0</th>\n      <td>Drama</td>\n      <td>5505</td>\n    </tr>\n    <tr>\n      <th>1</th>\n      <td>Comedy</td>\n      <td>3128</td>\n    </tr>\n    <tr>\n      <th>2</th>\n      <td>Romance</td>\n      <td>1507</td>\n    </tr>\n  </tbody>\n</table>\n</div>"
     },
     "metadata": {},
     "output_type": "display_data"
    },
    {
     "name": "stdout",
     "output_type": "stream",
     "text": [
      "\u001B[1mTop 3 Genres for 1961-1970 Decade:\u001B[0m\n"
     ]
    },
    {
     "data": {
      "text/plain": "  genreAnalysis  Count\n0         Drama   7092\n1        Comedy   4137\n2       Romance   1605",
      "text/html": "<div>\n<style scoped>\n    .dataframe tbody tr th:only-of-type {\n        vertical-align: middle;\n    }\n\n    .dataframe tbody tr th {\n        vertical-align: top;\n    }\n\n    .dataframe thead th {\n        text-align: right;\n    }\n</style>\n<table border=\"1\" class=\"dataframe\">\n  <thead>\n    <tr style=\"text-align: right;\">\n      <th></th>\n      <th>genreAnalysis</th>\n      <th>Count</th>\n    </tr>\n  </thead>\n  <tbody>\n    <tr>\n      <th>0</th>\n      <td>Drama</td>\n      <td>7092</td>\n    </tr>\n    <tr>\n      <th>1</th>\n      <td>Comedy</td>\n      <td>4137</td>\n    </tr>\n    <tr>\n      <th>2</th>\n      <td>Romance</td>\n      <td>1605</td>\n    </tr>\n  </tbody>\n</table>\n</div>"
     },
     "metadata": {},
     "output_type": "display_data"
    },
    {
     "name": "stdout",
     "output_type": "stream",
     "text": [
      "\u001B[1mTop 3 Genres for 1971-1980 Decade:\u001B[0m\n"
     ]
    },
    {
     "data": {
      "text/plain": "  genreAnalysis  Count\n0         Drama   9280\n1        Comedy   5131\n2         Crime   2097",
      "text/html": "<div>\n<style scoped>\n    .dataframe tbody tr th:only-of-type {\n        vertical-align: middle;\n    }\n\n    .dataframe tbody tr th {\n        vertical-align: top;\n    }\n\n    .dataframe thead th {\n        text-align: right;\n    }\n</style>\n<table border=\"1\" class=\"dataframe\">\n  <thead>\n    <tr style=\"text-align: right;\">\n      <th></th>\n      <th>genreAnalysis</th>\n      <th>Count</th>\n    </tr>\n  </thead>\n  <tbody>\n    <tr>\n      <th>0</th>\n      <td>Drama</td>\n      <td>9280</td>\n    </tr>\n    <tr>\n      <th>1</th>\n      <td>Comedy</td>\n      <td>5131</td>\n    </tr>\n    <tr>\n      <th>2</th>\n      <td>Crime</td>\n      <td>2097</td>\n    </tr>\n  </tbody>\n</table>\n</div>"
     },
     "metadata": {},
     "output_type": "display_data"
    },
    {
     "name": "stdout",
     "output_type": "stream",
     "text": [
      "\u001B[1mTop 3 Genres for 1981-1990 Decade:\u001B[0m\n"
     ]
    },
    {
     "data": {
      "text/plain": "  genreAnalysis  Count\n0         Drama  11135\n1        Comedy   6428\n2        Action   2856",
      "text/html": "<div>\n<style scoped>\n    .dataframe tbody tr th:only-of-type {\n        vertical-align: middle;\n    }\n\n    .dataframe tbody tr th {\n        vertical-align: top;\n    }\n\n    .dataframe thead th {\n        text-align: right;\n    }\n</style>\n<table border=\"1\" class=\"dataframe\">\n  <thead>\n    <tr style=\"text-align: right;\">\n      <th></th>\n      <th>genreAnalysis</th>\n      <th>Count</th>\n    </tr>\n  </thead>\n  <tbody>\n    <tr>\n      <th>0</th>\n      <td>Drama</td>\n      <td>11135</td>\n    </tr>\n    <tr>\n      <th>1</th>\n      <td>Comedy</td>\n      <td>6428</td>\n    </tr>\n    <tr>\n      <th>2</th>\n      <td>Action</td>\n      <td>2856</td>\n    </tr>\n  </tbody>\n</table>\n</div>"
     },
     "metadata": {},
     "output_type": "display_data"
    },
    {
     "name": "stdout",
     "output_type": "stream",
     "text": [
      "\u001B[1mTop 3 Genres for 1991-2000 Decade:\u001B[0m\n"
     ]
    },
    {
     "data": {
      "text/plain": "  genreAnalysis  Count\n0         Drama  14575\n1        Comedy   8923\n2        Action   4060",
      "text/html": "<div>\n<style scoped>\n    .dataframe tbody tr th:only-of-type {\n        vertical-align: middle;\n    }\n\n    .dataframe tbody tr th {\n        vertical-align: top;\n    }\n\n    .dataframe thead th {\n        text-align: right;\n    }\n</style>\n<table border=\"1\" class=\"dataframe\">\n  <thead>\n    <tr style=\"text-align: right;\">\n      <th></th>\n      <th>genreAnalysis</th>\n      <th>Count</th>\n    </tr>\n  </thead>\n  <tbody>\n    <tr>\n      <th>0</th>\n      <td>Drama</td>\n      <td>14575</td>\n    </tr>\n    <tr>\n      <th>1</th>\n      <td>Comedy</td>\n      <td>8923</td>\n    </tr>\n    <tr>\n      <th>2</th>\n      <td>Action</td>\n      <td>4060</td>\n    </tr>\n  </tbody>\n</table>\n</div>"
     },
     "metadata": {},
     "output_type": "display_data"
    },
    {
     "name": "stdout",
     "output_type": "stream",
     "text": [
      "\u001B[1mTop 3 Genres for 2001-2010 Decade:\u001B[0m\n"
     ]
    },
    {
     "data": {
      "text/plain": "  genreAnalysis  Count\n0         Drama  14006\n1        Comedy   9607\n2   Documentary   4432",
      "text/html": "<div>\n<style scoped>\n    .dataframe tbody tr th:only-of-type {\n        vertical-align: middle;\n    }\n\n    .dataframe tbody tr th {\n        vertical-align: top;\n    }\n\n    .dataframe thead th {\n        text-align: right;\n    }\n</style>\n<table border=\"1\" class=\"dataframe\">\n  <thead>\n    <tr style=\"text-align: right;\">\n      <th></th>\n      <th>genreAnalysis</th>\n      <th>Count</th>\n    </tr>\n  </thead>\n  <tbody>\n    <tr>\n      <th>0</th>\n      <td>Drama</td>\n      <td>14006</td>\n    </tr>\n    <tr>\n      <th>1</th>\n      <td>Comedy</td>\n      <td>9607</td>\n    </tr>\n    <tr>\n      <th>2</th>\n      <td>Documentary</td>\n      <td>4432</td>\n    </tr>\n  </tbody>\n</table>\n</div>"
     },
     "metadata": {},
     "output_type": "display_data"
    },
    {
     "name": "stdout",
     "output_type": "stream",
     "text": [
      "\u001B[1mTop 3 Genres for 2011-2020 Decade:\u001B[0m\n"
     ]
    },
    {
     "data": {
      "text/plain": "  genreAnalysis  Count\n0         Drama    237\n1        Comedy    158\n2   Documentary     98",
      "text/html": "<div>\n<style scoped>\n    .dataframe tbody tr th:only-of-type {\n        vertical-align: middle;\n    }\n\n    .dataframe tbody tr th {\n        vertical-align: top;\n    }\n\n    .dataframe thead th {\n        text-align: right;\n    }\n</style>\n<table border=\"1\" class=\"dataframe\">\n  <thead>\n    <tr style=\"text-align: right;\">\n      <th></th>\n      <th>genreAnalysis</th>\n      <th>Count</th>\n    </tr>\n  </thead>\n  <tbody>\n    <tr>\n      <th>0</th>\n      <td>Drama</td>\n      <td>237</td>\n    </tr>\n    <tr>\n      <th>1</th>\n      <td>Comedy</td>\n      <td>158</td>\n    </tr>\n    <tr>\n      <th>2</th>\n      <td>Documentary</td>\n      <td>98</td>\n    </tr>\n  </tbody>\n</table>\n</div>"
     },
     "metadata": {},
     "output_type": "display_data"
    },
    {
     "name": "stdout",
     "output_type": "stream",
     "text": [
      "\u001B[1mTop 3 Genres for 2021-2024 Decade:\u001B[0m\n"
     ]
    },
    {
     "data": {
      "text/plain": "  genreAnalysis  Count\n0         Drama     42\n1        Comedy     24\n2        Horror     15",
      "text/html": "<div>\n<style scoped>\n    .dataframe tbody tr th:only-of-type {\n        vertical-align: middle;\n    }\n\n    .dataframe tbody tr th {\n        vertical-align: top;\n    }\n\n    .dataframe thead th {\n        text-align: right;\n    }\n</style>\n<table border=\"1\" class=\"dataframe\">\n  <thead>\n    <tr style=\"text-align: right;\">\n      <th></th>\n      <th>genreAnalysis</th>\n      <th>Count</th>\n    </tr>\n  </thead>\n  <tbody>\n    <tr>\n      <th>0</th>\n      <td>Drama</td>\n      <td>42</td>\n    </tr>\n    <tr>\n      <th>1</th>\n      <td>Comedy</td>\n      <td>24</td>\n    </tr>\n    <tr>\n      <th>2</th>\n      <td>Horror</td>\n      <td>15</td>\n    </tr>\n  </tbody>\n</table>\n</div>"
     },
     "metadata": {},
     "output_type": "display_data"
    }
   ],
   "source": [
    "top_genres_by_decade = {}\n",
    "\n",
    "for start_year in range(starting_year, current_year, 10):\n",
    "    end_year = start_year + 10\n",
    "    decade_df = movies_title_df_unique[\n",
    "        (movies_title_df_unique['Start Year'] > start_year) & (movies_title_df_unique['Start Year'] < end_year)]\n",
    "\n",
    "    # all_genres = pd.concat([decade_df['Genre 1'], decade_df['Genre 2'], decade_df['Genre 3']]).dropna()\n",
    "    all_genres = decade_df.assign(genreAnalysis=decade_df['Genre'].str.split(',')).explode('genreAnalysis')\n",
    "    top_genres = all_genres[['genreAnalysis']].value_counts().head(3)\n",
    "\n",
    "    display_start, display_end = get_decade(starting_year, current_year, start_year, end_year)\n",
    "\n",
    "    top_genres_by_decade[f\"{display_start}-{display_end}\"] = top_genres\n",
    "\n",
    "for decade, genres in top_genres_by_decade.items():\n",
    "    print('\\033[1m' + f\"Top 3 Genres for {decade} Decade:\" + '\\033[0m')\n",
    "    display(genres.to_frame(name=\"Count\").reset_index())"
   ]
  },
  {
   "cell_type": "markdown",
   "id": "f9401b6f",
   "metadata": {},
   "source": [
    "## 11. SUMMARY OF KEY FINDINGS"
   ]
  },
  {
   "cell_type": "markdown",
   "id": "94eaff06",
   "metadata": {},
   "source": [
    "- There is no correlation between number of votes and ratings for any shows listed in IMDb.\n",
    "- The top 10 movies of all time (sorted by number of votes) are dominated by movies released in the 1990s.\n",
    "- Drama and Comedy are consistently making the top 3 movies for any decade starting in the 1900s.\n",
    "- Although 'Avatar' and 'Avengers: Endgame' are two highest grossing movies of all time, they do not make any of top movies list by decade, suggesting that number of votes and ratings on IMDb website does not have any effect on box office performance. "
   ]
  },
  {
   "cell_type": "code",
   "outputs": [],
   "source": [],
   "metadata": {
    "collapsed": false,
    "ExecuteTime": {
     "end_time": "2024-03-29T21:51:51.561314Z",
     "start_time": "2024-03-29T21:51:51.559738Z"
    }
   },
   "id": "5cda6f2611fdb1ec",
   "execution_count": 355
  }
 ],
 "metadata": {
  "kernelspec": {
   "display_name": "Python 3 (ipykernel)",
   "language": "python",
   "name": "python3"
  },
  "language_info": {
   "codemirror_mode": {
    "name": "ipython",
    "version": 3
   },
   "file_extension": ".py",
   "mimetype": "text/x-python",
   "name": "python",
   "nbconvert_exporter": "python",
   "pygments_lexer": "ipython3",
   "version": "3.11.4"
  }
 },
 "nbformat": 4,
 "nbformat_minor": 5
}
