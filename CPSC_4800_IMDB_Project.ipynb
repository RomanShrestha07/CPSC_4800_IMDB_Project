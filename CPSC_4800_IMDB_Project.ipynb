{
 "cells": [
  {
   "cell_type": "markdown",
   "source": [
    "# TABLE OF CONTENTS"
   ],
   "metadata": {
    "collapsed": false
   },
   "id": "f1c82f5b8f564572"
  },
  {
   "cell_type": "markdown",
   "source": [
    "## 1. PROBLEM DESCRIPTION"
   ],
   "metadata": {
    "collapsed": false
   },
   "id": "c40fb3c23b777608"
  },
  {
   "cell_type": "markdown",
   "source": [
    "In our Python group project revolving around IMDb Non-Commercial Datasets, we delve into a similar journey of data exploration and utilization. Our project centers around accessing subsets of IMDb data, tailored for personal and non-commercial use by customers. The dataset repository offers various subsets of IMDb data, each meticulously crafted and structured to facilitate analysis and exploration. Our objective is to harness these datasets to extract valuable insights and trends within the realm of IMDb content. The project encompasses a myriad of datasets, each offering unique perspectives and facets of IMDb content, ranging from title details to cast and crew information, and user ratings. With each dataset encapsulating valuable information, our aim is to unravel the intricacies of IMDb content and unveil noteworthy patterns and trends within the realm of entertainment."
   ],
   "metadata": {
    "collapsed": false
   },
   "id": "e3480de8862f3dab"
  },
  {
   "cell_type": "markdown",
   "source": [
    "## 2. THE DATA"
   ],
   "metadata": {
    "collapsed": false
   },
   "id": "1746b23a255471c2"
  },
  {
   "cell_type": "markdown",
   "source": [
    "IMDb, short for Internet Movie Database, is a comprehensive online database that was launched in 1990 and has been a subsidiary of Amazon.com since 1998. It stands as the most popular and authoritative source for movie, TV, and celebrity content, providing a platform for fans to explore the world of entertainment and make informed decisions about what to watch.\n",
    "\n",
    "The database boasts millions of entries, including movies, TV shows, entertainment programs, and information about cast and crew members.\n",
    "\n",
    "Data Location:\n",
    "\n",
    "The dataset files are available for download from https://datasets.imdbws.com/. The data is updated daily to ensure relevance and accuracy."
   ],
   "metadata": {
    "collapsed": false
   },
   "id": "30b2dbaea3c2af1f"
  },
  {
   "cell_type": "markdown",
   "source": [
    "Main datasets:\n",
    "\n",
    "1. title.basics.tsv\n",
    "\n",
    "* tconst (string) - alphanumeric unique identifier of the title\n",
    "* titleType (string) – the type/format of the title (e.g. movie, short, tvseries, tvepisode, video, etc)\n",
    "* primaryTitle (string) – the more popular title / the title used by the filmmakers on promotional materials at the point of release\n",
    "* originalTitle (string) - original title, in the original language\n",
    "* isAdult (boolean) - 0: non-adult title; 1: adult title\n",
    "* startYear (YYYY) – represents the release year of a title. In the case of TV Series, it is the series start year\n",
    "* endYear (YYYY) – TV Series end year. ‘\\N’ for all other title types\n",
    "* runtimeMinutes – primary runtime of the title, in minutes\n",
    "* genres (string array) – includes up to three genres associated with the title\n",
    "\n",
    "2. title.ratings.tsv\n",
    "* tconst (string): Alphanumeric unique identifier of the title.\n",
    "* averageRating: Weighted average of all individual user ratings for the title.\n",
    "* numVotes: Number of votes the title has received.\n",
    "\n",
    "3. name.basics.tsv\n",
    "* nconst (string): Alphanumeric unique identifier of the name/person.\n",
    "* primaryName: Name by which the person is most often credited.\n",
    "* birthYear: Year of birth in YYYY format.\n",
    "* deathYear: Year of death in YYYY format if applicable; otherwise '\\N'.\n",
    "* primaryProfession (array of strings): Top-3 professions of the person.\n",
    "* knownForTitles (array of tconsts): Titles the person is known for."
   ],
   "metadata": {
    "collapsed": false
   },
   "id": "5e272c3bf27f86d5"
  },
  {
   "cell_type": "code",
   "outputs": [],
   "source": [
    "import pandas as pd\n",
    "import numpy as np\n",
    "import matplotlib.pyplot as plt\n",
    "import seaborn as sns\n",
    "\n",
    "%matplotlib inline"
   ],
   "metadata": {
    "collapsed": false,
    "ExecuteTime": {
     "end_time": "2024-03-16T21:22:48.832707Z",
     "start_time": "2024-03-16T21:22:48.801003Z"
    }
   },
   "id": "29df1f251db6ed36",
   "execution_count": 1
  },
  {
   "cell_type": "code",
   "outputs": [
    {
     "data": {
      "text/plain": "      tconst titleType            primaryTitle           originalTitle  \\\n0  tt0000001     short              Carmencita              Carmencita   \n1  tt0000002     short  Le clown et ses chiens  Le clown et ses chiens   \n2  tt0000003     short          Pauvre Pierrot          Pauvre Pierrot   \n3  tt0000004     short             Un bon bock             Un bon bock   \n4  tt0000005     short        Blacksmith Scene        Blacksmith Scene   \n\n   isAdult startYear endYear runtimeMinutes                    genres  \n0        0      1894      \\N              1         Documentary,Short  \n1        0      1892      \\N              5           Animation,Short  \n2        0      1892      \\N              4  Animation,Comedy,Romance  \n3        0      1892      \\N             12           Animation,Short  \n4        0      1893      \\N              1              Comedy,Short  ",
      "text/html": "<div>\n<style scoped>\n    .dataframe tbody tr th:only-of-type {\n        vertical-align: middle;\n    }\n\n    .dataframe tbody tr th {\n        vertical-align: top;\n    }\n\n    .dataframe thead th {\n        text-align: right;\n    }\n</style>\n<table border=\"1\" class=\"dataframe\">\n  <thead>\n    <tr style=\"text-align: right;\">\n      <th></th>\n      <th>tconst</th>\n      <th>titleType</th>\n      <th>primaryTitle</th>\n      <th>originalTitle</th>\n      <th>isAdult</th>\n      <th>startYear</th>\n      <th>endYear</th>\n      <th>runtimeMinutes</th>\n      <th>genres</th>\n    </tr>\n  </thead>\n  <tbody>\n    <tr>\n      <th>0</th>\n      <td>tt0000001</td>\n      <td>short</td>\n      <td>Carmencita</td>\n      <td>Carmencita</td>\n      <td>0</td>\n      <td>1894</td>\n      <td>\\N</td>\n      <td>1</td>\n      <td>Documentary,Short</td>\n    </tr>\n    <tr>\n      <th>1</th>\n      <td>tt0000002</td>\n      <td>short</td>\n      <td>Le clown et ses chiens</td>\n      <td>Le clown et ses chiens</td>\n      <td>0</td>\n      <td>1892</td>\n      <td>\\N</td>\n      <td>5</td>\n      <td>Animation,Short</td>\n    </tr>\n    <tr>\n      <th>2</th>\n      <td>tt0000003</td>\n      <td>short</td>\n      <td>Pauvre Pierrot</td>\n      <td>Pauvre Pierrot</td>\n      <td>0</td>\n      <td>1892</td>\n      <td>\\N</td>\n      <td>4</td>\n      <td>Animation,Comedy,Romance</td>\n    </tr>\n    <tr>\n      <th>3</th>\n      <td>tt0000004</td>\n      <td>short</td>\n      <td>Un bon bock</td>\n      <td>Un bon bock</td>\n      <td>0</td>\n      <td>1892</td>\n      <td>\\N</td>\n      <td>12</td>\n      <td>Animation,Short</td>\n    </tr>\n    <tr>\n      <th>4</th>\n      <td>tt0000005</td>\n      <td>short</td>\n      <td>Blacksmith Scene</td>\n      <td>Blacksmith Scene</td>\n      <td>0</td>\n      <td>1893</td>\n      <td>\\N</td>\n      <td>1</td>\n      <td>Comedy,Short</td>\n    </tr>\n  </tbody>\n</table>\n</div>"
     },
     "execution_count": 2,
     "metadata": {},
     "output_type": "execute_result"
    }
   ],
   "source": [
    "# Reading the dataset \"title_basics\"\n",
    "\n",
    "title_basics_data = pd.read_csv('data/title_basics_data.tsv', sep='\\t')\n",
    "\n",
    "title_basics_data.head()"
   ],
   "metadata": {
    "collapsed": false,
    "ExecuteTime": {
     "end_time": "2024-03-16T21:22:52.642867Z",
     "start_time": "2024-03-16T21:22:48.834862Z"
    }
   },
   "id": "ca057b0ea458fef",
   "execution_count": 2
  },
  {
   "cell_type": "code",
   "outputs": [
    {
     "name": "stdout",
     "output_type": "stream",
     "text": [
      "<class 'pandas.core.frame.DataFrame'>\n",
      "RangeIndex: 1048575 entries, 0 to 1048574\n",
      "Data columns (total 9 columns):\n",
      " #   Column          Non-Null Count    Dtype \n",
      "---  ------          --------------    ----- \n",
      " 0   tconst          1048575 non-null  object\n",
      " 1   titleType       1048575 non-null  object\n",
      " 2   primaryTitle    1048575 non-null  object\n",
      " 3   originalTitle   1048575 non-null  object\n",
      " 4   isAdult         1048575 non-null  int64 \n",
      " 5   startYear       1048575 non-null  object\n",
      " 6   endYear         1048575 non-null  object\n",
      " 7   runtimeMinutes  1048575 non-null  object\n",
      " 8   genres          1048575 non-null  object\n",
      "dtypes: int64(1), object(8)\n",
      "memory usage: 72.0+ MB\n"
     ]
    }
   ],
   "source": [
    "# Summary of the \"title_basics\" dataset\n",
    "\n",
    "title_basics_data.info()"
   ],
   "metadata": {
    "collapsed": false,
    "ExecuteTime": {
     "end_time": "2024-03-16T21:22:54.761694Z",
     "start_time": "2024-03-16T21:22:52.645006Z"
    }
   },
   "id": "10ac42bb8af055",
   "execution_count": 3
  },
  {
   "cell_type": "code",
   "outputs": [
    {
     "data": {
      "text/plain": "      nconst      primaryName birthYear deathYear  \\\n0  nm0000001     Fred Astaire      1899      1987   \n1  nm0000002    Lauren Bacall      1924      2014   \n2  nm0000003  Brigitte Bardot      1934        \\N   \n3  nm0000004     John Belushi      1949      1982   \n4  nm0000005   Ingmar Bergman      1918      2007   \n\n                     primaryProfession  \\\n0       soundtrack,actor,miscellaneous   \n1                   actress,soundtrack   \n2  actress,soundtrack,music_department   \n3              actor,soundtrack,writer   \n4                writer,director,actor   \n\n                            knownForTitles  \n0  tt0027125,tt0050419,tt0053137,tt0072308  \n1  tt0038355,tt0037382,tt0075213,tt0117057  \n2  tt0049189,tt0054452,tt0056404,tt0057345  \n3  tt0078723,tt0080455,tt0072562,tt0077975  \n4  tt0083922,tt0069467,tt0050976,tt0050986  ",
      "text/html": "<div>\n<style scoped>\n    .dataframe tbody tr th:only-of-type {\n        vertical-align: middle;\n    }\n\n    .dataframe tbody tr th {\n        vertical-align: top;\n    }\n\n    .dataframe thead th {\n        text-align: right;\n    }\n</style>\n<table border=\"1\" class=\"dataframe\">\n  <thead>\n    <tr style=\"text-align: right;\">\n      <th></th>\n      <th>nconst</th>\n      <th>primaryName</th>\n      <th>birthYear</th>\n      <th>deathYear</th>\n      <th>primaryProfession</th>\n      <th>knownForTitles</th>\n    </tr>\n  </thead>\n  <tbody>\n    <tr>\n      <th>0</th>\n      <td>nm0000001</td>\n      <td>Fred Astaire</td>\n      <td>1899</td>\n      <td>1987</td>\n      <td>soundtrack,actor,miscellaneous</td>\n      <td>tt0027125,tt0050419,tt0053137,tt0072308</td>\n    </tr>\n    <tr>\n      <th>1</th>\n      <td>nm0000002</td>\n      <td>Lauren Bacall</td>\n      <td>1924</td>\n      <td>2014</td>\n      <td>actress,soundtrack</td>\n      <td>tt0038355,tt0037382,tt0075213,tt0117057</td>\n    </tr>\n    <tr>\n      <th>2</th>\n      <td>nm0000003</td>\n      <td>Brigitte Bardot</td>\n      <td>1934</td>\n      <td>\\N</td>\n      <td>actress,soundtrack,music_department</td>\n      <td>tt0049189,tt0054452,tt0056404,tt0057345</td>\n    </tr>\n    <tr>\n      <th>3</th>\n      <td>nm0000004</td>\n      <td>John Belushi</td>\n      <td>1949</td>\n      <td>1982</td>\n      <td>actor,soundtrack,writer</td>\n      <td>tt0078723,tt0080455,tt0072562,tt0077975</td>\n    </tr>\n    <tr>\n      <th>4</th>\n      <td>nm0000005</td>\n      <td>Ingmar Bergman</td>\n      <td>1918</td>\n      <td>2007</td>\n      <td>writer,director,actor</td>\n      <td>tt0083922,tt0069467,tt0050976,tt0050986</td>\n    </tr>\n  </tbody>\n</table>\n</div>"
     },
     "execution_count": 4,
     "metadata": {},
     "output_type": "execute_result"
    }
   ],
   "source": [
    "# Reading the dataset \"name_basics\"\n",
    "\n",
    "name_basics_data = pd.read_csv('data/name_basics_data.tsv', sep='\\t')\n",
    "\n",
    "name_basics_data.head()"
   ],
   "metadata": {
    "collapsed": false,
    "ExecuteTime": {
     "end_time": "2024-03-16T21:22:57.979060Z",
     "start_time": "2024-03-16T21:22:54.766131Z"
    }
   },
   "id": "75c7160e3ee0c511",
   "execution_count": 4
  },
  {
   "cell_type": "code",
   "outputs": [
    {
     "data": {
      "text/plain": "      tconst  averageRating  numVotes\n0  tt0000001            5.7      2032\n1  tt0000002            5.7       272\n2  tt0000003            6.5      1973\n3  tt0000004            5.4       178\n4  tt0000005            6.2      2731",
      "text/html": "<div>\n<style scoped>\n    .dataframe tbody tr th:only-of-type {\n        vertical-align: middle;\n    }\n\n    .dataframe tbody tr th {\n        vertical-align: top;\n    }\n\n    .dataframe thead th {\n        text-align: right;\n    }\n</style>\n<table border=\"1\" class=\"dataframe\">\n  <thead>\n    <tr style=\"text-align: right;\">\n      <th></th>\n      <th>tconst</th>\n      <th>averageRating</th>\n      <th>numVotes</th>\n    </tr>\n  </thead>\n  <tbody>\n    <tr>\n      <th>0</th>\n      <td>tt0000001</td>\n      <td>5.7</td>\n      <td>2032</td>\n    </tr>\n    <tr>\n      <th>1</th>\n      <td>tt0000002</td>\n      <td>5.7</td>\n      <td>272</td>\n    </tr>\n    <tr>\n      <th>2</th>\n      <td>tt0000003</td>\n      <td>6.5</td>\n      <td>1973</td>\n    </tr>\n    <tr>\n      <th>3</th>\n      <td>tt0000004</td>\n      <td>5.4</td>\n      <td>178</td>\n    </tr>\n    <tr>\n      <th>4</th>\n      <td>tt0000005</td>\n      <td>6.2</td>\n      <td>2731</td>\n    </tr>\n  </tbody>\n</table>\n</div>"
     },
     "execution_count": 5,
     "metadata": {},
     "output_type": "execute_result"
    }
   ],
   "source": [
    "# Reading the dataset \"title_ratings\"\n",
    "\n",
    "title_ratings_data = pd.read_csv('data/title_ratings_data.tsv', sep='\\t')\n",
    "\n",
    "title_ratings_data.head()"
   ],
   "metadata": {
    "collapsed": false,
    "ExecuteTime": {
     "end_time": "2024-03-16T21:22:59.038449Z",
     "start_time": "2024-03-16T21:22:57.982447Z"
    }
   },
   "id": "57938a33a5898e0",
   "execution_count": 5
  },
  {
   "cell_type": "markdown",
   "source": [
    "## 3. BACKGROUND RESEARCH"
   ],
   "metadata": {
    "collapsed": false
   },
   "id": "64ebad0a5099dcf2"
  },
  {
   "cell_type": "markdown",
   "source": [
    "These datasets offer subsets of IMDb data accessible to customers for personal and non-commercial use, providing valuable insights into diverse facets of IMDb content, such as titles, cast and crew details, and user ratings.\n",
    "\n",
    "- Title Basics Dataset: Contains over 1 million entries (1,048,575), each uniquely identified by an alphanumeric code (tconst). Provides details such as title type/format, primary and original titles, adult content indicator, start and end years, runtime duration, and associated genres.\n",
    "- Name Basics Dataset: Also comprises over 1 million entries (1,048,575), with each entry identified by an alphanumeric code (nconst). Includes information about the primary name of individuals, birth and death years, primary professions, and titles they are known for.\n",
    "- Title Ratings Dataset: Consists of more than 1 million entries (1,048,575), identified by an alphanumeric code (tconst). Contains data on the average rating and number of votes received for each title.\n",
    "\n",
    "Upon researching each of the aforementioned topics and scrutinizing the associated metadata file for each dataset, the following conclusions can be drawn:\n",
    "\n",
    "* Identification of the top 10 movies by decade.\n",
    "* Compilation of the top 10 actors based on the highest number of appearances in movies and their ratings.\n",
    "* Determination of the top 10 rated movies, considering both ratings and the number of votes received.\n",
    "* Analysis of the most prevalent genres across the IMDb database."
   ],
   "metadata": {
    "collapsed": false
   },
   "id": "be9390853143cb61"
  },
  {
   "cell_type": "markdown",
   "source": [
    "## 4. READ IN THE DATA"
   ],
   "metadata": {
    "collapsed": false
   },
   "id": "f71031f7b0f7db14"
  },
  {
   "cell_type": "markdown",
   "source": [
    "Let's read each file into a pandas dataframe, and then store all of the dataframes in a dictionary. This will give us a convenient way to store them, and a quick way to reference them later on. "
   ],
   "metadata": {
    "collapsed": false
   },
   "id": "b0443ba95d65c690"
  },
  {
   "cell_type": "code",
   "outputs": [],
   "source": [
    "data_files = [\n",
    "    \"title_basics_data.tsv\",\n",
    "    \"title_ratings_data.tsv\",\n",
    "    \"name_basics_data.tsv\"\n",
    "]\n",
    "\n",
    "imdb_data = {}\n",
    "\n",
    "for file in data_files:\n",
    "    d = pd.read_csv(\"data/{0}\".format(file), sep='\\t')\n",
    "    key = file.replace(\".tsv\", \"\")\n",
    "    imdb_data[key] = d"
   ],
   "metadata": {
    "collapsed": false,
    "ExecuteTime": {
     "end_time": "2024-03-16T21:23:06.702611Z",
     "start_time": "2024-03-16T21:22:59.040591Z"
    }
   },
   "id": "19a471e1dcb55307",
   "execution_count": 6
  },
  {
   "cell_type": "markdown",
   "source": [
    "### A. Data Selection"
   ],
   "metadata": {
    "collapsed": false
   },
   "id": "aa93edb8f615b424"
  },
  {
   "cell_type": "markdown",
   "source": [
    "We'll have to filter the data to remove the unnecessary one \"runtimeMinutes\" in the title_basics_data. Working with fewer columns will make it easier to print the dataframe out and find correlations within it."
   ],
   "metadata": {
    "collapsed": false
   },
   "id": "bc9b752fe9c4212d"
  },
  {
   "cell_type": "code",
   "outputs": [],
   "source": [
    "# Removing the column : \"runtimeMinutes\"\n",
    "\n",
    "imdb_data[\"title_basics_data\"] = imdb_data[\"title_basics_data\"].drop(columns=[\"runtimeMinutes\"])"
   ],
   "metadata": {
    "collapsed": false,
    "ExecuteTime": {
     "end_time": "2024-03-16T21:23:06.854843Z",
     "start_time": "2024-03-16T21:23:06.704759Z"
    }
   },
   "id": "bdf9065dabbfbf73",
   "execution_count": 7
  },
  {
   "cell_type": "markdown",
   "source": [
    "## 5. GETTING TO KNOW THE DATA"
   ],
   "metadata": {
    "collapsed": false
   },
   "id": "3dc439484ef07f5f"
  },
  {
   "cell_type": "code",
   "outputs": [
    {
     "name": "stdout",
     "output_type": "stream",
     "text": [
      "\n",
      "\u001B[1m title_basics_data \u001B[0m\n"
     ]
    },
    {
     "data": {
      "text/plain": "      tconst titleType            primaryTitle           originalTitle  \\\n0  tt0000001     short              Carmencita              Carmencita   \n1  tt0000002     short  Le clown et ses chiens  Le clown et ses chiens   \n2  tt0000003     short          Pauvre Pierrot          Pauvre Pierrot   \n\n   isAdult startYear endYear                    genres  \n0        0      1894      \\N         Documentary,Short  \n1        0      1892      \\N           Animation,Short  \n2        0      1892      \\N  Animation,Comedy,Romance  ",
      "text/html": "<div>\n<style scoped>\n    .dataframe tbody tr th:only-of-type {\n        vertical-align: middle;\n    }\n\n    .dataframe tbody tr th {\n        vertical-align: top;\n    }\n\n    .dataframe thead th {\n        text-align: right;\n    }\n</style>\n<table border=\"1\" class=\"dataframe\">\n  <thead>\n    <tr style=\"text-align: right;\">\n      <th></th>\n      <th>tconst</th>\n      <th>titleType</th>\n      <th>primaryTitle</th>\n      <th>originalTitle</th>\n      <th>isAdult</th>\n      <th>startYear</th>\n      <th>endYear</th>\n      <th>genres</th>\n    </tr>\n  </thead>\n  <tbody>\n    <tr>\n      <th>0</th>\n      <td>tt0000001</td>\n      <td>short</td>\n      <td>Carmencita</td>\n      <td>Carmencita</td>\n      <td>0</td>\n      <td>1894</td>\n      <td>\\N</td>\n      <td>Documentary,Short</td>\n    </tr>\n    <tr>\n      <th>1</th>\n      <td>tt0000002</td>\n      <td>short</td>\n      <td>Le clown et ses chiens</td>\n      <td>Le clown et ses chiens</td>\n      <td>0</td>\n      <td>1892</td>\n      <td>\\N</td>\n      <td>Animation,Short</td>\n    </tr>\n    <tr>\n      <th>2</th>\n      <td>tt0000003</td>\n      <td>short</td>\n      <td>Pauvre Pierrot</td>\n      <td>Pauvre Pierrot</td>\n      <td>0</td>\n      <td>1892</td>\n      <td>\\N</td>\n      <td>Animation,Comedy,Romance</td>\n    </tr>\n  </tbody>\n</table>\n</div>"
     },
     "metadata": {},
     "output_type": "display_data"
    },
    {
     "name": "stdout",
     "output_type": "stream",
     "text": [
      "\n",
      "\u001B[1m title_ratings_data \u001B[0m\n"
     ]
    },
    {
     "data": {
      "text/plain": "      tconst  averageRating  numVotes\n0  tt0000001            5.7      2032\n1  tt0000002            5.7       272\n2  tt0000003            6.5      1973",
      "text/html": "<div>\n<style scoped>\n    .dataframe tbody tr th:only-of-type {\n        vertical-align: middle;\n    }\n\n    .dataframe tbody tr th {\n        vertical-align: top;\n    }\n\n    .dataframe thead th {\n        text-align: right;\n    }\n</style>\n<table border=\"1\" class=\"dataframe\">\n  <thead>\n    <tr style=\"text-align: right;\">\n      <th></th>\n      <th>tconst</th>\n      <th>averageRating</th>\n      <th>numVotes</th>\n    </tr>\n  </thead>\n  <tbody>\n    <tr>\n      <th>0</th>\n      <td>tt0000001</td>\n      <td>5.7</td>\n      <td>2032</td>\n    </tr>\n    <tr>\n      <th>1</th>\n      <td>tt0000002</td>\n      <td>5.7</td>\n      <td>272</td>\n    </tr>\n    <tr>\n      <th>2</th>\n      <td>tt0000003</td>\n      <td>6.5</td>\n      <td>1973</td>\n    </tr>\n  </tbody>\n</table>\n</div>"
     },
     "metadata": {},
     "output_type": "display_data"
    },
    {
     "name": "stdout",
     "output_type": "stream",
     "text": [
      "\n",
      "\u001B[1m name_basics_data \u001B[0m\n"
     ]
    },
    {
     "data": {
      "text/plain": "      nconst      primaryName birthYear deathYear  \\\n0  nm0000001     Fred Astaire      1899      1987   \n1  nm0000002    Lauren Bacall      1924      2014   \n2  nm0000003  Brigitte Bardot      1934        \\N   \n\n                     primaryProfession  \\\n0       soundtrack,actor,miscellaneous   \n1                   actress,soundtrack   \n2  actress,soundtrack,music_department   \n\n                            knownForTitles  \n0  tt0027125,tt0050419,tt0053137,tt0072308  \n1  tt0038355,tt0037382,tt0075213,tt0117057  \n2  tt0049189,tt0054452,tt0056404,tt0057345  ",
      "text/html": "<div>\n<style scoped>\n    .dataframe tbody tr th:only-of-type {\n        vertical-align: middle;\n    }\n\n    .dataframe tbody tr th {\n        vertical-align: top;\n    }\n\n    .dataframe thead th {\n        text-align: right;\n    }\n</style>\n<table border=\"1\" class=\"dataframe\">\n  <thead>\n    <tr style=\"text-align: right;\">\n      <th></th>\n      <th>nconst</th>\n      <th>primaryName</th>\n      <th>birthYear</th>\n      <th>deathYear</th>\n      <th>primaryProfession</th>\n      <th>knownForTitles</th>\n    </tr>\n  </thead>\n  <tbody>\n    <tr>\n      <th>0</th>\n      <td>nm0000001</td>\n      <td>Fred Astaire</td>\n      <td>1899</td>\n      <td>1987</td>\n      <td>soundtrack,actor,miscellaneous</td>\n      <td>tt0027125,tt0050419,tt0053137,tt0072308</td>\n    </tr>\n    <tr>\n      <th>1</th>\n      <td>nm0000002</td>\n      <td>Lauren Bacall</td>\n      <td>1924</td>\n      <td>2014</td>\n      <td>actress,soundtrack</td>\n      <td>tt0038355,tt0037382,tt0075213,tt0117057</td>\n    </tr>\n    <tr>\n      <th>2</th>\n      <td>nm0000003</td>\n      <td>Brigitte Bardot</td>\n      <td>1934</td>\n      <td>\\N</td>\n      <td>actress,soundtrack,music_department</td>\n      <td>tt0049189,tt0054452,tt0056404,tt0057345</td>\n    </tr>\n  </tbody>\n</table>\n</div>"
     },
     "metadata": {},
     "output_type": "display_data"
    }
   ],
   "source": [
    "for key, value in imdb_data.items():\n",
    "    print(\"\\n\\033[1m\", key, \"\\033[0m\")\n",
    "    display(value.head(3))"
   ],
   "metadata": {
    "collapsed": false,
    "ExecuteTime": {
     "end_time": "2024-03-16T21:23:06.892404Z",
     "start_time": "2024-03-16T21:23:06.856950Z"
    }
   },
   "id": "cb4591cd398c3914",
   "execution_count": 8
  },
  {
   "cell_type": "markdown",
   "source": [
    "The primary key in each dataset is as follows:\n",
    "\n",
    "- title_basics_data: Primary Key: tconst\n",
    "\n",
    "- name_basics_data: Primary Key: nconst\n",
    "\n",
    "- title_ratings_data: Primary Key: tconst\n",
    "\n",
    "\n",
    "To combine the three datasets, we can perform a merge operation based on the common key, which is \"tconst\" in both the title basics dataset and the title ratings dataset.\n",
    "\n",
    "We can then merge the resulting DataFrame with the name basics dataset based on the common key \"tconst\", which will be extracted from the \"knownForTitles\" column in name_basics_data. We'll split the comma-separated values in the \"knownForTitles\" column of the name_basics_data dataset and explode them into separate rows. This transformation ensures that each 'tconst' value appears in its own row, facilitating the merge operation.\n",
    "\n",
    "This merge combines information from all three datasets, resulting in a single DataFrame that contains comprehensive information about titles, ratings, and cast/crew members."
   ],
   "metadata": {
    "collapsed": false
   },
   "id": "97c7c3b44c1118f5"
  },
  {
   "cell_type": "code",
   "outputs": [],
   "source": [],
   "metadata": {
    "collapsed": false,
    "ExecuteTime": {
     "end_time": "2024-03-16T21:23:06.898798Z",
     "start_time": "2024-03-16T21:23:06.894494Z"
    }
   },
   "id": "debc6ae1ecaed63",
   "execution_count": 8
  }
 ],
 "metadata": {
  "kernelspec": {
   "display_name": "Python 3",
   "language": "python",
   "name": "python3"
  },
  "language_info": {
   "codemirror_mode": {
    "name": "ipython",
    "version": 2
   },
   "file_extension": ".py",
   "mimetype": "text/x-python",
   "name": "python",
   "nbconvert_exporter": "python",
   "pygments_lexer": "ipython2",
   "version": "2.7.6"
  }
 },
 "nbformat": 4,
 "nbformat_minor": 5
}
