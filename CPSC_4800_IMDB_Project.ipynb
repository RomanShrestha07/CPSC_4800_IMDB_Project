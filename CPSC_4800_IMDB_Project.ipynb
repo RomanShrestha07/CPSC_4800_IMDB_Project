{
 "cells": [
  {
   "cell_type": "markdown",
   "id": "f1c82f5b8f564572",
   "metadata": {
    "collapsed": false
   },
   "source": [
    "# TABLE OF CONTENTS"
   ]
  },
  {
   "cell_type": "markdown",
   "id": "c40fb3c23b777608",
   "metadata": {
    "collapsed": false
   },
   "source": [
    "## 1. PROBLEM DESCRIPTION"
   ]
  },
  {
   "cell_type": "markdown",
   "id": "e3480de8862f3dab",
   "metadata": {
    "collapsed": false
   },
   "source": [
    "In our Python group project revolving around IMDb Non-Commercial Datasets, we delve into a similar journey of data exploration and utilization. Our project centers around accessing subsets of IMDb data, tailored for personal and non-commercial use by customers. The dataset repository offers various subsets of IMDb data, each meticulously crafted and structured to facilitate analysis and exploration. Our objective is to harness these datasets to extract valuable insights and trends within the realm of IMDb content. The project encompasses a myriad of datasets, each offering unique perspectives and facets of IMDb content, ranging from title details to cast and crew information, and user ratings. With each dataset encapsulating valuable information, our aim is to unravel the intricacies of IMDb content and unveil noteworthy patterns and trends within the realm of entertainment."
   ]
  },
  {
   "cell_type": "markdown",
   "id": "1746b23a255471c2",
   "metadata": {
    "collapsed": false
   },
   "source": [
    "## 2. THE DATA"
   ]
  },
  {
   "cell_type": "markdown",
   "id": "30b2dbaea3c2af1f",
   "metadata": {
    "collapsed": false
   },
   "source": [
    "IMDb, short for Internet Movie Database, is a comprehensive online database that was launched in 1990 and has been a subsidiary of Amazon.com since 1998. It stands as the most popular and authoritative source for movie, TV, and celebrity content, providing a platform for fans to explore the world of entertainment and make informed decisions about what to watch.\n",
    "\n",
    "The database boasts millions of entries, including movies, TV shows, entertainment programs, and information about cast and crew members.\n",
    "\n",
    "Data Location:\n",
    "\n",
    "The dataset files are available for download from https://datasets.imdbws.com/. The data is updated daily to ensure relevance and accuracy."
   ]
  },
  {
   "cell_type": "markdown",
   "id": "5e272c3bf27f86d5",
   "metadata": {
    "collapsed": false
   },
   "source": [
    "Main datasets:\n",
    "\n",
    "1. title.basics.tsv\n",
    "\n",
    "* tconst (string) - alphanumeric unique identifier of the title\n",
    "* titleType (string) – the type/format of the title (e.g. movie, short, tvseries, tvepisode, video, etc)\n",
    "* primaryTitle (string) – the more popular title / the title used by the filmmakers on promotional materials at the point of release\n",
    "* originalTitle (string) - original title, in the original language\n",
    "* isAdult (boolean) - 0: non-adult title; 1: adult title\n",
    "* startYear (YYYY) – represents the release year of a title. In the case of TV Series, it is the series start year\n",
    "* endYear (YYYY) – TV Series end year. ‘\\N’ for all other title types\n",
    "* runtimeMinutes – primary runtime of the title, in minutes\n",
    "* genres (string array) – includes up to three genres associated with the title\n",
    "\n",
    "2. title.ratings.tsv\n",
    "* tconst (string): Alphanumeric unique identifier of the title.\n",
    "* averageRating: Weighted average of all individual user ratings for the title.\n",
    "* numVotes: Number of votes the title has received.\n",
    "\n",
    "3. name.basics.tsv\n",
    "* nconst (string): Alphanumeric unique identifier of the name/person.\n",
    "* primaryName: Name by which the person is most often credited.\n",
    "* birthYear: Year of birth in YYYY format.\n",
    "* deathYear: Year of death in YYYY format if applicable; otherwise '\\N'.\n",
    "* primaryProfession (array of strings): Top-3 professions of the person.\n",
    "* knownForTitles (array of tconsts): Titles the person is known for."
   ]
  },
  {
   "cell_type": "code",
   "execution_count": 94,
   "id": "29df1f251db6ed36",
   "metadata": {
    "ExecuteTime": {
     "end_time": "2024-03-16T21:22:48.832707Z",
     "start_time": "2024-03-16T21:22:48.801003Z"
    },
    "collapsed": false
   },
   "outputs": [],
   "source": [
    "import pandas as pd\n",
    "import numpy as np\n",
    "import matplotlib.pyplot as plt\n",
    "import seaborn as sns\n",
    "\n",
    "%matplotlib inline"
   ]
  },
  {
   "cell_type": "code",
   "execution_count": 95,
   "id": "ca057b0ea458fef",
   "metadata": {
    "ExecuteTime": {
     "end_time": "2024-03-16T21:22:52.642867Z",
     "start_time": "2024-03-16T21:22:48.834862Z"
    },
    "collapsed": false
   },
   "outputs": [
    {
     "data": {
      "text/html": [
       "<div>\n",
       "<style scoped>\n",
       "    .dataframe tbody tr th:only-of-type {\n",
       "        vertical-align: middle;\n",
       "    }\n",
       "\n",
       "    .dataframe tbody tr th {\n",
       "        vertical-align: top;\n",
       "    }\n",
       "\n",
       "    .dataframe thead th {\n",
       "        text-align: right;\n",
       "    }\n",
       "</style>\n",
       "<table border=\"1\" class=\"dataframe\">\n",
       "  <thead>\n",
       "    <tr style=\"text-align: right;\">\n",
       "      <th></th>\n",
       "      <th>tconst</th>\n",
       "      <th>titleType</th>\n",
       "      <th>primaryTitle</th>\n",
       "      <th>originalTitle</th>\n",
       "      <th>isAdult</th>\n",
       "      <th>startYear</th>\n",
       "      <th>endYear</th>\n",
       "      <th>runtimeMinutes</th>\n",
       "      <th>genres</th>\n",
       "    </tr>\n",
       "  </thead>\n",
       "  <tbody>\n",
       "    <tr>\n",
       "      <th>0</th>\n",
       "      <td>tt0000001</td>\n",
       "      <td>short</td>\n",
       "      <td>Carmencita</td>\n",
       "      <td>Carmencita</td>\n",
       "      <td>0</td>\n",
       "      <td>1894</td>\n",
       "      <td>\\N</td>\n",
       "      <td>1</td>\n",
       "      <td>Documentary,Short</td>\n",
       "    </tr>\n",
       "    <tr>\n",
       "      <th>1</th>\n",
       "      <td>tt0000002</td>\n",
       "      <td>short</td>\n",
       "      <td>Le clown et ses chiens</td>\n",
       "      <td>Le clown et ses chiens</td>\n",
       "      <td>0</td>\n",
       "      <td>1892</td>\n",
       "      <td>\\N</td>\n",
       "      <td>5</td>\n",
       "      <td>Animation,Short</td>\n",
       "    </tr>\n",
       "    <tr>\n",
       "      <th>2</th>\n",
       "      <td>tt0000003</td>\n",
       "      <td>short</td>\n",
       "      <td>Pauvre Pierrot</td>\n",
       "      <td>Pauvre Pierrot</td>\n",
       "      <td>0</td>\n",
       "      <td>1892</td>\n",
       "      <td>\\N</td>\n",
       "      <td>4</td>\n",
       "      <td>Animation,Comedy,Romance</td>\n",
       "    </tr>\n",
       "    <tr>\n",
       "      <th>3</th>\n",
       "      <td>tt0000004</td>\n",
       "      <td>short</td>\n",
       "      <td>Un bon bock</td>\n",
       "      <td>Un bon bock</td>\n",
       "      <td>0</td>\n",
       "      <td>1892</td>\n",
       "      <td>\\N</td>\n",
       "      <td>12</td>\n",
       "      <td>Animation,Short</td>\n",
       "    </tr>\n",
       "    <tr>\n",
       "      <th>4</th>\n",
       "      <td>tt0000005</td>\n",
       "      <td>short</td>\n",
       "      <td>Blacksmith Scene</td>\n",
       "      <td>Blacksmith Scene</td>\n",
       "      <td>0</td>\n",
       "      <td>1893</td>\n",
       "      <td>\\N</td>\n",
       "      <td>1</td>\n",
       "      <td>Comedy,Short</td>\n",
       "    </tr>\n",
       "  </tbody>\n",
       "</table>\n",
       "</div>"
      ],
      "text/plain": [
       "      tconst titleType            primaryTitle           originalTitle  \\\n",
       "0  tt0000001     short              Carmencita              Carmencita   \n",
       "1  tt0000002     short  Le clown et ses chiens  Le clown et ses chiens   \n",
       "2  tt0000003     short          Pauvre Pierrot          Pauvre Pierrot   \n",
       "3  tt0000004     short             Un bon bock             Un bon bock   \n",
       "4  tt0000005     short        Blacksmith Scene        Blacksmith Scene   \n",
       "\n",
       "   isAdult startYear endYear runtimeMinutes                    genres  \n",
       "0        0      1894      \\N              1         Documentary,Short  \n",
       "1        0      1892      \\N              5           Animation,Short  \n",
       "2        0      1892      \\N              4  Animation,Comedy,Romance  \n",
       "3        0      1892      \\N             12           Animation,Short  \n",
       "4        0      1893      \\N              1              Comedy,Short  "
      ]
     },
     "execution_count": 95,
     "metadata": {},
     "output_type": "execute_result"
    }
   ],
   "source": [
    "# Reading the dataset \"title_basics\"\n",
    "\n",
    "title_basics_data = pd.read_csv('data/title_basics_data.tsv', sep='\\t')\n",
    "\n",
    "title_basics_data.head()"
   ]
  },
  {
   "cell_type": "code",
   "execution_count": 96,
   "id": "10ac42bb8af055",
   "metadata": {
    "ExecuteTime": {
     "end_time": "2024-03-16T21:22:54.761694Z",
     "start_time": "2024-03-16T21:22:52.645006Z"
    },
    "collapsed": false
   },
   "outputs": [
    {
     "name": "stdout",
     "output_type": "stream",
     "text": [
      "<class 'pandas.core.frame.DataFrame'>\n",
      "RangeIndex: 1048575 entries, 0 to 1048574\n",
      "Data columns (total 9 columns):\n",
      " #   Column          Non-Null Count    Dtype \n",
      "---  ------          --------------    ----- \n",
      " 0   tconst          1048575 non-null  object\n",
      " 1   titleType       1048575 non-null  object\n",
      " 2   primaryTitle    1048574 non-null  object\n",
      " 3   originalTitle   1048574 non-null  object\n",
      " 4   isAdult         1048575 non-null  int64 \n",
      " 5   startYear       1048575 non-null  object\n",
      " 6   endYear         1048575 non-null  object\n",
      " 7   runtimeMinutes  1048575 non-null  object\n",
      " 8   genres          1048575 non-null  object\n",
      "dtypes: int64(1), object(8)\n",
      "memory usage: 72.0+ MB\n"
     ]
    }
   ],
   "source": [
    "# Summary of the \"title_basics\" dataset\n",
    "\n",
    "title_basics_data.info()"
   ]
  },
  {
   "cell_type": "code",
   "execution_count": 97,
   "id": "75c7160e3ee0c511",
   "metadata": {
    "ExecuteTime": {
     "end_time": "2024-03-16T21:22:57.979060Z",
     "start_time": "2024-03-16T21:22:54.766131Z"
    },
    "collapsed": false
   },
   "outputs": [
    {
     "data": {
      "text/html": [
       "<div>\n",
       "<style scoped>\n",
       "    .dataframe tbody tr th:only-of-type {\n",
       "        vertical-align: middle;\n",
       "    }\n",
       "\n",
       "    .dataframe tbody tr th {\n",
       "        vertical-align: top;\n",
       "    }\n",
       "\n",
       "    .dataframe thead th {\n",
       "        text-align: right;\n",
       "    }\n",
       "</style>\n",
       "<table border=\"1\" class=\"dataframe\">\n",
       "  <thead>\n",
       "    <tr style=\"text-align: right;\">\n",
       "      <th></th>\n",
       "      <th>nconst</th>\n",
       "      <th>primaryName</th>\n",
       "      <th>birthYear</th>\n",
       "      <th>deathYear</th>\n",
       "      <th>primaryProfession</th>\n",
       "      <th>knownForTitles</th>\n",
       "    </tr>\n",
       "  </thead>\n",
       "  <tbody>\n",
       "    <tr>\n",
       "      <th>0</th>\n",
       "      <td>nm0000001</td>\n",
       "      <td>Fred Astaire</td>\n",
       "      <td>1899</td>\n",
       "      <td>1987</td>\n",
       "      <td>soundtrack,actor,miscellaneous</td>\n",
       "      <td>tt0027125,tt0050419,tt0053137,tt0072308</td>\n",
       "    </tr>\n",
       "    <tr>\n",
       "      <th>1</th>\n",
       "      <td>nm0000002</td>\n",
       "      <td>Lauren Bacall</td>\n",
       "      <td>1924</td>\n",
       "      <td>2014</td>\n",
       "      <td>actress,soundtrack</td>\n",
       "      <td>tt0038355,tt0037382,tt0075213,tt0117057</td>\n",
       "    </tr>\n",
       "    <tr>\n",
       "      <th>2</th>\n",
       "      <td>nm0000003</td>\n",
       "      <td>Brigitte Bardot</td>\n",
       "      <td>1934</td>\n",
       "      <td>\\N</td>\n",
       "      <td>actress,soundtrack,music_department</td>\n",
       "      <td>tt0049189,tt0054452,tt0056404,tt0057345</td>\n",
       "    </tr>\n",
       "    <tr>\n",
       "      <th>3</th>\n",
       "      <td>nm0000004</td>\n",
       "      <td>John Belushi</td>\n",
       "      <td>1949</td>\n",
       "      <td>1982</td>\n",
       "      <td>actor,soundtrack,writer</td>\n",
       "      <td>tt0078723,tt0080455,tt0072562,tt0077975</td>\n",
       "    </tr>\n",
       "    <tr>\n",
       "      <th>4</th>\n",
       "      <td>nm0000005</td>\n",
       "      <td>Ingmar Bergman</td>\n",
       "      <td>1918</td>\n",
       "      <td>2007</td>\n",
       "      <td>writer,director,actor</td>\n",
       "      <td>tt0083922,tt0069467,tt0050976,tt0050986</td>\n",
       "    </tr>\n",
       "  </tbody>\n",
       "</table>\n",
       "</div>"
      ],
      "text/plain": [
       "      nconst      primaryName birthYear deathYear  \\\n",
       "0  nm0000001     Fred Astaire      1899      1987   \n",
       "1  nm0000002    Lauren Bacall      1924      2014   \n",
       "2  nm0000003  Brigitte Bardot      1934        \\N   \n",
       "3  nm0000004     John Belushi      1949      1982   \n",
       "4  nm0000005   Ingmar Bergman      1918      2007   \n",
       "\n",
       "                     primaryProfession  \\\n",
       "0       soundtrack,actor,miscellaneous   \n",
       "1                   actress,soundtrack   \n",
       "2  actress,soundtrack,music_department   \n",
       "3              actor,soundtrack,writer   \n",
       "4                writer,director,actor   \n",
       "\n",
       "                            knownForTitles  \n",
       "0  tt0027125,tt0050419,tt0053137,tt0072308  \n",
       "1  tt0038355,tt0037382,tt0075213,tt0117057  \n",
       "2  tt0049189,tt0054452,tt0056404,tt0057345  \n",
       "3  tt0078723,tt0080455,tt0072562,tt0077975  \n",
       "4  tt0083922,tt0069467,tt0050976,tt0050986  "
      ]
     },
     "execution_count": 97,
     "metadata": {},
     "output_type": "execute_result"
    }
   ],
   "source": [
    "# Reading the dataset \"name_basics\"\n",
    "\n",
    "name_basics_data = pd.read_csv('data/name_basics_data.tsv', sep='\\t')\n",
    "\n",
    "name_basics_data.head()"
   ]
  },
  {
   "cell_type": "code",
   "execution_count": 98,
   "id": "57938a33a5898e0",
   "metadata": {
    "ExecuteTime": {
     "end_time": "2024-03-16T21:22:59.038449Z",
     "start_time": "2024-03-16T21:22:57.982447Z"
    },
    "collapsed": false
   },
   "outputs": [
    {
     "data": {
      "text/html": [
       "<div>\n",
       "<style scoped>\n",
       "    .dataframe tbody tr th:only-of-type {\n",
       "        vertical-align: middle;\n",
       "    }\n",
       "\n",
       "    .dataframe tbody tr th {\n",
       "        vertical-align: top;\n",
       "    }\n",
       "\n",
       "    .dataframe thead th {\n",
       "        text-align: right;\n",
       "    }\n",
       "</style>\n",
       "<table border=\"1\" class=\"dataframe\">\n",
       "  <thead>\n",
       "    <tr style=\"text-align: right;\">\n",
       "      <th></th>\n",
       "      <th>tconst</th>\n",
       "      <th>averageRating</th>\n",
       "      <th>numVotes</th>\n",
       "    </tr>\n",
       "  </thead>\n",
       "  <tbody>\n",
       "    <tr>\n",
       "      <th>0</th>\n",
       "      <td>tt0000001</td>\n",
       "      <td>5.7</td>\n",
       "      <td>2032</td>\n",
       "    </tr>\n",
       "    <tr>\n",
       "      <th>1</th>\n",
       "      <td>tt0000002</td>\n",
       "      <td>5.7</td>\n",
       "      <td>272</td>\n",
       "    </tr>\n",
       "    <tr>\n",
       "      <th>2</th>\n",
       "      <td>tt0000003</td>\n",
       "      <td>6.5</td>\n",
       "      <td>1973</td>\n",
       "    </tr>\n",
       "    <tr>\n",
       "      <th>3</th>\n",
       "      <td>tt0000004</td>\n",
       "      <td>5.4</td>\n",
       "      <td>178</td>\n",
       "    </tr>\n",
       "    <tr>\n",
       "      <th>4</th>\n",
       "      <td>tt0000005</td>\n",
       "      <td>6.2</td>\n",
       "      <td>2731</td>\n",
       "    </tr>\n",
       "  </tbody>\n",
       "</table>\n",
       "</div>"
      ],
      "text/plain": [
       "      tconst  averageRating  numVotes\n",
       "0  tt0000001            5.7      2032\n",
       "1  tt0000002            5.7       272\n",
       "2  tt0000003            6.5      1973\n",
       "3  tt0000004            5.4       178\n",
       "4  tt0000005            6.2      2731"
      ]
     },
     "execution_count": 98,
     "metadata": {},
     "output_type": "execute_result"
    }
   ],
   "source": [
    "# Reading the dataset \"title_ratings\"\n",
    "\n",
    "title_ratings_data = pd.read_csv('data/title_ratings_data.tsv', sep='\\t')\n",
    "\n",
    "title_ratings_data.head()"
   ]
  },
  {
   "cell_type": "markdown",
   "id": "64ebad0a5099dcf2",
   "metadata": {
    "collapsed": false
   },
   "source": [
    "## 3. BACKGROUND RESEARCH"
   ]
  },
  {
   "cell_type": "markdown",
   "id": "be9390853143cb61",
   "metadata": {
    "collapsed": false
   },
   "source": [
    "These datasets offer subsets of IMDb data accessible to customers for personal and non-commercial use, providing valuable insights into diverse facets of IMDb content, such as titles, cast and crew details, and user ratings.\n",
    "\n",
    "- Title Basics Dataset: Contains over 1 million entries (1,048,575), each uniquely identified by an alphanumeric code (tconst). Provides details such as title type/format, primary and original titles, adult content indicator, start and end years, runtime duration, and associated genres.\n",
    "- Name Basics Dataset: Also comprises over 1 million entries (1,048,575), with each entry identified by an alphanumeric code (nconst). Includes information about the primary name of individuals, birth and death years, primary professions, and titles they are known for.\n",
    "- Title Ratings Dataset: Consists of more than 1 million entries (1,048,575), identified by an alphanumeric code (tconst). Contains data on the average rating and number of votes received for each title.\n",
    "\n",
    "Upon researching each of the aforementioned topics and scrutinizing the associated metadata file for each dataset, the following conclusions can be drawn:\n",
    "\n",
    "* Identification of the top 10 movies by decade.\n",
    "* Compilation of the top 10 actors based on the highest number of appearances in movies and their ratings.\n",
    "* Determination of the top 10 rated movies, considering both ratings and the number of votes received.\n",
    "* Analysis of the most prevalent genres across the IMDb database."
   ]
  },
  {
   "cell_type": "markdown",
   "id": "f71031f7b0f7db14",
   "metadata": {
    "collapsed": false
   },
   "source": [
    "## 4. READ IN THE DATA"
   ]
  },
  {
   "cell_type": "markdown",
   "id": "b0443ba95d65c690",
   "metadata": {
    "collapsed": false
   },
   "source": [
    "Let's read each file into a pandas dataframe, and then store all of the dataframes in a dictionary. This will give us a convenient way to store them, and a quick way to reference them later on. "
   ]
  },
  {
   "cell_type": "code",
   "execution_count": 99,
   "id": "19a471e1dcb55307",
   "metadata": {
    "ExecuteTime": {
     "end_time": "2024-03-16T21:23:06.702611Z",
     "start_time": "2024-03-16T21:22:59.040591Z"
    },
    "collapsed": false
   },
   "outputs": [],
   "source": [
    "data_files = [\n",
    "    \"title_basics_data.tsv\",\n",
    "    \"title_ratings_data.tsv\",\n",
    "    \"name_basics_data.tsv\"\n",
    "]\n",
    "\n",
    "imdb_data = {}\n",
    "\n",
    "for file in data_files:\n",
    "    d = pd.read_csv(\"data/{0}\".format(file), sep='\\t')\n",
    "    key = file.replace(\".tsv\", \"\")\n",
    "    imdb_data[key] = d"
   ]
  },
  {
   "cell_type": "markdown",
   "id": "aa93edb8f615b424",
   "metadata": {
    "collapsed": false
   },
   "source": [
    "### A. Data Selection"
   ]
  },
  {
   "cell_type": "markdown",
   "id": "bc9b752fe9c4212d",
   "metadata": {
    "collapsed": false
   },
   "source": [
    "We'll have to filter the data to remove the unnecessary one \"runtimeMinutes\" in the title_basics_data. Working with fewer columns will make it easier to print the dataframe out and find correlations within it."
   ]
  },
  {
   "cell_type": "code",
   "execution_count": 100,
   "id": "bdf9065dabbfbf73",
   "metadata": {
    "ExecuteTime": {
     "end_time": "2024-03-16T21:23:06.854843Z",
     "start_time": "2024-03-16T21:23:06.704759Z"
    },
    "collapsed": false
   },
   "outputs": [],
   "source": [
    "# Removing the column : \"runtimeMinutes\"\n",
    "\n",
    "imdb_data[\"title_basics_data\"] = imdb_data[\"title_basics_data\"].drop(columns=[\"runtimeMinutes\"])"
   ]
  },
  {
   "cell_type": "markdown",
   "id": "3dc439484ef07f5f",
   "metadata": {
    "collapsed": false
   },
   "source": [
    "## 5. GETTING TO KNOW THE DATA"
   ]
  },
  {
   "cell_type": "code",
   "execution_count": 101,
   "id": "cb4591cd398c3914",
   "metadata": {
    "ExecuteTime": {
     "end_time": "2024-03-16T21:23:06.892404Z",
     "start_time": "2024-03-16T21:23:06.856950Z"
    },
    "collapsed": false
   },
   "outputs": [
    {
     "name": "stdout",
     "output_type": "stream",
     "text": [
      "\n",
      "\u001b[1m title_basics_data \u001b[0m\n"
     ]
    },
    {
     "data": {
      "text/html": [
       "<div>\n",
       "<style scoped>\n",
       "    .dataframe tbody tr th:only-of-type {\n",
       "        vertical-align: middle;\n",
       "    }\n",
       "\n",
       "    .dataframe tbody tr th {\n",
       "        vertical-align: top;\n",
       "    }\n",
       "\n",
       "    .dataframe thead th {\n",
       "        text-align: right;\n",
       "    }\n",
       "</style>\n",
       "<table border=\"1\" class=\"dataframe\">\n",
       "  <thead>\n",
       "    <tr style=\"text-align: right;\">\n",
       "      <th></th>\n",
       "      <th>tconst</th>\n",
       "      <th>titleType</th>\n",
       "      <th>primaryTitle</th>\n",
       "      <th>originalTitle</th>\n",
       "      <th>isAdult</th>\n",
       "      <th>startYear</th>\n",
       "      <th>endYear</th>\n",
       "      <th>genres</th>\n",
       "    </tr>\n",
       "  </thead>\n",
       "  <tbody>\n",
       "    <tr>\n",
       "      <th>0</th>\n",
       "      <td>tt0000001</td>\n",
       "      <td>short</td>\n",
       "      <td>Carmencita</td>\n",
       "      <td>Carmencita</td>\n",
       "      <td>0</td>\n",
       "      <td>1894</td>\n",
       "      <td>\\N</td>\n",
       "      <td>Documentary,Short</td>\n",
       "    </tr>\n",
       "    <tr>\n",
       "      <th>1</th>\n",
       "      <td>tt0000002</td>\n",
       "      <td>short</td>\n",
       "      <td>Le clown et ses chiens</td>\n",
       "      <td>Le clown et ses chiens</td>\n",
       "      <td>0</td>\n",
       "      <td>1892</td>\n",
       "      <td>\\N</td>\n",
       "      <td>Animation,Short</td>\n",
       "    </tr>\n",
       "    <tr>\n",
       "      <th>2</th>\n",
       "      <td>tt0000003</td>\n",
       "      <td>short</td>\n",
       "      <td>Pauvre Pierrot</td>\n",
       "      <td>Pauvre Pierrot</td>\n",
       "      <td>0</td>\n",
       "      <td>1892</td>\n",
       "      <td>\\N</td>\n",
       "      <td>Animation,Comedy,Romance</td>\n",
       "    </tr>\n",
       "    <tr>\n",
       "      <th>3</th>\n",
       "      <td>tt0000004</td>\n",
       "      <td>short</td>\n",
       "      <td>Un bon bock</td>\n",
       "      <td>Un bon bock</td>\n",
       "      <td>0</td>\n",
       "      <td>1892</td>\n",
       "      <td>\\N</td>\n",
       "      <td>Animation,Short</td>\n",
       "    </tr>\n",
       "    <tr>\n",
       "      <th>4</th>\n",
       "      <td>tt0000005</td>\n",
       "      <td>short</td>\n",
       "      <td>Blacksmith Scene</td>\n",
       "      <td>Blacksmith Scene</td>\n",
       "      <td>0</td>\n",
       "      <td>1893</td>\n",
       "      <td>\\N</td>\n",
       "      <td>Comedy,Short</td>\n",
       "    </tr>\n",
       "  </tbody>\n",
       "</table>\n",
       "</div>"
      ],
      "text/plain": [
       "      tconst titleType            primaryTitle           originalTitle  \\\n",
       "0  tt0000001     short              Carmencita              Carmencita   \n",
       "1  tt0000002     short  Le clown et ses chiens  Le clown et ses chiens   \n",
       "2  tt0000003     short          Pauvre Pierrot          Pauvre Pierrot   \n",
       "3  tt0000004     short             Un bon bock             Un bon bock   \n",
       "4  tt0000005     short        Blacksmith Scene        Blacksmith Scene   \n",
       "\n",
       "   isAdult startYear endYear                    genres  \n",
       "0        0      1894      \\N         Documentary,Short  \n",
       "1        0      1892      \\N           Animation,Short  \n",
       "2        0      1892      \\N  Animation,Comedy,Romance  \n",
       "3        0      1892      \\N           Animation,Short  \n",
       "4        0      1893      \\N              Comedy,Short  "
      ]
     },
     "metadata": {},
     "output_type": "display_data"
    },
    {
     "name": "stdout",
     "output_type": "stream",
     "text": [
      "\n",
      "\u001b[1m title_ratings_data \u001b[0m\n"
     ]
    },
    {
     "data": {
      "text/html": [
       "<div>\n",
       "<style scoped>\n",
       "    .dataframe tbody tr th:only-of-type {\n",
       "        vertical-align: middle;\n",
       "    }\n",
       "\n",
       "    .dataframe tbody tr th {\n",
       "        vertical-align: top;\n",
       "    }\n",
       "\n",
       "    .dataframe thead th {\n",
       "        text-align: right;\n",
       "    }\n",
       "</style>\n",
       "<table border=\"1\" class=\"dataframe\">\n",
       "  <thead>\n",
       "    <tr style=\"text-align: right;\">\n",
       "      <th></th>\n",
       "      <th>tconst</th>\n",
       "      <th>averageRating</th>\n",
       "      <th>numVotes</th>\n",
       "    </tr>\n",
       "  </thead>\n",
       "  <tbody>\n",
       "    <tr>\n",
       "      <th>0</th>\n",
       "      <td>tt0000001</td>\n",
       "      <td>5.7</td>\n",
       "      <td>2032</td>\n",
       "    </tr>\n",
       "    <tr>\n",
       "      <th>1</th>\n",
       "      <td>tt0000002</td>\n",
       "      <td>5.7</td>\n",
       "      <td>272</td>\n",
       "    </tr>\n",
       "    <tr>\n",
       "      <th>2</th>\n",
       "      <td>tt0000003</td>\n",
       "      <td>6.5</td>\n",
       "      <td>1973</td>\n",
       "    </tr>\n",
       "    <tr>\n",
       "      <th>3</th>\n",
       "      <td>tt0000004</td>\n",
       "      <td>5.4</td>\n",
       "      <td>178</td>\n",
       "    </tr>\n",
       "    <tr>\n",
       "      <th>4</th>\n",
       "      <td>tt0000005</td>\n",
       "      <td>6.2</td>\n",
       "      <td>2731</td>\n",
       "    </tr>\n",
       "  </tbody>\n",
       "</table>\n",
       "</div>"
      ],
      "text/plain": [
       "      tconst  averageRating  numVotes\n",
       "0  tt0000001            5.7      2032\n",
       "1  tt0000002            5.7       272\n",
       "2  tt0000003            6.5      1973\n",
       "3  tt0000004            5.4       178\n",
       "4  tt0000005            6.2      2731"
      ]
     },
     "metadata": {},
     "output_type": "display_data"
    },
    {
     "name": "stdout",
     "output_type": "stream",
     "text": [
      "\n",
      "\u001b[1m name_basics_data \u001b[0m\n"
     ]
    },
    {
     "data": {
      "text/html": [
       "<div>\n",
       "<style scoped>\n",
       "    .dataframe tbody tr th:only-of-type {\n",
       "        vertical-align: middle;\n",
       "    }\n",
       "\n",
       "    .dataframe tbody tr th {\n",
       "        vertical-align: top;\n",
       "    }\n",
       "\n",
       "    .dataframe thead th {\n",
       "        text-align: right;\n",
       "    }\n",
       "</style>\n",
       "<table border=\"1\" class=\"dataframe\">\n",
       "  <thead>\n",
       "    <tr style=\"text-align: right;\">\n",
       "      <th></th>\n",
       "      <th>nconst</th>\n",
       "      <th>primaryName</th>\n",
       "      <th>birthYear</th>\n",
       "      <th>deathYear</th>\n",
       "      <th>primaryProfession</th>\n",
       "      <th>knownForTitles</th>\n",
       "    </tr>\n",
       "  </thead>\n",
       "  <tbody>\n",
       "    <tr>\n",
       "      <th>0</th>\n",
       "      <td>nm0000001</td>\n",
       "      <td>Fred Astaire</td>\n",
       "      <td>1899</td>\n",
       "      <td>1987</td>\n",
       "      <td>soundtrack,actor,miscellaneous</td>\n",
       "      <td>tt0027125,tt0050419,tt0053137,tt0072308</td>\n",
       "    </tr>\n",
       "    <tr>\n",
       "      <th>1</th>\n",
       "      <td>nm0000002</td>\n",
       "      <td>Lauren Bacall</td>\n",
       "      <td>1924</td>\n",
       "      <td>2014</td>\n",
       "      <td>actress,soundtrack</td>\n",
       "      <td>tt0038355,tt0037382,tt0075213,tt0117057</td>\n",
       "    </tr>\n",
       "    <tr>\n",
       "      <th>2</th>\n",
       "      <td>nm0000003</td>\n",
       "      <td>Brigitte Bardot</td>\n",
       "      <td>1934</td>\n",
       "      <td>\\N</td>\n",
       "      <td>actress,soundtrack,music_department</td>\n",
       "      <td>tt0049189,tt0054452,tt0056404,tt0057345</td>\n",
       "    </tr>\n",
       "    <tr>\n",
       "      <th>3</th>\n",
       "      <td>nm0000004</td>\n",
       "      <td>John Belushi</td>\n",
       "      <td>1949</td>\n",
       "      <td>1982</td>\n",
       "      <td>actor,soundtrack,writer</td>\n",
       "      <td>tt0078723,tt0080455,tt0072562,tt0077975</td>\n",
       "    </tr>\n",
       "    <tr>\n",
       "      <th>4</th>\n",
       "      <td>nm0000005</td>\n",
       "      <td>Ingmar Bergman</td>\n",
       "      <td>1918</td>\n",
       "      <td>2007</td>\n",
       "      <td>writer,director,actor</td>\n",
       "      <td>tt0083922,tt0069467,tt0050976,tt0050986</td>\n",
       "    </tr>\n",
       "  </tbody>\n",
       "</table>\n",
       "</div>"
      ],
      "text/plain": [
       "      nconst      primaryName birthYear deathYear  \\\n",
       "0  nm0000001     Fred Astaire      1899      1987   \n",
       "1  nm0000002    Lauren Bacall      1924      2014   \n",
       "2  nm0000003  Brigitte Bardot      1934        \\N   \n",
       "3  nm0000004     John Belushi      1949      1982   \n",
       "4  nm0000005   Ingmar Bergman      1918      2007   \n",
       "\n",
       "                     primaryProfession  \\\n",
       "0       soundtrack,actor,miscellaneous   \n",
       "1                   actress,soundtrack   \n",
       "2  actress,soundtrack,music_department   \n",
       "3              actor,soundtrack,writer   \n",
       "4                writer,director,actor   \n",
       "\n",
       "                            knownForTitles  \n",
       "0  tt0027125,tt0050419,tt0053137,tt0072308  \n",
       "1  tt0038355,tt0037382,tt0075213,tt0117057  \n",
       "2  tt0049189,tt0054452,tt0056404,tt0057345  \n",
       "3  tt0078723,tt0080455,tt0072562,tt0077975  \n",
       "4  tt0083922,tt0069467,tt0050976,tt0050986  "
      ]
     },
     "metadata": {},
     "output_type": "display_data"
    }
   ],
   "source": [
    "for key, value in imdb_data.items():\n",
    "    print(\"\\n\\033[1m\", key, \"\\033[0m\")\n",
    "    display(value.head())    "
   ]
  },
  {
   "cell_type": "markdown",
   "id": "97c7c3b44c1118f5",
   "metadata": {
    "collapsed": false
   },
   "source": [
    "The primary key in each dataset is as follows:\n",
    "\n",
    "- title_basics_data: Primary Key: tconst\n",
    "\n",
    "- name_basics_data: Primary Key: nconst\n",
    "\n",
    "- title_ratings_data: Primary Key: tconst\n",
    "\n",
    "\n",
    "To combine the three datasets, we can perform a merge operation based on the common key, which is \"tconst\" in both the title basics dataset and the title ratings dataset.\n",
    "\n",
    "We can then merge the resulting DataFrame with the name basics dataset based on the common key \"tconst\", which will be extracted from the \"knownForTitles\" column in name_basics_data. We'll split the comma-separated values in the \"knownForTitles\" column of the name_basics_data dataset and explode them into separate rows. This transformation ensures that each 'tconst' value appears in its own row, facilitating the merge operation.\n",
    "\n",
    "This merge combines information from all three datasets, resulting in a single DataFrame that contains comprehensive information about titles, ratings, and cast/crew members."
   ]
  },
  {
   "cell_type": "markdown",
   "id": "debc6ae1ecaed63",
   "metadata": {
    "ExecuteTime": {
     "end_time": "2024-03-16T21:23:06.898798Z",
     "start_time": "2024-03-16T21:23:06.894494Z"
    },
    "collapsed": false
   },
   "source": [
    "# 5. Getting to know the data"
   ]
  },
  {
   "cell_type": "markdown",
   "id": "1ee3a923",
   "metadata": {},
   "source": [
    "## 5.1 Dataframe 'title_basics_data'"
   ]
  },
  {
   "cell_type": "code",
   "execution_count": 102,
   "id": "117ea1a7",
   "metadata": {},
   "outputs": [
    {
     "data": {
      "text/html": [
       "<div>\n",
       "<style scoped>\n",
       "    .dataframe tbody tr th:only-of-type {\n",
       "        vertical-align: middle;\n",
       "    }\n",
       "\n",
       "    .dataframe tbody tr th {\n",
       "        vertical-align: top;\n",
       "    }\n",
       "\n",
       "    .dataframe thead th {\n",
       "        text-align: right;\n",
       "    }\n",
       "</style>\n",
       "<table border=\"1\" class=\"dataframe\">\n",
       "  <thead>\n",
       "    <tr style=\"text-align: right;\">\n",
       "      <th></th>\n",
       "      <th>tconst</th>\n",
       "      <th>titleType</th>\n",
       "      <th>primaryTitle</th>\n",
       "      <th>originalTitle</th>\n",
       "      <th>isAdult</th>\n",
       "      <th>startYear</th>\n",
       "      <th>endYear</th>\n",
       "      <th>genres</th>\n",
       "    </tr>\n",
       "  </thead>\n",
       "  <tbody>\n",
       "    <tr>\n",
       "      <th>0</th>\n",
       "      <td>tt0000001</td>\n",
       "      <td>short</td>\n",
       "      <td>Carmencita</td>\n",
       "      <td>Carmencita</td>\n",
       "      <td>0</td>\n",
       "      <td>1894</td>\n",
       "      <td>\\N</td>\n",
       "      <td>Documentary,Short</td>\n",
       "    </tr>\n",
       "    <tr>\n",
       "      <th>1</th>\n",
       "      <td>tt0000002</td>\n",
       "      <td>short</td>\n",
       "      <td>Le clown et ses chiens</td>\n",
       "      <td>Le clown et ses chiens</td>\n",
       "      <td>0</td>\n",
       "      <td>1892</td>\n",
       "      <td>\\N</td>\n",
       "      <td>Animation,Short</td>\n",
       "    </tr>\n",
       "    <tr>\n",
       "      <th>2</th>\n",
       "      <td>tt0000003</td>\n",
       "      <td>short</td>\n",
       "      <td>Pauvre Pierrot</td>\n",
       "      <td>Pauvre Pierrot</td>\n",
       "      <td>0</td>\n",
       "      <td>1892</td>\n",
       "      <td>\\N</td>\n",
       "      <td>Animation,Comedy,Romance</td>\n",
       "    </tr>\n",
       "    <tr>\n",
       "      <th>3</th>\n",
       "      <td>tt0000004</td>\n",
       "      <td>short</td>\n",
       "      <td>Un bon bock</td>\n",
       "      <td>Un bon bock</td>\n",
       "      <td>0</td>\n",
       "      <td>1892</td>\n",
       "      <td>\\N</td>\n",
       "      <td>Animation,Short</td>\n",
       "    </tr>\n",
       "    <tr>\n",
       "      <th>4</th>\n",
       "      <td>tt0000005</td>\n",
       "      <td>short</td>\n",
       "      <td>Blacksmith Scene</td>\n",
       "      <td>Blacksmith Scene</td>\n",
       "      <td>0</td>\n",
       "      <td>1893</td>\n",
       "      <td>\\N</td>\n",
       "      <td>Comedy,Short</td>\n",
       "    </tr>\n",
       "  </tbody>\n",
       "</table>\n",
       "</div>"
      ],
      "text/plain": [
       "      tconst titleType            primaryTitle           originalTitle  \\\n",
       "0  tt0000001     short              Carmencita              Carmencita   \n",
       "1  tt0000002     short  Le clown et ses chiens  Le clown et ses chiens   \n",
       "2  tt0000003     short          Pauvre Pierrot          Pauvre Pierrot   \n",
       "3  tt0000004     short             Un bon bock             Un bon bock   \n",
       "4  tt0000005     short        Blacksmith Scene        Blacksmith Scene   \n",
       "\n",
       "   isAdult startYear endYear                    genres  \n",
       "0        0      1894      \\N         Documentary,Short  \n",
       "1        0      1892      \\N           Animation,Short  \n",
       "2        0      1892      \\N  Animation,Comedy,Romance  \n",
       "3        0      1892      \\N           Animation,Short  \n",
       "4        0      1893      \\N              Comedy,Short  "
      ]
     },
     "execution_count": 102,
     "metadata": {},
     "output_type": "execute_result"
    }
   ],
   "source": [
    "imdb_data['title_basics_data'].head()"
   ]
  },
  {
   "cell_type": "markdown",
   "id": "4df8bd1a",
   "metadata": {},
   "source": [
    "### Column 'isAdult'"
   ]
  },
  {
   "cell_type": "code",
   "execution_count": 103,
   "id": "d02ee8f9",
   "metadata": {},
   "outputs": [
    {
     "data": {
      "text/plain": [
       "isAdult\n",
       "0    0.9592\n",
       "1    0.0408\n",
       "Name: proportion, dtype: float64"
      ]
     },
     "execution_count": 103,
     "metadata": {},
     "output_type": "execute_result"
    }
   ],
   "source": [
    "#display(imdb_data['title_basics_data']['isAdult'].value_counts())\n",
    "round(imdb_data['title_basics_data']['isAdult'].value_counts(normalize=True),4)"
   ]
  },
  {
   "cell_type": "markdown",
   "id": "9a61eba1",
   "metadata": {},
   "source": [
    "There are only 4.08% of movies in df 'title_basics_data' classified for only adults."
   ]
  },
  {
   "cell_type": "markdown",
   "id": "4fb964fb",
   "metadata": {},
   "source": [
    "### Columns 'startYear'"
   ]
  },
  {
   "cell_type": "code",
   "execution_count": 104,
   "id": "76bc2850",
   "metadata": {},
   "outputs": [
    {
     "data": {
      "text/plain": [
       "0          1894\n",
       "1          1892\n",
       "2          1892\n",
       "3          1892\n",
       "4          1893\n",
       "           ... \n",
       "1048570    2011\n",
       "1048571    2019\n",
       "1048572    2013\n",
       "1048573    2013\n",
       "1048574    2004\n",
       "Name: startYear, Length: 1048575, dtype: object"
      ]
     },
     "execution_count": 104,
     "metadata": {},
     "output_type": "execute_result"
    }
   ],
   "source": [
    "imdb_data['title_basics_data']['startYear']"
   ]
  },
  {
   "cell_type": "markdown",
   "id": "7553de2f",
   "metadata": {},
   "source": [
    "## 5.2 Dataframe 'title_ratings_data'"
   ]
  },
  {
   "cell_type": "code",
   "execution_count": 105,
   "id": "54aae63f",
   "metadata": {},
   "outputs": [
    {
     "data": {
      "text/html": [
       "<div>\n",
       "<style scoped>\n",
       "    .dataframe tbody tr th:only-of-type {\n",
       "        vertical-align: middle;\n",
       "    }\n",
       "\n",
       "    .dataframe tbody tr th {\n",
       "        vertical-align: top;\n",
       "    }\n",
       "\n",
       "    .dataframe thead th {\n",
       "        text-align: right;\n",
       "    }\n",
       "</style>\n",
       "<table border=\"1\" class=\"dataframe\">\n",
       "  <thead>\n",
       "    <tr style=\"text-align: right;\">\n",
       "      <th></th>\n",
       "      <th>tconst</th>\n",
       "      <th>averageRating</th>\n",
       "      <th>numVotes</th>\n",
       "    </tr>\n",
       "  </thead>\n",
       "  <tbody>\n",
       "    <tr>\n",
       "      <th>0</th>\n",
       "      <td>tt0000001</td>\n",
       "      <td>5.7</td>\n",
       "      <td>2032</td>\n",
       "    </tr>\n",
       "    <tr>\n",
       "      <th>1</th>\n",
       "      <td>tt0000002</td>\n",
       "      <td>5.7</td>\n",
       "      <td>272</td>\n",
       "    </tr>\n",
       "    <tr>\n",
       "      <th>2</th>\n",
       "      <td>tt0000003</td>\n",
       "      <td>6.5</td>\n",
       "      <td>1973</td>\n",
       "    </tr>\n",
       "    <tr>\n",
       "      <th>3</th>\n",
       "      <td>tt0000004</td>\n",
       "      <td>5.4</td>\n",
       "      <td>178</td>\n",
       "    </tr>\n",
       "    <tr>\n",
       "      <th>4</th>\n",
       "      <td>tt0000005</td>\n",
       "      <td>6.2</td>\n",
       "      <td>2731</td>\n",
       "    </tr>\n",
       "  </tbody>\n",
       "</table>\n",
       "</div>"
      ],
      "text/plain": [
       "      tconst  averageRating  numVotes\n",
       "0  tt0000001            5.7      2032\n",
       "1  tt0000002            5.7       272\n",
       "2  tt0000003            6.5      1973\n",
       "3  tt0000004            5.4       178\n",
       "4  tt0000005            6.2      2731"
      ]
     },
     "execution_count": 105,
     "metadata": {},
     "output_type": "execute_result"
    }
   ],
   "source": [
    "imdb_data['title_ratings_data'].head()"
   ]
  },
  {
   "cell_type": "markdown",
   "id": "c1463f9b",
   "metadata": {},
   "source": [
    "### Column 'Average rating'"
   ]
  },
  {
   "cell_type": "code",
   "execution_count": 106,
   "id": "4764ef37",
   "metadata": {},
   "outputs": [
    {
     "data": {
      "text/plain": [
       "count    1,048,575.0\n",
       "mean            6.91\n",
       "std             1.38\n",
       "min              1.0\n",
       "25%              6.2\n",
       "50%              7.1\n",
       "75%              7.8\n",
       "max             10.0\n",
       "Name: averageRating, dtype: object"
      ]
     },
     "execution_count": 106,
     "metadata": {},
     "output_type": "execute_result"
    }
   ],
   "source": [
    "imdb_data['title_ratings_data']['averageRating'].describe().apply(lambda x: format(round(x,2), ','))"
   ]
  },
  {
   "cell_type": "code",
   "execution_count": 107,
   "id": "df34ca90",
   "metadata": {},
   "outputs": [
    {
     "data": {
      "image/png": "[encoded data removed]",
      "text/plain": [
       "<Figure size 640x480 with 1 Axes>"
      ]
     },
     "metadata": {},
     "output_type": "display_data"
    }
   ],
   "source": [
    "imdb_data['title_ratings_data']['averageRating'].plot(kind= 'hist',xlabel= 'Average rating', ylabel = 'Number of movies', title = \"Distribution of movies by 'Average rating'\")\n",
    "plt.show()"
   ]
  },
  {
   "cell_type": "markdown",
   "id": "422d7f59",
   "metadata": {},
   "source": [
    "The distribution of the values of 'Average rating' column is left-skewed. And its median is 7.1."
   ]
  },
  {
   "cell_type": "markdown",
   "id": "4fcfd412",
   "metadata": {},
   "source": [
    "### Column 'Number of votes'"
   ]
  },
  {
   "cell_type": "code",
   "execution_count": 108,
   "id": "0cda7a93",
   "metadata": {},
   "outputs": [
    {
     "data": {
      "text/plain": [
       "count    1,048,575\n",
       "mean         1,153\n",
       "std         19,494\n",
       "min              5\n",
       "25%             12\n",
       "50%             28\n",
       "75%            107\n",
       "max      2,865,377\n",
       "Name: numVotes, dtype: object"
      ]
     },
     "execution_count": 108,
     "metadata": {},
     "output_type": "execute_result"
    }
   ],
   "source": [
    "imdb_data['title_ratings_data']['numVotes'].describe().apply(lambda x: format(int(x), ','))"
   ]
  },
  {
   "cell_type": "markdown",
   "id": "17060517",
   "metadata": {},
   "source": [
    "The number of votes for the 4th quantile of movies is within 107 and 2,865,377 votes."
   ]
  },
  {
   "cell_type": "markdown",
   "id": "51a4592b",
   "metadata": {},
   "source": [
    "## 5.3 Dataframe 'name_basics_data'"
   ]
  },
  {
   "cell_type": "markdown",
   "id": "5dafe13c",
   "metadata": {},
   "source": [
    "### Column 'birthYear'"
   ]
  },
  {
   "cell_type": "code",
   "execution_count": 109,
   "id": "5417c71b",
   "metadata": {},
   "outputs": [
    {
     "data": {
      "image/png": "[encoded data removed]",
      "text/plain": [
       "<Figure size 640x480 with 1 Axes>"
      ]
     },
     "metadata": {},
     "output_type": "display_data"
    }
   ],
   "source": [
    "birthyear=  pd.to_numeric(imdb_data['name_basics_data']['birthYear'], errors='coerce').dropna()\n",
    "plt.hist(birthyear[birthyear>=1900])\n",
    "plt.show()"
   ]
  },
  {
   "cell_type": "markdown",
   "id": "8df75620",
   "metadata": {},
   "source": [
    "The most frequent decades of birth of workers stored in the dataframe are:"
   ]
  },
  {
   "cell_type": "code",
   "execution_count": 110,
   "id": "df37b6fa",
   "metadata": {},
   "outputs": [
    {
     "data": {
      "text/plain": [
       "birthYear\n",
       "1940.0    33640\n",
       "1960.0    32809\n",
       "1950.0    31380\n",
       "1930.0    29051\n",
       "1920.0    28123\n",
       "Name: count, dtype: int64"
      ]
     },
     "execution_count": 110,
     "metadata": {},
     "output_type": "execute_result"
    }
   ],
   "source": [
    "birthyear_decade = (birthyear[birthyear>=1900]//10*10)\n",
    "birthyear_decade.value_counts().head()"
   ]
  },
  {
   "cell_type": "markdown",
   "id": "e17ab236",
   "metadata": {},
   "source": [
    "### Column 'primaryProfession'"
   ]
  },
  {
   "cell_type": "markdown",
   "id": "3e1ca763",
   "metadata": {},
   "source": [
    "The most frequent professions are:"
   ]
  },
  {
   "cell_type": "code",
   "execution_count": 111,
   "id": "027c1cbd",
   "metadata": {},
   "outputs": [
    {
     "data": {
      "text/plain": [
       "actor                353678\n",
       "actress              214971\n",
       "miscellaneous        134326\n",
       "writer               122557\n",
       "producer             116475\n",
       "director              87240\n",
       "camera_department     65885\n",
       "art_department        51083\n",
       "soundtrack            44794\n",
       "sound_department      34284\n",
       "Name: count, dtype: int64"
      ]
     },
     "execution_count": 111,
     "metadata": {},
     "output_type": "execute_result"
    }
   ],
   "source": [
    "proffession = imdb_data['name_basics_data']['primaryProfession'].str.split(',', expand=True).stack().reset_index(drop=True)\n",
    "proffession.value_counts()[:10]"
   ]
  },
  {
   "cell_type": "markdown",
   "id": "05513126",
   "metadata": {},
   "source": [
    "### Column 'name_basics_data'"
   ]
  },
  {
   "cell_type": "code",
   "execution_count": 112,
   "id": "29fc11fe",
   "metadata": {},
   "outputs": [
    {
     "data": {
      "image/png": "[encoded data removed]",
      "text/plain": [
       "<Figure size 640x480 with 1 Axes>"
      ]
     },
     "metadata": {},
     "output_type": "display_data"
    }
   ],
   "source": [
    "birthyear = pd.to_numeric(imdb_data['name_basics_data']['birthYear'], errors= 'coerce').dropna()\n",
    "plt.boxplot(birthyear, vert=False)\n",
    "plt.show()"
   ]
  },
  {
   "cell_type": "markdown",
   "id": "a543d562",
   "metadata": {},
   "source": [
    "# 6. Data preparation"
   ]
  },
  {
   "cell_type": "markdown",
   "id": "95fe2695",
   "metadata": {},
   "source": [
    "## 6.1 Create calculated columns"
   ]
  },
  {
   "cell_type": "markdown",
   "id": "fb1e19d1",
   "metadata": {},
   "source": [
    "### Spliting the key for 'title_basics_data'"
   ]
  },
  {
   "cell_type": "code",
   "execution_count": 116,
   "id": "c67ae228",
   "metadata": {},
   "outputs": [
    {
     "data": {
      "text/html": [
       "<div>\n",
       "<style scoped>\n",
       "    .dataframe tbody tr th:only-of-type {\n",
       "        vertical-align: middle;\n",
       "    }\n",
       "\n",
       "    .dataframe tbody tr th {\n",
       "        vertical-align: top;\n",
       "    }\n",
       "\n",
       "    .dataframe thead th {\n",
       "        text-align: right;\n",
       "    }\n",
       "</style>\n",
       "<table border=\"1\" class=\"dataframe\">\n",
       "  <thead>\n",
       "    <tr style=\"text-align: right;\">\n",
       "      <th></th>\n",
       "      <th>key1</th>\n",
       "      <th>key2</th>\n",
       "      <th>key3</th>\n",
       "    </tr>\n",
       "  </thead>\n",
       "  <tbody>\n",
       "    <tr>\n",
       "      <th>0</th>\n",
       "      <td>Documentary</td>\n",
       "      <td>Short</td>\n",
       "      <td>None</td>\n",
       "    </tr>\n",
       "    <tr>\n",
       "      <th>1</th>\n",
       "      <td>Animation</td>\n",
       "      <td>Short</td>\n",
       "      <td>None</td>\n",
       "    </tr>\n",
       "    <tr>\n",
       "      <th>2</th>\n",
       "      <td>Animation</td>\n",
       "      <td>Comedy</td>\n",
       "      <td>Romance</td>\n",
       "    </tr>\n",
       "    <tr>\n",
       "      <th>3</th>\n",
       "      <td>Animation</td>\n",
       "      <td>Short</td>\n",
       "      <td>None</td>\n",
       "    </tr>\n",
       "    <tr>\n",
       "      <th>4</th>\n",
       "      <td>Comedy</td>\n",
       "      <td>Short</td>\n",
       "      <td>None</td>\n",
       "    </tr>\n",
       "    <tr>\n",
       "      <th>...</th>\n",
       "      <td>...</td>\n",
       "      <td>...</td>\n",
       "      <td>...</td>\n",
       "    </tr>\n",
       "    <tr>\n",
       "      <th>1048570</th>\n",
       "      <td>Drama</td>\n",
       "      <td>None</td>\n",
       "      <td>None</td>\n",
       "    </tr>\n",
       "    <tr>\n",
       "      <th>1048571</th>\n",
       "      <td>Short</td>\n",
       "      <td>None</td>\n",
       "      <td>None</td>\n",
       "    </tr>\n",
       "    <tr>\n",
       "      <th>1048572</th>\n",
       "      <td>Comedy</td>\n",
       "      <td>None</td>\n",
       "      <td>None</td>\n",
       "    </tr>\n",
       "    <tr>\n",
       "      <th>1048573</th>\n",
       "      <td>Comedy</td>\n",
       "      <td>None</td>\n",
       "      <td>None</td>\n",
       "    </tr>\n",
       "    <tr>\n",
       "      <th>1048574</th>\n",
       "      <td>Comedy</td>\n",
       "      <td>None</td>\n",
       "      <td>None</td>\n",
       "    </tr>\n",
       "  </tbody>\n",
       "</table>\n",
       "<p>1048575 rows × 3 columns</p>\n",
       "</div>"
      ],
      "text/plain": [
       "                key1    key2     key3\n",
       "0        Documentary   Short     None\n",
       "1          Animation   Short     None\n",
       "2          Animation  Comedy  Romance\n",
       "3          Animation   Short     None\n",
       "4             Comedy   Short     None\n",
       "...              ...     ...      ...\n",
       "1048570        Drama    None     None\n",
       "1048571        Short    None     None\n",
       "1048572       Comedy    None     None\n",
       "1048573       Comedy    None     None\n",
       "1048574       Comedy    None     None\n",
       "\n",
       "[1048575 rows x 3 columns]"
      ]
     },
     "execution_count": 116,
     "metadata": {},
     "output_type": "execute_result"
    }
   ],
   "source": [
    "df_titles = imdb_data['title_basics_data']\n",
    "key_titles = df_titles['genres'].str.split(',', expand=True)\n",
    "key_titles.columns = ['key1','key2','key3']\n",
    "key_titles"
   ]
  },
  {
   "cell_type": "code",
   "execution_count": 119,
   "id": "85639fbb",
   "metadata": {},
   "outputs": [
    {
     "data": {
      "text/html": [
       "<div>\n",
       "<style scoped>\n",
       "    .dataframe tbody tr th:only-of-type {\n",
       "        vertical-align: middle;\n",
       "    }\n",
       "\n",
       "    .dataframe tbody tr th {\n",
       "        vertical-align: top;\n",
       "    }\n",
       "\n",
       "    .dataframe thead th {\n",
       "        text-align: right;\n",
       "    }\n",
       "</style>\n",
       "<table border=\"1\" class=\"dataframe\">\n",
       "  <thead>\n",
       "    <tr style=\"text-align: right;\">\n",
       "      <th></th>\n",
       "      <th>tconst</th>\n",
       "      <th>titleType</th>\n",
       "      <th>primaryTitle</th>\n",
       "      <th>originalTitle</th>\n",
       "      <th>isAdult</th>\n",
       "      <th>startYear</th>\n",
       "      <th>endYear</th>\n",
       "      <th>genres</th>\n",
       "      <th>key1</th>\n",
       "      <th>key2</th>\n",
       "      <th>key3</th>\n",
       "    </tr>\n",
       "  </thead>\n",
       "  <tbody>\n",
       "    <tr>\n",
       "      <th>0</th>\n",
       "      <td>tt0000001</td>\n",
       "      <td>short</td>\n",
       "      <td>Carmencita</td>\n",
       "      <td>Carmencita</td>\n",
       "      <td>0</td>\n",
       "      <td>1894</td>\n",
       "      <td>\\N</td>\n",
       "      <td>Documentary,Short</td>\n",
       "      <td>Documentary</td>\n",
       "      <td>Short</td>\n",
       "      <td>None</td>\n",
       "    </tr>\n",
       "    <tr>\n",
       "      <th>1</th>\n",
       "      <td>tt0000002</td>\n",
       "      <td>short</td>\n",
       "      <td>Le clown et ses chiens</td>\n",
       "      <td>Le clown et ses chiens</td>\n",
       "      <td>0</td>\n",
       "      <td>1892</td>\n",
       "      <td>\\N</td>\n",
       "      <td>Animation,Short</td>\n",
       "      <td>Animation</td>\n",
       "      <td>Short</td>\n",
       "      <td>None</td>\n",
       "    </tr>\n",
       "    <tr>\n",
       "      <th>2</th>\n",
       "      <td>tt0000003</td>\n",
       "      <td>short</td>\n",
       "      <td>Pauvre Pierrot</td>\n",
       "      <td>Pauvre Pierrot</td>\n",
       "      <td>0</td>\n",
       "      <td>1892</td>\n",
       "      <td>\\N</td>\n",
       "      <td>Animation,Comedy,Romance</td>\n",
       "      <td>Animation</td>\n",
       "      <td>Comedy</td>\n",
       "      <td>Romance</td>\n",
       "    </tr>\n",
       "    <tr>\n",
       "      <th>3</th>\n",
       "      <td>tt0000004</td>\n",
       "      <td>short</td>\n",
       "      <td>Un bon bock</td>\n",
       "      <td>Un bon bock</td>\n",
       "      <td>0</td>\n",
       "      <td>1892</td>\n",
       "      <td>\\N</td>\n",
       "      <td>Animation,Short</td>\n",
       "      <td>Animation</td>\n",
       "      <td>Short</td>\n",
       "      <td>None</td>\n",
       "    </tr>\n",
       "    <tr>\n",
       "      <th>4</th>\n",
       "      <td>tt0000005</td>\n",
       "      <td>short</td>\n",
       "      <td>Blacksmith Scene</td>\n",
       "      <td>Blacksmith Scene</td>\n",
       "      <td>0</td>\n",
       "      <td>1893</td>\n",
       "      <td>\\N</td>\n",
       "      <td>Comedy,Short</td>\n",
       "      <td>Comedy</td>\n",
       "      <td>Short</td>\n",
       "      <td>None</td>\n",
       "    </tr>\n",
       "  </tbody>\n",
       "</table>\n",
       "</div>"
      ],
      "text/plain": [
       "      tconst titleType            primaryTitle           originalTitle  \\\n",
       "0  tt0000001     short              Carmencita              Carmencita   \n",
       "1  tt0000002     short  Le clown et ses chiens  Le clown et ses chiens   \n",
       "2  tt0000003     short          Pauvre Pierrot          Pauvre Pierrot   \n",
       "3  tt0000004     short             Un bon bock             Un bon bock   \n",
       "4  tt0000005     short        Blacksmith Scene        Blacksmith Scene   \n",
       "\n",
       "   isAdult startYear endYear                    genres         key1    key2  \\\n",
       "0        0      1894      \\N         Documentary,Short  Documentary   Short   \n",
       "1        0      1892      \\N           Animation,Short    Animation   Short   \n",
       "2        0      1892      \\N  Animation,Comedy,Romance    Animation  Comedy   \n",
       "3        0      1892      \\N           Animation,Short    Animation   Short   \n",
       "4        0      1893      \\N              Comedy,Short       Comedy   Short   \n",
       "\n",
       "      key3  \n",
       "0     None  \n",
       "1     None  \n",
       "2  Romance  \n",
       "3     None  \n",
       "4     None  "
      ]
     },
     "execution_count": 119,
     "metadata": {},
     "output_type": "execute_result"
    }
   ],
   "source": [
    "df_titles = pd.concat([df_titles,key_titles],axis=1)\n",
    "df_titles.head()"
   ]
  },
  {
   "cell_type": "markdown",
   "id": "b52f80f1",
   "metadata": {},
   "source": [
    "### Calculating decade of the movie"
   ]
  },
  {
   "cell_type": "code",
   "execution_count": 127,
   "id": "906785d2",
   "metadata": {},
   "outputs": [
    {
     "data": {
      "text/html": [
       "<div>\n",
       "<style scoped>\n",
       "    .dataframe tbody tr th:only-of-type {\n",
       "        vertical-align: middle;\n",
       "    }\n",
       "\n",
       "    .dataframe tbody tr th {\n",
       "        vertical-align: top;\n",
       "    }\n",
       "\n",
       "    .dataframe thead th {\n",
       "        text-align: right;\n",
       "    }\n",
       "</style>\n",
       "<table border=\"1\" class=\"dataframe\">\n",
       "  <thead>\n",
       "    <tr style=\"text-align: right;\">\n",
       "      <th></th>\n",
       "      <th>tconst</th>\n",
       "      <th>titleType</th>\n",
       "      <th>primaryTitle</th>\n",
       "      <th>originalTitle</th>\n",
       "      <th>isAdult</th>\n",
       "      <th>startYear</th>\n",
       "      <th>endYear</th>\n",
       "      <th>genres</th>\n",
       "      <th>key1</th>\n",
       "      <th>key2</th>\n",
       "      <th>key3</th>\n",
       "      <th>startDecade</th>\n",
       "    </tr>\n",
       "  </thead>\n",
       "  <tbody>\n",
       "    <tr>\n",
       "      <th>0</th>\n",
       "      <td>tt0000001</td>\n",
       "      <td>short</td>\n",
       "      <td>Carmencita</td>\n",
       "      <td>Carmencita</td>\n",
       "      <td>0</td>\n",
       "      <td>1894</td>\n",
       "      <td>\\N</td>\n",
       "      <td>Documentary,Short</td>\n",
       "      <td>Documentary</td>\n",
       "      <td>Short</td>\n",
       "      <td>None</td>\n",
       "      <td>1894</td>\n",
       "    </tr>\n",
       "    <tr>\n",
       "      <th>1</th>\n",
       "      <td>tt0000002</td>\n",
       "      <td>short</td>\n",
       "      <td>Le clown et ses chiens</td>\n",
       "      <td>Le clown et ses chiens</td>\n",
       "      <td>0</td>\n",
       "      <td>1892</td>\n",
       "      <td>\\N</td>\n",
       "      <td>Animation,Short</td>\n",
       "      <td>Animation</td>\n",
       "      <td>Short</td>\n",
       "      <td>None</td>\n",
       "      <td>1892</td>\n",
       "    </tr>\n",
       "    <tr>\n",
       "      <th>2</th>\n",
       "      <td>tt0000003</td>\n",
       "      <td>short</td>\n",
       "      <td>Pauvre Pierrot</td>\n",
       "      <td>Pauvre Pierrot</td>\n",
       "      <td>0</td>\n",
       "      <td>1892</td>\n",
       "      <td>\\N</td>\n",
       "      <td>Animation,Comedy,Romance</td>\n",
       "      <td>Animation</td>\n",
       "      <td>Comedy</td>\n",
       "      <td>Romance</td>\n",
       "      <td>1892</td>\n",
       "    </tr>\n",
       "    <tr>\n",
       "      <th>3</th>\n",
       "      <td>tt0000004</td>\n",
       "      <td>short</td>\n",
       "      <td>Un bon bock</td>\n",
       "      <td>Un bon bock</td>\n",
       "      <td>0</td>\n",
       "      <td>1892</td>\n",
       "      <td>\\N</td>\n",
       "      <td>Animation,Short</td>\n",
       "      <td>Animation</td>\n",
       "      <td>Short</td>\n",
       "      <td>None</td>\n",
       "      <td>1892</td>\n",
       "    </tr>\n",
       "    <tr>\n",
       "      <th>4</th>\n",
       "      <td>tt0000005</td>\n",
       "      <td>short</td>\n",
       "      <td>Blacksmith Scene</td>\n",
       "      <td>Blacksmith Scene</td>\n",
       "      <td>0</td>\n",
       "      <td>1893</td>\n",
       "      <td>\\N</td>\n",
       "      <td>Comedy,Short</td>\n",
       "      <td>Comedy</td>\n",
       "      <td>Short</td>\n",
       "      <td>None</td>\n",
       "      <td>1893</td>\n",
       "    </tr>\n",
       "    <tr>\n",
       "      <th>...</th>\n",
       "      <td>...</td>\n",
       "      <td>...</td>\n",
       "      <td>...</td>\n",
       "      <td>...</td>\n",
       "      <td>...</td>\n",
       "      <td>...</td>\n",
       "      <td>...</td>\n",
       "      <td>...</td>\n",
       "      <td>...</td>\n",
       "      <td>...</td>\n",
       "      <td>...</td>\n",
       "      <td>...</td>\n",
       "    </tr>\n",
       "    <tr>\n",
       "      <th>1048570</th>\n",
       "      <td>tt10146152</td>\n",
       "      <td>tvEpisode</td>\n",
       "      <td>Episode #1.200</td>\n",
       "      <td>Episode #1.200</td>\n",
       "      <td>0</td>\n",
       "      <td>2011</td>\n",
       "      <td>\\N</td>\n",
       "      <td>Drama</td>\n",
       "      <td>Drama</td>\n",
       "      <td>None</td>\n",
       "      <td>None</td>\n",
       "      <td>2011</td>\n",
       "    </tr>\n",
       "    <tr>\n",
       "      <th>1048571</th>\n",
       "      <td>tt10146154</td>\n",
       "      <td>short</td>\n",
       "      <td>The Cube</td>\n",
       "      <td>The Cube</td>\n",
       "      <td>0</td>\n",
       "      <td>2019</td>\n",
       "      <td>\\N</td>\n",
       "      <td>Short</td>\n",
       "      <td>Short</td>\n",
       "      <td>None</td>\n",
       "      <td>None</td>\n",
       "      <td>2019</td>\n",
       "    </tr>\n",
       "    <tr>\n",
       "      <th>1048572</th>\n",
       "      <td>tt10146156</td>\n",
       "      <td>tvEpisode</td>\n",
       "      <td>Beanyx - První kompilace</td>\n",
       "      <td>Beanyx - První kompilace</td>\n",
       "      <td>0</td>\n",
       "      <td>2013</td>\n",
       "      <td>\\N</td>\n",
       "      <td>Comedy</td>\n",
       "      <td>Comedy</td>\n",
       "      <td>None</td>\n",
       "      <td>None</td>\n",
       "      <td>2013</td>\n",
       "    </tr>\n",
       "    <tr>\n",
       "      <th>1048573</th>\n",
       "      <td>tt10146158</td>\n",
       "      <td>tvEpisode</td>\n",
       "      <td>Beanyx - Kdo mi sezral susenky!?</td>\n",
       "      <td>Beanyx - Kdo mi sezral susenky!?</td>\n",
       "      <td>0</td>\n",
       "      <td>2013</td>\n",
       "      <td>\\N</td>\n",
       "      <td>Comedy</td>\n",
       "      <td>Comedy</td>\n",
       "      <td>None</td>\n",
       "      <td>None</td>\n",
       "      <td>2013</td>\n",
       "    </tr>\n",
       "    <tr>\n",
       "      <th>1048574</th>\n",
       "      <td>tt1014615</td>\n",
       "      <td>tvEpisode</td>\n",
       "      <td>Ataulfo</td>\n",
       "      <td>Ataulfo</td>\n",
       "      <td>0</td>\n",
       "      <td>2004</td>\n",
       "      <td>\\N</td>\n",
       "      <td>Comedy</td>\n",
       "      <td>Comedy</td>\n",
       "      <td>None</td>\n",
       "      <td>None</td>\n",
       "      <td>2004</td>\n",
       "    </tr>\n",
       "  </tbody>\n",
       "</table>\n",
       "<p>1048575 rows × 12 columns</p>\n",
       "</div>"
      ],
      "text/plain": [
       "             tconst  titleType                      primaryTitle  \\\n",
       "0         tt0000001      short                        Carmencita   \n",
       "1         tt0000002      short            Le clown et ses chiens   \n",
       "2         tt0000003      short                    Pauvre Pierrot   \n",
       "3         tt0000004      short                       Un bon bock   \n",
       "4         tt0000005      short                  Blacksmith Scene   \n",
       "...             ...        ...                               ...   \n",
       "1048570  tt10146152  tvEpisode                    Episode #1.200   \n",
       "1048571  tt10146154      short                          The Cube   \n",
       "1048572  tt10146156  tvEpisode          Beanyx - První kompilace   \n",
       "1048573  tt10146158  tvEpisode  Beanyx - Kdo mi sezral susenky!?   \n",
       "1048574   tt1014615  tvEpisode                           Ataulfo   \n",
       "\n",
       "                            originalTitle  isAdult startYear endYear  \\\n",
       "0                              Carmencita        0      1894      \\N   \n",
       "1                  Le clown et ses chiens        0      1892      \\N   \n",
       "2                          Pauvre Pierrot        0      1892      \\N   \n",
       "3                             Un bon bock        0      1892      \\N   \n",
       "4                        Blacksmith Scene        0      1893      \\N   \n",
       "...                                   ...      ...       ...     ...   \n",
       "1048570                    Episode #1.200        0      2011      \\N   \n",
       "1048571                          The Cube        0      2019      \\N   \n",
       "1048572          Beanyx - První kompilace        0      2013      \\N   \n",
       "1048573  Beanyx - Kdo mi sezral susenky!?        0      2013      \\N   \n",
       "1048574                           Ataulfo        0      2004      \\N   \n",
       "\n",
       "                           genres         key1    key2     key3  startDecade  \n",
       "0               Documentary,Short  Documentary   Short     None         1894  \n",
       "1                 Animation,Short    Animation   Short     None         1892  \n",
       "2        Animation,Comedy,Romance    Animation  Comedy  Romance         1892  \n",
       "3                 Animation,Short    Animation   Short     None         1892  \n",
       "4                    Comedy,Short       Comedy   Short     None         1893  \n",
       "...                           ...          ...     ...      ...          ...  \n",
       "1048570                     Drama        Drama    None     None         2011  \n",
       "1048571                     Short        Short    None     None         2019  \n",
       "1048572                    Comedy       Comedy    None     None         2013  \n",
       "1048573                    Comedy       Comedy    None     None         2013  \n",
       "1048574                    Comedy       Comedy    None     None         2004  \n",
       "\n",
       "[1048575 rows x 12 columns]"
      ]
     },
     "execution_count": 127,
     "metadata": {},
     "output_type": "execute_result"
    }
   ],
   "source": [
    "decades =  pd.to_numeric(df_titles['startYear'], errors = 'coerce')\n",
    "decades = decades.apply(lambda x: int(x) if pd.notna(x) else 0)\n",
    "df_titles['startDecade'] = decades\n",
    "df_titles\n"
   ]
  },
  {
   "cell_type": "markdown",
   "id": "5dd7b41c",
   "metadata": {},
   "source": [
    "### Spliting the key for 'name_basics_data'"
   ]
  },
  {
   "cell_type": "code",
   "execution_count": 117,
   "id": "5cf634bf",
   "metadata": {},
   "outputs": [
    {
     "data": {
      "text/html": [
       "<div>\n",
       "<style scoped>\n",
       "    .dataframe tbody tr th:only-of-type {\n",
       "        vertical-align: middle;\n",
       "    }\n",
       "\n",
       "    .dataframe tbody tr th {\n",
       "        vertical-align: top;\n",
       "    }\n",
       "\n",
       "    .dataframe thead th {\n",
       "        text-align: right;\n",
       "    }\n",
       "</style>\n",
       "<table border=\"1\" class=\"dataframe\">\n",
       "  <thead>\n",
       "    <tr style=\"text-align: right;\">\n",
       "      <th></th>\n",
       "      <th>key1</th>\n",
       "      <th>key2</th>\n",
       "      <th>key3</th>\n",
       "      <th>key4</th>\n",
       "      <th>key5</th>\n",
       "      <th>key6</th>\n",
       "      <th>key7</th>\n",
       "    </tr>\n",
       "  </thead>\n",
       "  <tbody>\n",
       "    <tr>\n",
       "      <th>0</th>\n",
       "      <td>tt0027125</td>\n",
       "      <td>tt0050419</td>\n",
       "      <td>tt0053137</td>\n",
       "      <td>tt0072308</td>\n",
       "      <td>None</td>\n",
       "      <td>None</td>\n",
       "      <td>None</td>\n",
       "    </tr>\n",
       "    <tr>\n",
       "      <th>1</th>\n",
       "      <td>tt0038355</td>\n",
       "      <td>tt0037382</td>\n",
       "      <td>tt0075213</td>\n",
       "      <td>tt0117057</td>\n",
       "      <td>None</td>\n",
       "      <td>None</td>\n",
       "      <td>None</td>\n",
       "    </tr>\n",
       "    <tr>\n",
       "      <th>2</th>\n",
       "      <td>tt0049189</td>\n",
       "      <td>tt0054452</td>\n",
       "      <td>tt0056404</td>\n",
       "      <td>tt0057345</td>\n",
       "      <td>None</td>\n",
       "      <td>None</td>\n",
       "      <td>None</td>\n",
       "    </tr>\n",
       "    <tr>\n",
       "      <th>3</th>\n",
       "      <td>tt0078723</td>\n",
       "      <td>tt0080455</td>\n",
       "      <td>tt0072562</td>\n",
       "      <td>tt0077975</td>\n",
       "      <td>None</td>\n",
       "      <td>None</td>\n",
       "      <td>None</td>\n",
       "    </tr>\n",
       "    <tr>\n",
       "      <th>4</th>\n",
       "      <td>tt0083922</td>\n",
       "      <td>tt0069467</td>\n",
       "      <td>tt0050976</td>\n",
       "      <td>tt0050986</td>\n",
       "      <td>None</td>\n",
       "      <td>None</td>\n",
       "      <td>None</td>\n",
       "    </tr>\n",
       "    <tr>\n",
       "      <th>...</th>\n",
       "      <td>...</td>\n",
       "      <td>...</td>\n",
       "      <td>...</td>\n",
       "      <td>...</td>\n",
       "      <td>...</td>\n",
       "      <td>...</td>\n",
       "      <td>...</td>\n",
       "    </tr>\n",
       "    <tr>\n",
       "      <th>1048570</th>\n",
       "      <td>tt9028956</td>\n",
       "      <td>None</td>\n",
       "      <td>None</td>\n",
       "      <td>None</td>\n",
       "      <td>None</td>\n",
       "      <td>None</td>\n",
       "      <td>None</td>\n",
       "    </tr>\n",
       "    <tr>\n",
       "      <th>1048571</th>\n",
       "      <td>tt9013146</td>\n",
       "      <td>tt9490002</td>\n",
       "      <td>None</td>\n",
       "      <td>None</td>\n",
       "      <td>None</td>\n",
       "      <td>None</td>\n",
       "      <td>None</td>\n",
       "    </tr>\n",
       "    <tr>\n",
       "      <th>1048572</th>\n",
       "      <td>tt4368588</td>\n",
       "      <td>None</td>\n",
       "      <td>None</td>\n",
       "      <td>None</td>\n",
       "      <td>None</td>\n",
       "      <td>None</td>\n",
       "      <td>None</td>\n",
       "    </tr>\n",
       "    <tr>\n",
       "      <th>1048573</th>\n",
       "      <td>\\N</td>\n",
       "      <td>None</td>\n",
       "      <td>None</td>\n",
       "      <td>None</td>\n",
       "      <td>None</td>\n",
       "      <td>None</td>\n",
       "      <td>None</td>\n",
       "    </tr>\n",
       "    <tr>\n",
       "      <th>1048574</th>\n",
       "      <td>\\N</td>\n",
       "      <td>None</td>\n",
       "      <td>None</td>\n",
       "      <td>None</td>\n",
       "      <td>None</td>\n",
       "      <td>None</td>\n",
       "      <td>None</td>\n",
       "    </tr>\n",
       "  </tbody>\n",
       "</table>\n",
       "<p>1048575 rows × 7 columns</p>\n",
       "</div>"
      ],
      "text/plain": [
       "              key1       key2       key3       key4  key5  key6  key7\n",
       "0        tt0027125  tt0050419  tt0053137  tt0072308  None  None  None\n",
       "1        tt0038355  tt0037382  tt0075213  tt0117057  None  None  None\n",
       "2        tt0049189  tt0054452  tt0056404  tt0057345  None  None  None\n",
       "3        tt0078723  tt0080455  tt0072562  tt0077975  None  None  None\n",
       "4        tt0083922  tt0069467  tt0050976  tt0050986  None  None  None\n",
       "...            ...        ...        ...        ...   ...   ...   ...\n",
       "1048570  tt9028956       None       None       None  None  None  None\n",
       "1048571  tt9013146  tt9490002       None       None  None  None  None\n",
       "1048572  tt4368588       None       None       None  None  None  None\n",
       "1048573         \\N       None       None       None  None  None  None\n",
       "1048574         \\N       None       None       None  None  None  None\n",
       "\n",
       "[1048575 rows x 7 columns]"
      ]
     },
     "execution_count": 117,
     "metadata": {},
     "output_type": "execute_result"
    }
   ],
   "source": [
    "df_names = imdb_data['name_basics_data']\n",
    "key_names = df_names['knownForTitles'].str.split(',', expand=True)\n",
    "key_names.columns = ['key1','key2','key3','key4','key5','key6','key7']\n",
    "key_names"
   ]
  },
  {
   "cell_type": "code",
   "execution_count": 118,
   "id": "fb67a6dc",
   "metadata": {},
   "outputs": [
    {
     "data": {
      "text/html": [
       "<div>\n",
       "<style scoped>\n",
       "    .dataframe tbody tr th:only-of-type {\n",
       "        vertical-align: middle;\n",
       "    }\n",
       "\n",
       "    .dataframe tbody tr th {\n",
       "        vertical-align: top;\n",
       "    }\n",
       "\n",
       "    .dataframe thead th {\n",
       "        text-align: right;\n",
       "    }\n",
       "</style>\n",
       "<table border=\"1\" class=\"dataframe\">\n",
       "  <thead>\n",
       "    <tr style=\"text-align: right;\">\n",
       "      <th></th>\n",
       "      <th>nconst</th>\n",
       "      <th>primaryName</th>\n",
       "      <th>birthYear</th>\n",
       "      <th>deathYear</th>\n",
       "      <th>primaryProfession</th>\n",
       "      <th>knownForTitles</th>\n",
       "      <th>key1</th>\n",
       "      <th>key2</th>\n",
       "      <th>key3</th>\n",
       "      <th>key4</th>\n",
       "      <th>key5</th>\n",
       "      <th>key6</th>\n",
       "      <th>key7</th>\n",
       "    </tr>\n",
       "  </thead>\n",
       "  <tbody>\n",
       "    <tr>\n",
       "      <th>0</th>\n",
       "      <td>nm0000001</td>\n",
       "      <td>Fred Astaire</td>\n",
       "      <td>1899</td>\n",
       "      <td>1987</td>\n",
       "      <td>soundtrack,actor,miscellaneous</td>\n",
       "      <td>tt0027125,tt0050419,tt0053137,tt0072308</td>\n",
       "      <td>tt0027125</td>\n",
       "      <td>tt0050419</td>\n",
       "      <td>tt0053137</td>\n",
       "      <td>tt0072308</td>\n",
       "      <td>None</td>\n",
       "      <td>None</td>\n",
       "      <td>None</td>\n",
       "    </tr>\n",
       "    <tr>\n",
       "      <th>1</th>\n",
       "      <td>nm0000002</td>\n",
       "      <td>Lauren Bacall</td>\n",
       "      <td>1924</td>\n",
       "      <td>2014</td>\n",
       "      <td>actress,soundtrack</td>\n",
       "      <td>tt0038355,tt0037382,tt0075213,tt0117057</td>\n",
       "      <td>tt0038355</td>\n",
       "      <td>tt0037382</td>\n",
       "      <td>tt0075213</td>\n",
       "      <td>tt0117057</td>\n",
       "      <td>None</td>\n",
       "      <td>None</td>\n",
       "      <td>None</td>\n",
       "    </tr>\n",
       "    <tr>\n",
       "      <th>2</th>\n",
       "      <td>nm0000003</td>\n",
       "      <td>Brigitte Bardot</td>\n",
       "      <td>1934</td>\n",
       "      <td>\\N</td>\n",
       "      <td>actress,soundtrack,music_department</td>\n",
       "      <td>tt0049189,tt0054452,tt0056404,tt0057345</td>\n",
       "      <td>tt0049189</td>\n",
       "      <td>tt0054452</td>\n",
       "      <td>tt0056404</td>\n",
       "      <td>tt0057345</td>\n",
       "      <td>None</td>\n",
       "      <td>None</td>\n",
       "      <td>None</td>\n",
       "    </tr>\n",
       "    <tr>\n",
       "      <th>3</th>\n",
       "      <td>nm0000004</td>\n",
       "      <td>John Belushi</td>\n",
       "      <td>1949</td>\n",
       "      <td>1982</td>\n",
       "      <td>actor,soundtrack,writer</td>\n",
       "      <td>tt0078723,tt0080455,tt0072562,tt0077975</td>\n",
       "      <td>tt0078723</td>\n",
       "      <td>tt0080455</td>\n",
       "      <td>tt0072562</td>\n",
       "      <td>tt0077975</td>\n",
       "      <td>None</td>\n",
       "      <td>None</td>\n",
       "      <td>None</td>\n",
       "    </tr>\n",
       "    <tr>\n",
       "      <th>4</th>\n",
       "      <td>nm0000005</td>\n",
       "      <td>Ingmar Bergman</td>\n",
       "      <td>1918</td>\n",
       "      <td>2007</td>\n",
       "      <td>writer,director,actor</td>\n",
       "      <td>tt0083922,tt0069467,tt0050976,tt0050986</td>\n",
       "      <td>tt0083922</td>\n",
       "      <td>tt0069467</td>\n",
       "      <td>tt0050976</td>\n",
       "      <td>tt0050986</td>\n",
       "      <td>None</td>\n",
       "      <td>None</td>\n",
       "      <td>None</td>\n",
       "    </tr>\n",
       "  </tbody>\n",
       "</table>\n",
       "</div>"
      ],
      "text/plain": [
       "      nconst      primaryName birthYear deathYear  \\\n",
       "0  nm0000001     Fred Astaire      1899      1987   \n",
       "1  nm0000002    Lauren Bacall      1924      2014   \n",
       "2  nm0000003  Brigitte Bardot      1934        \\N   \n",
       "3  nm0000004     John Belushi      1949      1982   \n",
       "4  nm0000005   Ingmar Bergman      1918      2007   \n",
       "\n",
       "                     primaryProfession  \\\n",
       "0       soundtrack,actor,miscellaneous   \n",
       "1                   actress,soundtrack   \n",
       "2  actress,soundtrack,music_department   \n",
       "3              actor,soundtrack,writer   \n",
       "4                writer,director,actor   \n",
       "\n",
       "                            knownForTitles       key1       key2       key3  \\\n",
       "0  tt0027125,tt0050419,tt0053137,tt0072308  tt0027125  tt0050419  tt0053137   \n",
       "1  tt0038355,tt0037382,tt0075213,tt0117057  tt0038355  tt0037382  tt0075213   \n",
       "2  tt0049189,tt0054452,tt0056404,tt0057345  tt0049189  tt0054452  tt0056404   \n",
       "3  tt0078723,tt0080455,tt0072562,tt0077975  tt0078723  tt0080455  tt0072562   \n",
       "4  tt0083922,tt0069467,tt0050976,tt0050986  tt0083922  tt0069467  tt0050976   \n",
       "\n",
       "        key4  key5  key6  key7  \n",
       "0  tt0072308  None  None  None  \n",
       "1  tt0117057  None  None  None  \n",
       "2  tt0057345  None  None  None  \n",
       "3  tt0077975  None  None  None  \n",
       "4  tt0050986  None  None  None  "
      ]
     },
     "execution_count": 118,
     "metadata": {},
     "output_type": "execute_result"
    }
   ],
   "source": [
    "df_names = pd.concat([df_names,key_names],axis=1)\n",
    "df_names.head()"
   ]
  },
  {
   "cell_type": "markdown",
   "id": "9773b8ad",
   "metadata": {},
   "source": [
    "# 7. Combine the datasets"
   ]
  },
  {
   "cell_type": "markdown",
   "id": "1751b58f",
   "metadata": {},
   "source": [
    "## Top 10 rated movies (based on ratings then # of votes)"
   ]
  },
  {
   "cell_type": "markdown",
   "id": "f768ff62",
   "metadata": {},
   "source": [
    "## Top 10 actors (by most movies with highest ratings)"
   ]
  },
  {
   "cell_type": "markdown",
   "id": "00a31214",
   "metadata": {},
   "source": [
    "## Top 10 movies by decades"
   ]
  },
  {
   "cell_type": "markdown",
   "id": "fba8e6bd",
   "metadata": {},
   "source": [
    "## Top genres overall and by decades"
   ]
  }
 ],
 "metadata": {
  "kernelspec": {
   "display_name": "Python 3",
   "language": "python",
   "name": "python3"
  },
  "language_info": {
   "codemirror_mode": {
    "name": "ipython",
    "version": 3
   },
   "file_extension": ".py",
   "mimetype": "text/x-python",
   "name": "python",
   "nbconvert_exporter": "python",
   "pygments_lexer": "ipython3",
   "version": "3.11.4"
  }
 },
 "nbformat": 4,
 "nbformat_minor": 5
}
