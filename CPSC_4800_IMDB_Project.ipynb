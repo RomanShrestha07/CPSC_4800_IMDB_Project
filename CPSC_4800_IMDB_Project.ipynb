{
 "cells": [
  {
   "cell_type": "markdown",
   "id": "f1c82f5b8f564572",
   "metadata": {
    "collapsed": false
   },
   "source": [
    "# TABLE OF CONTENTS"
   ]
  },
  {
   "cell_type": "markdown",
   "id": "c40fb3c23b777608",
   "metadata": {
    "collapsed": false
   },
   "source": [
    "## 1. PROBLEM DESCRIPTION"
   ]
  },
  {
   "cell_type": "markdown",
   "id": "e3480de8862f3dab",
   "metadata": {
    "collapsed": false
   },
   "source": [
    "In our Python group project revolving around IMDb Non-Commercial Datasets, we delve into a similar journey of data exploration and utilization. Our project centers around accessing subsets of IMDb data, tailored for personal and non-commercial use by customers. The dataset repository offers various subsets of IMDb data, each meticulously crafted and structured to facilitate analysis and exploration. Our objective is to harness these datasets to extract valuable insights and trends within the realm of IMDb content. The project encompasses a myriad of datasets, each offering unique perspectives and facets of IMDb content, ranging from title details to cast and crew information, and user ratings. With each dataset encapsulating valuable information, our aim is to unravel the intricacies of IMDb content and unveil noteworthy patterns and trends within the realm of entertainment."
   ]
  },
  {
   "cell_type": "markdown",
   "id": "1746b23a255471c2",
   "metadata": {
    "collapsed": false
   },
   "source": [
    "## 2. THE DATA"
   ]
  },
  {
   "cell_type": "markdown",
   "id": "30b2dbaea3c2af1f",
   "metadata": {
    "collapsed": false
   },
   "source": [
    "IMDb, short for Internet Movie Database, is a comprehensive online database that was launched in 1990 and has been a subsidiary of Amazon.com since 1998. It stands as the most popular and authoritative source for movie, TV, and celebrity content, providing a platform for fans to explore the world of entertainment and make informed decisions about what to watch.\n",
    "\n",
    "The database boasts millions of entries, including movies, TV shows, entertainment programs, and information about cast and crew members.\n",
    "\n",
    "Data Location:\n",
    "\n",
    "The dataset files are available for download from https://datasets.imdbws.com/. The data is updated daily to ensure relevance and accuracy."
   ]
  },
  {
   "cell_type": "markdown",
   "id": "5e272c3bf27f86d5",
   "metadata": {
    "collapsed": false
   },
   "source": [
    "Main datasets:\n",
    "\n",
    "1. title.basics.tsv\n",
    "\n",
    "* tconst (string) - alphanumeric unique identifier of the title\n",
    "* titleType (string) – the type/format of the title (e.g. movie, short, tvseries, tvepisode, video, etc.)\n",
    "* primaryTitle (string) – the more popular title / the title used by the filmmakers on promotional materials at the point of release\n",
    "* originalTitle (string) - original title, in the original language\n",
    "* isAdult (boolean) - 0: non-adult title; 1: adult title\n",
    "* startYear (YYYY) – represents the release year of a title. In the case of TV Series, it is the series start year\n",
    "* endYear (YYYY) – TV Series end year. ‘\\N’ for all other title types\n",
    "* runtimeMinutes – primary runtime of the title, in minutes\n",
    "* genres (string array) – includes up to three genres associated with the title\n",
    "\n",
    "2. title.ratings.tsv\n",
    "* tconst (string): Alphanumeric unique identifier of the title.\n",
    "* averageRating: Weighted average of all individual user ratings for the title.\n",
    "* numVotes: Number of votes the title has received.\n",
    "\n",
    "3. name.basics.tsv\n",
    "* nconst (string): Alphanumeric unique identifier of the name/person.\n",
    "* primaryName: Name by which the person is most often credited.\n",
    "* birthYear: Year of birth in YYYY format.\n",
    "* deathYear: Year of death in YYYY format if applicable; otherwise '\\N'.\n",
    "* primaryProfession (array of strings): Top-3 professions of the person.\n",
    "* knownForTitles (array of tconsts): Titles the person is known for."
   ]
  },
  {
   "cell_type": "code",
   "execution_count": 322,
   "id": "29df1f251db6ed36",
   "metadata": {
    "collapsed": false,
    "ExecuteTime": {
     "end_time": "2024-03-27T06:08:02.887423Z",
     "start_time": "2024-03-27T06:08:02.882083Z"
    }
   },
   "outputs": [],
   "source": [
    "import pandas as pd\n",
    "import numpy as np\n",
    "import matplotlib.pyplot as plt\n",
    "import seaborn as sns\n",
    "\n",
    "%matplotlib inline"
   ]
  },
  {
   "cell_type": "code",
   "execution_count": 323,
   "id": "ca057b0ea458fef",
   "metadata": {
    "collapsed": false,
    "ExecuteTime": {
     "end_time": "2024-03-27T06:08:05.999830Z",
     "start_time": "2024-03-27T06:08:03.714662Z"
    }
   },
   "outputs": [
    {
     "data": {
      "text/plain": "      tconst titleType            primaryTitle           originalTitle  \\\n0  tt0000001     short              Carmencita              Carmencita   \n1  tt0000002     short  Le clown et ses chiens  Le clown et ses chiens   \n2  tt0000003     short          Pauvre Pierrot          Pauvre Pierrot   \n3  tt0000004     short             Un bon bock             Un bon bock   \n4  tt0000005     short        Blacksmith Scene        Blacksmith Scene   \n\n   isAdult startYear endYear runtimeMinutes                    genres  \n0        0      1894      \\N              1         Documentary,Short  \n1        0      1892      \\N              5           Animation,Short  \n2        0      1892      \\N              4  Animation,Comedy,Romance  \n3        0      1892      \\N             12           Animation,Short  \n4        0      1893      \\N              1              Comedy,Short  ",
      "text/html": "<div>\n<style scoped>\n    .dataframe tbody tr th:only-of-type {\n        vertical-align: middle;\n    }\n\n    .dataframe tbody tr th {\n        vertical-align: top;\n    }\n\n    .dataframe thead th {\n        text-align: right;\n    }\n</style>\n<table border=\"1\" class=\"dataframe\">\n  <thead>\n    <tr style=\"text-align: right;\">\n      <th></th>\n      <th>tconst</th>\n      <th>titleType</th>\n      <th>primaryTitle</th>\n      <th>originalTitle</th>\n      <th>isAdult</th>\n      <th>startYear</th>\n      <th>endYear</th>\n      <th>runtimeMinutes</th>\n      <th>genres</th>\n    </tr>\n  </thead>\n  <tbody>\n    <tr>\n      <th>0</th>\n      <td>tt0000001</td>\n      <td>short</td>\n      <td>Carmencita</td>\n      <td>Carmencita</td>\n      <td>0</td>\n      <td>1894</td>\n      <td>\\N</td>\n      <td>1</td>\n      <td>Documentary,Short</td>\n    </tr>\n    <tr>\n      <th>1</th>\n      <td>tt0000002</td>\n      <td>short</td>\n      <td>Le clown et ses chiens</td>\n      <td>Le clown et ses chiens</td>\n      <td>0</td>\n      <td>1892</td>\n      <td>\\N</td>\n      <td>5</td>\n      <td>Animation,Short</td>\n    </tr>\n    <tr>\n      <th>2</th>\n      <td>tt0000003</td>\n      <td>short</td>\n      <td>Pauvre Pierrot</td>\n      <td>Pauvre Pierrot</td>\n      <td>0</td>\n      <td>1892</td>\n      <td>\\N</td>\n      <td>4</td>\n      <td>Animation,Comedy,Romance</td>\n    </tr>\n    <tr>\n      <th>3</th>\n      <td>tt0000004</td>\n      <td>short</td>\n      <td>Un bon bock</td>\n      <td>Un bon bock</td>\n      <td>0</td>\n      <td>1892</td>\n      <td>\\N</td>\n      <td>12</td>\n      <td>Animation,Short</td>\n    </tr>\n    <tr>\n      <th>4</th>\n      <td>tt0000005</td>\n      <td>short</td>\n      <td>Blacksmith Scene</td>\n      <td>Blacksmith Scene</td>\n      <td>0</td>\n      <td>1893</td>\n      <td>\\N</td>\n      <td>1</td>\n      <td>Comedy,Short</td>\n    </tr>\n  </tbody>\n</table>\n</div>"
     },
     "execution_count": 323,
     "metadata": {},
     "output_type": "execute_result"
    }
   ],
   "source": [
    "# Reading the dataset \"title_basics\"\n",
    "\n",
    "title_basics_data = pd.read_csv('data/title_basics_data.tsv', sep='\\t')\n",
    "\n",
    "title_basics_data.head()"
   ]
  },
  {
   "cell_type": "code",
   "execution_count": 324,
   "id": "10ac42bb8af055",
   "metadata": {
    "collapsed": false,
    "ExecuteTime": {
     "end_time": "2024-03-27T06:08:07.170615Z",
     "start_time": "2024-03-27T06:08:06.000933Z"
    }
   },
   "outputs": [
    {
     "name": "stdout",
     "output_type": "stream",
     "text": [
      "<class 'pandas.core.frame.DataFrame'>\n",
      "RangeIndex: 1048575 entries, 0 to 1048574\n",
      "Data columns (total 9 columns):\n",
      " #   Column          Non-Null Count    Dtype \n",
      "---  ------          --------------    ----- \n",
      " 0   tconst          1048575 non-null  object\n",
      " 1   titleType       1048575 non-null  object\n",
      " 2   primaryTitle    1048575 non-null  object\n",
      " 3   originalTitle   1048575 non-null  object\n",
      " 4   isAdult         1048575 non-null  int64 \n",
      " 5   startYear       1048575 non-null  object\n",
      " 6   endYear         1048575 non-null  object\n",
      " 7   runtimeMinutes  1048575 non-null  object\n",
      " 8   genres          1048575 non-null  object\n",
      "dtypes: int64(1), object(8)\n",
      "memory usage: 72.0+ MB\n"
     ]
    }
   ],
   "source": [
    "# Summary of the \"title_basics\" dataset\n",
    "\n",
    "title_basics_data.info()"
   ]
  },
  {
   "cell_type": "code",
   "execution_count": 325,
   "id": "75c7160e3ee0c511",
   "metadata": {
    "collapsed": false,
    "ExecuteTime": {
     "end_time": "2024-03-27T06:08:09.105831Z",
     "start_time": "2024-03-27T06:08:07.171657Z"
    }
   },
   "outputs": [
    {
     "data": {
      "text/plain": "      nconst      primaryName birthYear deathYear  \\\n0  nm0000001     Fred Astaire      1899      1987   \n1  nm0000002    Lauren Bacall      1924      2014   \n2  nm0000003  Brigitte Bardot      1934        \\N   \n3  nm0000004     John Belushi      1949      1982   \n4  nm0000005   Ingmar Bergman      1918      2007   \n\n                     primaryProfession  \\\n0       soundtrack,actor,miscellaneous   \n1                   actress,soundtrack   \n2  actress,soundtrack,music_department   \n3              actor,soundtrack,writer   \n4                writer,director,actor   \n\n                            knownForTitles  \n0  tt0027125,tt0050419,tt0053137,tt0072308  \n1  tt0038355,tt0037382,tt0075213,tt0117057  \n2  tt0049189,tt0054452,tt0056404,tt0057345  \n3  tt0078723,tt0080455,tt0072562,tt0077975  \n4  tt0083922,tt0069467,tt0050976,tt0050986  ",
      "text/html": "<div>\n<style scoped>\n    .dataframe tbody tr th:only-of-type {\n        vertical-align: middle;\n    }\n\n    .dataframe tbody tr th {\n        vertical-align: top;\n    }\n\n    .dataframe thead th {\n        text-align: right;\n    }\n</style>\n<table border=\"1\" class=\"dataframe\">\n  <thead>\n    <tr style=\"text-align: right;\">\n      <th></th>\n      <th>nconst</th>\n      <th>primaryName</th>\n      <th>birthYear</th>\n      <th>deathYear</th>\n      <th>primaryProfession</th>\n      <th>knownForTitles</th>\n    </tr>\n  </thead>\n  <tbody>\n    <tr>\n      <th>0</th>\n      <td>nm0000001</td>\n      <td>Fred Astaire</td>\n      <td>1899</td>\n      <td>1987</td>\n      <td>soundtrack,actor,miscellaneous</td>\n      <td>tt0027125,tt0050419,tt0053137,tt0072308</td>\n    </tr>\n    <tr>\n      <th>1</th>\n      <td>nm0000002</td>\n      <td>Lauren Bacall</td>\n      <td>1924</td>\n      <td>2014</td>\n      <td>actress,soundtrack</td>\n      <td>tt0038355,tt0037382,tt0075213,tt0117057</td>\n    </tr>\n    <tr>\n      <th>2</th>\n      <td>nm0000003</td>\n      <td>Brigitte Bardot</td>\n      <td>1934</td>\n      <td>\\N</td>\n      <td>actress,soundtrack,music_department</td>\n      <td>tt0049189,tt0054452,tt0056404,tt0057345</td>\n    </tr>\n    <tr>\n      <th>3</th>\n      <td>nm0000004</td>\n      <td>John Belushi</td>\n      <td>1949</td>\n      <td>1982</td>\n      <td>actor,soundtrack,writer</td>\n      <td>tt0078723,tt0080455,tt0072562,tt0077975</td>\n    </tr>\n    <tr>\n      <th>4</th>\n      <td>nm0000005</td>\n      <td>Ingmar Bergman</td>\n      <td>1918</td>\n      <td>2007</td>\n      <td>writer,director,actor</td>\n      <td>tt0083922,tt0069467,tt0050976,tt0050986</td>\n    </tr>\n  </tbody>\n</table>\n</div>"
     },
     "execution_count": 325,
     "metadata": {},
     "output_type": "execute_result"
    }
   ],
   "source": [
    "# Reading the dataset \"name_basics\"\n",
    "\n",
    "name_basics_data = pd.read_csv('data/name_basics_data.tsv', sep='\\t')\n",
    "\n",
    "name_basics_data.head()"
   ]
  },
  {
   "cell_type": "code",
   "execution_count": 326,
   "id": "57938a33a5898e0",
   "metadata": {
    "collapsed": false,
    "ExecuteTime": {
     "end_time": "2024-03-27T06:08:09.769638Z",
     "start_time": "2024-03-27T06:08:09.107989Z"
    }
   },
   "outputs": [
    {
     "data": {
      "text/plain": "      tconst  averageRating  numVotes\n0  tt0000001            5.7      2032\n1  tt0000002            5.7       272\n2  tt0000003            6.5      1973\n3  tt0000004            5.4       178\n4  tt0000005            6.2      2731",
      "text/html": "<div>\n<style scoped>\n    .dataframe tbody tr th:only-of-type {\n        vertical-align: middle;\n    }\n\n    .dataframe tbody tr th {\n        vertical-align: top;\n    }\n\n    .dataframe thead th {\n        text-align: right;\n    }\n</style>\n<table border=\"1\" class=\"dataframe\">\n  <thead>\n    <tr style=\"text-align: right;\">\n      <th></th>\n      <th>tconst</th>\n      <th>averageRating</th>\n      <th>numVotes</th>\n    </tr>\n  </thead>\n  <tbody>\n    <tr>\n      <th>0</th>\n      <td>tt0000001</td>\n      <td>5.7</td>\n      <td>2032</td>\n    </tr>\n    <tr>\n      <th>1</th>\n      <td>tt0000002</td>\n      <td>5.7</td>\n      <td>272</td>\n    </tr>\n    <tr>\n      <th>2</th>\n      <td>tt0000003</td>\n      <td>6.5</td>\n      <td>1973</td>\n    </tr>\n    <tr>\n      <th>3</th>\n      <td>tt0000004</td>\n      <td>5.4</td>\n      <td>178</td>\n    </tr>\n    <tr>\n      <th>4</th>\n      <td>tt0000005</td>\n      <td>6.2</td>\n      <td>2731</td>\n    </tr>\n  </tbody>\n</table>\n</div>"
     },
     "execution_count": 326,
     "metadata": {},
     "output_type": "execute_result"
    }
   ],
   "source": [
    "# Reading the dataset \"title_ratings\"\n",
    "\n",
    "title_ratings_data = pd.read_csv('data/title_ratings_data.tsv', sep='\\t')\n",
    "\n",
    "title_ratings_data.head()"
   ]
  },
  {
   "cell_type": "markdown",
   "id": "64ebad0a5099dcf2",
   "metadata": {
    "collapsed": false
   },
   "source": [
    "## 3. BACKGROUND RESEARCH"
   ]
  },
  {
   "cell_type": "markdown",
   "id": "be9390853143cb61",
   "metadata": {
    "collapsed": false
   },
   "source": [
    "These datasets offer subsets of IMDb data accessible to customers for personal and non-commercial use, providing valuable insights into diverse facets of IMDb content, such as titles, cast and crew details, and user ratings.\n",
    "\n",
    "- Title Basics Dataset: Contains over 1 million entries (1,048,575), each uniquely identified by an alphanumeric code (tconst). Provides details such as title type/format, primary and original titles, adult content indicator, start and end years, runtime duration, and associated genres.\n",
    "- Name Basics Dataset: Also comprises over 1 million entries (1,048,575), with each entry identified by an alphanumeric code (nconst). Includes information about the primary name of individuals, birth and death years, primary professions, and titles they are known for.\n",
    "- Title Ratings Dataset: Consists of more than 1 million entries (1,048,575), identified by an alphanumeric code (tconst). Contains data on the average rating and number of votes received for each title.\n",
    "\n",
    "Upon researching each of the aforementioned topics and scrutinizing the associated metadata file for each dataset, the following conclusions can be drawn:\n",
    "\n",
    "* Identification of the top 10 movies by decade.\n",
    "* Compilation of the top 10 actors based on the highest number of appearances in movies and their ratings.\n",
    "* Determination of the top 10 rated movies, considering both ratings and the number of votes received.\n",
    "* Analysis of the most prevalent genres across the IMDb database."
   ]
  },
  {
   "cell_type": "markdown",
   "id": "f71031f7b0f7db14",
   "metadata": {
    "collapsed": false
   },
   "source": [
    "## 4. READ IN THE DATA"
   ]
  },
  {
   "cell_type": "markdown",
   "id": "b0443ba95d65c690",
   "metadata": {
    "collapsed": false
   },
   "source": [
    "Let's read each file into a pandas dataframe, and then store all the dataframes in a dictionary. This will give us a convenient way to store them, and a quick way to reference them later on. "
   ]
  },
  {
   "cell_type": "code",
   "execution_count": 327,
   "id": "19a471e1dcb55307",
   "metadata": {
    "collapsed": false,
    "ExecuteTime": {
     "end_time": "2024-03-27T06:08:13.589120Z",
     "start_time": "2024-03-27T06:08:09.770238Z"
    }
   },
   "outputs": [],
   "source": [
    "data_files = [\n",
    "    \"title_basics_data.tsv\",\n",
    "    \"title_ratings_data.tsv\",\n",
    "    \"name_basics_data.tsv\"\n",
    "]\n",
    "\n",
    "imdb_data = {}\n",
    "\n",
    "for file in data_files:\n",
    "    d = pd.read_csv(\"data/{0}\".format(file), sep='\\t')\n",
    "    key = file.replace(\".tsv\", \"\")\n",
    "    imdb_data[key] = d"
   ]
  },
  {
   "cell_type": "markdown",
   "id": "aa93edb8f615b424",
   "metadata": {
    "collapsed": false
   },
   "source": [
    "### A. Data Selection"
   ]
  },
  {
   "cell_type": "markdown",
   "id": "bc9b752fe9c4212d",
   "metadata": {
    "collapsed": false
   },
   "source": [
    "We'll have to filter the data to remove the unnecessary one \"runtimeMinutes\" in the title_basics_data. Working with fewer columns will make it easier to print the dataframe out and find correlations within it."
   ]
  },
  {
   "cell_type": "code",
   "execution_count": 328,
   "id": "bdf9065dabbfbf73",
   "metadata": {
    "collapsed": false,
    "ExecuteTime": {
     "end_time": "2024-03-27T06:08:13.687450Z",
     "start_time": "2024-03-27T06:08:13.590169Z"
    }
   },
   "outputs": [],
   "source": [
    "# Removing the column : \"runtimeMinutes\"\n",
    "\n",
    "imdb_data[\"title_basics_data\"] = imdb_data[\"title_basics_data\"].drop(columns=[\"runtimeMinutes\"])"
   ]
  },
  {
   "cell_type": "markdown",
   "id": "3dc439484ef07f5f",
   "metadata": {
    "collapsed": false
   },
   "source": [
    "## 5. GETTING TO KNOW THE DATA"
   ]
  },
  {
   "cell_type": "code",
   "execution_count": 329,
   "id": "cb4591cd398c3914",
   "metadata": {
    "collapsed": false,
    "ExecuteTime": {
     "end_time": "2024-03-27T06:08:13.708486Z",
     "start_time": "2024-03-27T06:08:13.688519Z"
    }
   },
   "outputs": [
    {
     "name": "stdout",
     "output_type": "stream",
     "text": [
      "\n",
      "\u001B[1m title_basics_data \u001B[0m\n"
     ]
    },
    {
     "data": {
      "text/plain": "      tconst titleType            primaryTitle           originalTitle  \\\n0  tt0000001     short              Carmencita              Carmencita   \n1  tt0000002     short  Le clown et ses chiens  Le clown et ses chiens   \n2  tt0000003     short          Pauvre Pierrot          Pauvre Pierrot   \n3  tt0000004     short             Un bon bock             Un bon bock   \n4  tt0000005     short        Blacksmith Scene        Blacksmith Scene   \n\n   isAdult startYear endYear                    genres  \n0        0      1894      \\N         Documentary,Short  \n1        0      1892      \\N           Animation,Short  \n2        0      1892      \\N  Animation,Comedy,Romance  \n3        0      1892      \\N           Animation,Short  \n4        0      1893      \\N              Comedy,Short  ",
      "text/html": "<div>\n<style scoped>\n    .dataframe tbody tr th:only-of-type {\n        vertical-align: middle;\n    }\n\n    .dataframe tbody tr th {\n        vertical-align: top;\n    }\n\n    .dataframe thead th {\n        text-align: right;\n    }\n</style>\n<table border=\"1\" class=\"dataframe\">\n  <thead>\n    <tr style=\"text-align: right;\">\n      <th></th>\n      <th>tconst</th>\n      <th>titleType</th>\n      <th>primaryTitle</th>\n      <th>originalTitle</th>\n      <th>isAdult</th>\n      <th>startYear</th>\n      <th>endYear</th>\n      <th>genres</th>\n    </tr>\n  </thead>\n  <tbody>\n    <tr>\n      <th>0</th>\n      <td>tt0000001</td>\n      <td>short</td>\n      <td>Carmencita</td>\n      <td>Carmencita</td>\n      <td>0</td>\n      <td>1894</td>\n      <td>\\N</td>\n      <td>Documentary,Short</td>\n    </tr>\n    <tr>\n      <th>1</th>\n      <td>tt0000002</td>\n      <td>short</td>\n      <td>Le clown et ses chiens</td>\n      <td>Le clown et ses chiens</td>\n      <td>0</td>\n      <td>1892</td>\n      <td>\\N</td>\n      <td>Animation,Short</td>\n    </tr>\n    <tr>\n      <th>2</th>\n      <td>tt0000003</td>\n      <td>short</td>\n      <td>Pauvre Pierrot</td>\n      <td>Pauvre Pierrot</td>\n      <td>0</td>\n      <td>1892</td>\n      <td>\\N</td>\n      <td>Animation,Comedy,Romance</td>\n    </tr>\n    <tr>\n      <th>3</th>\n      <td>tt0000004</td>\n      <td>short</td>\n      <td>Un bon bock</td>\n      <td>Un bon bock</td>\n      <td>0</td>\n      <td>1892</td>\n      <td>\\N</td>\n      <td>Animation,Short</td>\n    </tr>\n    <tr>\n      <th>4</th>\n      <td>tt0000005</td>\n      <td>short</td>\n      <td>Blacksmith Scene</td>\n      <td>Blacksmith Scene</td>\n      <td>0</td>\n      <td>1893</td>\n      <td>\\N</td>\n      <td>Comedy,Short</td>\n    </tr>\n  </tbody>\n</table>\n</div>"
     },
     "metadata": {},
     "output_type": "display_data"
    },
    {
     "name": "stdout",
     "output_type": "stream",
     "text": [
      "\n",
      "\u001B[1m title_ratings_data \u001B[0m\n"
     ]
    },
    {
     "data": {
      "text/plain": "      tconst  averageRating  numVotes\n0  tt0000001            5.7      2032\n1  tt0000002            5.7       272\n2  tt0000003            6.5      1973\n3  tt0000004            5.4       178\n4  tt0000005            6.2      2731",
      "text/html": "<div>\n<style scoped>\n    .dataframe tbody tr th:only-of-type {\n        vertical-align: middle;\n    }\n\n    .dataframe tbody tr th {\n        vertical-align: top;\n    }\n\n    .dataframe thead th {\n        text-align: right;\n    }\n</style>\n<table border=\"1\" class=\"dataframe\">\n  <thead>\n    <tr style=\"text-align: right;\">\n      <th></th>\n      <th>tconst</th>\n      <th>averageRating</th>\n      <th>numVotes</th>\n    </tr>\n  </thead>\n  <tbody>\n    <tr>\n      <th>0</th>\n      <td>tt0000001</td>\n      <td>5.7</td>\n      <td>2032</td>\n    </tr>\n    <tr>\n      <th>1</th>\n      <td>tt0000002</td>\n      <td>5.7</td>\n      <td>272</td>\n    </tr>\n    <tr>\n      <th>2</th>\n      <td>tt0000003</td>\n      <td>6.5</td>\n      <td>1973</td>\n    </tr>\n    <tr>\n      <th>3</th>\n      <td>tt0000004</td>\n      <td>5.4</td>\n      <td>178</td>\n    </tr>\n    <tr>\n      <th>4</th>\n      <td>tt0000005</td>\n      <td>6.2</td>\n      <td>2731</td>\n    </tr>\n  </tbody>\n</table>\n</div>"
     },
     "metadata": {},
     "output_type": "display_data"
    },
    {
     "name": "stdout",
     "output_type": "stream",
     "text": [
      "\n",
      "\u001B[1m name_basics_data \u001B[0m\n"
     ]
    },
    {
     "data": {
      "text/plain": "      nconst      primaryName birthYear deathYear  \\\n0  nm0000001     Fred Astaire      1899      1987   \n1  nm0000002    Lauren Bacall      1924      2014   \n2  nm0000003  Brigitte Bardot      1934        \\N   \n3  nm0000004     John Belushi      1949      1982   \n4  nm0000005   Ingmar Bergman      1918      2007   \n\n                     primaryProfession  \\\n0       soundtrack,actor,miscellaneous   \n1                   actress,soundtrack   \n2  actress,soundtrack,music_department   \n3              actor,soundtrack,writer   \n4                writer,director,actor   \n\n                            knownForTitles  \n0  tt0027125,tt0050419,tt0053137,tt0072308  \n1  tt0038355,tt0037382,tt0075213,tt0117057  \n2  tt0049189,tt0054452,tt0056404,tt0057345  \n3  tt0078723,tt0080455,tt0072562,tt0077975  \n4  tt0083922,tt0069467,tt0050976,tt0050986  ",
      "text/html": "<div>\n<style scoped>\n    .dataframe tbody tr th:only-of-type {\n        vertical-align: middle;\n    }\n\n    .dataframe tbody tr th {\n        vertical-align: top;\n    }\n\n    .dataframe thead th {\n        text-align: right;\n    }\n</style>\n<table border=\"1\" class=\"dataframe\">\n  <thead>\n    <tr style=\"text-align: right;\">\n      <th></th>\n      <th>nconst</th>\n      <th>primaryName</th>\n      <th>birthYear</th>\n      <th>deathYear</th>\n      <th>primaryProfession</th>\n      <th>knownForTitles</th>\n    </tr>\n  </thead>\n  <tbody>\n    <tr>\n      <th>0</th>\n      <td>nm0000001</td>\n      <td>Fred Astaire</td>\n      <td>1899</td>\n      <td>1987</td>\n      <td>soundtrack,actor,miscellaneous</td>\n      <td>tt0027125,tt0050419,tt0053137,tt0072308</td>\n    </tr>\n    <tr>\n      <th>1</th>\n      <td>nm0000002</td>\n      <td>Lauren Bacall</td>\n      <td>1924</td>\n      <td>2014</td>\n      <td>actress,soundtrack</td>\n      <td>tt0038355,tt0037382,tt0075213,tt0117057</td>\n    </tr>\n    <tr>\n      <th>2</th>\n      <td>nm0000003</td>\n      <td>Brigitte Bardot</td>\n      <td>1934</td>\n      <td>\\N</td>\n      <td>actress,soundtrack,music_department</td>\n      <td>tt0049189,tt0054452,tt0056404,tt0057345</td>\n    </tr>\n    <tr>\n      <th>3</th>\n      <td>nm0000004</td>\n      <td>John Belushi</td>\n      <td>1949</td>\n      <td>1982</td>\n      <td>actor,soundtrack,writer</td>\n      <td>tt0078723,tt0080455,tt0072562,tt0077975</td>\n    </tr>\n    <tr>\n      <th>4</th>\n      <td>nm0000005</td>\n      <td>Ingmar Bergman</td>\n      <td>1918</td>\n      <td>2007</td>\n      <td>writer,director,actor</td>\n      <td>tt0083922,tt0069467,tt0050976,tt0050986</td>\n    </tr>\n  </tbody>\n</table>\n</div>"
     },
     "metadata": {},
     "output_type": "display_data"
    }
   ],
   "source": [
    "for key, value in imdb_data.items():\n",
    "    print(\"\\n\\033[1m\", key, \"\\033[0m\")\n",
    "    display(value.head())"
   ]
  },
  {
   "cell_type": "markdown",
   "id": "97c7c3b44c1118f5",
   "metadata": {
    "collapsed": false
   },
   "source": [
    "The primary key in each dataset is as follows:\n",
    "\n",
    "- title_basics_data: Primary Key: tconst\n",
    "\n",
    "- name_basics_data: Primary Key: nconst\n",
    "\n",
    "- title_ratings_data: Primary Key: tconst\n",
    "\n",
    "\n",
    "To combine the three datasets, we can perform a merge operation based on the common key, which is \"tconst\" in both the title basics dataset and the title ratings dataset.\n",
    "\n",
    "We can then merge the resulting DataFrame with the name basics dataset based on the common key \"tconst\", which will be extracted from the \"knownForTitles\" column in name_basics_data. We'll split the comma-separated values in the \"knownForTitles\" column of the name_basics_data dataset and explode them into separate rows. This transformation ensures that each 'tconst' value appears in its own row, facilitating the merge operation.\n",
    "\n",
    "This merge combines information from all three datasets, resulting in a single DataFrame that contains comprehensive information about titles, ratings, and cast/crew members."
   ]
  },
  {
   "cell_type": "markdown",
   "id": "debc6ae1ecaed63",
   "metadata": {
    "ExecuteTime": {
     "end_time": "2024-03-16T21:46:14.521966Z",
     "start_time": "2024-03-16T21:46:14.518770Z"
    },
    "collapsed": false
   },
   "source": [
    "# 5. Getting to know the data"
   ]
  },
  {
   "cell_type": "markdown",
   "id": "1ee3a923",
   "metadata": {},
   "source": [
    "## 5.1 Dataframe 'title_basics_data'"
   ]
  },
  {
   "cell_type": "code",
   "execution_count": 330,
   "id": "117ea1a7",
   "metadata": {
    "ExecuteTime": {
     "end_time": "2024-03-27T06:08:13.717498Z",
     "start_time": "2024-03-27T06:08:13.709538Z"
    }
   },
   "outputs": [
    {
     "data": {
      "text/plain": "      tconst titleType            primaryTitle           originalTitle  \\\n0  tt0000001     short              Carmencita              Carmencita   \n1  tt0000002     short  Le clown et ses chiens  Le clown et ses chiens   \n2  tt0000003     short          Pauvre Pierrot          Pauvre Pierrot   \n3  tt0000004     short             Un bon bock             Un bon bock   \n4  tt0000005     short        Blacksmith Scene        Blacksmith Scene   \n\n   isAdult startYear endYear                    genres  \n0        0      1894      \\N         Documentary,Short  \n1        0      1892      \\N           Animation,Short  \n2        0      1892      \\N  Animation,Comedy,Romance  \n3        0      1892      \\N           Animation,Short  \n4        0      1893      \\N              Comedy,Short  ",
      "text/html": "<div>\n<style scoped>\n    .dataframe tbody tr th:only-of-type {\n        vertical-align: middle;\n    }\n\n    .dataframe tbody tr th {\n        vertical-align: top;\n    }\n\n    .dataframe thead th {\n        text-align: right;\n    }\n</style>\n<table border=\"1\" class=\"dataframe\">\n  <thead>\n    <tr style=\"text-align: right;\">\n      <th></th>\n      <th>tconst</th>\n      <th>titleType</th>\n      <th>primaryTitle</th>\n      <th>originalTitle</th>\n      <th>isAdult</th>\n      <th>startYear</th>\n      <th>endYear</th>\n      <th>genres</th>\n    </tr>\n  </thead>\n  <tbody>\n    <tr>\n      <th>0</th>\n      <td>tt0000001</td>\n      <td>short</td>\n      <td>Carmencita</td>\n      <td>Carmencita</td>\n      <td>0</td>\n      <td>1894</td>\n      <td>\\N</td>\n      <td>Documentary,Short</td>\n    </tr>\n    <tr>\n      <th>1</th>\n      <td>tt0000002</td>\n      <td>short</td>\n      <td>Le clown et ses chiens</td>\n      <td>Le clown et ses chiens</td>\n      <td>0</td>\n      <td>1892</td>\n      <td>\\N</td>\n      <td>Animation,Short</td>\n    </tr>\n    <tr>\n      <th>2</th>\n      <td>tt0000003</td>\n      <td>short</td>\n      <td>Pauvre Pierrot</td>\n      <td>Pauvre Pierrot</td>\n      <td>0</td>\n      <td>1892</td>\n      <td>\\N</td>\n      <td>Animation,Comedy,Romance</td>\n    </tr>\n    <tr>\n      <th>3</th>\n      <td>tt0000004</td>\n      <td>short</td>\n      <td>Un bon bock</td>\n      <td>Un bon bock</td>\n      <td>0</td>\n      <td>1892</td>\n      <td>\\N</td>\n      <td>Animation,Short</td>\n    </tr>\n    <tr>\n      <th>4</th>\n      <td>tt0000005</td>\n      <td>short</td>\n      <td>Blacksmith Scene</td>\n      <td>Blacksmith Scene</td>\n      <td>0</td>\n      <td>1893</td>\n      <td>\\N</td>\n      <td>Comedy,Short</td>\n    </tr>\n  </tbody>\n</table>\n</div>"
     },
     "execution_count": 330,
     "metadata": {},
     "output_type": "execute_result"
    }
   ],
   "source": [
    "imdb_data['title_basics_data'].head()"
   ]
  },
  {
   "cell_type": "markdown",
   "id": "4df8bd1a",
   "metadata": {},
   "source": [
    "### Column 'isAdult'"
   ]
  },
  {
   "cell_type": "code",
   "execution_count": 331,
   "id": "d02ee8f9",
   "metadata": {
    "ExecuteTime": {
     "end_time": "2024-03-27T06:08:13.729111Z",
     "start_time": "2024-03-27T06:08:13.718609Z"
    }
   },
   "outputs": [
    {
     "data": {
      "text/plain": "0    0.9592\n1    0.0408\nName: isAdult, dtype: float64"
     },
     "execution_count": 331,
     "metadata": {},
     "output_type": "execute_result"
    }
   ],
   "source": [
    "#display(imdb_data['title_basics_data']['isAdult'].value_counts())\n",
    "round(imdb_data['title_basics_data']['isAdult'].value_counts(normalize=True), 4)"
   ]
  },
  {
   "cell_type": "markdown",
   "id": "9a61eba1",
   "metadata": {},
   "source": [
    "There are only 4.08% of movies in df 'title_basics_data' classified for only adults."
   ]
  },
  {
   "cell_type": "markdown",
   "id": "4fb964fb",
   "metadata": {},
   "source": [
    "### Columns 'startYear'"
   ]
  },
  {
   "cell_type": "code",
   "execution_count": 332,
   "id": "76bc2850",
   "metadata": {
    "ExecuteTime": {
     "end_time": "2024-03-27T06:08:13.736871Z",
     "start_time": "2024-03-27T06:08:13.731264Z"
    }
   },
   "outputs": [
    {
     "data": {
      "text/plain": "0          1894\n1          1892\n2          1892\n3          1892\n4          1893\n           ... \n1048570    2011\n1048571    2019\n1048572    2013\n1048573    2013\n1048574    2004\nName: startYear, Length: 1048575, dtype: object"
     },
     "execution_count": 332,
     "metadata": {},
     "output_type": "execute_result"
    }
   ],
   "source": [
    "imdb_data['title_basics_data']['startYear']"
   ]
  },
  {
   "cell_type": "markdown",
   "id": "7553de2f",
   "metadata": {},
   "source": [
    "## 5.2 Dataframe 'title_ratings_data'"
   ]
  },
  {
   "cell_type": "code",
   "execution_count": 333,
   "id": "54aae63f",
   "metadata": {
    "ExecuteTime": {
     "end_time": "2024-03-27T06:08:13.743955Z",
     "start_time": "2024-03-27T06:08:13.737935Z"
    }
   },
   "outputs": [
    {
     "data": {
      "text/plain": "      tconst  averageRating  numVotes\n0  tt0000001            5.7      2032\n1  tt0000002            5.7       272\n2  tt0000003            6.5      1973\n3  tt0000004            5.4       178\n4  tt0000005            6.2      2731",
      "text/html": "<div>\n<style scoped>\n    .dataframe tbody tr th:only-of-type {\n        vertical-align: middle;\n    }\n\n    .dataframe tbody tr th {\n        vertical-align: top;\n    }\n\n    .dataframe thead th {\n        text-align: right;\n    }\n</style>\n<table border=\"1\" class=\"dataframe\">\n  <thead>\n    <tr style=\"text-align: right;\">\n      <th></th>\n      <th>tconst</th>\n      <th>averageRating</th>\n      <th>numVotes</th>\n    </tr>\n  </thead>\n  <tbody>\n    <tr>\n      <th>0</th>\n      <td>tt0000001</td>\n      <td>5.7</td>\n      <td>2032</td>\n    </tr>\n    <tr>\n      <th>1</th>\n      <td>tt0000002</td>\n      <td>5.7</td>\n      <td>272</td>\n    </tr>\n    <tr>\n      <th>2</th>\n      <td>tt0000003</td>\n      <td>6.5</td>\n      <td>1973</td>\n    </tr>\n    <tr>\n      <th>3</th>\n      <td>tt0000004</td>\n      <td>5.4</td>\n      <td>178</td>\n    </tr>\n    <tr>\n      <th>4</th>\n      <td>tt0000005</td>\n      <td>6.2</td>\n      <td>2731</td>\n    </tr>\n  </tbody>\n</table>\n</div>"
     },
     "execution_count": 333,
     "metadata": {},
     "output_type": "execute_result"
    }
   ],
   "source": [
    "imdb_data['title_ratings_data'].head()"
   ]
  },
  {
   "cell_type": "markdown",
   "id": "c1463f9b",
   "metadata": {},
   "source": [
    "### Column 'Average rating'"
   ]
  },
  {
   "cell_type": "code",
   "execution_count": 334,
   "id": "4764ef37",
   "metadata": {
    "ExecuteTime": {
     "end_time": "2024-03-27T06:08:13.773927Z",
     "start_time": "2024-03-27T06:08:13.745024Z"
    }
   },
   "outputs": [
    {
     "data": {
      "text/plain": "count    1,048,575.0\nmean            6.91\nstd             1.38\nmin              1.0\n25%              6.2\n50%              7.1\n75%              7.8\nmax             10.0\nName: averageRating, dtype: object"
     },
     "execution_count": 334,
     "metadata": {},
     "output_type": "execute_result"
    }
   ],
   "source": [
    "imdb_data['title_ratings_data']['averageRating'].describe().apply(lambda x: format(round(x, 2), ','))"
   ]
  },
  {
   "cell_type": "code",
   "execution_count": 335,
   "id": "df34ca90",
   "metadata": {
    "ExecuteTime": {
     "end_time": "2024-03-27T06:08:14.006023Z",
     "start_time": "2024-03-27T06:08:13.775019Z"
    }
   },
   "outputs": [
    {
     "data": {
      "text/plain": "<Figure size 640x480 with 1 Axes>",
      "image/png": "[encoded data removed]"
     },
     "metadata": {},
     "output_type": "display_data"
    }
   ],
   "source": [
    "imdb_data['title_ratings_data']['averageRating'].plot(kind='hist', xlabel='Average rating', ylabel='Number of movies',\n",
    "                                                      title=\"Distribution of movies by 'Average rating'\")\n",
    "plt.show()"
   ]
  },
  {
   "cell_type": "markdown",
   "id": "422d7f59",
   "metadata": {},
   "source": [
    "The distribution of the values of 'Average rating' column is left-skewed. And its median is 7.1."
   ]
  },
  {
   "cell_type": "markdown",
   "id": "4fcfd412",
   "metadata": {},
   "source": [
    "### Column 'Number of votes'"
   ]
  },
  {
   "cell_type": "code",
   "execution_count": 336,
   "id": "0cda7a93",
   "metadata": {
    "ExecuteTime": {
     "end_time": "2024-03-27T06:08:14.032139Z",
     "start_time": "2024-03-27T06:08:14.007085Z"
    }
   },
   "outputs": [
    {
     "data": {
      "text/plain": "count    1,048,575\nmean         1,153\nstd         19,494\nmin              5\n25%             12\n50%             28\n75%            107\nmax      2,865,377\nName: numVotes, dtype: object"
     },
     "execution_count": 336,
     "metadata": {},
     "output_type": "execute_result"
    }
   ],
   "source": [
    "imdb_data['title_ratings_data']['numVotes'].describe().apply(lambda x: format(int(x), ','))"
   ]
  },
  {
   "cell_type": "markdown",
   "id": "17060517",
   "metadata": {},
   "source": [
    "The number of votes for the 4th quantile of movies is within 107 and 2,865,377 votes."
   ]
  },
  {
   "cell_type": "markdown",
   "id": "51a4592b",
   "metadata": {},
   "source": [
    "## 5.3 Dataframe 'name_basics_data'"
   ]
  },
  {
   "cell_type": "markdown",
   "id": "5dafe13c",
   "metadata": {},
   "source": [
    "### Column 'birthYear'"
   ]
  },
  {
   "cell_type": "code",
   "execution_count": 337,
   "id": "5417c71b",
   "metadata": {
    "ExecuteTime": {
     "end_time": "2024-03-27T06:08:14.929665Z",
     "start_time": "2024-03-27T06:08:14.033177Z"
    }
   },
   "outputs": [
    {
     "data": {
      "text/plain": "<Figure size 640x480 with 1 Axes>",
      "image/png": "[encoded data removed]"
     },
     "metadata": {},
     "output_type": "display_data"
    }
   ],
   "source": [
    "birthyear = pd.to_numeric(imdb_data['name_basics_data']['birthYear'], errors='coerce').dropna()\n",
    "plt.hist(birthyear[birthyear >= 1900])\n",
    "plt.show()"
   ]
  },
  {
   "cell_type": "markdown",
   "id": "8df75620",
   "metadata": {},
   "source": [
    "The most frequent decades of birth of workers stored in the dataframe are:"
   ]
  },
  {
   "cell_type": "code",
   "execution_count": 338,
   "id": "df37b6fa",
   "metadata": {
    "ExecuteTime": {
     "end_time": "2024-03-27T06:08:14.947668Z",
     "start_time": "2024-03-27T06:08:14.930665Z"
    }
   },
   "outputs": [
    {
     "data": {
      "text/plain": "1940.0    33640\n1960.0    32809\n1950.0    31380\n1930.0    29051\n1920.0    28123\nName: birthYear, dtype: int64"
     },
     "execution_count": 338,
     "metadata": {},
     "output_type": "execute_result"
    }
   ],
   "source": [
    "birthyear_decade = (birthyear[birthyear >= 1900] // 10 * 10)\n",
    "birthyear_decade.value_counts().head()"
   ]
  },
  {
   "cell_type": "markdown",
   "id": "e17ab236",
   "metadata": {},
   "source": [
    "### Column 'primaryProfession'"
   ]
  },
  {
   "cell_type": "markdown",
   "id": "3e1ca763",
   "metadata": {},
   "source": [
    "The most frequent professions are:"
   ]
  },
  {
   "cell_type": "code",
   "execution_count": 339,
   "id": "027c1cbd",
   "metadata": {
    "ExecuteTime": {
     "end_time": "2024-03-27T06:08:17.068903Z",
     "start_time": "2024-03-27T06:08:14.948723Z"
    }
   },
   "outputs": [
    {
     "data": {
      "text/plain": "actor                353678\nactress              214971\nmiscellaneous        134326\nwriter               122557\nproducer             116475\ndirector              87240\ncamera_department     65885\nart_department        51083\nsoundtrack            44794\nsound_department      34284\ndtype: int64"
     },
     "execution_count": 339,
     "metadata": {},
     "output_type": "execute_result"
    }
   ],
   "source": [
    "proffession = imdb_data['name_basics_data']['primaryProfession'].str.split(',', expand=True).stack().reset_index(\n",
    "    drop=True)\n",
    "proffession.value_counts()[:10]"
   ]
  },
  {
   "cell_type": "markdown",
   "id": "05513126",
   "metadata": {},
   "source": [
    "### Column 'name_basics_data'"
   ]
  },
  {
   "cell_type": "code",
   "execution_count": 340,
   "id": "29fc11fe",
   "metadata": {
    "ExecuteTime": {
     "end_time": "2024-03-27T06:08:17.825233Z",
     "start_time": "2024-03-27T06:08:17.069963Z"
    }
   },
   "outputs": [
    {
     "data": {
      "text/plain": "<Figure size 640x480 with 1 Axes>",
      "image/png": "[encoded data removed]"
     },
     "metadata": {},
     "output_type": "display_data"
    }
   ],
   "source": [
    "birthyear = pd.to_numeric(imdb_data['name_basics_data']['birthYear'], errors='coerce').dropna()\n",
    "plt.boxplot(birthyear, vert=False)\n",
    "plt.show()"
   ]
  },
  {
   "cell_type": "markdown",
   "id": "a543d562",
   "metadata": {},
   "source": [
    "# 6. Data preparation"
   ]
  },
  {
   "cell_type": "markdown",
   "id": "95fe2695",
   "metadata": {},
   "source": [
    "## 6.1 Create calculated columns"
   ]
  },
  {
   "cell_type": "markdown",
   "id": "fb1e19d1",
   "metadata": {},
   "source": [
    "### Spliting the key for 'title_basics_data'"
   ]
  },
  {
   "cell_type": "code",
   "execution_count": 341,
   "id": "c67ae228",
   "metadata": {
    "ExecuteTime": {
     "end_time": "2024-03-27T06:08:20.021301Z",
     "start_time": "2024-03-27T06:08:17.826270Z"
    }
   },
   "outputs": [
    {
     "data": {
      "text/plain": "              genre1  genre2   genre3\n0        Documentary   Short     None\n1          Animation   Short     None\n2          Animation  Comedy  Romance\n3          Animation   Short     None\n4             Comedy   Short     None\n...              ...     ...      ...\n1048570        Drama    None     None\n1048571        Short    None     None\n1048572       Comedy    None     None\n1048573       Comedy    None     None\n1048574       Comedy    None     None\n\n[1048575 rows x 3 columns]",
      "text/html": "<div>\n<style scoped>\n    .dataframe tbody tr th:only-of-type {\n        vertical-align: middle;\n    }\n\n    .dataframe tbody tr th {\n        vertical-align: top;\n    }\n\n    .dataframe thead th {\n        text-align: right;\n    }\n</style>\n<table border=\"1\" class=\"dataframe\">\n  <thead>\n    <tr style=\"text-align: right;\">\n      <th></th>\n      <th>genre1</th>\n      <th>genre2</th>\n      <th>genre3</th>\n    </tr>\n  </thead>\n  <tbody>\n    <tr>\n      <th>0</th>\n      <td>Documentary</td>\n      <td>Short</td>\n      <td>None</td>\n    </tr>\n    <tr>\n      <th>1</th>\n      <td>Animation</td>\n      <td>Short</td>\n      <td>None</td>\n    </tr>\n    <tr>\n      <th>2</th>\n      <td>Animation</td>\n      <td>Comedy</td>\n      <td>Romance</td>\n    </tr>\n    <tr>\n      <th>3</th>\n      <td>Animation</td>\n      <td>Short</td>\n      <td>None</td>\n    </tr>\n    <tr>\n      <th>4</th>\n      <td>Comedy</td>\n      <td>Short</td>\n      <td>None</td>\n    </tr>\n    <tr>\n      <th>...</th>\n      <td>...</td>\n      <td>...</td>\n      <td>...</td>\n    </tr>\n    <tr>\n      <th>1048570</th>\n      <td>Drama</td>\n      <td>None</td>\n      <td>None</td>\n    </tr>\n    <tr>\n      <th>1048571</th>\n      <td>Short</td>\n      <td>None</td>\n      <td>None</td>\n    </tr>\n    <tr>\n      <th>1048572</th>\n      <td>Comedy</td>\n      <td>None</td>\n      <td>None</td>\n    </tr>\n    <tr>\n      <th>1048573</th>\n      <td>Comedy</td>\n      <td>None</td>\n      <td>None</td>\n    </tr>\n    <tr>\n      <th>1048574</th>\n      <td>Comedy</td>\n      <td>None</td>\n      <td>None</td>\n    </tr>\n  </tbody>\n</table>\n<p>1048575 rows × 3 columns</p>\n</div>"
     },
     "execution_count": 341,
     "metadata": {},
     "output_type": "execute_result"
    }
   ],
   "source": [
    "# df_titles = imdb_data['title_basics_data'].loc[imdb_data['title_basics_data']['titleType'] == 'movie']\n",
    "df_titles = imdb_data['title_basics_data']\n",
    "\n",
    "key_titles = df_titles['genres'].str.split(',', expand=True)\n",
    "\n",
    "new_genre_columns = ['genre1', 'genre2', 'genre3']\n",
    "\n",
    "key_titles.columns = new_genre_columns\n",
    "key_titles"
   ]
  },
  {
   "cell_type": "code",
   "execution_count": 342,
   "id": "85639fbb",
   "metadata": {
    "ExecuteTime": {
     "end_time": "2024-03-27T06:08:20.125361Z",
     "start_time": "2024-03-27T06:08:20.022361Z"
    }
   },
   "outputs": [
    {
     "data": {
      "text/plain": "      tconst titleType            primaryTitle           originalTitle  \\\n0  tt0000001     short              Carmencita              Carmencita   \n1  tt0000002     short  Le clown et ses chiens  Le clown et ses chiens   \n2  tt0000003     short          Pauvre Pierrot          Pauvre Pierrot   \n3  tt0000004     short             Un bon bock             Un bon bock   \n4  tt0000005     short        Blacksmith Scene        Blacksmith Scene   \n\n   isAdult startYear endYear                    genres       genre1  genre2  \\\n0        0      1894      \\N         Documentary,Short  Documentary   Short   \n1        0      1892      \\N           Animation,Short    Animation   Short   \n2        0      1892      \\N  Animation,Comedy,Romance    Animation  Comedy   \n3        0      1892      \\N           Animation,Short    Animation   Short   \n4        0      1893      \\N              Comedy,Short       Comedy   Short   \n\n    genre3  \n0     None  \n1     None  \n2  Romance  \n3     None  \n4     None  ",
      "text/html": "<div>\n<style scoped>\n    .dataframe tbody tr th:only-of-type {\n        vertical-align: middle;\n    }\n\n    .dataframe tbody tr th {\n        vertical-align: top;\n    }\n\n    .dataframe thead th {\n        text-align: right;\n    }\n</style>\n<table border=\"1\" class=\"dataframe\">\n  <thead>\n    <tr style=\"text-align: right;\">\n      <th></th>\n      <th>tconst</th>\n      <th>titleType</th>\n      <th>primaryTitle</th>\n      <th>originalTitle</th>\n      <th>isAdult</th>\n      <th>startYear</th>\n      <th>endYear</th>\n      <th>genres</th>\n      <th>genre1</th>\n      <th>genre2</th>\n      <th>genre3</th>\n    </tr>\n  </thead>\n  <tbody>\n    <tr>\n      <th>0</th>\n      <td>tt0000001</td>\n      <td>short</td>\n      <td>Carmencita</td>\n      <td>Carmencita</td>\n      <td>0</td>\n      <td>1894</td>\n      <td>\\N</td>\n      <td>Documentary,Short</td>\n      <td>Documentary</td>\n      <td>Short</td>\n      <td>None</td>\n    </tr>\n    <tr>\n      <th>1</th>\n      <td>tt0000002</td>\n      <td>short</td>\n      <td>Le clown et ses chiens</td>\n      <td>Le clown et ses chiens</td>\n      <td>0</td>\n      <td>1892</td>\n      <td>\\N</td>\n      <td>Animation,Short</td>\n      <td>Animation</td>\n      <td>Short</td>\n      <td>None</td>\n    </tr>\n    <tr>\n      <th>2</th>\n      <td>tt0000003</td>\n      <td>short</td>\n      <td>Pauvre Pierrot</td>\n      <td>Pauvre Pierrot</td>\n      <td>0</td>\n      <td>1892</td>\n      <td>\\N</td>\n      <td>Animation,Comedy,Romance</td>\n      <td>Animation</td>\n      <td>Comedy</td>\n      <td>Romance</td>\n    </tr>\n    <tr>\n      <th>3</th>\n      <td>tt0000004</td>\n      <td>short</td>\n      <td>Un bon bock</td>\n      <td>Un bon bock</td>\n      <td>0</td>\n      <td>1892</td>\n      <td>\\N</td>\n      <td>Animation,Short</td>\n      <td>Animation</td>\n      <td>Short</td>\n      <td>None</td>\n    </tr>\n    <tr>\n      <th>4</th>\n      <td>tt0000005</td>\n      <td>short</td>\n      <td>Blacksmith Scene</td>\n      <td>Blacksmith Scene</td>\n      <td>0</td>\n      <td>1893</td>\n      <td>\\N</td>\n      <td>Comedy,Short</td>\n      <td>Comedy</td>\n      <td>Short</td>\n      <td>None</td>\n    </tr>\n  </tbody>\n</table>\n</div>"
     },
     "execution_count": 342,
     "metadata": {},
     "output_type": "execute_result"
    }
   ],
   "source": [
    "df_titles = pd.concat([df_titles, key_titles], axis=1)\n",
    "df_titles.head()"
   ]
  },
  {
   "cell_type": "markdown",
   "id": "b52f80f1",
   "metadata": {},
   "source": [
    "### Calculating decade of the movie"
   ]
  },
  {
   "cell_type": "code",
   "execution_count": 343,
   "id": "906785d2",
   "metadata": {
    "ExecuteTime": {
     "end_time": "2024-03-27T06:08:21.344811Z",
     "start_time": "2024-03-27T06:08:20.126445Z"
    }
   },
   "outputs": [
    {
     "data": {
      "text/plain": "      tconst titleType            primaryTitle           originalTitle  \\\n0  tt0000001     short              Carmencita              Carmencita   \n1  tt0000002     short  Le clown et ses chiens  Le clown et ses chiens   \n2  tt0000003     short          Pauvre Pierrot          Pauvre Pierrot   \n3  tt0000004     short             Un bon bock             Un bon bock   \n4  tt0000005     short        Blacksmith Scene        Blacksmith Scene   \n\n   isAdult startYear endYear                    genres       genre1  genre2  \\\n0        0      1894      \\N         Documentary,Short  Documentary   Short   \n1        0      1892      \\N           Animation,Short    Animation   Short   \n2        0      1892      \\N  Animation,Comedy,Romance    Animation  Comedy   \n3        0      1892      \\N           Animation,Short    Animation   Short   \n4        0      1893      \\N              Comedy,Short       Comedy   Short   \n\n    genre3  startDecade  \n0     None         1894  \n1     None         1892  \n2  Romance         1892  \n3     None         1892  \n4     None         1893  ",
      "text/html": "<div>\n<style scoped>\n    .dataframe tbody tr th:only-of-type {\n        vertical-align: middle;\n    }\n\n    .dataframe tbody tr th {\n        vertical-align: top;\n    }\n\n    .dataframe thead th {\n        text-align: right;\n    }\n</style>\n<table border=\"1\" class=\"dataframe\">\n  <thead>\n    <tr style=\"text-align: right;\">\n      <th></th>\n      <th>tconst</th>\n      <th>titleType</th>\n      <th>primaryTitle</th>\n      <th>originalTitle</th>\n      <th>isAdult</th>\n      <th>startYear</th>\n      <th>endYear</th>\n      <th>genres</th>\n      <th>genre1</th>\n      <th>genre2</th>\n      <th>genre3</th>\n      <th>startDecade</th>\n    </tr>\n  </thead>\n  <tbody>\n    <tr>\n      <th>0</th>\n      <td>tt0000001</td>\n      <td>short</td>\n      <td>Carmencita</td>\n      <td>Carmencita</td>\n      <td>0</td>\n      <td>1894</td>\n      <td>\\N</td>\n      <td>Documentary,Short</td>\n      <td>Documentary</td>\n      <td>Short</td>\n      <td>None</td>\n      <td>1894</td>\n    </tr>\n    <tr>\n      <th>1</th>\n      <td>tt0000002</td>\n      <td>short</td>\n      <td>Le clown et ses chiens</td>\n      <td>Le clown et ses chiens</td>\n      <td>0</td>\n      <td>1892</td>\n      <td>\\N</td>\n      <td>Animation,Short</td>\n      <td>Animation</td>\n      <td>Short</td>\n      <td>None</td>\n      <td>1892</td>\n    </tr>\n    <tr>\n      <th>2</th>\n      <td>tt0000003</td>\n      <td>short</td>\n      <td>Pauvre Pierrot</td>\n      <td>Pauvre Pierrot</td>\n      <td>0</td>\n      <td>1892</td>\n      <td>\\N</td>\n      <td>Animation,Comedy,Romance</td>\n      <td>Animation</td>\n      <td>Comedy</td>\n      <td>Romance</td>\n      <td>1892</td>\n    </tr>\n    <tr>\n      <th>3</th>\n      <td>tt0000004</td>\n      <td>short</td>\n      <td>Un bon bock</td>\n      <td>Un bon bock</td>\n      <td>0</td>\n      <td>1892</td>\n      <td>\\N</td>\n      <td>Animation,Short</td>\n      <td>Animation</td>\n      <td>Short</td>\n      <td>None</td>\n      <td>1892</td>\n    </tr>\n    <tr>\n      <th>4</th>\n      <td>tt0000005</td>\n      <td>short</td>\n      <td>Blacksmith Scene</td>\n      <td>Blacksmith Scene</td>\n      <td>0</td>\n      <td>1893</td>\n      <td>\\N</td>\n      <td>Comedy,Short</td>\n      <td>Comedy</td>\n      <td>Short</td>\n      <td>None</td>\n      <td>1893</td>\n    </tr>\n  </tbody>\n</table>\n</div>"
     },
     "execution_count": 343,
     "metadata": {},
     "output_type": "execute_result"
    }
   ],
   "source": [
    "decades = pd.to_numeric(df_titles['startYear'], errors='coerce')\n",
    "decades = decades.apply(lambda x: int(x) if pd.notna(x) else 0)\n",
    "df_titles['startDecade'] = decades\n",
    "\n",
    "# df_titles = df_titles[df_titles['startDecade'] >= 1970]\n",
    "\n",
    "df_titles.head()"
   ]
  },
  {
   "cell_type": "markdown",
   "id": "5dd7b41c",
   "metadata": {},
   "source": [
    "### Splitting the key for 'name_basics_data'"
   ]
  },
  {
   "cell_type": "code",
   "execution_count": 344,
   "id": "5cf634bf",
   "metadata": {
    "ExecuteTime": {
     "end_time": "2024-03-27T06:08:24.349150Z",
     "start_time": "2024-03-27T06:08:21.345877Z"
    }
   },
   "outputs": [
    {
     "data": {
      "text/plain": "            title1     title2     title3     title4 title5 title6 title7\n0        tt0027125  tt0050419  tt0053137  tt0072308   None   None   None\n1        tt0038355  tt0037382  tt0075213  tt0117057   None   None   None\n2        tt0049189  tt0054452  tt0056404  tt0057345   None   None   None\n3        tt0078723  tt0080455  tt0072562  tt0077975   None   None   None\n4        tt0083922  tt0069467  tt0050976  tt0050986   None   None   None\n...            ...        ...        ...        ...    ...    ...    ...\n1048570  tt9028956       None       None       None   None   None   None\n1048571  tt9013146  tt9490002       None       None   None   None   None\n1048572  tt4368588       None       None       None   None   None   None\n1048573         \\N       None       None       None   None   None   None\n1048574         \\N       None       None       None   None   None   None\n\n[1048575 rows x 7 columns]",
      "text/html": "<div>\n<style scoped>\n    .dataframe tbody tr th:only-of-type {\n        vertical-align: middle;\n    }\n\n    .dataframe tbody tr th {\n        vertical-align: top;\n    }\n\n    .dataframe thead th {\n        text-align: right;\n    }\n</style>\n<table border=\"1\" class=\"dataframe\">\n  <thead>\n    <tr style=\"text-align: right;\">\n      <th></th>\n      <th>title1</th>\n      <th>title2</th>\n      <th>title3</th>\n      <th>title4</th>\n      <th>title5</th>\n      <th>title6</th>\n      <th>title7</th>\n    </tr>\n  </thead>\n  <tbody>\n    <tr>\n      <th>0</th>\n      <td>tt0027125</td>\n      <td>tt0050419</td>\n      <td>tt0053137</td>\n      <td>tt0072308</td>\n      <td>None</td>\n      <td>None</td>\n      <td>None</td>\n    </tr>\n    <tr>\n      <th>1</th>\n      <td>tt0038355</td>\n      <td>tt0037382</td>\n      <td>tt0075213</td>\n      <td>tt0117057</td>\n      <td>None</td>\n      <td>None</td>\n      <td>None</td>\n    </tr>\n    <tr>\n      <th>2</th>\n      <td>tt0049189</td>\n      <td>tt0054452</td>\n      <td>tt0056404</td>\n      <td>tt0057345</td>\n      <td>None</td>\n      <td>None</td>\n      <td>None</td>\n    </tr>\n    <tr>\n      <th>3</th>\n      <td>tt0078723</td>\n      <td>tt0080455</td>\n      <td>tt0072562</td>\n      <td>tt0077975</td>\n      <td>None</td>\n      <td>None</td>\n      <td>None</td>\n    </tr>\n    <tr>\n      <th>4</th>\n      <td>tt0083922</td>\n      <td>tt0069467</td>\n      <td>tt0050976</td>\n      <td>tt0050986</td>\n      <td>None</td>\n      <td>None</td>\n      <td>None</td>\n    </tr>\n    <tr>\n      <th>...</th>\n      <td>...</td>\n      <td>...</td>\n      <td>...</td>\n      <td>...</td>\n      <td>...</td>\n      <td>...</td>\n      <td>...</td>\n    </tr>\n    <tr>\n      <th>1048570</th>\n      <td>tt9028956</td>\n      <td>None</td>\n      <td>None</td>\n      <td>None</td>\n      <td>None</td>\n      <td>None</td>\n      <td>None</td>\n    </tr>\n    <tr>\n      <th>1048571</th>\n      <td>tt9013146</td>\n      <td>tt9490002</td>\n      <td>None</td>\n      <td>None</td>\n      <td>None</td>\n      <td>None</td>\n      <td>None</td>\n    </tr>\n    <tr>\n      <th>1048572</th>\n      <td>tt4368588</td>\n      <td>None</td>\n      <td>None</td>\n      <td>None</td>\n      <td>None</td>\n      <td>None</td>\n      <td>None</td>\n    </tr>\n    <tr>\n      <th>1048573</th>\n      <td>\\N</td>\n      <td>None</td>\n      <td>None</td>\n      <td>None</td>\n      <td>None</td>\n      <td>None</td>\n      <td>None</td>\n    </tr>\n    <tr>\n      <th>1048574</th>\n      <td>\\N</td>\n      <td>None</td>\n      <td>None</td>\n      <td>None</td>\n      <td>None</td>\n      <td>None</td>\n      <td>None</td>\n    </tr>\n  </tbody>\n</table>\n<p>1048575 rows × 7 columns</p>\n</div>"
     },
     "execution_count": 344,
     "metadata": {},
     "output_type": "execute_result"
    }
   ],
   "source": [
    "df_names = imdb_data['name_basics_data']\n",
    "# df_names = df_names.loc[\n",
    "#     (df_names['primaryProfession'].str.contains(\"actor\")) | df_names['primaryProfession'].str.contains(\"actress\")]\n",
    "\n",
    "key_names = df_names['knownForTitles'].str.split(',', expand=True)\n",
    "\n",
    "new_title_columns = ['title1', 'title2', 'title3', 'title4', 'title5', 'title6', 'title7']\n",
    "\n",
    "key_names.columns = new_title_columns\n",
    "key_names"
   ]
  },
  {
   "cell_type": "code",
   "execution_count": 345,
   "id": "fb67a6dc",
   "metadata": {
    "ExecuteTime": {
     "end_time": "2024-03-27T06:08:24.485463Z",
     "start_time": "2024-03-27T06:08:24.350189Z"
    }
   },
   "outputs": [
    {
     "data": {
      "text/plain": "      nconst      primaryName birthYear deathYear  \\\n0  nm0000001     Fred Astaire      1899      1987   \n1  nm0000002    Lauren Bacall      1924      2014   \n2  nm0000003  Brigitte Bardot      1934        \\N   \n3  nm0000004     John Belushi      1949      1982   \n4  nm0000005   Ingmar Bergman      1918      2007   \n\n                     primaryProfession  \\\n0       soundtrack,actor,miscellaneous   \n1                   actress,soundtrack   \n2  actress,soundtrack,music_department   \n3              actor,soundtrack,writer   \n4                writer,director,actor   \n\n                            knownForTitles     title1     title2     title3  \\\n0  tt0027125,tt0050419,tt0053137,tt0072308  tt0027125  tt0050419  tt0053137   \n1  tt0038355,tt0037382,tt0075213,tt0117057  tt0038355  tt0037382  tt0075213   \n2  tt0049189,tt0054452,tt0056404,tt0057345  tt0049189  tt0054452  tt0056404   \n3  tt0078723,tt0080455,tt0072562,tt0077975  tt0078723  tt0080455  tt0072562   \n4  tt0083922,tt0069467,tt0050976,tt0050986  tt0083922  tt0069467  tt0050976   \n\n      title4 title5 title6 title7  \n0  tt0072308   None   None   None  \n1  tt0117057   None   None   None  \n2  tt0057345   None   None   None  \n3  tt0077975   None   None   None  \n4  tt0050986   None   None   None  ",
      "text/html": "<div>\n<style scoped>\n    .dataframe tbody tr th:only-of-type {\n        vertical-align: middle;\n    }\n\n    .dataframe tbody tr th {\n        vertical-align: top;\n    }\n\n    .dataframe thead th {\n        text-align: right;\n    }\n</style>\n<table border=\"1\" class=\"dataframe\">\n  <thead>\n    <tr style=\"text-align: right;\">\n      <th></th>\n      <th>nconst</th>\n      <th>primaryName</th>\n      <th>birthYear</th>\n      <th>deathYear</th>\n      <th>primaryProfession</th>\n      <th>knownForTitles</th>\n      <th>title1</th>\n      <th>title2</th>\n      <th>title3</th>\n      <th>title4</th>\n      <th>title5</th>\n      <th>title6</th>\n      <th>title7</th>\n    </tr>\n  </thead>\n  <tbody>\n    <tr>\n      <th>0</th>\n      <td>nm0000001</td>\n      <td>Fred Astaire</td>\n      <td>1899</td>\n      <td>1987</td>\n      <td>soundtrack,actor,miscellaneous</td>\n      <td>tt0027125,tt0050419,tt0053137,tt0072308</td>\n      <td>tt0027125</td>\n      <td>tt0050419</td>\n      <td>tt0053137</td>\n      <td>tt0072308</td>\n      <td>None</td>\n      <td>None</td>\n      <td>None</td>\n    </tr>\n    <tr>\n      <th>1</th>\n      <td>nm0000002</td>\n      <td>Lauren Bacall</td>\n      <td>1924</td>\n      <td>2014</td>\n      <td>actress,soundtrack</td>\n      <td>tt0038355,tt0037382,tt0075213,tt0117057</td>\n      <td>tt0038355</td>\n      <td>tt0037382</td>\n      <td>tt0075213</td>\n      <td>tt0117057</td>\n      <td>None</td>\n      <td>None</td>\n      <td>None</td>\n    </tr>\n    <tr>\n      <th>2</th>\n      <td>nm0000003</td>\n      <td>Brigitte Bardot</td>\n      <td>1934</td>\n      <td>\\N</td>\n      <td>actress,soundtrack,music_department</td>\n      <td>tt0049189,tt0054452,tt0056404,tt0057345</td>\n      <td>tt0049189</td>\n      <td>tt0054452</td>\n      <td>tt0056404</td>\n      <td>tt0057345</td>\n      <td>None</td>\n      <td>None</td>\n      <td>None</td>\n    </tr>\n    <tr>\n      <th>3</th>\n      <td>nm0000004</td>\n      <td>John Belushi</td>\n      <td>1949</td>\n      <td>1982</td>\n      <td>actor,soundtrack,writer</td>\n      <td>tt0078723,tt0080455,tt0072562,tt0077975</td>\n      <td>tt0078723</td>\n      <td>tt0080455</td>\n      <td>tt0072562</td>\n      <td>tt0077975</td>\n      <td>None</td>\n      <td>None</td>\n      <td>None</td>\n    </tr>\n    <tr>\n      <th>4</th>\n      <td>nm0000005</td>\n      <td>Ingmar Bergman</td>\n      <td>1918</td>\n      <td>2007</td>\n      <td>writer,director,actor</td>\n      <td>tt0083922,tt0069467,tt0050976,tt0050986</td>\n      <td>tt0083922</td>\n      <td>tt0069467</td>\n      <td>tt0050976</td>\n      <td>tt0050986</td>\n      <td>None</td>\n      <td>None</td>\n      <td>None</td>\n    </tr>\n  </tbody>\n</table>\n</div>"
     },
     "execution_count": 345,
     "metadata": {},
     "output_type": "execute_result"
    }
   ],
   "source": [
    "df_names = pd.concat([df_names, key_names], axis=1)\n",
    "df_names.head()"
   ]
  },
  {
   "cell_type": "code",
   "outputs": [
    {
     "data": {
      "text/plain": "      tconst  averageRating  numVotes\n0  tt0000001            5.7      2032\n1  tt0000002            5.7       272\n2  tt0000003            6.5      1973\n3  tt0000004            5.4       178\n4  tt0000005            6.2      2731",
      "text/html": "<div>\n<style scoped>\n    .dataframe tbody tr th:only-of-type {\n        vertical-align: middle;\n    }\n\n    .dataframe tbody tr th {\n        vertical-align: top;\n    }\n\n    .dataframe thead th {\n        text-align: right;\n    }\n</style>\n<table border=\"1\" class=\"dataframe\">\n  <thead>\n    <tr style=\"text-align: right;\">\n      <th></th>\n      <th>tconst</th>\n      <th>averageRating</th>\n      <th>numVotes</th>\n    </tr>\n  </thead>\n  <tbody>\n    <tr>\n      <th>0</th>\n      <td>tt0000001</td>\n      <td>5.7</td>\n      <td>2032</td>\n    </tr>\n    <tr>\n      <th>1</th>\n      <td>tt0000002</td>\n      <td>5.7</td>\n      <td>272</td>\n    </tr>\n    <tr>\n      <th>2</th>\n      <td>tt0000003</td>\n      <td>6.5</td>\n      <td>1973</td>\n    </tr>\n    <tr>\n      <th>3</th>\n      <td>tt0000004</td>\n      <td>5.4</td>\n      <td>178</td>\n    </tr>\n    <tr>\n      <th>4</th>\n      <td>tt0000005</td>\n      <td>6.2</td>\n      <td>2731</td>\n    </tr>\n  </tbody>\n</table>\n</div>"
     },
     "execution_count": 346,
     "metadata": {},
     "output_type": "execute_result"
    }
   ],
   "source": [
    "df_ratings = imdb_data['title_ratings_data']\n",
    "df_ratings.head()"
   ],
   "metadata": {
    "collapsed": false,
    "ExecuteTime": {
     "end_time": "2024-03-27T06:08:24.493217Z",
     "start_time": "2024-03-27T06:08:24.486531Z"
    }
   },
   "id": "9d21fea614888774",
   "execution_count": 346
  },
  {
   "cell_type": "markdown",
   "id": "9773b8ad",
   "metadata": {},
   "source": [
    "# 7. Combine the datasets"
   ]
  },
  {
   "cell_type": "markdown",
   "source": [
    "Finally, we are now in a position to combine all of these datasets. Before starting the merge, let’s quickly visualize the number of  rows in each of the cleaned datasets. This will help us decide which of the four merge strategies (left, right, inner, or outer) we should be using."
   ],
   "metadata": {
    "collapsed": false
   },
   "id": "4138b612a5d560b6"
  },
  {
   "cell_type": "code",
   "outputs": [
    {
     "name": "stdout",
     "output_type": "stream",
     "text": [
      "{'df_titles': 1.048575, 'df_ratings': 1.048575, 'df_names': 1.048575}\n"
     ]
    }
   ],
   "source": [
    "row_counts = {\n",
    "    'df_titles': df_titles.shape[0] / 1000000,\n",
    "    'df_ratings': df_ratings.shape[0] / 1000000,\n",
    "    'df_names': df_names.shape[0] / 1000000\n",
    "}\n",
    "\n",
    "print(row_counts)"
   ],
   "metadata": {
    "collapsed": false,
    "ExecuteTime": {
     "end_time": "2024-03-27T06:08:24.498314Z",
     "start_time": "2024-03-27T06:08:24.494278Z"
    }
   },
   "id": "5834a21b22774af4",
   "execution_count": 347
  },
  {
   "cell_type": "code",
   "outputs": [
    {
     "data": {
      "text/plain": "<Figure size 640x480 with 0 Axes>"
     },
     "metadata": {},
     "output_type": "display_data"
    },
    {
     "data": {
      "text/plain": "<Figure size 640x480 with 1 Axes>",
      "image/png": "[encoded data removed]"
     },
     "metadata": {},
     "output_type": "display_data"
    }
   ],
   "source": [
    "plt.figure()\n",
    "\n",
    "row_num_df = pd.DataFrame(row_counts, index=[0])\n",
    "row_num_df.plot.bar()\n",
    "\n",
    "plt.xlabel('Datasets')\n",
    "plt.ylabel('Number of Rows (in millions)')\n",
    "plt.show()"
   ],
   "metadata": {
    "collapsed": false,
    "ExecuteTime": {
     "end_time": "2024-03-27T06:08:24.614356Z",
     "start_time": "2024-03-27T06:08:24.499397Z"
    }
   },
   "id": "96bf3b0a2a0029cd",
   "execution_count": 348
  },
  {
   "cell_type": "markdown",
   "source": [
    "We will first merge \"df_titles\" with the dataframes \"df_ratings\" and then \"df_names\". We can see that all the dataframes to be merged have equal amount of row values than \"df_titles\", but we only care about the data in the \"df_titles\". So we'll use a left join."
   ],
   "metadata": {
    "collapsed": false
   },
   "id": "acc1b7a40ebe2e00"
  },
  {
   "cell_type": "code",
   "outputs": [
    {
     "data": {
      "text/plain": "      tconst titleType            primaryTitle           originalTitle  \\\n0  tt0000001     short              Carmencita              Carmencita   \n1  tt0000002     short  Le clown et ses chiens  Le clown et ses chiens   \n2  tt0000003     short          Pauvre Pierrot          Pauvre Pierrot   \n3  tt0000004     short             Un bon bock             Un bon bock   \n4  tt0000005     short        Blacksmith Scene        Blacksmith Scene   \n\n   isAdult startYear endYear                    genres       genre1  genre2  \\\n0        0      1894      \\N         Documentary,Short  Documentary   Short   \n1        0      1892      \\N           Animation,Short    Animation   Short   \n2        0      1892      \\N  Animation,Comedy,Romance    Animation  Comedy   \n3        0      1892      \\N           Animation,Short    Animation   Short   \n4        0      1893      \\N              Comedy,Short       Comedy   Short   \n\n    genre3  startDecade  averageRating  numVotes  \n0     None         1894            5.7      2032  \n1     None         1892            5.7       272  \n2  Romance         1892            6.5      1973  \n3     None         1892            5.4       178  \n4     None         1893            6.2      2731  ",
      "text/html": "<div>\n<style scoped>\n    .dataframe tbody tr th:only-of-type {\n        vertical-align: middle;\n    }\n\n    .dataframe tbody tr th {\n        vertical-align: top;\n    }\n\n    .dataframe thead th {\n        text-align: right;\n    }\n</style>\n<table border=\"1\" class=\"dataframe\">\n  <thead>\n    <tr style=\"text-align: right;\">\n      <th></th>\n      <th>tconst</th>\n      <th>titleType</th>\n      <th>primaryTitle</th>\n      <th>originalTitle</th>\n      <th>isAdult</th>\n      <th>startYear</th>\n      <th>endYear</th>\n      <th>genres</th>\n      <th>genre1</th>\n      <th>genre2</th>\n      <th>genre3</th>\n      <th>startDecade</th>\n      <th>averageRating</th>\n      <th>numVotes</th>\n    </tr>\n  </thead>\n  <tbody>\n    <tr>\n      <th>0</th>\n      <td>tt0000001</td>\n      <td>short</td>\n      <td>Carmencita</td>\n      <td>Carmencita</td>\n      <td>0</td>\n      <td>1894</td>\n      <td>\\N</td>\n      <td>Documentary,Short</td>\n      <td>Documentary</td>\n      <td>Short</td>\n      <td>None</td>\n      <td>1894</td>\n      <td>5.7</td>\n      <td>2032</td>\n    </tr>\n    <tr>\n      <th>1</th>\n      <td>tt0000002</td>\n      <td>short</td>\n      <td>Le clown et ses chiens</td>\n      <td>Le clown et ses chiens</td>\n      <td>0</td>\n      <td>1892</td>\n      <td>\\N</td>\n      <td>Animation,Short</td>\n      <td>Animation</td>\n      <td>Short</td>\n      <td>None</td>\n      <td>1892</td>\n      <td>5.7</td>\n      <td>272</td>\n    </tr>\n    <tr>\n      <th>2</th>\n      <td>tt0000003</td>\n      <td>short</td>\n      <td>Pauvre Pierrot</td>\n      <td>Pauvre Pierrot</td>\n      <td>0</td>\n      <td>1892</td>\n      <td>\\N</td>\n      <td>Animation,Comedy,Romance</td>\n      <td>Animation</td>\n      <td>Comedy</td>\n      <td>Romance</td>\n      <td>1892</td>\n      <td>6.5</td>\n      <td>1973</td>\n    </tr>\n    <tr>\n      <th>3</th>\n      <td>tt0000004</td>\n      <td>short</td>\n      <td>Un bon bock</td>\n      <td>Un bon bock</td>\n      <td>0</td>\n      <td>1892</td>\n      <td>\\N</td>\n      <td>Animation,Short</td>\n      <td>Animation</td>\n      <td>Short</td>\n      <td>None</td>\n      <td>1892</td>\n      <td>5.4</td>\n      <td>178</td>\n    </tr>\n    <tr>\n      <th>4</th>\n      <td>tt0000005</td>\n      <td>short</td>\n      <td>Blacksmith Scene</td>\n      <td>Blacksmith Scene</td>\n      <td>0</td>\n      <td>1893</td>\n      <td>\\N</td>\n      <td>Comedy,Short</td>\n      <td>Comedy</td>\n      <td>Short</td>\n      <td>None</td>\n      <td>1893</td>\n      <td>6.2</td>\n      <td>2731</td>\n    </tr>\n  </tbody>\n</table>\n</div>"
     },
     "execution_count": 349,
     "metadata": {},
     "output_type": "execute_result"
    }
   ],
   "source": [
    "merged_df = df_titles.merge(df_ratings, on=\"tconst\")\n",
    "merged_df.head()"
   ],
   "metadata": {
    "collapsed": false,
    "ExecuteTime": {
     "end_time": "2024-03-27T06:08:25.940713Z",
     "start_time": "2024-03-27T06:08:24.615398Z"
    }
   },
   "id": "b9211ab826efb751",
   "execution_count": 349
  },
  {
   "cell_type": "code",
   "outputs": [
    {
     "data": {
      "text/plain": "             tconst titleType                                 primaryTitle  \\\n0         tt0000003     short                               Pauvre Pierrot   \n1         tt0000007     short  Corbett and Courtney Before the Kinetograph   \n2         tt0000008     short       Edison Kinetoscopic Record of a Sneeze   \n3         tt0000009     movie                                   Miss Jerry   \n4         tt0000009     movie                                   Miss Jerry   \n...             ...       ...                                          ...   \n1904917  tt10145122     movie                           The Perfect Secret   \n1904918  tt10145122     movie                           The Perfect Secret   \n1904919  tt10145122     movie                           The Perfect Secret   \n1904920  tt10145122     movie                           The Perfect Secret   \n1904921  tt10145122     movie                           The Perfect Secret   \n\n                                       originalTitle  isAdult startYear  \\\n0                                     Pauvre Pierrot        0      1892   \n1        Corbett and Courtney Before the Kinetograph        0      1894   \n2             Edison Kinetoscopic Record of a Sneeze        0      1894   \n3                                         Miss Jerry        0      1894   \n4                                         Miss Jerry        0      1894   \n...                                              ...      ...       ...   \n1904917                       Das perfekte Geheimnis        0      2019   \n1904918                       Das perfekte Geheimnis        0      2019   \n1904919                       Das perfekte Geheimnis        0      2019   \n1904920                       Das perfekte Geheimnis        0      2019   \n1904921                       Das perfekte Geheimnis        0      2019   \n\n        endYear                    genres       genre1  genre2  ... deathYear  \\\n0            \\N  Animation,Comedy,Romance    Animation  Comedy  ...      1918   \n1            \\N               Short,Sport        Short   Sport  ...      1896   \n2            \\N         Documentary,Short  Documentary   Short  ...      1936   \n3            \\N                   Romance      Romance    None  ...      1951   \n4            \\N                   Romance      Romance    None  ...      1940   \n...         ...                       ...          ...     ...  ...       ...   \n1904917      \\N      Comedy,Drama,Romance       Comedy   Drama  ...        \\N   \n1904918      \\N      Comedy,Drama,Romance       Comedy   Drama  ...        \\N   \n1904919      \\N      Comedy,Drama,Romance       Comedy   Drama  ...        \\N   \n1904920      \\N      Comedy,Drama,Romance       Comedy   Drama  ...        \\N   \n1904921      \\N      Comedy,Drama,Romance       Comedy   Drama  ...        \\N   \n\n                                     primaryProfession  \\\n0               director,animation_department,producer   \n1                                                actor   \n2                                   assistant_director   \n3                                              actress   \n4                      director,writer,cinematographer   \n...                                                ...   \n1904917                   art_department,miscellaneous   \n1904918                              camera_department   \n1904919                      sound_department,composer   \n1904920  camera_department,set_decorator,miscellaneous   \n1904921              camera_department,cinematographer   \n\n                                     knownForTitles      title1      title2  \\\n0        tt0000003,tt16763674,tt16763740,tt13125956   tt0000003  tt16763674   \n1                                         tt0000007   tt0000007        None   \n2                     tt0285265,tt0000008,tt0240514   tt0285265   tt0000008   \n3                                         tt0000009   tt0000009        None   \n4                                         tt0000009   tt0000009        None   \n...                                             ...         ...         ...   \n1904917    tt10145122,tt0388858,tt0806910,tt5698320  tt10145122   tt0388858   \n1904918    tt0114019,tt10145122,tt0117788,tt0139429   tt0114019  tt10145122   \n1904919    tt10145122,tt5651338,tt0367181,tt0100240  tt10145122   tt5651338   \n1904920    tt2088003,tt1704142,tt0119331,tt10145122   tt2088003   tt1704142   \n1904921   tt6902676,tt10145122,tt17495410,tt9185162   tt6902676  tt10145122   \n\n             title3      title4 title5 title6 title7  \n0        tt16763740  tt13125956   None   None   None  \n1              None        None   None   None   None  \n2         tt0240514        None   None   None   None  \n3              None        None   None   None   None  \n4              None        None   None   None   None  \n...             ...         ...    ...    ...    ...  \n1904917   tt0806910   tt5698320   None   None   None  \n1904918   tt0117788   tt0139429   None   None   None  \n1904919   tt0367181   tt0100240   None   None   None  \n1904920   tt0119331  tt10145122   None   None   None  \n1904921  tt17495410   tt9185162   None   None   None  \n\n[1904922 rows x 27 columns]",
      "text/html": "<div>\n<style scoped>\n    .dataframe tbody tr th:only-of-type {\n        vertical-align: middle;\n    }\n\n    .dataframe tbody tr th {\n        vertical-align: top;\n    }\n\n    .dataframe thead th {\n        text-align: right;\n    }\n</style>\n<table border=\"1\" class=\"dataframe\">\n  <thead>\n    <tr style=\"text-align: right;\">\n      <th></th>\n      <th>tconst</th>\n      <th>titleType</th>\n      <th>primaryTitle</th>\n      <th>originalTitle</th>\n      <th>isAdult</th>\n      <th>startYear</th>\n      <th>endYear</th>\n      <th>genres</th>\n      <th>genre1</th>\n      <th>genre2</th>\n      <th>...</th>\n      <th>deathYear</th>\n      <th>primaryProfession</th>\n      <th>knownForTitles</th>\n      <th>title1</th>\n      <th>title2</th>\n      <th>title3</th>\n      <th>title4</th>\n      <th>title5</th>\n      <th>title6</th>\n      <th>title7</th>\n    </tr>\n  </thead>\n  <tbody>\n    <tr>\n      <th>0</th>\n      <td>tt0000003</td>\n      <td>short</td>\n      <td>Pauvre Pierrot</td>\n      <td>Pauvre Pierrot</td>\n      <td>0</td>\n      <td>1892</td>\n      <td>\\N</td>\n      <td>Animation,Comedy,Romance</td>\n      <td>Animation</td>\n      <td>Comedy</td>\n      <td>...</td>\n      <td>1918</td>\n      <td>director,animation_department,producer</td>\n      <td>tt0000003,tt16763674,tt16763740,tt13125956</td>\n      <td>tt0000003</td>\n      <td>tt16763674</td>\n      <td>tt16763740</td>\n      <td>tt13125956</td>\n      <td>None</td>\n      <td>None</td>\n      <td>None</td>\n    </tr>\n    <tr>\n      <th>1</th>\n      <td>tt0000007</td>\n      <td>short</td>\n      <td>Corbett and Courtney Before the Kinetograph</td>\n      <td>Corbett and Courtney Before the Kinetograph</td>\n      <td>0</td>\n      <td>1894</td>\n      <td>\\N</td>\n      <td>Short,Sport</td>\n      <td>Short</td>\n      <td>Sport</td>\n      <td>...</td>\n      <td>1896</td>\n      <td>actor</td>\n      <td>tt0000007</td>\n      <td>tt0000007</td>\n      <td>None</td>\n      <td>None</td>\n      <td>None</td>\n      <td>None</td>\n      <td>None</td>\n      <td>None</td>\n    </tr>\n    <tr>\n      <th>2</th>\n      <td>tt0000008</td>\n      <td>short</td>\n      <td>Edison Kinetoscopic Record of a Sneeze</td>\n      <td>Edison Kinetoscopic Record of a Sneeze</td>\n      <td>0</td>\n      <td>1894</td>\n      <td>\\N</td>\n      <td>Documentary,Short</td>\n      <td>Documentary</td>\n      <td>Short</td>\n      <td>...</td>\n      <td>1936</td>\n      <td>assistant_director</td>\n      <td>tt0285265,tt0000008,tt0240514</td>\n      <td>tt0285265</td>\n      <td>tt0000008</td>\n      <td>tt0240514</td>\n      <td>None</td>\n      <td>None</td>\n      <td>None</td>\n      <td>None</td>\n    </tr>\n    <tr>\n      <th>3</th>\n      <td>tt0000009</td>\n      <td>movie</td>\n      <td>Miss Jerry</td>\n      <td>Miss Jerry</td>\n      <td>0</td>\n      <td>1894</td>\n      <td>\\N</td>\n      <td>Romance</td>\n      <td>Romance</td>\n      <td>None</td>\n      <td>...</td>\n      <td>1951</td>\n      <td>actress</td>\n      <td>tt0000009</td>\n      <td>tt0000009</td>\n      <td>None</td>\n      <td>None</td>\n      <td>None</td>\n      <td>None</td>\n      <td>None</td>\n      <td>None</td>\n    </tr>\n    <tr>\n      <th>4</th>\n      <td>tt0000009</td>\n      <td>movie</td>\n      <td>Miss Jerry</td>\n      <td>Miss Jerry</td>\n      <td>0</td>\n      <td>1894</td>\n      <td>\\N</td>\n      <td>Romance</td>\n      <td>Romance</td>\n      <td>None</td>\n      <td>...</td>\n      <td>1940</td>\n      <td>director,writer,cinematographer</td>\n      <td>tt0000009</td>\n      <td>tt0000009</td>\n      <td>None</td>\n      <td>None</td>\n      <td>None</td>\n      <td>None</td>\n      <td>None</td>\n      <td>None</td>\n    </tr>\n    <tr>\n      <th>...</th>\n      <td>...</td>\n      <td>...</td>\n      <td>...</td>\n      <td>...</td>\n      <td>...</td>\n      <td>...</td>\n      <td>...</td>\n      <td>...</td>\n      <td>...</td>\n      <td>...</td>\n      <td>...</td>\n      <td>...</td>\n      <td>...</td>\n      <td>...</td>\n      <td>...</td>\n      <td>...</td>\n      <td>...</td>\n      <td>...</td>\n      <td>...</td>\n      <td>...</td>\n      <td>...</td>\n    </tr>\n    <tr>\n      <th>1904917</th>\n      <td>tt10145122</td>\n      <td>movie</td>\n      <td>The Perfect Secret</td>\n      <td>Das perfekte Geheimnis</td>\n      <td>0</td>\n      <td>2019</td>\n      <td>\\N</td>\n      <td>Comedy,Drama,Romance</td>\n      <td>Comedy</td>\n      <td>Drama</td>\n      <td>...</td>\n      <td>\\N</td>\n      <td>art_department,miscellaneous</td>\n      <td>tt10145122,tt0388858,tt0806910,tt5698320</td>\n      <td>tt10145122</td>\n      <td>tt0388858</td>\n      <td>tt0806910</td>\n      <td>tt5698320</td>\n      <td>None</td>\n      <td>None</td>\n      <td>None</td>\n    </tr>\n    <tr>\n      <th>1904918</th>\n      <td>tt10145122</td>\n      <td>movie</td>\n      <td>The Perfect Secret</td>\n      <td>Das perfekte Geheimnis</td>\n      <td>0</td>\n      <td>2019</td>\n      <td>\\N</td>\n      <td>Comedy,Drama,Romance</td>\n      <td>Comedy</td>\n      <td>Drama</td>\n      <td>...</td>\n      <td>\\N</td>\n      <td>camera_department</td>\n      <td>tt0114019,tt10145122,tt0117788,tt0139429</td>\n      <td>tt0114019</td>\n      <td>tt10145122</td>\n      <td>tt0117788</td>\n      <td>tt0139429</td>\n      <td>None</td>\n      <td>None</td>\n      <td>None</td>\n    </tr>\n    <tr>\n      <th>1904919</th>\n      <td>tt10145122</td>\n      <td>movie</td>\n      <td>The Perfect Secret</td>\n      <td>Das perfekte Geheimnis</td>\n      <td>0</td>\n      <td>2019</td>\n      <td>\\N</td>\n      <td>Comedy,Drama,Romance</td>\n      <td>Comedy</td>\n      <td>Drama</td>\n      <td>...</td>\n      <td>\\N</td>\n      <td>sound_department,composer</td>\n      <td>tt10145122,tt5651338,tt0367181,tt0100240</td>\n      <td>tt10145122</td>\n      <td>tt5651338</td>\n      <td>tt0367181</td>\n      <td>tt0100240</td>\n      <td>None</td>\n      <td>None</td>\n      <td>None</td>\n    </tr>\n    <tr>\n      <th>1904920</th>\n      <td>tt10145122</td>\n      <td>movie</td>\n      <td>The Perfect Secret</td>\n      <td>Das perfekte Geheimnis</td>\n      <td>0</td>\n      <td>2019</td>\n      <td>\\N</td>\n      <td>Comedy,Drama,Romance</td>\n      <td>Comedy</td>\n      <td>Drama</td>\n      <td>...</td>\n      <td>\\N</td>\n      <td>camera_department,set_decorator,miscellaneous</td>\n      <td>tt2088003,tt1704142,tt0119331,tt10145122</td>\n      <td>tt2088003</td>\n      <td>tt1704142</td>\n      <td>tt0119331</td>\n      <td>tt10145122</td>\n      <td>None</td>\n      <td>None</td>\n      <td>None</td>\n    </tr>\n    <tr>\n      <th>1904921</th>\n      <td>tt10145122</td>\n      <td>movie</td>\n      <td>The Perfect Secret</td>\n      <td>Das perfekte Geheimnis</td>\n      <td>0</td>\n      <td>2019</td>\n      <td>\\N</td>\n      <td>Comedy,Drama,Romance</td>\n      <td>Comedy</td>\n      <td>Drama</td>\n      <td>...</td>\n      <td>\\N</td>\n      <td>camera_department,cinematographer</td>\n      <td>tt6902676,tt10145122,tt17495410,tt9185162</td>\n      <td>tt6902676</td>\n      <td>tt10145122</td>\n      <td>tt17495410</td>\n      <td>tt9185162</td>\n      <td>None</td>\n      <td>None</td>\n      <td>None</td>\n    </tr>\n  </tbody>\n</table>\n<p>1904922 rows × 27 columns</p>\n</div>"
     },
     "execution_count": 350,
     "metadata": {},
     "output_type": "execute_result"
    }
   ],
   "source": [
    "actors_split = df_names.assign(tconst=df_names['knownForTitles'].str.split(',')).explode('tconst')\n",
    "\n",
    "movies_people_df = pd.merge(merged_df, actors_split, left_on='tconst', right_on='tconst')\n",
    "movies_people_df"
   ],
   "metadata": {
    "collapsed": false,
    "ExecuteTime": {
     "end_time": "2024-03-27T06:08:36.626150Z",
     "start_time": "2024-03-27T06:08:25.944847Z"
    }
   },
   "id": "8deae76cf1483006",
   "execution_count": 350
  },
  {
   "cell_type": "markdown",
   "source": [
    "# COMBINED DATA PREPARATION"
   ],
   "metadata": {
    "collapsed": false
   },
   "id": "56cd1e1a73a6de3e"
  },
  {
   "cell_type": "code",
   "outputs": [],
   "source": [
    "from functions import col_info"
   ],
   "metadata": {
    "collapsed": false,
    "ExecuteTime": {
     "end_time": "2024-03-27T06:08:36.630445Z",
     "start_time": "2024-03-27T06:08:36.627214Z"
    }
   },
   "id": "897cfd070540902a",
   "execution_count": 351
  },
  {
   "cell_type": "code",
   "outputs": [
    {
     "name": "stdout",
     "output_type": "stream",
     "text": [
      "The full dataset contains: 1904922 rows and 23 columns. Details for the requested column(s) are as follows:\n",
      "\n",
      "\u001B[1m tconst \u001B[0m: object : 191822 levels\n",
      "['tt0000003', 'tt0000007', 'tt0000008', 'tt0000009', 'tt0000012'] ...\n",
      "\u001B[1m titleType \u001B[0m: object : 10 levels\n",
      "['short', 'movie', 'tvMovie', 'tvSeries', 'tvMiniSeries', 'tvShort', 'tvSpecial'] ...\n",
      "\n",
      "\u001B[1m primaryTitle \u001B[0m: object : 171093 levels\n",
      "['Pauvre Pierrot', 'Corbett and Courtney Before the Kinetograph'] ...\n",
      "\u001B[1m originalTitle \u001B[0m: object : 174873 levels\n",
      "['Pauvre Pierrot', 'Corbett and Courtney Before the Kinetograph'] ...\n",
      "\n",
      "\u001B[1m startYear \u001B[0m: object : 133 levels\n",
      "['1892', '1894', '1896', '1895', '1897', '1898', '1899', '1900', '1901', '1902', '1903', '1904'] ...\n",
      "\n",
      "\u001B[1m endYear \u001B[0m: object : 80 levels\n",
      "['\\\\N', '1945', '1949', '1958', '1951', '1950', '1954', '1957', '1952', '1956', '1967', '1971'] ...\n",
      "\u001B[1m genres \u001B[0m: object : 1505 levels\n",
      "['Animation,Comedy,Romance', 'Short,Sport'] ...\n",
      "\n",
      "\u001B[1m genre1 \u001B[0m: object : 29 levels\n",
      "['Animation', 'Short', 'Documentary', 'Romance', 'Comedy', 'News'] ...\n",
      "\u001B[1m genre2 \u001B[0m: object : 28 levels\n",
      "['Comedy', 'Sport', 'Short', None, 'News', 'Horror', 'Family', 'Fantasy', 'Crime'] ...\n",
      "\n",
      "\u001B[1m genre3 \u001B[0m: object : 27 levels\n",
      "['Romance', None, 'Sport', 'Short', 'Fantasy', 'Horror', 'Drama', 'Comedy'] ...\n",
      "\u001B[1m nconst \u001B[0m: object : 839960 levels\n",
      "['nm0721526', 'nm0183947', 'nm0653028', 'nm0063086', 'nm0085156'] ...\n",
      "\u001B[1m primaryName \u001B[0m: object : 795678 levels\n",
      "['Émile Reynaud', 'Peter Courtney', 'Fred Ott', 'Blanche Bayliss'] ...\n",
      "\n",
      "\u001B[1m birthYear \u001B[0m: object : 356 levels\n",
      "['1844', '1867', '1860', '1878', '1859', '1875', '1874', '1862', '\\\\N', '1881', '1864', '1854'] ...\n",
      "\u001B[1m deathYear \u001B[0m: object : 321 levels\n",
      "['1918', '1896', '1936', '1951', '1940', '1933', '1963', '1954', '\\\\N', '1948', '1921', '1941'] ...\n",
      "\n",
      "\u001B[1m primaryProfession \u001B[0m: object : 11507 levels\n",
      "['director,animation_department,producer'] ...\n",
      "\u001B[1m knownForTitles \u001B[0m: object : 669353 levels\n",
      "['tt0000003,tt16763674,tt16763740,tt13125956'] ...\n",
      "\u001B[1m title1 \u001B[0m: object : 232585 levels\n",
      "['tt0000003', 'tt0000007', 'tt0285265', 'tt0000009', 'tt0020403'] ...\n",
      "\u001B[1m title2 \u001B[0m: object : 222794 levels\n",
      "['tt16763674', None, 'tt0000008', 'tt0021535', 'tt0791136'] ...\n",
      "\n",
      "\u001B[1m title3 \u001B[0m: object : 203487 levels\n",
      "['tt16763740', None, 'tt0240514', 'tt0020355', 'tt0000012'] ...\n",
      "\u001B[1m title4 \u001B[0m: object : 186555 levels\n",
      "['tt13125956', None, 'tt0000009', 'tt0221930', 'tt8485720'] ...\n",
      "\n",
      "\u001B[1m title5 \u001B[0m: object : 37 levels\n",
      "[None, 'tt0038146', 'tt0156217', 'tt0053628', 'tt0460681', 'tt0088559'] ...\n",
      "\n",
      "\u001B[1m title6 \u001B[0m: object : 3 levels\n",
      "[None, 'tt0252111', 'tt5994668'] \n",
      "\n",
      "\u001B[1m title7 \u001B[0m: object : 2 levels\n",
      "[None, 'tt1159931'] \n"
     ]
    }
   ],
   "source": [
    "col_info(movies_people_df.select_dtypes(include='object'))"
   ],
   "metadata": {
    "collapsed": false,
    "ExecuteTime": {
     "end_time": "2024-03-27T06:08:46.851967Z",
     "start_time": "2024-03-27T06:08:36.631507Z"
    }
   },
   "id": "ede08f04de6390a5",
   "execution_count": 352
  },
  {
   "cell_type": "markdown",
   "source": [
    "# Data Replacement"
   ],
   "metadata": {
    "collapsed": false
   },
   "id": "3814287db7fd18a9"
  },
  {
   "cell_type": "markdown",
   "source": [
    "We can see that there are quite a few columns in \"movie_and_actor_df\" such as 'startYear' which are actually int type but are stored as object type and have incorrect values '\\N'. We need to remove '\\N' values from the number-like value string to ensure that data conversion afterward is successful.\n",
    "\n",
    "Let's get a list of all the column names we need."
   ],
   "metadata": {
    "collapsed": false
   },
   "id": "e04d85437eec118a"
  },
  {
   "cell_type": "code",
   "outputs": [
    {
     "data": {
      "text/plain": "Index(['startYear', 'endYear', 'birthYear', 'deathYear'], dtype='object')"
     },
     "execution_count": 353,
     "metadata": {},
     "output_type": "execute_result"
    }
   ],
   "source": [
    "movies_people_df.filter(regex='(?i)year').columns"
   ],
   "metadata": {
    "collapsed": false,
    "ExecuteTime": {
     "end_time": "2024-03-27T06:08:47.807838Z",
     "start_time": "2024-03-27T06:08:46.853012Z"
    }
   },
   "id": "cad47983d945256f",
   "execution_count": 353
  },
  {
   "cell_type": "markdown",
   "source": [
    "Before converting  the values of each of the above columns to integer however, we must first ensure that all are values are stored correctly with no missing or incorrect values."
   ],
   "metadata": {
    "collapsed": false
   },
   "id": "f4659eec3ccc6d51"
  },
  {
   "cell_type": "markdown",
   "source": [
    "# Initial Data Conversion"
   ],
   "metadata": {
    "collapsed": false
   },
   "id": "db039c0bc2a76628"
  },
  {
   "cell_type": "code",
   "outputs": [],
   "source": [
    "year_cols = columns_with_year = [col for col in movies_people_df.columns if 'year' in col.lower()]\n",
    "\n",
    "for col in year_cols:\n",
    "    movies_people_df[col] = movies_people_df[col].fillna(0)\n",
    "    movies_people_df[col] = movies_people_df[col].replace(['\\\\N'], 0)"
   ],
   "metadata": {
    "collapsed": false,
    "ExecuteTime": {
     "end_time": "2024-03-27T06:08:50.384852Z",
     "start_time": "2024-03-27T06:08:47.808873Z"
    }
   },
   "id": "288f37fd2b87db8c",
   "execution_count": 354
  },
  {
   "cell_type": "code",
   "outputs": [
    {
     "name": "stdout",
     "output_type": "stream",
     "text": [
      "\u001B[1mstartYear\u001B[0m\n"
     ]
    },
    {
     "data": {
      "text/plain": "1997    74678\n1998    73404\n1999    73298\n2000    69009\n1996    68898\n        ...  \n0          16\n1902       15\n1904       15\n1891        6\n1892        1\nName: startYear, Length: 133, dtype: int64"
     },
     "metadata": {},
     "output_type": "display_data"
    },
    {
     "name": "stdout",
     "output_type": "stream",
     "text": [
      "\u001B[1mendYear\u001B[0m\n"
     ]
    },
    {
     "data": {
      "text/plain": "0       1618400\n2001      11270\n1998      10596\n1999      10533\n2000       9247\n         ...   \n1950         81\n2025         77\n1949         28\n1938         15\n1945          8\nName: endYear, Length: 80, dtype: int64"
     },
     "metadata": {},
     "output_type": "display_data"
    },
    {
     "name": "stdout",
     "output_type": "stream",
     "text": [
      "\u001B[1mbirthYear\u001B[0m\n"
     ]
    },
    {
     "data": {
      "text/plain": "0       1251915\n1947      10782\n1946      10344\n1948      10036\n1943       9876\n         ...   \n1641          1\n1474          1\n1768          1\n2006          1\n2004          1\nName: birthYear, Length: 356, dtype: int64"
     },
     "metadata": {},
     "output_type": "display_data"
    },
    {
     "name": "stdout",
     "output_type": "stream",
     "text": [
      "\u001B[1mdeathYear\u001B[0m\n"
     ]
    },
    {
     "data": {
      "text/plain": "0       1540069\n2020       8379\n2021       8173\n2011       7636\n2018       7570\n         ...   \n1786          1\n1527          1\n1591          1\n1726          1\n1463          1\nName: deathYear, Length: 321, dtype: int64"
     },
     "metadata": {},
     "output_type": "display_data"
    }
   ],
   "source": [
    "for col in year_cols:\n",
    "    print(f'\\033[1m{col}\\033[0m')\n",
    "    display(movies_people_df[col].value_counts())"
   ],
   "metadata": {
    "collapsed": false,
    "ExecuteTime": {
     "end_time": "2024-03-27T06:08:50.643453Z",
     "start_time": "2024-03-27T06:08:50.385896Z"
    }
   },
   "id": "ebffdc859e563f4",
   "execution_count": 355
  },
  {
   "cell_type": "markdown",
   "source": [
    "# Redundant Data"
   ],
   "metadata": {
    "collapsed": false
   },
   "id": "3be06caee4674373"
  },
  {
   "cell_type": "markdown",
   "source": [
    "First we have to handle all the repeating data in the dataframe."
   ],
   "metadata": {
    "collapsed": false
   },
   "id": "7d5c99eab4058561"
  },
  {
   "cell_type": "code",
   "outputs": [],
   "source": [
    "movies_people_df.drop_duplicates(subset=['tconst'], inplace=True)"
   ],
   "metadata": {
    "collapsed": false,
    "ExecuteTime": {
     "end_time": "2024-03-27T06:08:51.889853Z",
     "start_time": "2024-03-27T06:08:50.644504Z"
    }
   },
   "id": "51b854a04802c95e",
   "execution_count": 356
  },
  {
   "cell_type": "code",
   "outputs": [
    {
     "data": {
      "text/plain": "tt0000003     1\ntt0268299     1\ntt0268277     1\ntt0268279     1\ntt0268282     1\n             ..\ntt0103121     1\ntt0103122     1\ntt0103123     1\ntt0103124     1\ntt10145122    1\nName: tconst, Length: 191822, dtype: int64"
     },
     "execution_count": 357,
     "metadata": {},
     "output_type": "execute_result"
    }
   ],
   "source": [
    "movies_people_df['tconst'].value_counts()"
   ],
   "metadata": {
    "collapsed": false,
    "ExecuteTime": {
     "end_time": "2024-03-27T06:08:52.016695Z",
     "start_time": "2024-03-27T06:08:51.890895Z"
    }
   },
   "id": "f962e4d82b1a90a3",
   "execution_count": 357
  },
  {
   "cell_type": "code",
   "outputs": [
    {
     "name": "stdout",
     "output_type": "stream",
     "text": [
      "The full dataset contains: 191822 rows and 27 columns. Details for the requested column(s) are as follows:\n",
      "\n",
      "\u001B[1m tconst \u001B[0m: object : 191822 levels\n",
      "['tt0000003', 'tt0000007', 'tt0000008', 'tt0000009', 'tt0000012'] ...\n",
      "\n",
      "\u001B[1m titleType \u001B[0m: object : 10 levels\n",
      "['short', 'movie', 'tvMovie', 'tvSeries', 'tvMiniSeries', 'tvShort', 'tvSpecial'] ...\n",
      "\n",
      "\u001B[1m primaryTitle \u001B[0m: object : 171093 levels\n",
      "['Pauvre Pierrot', 'Corbett and Courtney Before the Kinetograph'] ...\n",
      "\u001B[1m originalTitle \u001B[0m: object : 174873 levels\n",
      "['Pauvre Pierrot', 'Corbett and Courtney Before the Kinetograph'] ...\n",
      "\n",
      "\u001B[1m isAdult \u001B[0m: int64 : 2 levels\n",
      "[0, 1] \n",
      "\n",
      "\u001B[1m startYear \u001B[0m: object : 133 levels\n",
      "['1892', '1894', '1896', '1895', '1897', '1898', '1899', '1900', '1901', '1902', '1903', '1904'] ...\n",
      "\n",
      "\u001B[1m endYear \u001B[0m: object : 80 levels\n",
      "[0, '1945', '1949', '1958', '1951', '1950', '1954', '1957', '1952', '1956', '1967', '1971'] ...\n",
      "\n",
      "\u001B[1m genres \u001B[0m: object : 1505 levels\n",
      "['Animation,Comedy,Romance', 'Short,Sport'] ...\n",
      "\n",
      "\u001B[1m genre1 \u001B[0m: object : 29 levels\n",
      "['Animation', 'Short', 'Documentary', 'Romance', 'Comedy', 'News'] ...\n",
      "\n",
      "\u001B[1m genre2 \u001B[0m: object : 28 levels\n",
      "['Comedy', 'Sport', 'Short', None, 'News', 'Horror', 'Family', 'Fantasy', 'Crime'] ...\n",
      "\n",
      "\u001B[1m genre3 \u001B[0m: object : 27 levels\n",
      "['Romance', None, 'Sport', 'Short', 'Fantasy', 'Horror', 'Drama', 'Comedy'] ...\n",
      "\n",
      "\u001B[1m startDecade \u001B[0m: int64 : 133 levels\n",
      "[1892, 1894, 1896, 1895, 1897, 1898, 1899, 1900, 1901, 1902, 1903, 1904] ...\n",
      "\n",
      "\u001B[1m averageRating \u001B[0m: float64 : 91 levels\n",
      "[6.5, 5.4, 5.3, 7.4, 7.1, 3.9, 5.2, 5.0, 3.3, 3.0, 6.3, 6.7] ...\n",
      "\n",
      "\u001B[1m numVotes \u001B[0m: int64 : 13608 levels\n",
      "[1973, 848, 2175, 208, 12746, 5780, 124, 43, 880, 430, 19, 23] ...\n",
      "\u001B[1m nconst \u001B[0m: object : 142105 levels\n",
      "['nm0721526', 'nm0183947', 'nm0653028', 'nm0063086', 'nm0525900'] ...\n",
      "\n",
      "\u001B[1m primaryName \u001B[0m: object : 139702 levels\n",
      "['Émile Reynaud', 'Peter Courtney', 'Fred Ott', 'Blanche Bayliss'] ...\n",
      "\n",
      "\u001B[1m birthYear \u001B[0m: object : 249 levels\n",
      "['1844', '1867', '1860', '1878', '1874', 0, '1854', '1863', '1865', '1861', '1862', '1852'] ...\n",
      "\n",
      "\u001B[1m deathYear \u001B[0m: object : 211 levels\n",
      "['1918', '1896', '1936', '1951', '1963', 0, '1939', '1956', '1938', '1931', '1924', '1917'] ...\n",
      "\n",
      "\u001B[1m primaryProfession \u001B[0m: object : 5817 levels\n",
      "['director,animation_department,producer'] ...\n",
      "\u001B[1m knownForTitles \u001B[0m: object : 142105 levels\n",
      "['tt0000003,tt16763674,tt16763740,tt13125956'] ...\n",
      "\n",
      "\u001B[1m title1 \u001B[0m: object : 113280 levels\n",
      "['tt0000003', 'tt0000007', 'tt0285265', 'tt0000009', 'tt0222259'] ...\n",
      "\n",
      "\u001B[1m title2 \u001B[0m: object : 100866 levels\n",
      "['tt16763674', None, 'tt0000008', 'tt0791136', 'tt0000024'] ...\n",
      "\n",
      "\u001B[1m title3 \u001B[0m: object : 90828 levels\n",
      "['tt16763740', None, 'tt0240514', 'tt0000012', 'tt0000025'] ...\n",
      "\n",
      "\u001B[1m title4 \u001B[0m: object : 81421 levels\n",
      "['tt13125956', None, 'tt0221930', 'tt0000030', 'tt0453121'] ...\n",
      "\n",
      "\u001B[1m title5 \u001B[0m: object : 17 levels\n",
      "[None, 'tt0086382', 'tt0174627', 'tt2167266', 'tt0160719', 'tt0127250'] ...\n",
      "\n",
      "\u001B[1m title6 \u001B[0m: object : 2 levels\n",
      "[None, 'tt5994668'] \n",
      "\n",
      "\u001B[1m title7 \u001B[0m: object : 2 levels\n",
      "[None, 'tt1159931'] \n"
     ]
    }
   ],
   "source": [
    "col_info(movies_people_df)"
   ],
   "metadata": {
    "collapsed": false,
    "ExecuteTime": {
     "end_time": "2024-03-27T06:08:53.091408Z",
     "start_time": "2024-03-27T06:08:52.017728Z"
    }
   },
   "id": "f3774fda18b0a4c1",
   "execution_count": 358
  },
  {
   "cell_type": "markdown",
   "source": [
    "From the column info above, we can see that there are a few columns which seem to contain the same information. These columns and the individual datasets they came from are as follows:"
   ],
   "metadata": {
    "collapsed": false
   },
   "id": "ed4c6adc99ade068"
  },
  {
   "cell_type": "markdown",
   "source": [
    "- primaryTitle and originalTitle\n",
    "- genres and genre1, genre2 & genre3\n",
    "- knownForTitles and title1, title2, title3, title4, title5, title6 & title7"
   ],
   "metadata": {
    "collapsed": false
   },
   "id": "23af37e30189e9f6"
  },
  {
   "cell_type": "markdown",
   "source": [
    "So let's filter the combined dataset to include only these columns and then have a look at it more closely."
   ],
   "metadata": {
    "collapsed": false
   },
   "id": "97fb030b9918d5b3"
  },
  {
   "cell_type": "code",
   "outputs": [
    {
     "data": {
      "text/plain": "                                     primaryTitle  \\\n0                                  Pauvre Pierrot   \n1     Corbett and Courtney Before the Kinetograph   \n2          Edison Kinetoscopic Record of a Sneeze   \n3                                      Miss Jerry   \n6                          The Arrival of a Train   \n8                             The Waterer Watered   \n11                      Opening of the Kiel Canal   \n14  The Oxford and Cambridge University Boat Race   \n15                             Rough Sea at Dover   \n16                          Die Serpentintänzerin   \n\n                                    originalTitle  \n0                                  Pauvre Pierrot  \n1     Corbett and Courtney Before the Kinetograph  \n2          Edison Kinetoscopic Record of a Sneeze  \n3                                      Miss Jerry  \n6                L'arrivée d'un train à La Ciotat  \n8                               L'arroseur arrosé  \n11                      Opening of the Kiel Canal  \n14  The Oxford and Cambridge University Boat Race  \n15                             Rough Sea at Dover  \n16                          Die Serpentintänzerin  ",
      "text/html": "<div>\n<style scoped>\n    .dataframe tbody tr th:only-of-type {\n        vertical-align: middle;\n    }\n\n    .dataframe tbody tr th {\n        vertical-align: top;\n    }\n\n    .dataframe thead th {\n        text-align: right;\n    }\n</style>\n<table border=\"1\" class=\"dataframe\">\n  <thead>\n    <tr style=\"text-align: right;\">\n      <th></th>\n      <th>primaryTitle</th>\n      <th>originalTitle</th>\n    </tr>\n  </thead>\n  <tbody>\n    <tr>\n      <th>0</th>\n      <td>Pauvre Pierrot</td>\n      <td>Pauvre Pierrot</td>\n    </tr>\n    <tr>\n      <th>1</th>\n      <td>Corbett and Courtney Before the Kinetograph</td>\n      <td>Corbett and Courtney Before the Kinetograph</td>\n    </tr>\n    <tr>\n      <th>2</th>\n      <td>Edison Kinetoscopic Record of a Sneeze</td>\n      <td>Edison Kinetoscopic Record of a Sneeze</td>\n    </tr>\n    <tr>\n      <th>3</th>\n      <td>Miss Jerry</td>\n      <td>Miss Jerry</td>\n    </tr>\n    <tr>\n      <th>6</th>\n      <td>The Arrival of a Train</td>\n      <td>L'arrivée d'un train à La Ciotat</td>\n    </tr>\n    <tr>\n      <th>8</th>\n      <td>The Waterer Watered</td>\n      <td>L'arroseur arrosé</td>\n    </tr>\n    <tr>\n      <th>11</th>\n      <td>Opening of the Kiel Canal</td>\n      <td>Opening of the Kiel Canal</td>\n    </tr>\n    <tr>\n      <th>14</th>\n      <td>The Oxford and Cambridge University Boat Race</td>\n      <td>The Oxford and Cambridge University Boat Race</td>\n    </tr>\n    <tr>\n      <th>15</th>\n      <td>Rough Sea at Dover</td>\n      <td>Rough Sea at Dover</td>\n    </tr>\n    <tr>\n      <th>16</th>\n      <td>Die Serpentintänzerin</td>\n      <td>Die Serpentintänzerin</td>\n    </tr>\n  </tbody>\n</table>\n</div>"
     },
     "execution_count": 359,
     "metadata": {},
     "output_type": "execute_result"
    }
   ],
   "source": [
    "title = movies_people_df[['primaryTitle', 'originalTitle']]\n",
    "title.head(10)"
   ],
   "metadata": {
    "collapsed": false,
    "ExecuteTime": {
     "end_time": "2024-03-27T06:08:53.107232Z",
     "start_time": "2024-03-27T06:08:53.092473Z"
    }
   },
   "id": "c94f399e6ba1ef7",
   "execution_count": 359
  },
  {
   "cell_type": "markdown",
   "source": [
    "In the case of primaryTitle and originalTitle they contain some information. originalTitle contains the names in their original language this is not very relevant as we only care about the english names of the titles in this analysis so we can remove the originalTitle column."
   ],
   "metadata": {
    "collapsed": false
   },
   "id": "ee940dadd94aec02"
  },
  {
   "cell_type": "code",
   "outputs": [],
   "source": [
    "movies_people_df.drop('originalTitle', axis=1, inplace=True)"
   ],
   "metadata": {
    "collapsed": false,
    "ExecuteTime": {
     "end_time": "2024-03-27T06:08:53.210662Z",
     "start_time": "2024-03-27T06:08:53.108334Z"
    }
   },
   "id": "292e8b9be7a2b92c",
   "execution_count": 360
  },
  {
   "cell_type": "code",
   "outputs": [
    {
     "data": {
      "text/plain": "                           genres       genre1    genre2   genre3\n0        Animation,Comedy,Romance    Animation    Comedy  Romance\n1                     Short,Sport        Short     Sport     None\n2               Documentary,Short  Documentary     Short     None\n3                         Romance      Romance      None     None\n6               Documentary,Short  Documentary     Short     None\n...                           ...          ...       ...      ...\n1904905                  Thriller     Thriller      None     None\n1904906              Sci-Fi,Short       Sci-Fi     Short     None\n1904908              Action,Short       Action     Short     None\n1904909          Fantasy,Thriller      Fantasy  Thriller     None\n1904910      Comedy,Drama,Romance       Comedy     Drama  Romance\n\n[191822 rows x 4 columns]",
      "text/html": "<div>\n<style scoped>\n    .dataframe tbody tr th:only-of-type {\n        vertical-align: middle;\n    }\n\n    .dataframe tbody tr th {\n        vertical-align: top;\n    }\n\n    .dataframe thead th {\n        text-align: right;\n    }\n</style>\n<table border=\"1\" class=\"dataframe\">\n  <thead>\n    <tr style=\"text-align: right;\">\n      <th></th>\n      <th>genres</th>\n      <th>genre1</th>\n      <th>genre2</th>\n      <th>genre3</th>\n    </tr>\n  </thead>\n  <tbody>\n    <tr>\n      <th>0</th>\n      <td>Animation,Comedy,Romance</td>\n      <td>Animation</td>\n      <td>Comedy</td>\n      <td>Romance</td>\n    </tr>\n    <tr>\n      <th>1</th>\n      <td>Short,Sport</td>\n      <td>Short</td>\n      <td>Sport</td>\n      <td>None</td>\n    </tr>\n    <tr>\n      <th>2</th>\n      <td>Documentary,Short</td>\n      <td>Documentary</td>\n      <td>Short</td>\n      <td>None</td>\n    </tr>\n    <tr>\n      <th>3</th>\n      <td>Romance</td>\n      <td>Romance</td>\n      <td>None</td>\n      <td>None</td>\n    </tr>\n    <tr>\n      <th>6</th>\n      <td>Documentary,Short</td>\n      <td>Documentary</td>\n      <td>Short</td>\n      <td>None</td>\n    </tr>\n    <tr>\n      <th>...</th>\n      <td>...</td>\n      <td>...</td>\n      <td>...</td>\n      <td>...</td>\n    </tr>\n    <tr>\n      <th>1904905</th>\n      <td>Thriller</td>\n      <td>Thriller</td>\n      <td>None</td>\n      <td>None</td>\n    </tr>\n    <tr>\n      <th>1904906</th>\n      <td>Sci-Fi,Short</td>\n      <td>Sci-Fi</td>\n      <td>Short</td>\n      <td>None</td>\n    </tr>\n    <tr>\n      <th>1904908</th>\n      <td>Action,Short</td>\n      <td>Action</td>\n      <td>Short</td>\n      <td>None</td>\n    </tr>\n    <tr>\n      <th>1904909</th>\n      <td>Fantasy,Thriller</td>\n      <td>Fantasy</td>\n      <td>Thriller</td>\n      <td>None</td>\n    </tr>\n    <tr>\n      <th>1904910</th>\n      <td>Comedy,Drama,Romance</td>\n      <td>Comedy</td>\n      <td>Drama</td>\n      <td>Romance</td>\n    </tr>\n  </tbody>\n</table>\n<p>191822 rows × 4 columns</p>\n</div>"
     },
     "execution_count": 361,
     "metadata": {},
     "output_type": "execute_result"
    }
   ],
   "source": [
    "genre = movies_people_df[['genres', 'genre1', 'genre2', 'genre3']]\n",
    "genre"
   ],
   "metadata": {
    "collapsed": false,
    "ExecuteTime": {
     "end_time": "2024-03-27T06:08:53.233859Z",
     "start_time": "2024-03-27T06:08:53.211760Z"
    }
   },
   "id": "dfb8a74cfd9971c1",
   "execution_count": 361
  },
  {
   "cell_type": "markdown",
   "source": [
    "They contain redundant data as the columns genre1, 2 & 3 are derived from the genres' column. So we drop this column. Similar reasoning for the knownForTitles column."
   ],
   "metadata": {
    "collapsed": false
   },
   "id": "952edb1f1c083da2"
  },
  {
   "cell_type": "code",
   "outputs": [],
   "source": [
    "movies_people_df.drop('genres', axis=1, inplace=True)\n",
    "\n",
    "movies_people_df.drop('knownForTitles', axis=1, inplace=True)"
   ],
   "metadata": {
    "collapsed": false,
    "ExecuteTime": {
     "end_time": "2024-03-27T06:08:53.422001Z",
     "start_time": "2024-03-27T06:08:53.234909Z"
    }
   },
   "id": "a66cc7feeddf2089",
   "execution_count": 362
  },
  {
   "cell_type": "markdown",
   "source": [
    "# Missing Data"
   ],
   "metadata": {
    "collapsed": false
   },
   "id": "8b727e3f94b0b7e6"
  },
  {
   "cell_type": "code",
   "outputs": [
    {
     "data": {
      "text/plain": "primaryProfession      1890\ntitle2                15678\ntitle3                31423\ntitle4                47880\ngenre2                83349\ngenre3               142044\ntitle5               191802\ntitle6               191820\ntitle7               191820\ndtype: int64"
     },
     "execution_count": 363,
     "metadata": {},
     "output_type": "execute_result"
    }
   ],
   "source": [
    "missing_counts = movies_people_df.isna().sum().sort_values()\n",
    "missing_one_plus = missing_counts[missing_counts >= 1]\n",
    "missing_one_plus"
   ],
   "metadata": {
    "collapsed": false,
    "ExecuteTime": {
     "end_time": "2024-03-27T06:08:53.971869Z",
     "start_time": "2024-03-27T06:08:53.423059Z"
    }
   },
   "id": "6d18c9ec9e2b50b6",
   "execution_count": 363
  },
  {
   "cell_type": "code",
   "outputs": [
    {
     "data": {
      "text/plain": "<Figure size 640x480 with 1 Axes>",
      "image/png": "[encoded data removed]"
     },
     "metadata": {},
     "output_type": "display_data"
    }
   ],
   "source": [
    "fig, ax = plt.subplots()\n",
    "missing_one_plus.plot(kind='barh')\n",
    "plt.grid(axis='x')\n",
    "sns.despine(left=True, bottom=False)"
   ],
   "metadata": {
    "collapsed": false,
    "ExecuteTime": {
     "end_time": "2024-03-27T06:08:54.153486Z",
     "start_time": "2024-03-27T06:08:53.972912Z"
    }
   },
   "id": "b235b06547afcc89",
   "execution_count": 364
  },
  {
   "cell_type": "markdown",
   "source": [
    "The only column with missing values among those on the graph above is primaryProfession. All the other missing values are caused by separating one column into multiple."
   ],
   "metadata": {
    "collapsed": false
   },
   "id": "49e8738386ec2a1b"
  },
  {
   "cell_type": "code",
   "outputs": [
    {
     "name": "stdout",
     "output_type": "stream",
     "text": [
      "Percentage of empty data in column 'primaryProfession': 0.9852884444954177\n"
     ]
    }
   ],
   "source": [
    "empty_percent_profession = (missing_one_plus['primaryProfession'] / len(movies_people_df)) * 100\n",
    "print(\"Percentage of empty data in column 'primaryProfession':\", empty_percent_profession)"
   ],
   "metadata": {
    "collapsed": false,
    "ExecuteTime": {
     "end_time": "2024-03-27T06:08:54.157750Z",
     "start_time": "2024-03-27T06:08:54.154487Z"
    }
   },
   "id": "c4787eb3c89ceeff",
   "execution_count": 365
  },
  {
   "cell_type": "code",
   "outputs": [
    {
     "data": {
      "text/plain": "actor                 35169\nactress               29675\nwriter                 6627\nactress,soundtrack     2725\nproducer               2619\nName: primaryProfession, dtype: int64"
     },
     "execution_count": 366,
     "metadata": {},
     "output_type": "execute_result"
    }
   ],
   "source": [
    "movies_people_df['primaryProfession'].value_counts().head()"
   ],
   "metadata": {
    "collapsed": false,
    "ExecuteTime": {
     "end_time": "2024-03-27T06:08:54.177413Z",
     "start_time": "2024-03-27T06:08:54.158755Z"
    }
   },
   "id": "14f582f09b115bcc",
   "execution_count": 366
  },
  {
   "cell_type": "markdown",
   "source": [
    "Since the column has less than 1% missing values, we can now go ahead and impute the missing values for the column with the mode value for that column."
   ],
   "metadata": {
    "collapsed": false
   },
   "id": "3445c413db4d5dba"
  },
  {
   "cell_type": "code",
   "outputs": [
    {
     "data": {
      "text/plain": "actor                 37059\nactress               29675\nwriter                 6627\nactress,soundtrack     2725\nproducer               2619\nName: primaryProfession, dtype: int64"
     },
     "execution_count": 367,
     "metadata": {},
     "output_type": "execute_result"
    }
   ],
   "source": [
    "movies_people_df['primaryProfession'] = movies_people_df['primaryProfession'].fillna(\n",
    "    movies_people_df['primaryProfession'].mode()[0])\n",
    "\n",
    "movies_people_df['primaryProfession'].value_counts().head()"
   ],
   "metadata": {
    "collapsed": false,
    "ExecuteTime": {
     "end_time": "2024-03-27T06:08:54.294834Z",
     "start_time": "2024-03-27T06:08:54.178447Z"
    }
   },
   "id": "b64770e2abf6d020",
   "execution_count": 367
  },
  {
   "cell_type": "markdown",
   "source": [
    "Let's confirm that there are no more missing values in our 'primaryProfessions' column."
   ],
   "metadata": {
    "collapsed": false
   },
   "id": "2cb7d7dad6da4d73"
  },
  {
   "cell_type": "code",
   "outputs": [
    {
     "data": {
      "text/plain": "0"
     },
     "execution_count": 368,
     "metadata": {},
     "output_type": "execute_result"
    }
   ],
   "source": [
    "movies_people_df['primaryProfession'].isna().sum()"
   ],
   "metadata": {
    "collapsed": false,
    "ExecuteTime": {
     "end_time": "2024-03-27T06:08:54.307008Z",
     "start_time": "2024-03-27T06:08:54.295907Z"
    }
   },
   "id": "9320f2b3025647ba",
   "execution_count": 368
  },
  {
   "cell_type": "code",
   "outputs": [
    {
     "data": {
      "text/plain": "tconst                  0\ntitleType               0\nprimaryTitle            0\nisAdult                 0\nstartYear               0\nendYear                 0\ngenre1               6361\ngenre2                  0\ngenre3                  0\nstartDecade             0\naverageRating           0\nnumVotes                0\nnconst                  0\nprimaryName             0\nbirthYear               0\ndeathYear               0\nprimaryProfession       0\ntitle1                  0\ntitle2                  0\ntitle3                  0\ntitle4                  0\ntitle5                  0\ntitle6                  0\ntitle7                  0\ndtype: int64"
     },
     "execution_count": 369,
     "metadata": {},
     "output_type": "execute_result"
    }
   ],
   "source": [
    "count_N_values = movies_people_df.applymap(lambda x: x == '\\\\N').sum()\n",
    "count_N_values"
   ],
   "metadata": {
    "collapsed": false,
    "ExecuteTime": {
     "end_time": "2024-03-27T06:08:55.065009Z",
     "start_time": "2024-03-27T06:08:54.308099Z"
    }
   },
   "id": "b2aa0f28737e0d6a",
   "execution_count": 369
  },
  {
   "cell_type": "code",
   "outputs": [
    {
     "name": "stdout",
     "output_type": "stream",
     "text": [
      "Percentage of empty data in column 'genre1': 3.316095129859974\n"
     ]
    }
   ],
   "source": [
    "empty_percent_genre = (count_N_values['genre1'] / len(movies_people_df)) * 100\n",
    "print(\"Percentage of empty data in column 'genre1':\", empty_percent_genre)"
   ],
   "metadata": {
    "collapsed": false,
    "ExecuteTime": {
     "end_time": "2024-03-27T06:08:55.071646Z",
     "start_time": "2024-03-27T06:08:55.066067Z"
    }
   },
   "id": "c6966ca19c2d9b21",
   "execution_count": 370
  },
  {
   "cell_type": "markdown",
   "source": [
    "Here we can see that genre1 has less than 2% of '\\N' values (incorrectly inputted data). As we have done above we will replace these with the mode value of this column."
   ],
   "metadata": {
    "collapsed": false
   },
   "id": "4c0303e7426c07ee"
  },
  {
   "cell_type": "code",
   "outputs": [
    {
     "data": {
      "text/plain": "Drama          51869\nComedy         45339\nAction         19835\nDocumentary    11923\nCrime          10620\nName: genre1, dtype: int64"
     },
     "execution_count": 371,
     "metadata": {},
     "output_type": "execute_result"
    }
   ],
   "source": [
    "movies_people_df['genre1'].value_counts().head()"
   ],
   "metadata": {
    "collapsed": false,
    "ExecuteTime": {
     "end_time": "2024-03-27T06:08:55.102734Z",
     "start_time": "2024-03-27T06:08:55.072670Z"
    }
   },
   "id": "19f05445ad666d3f",
   "execution_count": 371
  },
  {
   "cell_type": "code",
   "outputs": [],
   "source": [
    "movies_people_df['genre1'] = movies_people_df['genre1'].replace(['\\\\N'], movies_people_df['genre1'].mode()[0])"
   ],
   "metadata": {
    "collapsed": false,
    "ExecuteTime": {
     "end_time": "2024-03-27T06:08:55.228150Z",
     "start_time": "2024-03-27T06:08:55.103798Z"
    }
   },
   "id": "c9d388928dc998b1",
   "execution_count": 372
  },
  {
   "cell_type": "markdown",
   "source": [
    "Let's confirm that there are no more missing values in our 'genre1' column."
   ],
   "metadata": {
    "collapsed": false
   },
   "id": "9daf971e8f6f8cf7"
  },
  {
   "cell_type": "code",
   "outputs": [
    {
     "data": {
      "text/plain": "0"
     },
     "execution_count": 373,
     "metadata": {},
     "output_type": "execute_result"
    }
   ],
   "source": [
    "count_N_values_2 = (movies_people_df['genre1'] == '\\\\N').sum()\n",
    "count_N_values_2"
   ],
   "metadata": {
    "collapsed": false,
    "ExecuteTime": {
     "end_time": "2024-03-27T06:08:55.253730Z",
     "start_time": "2024-03-27T06:08:55.229191Z"
    }
   },
   "id": "b7dec286fe47e431",
   "execution_count": 373
  },
  {
   "cell_type": "markdown",
   "source": [
    "# Final Data Conversion"
   ],
   "metadata": {
    "collapsed": false
   },
   "id": "6e238e9279e80e70"
  },
  {
   "cell_type": "markdown",
   "source": [
    "Now that we have dealt with missing data and done some initial data conversion, we can now go ahead and convert columns that are stored as float/object type into integer type."
   ],
   "metadata": {
    "collapsed": false
   },
   "id": "afb8df06cb0863ef"
  },
  {
   "cell_type": "markdown",
   "source": [
    "## Convert to Integer"
   ],
   "metadata": {
    "collapsed": false
   },
   "id": "bb7a32ef9a8d9bd5"
  },
  {
   "cell_type": "code",
   "outputs": [
    {
     "name": "stdout",
     "output_type": "stream",
     "text": [
      "The full dataset contains: 191822 rows and 20 columns. Details for the requested column(s) are as follows:\n",
      "\n",
      "\u001B[1m tconst \u001B[0m: object : 191822 levels\n",
      "['tt0000003', 'tt0000007', 'tt0000008', 'tt0000009', 'tt0000012'] ...\n",
      "\n",
      "\u001B[1m titleType \u001B[0m: object : 10 levels\n",
      "['short', 'movie', 'tvMovie', 'tvSeries', 'tvMiniSeries', 'tvShort', 'tvSpecial'] ...\n",
      "\n",
      "\u001B[1m primaryTitle \u001B[0m: object : 171093 levels\n",
      "['Pauvre Pierrot', 'Corbett and Courtney Before the Kinetograph'] ...\n",
      "\n",
      "\u001B[1m startYear \u001B[0m: object : 133 levels\n",
      "['1892', '1894', '1896', '1895', '1897', '1898', '1899', '1900', '1901', '1902', '1903', '1904'] ...\n",
      "\n",
      "\u001B[1m endYear \u001B[0m: object : 80 levels\n",
      "[0, '1945', '1949', '1958', '1951', '1950', '1954', '1957', '1952', '1956', '1967', '1971'] ...\n",
      "\u001B[1m genre1 \u001B[0m: object : 28 levels\n",
      "['Animation', 'Short', 'Documentary', 'Romance', 'Comedy', 'News'] ...\n",
      "\n",
      "\u001B[1m genre2 \u001B[0m: object : 28 levels\n",
      "['Comedy', 'Sport', 'Short', None, 'News', 'Horror', 'Family', 'Fantasy', 'Crime'] ...\n",
      "\n",
      "\u001B[1m genre3 \u001B[0m: object : 27 levels\n",
      "['Romance', None, 'Sport', 'Short', 'Fantasy', 'Horror', 'Drama', 'Comedy'] ...\n",
      "\n",
      "\u001B[1m nconst \u001B[0m: object : 142105 levels\n",
      "['nm0721526', 'nm0183947', 'nm0653028', 'nm0063086', 'nm0525900'] ...\n",
      "\u001B[1m primaryName \u001B[0m: object : 139702 levels\n",
      "['Émile Reynaud', 'Peter Courtney', 'Fred Ott', 'Blanche Bayliss'] ...\n",
      "\n",
      "\u001B[1m birthYear \u001B[0m: object : 249 levels\n",
      "['1844', '1867', '1860', '1878', '1874', 0, '1854', '1863', '1865', '1861', '1862', '1852'] ...\n",
      "\n",
      "\u001B[1m deathYear \u001B[0m: object : 211 levels\n",
      "['1918', '1896', '1936', '1951', '1963', 0, '1939', '1956', '1938', '1931', '1924', '1917'] ...\n",
      "\n",
      "\u001B[1m primaryProfession \u001B[0m: object : 5816 levels\n",
      "['director,animation_department,producer'] ...\n",
      "\n",
      "\u001B[1m title1 \u001B[0m: object : 113280 levels\n",
      "['tt0000003', 'tt0000007', 'tt0285265', 'tt0000009', 'tt0222259'] ...\n",
      "\n",
      "\u001B[1m title2 \u001B[0m: object : 100866 levels\n",
      "['tt16763674', None, 'tt0000008', 'tt0791136', 'tt0000024'] ...\n",
      "\n",
      "\u001B[1m title3 \u001B[0m: object : 90828 levels\n",
      "['tt16763740', None, 'tt0240514', 'tt0000012', 'tt0000025'] ...\n",
      "\n",
      "\u001B[1m title4 \u001B[0m: object : 81421 levels\n",
      "['tt13125956', None, 'tt0221930', 'tt0000030', 'tt0453121'] ...\n",
      "\n",
      "\u001B[1m title5 \u001B[0m: object : 17 levels\n",
      "[None, 'tt0086382', 'tt0174627', 'tt2167266', 'tt0160719', 'tt0127250'] ...\n",
      "\n",
      "\u001B[1m title6 \u001B[0m: object : 2 levels\n",
      "[None, 'tt5994668'] \n",
      "\n",
      "\u001B[1m title7 \u001B[0m: object : 2 levels\n",
      "[None, 'tt1159931'] \n"
     ]
    }
   ],
   "source": [
    "col_info(movies_people_df.select_dtypes(include='object'))"
   ],
   "metadata": {
    "collapsed": false,
    "ExecuteTime": {
     "end_time": "2024-03-27T06:08:56.263255Z",
     "start_time": "2024-03-27T06:08:55.254765Z"
    }
   },
   "id": "2f48a35fac71bf0c",
   "execution_count": 374
  },
  {
   "cell_type": "code",
   "outputs": [
    {
     "data": {
      "text/plain": "  startYear endYear birthYear deathYear\n0      1892       0      1844      1918\n1      1894       0      1867      1896\n2      1894       0      1860      1936\n3      1894       0      1878      1951\n6      1896       0      1874      1963",
      "text/html": "<div>\n<style scoped>\n    .dataframe tbody tr th:only-of-type {\n        vertical-align: middle;\n    }\n\n    .dataframe tbody tr th {\n        vertical-align: top;\n    }\n\n    .dataframe thead th {\n        text-align: right;\n    }\n</style>\n<table border=\"1\" class=\"dataframe\">\n  <thead>\n    <tr style=\"text-align: right;\">\n      <th></th>\n      <th>startYear</th>\n      <th>endYear</th>\n      <th>birthYear</th>\n      <th>deathYear</th>\n    </tr>\n  </thead>\n  <tbody>\n    <tr>\n      <th>0</th>\n      <td>1892</td>\n      <td>0</td>\n      <td>1844</td>\n      <td>1918</td>\n    </tr>\n    <tr>\n      <th>1</th>\n      <td>1894</td>\n      <td>0</td>\n      <td>1867</td>\n      <td>1896</td>\n    </tr>\n    <tr>\n      <th>2</th>\n      <td>1894</td>\n      <td>0</td>\n      <td>1860</td>\n      <td>1936</td>\n    </tr>\n    <tr>\n      <th>3</th>\n      <td>1894</td>\n      <td>0</td>\n      <td>1878</td>\n      <td>1951</td>\n    </tr>\n    <tr>\n      <th>6</th>\n      <td>1896</td>\n      <td>0</td>\n      <td>1874</td>\n      <td>1963</td>\n    </tr>\n  </tbody>\n</table>\n</div>"
     },
     "execution_count": 375,
     "metadata": {},
     "output_type": "execute_result"
    }
   ],
   "source": [
    "movies_people_df[year_cols].head()"
   ],
   "metadata": {
    "collapsed": false,
    "ExecuteTime": {
     "end_time": "2024-03-27T06:08:56.387542Z",
     "start_time": "2024-03-27T06:08:56.264323Z"
    }
   },
   "id": "91abcf5088b1b19e",
   "execution_count": 375
  },
  {
   "cell_type": "code",
   "outputs": [
    {
     "data": {
      "text/plain": "   startYear  endYear  birthYear  deathYear\n0       1892        0       1844       1918\n1       1894        0       1867       1896\n2       1894        0       1860       1936\n3       1894        0       1878       1951\n6       1896        0       1874       1963",
      "text/html": "<div>\n<style scoped>\n    .dataframe tbody tr th:only-of-type {\n        vertical-align: middle;\n    }\n\n    .dataframe tbody tr th {\n        vertical-align: top;\n    }\n\n    .dataframe thead th {\n        text-align: right;\n    }\n</style>\n<table border=\"1\" class=\"dataframe\">\n  <thead>\n    <tr style=\"text-align: right;\">\n      <th></th>\n      <th>startYear</th>\n      <th>endYear</th>\n      <th>birthYear</th>\n      <th>deathYear</th>\n    </tr>\n  </thead>\n  <tbody>\n    <tr>\n      <th>0</th>\n      <td>1892</td>\n      <td>0</td>\n      <td>1844</td>\n      <td>1918</td>\n    </tr>\n    <tr>\n      <th>1</th>\n      <td>1894</td>\n      <td>0</td>\n      <td>1867</td>\n      <td>1896</td>\n    </tr>\n    <tr>\n      <th>2</th>\n      <td>1894</td>\n      <td>0</td>\n      <td>1860</td>\n      <td>1936</td>\n    </tr>\n    <tr>\n      <th>3</th>\n      <td>1894</td>\n      <td>0</td>\n      <td>1878</td>\n      <td>1951</td>\n    </tr>\n    <tr>\n      <th>6</th>\n      <td>1896</td>\n      <td>0</td>\n      <td>1874</td>\n      <td>1963</td>\n    </tr>\n  </tbody>\n</table>\n</div>"
     },
     "execution_count": 376,
     "metadata": {},
     "output_type": "execute_result"
    }
   ],
   "source": [
    "movies_people_df[year_cols] = movies_people_df[year_cols].astype('int64')\n",
    "\n",
    "movies_people_df[year_cols].head()"
   ],
   "metadata": {
    "collapsed": false,
    "ExecuteTime": {
     "end_time": "2024-03-27T06:08:56.693316Z",
     "start_time": "2024-03-27T06:08:56.388577Z"
    }
   },
   "id": "970c837bf56bd4ae",
   "execution_count": 376
  },
  {
   "cell_type": "code",
   "outputs": [
    {
     "name": "stdout",
     "output_type": "stream",
     "text": [
      "Column 'startYear' data type: int64\n",
      "Column 'endYear' data type: int64\n",
      "Column 'birthYear' data type: int64\n",
      "Column 'deathYear' data type: int64\n"
     ]
    }
   ],
   "source": [
    "for col in year_cols:\n",
    "    print(f\"Column '{col}' data type: {movies_people_df[col].dtype}\")"
   ],
   "metadata": {
    "collapsed": false,
    "ExecuteTime": {
     "end_time": "2024-03-27T06:08:56.697315Z",
     "start_time": "2024-03-27T06:08:56.694370Z"
    }
   },
   "id": "cd7ad562725d2d35",
   "execution_count": 377
  },
  {
   "cell_type": "markdown",
   "source": [
    "# Rename Columns"
   ],
   "metadata": {
    "collapsed": false
   },
   "id": "c9843b6d26dc291e"
  },
  {
   "cell_type": "markdown",
   "source": [
    "We can now rename all the columns to some meaningful names that can be understood right away without looking into the metadata of the data files for each of the individual datasets the columns came from. For example 'tconst' doesn't indicate what the column is about but 'media_id' does."
   ],
   "metadata": {
    "collapsed": false
   },
   "id": "48758b88edd3a799"
  },
  {
   "cell_type": "code",
   "outputs": [
    {
     "data": {
      "text/plain": "Index(['tconst', 'titleType', 'primaryTitle', 'isAdult', 'startYear',\n       'endYear', 'genre1', 'genre2', 'genre3', 'startDecade', 'averageRating',\n       'numVotes', 'nconst', 'primaryName', 'birthYear', 'deathYear',\n       'primaryProfession', 'title1', 'title2', 'title3', 'title4', 'title5',\n       'title6', 'title7'],\n      dtype='object')"
     },
     "execution_count": 378,
     "metadata": {},
     "output_type": "execute_result"
    }
   ],
   "source": [
    "movies_people_df.columns"
   ],
   "metadata": {
    "collapsed": false,
    "ExecuteTime": {
     "end_time": "2024-03-27T06:08:56.702636Z",
     "start_time": "2024-03-27T06:08:56.698377Z"
    }
   },
   "id": "a8b1959834e41e55",
   "execution_count": 378
  },
  {
   "cell_type": "code",
   "outputs": [],
   "source": [
    "rename_dict = {\n",
    "    'tconst': 'Media ID',\n",
    "    'titleType': 'Media Type',\n",
    "    'primaryTitle': 'Title',\n",
    "    'isAdult': 'Is an Adult',\n",
    "    'startYear': 'Start Year',\n",
    "    'endYear': 'End Year',\n",
    "    'genre1': 'Genre 1',\n",
    "    'genre2': 'Genre 2',\n",
    "    'genre3': 'Genre 3',\n",
    "    'startDecade': 'Start Decade',\n",
    "    'averageRating': 'Rating',\n",
    "    'numVotes': 'Number of Votes',\n",
    "    'nconst': 'Person ID',\n",
    "    'primaryName': 'Person Name',\n",
    "    'birthYear': 'Birth Year',\n",
    "    'deathYear': 'Death Year',\n",
    "    'primaryProfession': 'Profession',\n",
    "    'title1': 'Media ID 1',\n",
    "    'title2': 'Media ID 2',\n",
    "    'title3': 'Media ID 3',\n",
    "    'title4': 'Media ID 4',\n",
    "    'title5': 'Media ID 5',\n",
    "    'title6': 'Media ID 6',\n",
    "    'title7': 'Media ID 7'\n",
    "}"
   ],
   "metadata": {
    "collapsed": false,
    "ExecuteTime": {
     "end_time": "2024-03-27T06:08:56.707380Z",
     "start_time": "2024-03-27T06:08:56.703765Z"
    }
   },
   "id": "3cc2fb593a448085",
   "execution_count": 379
  },
  {
   "cell_type": "code",
   "outputs": [],
   "source": [
    "movies_people_df.rename(rename_dict, axis=1, inplace=True)"
   ],
   "metadata": {
    "collapsed": false,
    "ExecuteTime": {
     "end_time": "2024-03-27T06:08:56.711981Z",
     "start_time": "2024-03-27T06:08:56.708454Z"
    }
   },
   "id": "feee2e6cb51addde",
   "execution_count": 380
  },
  {
   "cell_type": "code",
   "outputs": [
    {
     "data": {
      "text/plain": "           Media ID Media Type                                        Title  \\\n0         tt0000003      short                               Pauvre Pierrot   \n1         tt0000007      short  Corbett and Courtney Before the Kinetograph   \n2         tt0000008      short       Edison Kinetoscopic Record of a Sneeze   \n3         tt0000009      movie                                   Miss Jerry   \n6         tt0000012      short                       The Arrival of a Train   \n...             ...        ...                                          ...   \n1904905  tt10144748    tvMovie             I Almost Married a Serial Killer   \n1904906  tt10144966      short                                   God Glitch   \n1904908  tt10145036      short                                   Repentance   \n1904909  tt10145110   tvSeries                                     Spectros   \n1904910  tt10145122      movie                           The Perfect Secret   \n\n         Is an Adult  Start Year  End Year      Genre 1   Genre 2  Genre 3  \\\n0                  0        1892         0    Animation    Comedy  Romance   \n1                  0        1894         0        Short     Sport     None   \n2                  0        1894         0  Documentary     Short     None   \n3                  0        1894         0      Romance      None     None   \n6                  0        1896         0  Documentary     Short     None   \n...              ...         ...       ...          ...       ...      ...   \n1904905            0        2019         0     Thriller      None     None   \n1904906            0        2019         0       Sci-Fi     Short     None   \n1904908            0        2020         0       Action     Short     None   \n1904909            0        2020      2020      Fantasy  Thriller     None   \n1904910            0        2019         0       Comedy     Drama  Romance   \n\n         Start Decade  ...  Birth Year  Death Year  \\\n0                1892  ...        1844        1918   \n1                1894  ...        1867        1896   \n2                1894  ...        1860        1936   \n3                1894  ...        1878        1951   \n6                1896  ...        1874        1963   \n...               ...  ...         ...         ...   \n1904905          2019  ...        1974           0   \n1904906          2019  ...        1956           0   \n1904908          2020  ...           0           0   \n1904909          2020  ...           0           0   \n1904910          2019  ...           0           0   \n\n                                     Profession  Media ID 1  Media ID 2  \\\n0        director,animation_department,producer   tt0000003  tt16763674   \n1                                         actor   tt0000007        None   \n2                            assistant_director   tt0285265   tt0000008   \n3                                       actress   tt0000009        None   \n6                                         actor   tt0222259   tt0791136   \n...                                         ...         ...         ...   \n1904905                   actor,stunts,producer  tt10144748   tt0395843   \n1904906                   writer,director,actor   tt2287574   tt2472432   \n1904908                   actor,writer,producer  tt27041332  tt28710326   \n1904909               composer,music_department   tt1059921  tt12669684   \n1904910   producer,production_manager,executive  tt10145122   tt1859650   \n\n         Media ID 3  Media ID 4 Media ID 5 Media ID 6 Media ID 7  \n0        tt16763740  tt13125956       None       None       None  \n1              None        None       None       None       None  \n2         tt0240514        None       None       None       None  \n3              None        None       None       None       None  \n6         tt0000012   tt0221930       None       None       None  \n...             ...         ...        ...        ...        ...  \n1904905   tt6970616   tt1600194       None       None       None  \n1904906  tt11336886  tt10144966       None       None       None  \n1904908   tt9046896  tt10145036       None       None       None  \n1904909  tt10145110   tt7579474       None       None       None  \n1904910   tt0086026   tt0079971       None       None       None  \n\n[191822 rows x 24 columns]",
      "text/html": "<div>\n<style scoped>\n    .dataframe tbody tr th:only-of-type {\n        vertical-align: middle;\n    }\n\n    .dataframe tbody tr th {\n        vertical-align: top;\n    }\n\n    .dataframe thead th {\n        text-align: right;\n    }\n</style>\n<table border=\"1\" class=\"dataframe\">\n  <thead>\n    <tr style=\"text-align: right;\">\n      <th></th>\n      <th>Media ID</th>\n      <th>Media Type</th>\n      <th>Title</th>\n      <th>Is an Adult</th>\n      <th>Start Year</th>\n      <th>End Year</th>\n      <th>Genre 1</th>\n      <th>Genre 2</th>\n      <th>Genre 3</th>\n      <th>Start Decade</th>\n      <th>...</th>\n      <th>Birth Year</th>\n      <th>Death Year</th>\n      <th>Profession</th>\n      <th>Media ID 1</th>\n      <th>Media ID 2</th>\n      <th>Media ID 3</th>\n      <th>Media ID 4</th>\n      <th>Media ID 5</th>\n      <th>Media ID 6</th>\n      <th>Media ID 7</th>\n    </tr>\n  </thead>\n  <tbody>\n    <tr>\n      <th>0</th>\n      <td>tt0000003</td>\n      <td>short</td>\n      <td>Pauvre Pierrot</td>\n      <td>0</td>\n      <td>1892</td>\n      <td>0</td>\n      <td>Animation</td>\n      <td>Comedy</td>\n      <td>Romance</td>\n      <td>1892</td>\n      <td>...</td>\n      <td>1844</td>\n      <td>1918</td>\n      <td>director,animation_department,producer</td>\n      <td>tt0000003</td>\n      <td>tt16763674</td>\n      <td>tt16763740</td>\n      <td>tt13125956</td>\n      <td>None</td>\n      <td>None</td>\n      <td>None</td>\n    </tr>\n    <tr>\n      <th>1</th>\n      <td>tt0000007</td>\n      <td>short</td>\n      <td>Corbett and Courtney Before the Kinetograph</td>\n      <td>0</td>\n      <td>1894</td>\n      <td>0</td>\n      <td>Short</td>\n      <td>Sport</td>\n      <td>None</td>\n      <td>1894</td>\n      <td>...</td>\n      <td>1867</td>\n      <td>1896</td>\n      <td>actor</td>\n      <td>tt0000007</td>\n      <td>None</td>\n      <td>None</td>\n      <td>None</td>\n      <td>None</td>\n      <td>None</td>\n      <td>None</td>\n    </tr>\n    <tr>\n      <th>2</th>\n      <td>tt0000008</td>\n      <td>short</td>\n      <td>Edison Kinetoscopic Record of a Sneeze</td>\n      <td>0</td>\n      <td>1894</td>\n      <td>0</td>\n      <td>Documentary</td>\n      <td>Short</td>\n      <td>None</td>\n      <td>1894</td>\n      <td>...</td>\n      <td>1860</td>\n      <td>1936</td>\n      <td>assistant_director</td>\n      <td>tt0285265</td>\n      <td>tt0000008</td>\n      <td>tt0240514</td>\n      <td>None</td>\n      <td>None</td>\n      <td>None</td>\n      <td>None</td>\n    </tr>\n    <tr>\n      <th>3</th>\n      <td>tt0000009</td>\n      <td>movie</td>\n      <td>Miss Jerry</td>\n      <td>0</td>\n      <td>1894</td>\n      <td>0</td>\n      <td>Romance</td>\n      <td>None</td>\n      <td>None</td>\n      <td>1894</td>\n      <td>...</td>\n      <td>1878</td>\n      <td>1951</td>\n      <td>actress</td>\n      <td>tt0000009</td>\n      <td>None</td>\n      <td>None</td>\n      <td>None</td>\n      <td>None</td>\n      <td>None</td>\n      <td>None</td>\n    </tr>\n    <tr>\n      <th>6</th>\n      <td>tt0000012</td>\n      <td>short</td>\n      <td>The Arrival of a Train</td>\n      <td>0</td>\n      <td>1896</td>\n      <td>0</td>\n      <td>Documentary</td>\n      <td>Short</td>\n      <td>None</td>\n      <td>1896</td>\n      <td>...</td>\n      <td>1874</td>\n      <td>1963</td>\n      <td>actor</td>\n      <td>tt0222259</td>\n      <td>tt0791136</td>\n      <td>tt0000012</td>\n      <td>tt0221930</td>\n      <td>None</td>\n      <td>None</td>\n      <td>None</td>\n    </tr>\n    <tr>\n      <th>...</th>\n      <td>...</td>\n      <td>...</td>\n      <td>...</td>\n      <td>...</td>\n      <td>...</td>\n      <td>...</td>\n      <td>...</td>\n      <td>...</td>\n      <td>...</td>\n      <td>...</td>\n      <td>...</td>\n      <td>...</td>\n      <td>...</td>\n      <td>...</td>\n      <td>...</td>\n      <td>...</td>\n      <td>...</td>\n      <td>...</td>\n      <td>...</td>\n      <td>...</td>\n      <td>...</td>\n    </tr>\n    <tr>\n      <th>1904905</th>\n      <td>tt10144748</td>\n      <td>tvMovie</td>\n      <td>I Almost Married a Serial Killer</td>\n      <td>0</td>\n      <td>2019</td>\n      <td>0</td>\n      <td>Thriller</td>\n      <td>None</td>\n      <td>None</td>\n      <td>2019</td>\n      <td>...</td>\n      <td>1974</td>\n      <td>0</td>\n      <td>actor,stunts,producer</td>\n      <td>tt10144748</td>\n      <td>tt0395843</td>\n      <td>tt6970616</td>\n      <td>tt1600194</td>\n      <td>None</td>\n      <td>None</td>\n      <td>None</td>\n    </tr>\n    <tr>\n      <th>1904906</th>\n      <td>tt10144966</td>\n      <td>short</td>\n      <td>God Glitch</td>\n      <td>0</td>\n      <td>2019</td>\n      <td>0</td>\n      <td>Sci-Fi</td>\n      <td>Short</td>\n      <td>None</td>\n      <td>2019</td>\n      <td>...</td>\n      <td>1956</td>\n      <td>0</td>\n      <td>writer,director,actor</td>\n      <td>tt2287574</td>\n      <td>tt2472432</td>\n      <td>tt11336886</td>\n      <td>tt10144966</td>\n      <td>None</td>\n      <td>None</td>\n      <td>None</td>\n    </tr>\n    <tr>\n      <th>1904908</th>\n      <td>tt10145036</td>\n      <td>short</td>\n      <td>Repentance</td>\n      <td>0</td>\n      <td>2020</td>\n      <td>0</td>\n      <td>Action</td>\n      <td>Short</td>\n      <td>None</td>\n      <td>2020</td>\n      <td>...</td>\n      <td>0</td>\n      <td>0</td>\n      <td>actor,writer,producer</td>\n      <td>tt27041332</td>\n      <td>tt28710326</td>\n      <td>tt9046896</td>\n      <td>tt10145036</td>\n      <td>None</td>\n      <td>None</td>\n      <td>None</td>\n    </tr>\n    <tr>\n      <th>1904909</th>\n      <td>tt10145110</td>\n      <td>tvSeries</td>\n      <td>Spectros</td>\n      <td>0</td>\n      <td>2020</td>\n      <td>2020</td>\n      <td>Fantasy</td>\n      <td>Thriller</td>\n      <td>None</td>\n      <td>2020</td>\n      <td>...</td>\n      <td>0</td>\n      <td>0</td>\n      <td>composer,music_department</td>\n      <td>tt1059921</td>\n      <td>tt12669684</td>\n      <td>tt10145110</td>\n      <td>tt7579474</td>\n      <td>None</td>\n      <td>None</td>\n      <td>None</td>\n    </tr>\n    <tr>\n      <th>1904910</th>\n      <td>tt10145122</td>\n      <td>movie</td>\n      <td>The Perfect Secret</td>\n      <td>0</td>\n      <td>2019</td>\n      <td>0</td>\n      <td>Comedy</td>\n      <td>Drama</td>\n      <td>Romance</td>\n      <td>2019</td>\n      <td>...</td>\n      <td>0</td>\n      <td>0</td>\n      <td>producer,production_manager,executive</td>\n      <td>tt10145122</td>\n      <td>tt1859650</td>\n      <td>tt0086026</td>\n      <td>tt0079971</td>\n      <td>None</td>\n      <td>None</td>\n      <td>None</td>\n    </tr>\n  </tbody>\n</table>\n<p>191822 rows × 24 columns</p>\n</div>"
     },
     "execution_count": 381,
     "metadata": {},
     "output_type": "execute_result"
    }
   ],
   "source": [
    "movies_people_df"
   ],
   "metadata": {
    "collapsed": false,
    "ExecuteTime": {
     "end_time": "2024-03-27T06:08:56.991258Z",
     "start_time": "2024-03-27T06:08:56.713084Z"
    }
   },
   "id": "d853b3d9c5414d80",
   "execution_count": 381
  },
  {
   "cell_type": "markdown",
   "id": "1751b58f",
   "metadata": {},
   "source": [
    "## Top 10 rated movies (based on ratings then # of votes)"
   ]
  },
  {
   "cell_type": "code",
   "outputs": [
    {
     "data": {
      "text/plain": "          Media ID Media Type  \\\n1409376  tt0219735      movie   \n748470   tt0103649      movie   \n198928   tt0057092      movie   \n1749394  tt0410436      movie   \n1154380  tt0143768      movie   \n1901630  tt0997212      movie   \n970902   tt0117319      movie   \n1550877  tt0276876      movie   \n1827113  tt0486820      movie   \n1859215  tt0808474      movie   \n\n                                                     Title  Is an Adult  \\\n1409376                                     The Last Enemy            0   \n748470                                       All I Know Is            0   \n198928                                               Gauri            0   \n1749394                                 The People's Story            0   \n1154380                                   Nicole's Revenge            1   \n1901630                                   Cafe Coexistence            0   \n970902                                    Pepper's Pow Wow            0   \n1550877                        Against Reason and by Force            0   \n1827113                                    Di bale na lang            0   \n1859215  Soul of Justice: Thelton Henderson's American ...            0   \n\n         Start Year  End Year      Genre 1  Genre 2  Genre 3  Start Decade  \\\n1409376        1999         0  Documentary     None     None          1999   \n748470         1992         0        Drama     None     None          1992   \n198928         1963         0        Drama     None     None          1963   \n1749394        2000         0  Documentary  History     None          2000   \n1154380        1995         0        Adult     None     None          1995   \n1901630        2009         0       Comedy    Drama     None          2009   \n970902         1996         0  Documentary     None     None          1996   \n1550877        1974         0  Documentary     None     None          1974   \n1827113        1987         0       Action   Comedy  Musical          1987   \n1859215        2005         0  Documentary     None     None          2005   \n\n         ...  Birth Year  Death Year                   Profession Media ID 1  \\\n1409376  ...           0           0     director,writer,producer  tt0395172   \n748470   ...        1960        2008                        actor  tt0097031   \n198928   ...           0           0              director,writer  tt1414542   \n1749394  ...           0           0  editor,editorial_department  tt1556600   \n1154380  ...           0           0                      actress  tt0143768   \n1901630  ...           0           0                        actor  tt0139765   \n970902   ...        1941           0     director,writer,producer  tt0117319   \n1550877  ...           0           0       director,writer,editor  tt0084222   \n1827113  ...           0           0     make_up_department,actor  tt0486820   \n1859215  ...        1938        2020                miscellaneous  tt0101666   \n\n         Media ID 2  Media ID 3 Media ID 4 Media ID 5 Media ID 6 Media ID 7  \n1409376  tt21637900   tt0219735  tt4794512       None       None       None  \n748470    tt0103649   tt0095194  tt0097281       None       None       None  \n198928    tt0369680   tt1414529  tt0057092       None       None       None  \n1749394   tt0110395   tt0482543  tt0410436       None       None       None  \n1154380        None        None       None       None       None       None  \n1901630   tt1031576   tt0997212  tt0261656       None       None       None  \n970902    tt1143905   tt0113657  tt0246125       None       None       None  \n1550877   tt0471961   tt0991271  tt0276876       None       None       None  \n1827113   tt0113082   tt0318446  tt0125044       None       None       None  \n1859215   tt0808474  tt11014804       None       None       None       None  \n\n[10 rows x 24 columns]",
      "text/html": "<div>\n<style scoped>\n    .dataframe tbody tr th:only-of-type {\n        vertical-align: middle;\n    }\n\n    .dataframe tbody tr th {\n        vertical-align: top;\n    }\n\n    .dataframe thead th {\n        text-align: right;\n    }\n</style>\n<table border=\"1\" class=\"dataframe\">\n  <thead>\n    <tr style=\"text-align: right;\">\n      <th></th>\n      <th>Media ID</th>\n      <th>Media Type</th>\n      <th>Title</th>\n      <th>Is an Adult</th>\n      <th>Start Year</th>\n      <th>End Year</th>\n      <th>Genre 1</th>\n      <th>Genre 2</th>\n      <th>Genre 3</th>\n      <th>Start Decade</th>\n      <th>...</th>\n      <th>Birth Year</th>\n      <th>Death Year</th>\n      <th>Profession</th>\n      <th>Media ID 1</th>\n      <th>Media ID 2</th>\n      <th>Media ID 3</th>\n      <th>Media ID 4</th>\n      <th>Media ID 5</th>\n      <th>Media ID 6</th>\n      <th>Media ID 7</th>\n    </tr>\n  </thead>\n  <tbody>\n    <tr>\n      <th>1409376</th>\n      <td>tt0219735</td>\n      <td>movie</td>\n      <td>The Last Enemy</td>\n      <td>0</td>\n      <td>1999</td>\n      <td>0</td>\n      <td>Documentary</td>\n      <td>None</td>\n      <td>None</td>\n      <td>1999</td>\n      <td>...</td>\n      <td>0</td>\n      <td>0</td>\n      <td>director,writer,producer</td>\n      <td>tt0395172</td>\n      <td>tt21637900</td>\n      <td>tt0219735</td>\n      <td>tt4794512</td>\n      <td>None</td>\n      <td>None</td>\n      <td>None</td>\n    </tr>\n    <tr>\n      <th>748470</th>\n      <td>tt0103649</td>\n      <td>movie</td>\n      <td>All I Know Is</td>\n      <td>0</td>\n      <td>1992</td>\n      <td>0</td>\n      <td>Drama</td>\n      <td>None</td>\n      <td>None</td>\n      <td>1992</td>\n      <td>...</td>\n      <td>1960</td>\n      <td>2008</td>\n      <td>actor</td>\n      <td>tt0097031</td>\n      <td>tt0103649</td>\n      <td>tt0095194</td>\n      <td>tt0097281</td>\n      <td>None</td>\n      <td>None</td>\n      <td>None</td>\n    </tr>\n    <tr>\n      <th>198928</th>\n      <td>tt0057092</td>\n      <td>movie</td>\n      <td>Gauri</td>\n      <td>0</td>\n      <td>1963</td>\n      <td>0</td>\n      <td>Drama</td>\n      <td>None</td>\n      <td>None</td>\n      <td>1963</td>\n      <td>...</td>\n      <td>0</td>\n      <td>0</td>\n      <td>director,writer</td>\n      <td>tt1414542</td>\n      <td>tt0369680</td>\n      <td>tt1414529</td>\n      <td>tt0057092</td>\n      <td>None</td>\n      <td>None</td>\n      <td>None</td>\n    </tr>\n    <tr>\n      <th>1749394</th>\n      <td>tt0410436</td>\n      <td>movie</td>\n      <td>The People's Story</td>\n      <td>0</td>\n      <td>2000</td>\n      <td>0</td>\n      <td>Documentary</td>\n      <td>History</td>\n      <td>None</td>\n      <td>2000</td>\n      <td>...</td>\n      <td>0</td>\n      <td>0</td>\n      <td>editor,editorial_department</td>\n      <td>tt1556600</td>\n      <td>tt0110395</td>\n      <td>tt0482543</td>\n      <td>tt0410436</td>\n      <td>None</td>\n      <td>None</td>\n      <td>None</td>\n    </tr>\n    <tr>\n      <th>1154380</th>\n      <td>tt0143768</td>\n      <td>movie</td>\n      <td>Nicole's Revenge</td>\n      <td>1</td>\n      <td>1995</td>\n      <td>0</td>\n      <td>Adult</td>\n      <td>None</td>\n      <td>None</td>\n      <td>1995</td>\n      <td>...</td>\n      <td>0</td>\n      <td>0</td>\n      <td>actress</td>\n      <td>tt0143768</td>\n      <td>None</td>\n      <td>None</td>\n      <td>None</td>\n      <td>None</td>\n      <td>None</td>\n      <td>None</td>\n    </tr>\n    <tr>\n      <th>1901630</th>\n      <td>tt0997212</td>\n      <td>movie</td>\n      <td>Cafe Coexistence</td>\n      <td>0</td>\n      <td>2009</td>\n      <td>0</td>\n      <td>Comedy</td>\n      <td>Drama</td>\n      <td>None</td>\n      <td>2009</td>\n      <td>...</td>\n      <td>0</td>\n      <td>0</td>\n      <td>actor</td>\n      <td>tt0139765</td>\n      <td>tt1031576</td>\n      <td>tt0997212</td>\n      <td>tt0261656</td>\n      <td>None</td>\n      <td>None</td>\n      <td>None</td>\n    </tr>\n    <tr>\n      <th>970902</th>\n      <td>tt0117319</td>\n      <td>movie</td>\n      <td>Pepper's Pow Wow</td>\n      <td>0</td>\n      <td>1996</td>\n      <td>0</td>\n      <td>Documentary</td>\n      <td>None</td>\n      <td>None</td>\n      <td>1996</td>\n      <td>...</td>\n      <td>1941</td>\n      <td>0</td>\n      <td>director,writer,producer</td>\n      <td>tt0117319</td>\n      <td>tt1143905</td>\n      <td>tt0113657</td>\n      <td>tt0246125</td>\n      <td>None</td>\n      <td>None</td>\n      <td>None</td>\n    </tr>\n    <tr>\n      <th>1550877</th>\n      <td>tt0276876</td>\n      <td>movie</td>\n      <td>Against Reason and by Force</td>\n      <td>0</td>\n      <td>1974</td>\n      <td>0</td>\n      <td>Documentary</td>\n      <td>None</td>\n      <td>None</td>\n      <td>1974</td>\n      <td>...</td>\n      <td>0</td>\n      <td>0</td>\n      <td>director,writer,editor</td>\n      <td>tt0084222</td>\n      <td>tt0471961</td>\n      <td>tt0991271</td>\n      <td>tt0276876</td>\n      <td>None</td>\n      <td>None</td>\n      <td>None</td>\n    </tr>\n    <tr>\n      <th>1827113</th>\n      <td>tt0486820</td>\n      <td>movie</td>\n      <td>Di bale na lang</td>\n      <td>0</td>\n      <td>1987</td>\n      <td>0</td>\n      <td>Action</td>\n      <td>Comedy</td>\n      <td>Musical</td>\n      <td>1987</td>\n      <td>...</td>\n      <td>0</td>\n      <td>0</td>\n      <td>make_up_department,actor</td>\n      <td>tt0486820</td>\n      <td>tt0113082</td>\n      <td>tt0318446</td>\n      <td>tt0125044</td>\n      <td>None</td>\n      <td>None</td>\n      <td>None</td>\n    </tr>\n    <tr>\n      <th>1859215</th>\n      <td>tt0808474</td>\n      <td>movie</td>\n      <td>Soul of Justice: Thelton Henderson's American ...</td>\n      <td>0</td>\n      <td>2005</td>\n      <td>0</td>\n      <td>Documentary</td>\n      <td>None</td>\n      <td>None</td>\n      <td>2005</td>\n      <td>...</td>\n      <td>1938</td>\n      <td>2020</td>\n      <td>miscellaneous</td>\n      <td>tt0101666</td>\n      <td>tt0808474</td>\n      <td>tt11014804</td>\n      <td>None</td>\n      <td>None</td>\n      <td>None</td>\n      <td>None</td>\n    </tr>\n  </tbody>\n</table>\n<p>10 rows × 24 columns</p>\n</div>"
     },
     "execution_count": 392,
     "metadata": {},
     "output_type": "execute_result"
    }
   ],
   "source": [
    "sorted_movies_df = movies_people_df[movies_people_df['Media Type'] == 'movie'].sort_values(\n",
    "    by=['Rating', 'Number of Votes'], ascending=[False, False])\n",
    "\n",
    "top_10_movies = sorted_movies_df.head(10)\n",
    "\n",
    "top_10_movies"
   ],
   "metadata": {
    "collapsed": false,
    "ExecuteTime": {
     "end_time": "2024-03-27T06:25:45.334736Z",
     "start_time": "2024-03-27T06:25:45.112400Z"
    }
   },
   "id": "fdbe9a7dec03b1ab",
   "execution_count": 392
  },
  {
   "cell_type": "markdown",
   "id": "f768ff62",
   "metadata": {},
   "source": [
    "## Top 10 actors (by most movies with highest ratings)"
   ]
  },
  {
   "cell_type": "code",
   "outputs": [
    {
     "data": {
      "text/plain": "         Media ID Media Type                  Title  Is an Adult  Start Year  \\\n24738   tt0022789      movie                Crooner            0        1932   \n73925   tt0037768      movie        Hazugság nélkül            0        1946   \n81276   tt0039390      movie  For the Love of Rusty            0        1947   \n84689   tt0040053   tvSeries   The Ed Sullivan Show            0        1948   \n93557   tt0041833      movie     Rusty Saves a Life            0        1949   \n191712  tt0056540      movie     The Flamboyant Sex            0        1962   \n360986  tt0076500      movie             One on One            0        1977   \n524004  tt0089389      movie               Juexiang            0        1986   \n704217  tt0100705      movie          Street Asylum            0        1990   \n715150  tt0101414      movie   Beauty and the Beast            0        1991   \n\n        End Year    Genre 1    Genre 2   Genre 3  Start Decade  ...  \\\n24738          0     Comedy      Drama     Music          1932  ...   \n73925          0      Drama       None      None          1946  ...   \n81276          0  Adventure      Drama      None          1947  ...   \n84689       1971      Music  Talk-Show      None          1948  ...   \n93557          0      Drama       None      None          1949  ...   \n191712         0     Comedy      Drama      None          1962  ...   \n360986         0      Drama      Sport      None          1977  ...   \n524004         0      Drama       None      None          1986  ...   \n704217         0     Action     Sci-Fi  Thriller          1990  ...   \n715150         0  Animation     Family   Fantasy          1991  ...   \n\n        Birth Year  Death Year                         Profession  Media ID 1  \\\n24738         1904        1941                   soundtrack,actor   tt0024937   \n73925            0           0  actor,production_manager,producer   tt0037768   \n81276         1933        2023                              actor   tt0041833   \n84689         1956           0          actor,director,soundtrack   tt0108778   \n93557         1933        2023                              actor   tt0041833   \n191712           0           0                              actor   tt0056540   \n360986        1956           0          actor,director,soundtrack   tt0108778   \n524004           0           0                              actor   tt7335754   \n704217        1950           0              actor,writer,producer  tt15432574   \n715150        1956           0          actor,director,soundtrack   tt0108778   \n\n        Media ID 2  Media ID 3 Media ID 4 Media ID 5 Media ID 6 Media ID 7  \n24738    tt0022789   tt0025698  tt0126332       None       None       None  \n73925    tt0028515   tt0030511  tt0027942       None       None       None  \n81276    tt0038190   tt0299112  tt0039390       None       None       None  \n84689    tt0040053   tt0076500  tt0101414       None       None       None  \n93557    tt0038190   tt0299112  tt0039390       None       None       None  \n191712        None        None       None       None       None       None  \n360986   tt0040053   tt0076500  tt0101414       None       None       None  \n524004   tt0089389        None       None       None       None       None  \n704217   tt0100705   tt0371008  tt0086984       None       None       None  \n715150   tt0040053   tt0076500  tt0101414       None       None       None  \n\n[10 rows x 24 columns]",
      "text/html": "<div>\n<style scoped>\n    .dataframe tbody tr th:only-of-type {\n        vertical-align: middle;\n    }\n\n    .dataframe tbody tr th {\n        vertical-align: top;\n    }\n\n    .dataframe thead th {\n        text-align: right;\n    }\n</style>\n<table border=\"1\" class=\"dataframe\">\n  <thead>\n    <tr style=\"text-align: right;\">\n      <th></th>\n      <th>Media ID</th>\n      <th>Media Type</th>\n      <th>Title</th>\n      <th>Is an Adult</th>\n      <th>Start Year</th>\n      <th>End Year</th>\n      <th>Genre 1</th>\n      <th>Genre 2</th>\n      <th>Genre 3</th>\n      <th>Start Decade</th>\n      <th>...</th>\n      <th>Birth Year</th>\n      <th>Death Year</th>\n      <th>Profession</th>\n      <th>Media ID 1</th>\n      <th>Media ID 2</th>\n      <th>Media ID 3</th>\n      <th>Media ID 4</th>\n      <th>Media ID 5</th>\n      <th>Media ID 6</th>\n      <th>Media ID 7</th>\n    </tr>\n  </thead>\n  <tbody>\n    <tr>\n      <th>24738</th>\n      <td>tt0022789</td>\n      <td>movie</td>\n      <td>Crooner</td>\n      <td>0</td>\n      <td>1932</td>\n      <td>0</td>\n      <td>Comedy</td>\n      <td>Drama</td>\n      <td>Music</td>\n      <td>1932</td>\n      <td>...</td>\n      <td>1904</td>\n      <td>1941</td>\n      <td>soundtrack,actor</td>\n      <td>tt0024937</td>\n      <td>tt0022789</td>\n      <td>tt0025698</td>\n      <td>tt0126332</td>\n      <td>None</td>\n      <td>None</td>\n      <td>None</td>\n    </tr>\n    <tr>\n      <th>73925</th>\n      <td>tt0037768</td>\n      <td>movie</td>\n      <td>Hazugság nélkül</td>\n      <td>0</td>\n      <td>1946</td>\n      <td>0</td>\n      <td>Drama</td>\n      <td>None</td>\n      <td>None</td>\n      <td>1946</td>\n      <td>...</td>\n      <td>0</td>\n      <td>0</td>\n      <td>actor,production_manager,producer</td>\n      <td>tt0037768</td>\n      <td>tt0028515</td>\n      <td>tt0030511</td>\n      <td>tt0027942</td>\n      <td>None</td>\n      <td>None</td>\n      <td>None</td>\n    </tr>\n    <tr>\n      <th>81276</th>\n      <td>tt0039390</td>\n      <td>movie</td>\n      <td>For the Love of Rusty</td>\n      <td>0</td>\n      <td>1947</td>\n      <td>0</td>\n      <td>Adventure</td>\n      <td>Drama</td>\n      <td>None</td>\n      <td>1947</td>\n      <td>...</td>\n      <td>1933</td>\n      <td>2023</td>\n      <td>actor</td>\n      <td>tt0041833</td>\n      <td>tt0038190</td>\n      <td>tt0299112</td>\n      <td>tt0039390</td>\n      <td>None</td>\n      <td>None</td>\n      <td>None</td>\n    </tr>\n    <tr>\n      <th>84689</th>\n      <td>tt0040053</td>\n      <td>tvSeries</td>\n      <td>The Ed Sullivan Show</td>\n      <td>0</td>\n      <td>1948</td>\n      <td>1971</td>\n      <td>Music</td>\n      <td>Talk-Show</td>\n      <td>None</td>\n      <td>1948</td>\n      <td>...</td>\n      <td>1956</td>\n      <td>0</td>\n      <td>actor,director,soundtrack</td>\n      <td>tt0108778</td>\n      <td>tt0040053</td>\n      <td>tt0076500</td>\n      <td>tt0101414</td>\n      <td>None</td>\n      <td>None</td>\n      <td>None</td>\n    </tr>\n    <tr>\n      <th>93557</th>\n      <td>tt0041833</td>\n      <td>movie</td>\n      <td>Rusty Saves a Life</td>\n      <td>0</td>\n      <td>1949</td>\n      <td>0</td>\n      <td>Drama</td>\n      <td>None</td>\n      <td>None</td>\n      <td>1949</td>\n      <td>...</td>\n      <td>1933</td>\n      <td>2023</td>\n      <td>actor</td>\n      <td>tt0041833</td>\n      <td>tt0038190</td>\n      <td>tt0299112</td>\n      <td>tt0039390</td>\n      <td>None</td>\n      <td>None</td>\n      <td>None</td>\n    </tr>\n    <tr>\n      <th>191712</th>\n      <td>tt0056540</td>\n      <td>movie</td>\n      <td>The Flamboyant Sex</td>\n      <td>0</td>\n      <td>1962</td>\n      <td>0</td>\n      <td>Comedy</td>\n      <td>Drama</td>\n      <td>None</td>\n      <td>1962</td>\n      <td>...</td>\n      <td>0</td>\n      <td>0</td>\n      <td>actor</td>\n      <td>tt0056540</td>\n      <td>None</td>\n      <td>None</td>\n      <td>None</td>\n      <td>None</td>\n      <td>None</td>\n      <td>None</td>\n    </tr>\n    <tr>\n      <th>360986</th>\n      <td>tt0076500</td>\n      <td>movie</td>\n      <td>One on One</td>\n      <td>0</td>\n      <td>1977</td>\n      <td>0</td>\n      <td>Drama</td>\n      <td>Sport</td>\n      <td>None</td>\n      <td>1977</td>\n      <td>...</td>\n      <td>1956</td>\n      <td>0</td>\n      <td>actor,director,soundtrack</td>\n      <td>tt0108778</td>\n      <td>tt0040053</td>\n      <td>tt0076500</td>\n      <td>tt0101414</td>\n      <td>None</td>\n      <td>None</td>\n      <td>None</td>\n    </tr>\n    <tr>\n      <th>524004</th>\n      <td>tt0089389</td>\n      <td>movie</td>\n      <td>Juexiang</td>\n      <td>0</td>\n      <td>1986</td>\n      <td>0</td>\n      <td>Drama</td>\n      <td>None</td>\n      <td>None</td>\n      <td>1986</td>\n      <td>...</td>\n      <td>0</td>\n      <td>0</td>\n      <td>actor</td>\n      <td>tt7335754</td>\n      <td>tt0089389</td>\n      <td>None</td>\n      <td>None</td>\n      <td>None</td>\n      <td>None</td>\n      <td>None</td>\n    </tr>\n    <tr>\n      <th>704217</th>\n      <td>tt0100705</td>\n      <td>movie</td>\n      <td>Street Asylum</td>\n      <td>0</td>\n      <td>1990</td>\n      <td>0</td>\n      <td>Action</td>\n      <td>Sci-Fi</td>\n      <td>Thriller</td>\n      <td>1990</td>\n      <td>...</td>\n      <td>1950</td>\n      <td>0</td>\n      <td>actor,writer,producer</td>\n      <td>tt15432574</td>\n      <td>tt0100705</td>\n      <td>tt0371008</td>\n      <td>tt0086984</td>\n      <td>None</td>\n      <td>None</td>\n      <td>None</td>\n    </tr>\n    <tr>\n      <th>715150</th>\n      <td>tt0101414</td>\n      <td>movie</td>\n      <td>Beauty and the Beast</td>\n      <td>0</td>\n      <td>1991</td>\n      <td>0</td>\n      <td>Animation</td>\n      <td>Family</td>\n      <td>Fantasy</td>\n      <td>1991</td>\n      <td>...</td>\n      <td>1956</td>\n      <td>0</td>\n      <td>actor,director,soundtrack</td>\n      <td>tt0108778</td>\n      <td>tt0040053</td>\n      <td>tt0076500</td>\n      <td>tt0101414</td>\n      <td>None</td>\n      <td>None</td>\n      <td>None</td>\n    </tr>\n  </tbody>\n</table>\n<p>10 rows × 24 columns</p>\n</div>"
     },
     "execution_count": 410,
     "metadata": {},
     "output_type": "execute_result"
    }
   ],
   "source": [
    "unique_actors = set()\n",
    "\n",
    "for index, row in sorted_movies_df.iterrows():\n",
    "    if 'actor' in row['Profession']:\n",
    "        unique_actors.update(row['Person ID'].split(','))\n",
    "\n",
    "top_10_actors = list(unique_actors)[:10]\n",
    "\n",
    "movies_people_df[movies_people_df['Person ID'].isin(top_10_actors)][:10]"
   ],
   "metadata": {
    "collapsed": false,
    "ExecuteTime": {
     "end_time": "2024-03-27T06:43:27.546179Z",
     "start_time": "2024-03-27T06:43:22.175078Z"
    }
   },
   "id": "8ab6acaf3257ab4a",
   "execution_count": 410
  },
  {
   "cell_type": "markdown",
   "id": "00a31214",
   "metadata": {},
   "source": [
    "## Top 10 movies by decades"
   ]
  },
  {
   "cell_type": "code",
   "outputs": [],
   "source": [],
   "metadata": {
    "collapsed": false,
    "ExecuteTime": {
     "end_time": "2024-03-27T06:41:43.122161Z",
     "start_time": "2024-03-27T06:41:43.119933Z"
    }
   },
   "id": "9ac1da102f121ee1",
   "execution_count": 406
  },
  {
   "cell_type": "markdown",
   "id": "fba8e6bd",
   "metadata": {},
   "source": [
    "## Top genres overall and by decades"
   ]
  },
  {
   "cell_type": "code",
   "outputs": [],
   "source": [],
   "metadata": {
    "collapsed": false,
    "ExecuteTime": {
     "end_time": "2024-03-27T06:08:57.191215Z",
     "start_time": "2024-03-27T06:08:57.188980Z"
    }
   },
   "id": "963ceff185b97a32",
   "execution_count": 382
  }
 ],
 "metadata": {
  "kernelspec": {
   "display_name": "Python 3",
   "language": "python",
   "name": "python3"
  },
  "language_info": {
   "codemirror_mode": {
    "name": "ipython",
    "version": 3
   },
   "file_extension": ".py",
   "mimetype": "text/x-python",
   "name": "python",
   "nbconvert_exporter": "python",
   "pygments_lexer": "ipython3",
   "version": "3.11.4"
  }
 },
 "nbformat": 4,
 "nbformat_minor": 5
}
